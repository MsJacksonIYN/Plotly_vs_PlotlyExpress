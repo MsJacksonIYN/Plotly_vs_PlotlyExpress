{
 "cells": [
  {
   "cell_type": "markdown",
   "metadata": {},
   "source": [
    "### Links to data "
   ]
  },
  {
   "cell_type": "code",
   "execution_count": null,
   "metadata": {},
   "outputs": [],
   "source": [
    "'https://data.oecd.org/healthstat/infant-mortality-rates.htm#indicator-chart'\n",
    "'https://data.oecd.org/healthres/health-spending.htm#indicator-chart'\n",
    "'https://data.oecd.org/healthres/doctors.htm#indicator-chart'"
   ]
  },
  {
   "cell_type": "markdown",
   "metadata": {},
   "source": [
    "## Data Cleanup"
   ]
  },
  {
   "cell_type": "code",
   "execution_count": 11,
   "metadata": {},
   "outputs": [],
   "source": [
    "import pandas as pd\n",
    "import matplotlib.pyplot as plt\n",
    "%matplotlib inline"
   ]
  },
  {
   "cell_type": "code",
   "execution_count": 19,
   "metadata": {},
   "outputs": [],
   "source": [
    "import plotly.graph_objs as go\n",
    "from plotly.offline import download_plotlyjs, init_notebook_mode, plot, iplot\n",
    "import cufflinks as cf"
   ]
  },
  {
   "cell_type": "code",
   "execution_count": 26,
   "metadata": {},
   "outputs": [],
   "source": [
    "from IPython.display import display, HTML"
   ]
  },
  {
   "cell_type": "code",
   "execution_count": 20,
   "metadata": {},
   "outputs": [
    {
     "data": {
      "text/html": [
       "<script type=\"text/javascript\">window.PlotlyConfig = {MathJaxConfig: 'local'};</script><script type=\"text/javascript\">if (window.MathJax) {MathJax.Hub.Config({SVG: {font: \"STIX-Web\"}});}</script><script>requirejs.config({paths: { 'plotly': ['https://cdn.plot.ly/plotly-latest.min']},});if(!window._Plotly) {require(['plotly'],function(plotly) {window._Plotly=plotly;});}</script>"
      ],
      "text/vnd.plotly.v1+html": [
       "<script type=\"text/javascript\">window.PlotlyConfig = {MathJaxConfig: 'local'};</script><script type=\"text/javascript\">if (window.MathJax) {MathJax.Hub.Config({SVG: {font: \"STIX-Web\"}});}</script><script>requirejs.config({paths: { 'plotly': ['https://cdn.plot.ly/plotly-latest.min']},});if(!window._Plotly) {require(['plotly'],function(plotly) {window._Plotly=plotly;});}</script>"
      ]
     },
     "metadata": {},
     "output_type": "display_data"
    }
   ],
   "source": [
    "init_notebook_mode(connected=True)"
   ]
  },
  {
   "cell_type": "code",
   "execution_count": 21,
   "metadata": {},
   "outputs": [
    {
     "data": {
      "text/html": [
       "<script type=\"text/javascript\">window.PlotlyConfig = {MathJaxConfig: 'local'};</script><script type=\"text/javascript\">if (window.MathJax) {MathJax.Hub.Config({SVG: {font: \"STIX-Web\"}});}</script><script>requirejs.config({paths: { 'plotly': ['https://cdn.plot.ly/plotly-latest.min']},});if(!window._Plotly) {require(['plotly'],function(plotly) {window._Plotly=plotly;});}</script>"
      ],
      "text/vnd.plotly.v1+html": [
       "<script type=\"text/javascript\">window.PlotlyConfig = {MathJaxConfig: 'local'};</script><script type=\"text/javascript\">if (window.MathJax) {MathJax.Hub.Config({SVG: {font: \"STIX-Web\"}});}</script><script>requirejs.config({paths: { 'plotly': ['https://cdn.plot.ly/plotly-latest.min']},});if(!window._Plotly) {require(['plotly'],function(plotly) {window._Plotly=plotly;});}</script>"
      ]
     },
     "metadata": {},
     "output_type": "display_data"
    }
   ],
   "source": [
    "cf.go_offline()"
   ]
  },
  {
   "cell_type": "code",
   "execution_count": 218,
   "metadata": {},
   "outputs": [],
   "source": [
    "data = pd.read_csv('InfantMortalityRates.csv')"
   ]
  },
  {
   "cell_type": "code",
   "execution_count": 141,
   "metadata": {},
   "outputs": [],
   "source": [
    "doctors = pd.read_csv('Doctors.csv')"
   ]
  },
  {
   "cell_type": "code",
   "execution_count": 142,
   "metadata": {},
   "outputs": [],
   "source": [
    "spending = pd.read_csv('HealthSpending.csv')"
   ]
  },
  {
   "cell_type": "code",
   "execution_count": 143,
   "metadata": {},
   "outputs": [
    {
     "data": {
      "text/plain": [
       "(5448, 8)"
      ]
     },
     "execution_count": 143,
     "metadata": {},
     "output_type": "execute_result"
    }
   ],
   "source": [
    "spending = spending[spending['MEASURE'] == 'USD_CAP'].copy()\n",
    "spending.shape"
   ]
  },
  {
   "cell_type": "code",
   "execution_count": 219,
   "metadata": {},
   "outputs": [
    {
     "data": {
      "text/html": [
       "<div>\n",
       "<style scoped>\n",
       "    .dataframe tbody tr th:only-of-type {\n",
       "        vertical-align: middle;\n",
       "    }\n",
       "\n",
       "    .dataframe tbody tr th {\n",
       "        vertical-align: top;\n",
       "    }\n",
       "\n",
       "    .dataframe thead th {\n",
       "        text-align: right;\n",
       "    }\n",
       "</style>\n",
       "<table border=\"1\" class=\"dataframe\">\n",
       "  <thead>\n",
       "    <tr style=\"text-align: right;\">\n",
       "      <th></th>\n",
       "      <th>LOCATION</th>\n",
       "      <th>INDICATOR</th>\n",
       "      <th>SUBJECT</th>\n",
       "      <th>MEASURE</th>\n",
       "      <th>FREQUENCY</th>\n",
       "      <th>TIME</th>\n",
       "      <th>Value</th>\n",
       "      <th>Flag Codes</th>\n",
       "    </tr>\n",
       "  </thead>\n",
       "  <tbody>\n",
       "    <tr>\n",
       "      <th>0</th>\n",
       "      <td>AUS</td>\n",
       "      <td>INFANTMORTALITY</td>\n",
       "      <td>TOT</td>\n",
       "      <td>DEATH_1000BIRTH</td>\n",
       "      <td>A</td>\n",
       "      <td>1960</td>\n",
       "      <td>20.2</td>\n",
       "      <td>NaN</td>\n",
       "    </tr>\n",
       "    <tr>\n",
       "      <th>1</th>\n",
       "      <td>AUS</td>\n",
       "      <td>INFANTMORTALITY</td>\n",
       "      <td>TOT</td>\n",
       "      <td>DEATH_1000BIRTH</td>\n",
       "      <td>A</td>\n",
       "      <td>1961</td>\n",
       "      <td>19.5</td>\n",
       "      <td>NaN</td>\n",
       "    </tr>\n",
       "    <tr>\n",
       "      <th>2</th>\n",
       "      <td>AUS</td>\n",
       "      <td>INFANTMORTALITY</td>\n",
       "      <td>TOT</td>\n",
       "      <td>DEATH_1000BIRTH</td>\n",
       "      <td>A</td>\n",
       "      <td>1962</td>\n",
       "      <td>20.4</td>\n",
       "      <td>NaN</td>\n",
       "    </tr>\n",
       "    <tr>\n",
       "      <th>3</th>\n",
       "      <td>AUS</td>\n",
       "      <td>INFANTMORTALITY</td>\n",
       "      <td>TOT</td>\n",
       "      <td>DEATH_1000BIRTH</td>\n",
       "      <td>A</td>\n",
       "      <td>1963</td>\n",
       "      <td>19.5</td>\n",
       "      <td>NaN</td>\n",
       "    </tr>\n",
       "    <tr>\n",
       "      <th>4</th>\n",
       "      <td>AUS</td>\n",
       "      <td>INFANTMORTALITY</td>\n",
       "      <td>TOT</td>\n",
       "      <td>DEATH_1000BIRTH</td>\n",
       "      <td>A</td>\n",
       "      <td>1964</td>\n",
       "      <td>19.1</td>\n",
       "      <td>NaN</td>\n",
       "    </tr>\n",
       "  </tbody>\n",
       "</table>\n",
       "</div>"
      ],
      "text/plain": [
       "  LOCATION        INDICATOR SUBJECT          MEASURE FREQUENCY  TIME  Value  \\\n",
       "0      AUS  INFANTMORTALITY     TOT  DEATH_1000BIRTH         A  1960   20.2   \n",
       "1      AUS  INFANTMORTALITY     TOT  DEATH_1000BIRTH         A  1961   19.5   \n",
       "2      AUS  INFANTMORTALITY     TOT  DEATH_1000BIRTH         A  1962   20.4   \n",
       "3      AUS  INFANTMORTALITY     TOT  DEATH_1000BIRTH         A  1963   19.5   \n",
       "4      AUS  INFANTMORTALITY     TOT  DEATH_1000BIRTH         A  1964   19.1   \n",
       "\n",
       "  Flag Codes  \n",
       "0        NaN  \n",
       "1        NaN  \n",
       "2        NaN  \n",
       "3        NaN  \n",
       "4        NaN  "
      ]
     },
     "execution_count": 219,
     "metadata": {},
     "output_type": "execute_result"
    }
   ],
   "source": [
    "data.head()"
   ]
  },
  {
   "cell_type": "code",
   "execution_count": 228,
   "metadata": {},
   "outputs": [
    {
     "ename": "TypeError",
     "evalue": "unhashable type: 'list'",
     "output_type": "error",
     "traceback": [
      "\u001b[0;31m---------------------------------------------------------------------------\u001b[0m",
      "\u001b[0;31mTypeError\u001b[0m                                 Traceback (most recent call last)",
      "\u001b[0;32m<ipython-input-228-7107b12bb4ad>\u001b[0m in \u001b[0;36m<module>\u001b[0;34m\u001b[0m\n\u001b[1;32m    128\u001b[0m \u001b[0;34m\u001b[0m\u001b[0m\n\u001b[1;32m    129\u001b[0m fig = {\n\u001b[0;32m--> 130\u001b[0;31m     \u001b[0;34m'data'\u001b[0m\u001b[0;34m:\u001b[0m \u001b[0mgo\u001b[0m\u001b[0;34m.\u001b[0m\u001b[0mChoropleth\u001b[0m\u001b[0;34m(\u001b[0m\u001b[0;34m{\u001b[0m\u001b[0mfigure\u001b[0m\u001b[0;34m[\u001b[0m\u001b[0;34m'data'\u001b[0m\u001b[0;34m]\u001b[0m\u001b[0;34m}\u001b[0m\u001b[0;34m)\u001b[0m\u001b[0;34m,\u001b[0m\u001b[0;34m\u001b[0m\u001b[0;34m\u001b[0m\u001b[0m\n\u001b[0m\u001b[1;32m    131\u001b[0m     \u001b[0;34m'layout'\u001b[0m\u001b[0;34m:\u001b[0m \u001b[0mgo\u001b[0m\u001b[0;34m.\u001b[0m\u001b[0mChoropleth\u001b[0m\u001b[0;34m(\u001b[0m\u001b[0;34m{\u001b[0m\u001b[0mfigure\u001b[0m\u001b[0;34m[\u001b[0m\u001b[0;34m'layout'\u001b[0m\u001b[0;34m]\u001b[0m\u001b[0;34m}\u001b[0m\u001b[0;34m)\u001b[0m\u001b[0;34m,\u001b[0m\u001b[0;34m\u001b[0m\u001b[0;34m\u001b[0m\u001b[0m\n\u001b[1;32m    132\u001b[0m     'frames': figure['frames']}\n",
      "\u001b[0;31mTypeError\u001b[0m: unhashable type: 'list'"
     ]
    }
   ],
   "source": [
    "firstyear = 1980\n",
    "years = list(range(firstyear, 2017))\n",
    "\n",
    "# make list of continents\n",
    "countries = []\n",
    "for country in data['LOCATION']:\n",
    "    if country not in countries:\n",
    "        countries.append(country)\n",
    "# make figure\n",
    "figure = {\n",
    "    'data': [],\n",
    "    'layout': {},\n",
    "    'frames': []\n",
    "}\n",
    "\n",
    "# fill in most of layout\n",
    "figure['layout']['title']={'text': 'Infant Mortality per 1000 Live Births'}\n",
    "figure['layout']['geo'] = {'showframe': False, 'showcoastlines': False, 'projection':{'type':'equirectangular'}}\n",
    "figure['layout']['annotations'] = {'x':0.55,'y':0.1,'xref':'paper','yref':'paper','text':'Source: <a href=\"https://www.cia.gov/library/publications/the-world-factbook/fields/2195.html\">\\\n",
    "            CIA World Factbook</a>','showarrow':False}\n",
    "figure['layout']['hovermode'] = 'closest'\n",
    "figure['layout']['sliders'] = {\n",
    "    'args': [\n",
    "        'transition', {\n",
    "            'duration': 400,\n",
    "            'easing': 'cubic-in-out'\n",
    "        }\n",
    "    ],\n",
    "    'initialValue': str(firstyear),\n",
    "    'plotlycommand': 'animate',\n",
    "    'values': years,\n",
    "    'visible': True\n",
    "}\n",
    "figure['layout']['updatemenus'] = [\n",
    "    {\n",
    "        'buttons': [\n",
    "            {\n",
    "                'args': [None, {'frame': {'duration': 500, 'redraw': False},\n",
    "                         'fromcurrent': True, 'transition': {'duration': 300, 'easing': 'quadratic-in-out'}}],\n",
    "                'label': 'Play',\n",
    "                'method': 'animate'\n",
    "            },\n",
    "            {\n",
    "                'args': [[None], {'frame': {'duration': 0, 'redraw': False}, 'mode': 'immediate',\n",
    "                'transition': {'duration': 0}}],\n",
    "                'label': 'Pause',\n",
    "                'method': 'animate'\n",
    "            }\n",
    "        ],\n",
    "        'direction': 'left',\n",
    "        'pad': {'r': 10, 't': 87},\n",
    "        'showactive': False,\n",
    "        'type': 'buttons',\n",
    "        'x': 0.1,\n",
    "        'xanchor': 'right',\n",
    "        'y': 0,\n",
    "        'yanchor': 'top'\n",
    "    }\n",
    "]\n",
    "\n",
    "sliders_dict = {\n",
    "    'active': 0,\n",
    "    'yanchor': 'top',\n",
    "    'xanchor': 'left',\n",
    "    'currentvalue': {\n",
    "        'font': {'size': 20},\n",
    "        'prefix': 'Year:',\n",
    "        'visible': True,\n",
    "        'xanchor': 'right'\n",
    "    },\n",
    "    'transition': {'duration': 300, 'easing': 'cubic-in-out'},\n",
    "    'pad': {'b': 10, 't': 50},\n",
    "    'len': 0.9,\n",
    "    'x': 0.1,\n",
    "    'y': 0,\n",
    "    'steps': []\n",
    "}\n",
    "\n",
    "# make data\n",
    "# make frames\n",
    "for year in years:\n",
    "    frame = {'data': [], 'name': str(year)}\n",
    "    for country in countries:\n",
    "        dataset_by_year = data[data['TIME'] == int(year)]\n",
    "        dataset_by_year_and_cont = dataset_by_year[dataset_by_year['LOCATION'] == country]\n",
    "\n",
    "        if dataset_by_year_and_cont.empty:\n",
    "            data_dict = {\n",
    "                'locations': [country],\n",
    "                'z': [0],\n",
    "                'text': [country],\n",
    "                'autocolorscale': True,\n",
    "                'reversescale': True,\n",
    "                'marker': {'line': {'color':'rgb(180,180,180)','width':0.5}},\n",
    "                'colorbar':{'tickprefix':'$','title':'Infant Mortality <br> per 1000 Live Births'}\n",
    "            }\n",
    "        else:\n",
    "            data_dict = {\n",
    "                'locations': list(dataset_by_year_and_cont['LOCATION']),\n",
    "                'z': list(dataset_by_year_and_cont['Value']),\n",
    "                'text': list(dataset_by_year_and_cont['LOCATION']),\n",
    "                'mode': 'markers',\n",
    "                'text': [country],\n",
    "                'autocolorscale': True,\n",
    "                'reversescale': True,\n",
    "                'marker': {'line': {'color':'rgb(180,180,180)','width':0.5}},\n",
    "                'colorbar':{'tickprefix':'$','title':'Infant Mortality <br> per 1000 Live Births'}\n",
    "            }\n",
    "            \n",
    "        if year == firstyear: \n",
    "            figure['data'].append(data_dict)\n",
    "        frame['data'].append(data_dict)\n",
    "\n",
    "    figure['frames'].append(frame)\n",
    "    slider_step = {'args': [\n",
    "        [year],\n",
    "        {'frame': {'duration': 300, 'redraw': False},\n",
    "         'mode': 'immediate',\n",
    "       'transition': {'duration': 300}}\n",
    "     ],\n",
    "     'label': year,\n",
    "     'method': 'animate'}\n",
    "    sliders_dict['steps'].append(slider_step)\n",
    "\n",
    "    \n",
    "figure['layout']['sliders'] = [sliders_dict]\n",
    "# figure['data']\n",
    "\n",
    "fig = {\n",
    "    'data': go.Choropleth({figure['data']}),\n",
    "    'layout': go.Choropleth({figure['layout']}),\n",
    "    'frames': figure['frames']}\n",
    "iplot(fig)\n"
   ]
  },
  {
   "cell_type": "code",
   "execution_count": 145,
   "metadata": {},
   "outputs": [
    {
     "data": {
      "text/html": [
       "<div>\n",
       "<style scoped>\n",
       "    .dataframe tbody tr th:only-of-type {\n",
       "        vertical-align: middle;\n",
       "    }\n",
       "\n",
       "    .dataframe tbody tr th {\n",
       "        vertical-align: top;\n",
       "    }\n",
       "\n",
       "    .dataframe thead th {\n",
       "        text-align: right;\n",
       "    }\n",
       "</style>\n",
       "<table border=\"1\" class=\"dataframe\">\n",
       "  <thead>\n",
       "    <tr style=\"text-align: right;\">\n",
       "      <th></th>\n",
       "      <th>LOCATION</th>\n",
       "      <th>INDICATOR</th>\n",
       "      <th>SUBJECT</th>\n",
       "      <th>MEASURE</th>\n",
       "      <th>FREQUENCY</th>\n",
       "      <th>TIME</th>\n",
       "      <th>Value</th>\n",
       "      <th>Flag Codes</th>\n",
       "    </tr>\n",
       "  </thead>\n",
       "  <tbody>\n",
       "    <tr>\n",
       "      <th>0</th>\n",
       "      <td>AUS</td>\n",
       "      <td>MEDICALDOC</td>\n",
       "      <td>TOT</td>\n",
       "      <td>1000HAB</td>\n",
       "      <td>A</td>\n",
       "      <td>1961</td>\n",
       "      <td>1.13</td>\n",
       "      <td>NaN</td>\n",
       "    </tr>\n",
       "    <tr>\n",
       "      <th>1</th>\n",
       "      <td>AUS</td>\n",
       "      <td>MEDICALDOC</td>\n",
       "      <td>TOT</td>\n",
       "      <td>1000HAB</td>\n",
       "      <td>A</td>\n",
       "      <td>1964</td>\n",
       "      <td>1.23</td>\n",
       "      <td>NaN</td>\n",
       "    </tr>\n",
       "    <tr>\n",
       "      <th>2</th>\n",
       "      <td>AUS</td>\n",
       "      <td>MEDICALDOC</td>\n",
       "      <td>TOT</td>\n",
       "      <td>1000HAB</td>\n",
       "      <td>A</td>\n",
       "      <td>1965</td>\n",
       "      <td>1.22</td>\n",
       "      <td>NaN</td>\n",
       "    </tr>\n",
       "    <tr>\n",
       "      <th>3</th>\n",
       "      <td>AUS</td>\n",
       "      <td>MEDICALDOC</td>\n",
       "      <td>TOT</td>\n",
       "      <td>1000HAB</td>\n",
       "      <td>A</td>\n",
       "      <td>1966</td>\n",
       "      <td>1.23</td>\n",
       "      <td>NaN</td>\n",
       "    </tr>\n",
       "    <tr>\n",
       "      <th>4</th>\n",
       "      <td>AUS</td>\n",
       "      <td>MEDICALDOC</td>\n",
       "      <td>TOT</td>\n",
       "      <td>1000HAB</td>\n",
       "      <td>A</td>\n",
       "      <td>1967</td>\n",
       "      <td>1.26</td>\n",
       "      <td>NaN</td>\n",
       "    </tr>\n",
       "  </tbody>\n",
       "</table>\n",
       "</div>"
      ],
      "text/plain": [
       "  LOCATION   INDICATOR SUBJECT  MEASURE FREQUENCY  TIME  Value Flag Codes\n",
       "0      AUS  MEDICALDOC     TOT  1000HAB         A  1961   1.13        NaN\n",
       "1      AUS  MEDICALDOC     TOT  1000HAB         A  1964   1.23        NaN\n",
       "2      AUS  MEDICALDOC     TOT  1000HAB         A  1965   1.22        NaN\n",
       "3      AUS  MEDICALDOC     TOT  1000HAB         A  1966   1.23        NaN\n",
       "4      AUS  MEDICALDOC     TOT  1000HAB         A  1967   1.26        NaN"
      ]
     },
     "execution_count": 145,
     "metadata": {},
     "output_type": "execute_result"
    }
   ],
   "source": [
    "doctors.head()"
   ]
  },
  {
   "cell_type": "code",
   "execution_count": 146,
   "metadata": {},
   "outputs": [
    {
     "data": {
      "text/html": [
       "<div>\n",
       "<style scoped>\n",
       "    .dataframe tbody tr th:only-of-type {\n",
       "        vertical-align: middle;\n",
       "    }\n",
       "\n",
       "    .dataframe tbody tr th {\n",
       "        vertical-align: top;\n",
       "    }\n",
       "\n",
       "    .dataframe thead th {\n",
       "        text-align: right;\n",
       "    }\n",
       "</style>\n",
       "<table border=\"1\" class=\"dataframe\">\n",
       "  <thead>\n",
       "    <tr style=\"text-align: right;\">\n",
       "      <th></th>\n",
       "      <th>LOCATION</th>\n",
       "      <th>INDICATOR</th>\n",
       "      <th>SUBJECT</th>\n",
       "      <th>MEASURE</th>\n",
       "      <th>FREQUENCY</th>\n",
       "      <th>TIME</th>\n",
       "      <th>Value</th>\n",
       "      <th>Flag Codes</th>\n",
       "    </tr>\n",
       "  </thead>\n",
       "  <tbody>\n",
       "    <tr>\n",
       "      <th>47</th>\n",
       "      <td>AUS</td>\n",
       "      <td>HEALTHEXP</td>\n",
       "      <td>OOPEXP</td>\n",
       "      <td>USD_CAP</td>\n",
       "      <td>A</td>\n",
       "      <td>1971</td>\n",
       "      <td>39.973</td>\n",
       "      <td>NaN</td>\n",
       "    </tr>\n",
       "    <tr>\n",
       "      <th>48</th>\n",
       "      <td>AUS</td>\n",
       "      <td>HEALTHEXP</td>\n",
       "      <td>OOPEXP</td>\n",
       "      <td>USD_CAP</td>\n",
       "      <td>A</td>\n",
       "      <td>1972</td>\n",
       "      <td>43.282</td>\n",
       "      <td>NaN</td>\n",
       "    </tr>\n",
       "    <tr>\n",
       "      <th>49</th>\n",
       "      <td>AUS</td>\n",
       "      <td>HEALTHEXP</td>\n",
       "      <td>OOPEXP</td>\n",
       "      <td>USD_CAP</td>\n",
       "      <td>A</td>\n",
       "      <td>1973</td>\n",
       "      <td>47.777</td>\n",
       "      <td>NaN</td>\n",
       "    </tr>\n",
       "    <tr>\n",
       "      <th>50</th>\n",
       "      <td>AUS</td>\n",
       "      <td>HEALTHEXP</td>\n",
       "      <td>OOPEXP</td>\n",
       "      <td>USD_CAP</td>\n",
       "      <td>A</td>\n",
       "      <td>1974</td>\n",
       "      <td>66.546</td>\n",
       "      <td>NaN</td>\n",
       "    </tr>\n",
       "    <tr>\n",
       "      <th>51</th>\n",
       "      <td>AUS</td>\n",
       "      <td>HEALTHEXP</td>\n",
       "      <td>OOPEXP</td>\n",
       "      <td>USD_CAP</td>\n",
       "      <td>A</td>\n",
       "      <td>1975</td>\n",
       "      <td>64.430</td>\n",
       "      <td>NaN</td>\n",
       "    </tr>\n",
       "  </tbody>\n",
       "</table>\n",
       "</div>"
      ],
      "text/plain": [
       "   LOCATION  INDICATOR SUBJECT  MEASURE FREQUENCY  TIME   Value Flag Codes\n",
       "47      AUS  HEALTHEXP  OOPEXP  USD_CAP         A  1971  39.973        NaN\n",
       "48      AUS  HEALTHEXP  OOPEXP  USD_CAP         A  1972  43.282        NaN\n",
       "49      AUS  HEALTHEXP  OOPEXP  USD_CAP         A  1973  47.777        NaN\n",
       "50      AUS  HEALTHEXP  OOPEXP  USD_CAP         A  1974  66.546        NaN\n",
       "51      AUS  HEALTHEXP  OOPEXP  USD_CAP         A  1975  64.430        NaN"
      ]
     },
     "execution_count": 146,
     "metadata": {},
     "output_type": "execute_result"
    }
   ],
   "source": [
    "spending.head()"
   ]
  },
  {
   "cell_type": "code",
   "execution_count": 118,
   "metadata": {},
   "outputs": [
    {
     "name": "stdout",
     "output_type": "stream",
     "text": [
      "['INFANTMORTALITY']\n",
      "['MEDICALDOC']\n",
      "['HEALTHEXP']\n"
     ]
    }
   ],
   "source": [
    "print(data['INDICATOR'].unique())\n",
    "print(doctors['INDICATOR'].unique())\n",
    "print(spending['INDICATOR'].unique())"
   ]
  },
  {
   "cell_type": "code",
   "execution_count": 119,
   "metadata": {},
   "outputs": [
    {
     "name": "stdout",
     "output_type": "stream",
     "text": [
      "['TOT']\n",
      "['TOT']\n",
      "['OOPEXP' 'TOT' 'COMPULSORY' 'VOLUNTARY']\n"
     ]
    }
   ],
   "source": [
    "print(data['SUBJECT'].unique())\n",
    "print(doctors['SUBJECT'].unique())\n",
    "print(spending['SUBJECT'].unique())"
   ]
  },
  {
   "cell_type": "code",
   "execution_count": 120,
   "metadata": {},
   "outputs": [
    {
     "name": "stdout",
     "output_type": "stream",
     "text": [
      "['DEATH_1000BIRTH']\n",
      "['1000HAB']\n",
      "['USD_CAP']\n"
     ]
    }
   ],
   "source": [
    "print(data['MEASURE'].unique())\n",
    "print(doctors['MEASURE'].unique())\n",
    "print(spending['MEASURE'].unique())"
   ]
  },
  {
   "cell_type": "code",
   "execution_count": 147,
   "metadata": {},
   "outputs": [],
   "source": [
    "gov_spending = spending[spending['SUBJECT']== 'COMPULSORY'].copy()\n",
    "tot_spending = spending[spending['SUBJECT']== 'TOT'].copy()"
   ]
  },
  {
   "cell_type": "code",
   "execution_count": 148,
   "metadata": {},
   "outputs": [],
   "source": [
    "dataframes = [data, doctors, gov_spending, tot_spending]"
   ]
  },
  {
   "cell_type": "code",
   "execution_count": 149,
   "metadata": {},
   "outputs": [],
   "source": [
    "def clean_data(df_list):\n",
    "    for df in df_list:\n",
    "        value = df['INDICATOR'].iloc[0] + '_' + df['SUBJECT'].iloc[0]\n",
    "        df.drop(['INDICATOR','SUBJECT','MEASURE','FREQUENCY','Flag Codes'], axis=1, inplace=True)\n",
    "        df.columns = ['Country','Year', value]\n",
    "        df['Key'] = df.apply(lambda row: row['Country'] + str(row['Year']), axis=1)\n",
    "        print(df.head())"
   ]
  },
  {
   "cell_type": "code",
   "execution_count": 150,
   "metadata": {},
   "outputs": [
    {
     "name": "stdout",
     "output_type": "stream",
     "text": [
      "  Country  Year  INFANTMORTALITY_TOT      Key\n",
      "0     AUS  1960                 20.2  AUS1960\n",
      "1     AUS  1961                 19.5  AUS1961\n",
      "2     AUS  1962                 20.4  AUS1962\n",
      "3     AUS  1963                 19.5  AUS1963\n",
      "4     AUS  1964                 19.1  AUS1964\n",
      "  Country  Year  MEDICALDOC_TOT      Key\n",
      "0     AUS  1961            1.13  AUS1961\n",
      "1     AUS  1964            1.23  AUS1964\n",
      "2     AUS  1965            1.22  AUS1965\n",
      "3     AUS  1966            1.23  AUS1966\n",
      "4     AUS  1967            1.26  AUS1967\n",
      "     Country  Year  HEALTHEXP_COMPULSORY      Key\n",
      "6624     AUS  1971               137.014  AUS1971\n",
      "6625     AUS  1972               145.257  AUS1972\n",
      "6626     AUS  1973               160.193  AUS1973\n",
      "6627     AUS  1974               196.676  AUS1974\n",
      "6628     AUS  1975               293.329  AUS1975\n",
      "     Country  Year  HEALTHEXP_TOT      Key\n",
      "4320     AUS  1971        223.365  AUS1971\n",
      "4321     AUS  1972        238.788  AUS1972\n",
      "4322     AUS  1973        263.500  AUS1973\n",
      "4323     AUS  1974        321.712  AUS1974\n",
      "4324     AUS  1975        401.662  AUS1975\n"
     ]
    }
   ],
   "source": [
    "clean_data(dataframes)"
   ]
  },
  {
   "cell_type": "code",
   "execution_count": 173,
   "metadata": {},
   "outputs": [
    {
     "data": {
      "text/plain": [
       "array(['AUS', 'AUT', 'BEL', 'CAN', 'CZE', 'DNK', 'FIN', 'FRA', 'DEU',\n",
       "       'GRC', 'HUN', 'ISL', 'IRL', 'ITA', 'JPN', 'KOR', 'LUX', 'MEX',\n",
       "       'NLD', 'NZL', 'NOR', 'POL', 'PRT', 'SVK', 'ESP', 'SWE', 'CHE',\n",
       "       'TUR', 'GBR', 'USA', 'BRA', 'CHL', 'CHN', 'EST', 'IND', 'IDN',\n",
       "       'ISR', 'RUS', 'SVN', 'ZAF', 'COL', 'LVA', 'LTU', 'CRI'],\n",
       "      dtype=object)"
      ]
     },
     "execution_count": 173,
     "metadata": {},
     "output_type": "execute_result"
    }
   ],
   "source": [
    "data['Country'].unique()"
   ]
  },
  {
   "cell_type": "code",
   "execution_count": 159,
   "metadata": {},
   "outputs": [],
   "source": [
    "all_data = pd.DataFrame([{'Key': 'AUS1960'}])"
   ]
  },
  {
   "cell_type": "code",
   "execution_count": 160,
   "metadata": {},
   "outputs": [
    {
     "data": {
      "text/html": [
       "<div>\n",
       "<style scoped>\n",
       "    .dataframe tbody tr th:only-of-type {\n",
       "        vertical-align: middle;\n",
       "    }\n",
       "\n",
       "    .dataframe tbody tr th {\n",
       "        vertical-align: top;\n",
       "    }\n",
       "\n",
       "    .dataframe thead th {\n",
       "        text-align: right;\n",
       "    }\n",
       "</style>\n",
       "<table border=\"1\" class=\"dataframe\">\n",
       "  <thead>\n",
       "    <tr style=\"text-align: right;\">\n",
       "      <th></th>\n",
       "      <th>Key</th>\n",
       "    </tr>\n",
       "  </thead>\n",
       "  <tbody>\n",
       "    <tr>\n",
       "      <th>0</th>\n",
       "      <td>AUS1960</td>\n",
       "    </tr>\n",
       "  </tbody>\n",
       "</table>\n",
       "</div>"
      ],
      "text/plain": [
       "       Key\n",
       "0  AUS1960"
      ]
     },
     "execution_count": 160,
     "metadata": {},
     "output_type": "execute_result"
    }
   ],
   "source": [
    "all_data.head()"
   ]
  },
  {
   "cell_type": "code",
   "execution_count": 164,
   "metadata": {},
   "outputs": [],
   "source": [
    "def merge_data(agg_df, df_list):\n",
    "    for df in df_list:\n",
    "        agg_df = pd.merge(agg_df, df, how = 'outer', on = 'Key') \n",
    "    return agg_df"
   ]
  },
  {
   "cell_type": "code",
   "execution_count": 165,
   "metadata": {},
   "outputs": [],
   "source": [
    "all_data = merge_data(all_data, dataframes)"
   ]
  },
  {
   "cell_type": "code",
   "execution_count": 170,
   "metadata": {},
   "outputs": [],
   "source": [
    "all_data.drop(['Country_x', 'Year_x', 'Country_y', 'Year_y'], axis=1, inplace=True)"
   ]
  },
  {
   "cell_type": "code",
   "execution_count": 180,
   "metadata": {},
   "outputs": [],
   "source": [
    "all_data['Country'] = all_data.apply(lambda row: row['Key'][:3], axis=1)\n",
    "all_data['Year'] = all_data.apply(lambda row: row['Key'][3:], axis=1)"
   ]
  },
  {
   "cell_type": "code",
   "execution_count": 181,
   "metadata": {},
   "outputs": [
    {
     "data": {
      "text/html": [
       "<div>\n",
       "<style scoped>\n",
       "    .dataframe tbody tr th:only-of-type {\n",
       "        vertical-align: middle;\n",
       "    }\n",
       "\n",
       "    .dataframe tbody tr th {\n",
       "        vertical-align: top;\n",
       "    }\n",
       "\n",
       "    .dataframe thead th {\n",
       "        text-align: right;\n",
       "    }\n",
       "</style>\n",
       "<table border=\"1\" class=\"dataframe\">\n",
       "  <thead>\n",
       "    <tr style=\"text-align: right;\">\n",
       "      <th></th>\n",
       "      <th>Key</th>\n",
       "      <th>INFANTMORTALITY_TOT</th>\n",
       "      <th>MEDICALDOC_TOT</th>\n",
       "      <th>HEALTHEXP_COMPULSORY</th>\n",
       "      <th>HEALTHEXP_TOT</th>\n",
       "      <th>Country</th>\n",
       "      <th>Year</th>\n",
       "    </tr>\n",
       "  </thead>\n",
       "  <tbody>\n",
       "    <tr>\n",
       "      <th>0</th>\n",
       "      <td>AUS1960</td>\n",
       "      <td>20.2</td>\n",
       "      <td>NaN</td>\n",
       "      <td>NaN</td>\n",
       "      <td>NaN</td>\n",
       "      <td>AUS</td>\n",
       "      <td>1960</td>\n",
       "    </tr>\n",
       "    <tr>\n",
       "      <th>1</th>\n",
       "      <td>AUS1961</td>\n",
       "      <td>19.5</td>\n",
       "      <td>1.13</td>\n",
       "      <td>NaN</td>\n",
       "      <td>NaN</td>\n",
       "      <td>AUS</td>\n",
       "      <td>1961</td>\n",
       "    </tr>\n",
       "    <tr>\n",
       "      <th>2</th>\n",
       "      <td>AUS1962</td>\n",
       "      <td>20.4</td>\n",
       "      <td>NaN</td>\n",
       "      <td>NaN</td>\n",
       "      <td>NaN</td>\n",
       "      <td>AUS</td>\n",
       "      <td>1962</td>\n",
       "    </tr>\n",
       "    <tr>\n",
       "      <th>3</th>\n",
       "      <td>AUS1963</td>\n",
       "      <td>19.5</td>\n",
       "      <td>NaN</td>\n",
       "      <td>NaN</td>\n",
       "      <td>NaN</td>\n",
       "      <td>AUS</td>\n",
       "      <td>1963</td>\n",
       "    </tr>\n",
       "    <tr>\n",
       "      <th>4</th>\n",
       "      <td>AUS1964</td>\n",
       "      <td>19.1</td>\n",
       "      <td>1.23</td>\n",
       "      <td>NaN</td>\n",
       "      <td>NaN</td>\n",
       "      <td>AUS</td>\n",
       "      <td>1964</td>\n",
       "    </tr>\n",
       "  </tbody>\n",
       "</table>\n",
       "</div>"
      ],
      "text/plain": [
       "       Key  INFANTMORTALITY_TOT  MEDICALDOC_TOT  HEALTHEXP_COMPULSORY  \\\n",
       "0  AUS1960                 20.2             NaN                   NaN   \n",
       "1  AUS1961                 19.5            1.13                   NaN   \n",
       "2  AUS1962                 20.4             NaN                   NaN   \n",
       "3  AUS1963                 19.5             NaN                   NaN   \n",
       "4  AUS1964                 19.1            1.23                   NaN   \n",
       "\n",
       "   HEALTHEXP_TOT Country  Year  \n",
       "0            NaN     AUS  1960  \n",
       "1            NaN     AUS  1961  \n",
       "2            NaN     AUS  1962  \n",
       "3            NaN     AUS  1963  \n",
       "4            NaN     AUS  1964  "
      ]
     },
     "execution_count": 181,
     "metadata": {},
     "output_type": "execute_result"
    }
   ],
   "source": [
    "all_data.head()"
   ]
  },
  {
   "cell_type": "code",
   "execution_count": 185,
   "metadata": {},
   "outputs": [
    {
     "data": {
      "text/plain": [
       "36"
      ]
     },
     "execution_count": 185,
     "metadata": {},
     "output_type": "execute_result"
    }
   ],
   "source": [
    "2016 - 1980"
   ]
  },
  {
   "cell_type": "code",
   "execution_count": 186,
   "metadata": {},
   "outputs": [],
   "source": [
    "count = all_data.groupby('Country').count()"
   ]
  },
  {
   "cell_type": "code",
   "execution_count": 194,
   "metadata": {},
   "outputs": [
    {
     "data": {
      "text/html": [
       "<div>\n",
       "<style scoped>\n",
       "    .dataframe tbody tr th:only-of-type {\n",
       "        vertical-align: middle;\n",
       "    }\n",
       "\n",
       "    .dataframe tbody tr th {\n",
       "        vertical-align: top;\n",
       "    }\n",
       "\n",
       "    .dataframe thead th {\n",
       "        text-align: right;\n",
       "    }\n",
       "</style>\n",
       "<table border=\"1\" class=\"dataframe\">\n",
       "  <thead>\n",
       "    <tr style=\"text-align: right;\">\n",
       "      <th></th>\n",
       "      <th>Key</th>\n",
       "      <th>INFANTMORTALITY_TOT</th>\n",
       "      <th>MEDICALDOC_TOT</th>\n",
       "      <th>HEALTHEXP_COMPULSORY</th>\n",
       "      <th>HEALTHEXP_TOT</th>\n",
       "      <th>Year</th>\n",
       "    </tr>\n",
       "    <tr>\n",
       "      <th>Country</th>\n",
       "      <th></th>\n",
       "      <th></th>\n",
       "      <th></th>\n",
       "      <th></th>\n",
       "      <th></th>\n",
       "      <th></th>\n",
       "    </tr>\n",
       "  </thead>\n",
       "  <tbody>\n",
       "    <tr>\n",
       "      <th>AUS</th>\n",
       "      <td>58</td>\n",
       "      <td>57</td>\n",
       "      <td>53</td>\n",
       "      <td>47</td>\n",
       "      <td>47</td>\n",
       "      <td>58</td>\n",
       "    </tr>\n",
       "    <tr>\n",
       "      <th>AUT</th>\n",
       "      <td>58</td>\n",
       "      <td>57</td>\n",
       "      <td>57</td>\n",
       "      <td>48</td>\n",
       "      <td>48</td>\n",
       "      <td>58</td>\n",
       "    </tr>\n",
       "    <tr>\n",
       "      <th>BEL</th>\n",
       "      <td>58</td>\n",
       "      <td>57</td>\n",
       "      <td>56</td>\n",
       "      <td>26</td>\n",
       "      <td>48</td>\n",
       "      <td>58</td>\n",
       "    </tr>\n",
       "    <tr>\n",
       "      <th>CAN</th>\n",
       "      <td>58</td>\n",
       "      <td>55</td>\n",
       "      <td>57</td>\n",
       "      <td>48</td>\n",
       "      <td>48</td>\n",
       "      <td>58</td>\n",
       "    </tr>\n",
       "    <tr>\n",
       "      <th>CZE</th>\n",
       "      <td>58</td>\n",
       "      <td>57</td>\n",
       "      <td>44</td>\n",
       "      <td>28</td>\n",
       "      <td>28</td>\n",
       "      <td>58</td>\n",
       "    </tr>\n",
       "    <tr>\n",
       "      <th>DEU</th>\n",
       "      <td>58</td>\n",
       "      <td>57</td>\n",
       "      <td>26</td>\n",
       "      <td>47</td>\n",
       "      <td>47</td>\n",
       "      <td>58</td>\n",
       "    </tr>\n",
       "    <tr>\n",
       "      <th>DNK</th>\n",
       "      <td>58</td>\n",
       "      <td>57</td>\n",
       "      <td>36</td>\n",
       "      <td>47</td>\n",
       "      <td>47</td>\n",
       "      <td>58</td>\n",
       "    </tr>\n",
       "    <tr>\n",
       "      <th>ESP</th>\n",
       "      <td>58</td>\n",
       "      <td>57</td>\n",
       "      <td>24</td>\n",
       "      <td>48</td>\n",
       "      <td>48</td>\n",
       "      <td>58</td>\n",
       "    </tr>\n",
       "    <tr>\n",
       "      <th>FRA</th>\n",
       "      <td>58</td>\n",
       "      <td>57</td>\n",
       "      <td>28</td>\n",
       "      <td>32</td>\n",
       "      <td>32</td>\n",
       "      <td>58</td>\n",
       "    </tr>\n",
       "    <tr>\n",
       "      <th>GBR</th>\n",
       "      <td>58</td>\n",
       "      <td>57</td>\n",
       "      <td>58</td>\n",
       "      <td>48</td>\n",
       "      <td>48</td>\n",
       "      <td>58</td>\n",
       "    </tr>\n",
       "    <tr>\n",
       "      <th>HUN</th>\n",
       "      <td>58</td>\n",
       "      <td>57</td>\n",
       "      <td>57</td>\n",
       "      <td>27</td>\n",
       "      <td>27</td>\n",
       "      <td>58</td>\n",
       "    </tr>\n",
       "    <tr>\n",
       "      <th>ISL</th>\n",
       "      <td>58</td>\n",
       "      <td>57</td>\n",
       "      <td>58</td>\n",
       "      <td>48</td>\n",
       "      <td>48</td>\n",
       "      <td>58</td>\n",
       "    </tr>\n",
       "    <tr>\n",
       "      <th>ISR</th>\n",
       "      <td>48</td>\n",
       "      <td>47</td>\n",
       "      <td>21</td>\n",
       "      <td>23</td>\n",
       "      <td>41</td>\n",
       "      <td>48</td>\n",
       "    </tr>\n",
       "    <tr>\n",
       "      <th>JPN</th>\n",
       "      <td>58</td>\n",
       "      <td>57</td>\n",
       "      <td>40</td>\n",
       "      <td>48</td>\n",
       "      <td>48</td>\n",
       "      <td>58</td>\n",
       "    </tr>\n",
       "    <tr>\n",
       "      <th>KOR</th>\n",
       "      <td>48</td>\n",
       "      <td>23</td>\n",
       "      <td>37</td>\n",
       "      <td>48</td>\n",
       "      <td>48</td>\n",
       "      <td>48</td>\n",
       "    </tr>\n",
       "    <tr>\n",
       "      <th>LUX</th>\n",
       "      <td>58</td>\n",
       "      <td>57</td>\n",
       "      <td>58</td>\n",
       "      <td>23</td>\n",
       "      <td>23</td>\n",
       "      <td>58</td>\n",
       "    </tr>\n",
       "    <tr>\n",
       "      <th>NOR</th>\n",
       "      <td>58</td>\n",
       "      <td>57</td>\n",
       "      <td>32</td>\n",
       "      <td>48</td>\n",
       "      <td>48</td>\n",
       "      <td>58</td>\n",
       "    </tr>\n",
       "    <tr>\n",
       "      <th>POL</th>\n",
       "      <td>58</td>\n",
       "      <td>57</td>\n",
       "      <td>57</td>\n",
       "      <td>28</td>\n",
       "      <td>28</td>\n",
       "      <td>58</td>\n",
       "    </tr>\n",
       "    <tr>\n",
       "      <th>SWE</th>\n",
       "      <td>58</td>\n",
       "      <td>57</td>\n",
       "      <td>21</td>\n",
       "      <td>48</td>\n",
       "      <td>48</td>\n",
       "      <td>58</td>\n",
       "    </tr>\n",
       "    <tr>\n",
       "      <th>TUR</th>\n",
       "      <td>58</td>\n",
       "      <td>21</td>\n",
       "      <td>57</td>\n",
       "      <td>39</td>\n",
       "      <td>43</td>\n",
       "      <td>58</td>\n",
       "    </tr>\n",
       "    <tr>\n",
       "      <th>USA</th>\n",
       "      <td>58</td>\n",
       "      <td>56</td>\n",
       "      <td>24</td>\n",
       "      <td>47</td>\n",
       "      <td>48</td>\n",
       "      <td>58</td>\n",
       "    </tr>\n",
       "  </tbody>\n",
       "</table>\n",
       "</div>"
      ],
      "text/plain": [
       "         Key  INFANTMORTALITY_TOT  MEDICALDOC_TOT  HEALTHEXP_COMPULSORY  \\\n",
       "Country                                                                   \n",
       "AUS       58                   57              53                    47   \n",
       "AUT       58                   57              57                    48   \n",
       "BEL       58                   57              56                    26   \n",
       "CAN       58                   55              57                    48   \n",
       "CZE       58                   57              44                    28   \n",
       "DEU       58                   57              26                    47   \n",
       "DNK       58                   57              36                    47   \n",
       "ESP       58                   57              24                    48   \n",
       "FRA       58                   57              28                    32   \n",
       "GBR       58                   57              58                    48   \n",
       "HUN       58                   57              57                    27   \n",
       "ISL       58                   57              58                    48   \n",
       "ISR       48                   47              21                    23   \n",
       "JPN       58                   57              40                    48   \n",
       "KOR       48                   23              37                    48   \n",
       "LUX       58                   57              58                    23   \n",
       "NOR       58                   57              32                    48   \n",
       "POL       58                   57              57                    28   \n",
       "SWE       58                   57              21                    48   \n",
       "TUR       58                   21              57                    39   \n",
       "USA       58                   56              24                    47   \n",
       "\n",
       "         HEALTHEXP_TOT  Year  \n",
       "Country                       \n",
       "AUS                 47    58  \n",
       "AUT                 48    58  \n",
       "BEL                 48    58  \n",
       "CAN                 48    58  \n",
       "CZE                 28    58  \n",
       "DEU                 47    58  \n",
       "DNK                 47    58  \n",
       "ESP                 48    58  \n",
       "FRA                 32    58  \n",
       "GBR                 48    58  \n",
       "HUN                 27    58  \n",
       "ISL                 48    58  \n",
       "ISR                 41    48  \n",
       "JPN                 48    58  \n",
       "KOR                 48    48  \n",
       "LUX                 23    58  \n",
       "NOR                 48    58  \n",
       "POL                 28    58  \n",
       "SWE                 48    58  \n",
       "TUR                 43    58  \n",
       "USA                 48    58  "
      ]
     },
     "execution_count": 194,
     "metadata": {},
     "output_type": "execute_result"
    }
   ],
   "source": [
    "clean_count = count[(count['MEDICALDOC_TOT']>20) & (count['HEALTHEXP_COMPULSORY']>20) & (count['HEALTHEXP_TOT']>20) & (count['INFANTMORTALITY_TOT']>20)].copy()\n",
    "clean_count"
   ]
  },
  {
   "cell_type": "code",
   "execution_count": 196,
   "metadata": {},
   "outputs": [],
   "source": [
    "countries = list(clean_count.index)"
   ]
  },
  {
   "cell_type": "code",
   "execution_count": 203,
   "metadata": {},
   "outputs": [],
   "source": [
    "clean_data = all_data[all_data['Country'].isin(countries)].copy()"
   ]
  },
  {
   "cell_type": "code",
   "execution_count": 209,
   "metadata": {
    "collapsed": true
   },
   "outputs": [
    {
     "data": {
      "text/plain": [
       "['1960',\n",
       " '1961',\n",
       " '1962',\n",
       " '1963',\n",
       " '1964',\n",
       " '1965',\n",
       " '1966',\n",
       " '1967',\n",
       " '1968',\n",
       " '1969',\n",
       " '1970',\n",
       " '1971',\n",
       " '1972',\n",
       " '1973',\n",
       " '1974',\n",
       " '1975',\n",
       " '1976',\n",
       " '1977',\n",
       " '1978',\n",
       " '1979',\n",
       " '1980',\n",
       " '1981',\n",
       " '1982',\n",
       " '1983',\n",
       " '1984',\n",
       " '1985',\n",
       " '1986',\n",
       " '1987',\n",
       " '1988',\n",
       " '1989',\n",
       " '1990',\n",
       " '1991',\n",
       " '1992',\n",
       " '1993',\n",
       " '1994',\n",
       " '1995',\n",
       " '1996',\n",
       " '1997',\n",
       " '1998',\n",
       " '1999',\n",
       " '2000',\n",
       " '2001',\n",
       " '2002',\n",
       " '2003',\n",
       " '2004',\n",
       " '2005',\n",
       " '2006',\n",
       " '2007',\n",
       " '2008',\n",
       " '2009',\n",
       " '2010',\n",
       " '2011',\n",
       " '2012',\n",
       " '2013',\n",
       " '2014',\n",
       " '2015',\n",
       " '2016',\n",
       " '2017']"
      ]
     },
     "execution_count": 209,
     "metadata": {},
     "output_type": "execute_result"
    }
   ],
   "source": [
    "# list(range(1980,2017))\n",
    "list(clean_data['Year'].unique())"
   ]
  },
  {
   "cell_type": "code",
   "execution_count": 210,
   "metadata": {},
   "outputs": [],
   "source": [
    "years = ['1980','1981','1982','1983','1984','1985','1986','1987','1988','1989','1990','1991','1992','1993','1994','1995',\n",
    " '1996','1997','1998','1999','2000','2001','2002','2003','2004','2005','2006','2007','2008','2009','2010','2011','2012','2013','2014','2015','2016']\n"
   ]
  },
  {
   "cell_type": "code",
   "execution_count": 211,
   "metadata": {},
   "outputs": [],
   "source": [
    "clean_data = clean_data[clean_data['Year'].isin(years)]"
   ]
  },
  {
   "cell_type": "code",
   "execution_count": 213,
   "metadata": {},
   "outputs": [
    {
     "name": "stdout",
     "output_type": "stream",
     "text": [
      "<class 'pandas.core.frame.DataFrame'>\n",
      "Int64Index: 777 entries, 20 to 2450\n",
      "Data columns (total 7 columns):\n",
      "Key                     777 non-null object\n",
      "INFANTMORTALITY_TOT     743 non-null float64\n",
      "MEDICALDOC_TOT          668 non-null float64\n",
      "HEALTHEXP_COMPULSORY    695 non-null float64\n",
      "HEALTHEXP_TOT           722 non-null float64\n",
      "Country                 777 non-null object\n",
      "Year                    777 non-null object\n",
      "dtypes: float64(4), object(3)\n",
      "memory usage: 48.6+ KB\n"
     ]
    }
   ],
   "source": [
    "clean_data.info()"
   ]
  },
  {
   "cell_type": "code",
   "execution_count": 214,
   "metadata": {},
   "outputs": [
    {
     "data": {
      "text/html": [
       "<div>\n",
       "<style scoped>\n",
       "    .dataframe tbody tr th:only-of-type {\n",
       "        vertical-align: middle;\n",
       "    }\n",
       "\n",
       "    .dataframe tbody tr th {\n",
       "        vertical-align: top;\n",
       "    }\n",
       "\n",
       "    .dataframe thead th {\n",
       "        text-align: right;\n",
       "    }\n",
       "</style>\n",
       "<table border=\"1\" class=\"dataframe\">\n",
       "  <thead>\n",
       "    <tr style=\"text-align: right;\">\n",
       "      <th></th>\n",
       "      <th>Key</th>\n",
       "      <th>INFANTMORTALITY_TOT</th>\n",
       "      <th>MEDICALDOC_TOT</th>\n",
       "      <th>HEALTHEXP_COMPULSORY</th>\n",
       "      <th>HEALTHEXP_TOT</th>\n",
       "      <th>Country</th>\n",
       "      <th>Year</th>\n",
       "    </tr>\n",
       "  </thead>\n",
       "  <tbody>\n",
       "    <tr>\n",
       "      <th>2365</th>\n",
       "      <td>CAN2015</td>\n",
       "      <td>NaN</td>\n",
       "      <td>2.66</td>\n",
       "      <td>3267.052</td>\n",
       "      <td>4632.837</td>\n",
       "      <td>CAN</td>\n",
       "      <td>2015</td>\n",
       "    </tr>\n",
       "    <tr>\n",
       "      <th>2366</th>\n",
       "      <td>CAN2016</td>\n",
       "      <td>NaN</td>\n",
       "      <td>2.68</td>\n",
       "      <td>3319.113</td>\n",
       "      <td>4721.578</td>\n",
       "      <td>CAN</td>\n",
       "      <td>2016</td>\n",
       "    </tr>\n",
       "    <tr>\n",
       "      <th>2372</th>\n",
       "      <td>KOR1982</td>\n",
       "      <td>NaN</td>\n",
       "      <td>0.55</td>\n",
       "      <td>26.873</td>\n",
       "      <td>111.654</td>\n",
       "      <td>KOR</td>\n",
       "      <td>1982</td>\n",
       "    </tr>\n",
       "    <tr>\n",
       "      <th>2373</th>\n",
       "      <td>KOR1983</td>\n",
       "      <td>NaN</td>\n",
       "      <td>0.54</td>\n",
       "      <td>34.845</td>\n",
       "      <td>125.619</td>\n",
       "      <td>KOR</td>\n",
       "      <td>1983</td>\n",
       "    </tr>\n",
       "    <tr>\n",
       "      <th>2374</th>\n",
       "      <td>KOR1986</td>\n",
       "      <td>NaN</td>\n",
       "      <td>0.65</td>\n",
       "      <td>49.588</td>\n",
       "      <td>162.453</td>\n",
       "      <td>KOR</td>\n",
       "      <td>1986</td>\n",
       "    </tr>\n",
       "    <tr>\n",
       "      <th>2375</th>\n",
       "      <td>KOR1988</td>\n",
       "      <td>NaN</td>\n",
       "      <td>0.74</td>\n",
       "      <td>74.114</td>\n",
       "      <td>216.312</td>\n",
       "      <td>KOR</td>\n",
       "      <td>1988</td>\n",
       "    </tr>\n",
       "    <tr>\n",
       "      <th>2376</th>\n",
       "      <td>KOR1990</td>\n",
       "      <td>NaN</td>\n",
       "      <td>0.83</td>\n",
       "      <td>122.083</td>\n",
       "      <td>304.540</td>\n",
       "      <td>KOR</td>\n",
       "      <td>1990</td>\n",
       "    </tr>\n",
       "    <tr>\n",
       "      <th>2377</th>\n",
       "      <td>KOR1992</td>\n",
       "      <td>NaN</td>\n",
       "      <td>0.97</td>\n",
       "      <td>139.800</td>\n",
       "      <td>365.947</td>\n",
       "      <td>KOR</td>\n",
       "      <td>1992</td>\n",
       "    </tr>\n",
       "    <tr>\n",
       "      <th>2378</th>\n",
       "      <td>KOR1994</td>\n",
       "      <td>NaN</td>\n",
       "      <td>1.07</td>\n",
       "      <td>172.099</td>\n",
       "      <td>412.286</td>\n",
       "      <td>KOR</td>\n",
       "      <td>1994</td>\n",
       "    </tr>\n",
       "    <tr>\n",
       "      <th>2379</th>\n",
       "      <td>KOR1995</td>\n",
       "      <td>NaN</td>\n",
       "      <td>1.12</td>\n",
       "      <td>192.661</td>\n",
       "      <td>457.450</td>\n",
       "      <td>KOR</td>\n",
       "      <td>1995</td>\n",
       "    </tr>\n",
       "    <tr>\n",
       "      <th>2380</th>\n",
       "      <td>KOR1997</td>\n",
       "      <td>NaN</td>\n",
       "      <td>1.23</td>\n",
       "      <td>265.646</td>\n",
       "      <td>555.617</td>\n",
       "      <td>KOR</td>\n",
       "      <td>1997</td>\n",
       "    </tr>\n",
       "    <tr>\n",
       "      <th>2381</th>\n",
       "      <td>KOR1998</td>\n",
       "      <td>NaN</td>\n",
       "      <td>1.27</td>\n",
       "      <td>286.570</td>\n",
       "      <td>546.809</td>\n",
       "      <td>KOR</td>\n",
       "      <td>1998</td>\n",
       "    </tr>\n",
       "    <tr>\n",
       "      <th>2382</th>\n",
       "      <td>KOR2000</td>\n",
       "      <td>NaN</td>\n",
       "      <td>1.30</td>\n",
       "      <td>389.658</td>\n",
       "      <td>723.058</td>\n",
       "      <td>KOR</td>\n",
       "      <td>2000</td>\n",
       "    </tr>\n",
       "    <tr>\n",
       "      <th>2383</th>\n",
       "      <td>KOR2001</td>\n",
       "      <td>NaN</td>\n",
       "      <td>1.39</td>\n",
       "      <td>511.546</td>\n",
       "      <td>897.971</td>\n",
       "      <td>KOR</td>\n",
       "      <td>2001</td>\n",
       "    </tr>\n",
       "    <tr>\n",
       "      <th>2384</th>\n",
       "      <td>KOR2003</td>\n",
       "      <td>NaN</td>\n",
       "      <td>1.57</td>\n",
       "      <td>572.543</td>\n",
       "      <td>997.140</td>\n",
       "      <td>KOR</td>\n",
       "      <td>2003</td>\n",
       "    </tr>\n",
       "    <tr>\n",
       "      <th>2385</th>\n",
       "      <td>KOR2004</td>\n",
       "      <td>NaN</td>\n",
       "      <td>1.56</td>\n",
       "      <td>617.595</td>\n",
       "      <td>1065.157</td>\n",
       "      <td>KOR</td>\n",
       "      <td>2004</td>\n",
       "    </tr>\n",
       "    <tr>\n",
       "      <th>2411</th>\n",
       "      <td>TUR1980</td>\n",
       "      <td>NaN</td>\n",
       "      <td>0.61</td>\n",
       "      <td>28.796</td>\n",
       "      <td>97.905</td>\n",
       "      <td>TUR</td>\n",
       "      <td>1980</td>\n",
       "    </tr>\n",
       "    <tr>\n",
       "      <th>2412</th>\n",
       "      <td>TUR1981</td>\n",
       "      <td>NaN</td>\n",
       "      <td>0.62</td>\n",
       "      <td>12.664</td>\n",
       "      <td>118.202</td>\n",
       "      <td>TUR</td>\n",
       "      <td>1981</td>\n",
       "    </tr>\n",
       "    <tr>\n",
       "      <th>2413</th>\n",
       "      <td>TUR1982</td>\n",
       "      <td>NaN</td>\n",
       "      <td>0.66</td>\n",
       "      <td>20.416</td>\n",
       "      <td>105.484</td>\n",
       "      <td>TUR</td>\n",
       "      <td>1982</td>\n",
       "    </tr>\n",
       "    <tr>\n",
       "      <th>2414</th>\n",
       "      <td>TUR1983</td>\n",
       "      <td>NaN</td>\n",
       "      <td>0.67</td>\n",
       "      <td>19.266</td>\n",
       "      <td>115.599</td>\n",
       "      <td>TUR</td>\n",
       "      <td>1983</td>\n",
       "    </tr>\n",
       "    <tr>\n",
       "      <th>2415</th>\n",
       "      <td>TUR1984</td>\n",
       "      <td>NaN</td>\n",
       "      <td>0.70</td>\n",
       "      <td>50.519</td>\n",
       "      <td>119.749</td>\n",
       "      <td>TUR</td>\n",
       "      <td>1984</td>\n",
       "    </tr>\n",
       "    <tr>\n",
       "      <th>2416</th>\n",
       "      <td>TUR1985</td>\n",
       "      <td>NaN</td>\n",
       "      <td>0.73</td>\n",
       "      <td>43.056</td>\n",
       "      <td>88.571</td>\n",
       "      <td>TUR</td>\n",
       "      <td>1985</td>\n",
       "    </tr>\n",
       "    <tr>\n",
       "      <th>2417</th>\n",
       "      <td>TUR1986</td>\n",
       "      <td>NaN</td>\n",
       "      <td>0.73</td>\n",
       "      <td>46.076</td>\n",
       "      <td>116.546</td>\n",
       "      <td>TUR</td>\n",
       "      <td>1986</td>\n",
       "    </tr>\n",
       "    <tr>\n",
       "      <th>2418</th>\n",
       "      <td>TUR1987</td>\n",
       "      <td>NaN</td>\n",
       "      <td>0.74</td>\n",
       "      <td>48.924</td>\n",
       "      <td>132.503</td>\n",
       "      <td>TUR</td>\n",
       "      <td>1987</td>\n",
       "    </tr>\n",
       "    <tr>\n",
       "      <th>2419</th>\n",
       "      <td>TUR1988</td>\n",
       "      <td>NaN</td>\n",
       "      <td>0.79</td>\n",
       "      <td>73.857</td>\n",
       "      <td>149.743</td>\n",
       "      <td>TUR</td>\n",
       "      <td>1988</td>\n",
       "    </tr>\n",
       "    <tr>\n",
       "      <th>2420</th>\n",
       "      <td>TUR1989</td>\n",
       "      <td>NaN</td>\n",
       "      <td>0.85</td>\n",
       "      <td>95.045</td>\n",
       "      <td>167.092</td>\n",
       "      <td>TUR</td>\n",
       "      <td>1989</td>\n",
       "    </tr>\n",
       "    <tr>\n",
       "      <th>2421</th>\n",
       "      <td>TUR1990</td>\n",
       "      <td>NaN</td>\n",
       "      <td>0.90</td>\n",
       "      <td>119.327</td>\n",
       "      <td>199.279</td>\n",
       "      <td>TUR</td>\n",
       "      <td>1990</td>\n",
       "    </tr>\n",
       "    <tr>\n",
       "      <th>2422</th>\n",
       "      <td>TUR1991</td>\n",
       "      <td>NaN</td>\n",
       "      <td>0.95</td>\n",
       "      <td>145.578</td>\n",
       "      <td>231.488</td>\n",
       "      <td>TUR</td>\n",
       "      <td>1991</td>\n",
       "    </tr>\n",
       "    <tr>\n",
       "      <th>2423</th>\n",
       "      <td>TUR1992</td>\n",
       "      <td>NaN</td>\n",
       "      <td>0.98</td>\n",
       "      <td>162.498</td>\n",
       "      <td>242.662</td>\n",
       "      <td>TUR</td>\n",
       "      <td>1992</td>\n",
       "    </tr>\n",
       "    <tr>\n",
       "      <th>2424</th>\n",
       "      <td>TUR1993</td>\n",
       "      <td>NaN</td>\n",
       "      <td>1.03</td>\n",
       "      <td>171.528</td>\n",
       "      <td>258.345</td>\n",
       "      <td>TUR</td>\n",
       "      <td>1993</td>\n",
       "    </tr>\n",
       "    <tr>\n",
       "      <th>2425</th>\n",
       "      <td>TUR1994</td>\n",
       "      <td>NaN</td>\n",
       "      <td>1.09</td>\n",
       "      <td>164.136</td>\n",
       "      <td>238.341</td>\n",
       "      <td>TUR</td>\n",
       "      <td>1994</td>\n",
       "    </tr>\n",
       "    <tr>\n",
       "      <th>2426</th>\n",
       "      <td>TUR1995</td>\n",
       "      <td>NaN</td>\n",
       "      <td>1.10</td>\n",
       "      <td>167.990</td>\n",
       "      <td>238.902</td>\n",
       "      <td>TUR</td>\n",
       "      <td>1995</td>\n",
       "    </tr>\n",
       "    <tr>\n",
       "      <th>2428</th>\n",
       "      <td>USA2016</td>\n",
       "      <td>NaN</td>\n",
       "      <td>2.58</td>\n",
       "      <td>8047.295</td>\n",
       "      <td>9832.317</td>\n",
       "      <td>USA</td>\n",
       "      <td>2016</td>\n",
       "    </tr>\n",
       "    <tr>\n",
       "      <th>2450</th>\n",
       "      <td>KOR1980</td>\n",
       "      <td>NaN</td>\n",
       "      <td>NaN</td>\n",
       "      <td>16.755</td>\n",
       "      <td>83.141</td>\n",
       "      <td>KOR</td>\n",
       "      <td>1980</td>\n",
       "    </tr>\n",
       "  </tbody>\n",
       "</table>\n",
       "</div>"
      ],
      "text/plain": [
       "          Key  INFANTMORTALITY_TOT  MEDICALDOC_TOT  HEALTHEXP_COMPULSORY  \\\n",
       "2365  CAN2015                  NaN            2.66              3267.052   \n",
       "2366  CAN2016                  NaN            2.68              3319.113   \n",
       "2372  KOR1982                  NaN            0.55                26.873   \n",
       "2373  KOR1983                  NaN            0.54                34.845   \n",
       "2374  KOR1986                  NaN            0.65                49.588   \n",
       "2375  KOR1988                  NaN            0.74                74.114   \n",
       "2376  KOR1990                  NaN            0.83               122.083   \n",
       "2377  KOR1992                  NaN            0.97               139.800   \n",
       "2378  KOR1994                  NaN            1.07               172.099   \n",
       "2379  KOR1995                  NaN            1.12               192.661   \n",
       "2380  KOR1997                  NaN            1.23               265.646   \n",
       "2381  KOR1998                  NaN            1.27               286.570   \n",
       "2382  KOR2000                  NaN            1.30               389.658   \n",
       "2383  KOR2001                  NaN            1.39               511.546   \n",
       "2384  KOR2003                  NaN            1.57               572.543   \n",
       "2385  KOR2004                  NaN            1.56               617.595   \n",
       "2411  TUR1980                  NaN            0.61                28.796   \n",
       "2412  TUR1981                  NaN            0.62                12.664   \n",
       "2413  TUR1982                  NaN            0.66                20.416   \n",
       "2414  TUR1983                  NaN            0.67                19.266   \n",
       "2415  TUR1984                  NaN            0.70                50.519   \n",
       "2416  TUR1985                  NaN            0.73                43.056   \n",
       "2417  TUR1986                  NaN            0.73                46.076   \n",
       "2418  TUR1987                  NaN            0.74                48.924   \n",
       "2419  TUR1988                  NaN            0.79                73.857   \n",
       "2420  TUR1989                  NaN            0.85                95.045   \n",
       "2421  TUR1990                  NaN            0.90               119.327   \n",
       "2422  TUR1991                  NaN            0.95               145.578   \n",
       "2423  TUR1992                  NaN            0.98               162.498   \n",
       "2424  TUR1993                  NaN            1.03               171.528   \n",
       "2425  TUR1994                  NaN            1.09               164.136   \n",
       "2426  TUR1995                  NaN            1.10               167.990   \n",
       "2428  USA2016                  NaN            2.58              8047.295   \n",
       "2450  KOR1980                  NaN             NaN                16.755   \n",
       "\n",
       "      HEALTHEXP_TOT Country  Year  \n",
       "2365       4632.837     CAN  2015  \n",
       "2366       4721.578     CAN  2016  \n",
       "2372        111.654     KOR  1982  \n",
       "2373        125.619     KOR  1983  \n",
       "2374        162.453     KOR  1986  \n",
       "2375        216.312     KOR  1988  \n",
       "2376        304.540     KOR  1990  \n",
       "2377        365.947     KOR  1992  \n",
       "2378        412.286     KOR  1994  \n",
       "2379        457.450     KOR  1995  \n",
       "2380        555.617     KOR  1997  \n",
       "2381        546.809     KOR  1998  \n",
       "2382        723.058     KOR  2000  \n",
       "2383        897.971     KOR  2001  \n",
       "2384        997.140     KOR  2003  \n",
       "2385       1065.157     KOR  2004  \n",
       "2411         97.905     TUR  1980  \n",
       "2412        118.202     TUR  1981  \n",
       "2413        105.484     TUR  1982  \n",
       "2414        115.599     TUR  1983  \n",
       "2415        119.749     TUR  1984  \n",
       "2416         88.571     TUR  1985  \n",
       "2417        116.546     TUR  1986  \n",
       "2418        132.503     TUR  1987  \n",
       "2419        149.743     TUR  1988  \n",
       "2420        167.092     TUR  1989  \n",
       "2421        199.279     TUR  1990  \n",
       "2422        231.488     TUR  1991  \n",
       "2423        242.662     TUR  1992  \n",
       "2424        258.345     TUR  1993  \n",
       "2425        238.341     TUR  1994  \n",
       "2426        238.902     TUR  1995  \n",
       "2428       9832.317     USA  2016  \n",
       "2450         83.141     KOR  1980  "
      ]
     },
     "execution_count": 214,
     "metadata": {},
     "output_type": "execute_result"
    }
   ],
   "source": [
    "clean_data[clean_data['INFANTMORTALITY_TOT'].isnull()]"
   ]
  },
  {
   "cell_type": "code",
   "execution_count": 215,
   "metadata": {},
   "outputs": [
    {
     "data": {
      "text/html": [
       "<div>\n",
       "<style scoped>\n",
       "    .dataframe tbody tr th:only-of-type {\n",
       "        vertical-align: middle;\n",
       "    }\n",
       "\n",
       "    .dataframe tbody tr th {\n",
       "        vertical-align: top;\n",
       "    }\n",
       "\n",
       "    .dataframe thead th {\n",
       "        text-align: right;\n",
       "    }\n",
       "</style>\n",
       "<table border=\"1\" class=\"dataframe\">\n",
       "  <thead>\n",
       "    <tr style=\"text-align: right;\">\n",
       "      <th></th>\n",
       "      <th>Key</th>\n",
       "      <th>INFANTMORTALITY_TOT</th>\n",
       "      <th>MEDICALDOC_TOT</th>\n",
       "      <th>HEALTHEXP_COMPULSORY</th>\n",
       "      <th>HEALTHEXP_TOT</th>\n",
       "      <th>Country</th>\n",
       "      <th>Year</th>\n",
       "    </tr>\n",
       "  </thead>\n",
       "  <tbody>\n",
       "    <tr>\n",
       "      <th>50</th>\n",
       "      <td>AUS2010</td>\n",
       "      <td>4.1</td>\n",
       "      <td>NaN</td>\n",
       "      <td>2478.320</td>\n",
       "      <td>3610.796</td>\n",
       "      <td>AUS</td>\n",
       "      <td>2010</td>\n",
       "    </tr>\n",
       "    <tr>\n",
       "      <th>280</th>\n",
       "      <td>CZE2014</td>\n",
       "      <td>2.4</td>\n",
       "      <td>NaN</td>\n",
       "      <td>2041.650</td>\n",
       "      <td>2469.139</td>\n",
       "      <td>CZE</td>\n",
       "      <td>2014</td>\n",
       "    </tr>\n",
       "    <tr>\n",
       "      <th>281</th>\n",
       "      <td>CZE2015</td>\n",
       "      <td>2.5</td>\n",
       "      <td>NaN</td>\n",
       "      <td>1996.719</td>\n",
       "      <td>2392.635</td>\n",
       "      <td>CZE</td>\n",
       "      <td>2015</td>\n",
       "    </tr>\n",
       "    <tr>\n",
       "      <th>282</th>\n",
       "      <td>CZE2016</td>\n",
       "      <td>2.8</td>\n",
       "      <td>NaN</td>\n",
       "      <td>2034.436</td>\n",
       "      <td>2481.697</td>\n",
       "      <td>CZE</td>\n",
       "      <td>2016</td>\n",
       "    </tr>\n",
       "    <tr>\n",
       "      <th>339</th>\n",
       "      <td>DNK2016</td>\n",
       "      <td>3.1</td>\n",
       "      <td>NaN</td>\n",
       "      <td>4268.811</td>\n",
       "      <td>5074.523</td>\n",
       "      <td>DNK</td>\n",
       "      <td>2016</td>\n",
       "    </tr>\n",
       "    <tr>\n",
       "      <th>417</th>\n",
       "      <td>FRA1980</td>\n",
       "      <td>10.0</td>\n",
       "      <td>NaN</td>\n",
       "      <td>521.188</td>\n",
       "      <td>654.946</td>\n",
       "      <td>FRA</td>\n",
       "      <td>1980</td>\n",
       "    </tr>\n",
       "    <tr>\n",
       "      <th>418</th>\n",
       "      <td>FRA1981</td>\n",
       "      <td>9.7</td>\n",
       "      <td>NaN</td>\n",
       "      <td>NaN</td>\n",
       "      <td>NaN</td>\n",
       "      <td>FRA</td>\n",
       "      <td>1981</td>\n",
       "    </tr>\n",
       "    <tr>\n",
       "      <th>419</th>\n",
       "      <td>FRA1982</td>\n",
       "      <td>9.5</td>\n",
       "      <td>NaN</td>\n",
       "      <td>NaN</td>\n",
       "      <td>NaN</td>\n",
       "      <td>FRA</td>\n",
       "      <td>1982</td>\n",
       "    </tr>\n",
       "    <tr>\n",
       "      <th>420</th>\n",
       "      <td>FRA1983</td>\n",
       "      <td>9.1</td>\n",
       "      <td>NaN</td>\n",
       "      <td>NaN</td>\n",
       "      <td>NaN</td>\n",
       "      <td>FRA</td>\n",
       "      <td>1983</td>\n",
       "    </tr>\n",
       "    <tr>\n",
       "      <th>421</th>\n",
       "      <td>FRA1984</td>\n",
       "      <td>8.3</td>\n",
       "      <td>NaN</td>\n",
       "      <td>NaN</td>\n",
       "      <td>NaN</td>\n",
       "      <td>FRA</td>\n",
       "      <td>1984</td>\n",
       "    </tr>\n",
       "    <tr>\n",
       "      <th>422</th>\n",
       "      <td>FRA1985</td>\n",
       "      <td>8.3</td>\n",
       "      <td>NaN</td>\n",
       "      <td>789.986</td>\n",
       "      <td>1012.407</td>\n",
       "      <td>FRA</td>\n",
       "      <td>1985</td>\n",
       "    </tr>\n",
       "    <tr>\n",
       "      <th>423</th>\n",
       "      <td>FRA1986</td>\n",
       "      <td>8.0</td>\n",
       "      <td>NaN</td>\n",
       "      <td>NaN</td>\n",
       "      <td>NaN</td>\n",
       "      <td>FRA</td>\n",
       "      <td>1986</td>\n",
       "    </tr>\n",
       "    <tr>\n",
       "      <th>424</th>\n",
       "      <td>FRA1987</td>\n",
       "      <td>7.8</td>\n",
       "      <td>NaN</td>\n",
       "      <td>NaN</td>\n",
       "      <td>NaN</td>\n",
       "      <td>FRA</td>\n",
       "      <td>1987</td>\n",
       "    </tr>\n",
       "    <tr>\n",
       "      <th>425</th>\n",
       "      <td>FRA1988</td>\n",
       "      <td>7.8</td>\n",
       "      <td>NaN</td>\n",
       "      <td>NaN</td>\n",
       "      <td>NaN</td>\n",
       "      <td>FRA</td>\n",
       "      <td>1988</td>\n",
       "    </tr>\n",
       "    <tr>\n",
       "      <th>426</th>\n",
       "      <td>FRA1989</td>\n",
       "      <td>7.5</td>\n",
       "      <td>NaN</td>\n",
       "      <td>NaN</td>\n",
       "      <td>NaN</td>\n",
       "      <td>FRA</td>\n",
       "      <td>1989</td>\n",
       "    </tr>\n",
       "    <tr>\n",
       "      <th>474</th>\n",
       "      <td>DEU1980</td>\n",
       "      <td>12.4</td>\n",
       "      <td>NaN</td>\n",
       "      <td>747.970</td>\n",
       "      <td>960.924</td>\n",
       "      <td>DEU</td>\n",
       "      <td>1980</td>\n",
       "    </tr>\n",
       "    <tr>\n",
       "      <th>475</th>\n",
       "      <td>DEU1981</td>\n",
       "      <td>11.8</td>\n",
       "      <td>NaN</td>\n",
       "      <td>851.109</td>\n",
       "      <td>1092.860</td>\n",
       "      <td>DEU</td>\n",
       "      <td>1981</td>\n",
       "    </tr>\n",
       "    <tr>\n",
       "      <th>476</th>\n",
       "      <td>DEU1982</td>\n",
       "      <td>11.1</td>\n",
       "      <td>NaN</td>\n",
       "      <td>876.484</td>\n",
       "      <td>1133.774</td>\n",
       "      <td>DEU</td>\n",
       "      <td>1982</td>\n",
       "    </tr>\n",
       "    <tr>\n",
       "      <th>477</th>\n",
       "      <td>DEU1983</td>\n",
       "      <td>10.4</td>\n",
       "      <td>NaN</td>\n",
       "      <td>916.329</td>\n",
       "      <td>1199.882</td>\n",
       "      <td>DEU</td>\n",
       "      <td>1983</td>\n",
       "    </tr>\n",
       "    <tr>\n",
       "      <th>478</th>\n",
       "      <td>DEU1984</td>\n",
       "      <td>9.8</td>\n",
       "      <td>NaN</td>\n",
       "      <td>996.673</td>\n",
       "      <td>1300.873</td>\n",
       "      <td>DEU</td>\n",
       "      <td>1984</td>\n",
       "    </tr>\n",
       "    <tr>\n",
       "      <th>479</th>\n",
       "      <td>DEU1985</td>\n",
       "      <td>9.1</td>\n",
       "      <td>NaN</td>\n",
       "      <td>1072.819</td>\n",
       "      <td>1400.871</td>\n",
       "      <td>DEU</td>\n",
       "      <td>1985</td>\n",
       "    </tr>\n",
       "    <tr>\n",
       "      <th>480</th>\n",
       "      <td>DEU1986</td>\n",
       "      <td>8.7</td>\n",
       "      <td>NaN</td>\n",
       "      <td>1108.677</td>\n",
       "      <td>1442.597</td>\n",
       "      <td>DEU</td>\n",
       "      <td>1986</td>\n",
       "    </tr>\n",
       "    <tr>\n",
       "      <th>481</th>\n",
       "      <td>DEU1987</td>\n",
       "      <td>8.4</td>\n",
       "      <td>NaN</td>\n",
       "      <td>1163.358</td>\n",
       "      <td>1516.077</td>\n",
       "      <td>DEU</td>\n",
       "      <td>1987</td>\n",
       "    </tr>\n",
       "    <tr>\n",
       "      <th>482</th>\n",
       "      <td>DEU1988</td>\n",
       "      <td>7.6</td>\n",
       "      <td>NaN</td>\n",
       "      <td>1265.276</td>\n",
       "      <td>1654.096</td>\n",
       "      <td>DEU</td>\n",
       "      <td>1988</td>\n",
       "    </tr>\n",
       "    <tr>\n",
       "      <th>483</th>\n",
       "      <td>DEU1989</td>\n",
       "      <td>7.5</td>\n",
       "      <td>NaN</td>\n",
       "      <td>1234.449</td>\n",
       "      <td>1643.004</td>\n",
       "      <td>DEU</td>\n",
       "      <td>1989</td>\n",
       "    </tr>\n",
       "    <tr>\n",
       "      <th>484</th>\n",
       "      <td>DEU1990</td>\n",
       "      <td>7.0</td>\n",
       "      <td>NaN</td>\n",
       "      <td>1326.060</td>\n",
       "      <td>1757.736</td>\n",
       "      <td>DEU</td>\n",
       "      <td>1990</td>\n",
       "    </tr>\n",
       "    <tr>\n",
       "      <th>819</th>\n",
       "      <td>JPN1983</td>\n",
       "      <td>6.2</td>\n",
       "      <td>NaN</td>\n",
       "      <td>547.946</td>\n",
       "      <td>752.907</td>\n",
       "      <td>JPN</td>\n",
       "      <td>1983</td>\n",
       "    </tr>\n",
       "    <tr>\n",
       "      <th>821</th>\n",
       "      <td>JPN1985</td>\n",
       "      <td>5.5</td>\n",
       "      <td>NaN</td>\n",
       "      <td>611.429</td>\n",
       "      <td>864.523</td>\n",
       "      <td>JPN</td>\n",
       "      <td>1985</td>\n",
       "    </tr>\n",
       "    <tr>\n",
       "      <th>823</th>\n",
       "      <td>JPN1987</td>\n",
       "      <td>5.0</td>\n",
       "      <td>NaN</td>\n",
       "      <td>702.188</td>\n",
       "      <td>953.318</td>\n",
       "      <td>JPN</td>\n",
       "      <td>1987</td>\n",
       "    </tr>\n",
       "    <tr>\n",
       "      <th>825</th>\n",
       "      <td>JPN1989</td>\n",
       "      <td>4.6</td>\n",
       "      <td>NaN</td>\n",
       "      <td>806.886</td>\n",
       "      <td>1052.817</td>\n",
       "      <td>JPN</td>\n",
       "      <td>1989</td>\n",
       "    </tr>\n",
       "    <tr>\n",
       "      <th>...</th>\n",
       "      <td>...</td>\n",
       "      <td>...</td>\n",
       "      <td>...</td>\n",
       "      <td>...</td>\n",
       "      <td>...</td>\n",
       "      <td>...</td>\n",
       "      <td>...</td>\n",
       "    </tr>\n",
       "    <tr>\n",
       "      <th>1597</th>\n",
       "      <td>USA1980</td>\n",
       "      <td>12.6</td>\n",
       "      <td>NaN</td>\n",
       "      <td>434.865</td>\n",
       "      <td>1036.300</td>\n",
       "      <td>USA</td>\n",
       "      <td>1980</td>\n",
       "    </tr>\n",
       "    <tr>\n",
       "      <th>1598</th>\n",
       "      <td>USA1981</td>\n",
       "      <td>11.9</td>\n",
       "      <td>NaN</td>\n",
       "      <td>500.236</td>\n",
       "      <td>1191.537</td>\n",
       "      <td>USA</td>\n",
       "      <td>1981</td>\n",
       "    </tr>\n",
       "    <tr>\n",
       "      <th>1599</th>\n",
       "      <td>USA1982</td>\n",
       "      <td>11.5</td>\n",
       "      <td>NaN</td>\n",
       "      <td>551.686</td>\n",
       "      <td>1329.669</td>\n",
       "      <td>USA</td>\n",
       "      <td>1982</td>\n",
       "    </tr>\n",
       "    <tr>\n",
       "      <th>1600</th>\n",
       "      <td>USA1983</td>\n",
       "      <td>11.2</td>\n",
       "      <td>NaN</td>\n",
       "      <td>601.672</td>\n",
       "      <td>1451.945</td>\n",
       "      <td>USA</td>\n",
       "      <td>1983</td>\n",
       "    </tr>\n",
       "    <tr>\n",
       "      <th>1601</th>\n",
       "      <td>USA1984</td>\n",
       "      <td>10.8</td>\n",
       "      <td>NaN</td>\n",
       "      <td>648.222</td>\n",
       "      <td>1590.667</td>\n",
       "      <td>USA</td>\n",
       "      <td>1984</td>\n",
       "    </tr>\n",
       "    <tr>\n",
       "      <th>1602</th>\n",
       "      <td>USA1985</td>\n",
       "      <td>10.6</td>\n",
       "      <td>NaN</td>\n",
       "      <td>698.745</td>\n",
       "      <td>1735.156</td>\n",
       "      <td>USA</td>\n",
       "      <td>1985</td>\n",
       "    </tr>\n",
       "    <tr>\n",
       "      <th>1603</th>\n",
       "      <td>USA1986</td>\n",
       "      <td>10.4</td>\n",
       "      <td>NaN</td>\n",
       "      <td>757.743</td>\n",
       "      <td>1847.773</td>\n",
       "      <td>USA</td>\n",
       "      <td>1986</td>\n",
       "    </tr>\n",
       "    <tr>\n",
       "      <th>1604</th>\n",
       "      <td>USA1987</td>\n",
       "      <td>10.1</td>\n",
       "      <td>NaN</td>\n",
       "      <td>821.759</td>\n",
       "      <td>1990.544</td>\n",
       "      <td>USA</td>\n",
       "      <td>1987</td>\n",
       "    </tr>\n",
       "    <tr>\n",
       "      <th>1605</th>\n",
       "      <td>USA1988</td>\n",
       "      <td>10.0</td>\n",
       "      <td>NaN</td>\n",
       "      <td>883.532</td>\n",
       "      <td>2210.695</td>\n",
       "      <td>USA</td>\n",
       "      <td>1988</td>\n",
       "    </tr>\n",
       "    <tr>\n",
       "      <th>1606</th>\n",
       "      <td>USA1989</td>\n",
       "      <td>9.8</td>\n",
       "      <td>NaN</td>\n",
       "      <td>975.994</td>\n",
       "      <td>2440.059</td>\n",
       "      <td>USA</td>\n",
       "      <td>1989</td>\n",
       "    </tr>\n",
       "    <tr>\n",
       "      <th>1607</th>\n",
       "      <td>USA1990</td>\n",
       "      <td>9.2</td>\n",
       "      <td>NaN</td>\n",
       "      <td>1085.250</td>\n",
       "      <td>2700.355</td>\n",
       "      <td>USA</td>\n",
       "      <td>1990</td>\n",
       "    </tr>\n",
       "    <tr>\n",
       "      <th>1608</th>\n",
       "      <td>USA1991</td>\n",
       "      <td>8.9</td>\n",
       "      <td>NaN</td>\n",
       "      <td>1217.277</td>\n",
       "      <td>2915.953</td>\n",
       "      <td>USA</td>\n",
       "      <td>1991</td>\n",
       "    </tr>\n",
       "    <tr>\n",
       "      <th>1609</th>\n",
       "      <td>USA1992</td>\n",
       "      <td>8.5</td>\n",
       "      <td>NaN</td>\n",
       "      <td>1342.963</td>\n",
       "      <td>3113.846</td>\n",
       "      <td>USA</td>\n",
       "      <td>1992</td>\n",
       "    </tr>\n",
       "    <tr>\n",
       "      <th>1971</th>\n",
       "      <td>ISR1980</td>\n",
       "      <td>15.6</td>\n",
       "      <td>NaN</td>\n",
       "      <td>NaN</td>\n",
       "      <td>577.797</td>\n",
       "      <td>ISR</td>\n",
       "      <td>1980</td>\n",
       "    </tr>\n",
       "    <tr>\n",
       "      <th>1972</th>\n",
       "      <td>ISR1981</td>\n",
       "      <td>15.7</td>\n",
       "      <td>NaN</td>\n",
       "      <td>NaN</td>\n",
       "      <td>633.427</td>\n",
       "      <td>ISR</td>\n",
       "      <td>1981</td>\n",
       "    </tr>\n",
       "    <tr>\n",
       "      <th>1973</th>\n",
       "      <td>ISR1982</td>\n",
       "      <td>14.1</td>\n",
       "      <td>NaN</td>\n",
       "      <td>NaN</td>\n",
       "      <td>679.989</td>\n",
       "      <td>ISR</td>\n",
       "      <td>1982</td>\n",
       "    </tr>\n",
       "    <tr>\n",
       "      <th>1974</th>\n",
       "      <td>ISR1983</td>\n",
       "      <td>13.7</td>\n",
       "      <td>NaN</td>\n",
       "      <td>NaN</td>\n",
       "      <td>765.031</td>\n",
       "      <td>ISR</td>\n",
       "      <td>1983</td>\n",
       "    </tr>\n",
       "    <tr>\n",
       "      <th>1975</th>\n",
       "      <td>ISR1984</td>\n",
       "      <td>12.8</td>\n",
       "      <td>NaN</td>\n",
       "      <td>NaN</td>\n",
       "      <td>955.354</td>\n",
       "      <td>ISR</td>\n",
       "      <td>1984</td>\n",
       "    </tr>\n",
       "    <tr>\n",
       "      <th>1976</th>\n",
       "      <td>ISR1985</td>\n",
       "      <td>11.9</td>\n",
       "      <td>NaN</td>\n",
       "      <td>NaN</td>\n",
       "      <td>750.638</td>\n",
       "      <td>ISR</td>\n",
       "      <td>1985</td>\n",
       "    </tr>\n",
       "    <tr>\n",
       "      <th>1977</th>\n",
       "      <td>ISR1986</td>\n",
       "      <td>11.4</td>\n",
       "      <td>NaN</td>\n",
       "      <td>NaN</td>\n",
       "      <td>731.685</td>\n",
       "      <td>ISR</td>\n",
       "      <td>1986</td>\n",
       "    </tr>\n",
       "    <tr>\n",
       "      <th>1978</th>\n",
       "      <td>ISR1987</td>\n",
       "      <td>11.1</td>\n",
       "      <td>NaN</td>\n",
       "      <td>NaN</td>\n",
       "      <td>803.429</td>\n",
       "      <td>ISR</td>\n",
       "      <td>1987</td>\n",
       "    </tr>\n",
       "    <tr>\n",
       "      <th>1979</th>\n",
       "      <td>ISR1988</td>\n",
       "      <td>10.1</td>\n",
       "      <td>NaN</td>\n",
       "      <td>NaN</td>\n",
       "      <td>874.272</td>\n",
       "      <td>ISR</td>\n",
       "      <td>1988</td>\n",
       "    </tr>\n",
       "    <tr>\n",
       "      <th>1980</th>\n",
       "      <td>ISR1989</td>\n",
       "      <td>10.1</td>\n",
       "      <td>NaN</td>\n",
       "      <td>NaN</td>\n",
       "      <td>963.989</td>\n",
       "      <td>ISR</td>\n",
       "      <td>1989</td>\n",
       "    </tr>\n",
       "    <tr>\n",
       "      <th>1981</th>\n",
       "      <td>ISR1990</td>\n",
       "      <td>9.9</td>\n",
       "      <td>NaN</td>\n",
       "      <td>NaN</td>\n",
       "      <td>977.954</td>\n",
       "      <td>ISR</td>\n",
       "      <td>1990</td>\n",
       "    </tr>\n",
       "    <tr>\n",
       "      <th>1982</th>\n",
       "      <td>ISR1991</td>\n",
       "      <td>9.2</td>\n",
       "      <td>NaN</td>\n",
       "      <td>NaN</td>\n",
       "      <td>977.535</td>\n",
       "      <td>ISR</td>\n",
       "      <td>1991</td>\n",
       "    </tr>\n",
       "    <tr>\n",
       "      <th>1983</th>\n",
       "      <td>ISR1992</td>\n",
       "      <td>9.4</td>\n",
       "      <td>NaN</td>\n",
       "      <td>NaN</td>\n",
       "      <td>1084.394</td>\n",
       "      <td>ISR</td>\n",
       "      <td>1992</td>\n",
       "    </tr>\n",
       "    <tr>\n",
       "      <th>1984</th>\n",
       "      <td>ISR1993</td>\n",
       "      <td>7.8</td>\n",
       "      <td>NaN</td>\n",
       "      <td>NaN</td>\n",
       "      <td>1155.292</td>\n",
       "      <td>ISR</td>\n",
       "      <td>1993</td>\n",
       "    </tr>\n",
       "    <tr>\n",
       "      <th>1985</th>\n",
       "      <td>ISR1994</td>\n",
       "      <td>7.5</td>\n",
       "      <td>NaN</td>\n",
       "      <td>NaN</td>\n",
       "      <td>1323.528</td>\n",
       "      <td>ISR</td>\n",
       "      <td>1994</td>\n",
       "    </tr>\n",
       "    <tr>\n",
       "      <th>1986</th>\n",
       "      <td>ISR1995</td>\n",
       "      <td>6.8</td>\n",
       "      <td>NaN</td>\n",
       "      <td>930.975</td>\n",
       "      <td>1365.907</td>\n",
       "      <td>ISR</td>\n",
       "      <td>1995</td>\n",
       "    </tr>\n",
       "    <tr>\n",
       "      <th>2450</th>\n",
       "      <td>KOR1980</td>\n",
       "      <td>NaN</td>\n",
       "      <td>NaN</td>\n",
       "      <td>16.755</td>\n",
       "      <td>83.141</td>\n",
       "      <td>KOR</td>\n",
       "      <td>1980</td>\n",
       "    </tr>\n",
       "  </tbody>\n",
       "</table>\n",
       "<p>109 rows × 7 columns</p>\n",
       "</div>"
      ],
      "text/plain": [
       "          Key  INFANTMORTALITY_TOT  MEDICALDOC_TOT  HEALTHEXP_COMPULSORY  \\\n",
       "50    AUS2010                  4.1             NaN              2478.320   \n",
       "280   CZE2014                  2.4             NaN              2041.650   \n",
       "281   CZE2015                  2.5             NaN              1996.719   \n",
       "282   CZE2016                  2.8             NaN              2034.436   \n",
       "339   DNK2016                  3.1             NaN              4268.811   \n",
       "417   FRA1980                 10.0             NaN               521.188   \n",
       "418   FRA1981                  9.7             NaN                   NaN   \n",
       "419   FRA1982                  9.5             NaN                   NaN   \n",
       "420   FRA1983                  9.1             NaN                   NaN   \n",
       "421   FRA1984                  8.3             NaN                   NaN   \n",
       "422   FRA1985                  8.3             NaN               789.986   \n",
       "423   FRA1986                  8.0             NaN                   NaN   \n",
       "424   FRA1987                  7.8             NaN                   NaN   \n",
       "425   FRA1988                  7.8             NaN                   NaN   \n",
       "426   FRA1989                  7.5             NaN                   NaN   \n",
       "474   DEU1980                 12.4             NaN               747.970   \n",
       "475   DEU1981                 11.8             NaN               851.109   \n",
       "476   DEU1982                 11.1             NaN               876.484   \n",
       "477   DEU1983                 10.4             NaN               916.329   \n",
       "478   DEU1984                  9.8             NaN               996.673   \n",
       "479   DEU1985                  9.1             NaN              1072.819   \n",
       "480   DEU1986                  8.7             NaN              1108.677   \n",
       "481   DEU1987                  8.4             NaN              1163.358   \n",
       "482   DEU1988                  7.6             NaN              1265.276   \n",
       "483   DEU1989                  7.5             NaN              1234.449   \n",
       "484   DEU1990                  7.0             NaN              1326.060   \n",
       "819   JPN1983                  6.2             NaN               547.946   \n",
       "821   JPN1985                  5.5             NaN               611.429   \n",
       "823   JPN1987                  5.0             NaN               702.188   \n",
       "825   JPN1989                  4.6             NaN               806.886   \n",
       "...       ...                  ...             ...                   ...   \n",
       "1597  USA1980                 12.6             NaN               434.865   \n",
       "1598  USA1981                 11.9             NaN               500.236   \n",
       "1599  USA1982                 11.5             NaN               551.686   \n",
       "1600  USA1983                 11.2             NaN               601.672   \n",
       "1601  USA1984                 10.8             NaN               648.222   \n",
       "1602  USA1985                 10.6             NaN               698.745   \n",
       "1603  USA1986                 10.4             NaN               757.743   \n",
       "1604  USA1987                 10.1             NaN               821.759   \n",
       "1605  USA1988                 10.0             NaN               883.532   \n",
       "1606  USA1989                  9.8             NaN               975.994   \n",
       "1607  USA1990                  9.2             NaN              1085.250   \n",
       "1608  USA1991                  8.9             NaN              1217.277   \n",
       "1609  USA1992                  8.5             NaN              1342.963   \n",
       "1971  ISR1980                 15.6             NaN                   NaN   \n",
       "1972  ISR1981                 15.7             NaN                   NaN   \n",
       "1973  ISR1982                 14.1             NaN                   NaN   \n",
       "1974  ISR1983                 13.7             NaN                   NaN   \n",
       "1975  ISR1984                 12.8             NaN                   NaN   \n",
       "1976  ISR1985                 11.9             NaN                   NaN   \n",
       "1977  ISR1986                 11.4             NaN                   NaN   \n",
       "1978  ISR1987                 11.1             NaN                   NaN   \n",
       "1979  ISR1988                 10.1             NaN                   NaN   \n",
       "1980  ISR1989                 10.1             NaN                   NaN   \n",
       "1981  ISR1990                  9.9             NaN                   NaN   \n",
       "1982  ISR1991                  9.2             NaN                   NaN   \n",
       "1983  ISR1992                  9.4             NaN                   NaN   \n",
       "1984  ISR1993                  7.8             NaN                   NaN   \n",
       "1985  ISR1994                  7.5             NaN                   NaN   \n",
       "1986  ISR1995                  6.8             NaN               930.975   \n",
       "2450  KOR1980                  NaN             NaN                16.755   \n",
       "\n",
       "      HEALTHEXP_TOT Country  Year  \n",
       "50         3610.796     AUS  2010  \n",
       "280        2469.139     CZE  2014  \n",
       "281        2392.635     CZE  2015  \n",
       "282        2481.697     CZE  2016  \n",
       "339        5074.523     DNK  2016  \n",
       "417         654.946     FRA  1980  \n",
       "418             NaN     FRA  1981  \n",
       "419             NaN     FRA  1982  \n",
       "420             NaN     FRA  1983  \n",
       "421             NaN     FRA  1984  \n",
       "422        1012.407     FRA  1985  \n",
       "423             NaN     FRA  1986  \n",
       "424             NaN     FRA  1987  \n",
       "425             NaN     FRA  1988  \n",
       "426             NaN     FRA  1989  \n",
       "474         960.924     DEU  1980  \n",
       "475        1092.860     DEU  1981  \n",
       "476        1133.774     DEU  1982  \n",
       "477        1199.882     DEU  1983  \n",
       "478        1300.873     DEU  1984  \n",
       "479        1400.871     DEU  1985  \n",
       "480        1442.597     DEU  1986  \n",
       "481        1516.077     DEU  1987  \n",
       "482        1654.096     DEU  1988  \n",
       "483        1643.004     DEU  1989  \n",
       "484        1757.736     DEU  1990  \n",
       "819         752.907     JPN  1983  \n",
       "821         864.523     JPN  1985  \n",
       "823         953.318     JPN  1987  \n",
       "825        1052.817     JPN  1989  \n",
       "...             ...     ...   ...  \n",
       "1597       1036.300     USA  1980  \n",
       "1598       1191.537     USA  1981  \n",
       "1599       1329.669     USA  1982  \n",
       "1600       1451.945     USA  1983  \n",
       "1601       1590.667     USA  1984  \n",
       "1602       1735.156     USA  1985  \n",
       "1603       1847.773     USA  1986  \n",
       "1604       1990.544     USA  1987  \n",
       "1605       2210.695     USA  1988  \n",
       "1606       2440.059     USA  1989  \n",
       "1607       2700.355     USA  1990  \n",
       "1608       2915.953     USA  1991  \n",
       "1609       3113.846     USA  1992  \n",
       "1971        577.797     ISR  1980  \n",
       "1972        633.427     ISR  1981  \n",
       "1973        679.989     ISR  1982  \n",
       "1974        765.031     ISR  1983  \n",
       "1975        955.354     ISR  1984  \n",
       "1976        750.638     ISR  1985  \n",
       "1977        731.685     ISR  1986  \n",
       "1978        803.429     ISR  1987  \n",
       "1979        874.272     ISR  1988  \n",
       "1980        963.989     ISR  1989  \n",
       "1981        977.954     ISR  1990  \n",
       "1982        977.535     ISR  1991  \n",
       "1983       1084.394     ISR  1992  \n",
       "1984       1155.292     ISR  1993  \n",
       "1985       1323.528     ISR  1994  \n",
       "1986       1365.907     ISR  1995  \n",
       "2450         83.141     KOR  1980  \n",
       "\n",
       "[109 rows x 7 columns]"
      ]
     },
     "execution_count": 215,
     "metadata": {},
     "output_type": "execute_result"
    }
   ],
   "source": [
    "clean_data[clean_data['MEDICALDOC_TOT'].isnull()]"
   ]
  },
  {
   "cell_type": "code",
   "execution_count": 69,
   "metadata": {},
   "outputs": [
    {
     "data": {
      "application/vnd.plotly.v1+json": {
       "config": {
        "linkText": "Export to plot.ly",
        "plotlyServerURL": "https://plot.ly",
        "showLink": false
       },
       "data": [
        {
         "mode": "markers",
         "name": "AUS",
         "text": [
          "10.7"
         ],
         "type": "scatter",
         "uid": "7de6ccb9-ab38-4a9e-a9e7-4ba82a815d0e",
         "x": [
          10.7
         ],
         "y": [
          "AUS"
         ]
        },
        {
         "mode": "markers",
         "name": "AUT",
         "text": [
          "14.3"
         ],
         "type": "scatter",
         "uid": "0fbc47a0-d676-4cda-95ed-d95852625d2d",
         "x": [
          14.3
         ],
         "y": [
          "AUT"
         ]
        },
        {
         "mode": "markers",
         "name": "BEL",
         "text": [
          "12.1"
         ],
         "type": "scatter",
         "uid": "30a50d25-648b-4dd7-9504-fc4d1afd1b38",
         "x": [
          12.1
         ],
         "y": [
          "BEL"
         ]
        },
        {
         "mode": "markers",
         "name": "CAN",
         "text": [
          "10.4"
         ],
         "type": "scatter",
         "uid": "79e9cac2-eef8-4fbd-8b3e-df6731cf83ea",
         "x": [
          10.4
         ],
         "y": [
          "CAN"
         ]
        },
        {
         "mode": "markers",
         "name": "CZE",
         "text": [
          "16.9"
         ],
         "type": "scatter",
         "uid": "9adc0779-e29a-4074-aa2d-628a92e8199c",
         "x": [
          16.9
         ],
         "y": [
          "CZE"
         ]
        },
        {
         "mode": "markers",
         "name": "DNK",
         "text": [
          "8.4"
         ],
         "type": "scatter",
         "uid": "fc63a816-2ee2-4e66-895d-095ccbe3cb79",
         "x": [
          8.4
         ],
         "y": [
          "DNK"
         ]
        },
        {
         "mode": "markers",
         "name": "FIN",
         "text": [
          "7.6"
         ],
         "type": "scatter",
         "uid": "d4f6b415-c3a1-4587-9b1b-c850b0a16c36",
         "x": [
          7.6
         ],
         "y": [
          "FIN"
         ]
        },
        {
         "mode": "markers",
         "name": "FRA",
         "text": [
          "10.0"
         ],
         "type": "scatter",
         "uid": "f962f260-2c74-4b70-9484-9db20916a068",
         "x": [
          10
         ],
         "y": [
          "FRA"
         ]
        },
        {
         "mode": "markers",
         "name": "DEU",
         "text": [
          "12.4"
         ],
         "type": "scatter",
         "uid": "78fdc398-f5fd-4246-bee0-d11fb608cfc1",
         "x": [
          12.4
         ],
         "y": [
          "DEU"
         ]
        },
        {
         "mode": "markers",
         "name": "GRC",
         "text": [
          "17.9"
         ],
         "type": "scatter",
         "uid": "82e15d9e-6d28-43a9-bb6e-504e097dd806",
         "x": [
          17.9
         ],
         "y": [
          "GRC"
         ]
        },
        {
         "mode": "markers",
         "name": "HUN",
         "text": [
          "23.2"
         ],
         "type": "scatter",
         "uid": "c7a77e9f-8a75-44fc-b389-d9d4b65ebf16",
         "x": [
          23.2
         ],
         "y": [
          "HUN"
         ]
        },
        {
         "mode": "markers",
         "name": "ISL",
         "text": [
          "7.7"
         ],
         "type": "scatter",
         "uid": "747c47e4-2520-46ce-9c1b-0c0c5cf07f98",
         "x": [
          7.7
         ],
         "y": [
          "ISL"
         ]
        },
        {
         "mode": "markers",
         "name": "IRL",
         "text": [
          "11.1"
         ],
         "type": "scatter",
         "uid": "7be9e205-b5bd-40e4-8e19-aa9103457732",
         "x": [
          11.1
         ],
         "y": [
          "IRL"
         ]
        },
        {
         "mode": "markers",
         "name": "ITA",
         "text": [
          "14.6"
         ],
         "type": "scatter",
         "uid": "6fcd9c0a-9581-4465-8922-7bf4ca84c3d5",
         "x": [
          14.6
         ],
         "y": [
          "ITA"
         ]
        },
        {
         "mode": "markers",
         "name": "JPN",
         "text": [
          "7.5"
         ],
         "type": "scatter",
         "uid": "9dae0003-0073-441b-b244-1ead51c2721c",
         "x": [
          7.5
         ],
         "y": [
          "JPN"
         ]
        },
        {
         "mode": "markers",
         "name": "KOR",
         "text": [
          "0"
         ],
         "type": "scatter",
         "uid": "a4376f9b-6305-45fc-880e-f745e6ffc0cf",
         "x": [
          0
         ],
         "y": [
          "KOR"
         ]
        },
        {
         "mode": "markers",
         "name": "LUX",
         "text": [
          "11.5"
         ],
         "type": "scatter",
         "uid": "e04bfd67-510e-468d-b0ca-002a0ccc89c5",
         "x": [
          11.5
         ],
         "y": [
          "LUX"
         ]
        },
        {
         "mode": "markers",
         "name": "MEX",
         "text": [
          "52.6"
         ],
         "type": "scatter",
         "uid": "1a16f3f6-fa9a-4640-88c4-9daa50f81e2a",
         "x": [
          52.6
         ],
         "y": [
          "MEX"
         ]
        },
        {
         "mode": "markers",
         "name": "NLD",
         "text": [
          "8.6"
         ],
         "type": "scatter",
         "uid": "e88b22eb-66a2-4e1b-91bd-437c981202c3",
         "x": [
          8.6
         ],
         "y": [
          "NLD"
         ]
        },
        {
         "mode": "markers",
         "name": "NZL",
         "text": [
          "13.0"
         ],
         "type": "scatter",
         "uid": "b81026c1-ffaa-4db4-aa9e-1b688dc6ee99",
         "x": [
          13
         ],
         "y": [
          "NZL"
         ]
        },
        {
         "mode": "markers",
         "name": "NOR",
         "text": [
          "8.1"
         ],
         "type": "scatter",
         "uid": "b7afc7e3-75b0-47e3-8053-475c02417fc5",
         "x": [
          8.1
         ],
         "y": [
          "NOR"
         ]
        },
        {
         "mode": "markers",
         "name": "POL",
         "text": [
          "25.4"
         ],
         "type": "scatter",
         "uid": "5830bf4d-6837-46d7-9390-becaa3e455df",
         "x": [
          25.4
         ],
         "y": [
          "POL"
         ]
        },
        {
         "mode": "markers",
         "name": "PRT",
         "text": [
          "24.3"
         ],
         "type": "scatter",
         "uid": "c6fa0173-53d1-45b0-9e58-d051532a5941",
         "x": [
          24.3
         ],
         "y": [
          "PRT"
         ]
        },
        {
         "mode": "markers",
         "name": "SVK",
         "text": [
          "20.9"
         ],
         "type": "scatter",
         "uid": "26b45dbd-7058-4d9a-a2e8-11ec4402bfda",
         "x": [
          20.9
         ],
         "y": [
          "SVK"
         ]
        },
        {
         "mode": "markers",
         "name": "ESP",
         "text": [
          "12.3"
         ],
         "type": "scatter",
         "uid": "5f00badd-16a2-4443-a451-f1ce6ebfef09",
         "x": [
          12.3
         ],
         "y": [
          "ESP"
         ]
        },
        {
         "mode": "markers",
         "name": "SWE",
         "text": [
          "6.9"
         ],
         "type": "scatter",
         "uid": "72e2f134-7d5b-4bc5-91d3-f5a69a6964f5",
         "x": [
          6.9
         ],
         "y": [
          "SWE"
         ]
        },
        {
         "mode": "markers",
         "name": "CHE",
         "text": [
          "9.1"
         ],
         "type": "scatter",
         "uid": "e6e8abd2-5339-42c7-9ebb-14b547fde0d7",
         "x": [
          9.1
         ],
         "y": [
          "CHE"
         ]
        },
        {
         "mode": "markers",
         "name": "TUR",
         "text": [
          "0"
         ],
         "type": "scatter",
         "uid": "36766715-4124-483a-ad66-e7e6d304958b",
         "x": [
          0
         ],
         "y": [
          "TUR"
         ]
        },
        {
         "mode": "markers",
         "name": "GBR",
         "text": [
          "12.1"
         ],
         "type": "scatter",
         "uid": "4a2141a1-82d4-456b-a9f6-b7c84bfcf66f",
         "x": [
          12.1
         ],
         "y": [
          "GBR"
         ]
        },
        {
         "mode": "markers",
         "name": "USA",
         "text": [
          "12.6"
         ],
         "type": "scatter",
         "uid": "8b483d9f-b9ee-42f0-8944-2284ef6e5754",
         "x": [
          12.6
         ],
         "y": [
          "USA"
         ]
        },
        {
         "mode": "markers",
         "name": "BRA",
         "text": [
          "75.9"
         ],
         "type": "scatter",
         "uid": "0db8f275-5f59-415f-a989-ff6c975434e6",
         "x": [
          75.9
         ],
         "y": [
          "BRA"
         ]
        },
        {
         "mode": "markers",
         "name": "CHL",
         "text": [
          "33.0"
         ],
         "type": "scatter",
         "uid": "380b8e04-ec26-447c-87fe-d72054d90f7b",
         "x": [
          33
         ],
         "y": [
          "CHL"
         ]
        },
        {
         "mode": "markers",
         "name": "CHN",
         "text": [
          "48.0"
         ],
         "type": "scatter",
         "uid": "6f2d6095-5683-49da-95cf-ca3ec5355600",
         "x": [
          48
         ],
         "y": [
          "CHN"
         ]
        },
        {
         "mode": "markers",
         "name": "EST",
         "text": [
          "17.1"
         ],
         "type": "scatter",
         "uid": "d68ea0f2-cae3-4a9b-92a2-ff4296364313",
         "x": [
          17.1
         ],
         "y": [
          "EST"
         ]
        },
        {
         "mode": "markers",
         "name": "IND",
         "text": [
          "114.3"
         ],
         "type": "scatter",
         "uid": "cedc1bd3-bca9-4598-a6f7-92610e6c49b2",
         "x": [
          114.3
         ],
         "y": [
          "IND"
         ]
        },
        {
         "mode": "markers",
         "name": "IDN",
         "text": [
          "85.4"
         ],
         "type": "scatter",
         "uid": "1d2dd172-0178-478b-a00e-566c642b0a65",
         "x": [
          85.4
         ],
         "y": [
          "IDN"
         ]
        },
        {
         "mode": "markers",
         "name": "ISR",
         "text": [
          "15.6"
         ],
         "type": "scatter",
         "uid": "5b0dd0c1-3cb5-4060-9c37-c7243418da59",
         "x": [
          15.6
         ],
         "y": [
          "ISR"
         ]
        },
        {
         "mode": "markers",
         "name": "RUS",
         "text": [
          "22.0"
         ],
         "type": "scatter",
         "uid": "b43947f1-3066-46f7-931c-963f9774e79c",
         "x": [
          22
         ],
         "y": [
          "RUS"
         ]
        },
        {
         "mode": "markers",
         "name": "SVN",
         "text": [
          "15.3"
         ],
         "type": "scatter",
         "uid": "b2191b0a-975f-4968-8ea5-06b5a0bd1cdf",
         "x": [
          15.3
         ],
         "y": [
          "SVN"
         ]
        },
        {
         "mode": "markers",
         "name": "ZAF",
         "text": [
          "68.0"
         ],
         "type": "scatter",
         "uid": "07f4b225-7a42-4809-82cf-0da5df3b3473",
         "x": [
          68
         ],
         "y": [
          "ZAF"
         ]
        },
        {
         "mode": "markers",
         "name": "COL",
         "text": [
          "44.6"
         ],
         "type": "scatter",
         "uid": "234fafe7-d378-418a-8ac4-9ed47aac010f",
         "x": [
          44.6
         ],
         "y": [
          "COL"
         ]
        },
        {
         "mode": "markers",
         "name": "LVA",
         "text": [
          "15.3"
         ],
         "type": "scatter",
         "uid": "b4dae136-4f46-452a-9982-e8c8ccfa5275",
         "x": [
          15.3
         ],
         "y": [
          "LVA"
         ]
        },
        {
         "mode": "markers",
         "name": "LTU",
         "text": [
          "14.5"
         ],
         "type": "scatter",
         "uid": "0dfdd307-f39f-43af-9462-09bc492a5df2",
         "x": [
          14.5
         ],
         "y": [
          "LTU"
         ]
        },
        {
         "mode": "markers",
         "name": "CRI",
         "text": [
          "19.8"
         ],
         "type": "scatter",
         "uid": "0c3de847-6ca0-4439-a41a-c27a5cd054c6",
         "x": [
          19.8
         ],
         "y": [
          "CRI"
         ]
        }
       ],
       "frames": [
        {
         "data": [
          {
           "mode": "markers",
           "name": "AUS",
           "text": [
            "10.7"
           ],
           "type": "scatter",
           "x": [
            10.7
           ],
           "y": [
            "AUS"
           ]
          },
          {
           "mode": "markers",
           "name": "AUT",
           "text": [
            "14.3"
           ],
           "type": "scatter",
           "x": [
            14.3
           ],
           "y": [
            "AUT"
           ]
          },
          {
           "mode": "markers",
           "name": "BEL",
           "text": [
            "12.1"
           ],
           "type": "scatter",
           "x": [
            12.1
           ],
           "y": [
            "BEL"
           ]
          },
          {
           "mode": "markers",
           "name": "CAN",
           "text": [
            "10.4"
           ],
           "type": "scatter",
           "x": [
            10.4
           ],
           "y": [
            "CAN"
           ]
          },
          {
           "mode": "markers",
           "name": "CZE",
           "text": [
            "16.9"
           ],
           "type": "scatter",
           "x": [
            16.9
           ],
           "y": [
            "CZE"
           ]
          },
          {
           "mode": "markers",
           "name": "DNK",
           "text": [
            "8.4"
           ],
           "type": "scatter",
           "x": [
            8.4
           ],
           "y": [
            "DNK"
           ]
          },
          {
           "mode": "markers",
           "name": "FIN",
           "text": [
            "7.6"
           ],
           "type": "scatter",
           "x": [
            7.6
           ],
           "y": [
            "FIN"
           ]
          },
          {
           "mode": "markers",
           "name": "FRA",
           "text": [
            "10.0"
           ],
           "type": "scatter",
           "x": [
            10
           ],
           "y": [
            "FRA"
           ]
          },
          {
           "mode": "markers",
           "name": "DEU",
           "text": [
            "12.4"
           ],
           "type": "scatter",
           "x": [
            12.4
           ],
           "y": [
            "DEU"
           ]
          },
          {
           "mode": "markers",
           "name": "GRC",
           "text": [
            "17.9"
           ],
           "type": "scatter",
           "x": [
            17.9
           ],
           "y": [
            "GRC"
           ]
          },
          {
           "mode": "markers",
           "name": "HUN",
           "text": [
            "23.2"
           ],
           "type": "scatter",
           "x": [
            23.2
           ],
           "y": [
            "HUN"
           ]
          },
          {
           "mode": "markers",
           "name": "ISL",
           "text": [
            "7.7"
           ],
           "type": "scatter",
           "x": [
            7.7
           ],
           "y": [
            "ISL"
           ]
          },
          {
           "mode": "markers",
           "name": "IRL",
           "text": [
            "11.1"
           ],
           "type": "scatter",
           "x": [
            11.1
           ],
           "y": [
            "IRL"
           ]
          },
          {
           "mode": "markers",
           "name": "ITA",
           "text": [
            "14.6"
           ],
           "type": "scatter",
           "x": [
            14.6
           ],
           "y": [
            "ITA"
           ]
          },
          {
           "mode": "markers",
           "name": "JPN",
           "text": [
            "7.5"
           ],
           "type": "scatter",
           "x": [
            7.5
           ],
           "y": [
            "JPN"
           ]
          },
          {
           "mode": "markers",
           "name": "KOR",
           "text": [
            "0"
           ],
           "type": "scatter",
           "x": [
            0
           ],
           "y": [
            "KOR"
           ]
          },
          {
           "mode": "markers",
           "name": "LUX",
           "text": [
            "11.5"
           ],
           "type": "scatter",
           "x": [
            11.5
           ],
           "y": [
            "LUX"
           ]
          },
          {
           "mode": "markers",
           "name": "MEX",
           "text": [
            "52.6"
           ],
           "type": "scatter",
           "x": [
            52.6
           ],
           "y": [
            "MEX"
           ]
          },
          {
           "mode": "markers",
           "name": "NLD",
           "text": [
            "8.6"
           ],
           "type": "scatter",
           "x": [
            8.6
           ],
           "y": [
            "NLD"
           ]
          },
          {
           "mode": "markers",
           "name": "NZL",
           "text": [
            "13.0"
           ],
           "type": "scatter",
           "x": [
            13
           ],
           "y": [
            "NZL"
           ]
          },
          {
           "mode": "markers",
           "name": "NOR",
           "text": [
            "8.1"
           ],
           "type": "scatter",
           "x": [
            8.1
           ],
           "y": [
            "NOR"
           ]
          },
          {
           "mode": "markers",
           "name": "POL",
           "text": [
            "25.4"
           ],
           "type": "scatter",
           "x": [
            25.4
           ],
           "y": [
            "POL"
           ]
          },
          {
           "mode": "markers",
           "name": "PRT",
           "text": [
            "24.3"
           ],
           "type": "scatter",
           "x": [
            24.3
           ],
           "y": [
            "PRT"
           ]
          },
          {
           "mode": "markers",
           "name": "SVK",
           "text": [
            "20.9"
           ],
           "type": "scatter",
           "x": [
            20.9
           ],
           "y": [
            "SVK"
           ]
          },
          {
           "mode": "markers",
           "name": "ESP",
           "text": [
            "12.3"
           ],
           "type": "scatter",
           "x": [
            12.3
           ],
           "y": [
            "ESP"
           ]
          },
          {
           "mode": "markers",
           "name": "SWE",
           "text": [
            "6.9"
           ],
           "type": "scatter",
           "x": [
            6.9
           ],
           "y": [
            "SWE"
           ]
          },
          {
           "mode": "markers",
           "name": "CHE",
           "text": [
            "9.1"
           ],
           "type": "scatter",
           "x": [
            9.1
           ],
           "y": [
            "CHE"
           ]
          },
          {
           "mode": "markers",
           "name": "TUR",
           "text": [
            "0"
           ],
           "type": "scatter",
           "x": [
            0
           ],
           "y": [
            "TUR"
           ]
          },
          {
           "mode": "markers",
           "name": "GBR",
           "text": [
            "12.1"
           ],
           "type": "scatter",
           "x": [
            12.1
           ],
           "y": [
            "GBR"
           ]
          },
          {
           "mode": "markers",
           "name": "USA",
           "text": [
            "12.6"
           ],
           "type": "scatter",
           "x": [
            12.6
           ],
           "y": [
            "USA"
           ]
          },
          {
           "mode": "markers",
           "name": "BRA",
           "text": [
            "75.9"
           ],
           "type": "scatter",
           "x": [
            75.9
           ],
           "y": [
            "BRA"
           ]
          },
          {
           "mode": "markers",
           "name": "CHL",
           "text": [
            "33.0"
           ],
           "type": "scatter",
           "x": [
            33
           ],
           "y": [
            "CHL"
           ]
          },
          {
           "mode": "markers",
           "name": "CHN",
           "text": [
            "48.0"
           ],
           "type": "scatter",
           "x": [
            48
           ],
           "y": [
            "CHN"
           ]
          },
          {
           "mode": "markers",
           "name": "EST",
           "text": [
            "17.1"
           ],
           "type": "scatter",
           "x": [
            17.1
           ],
           "y": [
            "EST"
           ]
          },
          {
           "mode": "markers",
           "name": "IND",
           "text": [
            "114.3"
           ],
           "type": "scatter",
           "x": [
            114.3
           ],
           "y": [
            "IND"
           ]
          },
          {
           "mode": "markers",
           "name": "IDN",
           "text": [
            "85.4"
           ],
           "type": "scatter",
           "x": [
            85.4
           ],
           "y": [
            "IDN"
           ]
          },
          {
           "mode": "markers",
           "name": "ISR",
           "text": [
            "15.6"
           ],
           "type": "scatter",
           "x": [
            15.6
           ],
           "y": [
            "ISR"
           ]
          },
          {
           "mode": "markers",
           "name": "RUS",
           "text": [
            "22.0"
           ],
           "type": "scatter",
           "x": [
            22
           ],
           "y": [
            "RUS"
           ]
          },
          {
           "mode": "markers",
           "name": "SVN",
           "text": [
            "15.3"
           ],
           "type": "scatter",
           "x": [
            15.3
           ],
           "y": [
            "SVN"
           ]
          },
          {
           "mode": "markers",
           "name": "ZAF",
           "text": [
            "68.0"
           ],
           "type": "scatter",
           "x": [
            68
           ],
           "y": [
            "ZAF"
           ]
          },
          {
           "mode": "markers",
           "name": "COL",
           "text": [
            "44.6"
           ],
           "type": "scatter",
           "x": [
            44.6
           ],
           "y": [
            "COL"
           ]
          },
          {
           "mode": "markers",
           "name": "LVA",
           "text": [
            "15.3"
           ],
           "type": "scatter",
           "x": [
            15.3
           ],
           "y": [
            "LVA"
           ]
          },
          {
           "mode": "markers",
           "name": "LTU",
           "text": [
            "14.5"
           ],
           "type": "scatter",
           "x": [
            14.5
           ],
           "y": [
            "LTU"
           ]
          },
          {
           "mode": "markers",
           "name": "CRI",
           "text": [
            "19.8"
           ],
           "type": "scatter",
           "x": [
            19.8
           ],
           "y": [
            "CRI"
           ]
          }
         ],
         "name": "1980"
        },
        {
         "data": [
          {
           "mode": "markers",
           "name": "AUS",
           "text": [
            "10.0"
           ],
           "type": "scatter",
           "x": [
            10
           ],
           "y": [
            "AUS"
           ]
          },
          {
           "mode": "markers",
           "name": "AUT",
           "text": [
            "12.6"
           ],
           "type": "scatter",
           "x": [
            12.6
           ],
           "y": [
            "AUT"
           ]
          },
          {
           "mode": "markers",
           "name": "BEL",
           "text": [
            "11.5"
           ],
           "type": "scatter",
           "x": [
            11.5
           ],
           "y": [
            "BEL"
           ]
          },
          {
           "mode": "markers",
           "name": "CAN",
           "text": [
            "9.6"
           ],
           "type": "scatter",
           "x": [
            9.6
           ],
           "y": [
            "CAN"
           ]
          },
          {
           "mode": "markers",
           "name": "CZE",
           "text": [
            "15.4"
           ],
           "type": "scatter",
           "x": [
            15.4
           ],
           "y": [
            "CZE"
           ]
          },
          {
           "mode": "markers",
           "name": "DNK",
           "text": [
            "7.9"
           ],
           "type": "scatter",
           "x": [
            7.9
           ],
           "y": [
            "DNK"
           ]
          },
          {
           "mode": "markers",
           "name": "FIN",
           "text": [
            "6.5"
           ],
           "type": "scatter",
           "x": [
            6.5
           ],
           "y": [
            "FIN"
           ]
          },
          {
           "mode": "markers",
           "name": "FRA",
           "text": [
            "9.7"
           ],
           "type": "scatter",
           "x": [
            9.7
           ],
           "y": [
            "FRA"
           ]
          },
          {
           "mode": "markers",
           "name": "DEU",
           "text": [
            "11.8"
           ],
           "type": "scatter",
           "x": [
            11.8
           ],
           "y": [
            "DEU"
           ]
          },
          {
           "mode": "markers",
           "name": "GRC",
           "text": [
            "16.3"
           ],
           "type": "scatter",
           "x": [
            16.3
           ],
           "y": [
            "GRC"
           ]
          },
          {
           "mode": "markers",
           "name": "HUN",
           "text": [
            "20.8"
           ],
           "type": "scatter",
           "x": [
            20.8
           ],
           "y": [
            "HUN"
           ]
          },
          {
           "mode": "markers",
           "name": "ISL",
           "text": [
            "6.0"
           ],
           "type": "scatter",
           "x": [
            6
           ],
           "y": [
            "ISL"
           ]
          },
          {
           "mode": "markers",
           "name": "IRL",
           "text": [
            "10.3"
           ],
           "type": "scatter",
           "x": [
            10.3
           ],
           "y": [
            "IRL"
           ]
          },
          {
           "mode": "markers",
           "name": "ITA",
           "text": [
            "14.1"
           ],
           "type": "scatter",
           "x": [
            14.1
           ],
           "y": [
            "ITA"
           ]
          },
          {
           "mode": "markers",
           "name": "JPN",
           "text": [
            "7.1"
           ],
           "type": "scatter",
           "x": [
            7.1
           ],
           "y": [
            "JPN"
           ]
          },
          {
           "mode": "markers",
           "name": "KOR",
           "text": [
            "17.0"
           ],
           "type": "scatter",
           "x": [
            17
           ],
           "y": [
            "KOR"
           ]
          },
          {
           "mode": "markers",
           "name": "LUX",
           "text": [
            "13.8"
           ],
           "type": "scatter",
           "x": [
            13.8
           ],
           "y": [
            "LUX"
           ]
          },
          {
           "mode": "markers",
           "name": "MEX",
           "text": [
            "49.3"
           ],
           "type": "scatter",
           "x": [
            49.3
           ],
           "y": [
            "MEX"
           ]
          },
          {
           "mode": "markers",
           "name": "NLD",
           "text": [
            "8.3"
           ],
           "type": "scatter",
           "x": [
            8.3
           ],
           "y": [
            "NLD"
           ]
          },
          {
           "mode": "markers",
           "name": "NZL",
           "text": [
            "11.8"
           ],
           "type": "scatter",
           "x": [
            11.8
           ],
           "y": [
            "NZL"
           ]
          },
          {
           "mode": "markers",
           "name": "NOR",
           "text": [
            "7.5"
           ],
           "type": "scatter",
           "x": [
            7.5
           ],
           "y": [
            "NOR"
           ]
          },
          {
           "mode": "markers",
           "name": "POL",
           "text": [
            "24.9"
           ],
           "type": "scatter",
           "x": [
            24.9
           ],
           "y": [
            "POL"
           ]
          },
          {
           "mode": "markers",
           "name": "PRT",
           "text": [
            "21.8"
           ],
           "type": "scatter",
           "x": [
            21.8
           ],
           "y": [
            "PRT"
           ]
          },
          {
           "mode": "markers",
           "name": "SVK",
           "text": [
            "19.2"
           ],
           "type": "scatter",
           "x": [
            19.2
           ],
           "y": [
            "SVK"
           ]
          },
          {
           "mode": "markers",
           "name": "ESP",
           "text": [
            "12.5"
           ],
           "type": "scatter",
           "x": [
            12.5
           ],
           "y": [
            "ESP"
           ]
          },
          {
           "mode": "markers",
           "name": "SWE",
           "text": [
            "6.9"
           ],
           "type": "scatter",
           "x": [
            6.9
           ],
           "y": [
            "SWE"
           ]
          },
          {
           "mode": "markers",
           "name": "CHE",
           "text": [
            "7.6"
           ],
           "type": "scatter",
           "x": [
            7.6
           ],
           "y": [
            "CHE"
           ]
          },
          {
           "mode": "markers",
           "name": "TUR",
           "text": [
            "0"
           ],
           "type": "scatter",
           "x": [
            0
           ],
           "y": [
            "TUR"
           ]
          },
          {
           "mode": "markers",
           "name": "GBR",
           "text": [
            "11.2"
           ],
           "type": "scatter",
           "x": [
            11.2
           ],
           "y": [
            "GBR"
           ]
          },
          {
           "mode": "markers",
           "name": "USA",
           "text": [
            "11.9"
           ],
           "type": "scatter",
           "x": [
            11.9
           ],
           "y": [
            "USA"
           ]
          },
          {
           "mode": "markers",
           "name": "BRA",
           "text": [
            "72.7"
           ],
           "type": "scatter",
           "x": [
            72.7
           ],
           "y": [
            "BRA"
           ]
          },
          {
           "mode": "markers",
           "name": "CHL",
           "text": [
            "27.0"
           ],
           "type": "scatter",
           "x": [
            27
           ],
           "y": [
            "CHL"
           ]
          },
          {
           "mode": "markers",
           "name": "CHN",
           "text": [
            "46.1"
           ],
           "type": "scatter",
           "x": [
            46.1
           ],
           "y": [
            "CHN"
           ]
          },
          {
           "mode": "markers",
           "name": "EST",
           "text": [
            "17.0"
           ],
           "type": "scatter",
           "x": [
            17
           ],
           "y": [
            "EST"
           ]
          },
          {
           "mode": "markers",
           "name": "IND",
           "text": [
            "111.3"
           ],
           "type": "scatter",
           "x": [
            111.3
           ],
           "y": [
            "IND"
           ]
          },
          {
           "mode": "markers",
           "name": "IDN",
           "text": [
            "83.1"
           ],
           "type": "scatter",
           "x": [
            83.1
           ],
           "y": [
            "IDN"
           ]
          },
          {
           "mode": "markers",
           "name": "ISR",
           "text": [
            "15.7"
           ],
           "type": "scatter",
           "x": [
            15.7
           ],
           "y": [
            "ISR"
           ]
          },
          {
           "mode": "markers",
           "name": "RUS",
           "text": [
            "21.5"
           ],
           "type": "scatter",
           "x": [
            21.5
           ],
           "y": [
            "RUS"
           ]
          },
          {
           "mode": "markers",
           "name": "SVN",
           "text": [
            "13.1"
           ],
           "type": "scatter",
           "x": [
            13.1
           ],
           "y": [
            "SVN"
           ]
          },
          {
           "mode": "markers",
           "name": "ZAF",
           "text": [
            "65.0"
           ],
           "type": "scatter",
           "x": [
            65
           ],
           "y": [
            "ZAF"
           ]
          },
          {
           "mode": "markers",
           "name": "COL",
           "text": [
            "42.0"
           ],
           "type": "scatter",
           "x": [
            42
           ],
           "y": [
            "COL"
           ]
          },
          {
           "mode": "markers",
           "name": "LVA",
           "text": [
            "16.0"
           ],
           "type": "scatter",
           "x": [
            16
           ],
           "y": [
            "LVA"
           ]
          },
          {
           "mode": "markers",
           "name": "LTU",
           "text": [
            "16.5"
           ],
           "type": "scatter",
           "x": [
            16.5
           ],
           "y": [
            "LTU"
           ]
          },
          {
           "mode": "markers",
           "name": "CRI",
           "text": [
            "19.3"
           ],
           "type": "scatter",
           "x": [
            19.3
           ],
           "y": [
            "CRI"
           ]
          }
         ],
         "name": "1981"
        },
        {
         "data": [
          {
           "mode": "markers",
           "name": "AUS",
           "text": [
            "10.3"
           ],
           "type": "scatter",
           "x": [
            10.3
           ],
           "y": [
            "AUS"
           ]
          },
          {
           "mode": "markers",
           "name": "AUT",
           "text": [
            "12.8"
           ],
           "type": "scatter",
           "x": [
            12.8
           ],
           "y": [
            "AUT"
           ]
          },
          {
           "mode": "markers",
           "name": "BEL",
           "text": [
            "11.1"
           ],
           "type": "scatter",
           "x": [
            11.1
           ],
           "y": [
            "BEL"
           ]
          },
          {
           "mode": "markers",
           "name": "CAN",
           "text": [
            "9.1"
           ],
           "type": "scatter",
           "x": [
            9.1
           ],
           "y": [
            "CAN"
           ]
          },
          {
           "mode": "markers",
           "name": "CZE",
           "text": [
            "15.0"
           ],
           "type": "scatter",
           "x": [
            15
           ],
           "y": [
            "CZE"
           ]
          },
          {
           "mode": "markers",
           "name": "DNK",
           "text": [
            "8.2"
           ],
           "type": "scatter",
           "x": [
            8.2
           ],
           "y": [
            "DNK"
           ]
          },
          {
           "mode": "markers",
           "name": "FIN",
           "text": [
            "6.0"
           ],
           "type": "scatter",
           "x": [
            6
           ],
           "y": [
            "FIN"
           ]
          },
          {
           "mode": "markers",
           "name": "FRA",
           "text": [
            "9.5"
           ],
           "type": "scatter",
           "x": [
            9.5
           ],
           "y": [
            "FRA"
           ]
          },
          {
           "mode": "markers",
           "name": "DEU",
           "text": [
            "11.1"
           ],
           "type": "scatter",
           "x": [
            11.1
           ],
           "y": [
            "DEU"
           ]
          },
          {
           "mode": "markers",
           "name": "GRC",
           "text": [
            "15.1"
           ],
           "type": "scatter",
           "x": [
            15.1
           ],
           "y": [
            "GRC"
           ]
          },
          {
           "mode": "markers",
           "name": "HUN",
           "text": [
            "20.0"
           ],
           "type": "scatter",
           "x": [
            20
           ],
           "y": [
            "HUN"
           ]
          },
          {
           "mode": "markers",
           "name": "ISL",
           "text": [
            "7.1"
           ],
           "type": "scatter",
           "x": [
            7.1
           ],
           "y": [
            "ISL"
           ]
          },
          {
           "mode": "markers",
           "name": "IRL",
           "text": [
            "10.5"
           ],
           "type": "scatter",
           "x": [
            10.5
           ],
           "y": [
            "IRL"
           ]
          },
          {
           "mode": "markers",
           "name": "ITA",
           "text": [
            "13.0"
           ],
           "type": "scatter",
           "x": [
            13
           ],
           "y": [
            "ITA"
           ]
          },
          {
           "mode": "markers",
           "name": "JPN",
           "text": [
            "6.6"
           ],
           "type": "scatter",
           "x": [
            6.6
           ],
           "y": [
            "JPN"
           ]
          },
          {
           "mode": "markers",
           "name": "KOR",
           "text": [
            "0"
           ],
           "type": "scatter",
           "x": [
            0
           ],
           "y": [
            "KOR"
           ]
          },
          {
           "mode": "markers",
           "name": "LUX",
           "text": [
            "12.1"
           ],
           "type": "scatter",
           "x": [
            12.1
           ],
           "y": [
            "LUX"
           ]
          },
          {
           "mode": "markers",
           "name": "MEX",
           "text": [
            "46.3"
           ],
           "type": "scatter",
           "x": [
            46.3
           ],
           "y": [
            "MEX"
           ]
          },
          {
           "mode": "markers",
           "name": "NLD",
           "text": [
            "8.3"
           ],
           "type": "scatter",
           "x": [
            8.3
           ],
           "y": [
            "NLD"
           ]
          },
          {
           "mode": "markers",
           "name": "NZL",
           "text": [
            "12.0"
           ],
           "type": "scatter",
           "x": [
            12
           ],
           "y": [
            "NZL"
           ]
          },
          {
           "mode": "markers",
           "name": "NOR",
           "text": [
            "8.1"
           ],
           "type": "scatter",
           "x": [
            8.1
           ],
           "y": [
            "NOR"
           ]
          },
          {
           "mode": "markers",
           "name": "POL",
           "text": [
            "24.4"
           ],
           "type": "scatter",
           "x": [
            24.4
           ],
           "y": [
            "POL"
           ]
          },
          {
           "mode": "markers",
           "name": "PRT",
           "text": [
            "19.8"
           ],
           "type": "scatter",
           "x": [
            19.8
           ],
           "y": [
            "PRT"
           ]
          },
          {
           "mode": "markers",
           "name": "SVK",
           "text": [
            "17.9"
           ],
           "type": "scatter",
           "x": [
            17.9
           ],
           "y": [
            "SVK"
           ]
          },
          {
           "mode": "markers",
           "name": "ESP",
           "text": [
            "11.3"
           ],
           "type": "scatter",
           "x": [
            11.3
           ],
           "y": [
            "ESP"
           ]
          },
          {
           "mode": "markers",
           "name": "SWE",
           "text": [
            "6.8"
           ],
           "type": "scatter",
           "x": [
            6.8
           ],
           "y": [
            "SWE"
           ]
          },
          {
           "mode": "markers",
           "name": "CHE",
           "text": [
            "7.7"
           ],
           "type": "scatter",
           "x": [
            7.7
           ],
           "y": [
            "CHE"
           ]
          },
          {
           "mode": "markers",
           "name": "TUR",
           "text": [
            "0"
           ],
           "type": "scatter",
           "x": [
            0
           ],
           "y": [
            "TUR"
           ]
          },
          {
           "mode": "markers",
           "name": "GBR",
           "text": [
            "11.0"
           ],
           "type": "scatter",
           "x": [
            11
           ],
           "y": [
            "GBR"
           ]
          },
          {
           "mode": "markers",
           "name": "USA",
           "text": [
            "11.5"
           ],
           "type": "scatter",
           "x": [
            11.5
           ],
           "y": [
            "USA"
           ]
          },
          {
           "mode": "markers",
           "name": "BRA",
           "text": [
            "69.7"
           ],
           "type": "scatter",
           "x": [
            69.7
           ],
           "y": [
            "BRA"
           ]
          },
          {
           "mode": "markers",
           "name": "CHL",
           "text": [
            "24.0"
           ],
           "type": "scatter",
           "x": [
            24
           ],
           "y": [
            "CHL"
           ]
          },
          {
           "mode": "markers",
           "name": "CHN",
           "text": [
            "44.6"
           ],
           "type": "scatter",
           "x": [
            44.6
           ],
           "y": [
            "CHN"
           ]
          },
          {
           "mode": "markers",
           "name": "EST",
           "text": [
            "17.2"
           ],
           "type": "scatter",
           "x": [
            17.2
           ],
           "y": [
            "EST"
           ]
          },
          {
           "mode": "markers",
           "name": "IND",
           "text": [
            "108.4"
           ],
           "type": "scatter",
           "x": [
            108.4
           ],
           "y": [
            "IND"
           ]
          },
          {
           "mode": "markers",
           "name": "IDN",
           "text": [
            "80.8"
           ],
           "type": "scatter",
           "x": [
            80.8
           ],
           "y": [
            "IDN"
           ]
          },
          {
           "mode": "markers",
           "name": "ISR",
           "text": [
            "14.1"
           ],
           "type": "scatter",
           "x": [
            14.1
           ],
           "y": [
            "ISR"
           ]
          },
          {
           "mode": "markers",
           "name": "RUS",
           "text": [
            "20.2"
           ],
           "type": "scatter",
           "x": [
            20.2
           ],
           "y": [
            "RUS"
           ]
          },
          {
           "mode": "markers",
           "name": "SVN",
           "text": [
            "14.0"
           ],
           "type": "scatter",
           "x": [
            14
           ],
           "y": [
            "SVN"
           ]
          },
          {
           "mode": "markers",
           "name": "ZAF",
           "text": [
            "62.2"
           ],
           "type": "scatter",
           "x": [
            62.2
           ],
           "y": [
            "ZAF"
           ]
          },
          {
           "mode": "markers",
           "name": "COL",
           "text": [
            "39.7"
           ],
           "type": "scatter",
           "x": [
            39.7
           ],
           "y": [
            "COL"
           ]
          },
          {
           "mode": "markers",
           "name": "LVA",
           "text": [
            "13.9"
           ],
           "type": "scatter",
           "x": [
            13.9
           ],
           "y": [
            "LVA"
           ]
          },
          {
           "mode": "markers",
           "name": "LTU",
           "text": [
            "15.0"
           ],
           "type": "scatter",
           "x": [
            15
           ],
           "y": [
            "LTU"
           ]
          },
          {
           "mode": "markers",
           "name": "CRI",
           "text": [
            "19.2"
           ],
           "type": "scatter",
           "x": [
            19.2
           ],
           "y": [
            "CRI"
           ]
          }
         ],
         "name": "1982"
        },
        {
         "data": [
          {
           "mode": "markers",
           "name": "AUS",
           "text": [
            "9.6"
           ],
           "type": "scatter",
           "x": [
            9.6
           ],
           "y": [
            "AUS"
           ]
          },
          {
           "mode": "markers",
           "name": "AUT",
           "text": [
            "11.9"
           ],
           "type": "scatter",
           "x": [
            11.9
           ],
           "y": [
            "AUT"
           ]
          },
          {
           "mode": "markers",
           "name": "BEL",
           "text": [
            "10.6"
           ],
           "type": "scatter",
           "x": [
            10.6
           ],
           "y": [
            "BEL"
           ]
          },
          {
           "mode": "markers",
           "name": "CAN",
           "text": [
            "8.5"
           ],
           "type": "scatter",
           "x": [
            8.5
           ],
           "y": [
            "CAN"
           ]
          },
          {
           "mode": "markers",
           "name": "CZE",
           "text": [
            "14.5"
           ],
           "type": "scatter",
           "x": [
            14.5
           ],
           "y": [
            "CZE"
           ]
          },
          {
           "mode": "markers",
           "name": "DNK",
           "text": [
            "7.7"
           ],
           "type": "scatter",
           "x": [
            7.7
           ],
           "y": [
            "DNK"
           ]
          },
          {
           "mode": "markers",
           "name": "FIN",
           "text": [
            "6.2"
           ],
           "type": "scatter",
           "x": [
            6.2
           ],
           "y": [
            "FIN"
           ]
          },
          {
           "mode": "markers",
           "name": "FRA",
           "text": [
            "9.1"
           ],
           "type": "scatter",
           "x": [
            9.1
           ],
           "y": [
            "FRA"
           ]
          },
          {
           "mode": "markers",
           "name": "DEU",
           "text": [
            "10.4"
           ],
           "type": "scatter",
           "x": [
            10.4
           ],
           "y": [
            "DEU"
           ]
          },
          {
           "mode": "markers",
           "name": "GRC",
           "text": [
            "14.6"
           ],
           "type": "scatter",
           "x": [
            14.6
           ],
           "y": [
            "GRC"
           ]
          },
          {
           "mode": "markers",
           "name": "HUN",
           "text": [
            "19.0"
           ],
           "type": "scatter",
           "x": [
            19
           ],
           "y": [
            "HUN"
           ]
          },
          {
           "mode": "markers",
           "name": "ISL",
           "text": [
            "6.2"
           ],
           "type": "scatter",
           "x": [
            6.2
           ],
           "y": [
            "ISL"
           ]
          },
          {
           "mode": "markers",
           "name": "IRL",
           "text": [
            "10.1"
           ],
           "type": "scatter",
           "x": [
            10.1
           ],
           "y": [
            "IRL"
           ]
          },
          {
           "mode": "markers",
           "name": "ITA",
           "text": [
            "12.3"
           ],
           "type": "scatter",
           "x": [
            12.3
           ],
           "y": [
            "ITA"
           ]
          },
          {
           "mode": "markers",
           "name": "JPN",
           "text": [
            "6.2"
           ],
           "type": "scatter",
           "x": [
            6.2
           ],
           "y": [
            "JPN"
           ]
          },
          {
           "mode": "markers",
           "name": "KOR",
           "text": [
            "0"
           ],
           "type": "scatter",
           "x": [
            0
           ],
           "y": [
            "KOR"
           ]
          },
          {
           "mode": "markers",
           "name": "LUX",
           "text": [
            "11.2"
           ],
           "type": "scatter",
           "x": [
            11.2
           ],
           "y": [
            "LUX"
           ]
          },
          {
           "mode": "markers",
           "name": "MEX",
           "text": [
            "44.2"
           ],
           "type": "scatter",
           "x": [
            44.2
           ],
           "y": [
            "MEX"
           ]
          },
          {
           "mode": "markers",
           "name": "NLD",
           "text": [
            "8.4"
           ],
           "type": "scatter",
           "x": [
            8.4
           ],
           "y": [
            "NLD"
           ]
          },
          {
           "mode": "markers",
           "name": "NZL",
           "text": [
            "12.9"
           ],
           "type": "scatter",
           "x": [
            12.9
           ],
           "y": [
            "NZL"
           ]
          },
          {
           "mode": "markers",
           "name": "NOR",
           "text": [
            "7.9"
           ],
           "type": "scatter",
           "x": [
            7.9
           ],
           "y": [
            "NOR"
           ]
          },
          {
           "mode": "markers",
           "name": "POL",
           "text": [
            "23.1"
           ],
           "type": "scatter",
           "x": [
            23.1
           ],
           "y": [
            "POL"
           ]
          },
          {
           "mode": "markers",
           "name": "PRT",
           "text": [
            "19.2"
           ],
           "type": "scatter",
           "x": [
            19.2
           ],
           "y": [
            "PRT"
           ]
          },
          {
           "mode": "markers",
           "name": "SVK",
           "text": [
            "17.5"
           ],
           "type": "scatter",
           "x": [
            17.5
           ],
           "y": [
            "SVK"
           ]
          },
          {
           "mode": "markers",
           "name": "ESP",
           "text": [
            "10.9"
           ],
           "type": "scatter",
           "x": [
            10.9
           ],
           "y": [
            "ESP"
           ]
          },
          {
           "mode": "markers",
           "name": "SWE",
           "text": [
            "7.0"
           ],
           "type": "scatter",
           "x": [
            7
           ],
           "y": [
            "SWE"
           ]
          },
          {
           "mode": "markers",
           "name": "CHE",
           "text": [
            "7.6"
           ],
           "type": "scatter",
           "x": [
            7.6
           ],
           "y": [
            "CHE"
           ]
          },
          {
           "mode": "markers",
           "name": "TUR",
           "text": [
            "0"
           ],
           "type": "scatter",
           "x": [
            0
           ],
           "y": [
            "TUR"
           ]
          },
          {
           "mode": "markers",
           "name": "GBR",
           "text": [
            "10.2"
           ],
           "type": "scatter",
           "x": [
            10.2
           ],
           "y": [
            "GBR"
           ]
          },
          {
           "mode": "markers",
           "name": "USA",
           "text": [
            "11.2"
           ],
           "type": "scatter",
           "x": [
            11.2
           ],
           "y": [
            "USA"
           ]
          },
          {
           "mode": "markers",
           "name": "BRA",
           "text": [
            "66.7"
           ],
           "type": "scatter",
           "x": [
            66.7
           ],
           "y": [
            "BRA"
           ]
          },
          {
           "mode": "markers",
           "name": "CHL",
           "text": [
            "22.2"
           ],
           "type": "scatter",
           "x": [
            22.2
           ],
           "y": [
            "CHL"
           ]
          },
          {
           "mode": "markers",
           "name": "CHN",
           "text": [
            "43.4"
           ],
           "type": "scatter",
           "x": [
            43.4
           ],
           "y": [
            "CHN"
           ]
          },
          {
           "mode": "markers",
           "name": "EST",
           "text": [
            "16.1"
           ],
           "type": "scatter",
           "x": [
            16.1
           ],
           "y": [
            "EST"
           ]
          },
          {
           "mode": "markers",
           "name": "IND",
           "text": [
            "105.7"
           ],
           "type": "scatter",
           "x": [
            105.7
           ],
           "y": [
            "IND"
           ]
          },
          {
           "mode": "markers",
           "name": "IDN",
           "text": [
            "78.5"
           ],
           "type": "scatter",
           "x": [
            78.5
           ],
           "y": [
            "IDN"
           ]
          },
          {
           "mode": "markers",
           "name": "ISR",
           "text": [
            "13.7"
           ],
           "type": "scatter",
           "x": [
            13.7
           ],
           "y": [
            "ISR"
           ]
          },
          {
           "mode": "markers",
           "name": "RUS",
           "text": [
            "19.9"
           ],
           "type": "scatter",
           "x": [
            19.9
           ],
           "y": [
            "RUS"
           ]
          },
          {
           "mode": "markers",
           "name": "SVN",
           "text": [
            "13.9"
           ],
           "type": "scatter",
           "x": [
            13.9
           ],
           "y": [
            "SVN"
           ]
          },
          {
           "mode": "markers",
           "name": "ZAF",
           "text": [
            "59.6"
           ],
           "type": "scatter",
           "x": [
            59.6
           ],
           "y": [
            "ZAF"
           ]
          },
          {
           "mode": "markers",
           "name": "COL",
           "text": [
            "37.6"
           ],
           "type": "scatter",
           "x": [
            37.6
           ],
           "y": [
            "COL"
           ]
          },
          {
           "mode": "markers",
           "name": "LVA",
           "text": [
            "15.9"
           ],
           "type": "scatter",
           "x": [
            15.9
           ],
           "y": [
            "LVA"
           ]
          },
          {
           "mode": "markers",
           "name": "LTU",
           "text": [
            "13.9"
           ],
           "type": "scatter",
           "x": [
            13.9
           ],
           "y": [
            "LTU"
           ]
          },
          {
           "mode": "markers",
           "name": "CRI",
           "text": [
            "19.1"
           ],
           "type": "scatter",
           "x": [
            19.1
           ],
           "y": [
            "CRI"
           ]
          }
         ],
         "name": "1983"
        },
        {
         "data": [
          {
           "mode": "markers",
           "name": "AUS",
           "text": [
            "9.2"
           ],
           "type": "scatter",
           "x": [
            9.2
           ],
           "y": [
            "AUS"
           ]
          },
          {
           "mode": "markers",
           "name": "AUT",
           "text": [
            "11.4"
           ],
           "type": "scatter",
           "x": [
            11.4
           ],
           "y": [
            "AUT"
           ]
          },
          {
           "mode": "markers",
           "name": "BEL",
           "text": [
            "10.0"
           ],
           "type": "scatter",
           "x": [
            10
           ],
           "y": [
            "BEL"
           ]
          },
          {
           "mode": "markers",
           "name": "CAN",
           "text": [
            "8.1"
           ],
           "type": "scatter",
           "x": [
            8.1
           ],
           "y": [
            "CAN"
           ]
          },
          {
           "mode": "markers",
           "name": "CZE",
           "text": [
            "14.1"
           ],
           "type": "scatter",
           "x": [
            14.1
           ],
           "y": [
            "CZE"
           ]
          },
          {
           "mode": "markers",
           "name": "DNK",
           "text": [
            "7.7"
           ],
           "type": "scatter",
           "x": [
            7.7
           ],
           "y": [
            "DNK"
           ]
          },
          {
           "mode": "markers",
           "name": "FIN",
           "text": [
            "6.5"
           ],
           "type": "scatter",
           "x": [
            6.5
           ],
           "y": [
            "FIN"
           ]
          },
          {
           "mode": "markers",
           "name": "FRA",
           "text": [
            "8.3"
           ],
           "type": "scatter",
           "x": [
            8.3
           ],
           "y": [
            "FRA"
           ]
          },
          {
           "mode": "markers",
           "name": "DEU",
           "text": [
            "9.8"
           ],
           "type": "scatter",
           "x": [
            9.8
           ],
           "y": [
            "DEU"
           ]
          },
          {
           "mode": "markers",
           "name": "GRC",
           "text": [
            "14.3"
           ],
           "type": "scatter",
           "x": [
            14.3
           ],
           "y": [
            "GRC"
           ]
          },
          {
           "mode": "markers",
           "name": "HUN",
           "text": [
            "20.4"
           ],
           "type": "scatter",
           "x": [
            20.4
           ],
           "y": [
            "HUN"
           ]
          },
          {
           "mode": "markers",
           "name": "ISL",
           "text": [
            "6.1"
           ],
           "type": "scatter",
           "x": [
            6.1
           ],
           "y": [
            "ISL"
           ]
          },
          {
           "mode": "markers",
           "name": "IRL",
           "text": [
            "9.6"
           ],
           "type": "scatter",
           "x": [
            9.6
           ],
           "y": [
            "IRL"
           ]
          },
          {
           "mode": "markers",
           "name": "ITA",
           "text": [
            "11.4"
           ],
           "type": "scatter",
           "x": [
            11.4
           ],
           "y": [
            "ITA"
           ]
          },
          {
           "mode": "markers",
           "name": "JPN",
           "text": [
            "6.0"
           ],
           "type": "scatter",
           "x": [
            6
           ],
           "y": [
            "JPN"
           ]
          },
          {
           "mode": "markers",
           "name": "KOR",
           "text": [
            "16.0"
           ],
           "type": "scatter",
           "x": [
            16
           ],
           "y": [
            "KOR"
           ]
          },
          {
           "mode": "markers",
           "name": "LUX",
           "text": [
            "11.7"
           ],
           "type": "scatter",
           "x": [
            11.7
           ],
           "y": [
            "LUX"
           ]
          },
          {
           "mode": "markers",
           "name": "MEX",
           "text": [
            "42.8"
           ],
           "type": "scatter",
           "x": [
            42.8
           ],
           "y": [
            "MEX"
           ]
          },
          {
           "mode": "markers",
           "name": "NLD",
           "text": [
            "8.3"
           ],
           "type": "scatter",
           "x": [
            8.3
           ],
           "y": [
            "NLD"
           ]
          },
          {
           "mode": "markers",
           "name": "NZL",
           "text": [
            "11.7"
           ],
           "type": "scatter",
           "x": [
            11.7
           ],
           "y": [
            "NZL"
           ]
          },
          {
           "mode": "markers",
           "name": "NOR",
           "text": [
            "8.3"
           ],
           "type": "scatter",
           "x": [
            8.3
           ],
           "y": [
            "NOR"
           ]
          },
          {
           "mode": "markers",
           "name": "POL",
           "text": [
            "23.0"
           ],
           "type": "scatter",
           "x": [
            23
           ],
           "y": [
            "POL"
           ]
          },
          {
           "mode": "markers",
           "name": "PRT",
           "text": [
            "16.7"
           ],
           "type": "scatter",
           "x": [
            16.7
           ],
           "y": [
            "PRT"
           ]
          },
          {
           "mode": "markers",
           "name": "SVK",
           "text": [
            "17.2"
           ],
           "type": "scatter",
           "x": [
            17.2
           ],
           "y": [
            "SVK"
           ]
          },
          {
           "mode": "markers",
           "name": "ESP",
           "text": [
            "9.9"
           ],
           "type": "scatter",
           "x": [
            9.9
           ],
           "y": [
            "ESP"
           ]
          },
          {
           "mode": "markers",
           "name": "SWE",
           "text": [
            "6.4"
           ],
           "type": "scatter",
           "x": [
            6.4
           ],
           "y": [
            "SWE"
           ]
          },
          {
           "mode": "markers",
           "name": "CHE",
           "text": [
            "7.1"
           ],
           "type": "scatter",
           "x": [
            7.1
           ],
           "y": [
            "CHE"
           ]
          },
          {
           "mode": "markers",
           "name": "TUR",
           "text": [
            "0"
           ],
           "type": "scatter",
           "x": [
            0
           ],
           "y": [
            "TUR"
           ]
          },
          {
           "mode": "markers",
           "name": "GBR",
           "text": [
            "9.6"
           ],
           "type": "scatter",
           "x": [
            9.6
           ],
           "y": [
            "GBR"
           ]
          },
          {
           "mode": "markers",
           "name": "USA",
           "text": [
            "10.8"
           ],
           "type": "scatter",
           "x": [
            10.8
           ],
           "y": [
            "USA"
           ]
          },
          {
           "mode": "markers",
           "name": "BRA",
           "text": [
            "64.0"
           ],
           "type": "scatter",
           "x": [
            64
           ],
           "y": [
            "BRA"
           ]
          },
          {
           "mode": "markers",
           "name": "CHL",
           "text": [
            "19.6"
           ],
           "type": "scatter",
           "x": [
            19.6
           ],
           "y": [
            "CHL"
           ]
          },
          {
           "mode": "markers",
           "name": "CHN",
           "text": [
            "42.6"
           ],
           "type": "scatter",
           "x": [
            42.6
           ],
           "y": [
            "CHN"
           ]
          },
          {
           "mode": "markers",
           "name": "EST",
           "text": [
            "13.6"
           ],
           "type": "scatter",
           "x": [
            13.6
           ],
           "y": [
            "EST"
           ]
          },
          {
           "mode": "markers",
           "name": "IND",
           "text": [
            "103.1"
           ],
           "type": "scatter",
           "x": [
            103.1
           ],
           "y": [
            "IND"
           ]
          },
          {
           "mode": "markers",
           "name": "IDN",
           "text": [
            "76.2"
           ],
           "type": "scatter",
           "x": [
            76.2
           ],
           "y": [
            "IDN"
           ]
          },
          {
           "mode": "markers",
           "name": "ISR",
           "text": [
            "12.8"
           ],
           "type": "scatter",
           "x": [
            12.8
           ],
           "y": [
            "ISR"
           ]
          },
          {
           "mode": "markers",
           "name": "RUS",
           "text": [
            "21.1"
           ],
           "type": "scatter",
           "x": [
            21.1
           ],
           "y": [
            "RUS"
           ]
          },
          {
           "mode": "markers",
           "name": "SVN",
           "text": [
            "13.9"
           ],
           "type": "scatter",
           "x": [
            13.9
           ],
           "y": [
            "SVN"
           ]
          },
          {
           "mode": "markers",
           "name": "ZAF",
           "text": [
            "57.3"
           ],
           "type": "scatter",
           "x": [
            57.3
           ],
           "y": [
            "ZAF"
           ]
          },
          {
           "mode": "markers",
           "name": "COL",
           "text": [
            "35.7"
           ],
           "type": "scatter",
           "x": [
            35.7
           ],
           "y": [
            "COL"
           ]
          },
          {
           "mode": "markers",
           "name": "LVA",
           "text": [
            "12.9"
           ],
           "type": "scatter",
           "x": [
            12.9
           ],
           "y": [
            "LVA"
           ]
          },
          {
           "mode": "markers",
           "name": "LTU",
           "text": [
            "13.4"
           ],
           "type": "scatter",
           "x": [
            13.4
           ],
           "y": [
            "LTU"
           ]
          },
          {
           "mode": "markers",
           "name": "CRI",
           "text": [
            "18.8"
           ],
           "type": "scatter",
           "x": [
            18.8
           ],
           "y": [
            "CRI"
           ]
          }
         ],
         "name": "1984"
        },
        {
         "data": [
          {
           "mode": "markers",
           "name": "AUS",
           "text": [
            "9.9"
           ],
           "type": "scatter",
           "x": [
            9.9
           ],
           "y": [
            "AUS"
           ]
          },
          {
           "mode": "markers",
           "name": "AUT",
           "text": [
            "11.2"
           ],
           "type": "scatter",
           "x": [
            11.2
           ],
           "y": [
            "AUT"
           ]
          },
          {
           "mode": "markers",
           "name": "BEL",
           "text": [
            "9.8"
           ],
           "type": "scatter",
           "x": [
            9.8
           ],
           "y": [
            "BEL"
           ]
          },
          {
           "mode": "markers",
           "name": "CAN",
           "text": [
            "8.0"
           ],
           "type": "scatter",
           "x": [
            8
           ],
           "y": [
            "CAN"
           ]
          },
          {
           "mode": "markers",
           "name": "CZE",
           "text": [
            "12.5"
           ],
           "type": "scatter",
           "x": [
            12.5
           ],
           "y": [
            "CZE"
           ]
          },
          {
           "mode": "markers",
           "name": "DNK",
           "text": [
            "7.9"
           ],
           "type": "scatter",
           "x": [
            7.9
           ],
           "y": [
            "DNK"
           ]
          },
          {
           "mode": "markers",
           "name": "FIN",
           "text": [
            "6.3"
           ],
           "type": "scatter",
           "x": [
            6.3
           ],
           "y": [
            "FIN"
           ]
          },
          {
           "mode": "markers",
           "name": "FRA",
           "text": [
            "8.3"
           ],
           "type": "scatter",
           "x": [
            8.3
           ],
           "y": [
            "FRA"
           ]
          },
          {
           "mode": "markers",
           "name": "DEU",
           "text": [
            "9.1"
           ],
           "type": "scatter",
           "x": [
            9.1
           ],
           "y": [
            "DEU"
           ]
          },
          {
           "mode": "markers",
           "name": "GRC",
           "text": [
            "14.1"
           ],
           "type": "scatter",
           "x": [
            14.1
           ],
           "y": [
            "GRC"
           ]
          },
          {
           "mode": "markers",
           "name": "HUN",
           "text": [
            "20.4"
           ],
           "type": "scatter",
           "x": [
            20.4
           ],
           "y": [
            "HUN"
           ]
          },
          {
           "mode": "markers",
           "name": "ISL",
           "text": [
            "5.7"
           ],
           "type": "scatter",
           "x": [
            5.7
           ],
           "y": [
            "ISL"
           ]
          },
          {
           "mode": "markers",
           "name": "IRL",
           "text": [
            "8.8"
           ],
           "type": "scatter",
           "x": [
            8.8
           ],
           "y": [
            "IRL"
           ]
          },
          {
           "mode": "markers",
           "name": "ITA",
           "text": [
            "10.5"
           ],
           "type": "scatter",
           "x": [
            10.5
           ],
           "y": [
            "ITA"
           ]
          },
          {
           "mode": "markers",
           "name": "JPN",
           "text": [
            "5.5"
           ],
           "type": "scatter",
           "x": [
            5.5
           ],
           "y": [
            "JPN"
           ]
          },
          {
           "mode": "markers",
           "name": "KOR",
           "text": [
            "13.0"
           ],
           "type": "scatter",
           "x": [
            13
           ],
           "y": [
            "KOR"
           ]
          },
          {
           "mode": "markers",
           "name": "LUX",
           "text": [
            "9.0"
           ],
           "type": "scatter",
           "x": [
            9
           ],
           "y": [
            "LUX"
           ]
          },
          {
           "mode": "markers",
           "name": "MEX",
           "text": [
            "41.6"
           ],
           "type": "scatter",
           "x": [
            41.6
           ],
           "y": [
            "MEX"
           ]
          },
          {
           "mode": "markers",
           "name": "NLD",
           "text": [
            "8.0"
           ],
           "type": "scatter",
           "x": [
            8
           ],
           "y": [
            "NLD"
           ]
          },
          {
           "mode": "markers",
           "name": "NZL",
           "text": [
            "10.9"
           ],
           "type": "scatter",
           "x": [
            10.9
           ],
           "y": [
            "NZL"
           ]
          },
          {
           "mode": "markers",
           "name": "NOR",
           "text": [
            "8.5"
           ],
           "type": "scatter",
           "x": [
            8.5
           ],
           "y": [
            "NOR"
           ]
          },
          {
           "mode": "markers",
           "name": "POL",
           "text": [
            "22.1"
           ],
           "type": "scatter",
           "x": [
            22.1
           ],
           "y": [
            "POL"
           ]
          },
          {
           "mode": "markers",
           "name": "PRT",
           "text": [
            "17.8"
           ],
           "type": "scatter",
           "x": [
            17.8
           ],
           "y": [
            "PRT"
           ]
          },
          {
           "mode": "markers",
           "name": "SVK",
           "text": [
            "16.3"
           ],
           "type": "scatter",
           "x": [
            16.3
           ],
           "y": [
            "SVK"
           ]
          },
          {
           "mode": "markers",
           "name": "ESP",
           "text": [
            "8.9"
           ],
           "type": "scatter",
           "x": [
            8.9
           ],
           "y": [
            "ESP"
           ]
          },
          {
           "mode": "markers",
           "name": "SWE",
           "text": [
            "6.8"
           ],
           "type": "scatter",
           "x": [
            6.8
           ],
           "y": [
            "SWE"
           ]
          },
          {
           "mode": "markers",
           "name": "CHE",
           "text": [
            "6.9"
           ],
           "type": "scatter",
           "x": [
            6.9
           ],
           "y": [
            "CHE"
           ]
          },
          {
           "mode": "markers",
           "name": "TUR",
           "text": [
            "0"
           ],
           "type": "scatter",
           "x": [
            0
           ],
           "y": [
            "TUR"
           ]
          },
          {
           "mode": "markers",
           "name": "GBR",
           "text": [
            "9.4"
           ],
           "type": "scatter",
           "x": [
            9.4
           ],
           "y": [
            "GBR"
           ]
          },
          {
           "mode": "markers",
           "name": "USA",
           "text": [
            "10.6"
           ],
           "type": "scatter",
           "x": [
            10.6
           ],
           "y": [
            "USA"
           ]
          },
          {
           "mode": "markers",
           "name": "BRA",
           "text": [
            "61.4"
           ],
           "type": "scatter",
           "x": [
            61.4
           ],
           "y": [
            "BRA"
           ]
          },
          {
           "mode": "markers",
           "name": "CHL",
           "text": [
            "19.5"
           ],
           "type": "scatter",
           "x": [
            19.5
           ],
           "y": [
            "CHL"
           ]
          },
          {
           "mode": "markers",
           "name": "CHN",
           "text": [
            "42.2"
           ],
           "type": "scatter",
           "x": [
            42.2
           ],
           "y": [
            "CHN"
           ]
          },
          {
           "mode": "markers",
           "name": "EST",
           "text": [
            "14.1"
           ],
           "type": "scatter",
           "x": [
            14.1
           ],
           "y": [
            "EST"
           ]
          },
          {
           "mode": "markers",
           "name": "IND",
           "text": [
            "100.6"
           ],
           "type": "scatter",
           "x": [
            100.6
           ],
           "y": [
            "IND"
           ]
          },
          {
           "mode": "markers",
           "name": "IDN",
           "text": [
            "74.0"
           ],
           "type": "scatter",
           "x": [
            74
           ],
           "y": [
            "IDN"
           ]
          },
          {
           "mode": "markers",
           "name": "ISR",
           "text": [
            "11.9"
           ],
           "type": "scatter",
           "x": [
            11.9
           ],
           "y": [
            "ISR"
           ]
          },
          {
           "mode": "markers",
           "name": "RUS",
           "text": [
            "20.8"
           ],
           "type": "scatter",
           "x": [
            20.8
           ],
           "y": [
            "RUS"
           ]
          },
          {
           "mode": "markers",
           "name": "SVN",
           "text": [
            "13.0"
           ],
           "type": "scatter",
           "x": [
            13
           ],
           "y": [
            "SVN"
           ]
          },
          {
           "mode": "markers",
           "name": "ZAF",
           "text": [
            "55.1"
           ],
           "type": "scatter",
           "x": [
            55.1
           ],
           "y": [
            "ZAF"
           ]
          },
          {
           "mode": "markers",
           "name": "COL",
           "text": [
            "34.1"
           ],
           "type": "scatter",
           "x": [
            34.1
           ],
           "y": [
            "COL"
           ]
          },
          {
           "mode": "markers",
           "name": "LVA",
           "text": [
            "13.0"
           ],
           "type": "scatter",
           "x": [
            13
           ],
           "y": [
            "LVA"
           ]
          },
          {
           "mode": "markers",
           "name": "LTU",
           "text": [
            "14.2"
           ],
           "type": "scatter",
           "x": [
            14.2
           ],
           "y": [
            "LTU"
           ]
          },
          {
           "mode": "markers",
           "name": "CRI",
           "text": [
            "18.2"
           ],
           "type": "scatter",
           "x": [
            18.2
           ],
           "y": [
            "CRI"
           ]
          }
         ],
         "name": "1985"
        },
        {
         "data": [
          {
           "mode": "markers",
           "name": "AUS",
           "text": [
            "8.8"
           ],
           "type": "scatter",
           "x": [
            8.8
           ],
           "y": [
            "AUS"
           ]
          },
          {
           "mode": "markers",
           "name": "AUT",
           "text": [
            "10.3"
           ],
           "type": "scatter",
           "x": [
            10.3
           ],
           "y": [
            "AUT"
           ]
          },
          {
           "mode": "markers",
           "name": "BEL",
           "text": [
            "9.6"
           ],
           "type": "scatter",
           "x": [
            9.6
           ],
           "y": [
            "BEL"
           ]
          },
          {
           "mode": "markers",
           "name": "CAN",
           "text": [
            "7.9"
           ],
           "type": "scatter",
           "x": [
            7.9
           ],
           "y": [
            "CAN"
           ]
          },
          {
           "mode": "markers",
           "name": "CZE",
           "text": [
            "12.3"
           ],
           "type": "scatter",
           "x": [
            12.3
           ],
           "y": [
            "CZE"
           ]
          },
          {
           "mode": "markers",
           "name": "DNK",
           "text": [
            "8.2"
           ],
           "type": "scatter",
           "x": [
            8.2
           ],
           "y": [
            "DNK"
           ]
          },
          {
           "mode": "markers",
           "name": "FIN",
           "text": [
            "5.8"
           ],
           "type": "scatter",
           "x": [
            5.8
           ],
           "y": [
            "FIN"
           ]
          },
          {
           "mode": "markers",
           "name": "FRA",
           "text": [
            "8.0"
           ],
           "type": "scatter",
           "x": [
            8
           ],
           "y": [
            "FRA"
           ]
          },
          {
           "mode": "markers",
           "name": "DEU",
           "text": [
            "8.7"
           ],
           "type": "scatter",
           "x": [
            8.7
           ],
           "y": [
            "DEU"
           ]
          },
          {
           "mode": "markers",
           "name": "GRC",
           "text": [
            "12.2"
           ],
           "type": "scatter",
           "x": [
            12.2
           ],
           "y": [
            "GRC"
           ]
          },
          {
           "mode": "markers",
           "name": "HUN",
           "text": [
            "19.0"
           ],
           "type": "scatter",
           "x": [
            19
           ],
           "y": [
            "HUN"
           ]
          },
          {
           "mode": "markers",
           "name": "ISL",
           "text": [
            "5.3"
           ],
           "type": "scatter",
           "x": [
            5.3
           ],
           "y": [
            "ISL"
           ]
          },
          {
           "mode": "markers",
           "name": "IRL",
           "text": [
            "8.9"
           ],
           "type": "scatter",
           "x": [
            8.9
           ],
           "y": [
            "IRL"
           ]
          },
          {
           "mode": "markers",
           "name": "ITA",
           "text": [
            "10.2"
           ],
           "type": "scatter",
           "x": [
            10.2
           ],
           "y": [
            "ITA"
           ]
          },
          {
           "mode": "markers",
           "name": "JPN",
           "text": [
            "5.2"
           ],
           "type": "scatter",
           "x": [
            5.2
           ],
           "y": [
            "JPN"
           ]
          },
          {
           "mode": "markers",
           "name": "KOR",
           "text": [
            "0"
           ],
           "type": "scatter",
           "x": [
            0
           ],
           "y": [
            "KOR"
           ]
          },
          {
           "mode": "markers",
           "name": "LUX",
           "text": [
            "7.9"
           ],
           "type": "scatter",
           "x": [
            7.9
           ],
           "y": [
            "LUX"
           ]
          },
          {
           "mode": "markers",
           "name": "MEX",
           "text": [
            "40.0"
           ],
           "type": "scatter",
           "x": [
            40
           ],
           "y": [
            "MEX"
           ]
          },
          {
           "mode": "markers",
           "name": "NLD",
           "text": [
            "7.7"
           ],
           "type": "scatter",
           "x": [
            7.7
           ],
           "y": [
            "NLD"
           ]
          },
          {
           "mode": "markers",
           "name": "NZL",
           "text": [
            "11.4"
           ],
           "type": "scatter",
           "x": [
            11.4
           ],
           "y": [
            "NZL"
           ]
          },
          {
           "mode": "markers",
           "name": "NOR",
           "text": [
            "7.8"
           ],
           "type": "scatter",
           "x": [
            7.8
           ],
           "y": [
            "NOR"
           ]
          },
          {
           "mode": "markers",
           "name": "POL",
           "text": [
            "21.3"
           ],
           "type": "scatter",
           "x": [
            21.3
           ],
           "y": [
            "POL"
           ]
          },
          {
           "mode": "markers",
           "name": "PRT",
           "text": [
            "15.8"
           ],
           "type": "scatter",
           "x": [
            15.8
           ],
           "y": [
            "PRT"
           ]
          },
          {
           "mode": "markers",
           "name": "SVK",
           "text": [
            "15.0"
           ],
           "type": "scatter",
           "x": [
            15
           ],
           "y": [
            "SVK"
           ]
          },
          {
           "mode": "markers",
           "name": "ESP",
           "text": [
            "9.2"
           ],
           "type": "scatter",
           "x": [
            9.2
           ],
           "y": [
            "ESP"
           ]
          },
          {
           "mode": "markers",
           "name": "SWE",
           "text": [
            "5.9"
           ],
           "type": "scatter",
           "x": [
            5.9
           ],
           "y": [
            "SWE"
           ]
          },
          {
           "mode": "markers",
           "name": "CHE",
           "text": [
            "6.8"
           ],
           "type": "scatter",
           "x": [
            6.8
           ],
           "y": [
            "CHE"
           ]
          },
          {
           "mode": "markers",
           "name": "TUR",
           "text": [
            "0"
           ],
           "type": "scatter",
           "x": [
            0
           ],
           "y": [
            "TUR"
           ]
          },
          {
           "mode": "markers",
           "name": "GBR",
           "text": [
            "9.5"
           ],
           "type": "scatter",
           "x": [
            9.5
           ],
           "y": [
            "GBR"
           ]
          },
          {
           "mode": "markers",
           "name": "USA",
           "text": [
            "10.4"
           ],
           "type": "scatter",
           "x": [
            10.4
           ],
           "y": [
            "USA"
           ]
          },
          {
           "mode": "markers",
           "name": "BRA",
           "text": [
            "59.0"
           ],
           "type": "scatter",
           "x": [
            59
           ],
           "y": [
            "BRA"
           ]
          },
          {
           "mode": "markers",
           "name": "CHL",
           "text": [
            "19.1"
           ],
           "type": "scatter",
           "x": [
            19.1
           ],
           "y": [
            "CHL"
           ]
          },
          {
           "mode": "markers",
           "name": "CHN",
           "text": [
            "42.0"
           ],
           "type": "scatter",
           "x": [
            42
           ],
           "y": [
            "CHN"
           ]
          },
          {
           "mode": "markers",
           "name": "EST",
           "text": [
            "16.0"
           ],
           "type": "scatter",
           "x": [
            16
           ],
           "y": [
            "EST"
           ]
          },
          {
           "mode": "markers",
           "name": "IND",
           "text": [
            "98.1"
           ],
           "type": "scatter",
           "x": [
            98.1
           ],
           "y": [
            "IND"
           ]
          },
          {
           "mode": "markers",
           "name": "IDN",
           "text": [
            "71.6"
           ],
           "type": "scatter",
           "x": [
            71.6
           ],
           "y": [
            "IDN"
           ]
          },
          {
           "mode": "markers",
           "name": "ISR",
           "text": [
            "11.4"
           ],
           "type": "scatter",
           "x": [
            11.4
           ],
           "y": [
            "ISR"
           ]
          },
          {
           "mode": "markers",
           "name": "RUS",
           "text": [
            "19.1"
           ],
           "type": "scatter",
           "x": [
            19.1
           ],
           "y": [
            "RUS"
           ]
          },
          {
           "mode": "markers",
           "name": "SVN",
           "text": [
            "11.9"
           ],
           "type": "scatter",
           "x": [
            11.9
           ],
           "y": [
            "SVN"
           ]
          },
          {
           "mode": "markers",
           "name": "ZAF",
           "text": [
            "53.2"
           ],
           "type": "scatter",
           "x": [
            53.2
           ],
           "y": [
            "ZAF"
           ]
          },
          {
           "mode": "markers",
           "name": "COL",
           "text": [
            "32.7"
           ],
           "type": "scatter",
           "x": [
            32.7
           ],
           "y": [
            "COL"
           ]
          },
          {
           "mode": "markers",
           "name": "LVA",
           "text": [
            "12.8"
           ],
           "type": "scatter",
           "x": [
            12.8
           ],
           "y": [
            "LVA"
           ]
          },
          {
           "mode": "markers",
           "name": "LTU",
           "text": [
            "11.6"
           ],
           "type": "scatter",
           "x": [
            11.6
           ],
           "y": [
            "LTU"
           ]
          },
          {
           "mode": "markers",
           "name": "CRI",
           "text": [
            "17.3"
           ],
           "type": "scatter",
           "x": [
            17.3
           ],
           "y": [
            "CRI"
           ]
          }
         ],
         "name": "1986"
        },
        {
         "data": [
          {
           "mode": "markers",
           "name": "AUS",
           "text": [
            "8.7"
           ],
           "type": "scatter",
           "x": [
            8.7
           ],
           "y": [
            "AUS"
           ]
          },
          {
           "mode": "markers",
           "name": "AUT",
           "text": [
            "9.8"
           ],
           "type": "scatter",
           "x": [
            9.8
           ],
           "y": [
            "AUT"
           ]
          },
          {
           "mode": "markers",
           "name": "BEL",
           "text": [
            "9.7"
           ],
           "type": "scatter",
           "x": [
            9.7
           ],
           "y": [
            "BEL"
           ]
          },
          {
           "mode": "markers",
           "name": "CAN",
           "text": [
            "7.3"
           ],
           "type": "scatter",
           "x": [
            7.3
           ],
           "y": [
            "CAN"
           ]
          },
          {
           "mode": "markers",
           "name": "CZE",
           "text": [
            "12.0"
           ],
           "type": "scatter",
           "x": [
            12
           ],
           "y": [
            "CZE"
           ]
          },
          {
           "mode": "markers",
           "name": "DNK",
           "text": [
            "8.3"
           ],
           "type": "scatter",
           "x": [
            8.3
           ],
           "y": [
            "DNK"
           ]
          },
          {
           "mode": "markers",
           "name": "FIN",
           "text": [
            "6.2"
           ],
           "type": "scatter",
           "x": [
            6.2
           ],
           "y": [
            "FIN"
           ]
          },
          {
           "mode": "markers",
           "name": "FRA",
           "text": [
            "7.8"
           ],
           "type": "scatter",
           "x": [
            7.8
           ],
           "y": [
            "FRA"
           ]
          },
          {
           "mode": "markers",
           "name": "DEU",
           "text": [
            "8.4"
           ],
           "type": "scatter",
           "x": [
            8.4
           ],
           "y": [
            "DEU"
           ]
          },
          {
           "mode": "markers",
           "name": "GRC",
           "text": [
            "11.7"
           ],
           "type": "scatter",
           "x": [
            11.7
           ],
           "y": [
            "GRC"
           ]
          },
          {
           "mode": "markers",
           "name": "HUN",
           "text": [
            "17.3"
           ],
           "type": "scatter",
           "x": [
            17.3
           ],
           "y": [
            "HUN"
           ]
          },
          {
           "mode": "markers",
           "name": "ISL",
           "text": [
            "7.3"
           ],
           "type": "scatter",
           "x": [
            7.3
           ],
           "y": [
            "ISL"
           ]
          },
          {
           "mode": "markers",
           "name": "IRL",
           "text": [
            "7.9"
           ],
           "type": "scatter",
           "x": [
            7.9
           ],
           "y": [
            "IRL"
           ]
          },
          {
           "mode": "markers",
           "name": "ITA",
           "text": [
            "9.8"
           ],
           "type": "scatter",
           "x": [
            9.8
           ],
           "y": [
            "ITA"
           ]
          },
          {
           "mode": "markers",
           "name": "JPN",
           "text": [
            "5.0"
           ],
           "type": "scatter",
           "x": [
            5
           ],
           "y": [
            "JPN"
           ]
          },
          {
           "mode": "markers",
           "name": "KOR",
           "text": [
            "13.0"
           ],
           "type": "scatter",
           "x": [
            13
           ],
           "y": [
            "KOR"
           ]
          },
          {
           "mode": "markers",
           "name": "LUX",
           "text": [
            "9.4"
           ],
           "type": "scatter",
           "x": [
            9.4
           ],
           "y": [
            "LUX"
           ]
          },
          {
           "mode": "markers",
           "name": "MEX",
           "text": [
            "38.4"
           ],
           "type": "scatter",
           "x": [
            38.4
           ],
           "y": [
            "MEX"
           ]
          },
          {
           "mode": "markers",
           "name": "NLD",
           "text": [
            "7.6"
           ],
           "type": "scatter",
           "x": [
            7.6
           ],
           "y": [
            "NLD"
           ]
          },
          {
           "mode": "markers",
           "name": "NZL",
           "text": [
            "10.1"
           ],
           "type": "scatter",
           "x": [
            10.1
           ],
           "y": [
            "NZL"
           ]
          },
          {
           "mode": "markers",
           "name": "NOR",
           "text": [
            "8.4"
           ],
           "type": "scatter",
           "x": [
            8.4
           ],
           "y": [
            "NOR"
           ]
          },
          {
           "mode": "markers",
           "name": "POL",
           "text": [
            "21.2"
           ],
           "type": "scatter",
           "x": [
            21.2
           ],
           "y": [
            "POL"
           ]
          },
          {
           "mode": "markers",
           "name": "PRT",
           "text": [
            "14.2"
           ],
           "type": "scatter",
           "x": [
            14.2
           ],
           "y": [
            "PRT"
           ]
          },
          {
           "mode": "markers",
           "name": "SVK",
           "text": [
            "14.2"
           ],
           "type": "scatter",
           "x": [
            14.2
           ],
           "y": [
            "SVK"
           ]
          },
          {
           "mode": "markers",
           "name": "ESP",
           "text": [
            "8.9"
           ],
           "type": "scatter",
           "x": [
            8.9
           ],
           "y": [
            "ESP"
           ]
          },
          {
           "mode": "markers",
           "name": "SWE",
           "text": [
            "6.1"
           ],
           "type": "scatter",
           "x": [
            6.1
           ],
           "y": [
            "SWE"
           ]
          },
          {
           "mode": "markers",
           "name": "CHE",
           "text": [
            "6.8"
           ],
           "type": "scatter",
           "x": [
            6.8
           ],
           "y": [
            "CHE"
           ]
          },
          {
           "mode": "markers",
           "name": "TUR",
           "text": [
            "0"
           ],
           "type": "scatter",
           "x": [
            0
           ],
           "y": [
            "TUR"
           ]
          },
          {
           "mode": "markers",
           "name": "GBR",
           "text": [
            "9.1"
           ],
           "type": "scatter",
           "x": [
            9.1
           ],
           "y": [
            "GBR"
           ]
          },
          {
           "mode": "markers",
           "name": "USA",
           "text": [
            "10.1"
           ],
           "type": "scatter",
           "x": [
            10.1
           ],
           "y": [
            "USA"
           ]
          },
          {
           "mode": "markers",
           "name": "BRA",
           "text": [
            "56.8"
           ],
           "type": "scatter",
           "x": [
            56.8
           ],
           "y": [
            "BRA"
           ]
          },
          {
           "mode": "markers",
           "name": "CHL",
           "text": [
            "18.5"
           ],
           "type": "scatter",
           "x": [
            18.5
           ],
           "y": [
            "CHL"
           ]
          },
          {
           "mode": "markers",
           "name": "CHN",
           "text": [
            "42.0"
           ],
           "type": "scatter",
           "x": [
            42
           ],
           "y": [
            "CHN"
           ]
          },
          {
           "mode": "markers",
           "name": "EST",
           "text": [
            "16.0"
           ],
           "type": "scatter",
           "x": [
            16
           ],
           "y": [
            "EST"
           ]
          },
          {
           "mode": "markers",
           "name": "IND",
           "text": [
            "95.6"
           ],
           "type": "scatter",
           "x": [
            95.6
           ],
           "y": [
            "IND"
           ]
          },
          {
           "mode": "markers",
           "name": "IDN",
           "text": [
            "69.3"
           ],
           "type": "scatter",
           "x": [
            69.3
           ],
           "y": [
            "IDN"
           ]
          },
          {
           "mode": "markers",
           "name": "ISR",
           "text": [
            "11.1"
           ],
           "type": "scatter",
           "x": [
            11.1
           ],
           "y": [
            "ISR"
           ]
          },
          {
           "mode": "markers",
           "name": "RUS",
           "text": [
            "19.4"
           ],
           "type": "scatter",
           "x": [
            19.4
           ],
           "y": [
            "RUS"
           ]
          },
          {
           "mode": "markers",
           "name": "SVN",
           "text": [
            "11.1"
           ],
           "type": "scatter",
           "x": [
            11.1
           ],
           "y": [
            "SVN"
           ]
          },
          {
           "mode": "markers",
           "name": "ZAF",
           "text": [
            "51.4"
           ],
           "type": "scatter",
           "x": [
            51.4
           ],
           "y": [
            "ZAF"
           ]
          },
          {
           "mode": "markers",
           "name": "COL",
           "text": [
            "31.5"
           ],
           "type": "scatter",
           "x": [
            31.5
           ],
           "y": [
            "COL"
           ]
          },
          {
           "mode": "markers",
           "name": "LVA",
           "text": [
            "11.3"
           ],
           "type": "scatter",
           "x": [
            11.3
           ],
           "y": [
            "LVA"
           ]
          },
          {
           "mode": "markers",
           "name": "LTU",
           "text": [
            "12.3"
           ],
           "type": "scatter",
           "x": [
            12.3
           ],
           "y": [
            "LTU"
           ]
          },
          {
           "mode": "markers",
           "name": "CRI",
           "text": [
            "16.3"
           ],
           "type": "scatter",
           "x": [
            16.3
           ],
           "y": [
            "CRI"
           ]
          }
         ],
         "name": "1987"
        },
        {
         "data": [
          {
           "mode": "markers",
           "name": "AUS",
           "text": [
            "8.7"
           ],
           "type": "scatter",
           "x": [
            8.7
           ],
           "y": [
            "AUS"
           ]
          },
          {
           "mode": "markers",
           "name": "AUT",
           "text": [
            "8.1"
           ],
           "type": "scatter",
           "x": [
            8.1
           ],
           "y": [
            "AUT"
           ]
          },
          {
           "mode": "markers",
           "name": "BEL",
           "text": [
            "9.0"
           ],
           "type": "scatter",
           "x": [
            9
           ],
           "y": [
            "BEL"
           ]
          },
          {
           "mode": "markers",
           "name": "CAN",
           "text": [
            "7.2"
           ],
           "type": "scatter",
           "x": [
            7.2
           ],
           "y": [
            "CAN"
           ]
          },
          {
           "mode": "markers",
           "name": "CZE",
           "text": [
            "11.0"
           ],
           "type": "scatter",
           "x": [
            11
           ],
           "y": [
            "CZE"
           ]
          },
          {
           "mode": "markers",
           "name": "DNK",
           "text": [
            "7.6"
           ],
           "type": "scatter",
           "x": [
            7.6
           ],
           "y": [
            "DNK"
           ]
          },
          {
           "mode": "markers",
           "name": "FIN",
           "text": [
            "6.0"
           ],
           "type": "scatter",
           "x": [
            6
           ],
           "y": [
            "FIN"
           ]
          },
          {
           "mode": "markers",
           "name": "FRA",
           "text": [
            "7.8"
           ],
           "type": "scatter",
           "x": [
            7.8
           ],
           "y": [
            "FRA"
           ]
          },
          {
           "mode": "markers",
           "name": "DEU",
           "text": [
            "7.6"
           ],
           "type": "scatter",
           "x": [
            7.6
           ],
           "y": [
            "DEU"
           ]
          },
          {
           "mode": "markers",
           "name": "GRC",
           "text": [
            "11.0"
           ],
           "type": "scatter",
           "x": [
            11
           ],
           "y": [
            "GRC"
           ]
          },
          {
           "mode": "markers",
           "name": "HUN",
           "text": [
            "15.8"
           ],
           "type": "scatter",
           "x": [
            15.8
           ],
           "y": [
            "HUN"
           ]
          },
          {
           "mode": "markers",
           "name": "ISL",
           "text": [
            "6.2"
           ],
           "type": "scatter",
           "x": [
            6.2
           ],
           "y": [
            "ISL"
           ]
          },
          {
           "mode": "markers",
           "name": "IRL",
           "text": [
            "8.9"
           ],
           "type": "scatter",
           "x": [
            8.9
           ],
           "y": [
            "IRL"
           ]
          },
          {
           "mode": "markers",
           "name": "ITA",
           "text": [
            "9.3"
           ],
           "type": "scatter",
           "x": [
            9.3
           ],
           "y": [
            "ITA"
           ]
          },
          {
           "mode": "markers",
           "name": "JPN",
           "text": [
            "4.8"
           ],
           "type": "scatter",
           "x": [
            4.8
           ],
           "y": [
            "JPN"
           ]
          },
          {
           "mode": "markers",
           "name": "KOR",
           "text": [
            "0"
           ],
           "type": "scatter",
           "x": [
            0
           ],
           "y": [
            "KOR"
           ]
          },
          {
           "mode": "markers",
           "name": "LUX",
           "text": [
            "8.5"
           ],
           "type": "scatter",
           "x": [
            8.5
           ],
           "y": [
            "LUX"
           ]
          },
          {
           "mode": "markers",
           "name": "MEX",
           "text": [
            "36.8"
           ],
           "type": "scatter",
           "x": [
            36.8
           ],
           "y": [
            "MEX"
           ]
          },
          {
           "mode": "markers",
           "name": "NLD",
           "text": [
            "6.8"
           ],
           "type": "scatter",
           "x": [
            6.8
           ],
           "y": [
            "NLD"
           ]
          },
          {
           "mode": "markers",
           "name": "NZL",
           "text": [
            "10.9"
           ],
           "type": "scatter",
           "x": [
            10.9
           ],
           "y": [
            "NZL"
           ]
          },
          {
           "mode": "markers",
           "name": "NOR",
           "text": [
            "8.0"
           ],
           "type": "scatter",
           "x": [
            8
           ],
           "y": [
            "NOR"
           ]
          },
          {
           "mode": "markers",
           "name": "POL",
           "text": [
            "19.9"
           ],
           "type": "scatter",
           "x": [
            19.9
           ],
           "y": [
            "POL"
           ]
          },
          {
           "mode": "markers",
           "name": "PRT",
           "text": [
            "13.0"
           ],
           "type": "scatter",
           "x": [
            13
           ],
           "y": [
            "PRT"
           ]
          },
          {
           "mode": "markers",
           "name": "SVK",
           "text": [
            "13.3"
           ],
           "type": "scatter",
           "x": [
            13.3
           ],
           "y": [
            "SVK"
           ]
          },
          {
           "mode": "markers",
           "name": "ESP",
           "text": [
            "8.0"
           ],
           "type": "scatter",
           "x": [
            8
           ],
           "y": [
            "ESP"
           ]
          },
          {
           "mode": "markers",
           "name": "SWE",
           "text": [
            "5.8"
           ],
           "type": "scatter",
           "x": [
            5.8
           ],
           "y": [
            "SWE"
           ]
          },
          {
           "mode": "markers",
           "name": "CHE",
           "text": [
            "6.8"
           ],
           "type": "scatter",
           "x": [
            6.8
           ],
           "y": [
            "CHE"
           ]
          },
          {
           "mode": "markers",
           "name": "TUR",
           "text": [
            "0"
           ],
           "type": "scatter",
           "x": [
            0
           ],
           "y": [
            "TUR"
           ]
          },
          {
           "mode": "markers",
           "name": "GBR",
           "text": [
            "9.0"
           ],
           "type": "scatter",
           "x": [
            9
           ],
           "y": [
            "GBR"
           ]
          },
          {
           "mode": "markers",
           "name": "USA",
           "text": [
            "10.0"
           ],
           "type": "scatter",
           "x": [
            10
           ],
           "y": [
            "USA"
           ]
          },
          {
           "mode": "markers",
           "name": "BRA",
           "text": [
            "54.8"
           ],
           "type": "scatter",
           "x": [
            54.8
           ],
           "y": [
            "BRA"
           ]
          },
          {
           "mode": "markers",
           "name": "CHL",
           "text": [
            "18.9"
           ],
           "type": "scatter",
           "x": [
            18.9
           ],
           "y": [
            "CHL"
           ]
          },
          {
           "mode": "markers",
           "name": "CHN",
           "text": [
            "42.2"
           ],
           "type": "scatter",
           "x": [
            42.2
           ],
           "y": [
            "CHN"
           ]
          },
          {
           "mode": "markers",
           "name": "EST",
           "text": [
            "12.5"
           ],
           "type": "scatter",
           "x": [
            12.5
           ],
           "y": [
            "EST"
           ]
          },
          {
           "mode": "markers",
           "name": "IND",
           "text": [
            "93.1"
           ],
           "type": "scatter",
           "x": [
            93.1
           ],
           "y": [
            "IND"
           ]
          },
          {
           "mode": "markers",
           "name": "IDN",
           "text": [
            "67.0"
           ],
           "type": "scatter",
           "x": [
            67
           ],
           "y": [
            "IDN"
           ]
          },
          {
           "mode": "markers",
           "name": "ISR",
           "text": [
            "10.1"
           ],
           "type": "scatter",
           "x": [
            10.1
           ],
           "y": [
            "ISR"
           ]
          },
          {
           "mode": "markers",
           "name": "RUS",
           "text": [
            "19.1"
           ],
           "type": "scatter",
           "x": [
            19.1
           ],
           "y": [
            "RUS"
           ]
          },
          {
           "mode": "markers",
           "name": "SVN",
           "text": [
            "10.0"
           ],
           "type": "scatter",
           "x": [
            10
           ],
           "y": [
            "SVN"
           ]
          },
          {
           "mode": "markers",
           "name": "ZAF",
           "text": [
            "49.8"
           ],
           "type": "scatter",
           "x": [
            49.8
           ],
           "y": [
            "ZAF"
           ]
          },
          {
           "mode": "markers",
           "name": "COL",
           "text": [
            "30.5"
           ],
           "type": "scatter",
           "x": [
            30.5
           ],
           "y": [
            "COL"
           ]
          },
          {
           "mode": "markers",
           "name": "LVA",
           "text": [
            "11.0"
           ],
           "type": "scatter",
           "x": [
            11
           ],
           "y": [
            "LVA"
           ]
          },
          {
           "mode": "markers",
           "name": "LTU",
           "text": [
            "11.6"
           ],
           "type": "scatter",
           "x": [
            11.6
           ],
           "y": [
            "LTU"
           ]
          },
          {
           "mode": "markers",
           "name": "CRI",
           "text": [
            "15.5"
           ],
           "type": "scatter",
           "x": [
            15.5
           ],
           "y": [
            "CRI"
           ]
          }
         ],
         "name": "1988"
        },
        {
         "data": [
          {
           "mode": "markers",
           "name": "AUS",
           "text": [
            "8.0"
           ],
           "type": "scatter",
           "x": [
            8
           ],
           "y": [
            "AUS"
           ]
          },
          {
           "mode": "markers",
           "name": "AUT",
           "text": [
            "8.3"
           ],
           "type": "scatter",
           "x": [
            8.3
           ],
           "y": [
            "AUT"
           ]
          },
          {
           "mode": "markers",
           "name": "BEL",
           "text": [
            "8.5"
           ],
           "type": "scatter",
           "x": [
            8.5
           ],
           "y": [
            "BEL"
           ]
          },
          {
           "mode": "markers",
           "name": "CAN",
           "text": [
            "7.1"
           ],
           "type": "scatter",
           "x": [
            7.1
           ],
           "y": [
            "CAN"
           ]
          },
          {
           "mode": "markers",
           "name": "CZE",
           "text": [
            "10.0"
           ],
           "type": "scatter",
           "x": [
            10
           ],
           "y": [
            "CZE"
           ]
          },
          {
           "mode": "markers",
           "name": "DNK",
           "text": [
            "8.0"
           ],
           "type": "scatter",
           "x": [
            8
           ],
           "y": [
            "DNK"
           ]
          },
          {
           "mode": "markers",
           "name": "FIN",
           "text": [
            "6.1"
           ],
           "type": "scatter",
           "x": [
            6.1
           ],
           "y": [
            "FIN"
           ]
          },
          {
           "mode": "markers",
           "name": "FRA",
           "text": [
            "7.5"
           ],
           "type": "scatter",
           "x": [
            7.5
           ],
           "y": [
            "FRA"
           ]
          },
          {
           "mode": "markers",
           "name": "DEU",
           "text": [
            "7.5"
           ],
           "type": "scatter",
           "x": [
            7.5
           ],
           "y": [
            "DEU"
           ]
          },
          {
           "mode": "markers",
           "name": "GRC",
           "text": [
            "9.7"
           ],
           "type": "scatter",
           "x": [
            9.7
           ],
           "y": [
            "GRC"
           ]
          },
          {
           "mode": "markers",
           "name": "HUN",
           "text": [
            "15.7"
           ],
           "type": "scatter",
           "x": [
            15.7
           ],
           "y": [
            "HUN"
           ]
          },
          {
           "mode": "markers",
           "name": "ISL",
           "text": [
            "5.5"
           ],
           "type": "scatter",
           "x": [
            5.5
           ],
           "y": [
            "ISL"
           ]
          },
          {
           "mode": "markers",
           "name": "IRL",
           "text": [
            "8.1"
           ],
           "type": "scatter",
           "x": [
            8.1
           ],
           "y": [
            "IRL"
           ]
          },
          {
           "mode": "markers",
           "name": "ITA",
           "text": [
            "8.7"
           ],
           "type": "scatter",
           "x": [
            8.7
           ],
           "y": [
            "ITA"
           ]
          },
          {
           "mode": "markers",
           "name": "JPN",
           "text": [
            "4.6"
           ],
           "type": "scatter",
           "x": [
            4.6
           ],
           "y": [
            "JPN"
           ]
          },
          {
           "mode": "markers",
           "name": "KOR",
           "text": [
            "12.0"
           ],
           "type": "scatter",
           "x": [
            12
           ],
           "y": [
            "KOR"
           ]
          },
          {
           "mode": "markers",
           "name": "LUX",
           "text": [
            "9.9"
           ],
           "type": "scatter",
           "x": [
            9.9
           ],
           "y": [
            "LUX"
           ]
          },
          {
           "mode": "markers",
           "name": "MEX",
           "text": [
            "0"
           ],
           "type": "scatter",
           "x": [
            0
           ],
           "y": [
            "MEX"
           ]
          },
          {
           "mode": "markers",
           "name": "NLD",
           "text": [
            "6.8"
           ],
           "type": "scatter",
           "x": [
            6.8
           ],
           "y": [
            "NLD"
           ]
          },
          {
           "mode": "markers",
           "name": "NZL",
           "text": [
            "10.3"
           ],
           "type": "scatter",
           "x": [
            10.3
           ],
           "y": [
            "NZL"
           ]
          },
          {
           "mode": "markers",
           "name": "NOR",
           "text": [
            "7.8"
           ],
           "type": "scatter",
           "x": [
            7.8
           ],
           "y": [
            "NOR"
           ]
          },
          {
           "mode": "markers",
           "name": "POL",
           "text": [
            "19.3"
           ],
           "type": "scatter",
           "x": [
            19.3
           ],
           "y": [
            "POL"
           ]
          },
          {
           "mode": "markers",
           "name": "PRT",
           "text": [
            "12.1"
           ],
           "type": "scatter",
           "x": [
            12.1
           ],
           "y": [
            "PRT"
           ]
          },
          {
           "mode": "markers",
           "name": "SVK",
           "text": [
            "13.5"
           ],
           "type": "scatter",
           "x": [
            13.5
           ],
           "y": [
            "SVK"
           ]
          },
          {
           "mode": "markers",
           "name": "ESP",
           "text": [
            "7.8"
           ],
           "type": "scatter",
           "x": [
            7.8
           ],
           "y": [
            "ESP"
           ]
          },
          {
           "mode": "markers",
           "name": "SWE",
           "text": [
            "5.8"
           ],
           "type": "scatter",
           "x": [
            5.8
           ],
           "y": [
            "SWE"
           ]
          },
          {
           "mode": "markers",
           "name": "CHE",
           "text": [
            "7.3"
           ],
           "type": "scatter",
           "x": [
            7.3
           ],
           "y": [
            "CHE"
           ]
          },
          {
           "mode": "markers",
           "name": "TUR",
           "text": [
            "0"
           ],
           "type": "scatter",
           "x": [
            0
           ],
           "y": [
            "TUR"
           ]
          },
          {
           "mode": "markers",
           "name": "GBR",
           "text": [
            "8.4"
           ],
           "type": "scatter",
           "x": [
            8.4
           ],
           "y": [
            "GBR"
           ]
          },
          {
           "mode": "markers",
           "name": "USA",
           "text": [
            "9.8"
           ],
           "type": "scatter",
           "x": [
            9.8
           ],
           "y": [
            "USA"
           ]
          },
          {
           "mode": "markers",
           "name": "BRA",
           "text": [
            "52.8"
           ],
           "type": "scatter",
           "x": [
            52.8
           ],
           "y": [
            "BRA"
           ]
          },
          {
           "mode": "markers",
           "name": "CHL",
           "text": [
            "17.1"
           ],
           "type": "scatter",
           "x": [
            17.1
           ],
           "y": [
            "CHL"
           ]
          },
          {
           "mode": "markers",
           "name": "CHN",
           "text": [
            "42.2"
           ],
           "type": "scatter",
           "x": [
            42.2
           ],
           "y": [
            "CHN"
           ]
          },
          {
           "mode": "markers",
           "name": "EST",
           "text": [
            "14.8"
           ],
           "type": "scatter",
           "x": [
            14.8
           ],
           "y": [
            "EST"
           ]
          },
          {
           "mode": "markers",
           "name": "IND",
           "text": [
            "90.7"
           ],
           "type": "scatter",
           "x": [
            90.7
           ],
           "y": [
            "IND"
           ]
          },
          {
           "mode": "markers",
           "name": "IDN",
           "text": [
            "64.6"
           ],
           "type": "scatter",
           "x": [
            64.6
           ],
           "y": [
            "IDN"
           ]
          },
          {
           "mode": "markers",
           "name": "ISR",
           "text": [
            "10.1"
           ],
           "type": "scatter",
           "x": [
            10.1
           ],
           "y": [
            "ISR"
           ]
          },
          {
           "mode": "markers",
           "name": "RUS",
           "text": [
            "18.1"
           ],
           "type": "scatter",
           "x": [
            18.1
           ],
           "y": [
            "RUS"
           ]
          },
          {
           "mode": "markers",
           "name": "SVN",
           "text": [
            "8.1"
           ],
           "type": "scatter",
           "x": [
            8.1
           ],
           "y": [
            "SVN"
           ]
          },
          {
           "mode": "markers",
           "name": "ZAF",
           "text": [
            "48.5"
           ],
           "type": "scatter",
           "x": [
            48.5
           ],
           "y": [
            "ZAF"
           ]
          },
          {
           "mode": "markers",
           "name": "COL",
           "text": [
            "29.7"
           ],
           "type": "scatter",
           "x": [
            29.7
           ],
           "y": [
            "COL"
           ]
          },
          {
           "mode": "markers",
           "name": "LVA",
           "text": [
            "11.3"
           ],
           "type": "scatter",
           "x": [
            11.3
           ],
           "y": [
            "LVA"
           ]
          },
          {
           "mode": "markers",
           "name": "LTU",
           "text": [
            "10.7"
           ],
           "type": "scatter",
           "x": [
            10.7
           ],
           "y": [
            "LTU"
           ]
          },
          {
           "mode": "markers",
           "name": "CRI",
           "text": [
            "14.8"
           ],
           "type": "scatter",
           "x": [
            14.8
           ],
           "y": [
            "CRI"
           ]
          }
         ],
         "name": "1989"
        },
        {
         "data": [
          {
           "mode": "markers",
           "name": "AUS",
           "text": [
            "8.2"
           ],
           "type": "scatter",
           "x": [
            8.2
           ],
           "y": [
            "AUS"
           ]
          },
          {
           "mode": "markers",
           "name": "AUT",
           "text": [
            "7.8"
           ],
           "type": "scatter",
           "x": [
            7.8
           ],
           "y": [
            "AUT"
           ]
          },
          {
           "mode": "markers",
           "name": "BEL",
           "text": [
            "8.0"
           ],
           "type": "scatter",
           "x": [
            8
           ],
           "y": [
            "BEL"
           ]
          },
          {
           "mode": "markers",
           "name": "CAN",
           "text": [
            "6.8"
           ],
           "type": "scatter",
           "x": [
            6.8
           ],
           "y": [
            "CAN"
           ]
          },
          {
           "mode": "markers",
           "name": "CZE",
           "text": [
            "10.8"
           ],
           "type": "scatter",
           "x": [
            10.8
           ],
           "y": [
            "CZE"
           ]
          },
          {
           "mode": "markers",
           "name": "DNK",
           "text": [
            "7.5"
           ],
           "type": "scatter",
           "x": [
            7.5
           ],
           "y": [
            "DNK"
           ]
          },
          {
           "mode": "markers",
           "name": "FIN",
           "text": [
            "5.6"
           ],
           "type": "scatter",
           "x": [
            5.6
           ],
           "y": [
            "FIN"
           ]
          },
          {
           "mode": "markers",
           "name": "FRA",
           "text": [
            "7.3"
           ],
           "type": "scatter",
           "x": [
            7.3
           ],
           "y": [
            "FRA"
           ]
          },
          {
           "mode": "markers",
           "name": "DEU",
           "text": [
            "7.0"
           ],
           "type": "scatter",
           "x": [
            7
           ],
           "y": [
            "DEU"
           ]
          },
          {
           "mode": "markers",
           "name": "GRC",
           "text": [
            "9.7"
           ],
           "type": "scatter",
           "x": [
            9.7
           ],
           "y": [
            "GRC"
           ]
          },
          {
           "mode": "markers",
           "name": "HUN",
           "text": [
            "14.8"
           ],
           "type": "scatter",
           "x": [
            14.8
           ],
           "y": [
            "HUN"
           ]
          },
          {
           "mode": "markers",
           "name": "ISL",
           "text": [
            "5.9"
           ],
           "type": "scatter",
           "x": [
            5.9
           ],
           "y": [
            "ISL"
           ]
          },
          {
           "mode": "markers",
           "name": "IRL",
           "text": [
            "8.2"
           ],
           "type": "scatter",
           "x": [
            8.2
           ],
           "y": [
            "IRL"
           ]
          },
          {
           "mode": "markers",
           "name": "ITA",
           "text": [
            "8.1"
           ],
           "type": "scatter",
           "x": [
            8.1
           ],
           "y": [
            "ITA"
           ]
          },
          {
           "mode": "markers",
           "name": "JPN",
           "text": [
            "4.6"
           ],
           "type": "scatter",
           "x": [
            4.6
           ],
           "y": [
            "JPN"
           ]
          },
          {
           "mode": "markers",
           "name": "KOR",
           "text": [
            "0"
           ],
           "type": "scatter",
           "x": [
            0
           ],
           "y": [
            "KOR"
           ]
          },
          {
           "mode": "markers",
           "name": "LUX",
           "text": [
            "7.3"
           ],
           "type": "scatter",
           "x": [
            7.3
           ],
           "y": [
            "LUX"
           ]
          },
          {
           "mode": "markers",
           "name": "MEX",
           "text": [
            "32.5"
           ],
           "type": "scatter",
           "x": [
            32.5
           ],
           "y": [
            "MEX"
           ]
          },
          {
           "mode": "markers",
           "name": "NLD",
           "text": [
            "7.1"
           ],
           "type": "scatter",
           "x": [
            7.1
           ],
           "y": [
            "NLD"
           ]
          },
          {
           "mode": "markers",
           "name": "NZL",
           "text": [
            "8.4"
           ],
           "type": "scatter",
           "x": [
            8.4
           ],
           "y": [
            "NZL"
           ]
          },
          {
           "mode": "markers",
           "name": "NOR",
           "text": [
            "6.9"
           ],
           "type": "scatter",
           "x": [
            6.9
           ],
           "y": [
            "NOR"
           ]
          },
          {
           "mode": "markers",
           "name": "POL",
           "text": [
            "19.4"
           ],
           "type": "scatter",
           "x": [
            19.4
           ],
           "y": [
            "POL"
           ]
          },
          {
           "mode": "markers",
           "name": "PRT",
           "text": [
            "10.9"
           ],
           "type": "scatter",
           "x": [
            10.9
           ],
           "y": [
            "PRT"
           ]
          },
          {
           "mode": "markers",
           "name": "SVK",
           "text": [
            "12.0"
           ],
           "type": "scatter",
           "x": [
            12
           ],
           "y": [
            "SVK"
           ]
          },
          {
           "mode": "markers",
           "name": "ESP",
           "text": [
            "7.6"
           ],
           "type": "scatter",
           "x": [
            7.6
           ],
           "y": [
            "ESP"
           ]
          },
          {
           "mode": "markers",
           "name": "SWE",
           "text": [
            "6.0"
           ],
           "type": "scatter",
           "x": [
            6
           ],
           "y": [
            "SWE"
           ]
          },
          {
           "mode": "markers",
           "name": "CHE",
           "text": [
            "6.8"
           ],
           "type": "scatter",
           "x": [
            6.8
           ],
           "y": [
            "CHE"
           ]
          },
          {
           "mode": "markers",
           "name": "TUR",
           "text": [
            "0"
           ],
           "type": "scatter",
           "x": [
            0
           ],
           "y": [
            "TUR"
           ]
          },
          {
           "mode": "markers",
           "name": "GBR",
           "text": [
            "7.9"
           ],
           "type": "scatter",
           "x": [
            7.9
           ],
           "y": [
            "GBR"
           ]
          },
          {
           "mode": "markers",
           "name": "USA",
           "text": [
            "9.2"
           ],
           "type": "scatter",
           "x": [
            9.2
           ],
           "y": [
            "USA"
           ]
          },
          {
           "mode": "markers",
           "name": "BRA",
           "text": [
            "50.9"
           ],
           "type": "scatter",
           "x": [
            50.9
           ],
           "y": [
            "BRA"
           ]
          },
          {
           "mode": "markers",
           "name": "CHL",
           "text": [
            "16.0"
           ],
           "type": "scatter",
           "x": [
            16
           ],
           "y": [
            "CHL"
           ]
          },
          {
           "mode": "markers",
           "name": "CHN",
           "text": [
            "42.1"
           ],
           "type": "scatter",
           "x": [
            42.1
           ],
           "y": [
            "CHN"
           ]
          },
          {
           "mode": "markers",
           "name": "EST",
           "text": [
            "12.3"
           ],
           "type": "scatter",
           "x": [
            12.3
           ],
           "y": [
            "EST"
           ]
          },
          {
           "mode": "markers",
           "name": "IND",
           "text": [
            "88.3"
           ],
           "type": "scatter",
           "x": [
            88.3
           ],
           "y": [
            "IND"
           ]
          },
          {
           "mode": "markers",
           "name": "IDN",
           "text": [
            "62.2"
           ],
           "type": "scatter",
           "x": [
            62.2
           ],
           "y": [
            "IDN"
           ]
          },
          {
           "mode": "markers",
           "name": "ISR",
           "text": [
            "9.9"
           ],
           "type": "scatter",
           "x": [
            9.9
           ],
           "y": [
            "ISR"
           ]
          },
          {
           "mode": "markers",
           "name": "RUS",
           "text": [
            "17.4"
           ],
           "type": "scatter",
           "x": [
            17.4
           ],
           "y": [
            "RUS"
           ]
          },
          {
           "mode": "markers",
           "name": "SVN",
           "text": [
            "8.4"
           ],
           "type": "scatter",
           "x": [
            8.4
           ],
           "y": [
            "SVN"
           ]
          },
          {
           "mode": "markers",
           "name": "ZAF",
           "text": [
            "47.4"
           ],
           "type": "scatter",
           "x": [
            47.4
           ],
           "y": [
            "ZAF"
           ]
          },
          {
           "mode": "markers",
           "name": "COL",
           "text": [
            "38.4"
           ],
           "type": "scatter",
           "x": [
            38.4
           ],
           "y": [
            "COL"
           ]
          },
          {
           "mode": "markers",
           "name": "LVA",
           "text": [
            "13.7"
           ],
           "type": "scatter",
           "x": [
            13.7
           ],
           "y": [
            "LVA"
           ]
          },
          {
           "mode": "markers",
           "name": "LTU",
           "text": [
            "10.2"
           ],
           "type": "scatter",
           "x": [
            10.2
           ],
           "y": [
            "LTU"
           ]
          },
          {
           "mode": "markers",
           "name": "CRI",
           "text": [
            "14.3"
           ],
           "type": "scatter",
           "x": [
            14.3
           ],
           "y": [
            "CRI"
           ]
          }
         ],
         "name": "1990"
        },
        {
         "data": [
          {
           "mode": "markers",
           "name": "AUS",
           "text": [
            "7.1"
           ],
           "type": "scatter",
           "x": [
            7.1
           ],
           "y": [
            "AUS"
           ]
          },
          {
           "mode": "markers",
           "name": "AUT",
           "text": [
            "7.5"
           ],
           "type": "scatter",
           "x": [
            7.5
           ],
           "y": [
            "AUT"
           ]
          },
          {
           "mode": "markers",
           "name": "BEL",
           "text": [
            "8.3"
           ],
           "type": "scatter",
           "x": [
            8.3
           ],
           "y": [
            "BEL"
           ]
          },
          {
           "mode": "markers",
           "name": "CAN",
           "text": [
            "6.4"
           ],
           "type": "scatter",
           "x": [
            6.4
           ],
           "y": [
            "CAN"
           ]
          },
          {
           "mode": "markers",
           "name": "CZE",
           "text": [
            "10.4"
           ],
           "type": "scatter",
           "x": [
            10.4
           ],
           "y": [
            "CZE"
           ]
          },
          {
           "mode": "markers",
           "name": "DNK",
           "text": [
            "7.3"
           ],
           "type": "scatter",
           "x": [
            7.3
           ],
           "y": [
            "DNK"
           ]
          },
          {
           "mode": "markers",
           "name": "FIN",
           "text": [
            "5.8"
           ],
           "type": "scatter",
           "x": [
            5.8
           ],
           "y": [
            "FIN"
           ]
          },
          {
           "mode": "markers",
           "name": "FRA",
           "text": [
            "7.3"
           ],
           "type": "scatter",
           "x": [
            7.3
           ],
           "y": [
            "FRA"
           ]
          },
          {
           "mode": "markers",
           "name": "DEU",
           "text": [
            "6.9"
           ],
           "type": "scatter",
           "x": [
            6.9
           ],
           "y": [
            "DEU"
           ]
          },
          {
           "mode": "markers",
           "name": "GRC",
           "text": [
            "9.0"
           ],
           "type": "scatter",
           "x": [
            9
           ],
           "y": [
            "GRC"
           ]
          },
          {
           "mode": "markers",
           "name": "HUN",
           "text": [
            "15.6"
           ],
           "type": "scatter",
           "x": [
            15.6
           ],
           "y": [
            "HUN"
           ]
          },
          {
           "mode": "markers",
           "name": "ISL",
           "text": [
            "5.5"
           ],
           "type": "scatter",
           "x": [
            5.5
           ],
           "y": [
            "ISL"
           ]
          },
          {
           "mode": "markers",
           "name": "IRL",
           "text": [
            "7.6"
           ],
           "type": "scatter",
           "x": [
            7.6
           ],
           "y": [
            "IRL"
           ]
          },
          {
           "mode": "markers",
           "name": "ITA",
           "text": [
            "8.0"
           ],
           "type": "scatter",
           "x": [
            8
           ],
           "y": [
            "ITA"
           ]
          },
          {
           "mode": "markers",
           "name": "JPN",
           "text": [
            "4.4"
           ],
           "type": "scatter",
           "x": [
            4.4
           ],
           "y": [
            "JPN"
           ]
          },
          {
           "mode": "markers",
           "name": "KOR",
           "text": [
            "10.0"
           ],
           "type": "scatter",
           "x": [
            10
           ],
           "y": [
            "KOR"
           ]
          },
          {
           "mode": "markers",
           "name": "LUX",
           "text": [
            "9.2"
           ],
           "type": "scatter",
           "x": [
            9.2
           ],
           "y": [
            "LUX"
           ]
          },
          {
           "mode": "markers",
           "name": "MEX",
           "text": [
            "31.1"
           ],
           "type": "scatter",
           "x": [
            31.1
           ],
           "y": [
            "MEX"
           ]
          },
          {
           "mode": "markers",
           "name": "NLD",
           "text": [
            "6.5"
           ],
           "type": "scatter",
           "x": [
            6.5
           ],
           "y": [
            "NLD"
           ]
          },
          {
           "mode": "markers",
           "name": "NZL",
           "text": [
            "8.4"
           ],
           "type": "scatter",
           "x": [
            8.4
           ],
           "y": [
            "NZL"
           ]
          },
          {
           "mode": "markers",
           "name": "NOR",
           "text": [
            "6.2"
           ],
           "type": "scatter",
           "x": [
            6.2
           ],
           "y": [
            "NOR"
           ]
          },
          {
           "mode": "markers",
           "name": "POL",
           "text": [
            "18.2"
           ],
           "type": "scatter",
           "x": [
            18.2
           ],
           "y": [
            "POL"
           ]
          },
          {
           "mode": "markers",
           "name": "PRT",
           "text": [
            "10.8"
           ],
           "type": "scatter",
           "x": [
            10.8
           ],
           "y": [
            "PRT"
           ]
          },
          {
           "mode": "markers",
           "name": "SVK",
           "text": [
            "13.2"
           ],
           "type": "scatter",
           "x": [
            13.2
           ],
           "y": [
            "SVK"
           ]
          },
          {
           "mode": "markers",
           "name": "ESP",
           "text": [
            "7.2"
           ],
           "type": "scatter",
           "x": [
            7.2
           ],
           "y": [
            "ESP"
           ]
          },
          {
           "mode": "markers",
           "name": "SWE",
           "text": [
            "6.2"
           ],
           "type": "scatter",
           "x": [
            6.2
           ],
           "y": [
            "SWE"
           ]
          },
          {
           "mode": "markers",
           "name": "CHE",
           "text": [
            "6.2"
           ],
           "type": "scatter",
           "x": [
            6.2
           ],
           "y": [
            "CHE"
           ]
          },
          {
           "mode": "markers",
           "name": "TUR",
           "text": [
            "0"
           ],
           "type": "scatter",
           "x": [
            0
           ],
           "y": [
            "TUR"
           ]
          },
          {
           "mode": "markers",
           "name": "GBR",
           "text": [
            "7.4"
           ],
           "type": "scatter",
           "x": [
            7.4
           ],
           "y": [
            "GBR"
           ]
          },
          {
           "mode": "markers",
           "name": "USA",
           "text": [
            "8.9"
           ],
           "type": "scatter",
           "x": [
            8.9
           ],
           "y": [
            "USA"
           ]
          },
          {
           "mode": "markers",
           "name": "BRA",
           "text": [
            "48.9"
           ],
           "type": "scatter",
           "x": [
            48.9
           ],
           "y": [
            "BRA"
           ]
          },
          {
           "mode": "markers",
           "name": "CHL",
           "text": [
            "14.6"
           ],
           "type": "scatter",
           "x": [
            14.6
           ],
           "y": [
            "CHL"
           ]
          },
          {
           "mode": "markers",
           "name": "CHN",
           "text": [
            "41.8"
           ],
           "type": "scatter",
           "x": [
            41.8
           ],
           "y": [
            "CHN"
           ]
          },
          {
           "mode": "markers",
           "name": "EST",
           "text": [
            "13.3"
           ],
           "type": "scatter",
           "x": [
            13.3
           ],
           "y": [
            "EST"
           ]
          },
          {
           "mode": "markers",
           "name": "IND",
           "text": [
            "86.1"
           ],
           "type": "scatter",
           "x": [
            86.1
           ],
           "y": [
            "IND"
           ]
          },
          {
           "mode": "markers",
           "name": "IDN",
           "text": [
            "59.8"
           ],
           "type": "scatter",
           "x": [
            59.8
           ],
           "y": [
            "IDN"
           ]
          },
          {
           "mode": "markers",
           "name": "ISR",
           "text": [
            "9.2"
           ],
           "type": "scatter",
           "x": [
            9.2
           ],
           "y": [
            "ISR"
           ]
          },
          {
           "mode": "markers",
           "name": "RUS",
           "text": [
            "17.8"
           ],
           "type": "scatter",
           "x": [
            17.8
           ],
           "y": [
            "RUS"
           ]
          },
          {
           "mode": "markers",
           "name": "SVN",
           "text": [
            "8.2"
           ],
           "type": "scatter",
           "x": [
            8.2
           ],
           "y": [
            "SVN"
           ]
          },
          {
           "mode": "markers",
           "name": "ZAF",
           "text": [
            "46.7"
           ],
           "type": "scatter",
           "x": [
            46.7
           ],
           "y": [
            "ZAF"
           ]
          },
          {
           "mode": "markers",
           "name": "COL",
           "text": [
            "36.1"
           ],
           "type": "scatter",
           "x": [
            36.1
           ],
           "y": [
            "COL"
           ]
          },
          {
           "mode": "markers",
           "name": "LVA",
           "text": [
            "15.7"
           ],
           "type": "scatter",
           "x": [
            15.7
           ],
           "y": [
            "LVA"
           ]
          },
          {
           "mode": "markers",
           "name": "LTU",
           "text": [
            "14.4"
           ],
           "type": "scatter",
           "x": [
            14.4
           ],
           "y": [
            "LTU"
           ]
          },
          {
           "mode": "markers",
           "name": "CRI",
           "text": [
            "14.0"
           ],
           "type": "scatter",
           "x": [
            14
           ],
           "y": [
            "CRI"
           ]
          }
         ],
         "name": "1991"
        },
        {
         "data": [
          {
           "mode": "markers",
           "name": "AUS",
           "text": [
            "7.0"
           ],
           "type": "scatter",
           "x": [
            7
           ],
           "y": [
            "AUS"
           ]
          },
          {
           "mode": "markers",
           "name": "AUT",
           "text": [
            "7.5"
           ],
           "type": "scatter",
           "x": [
            7.5
           ],
           "y": [
            "AUT"
           ]
          },
          {
           "mode": "markers",
           "name": "BEL",
           "text": [
            "8.2"
           ],
           "type": "scatter",
           "x": [
            8.2
           ],
           "y": [
            "BEL"
           ]
          },
          {
           "mode": "markers",
           "name": "CAN",
           "text": [
            "6.3"
           ],
           "type": "scatter",
           "x": [
            6.3
           ],
           "y": [
            "CAN"
           ]
          },
          {
           "mode": "markers",
           "name": "CZE",
           "text": [
            "9.9"
           ],
           "type": "scatter",
           "x": [
            9.9
           ],
           "y": [
            "CZE"
           ]
          },
          {
           "mode": "markers",
           "name": "DNK",
           "text": [
            "6.6"
           ],
           "type": "scatter",
           "x": [
            6.6
           ],
           "y": [
            "DNK"
           ]
          },
          {
           "mode": "markers",
           "name": "FIN",
           "text": [
            "5.2"
           ],
           "type": "scatter",
           "x": [
            5.2
           ],
           "y": [
            "FIN"
           ]
          },
          {
           "mode": "markers",
           "name": "FRA",
           "text": [
            "6.8"
           ],
           "type": "scatter",
           "x": [
            6.8
           ],
           "y": [
            "FRA"
           ]
          },
          {
           "mode": "markers",
           "name": "DEU",
           "text": [
            "6.2"
           ],
           "type": "scatter",
           "x": [
            6.2
           ],
           "y": [
            "DEU"
           ]
          },
          {
           "mode": "markers",
           "name": "GRC",
           "text": [
            "8.4"
           ],
           "type": "scatter",
           "x": [
            8.4
           ],
           "y": [
            "GRC"
           ]
          },
          {
           "mode": "markers",
           "name": "HUN",
           "text": [
            "14.1"
           ],
           "type": "scatter",
           "x": [
            14.1
           ],
           "y": [
            "HUN"
           ]
          },
          {
           "mode": "markers",
           "name": "ISL",
           "text": [
            "4.8"
           ],
           "type": "scatter",
           "x": [
            4.8
           ],
           "y": [
            "ISL"
           ]
          },
          {
           "mode": "markers",
           "name": "IRL",
           "text": [
            "6.5"
           ],
           "type": "scatter",
           "x": [
            6.5
           ],
           "y": [
            "IRL"
           ]
          },
          {
           "mode": "markers",
           "name": "ITA",
           "text": [
            "7.8"
           ],
           "type": "scatter",
           "x": [
            7.8
           ],
           "y": [
            "ITA"
           ]
          },
          {
           "mode": "markers",
           "name": "JPN",
           "text": [
            "4.5"
           ],
           "type": "scatter",
           "x": [
            4.5
           ],
           "y": [
            "JPN"
           ]
          },
          {
           "mode": "markers",
           "name": "KOR",
           "text": [
            "0"
           ],
           "type": "scatter",
           "x": [
            0
           ],
           "y": [
            "KOR"
           ]
          },
          {
           "mode": "markers",
           "name": "LUX",
           "text": [
            "8.5"
           ],
           "type": "scatter",
           "x": [
            8.5
           ],
           "y": [
            "LUX"
           ]
          },
          {
           "mode": "markers",
           "name": "MEX",
           "text": [
            "29.7"
           ],
           "type": "scatter",
           "x": [
            29.7
           ],
           "y": [
            "MEX"
           ]
          },
          {
           "mode": "markers",
           "name": "NLD",
           "text": [
            "6.3"
           ],
           "type": "scatter",
           "x": [
            6.3
           ],
           "y": [
            "NLD"
           ]
          },
          {
           "mode": "markers",
           "name": "NZL",
           "text": [
            "7.3"
           ],
           "type": "scatter",
           "x": [
            7.3
           ],
           "y": [
            "NZL"
           ]
          },
          {
           "mode": "markers",
           "name": "NOR",
           "text": [
            "5.8"
           ],
           "type": "scatter",
           "x": [
            5.8
           ],
           "y": [
            "NOR"
           ]
          },
          {
           "mode": "markers",
           "name": "POL",
           "text": [
            "17.5"
           ],
           "type": "scatter",
           "x": [
            17.5
           ],
           "y": [
            "POL"
           ]
          },
          {
           "mode": "markers",
           "name": "PRT",
           "text": [
            "9.2"
           ],
           "type": "scatter",
           "x": [
            9.2
           ],
           "y": [
            "PRT"
           ]
          },
          {
           "mode": "markers",
           "name": "SVK",
           "text": [
            "12.6"
           ],
           "type": "scatter",
           "x": [
            12.6
           ],
           "y": [
            "SVK"
           ]
          },
          {
           "mode": "markers",
           "name": "ESP",
           "text": [
            "7.1"
           ],
           "type": "scatter",
           "x": [
            7.1
           ],
           "y": [
            "ESP"
           ]
          },
          {
           "mode": "markers",
           "name": "SWE",
           "text": [
            "5.3"
           ],
           "type": "scatter",
           "x": [
            5.3
           ],
           "y": [
            "SWE"
           ]
          },
          {
           "mode": "markers",
           "name": "CHE",
           "text": [
            "6.4"
           ],
           "type": "scatter",
           "x": [
            6.4
           ],
           "y": [
            "CHE"
           ]
          },
          {
           "mode": "markers",
           "name": "TUR",
           "text": [
            "0"
           ],
           "type": "scatter",
           "x": [
            0
           ],
           "y": [
            "TUR"
           ]
          },
          {
           "mode": "markers",
           "name": "GBR",
           "text": [
            "6.6"
           ],
           "type": "scatter",
           "x": [
            6.6
           ],
           "y": [
            "GBR"
           ]
          },
          {
           "mode": "markers",
           "name": "USA",
           "text": [
            "8.5"
           ],
           "type": "scatter",
           "x": [
            8.5
           ],
           "y": [
            "USA"
           ]
          },
          {
           "mode": "markers",
           "name": "BRA",
           "text": [
            "46.8"
           ],
           "type": "scatter",
           "x": [
            46.8
           ],
           "y": [
            "BRA"
           ]
          },
          {
           "mode": "markers",
           "name": "CHL",
           "text": [
            "14.3"
           ],
           "type": "scatter",
           "x": [
            14.3
           ],
           "y": [
            "CHL"
           ]
          },
          {
           "mode": "markers",
           "name": "CHN",
           "text": [
            "41.2"
           ],
           "type": "scatter",
           "x": [
            41.2
           ],
           "y": [
            "CHN"
           ]
          },
          {
           "mode": "markers",
           "name": "EST",
           "text": [
            "15.7"
           ],
           "type": "scatter",
           "x": [
            15.7
           ],
           "y": [
            "EST"
           ]
          },
          {
           "mode": "markers",
           "name": "IND",
           "text": [
            "83.9"
           ],
           "type": "scatter",
           "x": [
            83.9
           ],
           "y": [
            "IND"
           ]
          },
          {
           "mode": "markers",
           "name": "IDN",
           "text": [
            "57.4"
           ],
           "type": "scatter",
           "x": [
            57.4
           ],
           "y": [
            "IDN"
           ]
          },
          {
           "mode": "markers",
           "name": "ISR",
           "text": [
            "9.4"
           ],
           "type": "scatter",
           "x": [
            9.4
           ],
           "y": [
            "ISR"
           ]
          },
          {
           "mode": "markers",
           "name": "RUS",
           "text": [
            "18.0"
           ],
           "type": "scatter",
           "x": [
            18
           ],
           "y": [
            "RUS"
           ]
          },
          {
           "mode": "markers",
           "name": "SVN",
           "text": [
            "8.9"
           ],
           "type": "scatter",
           "x": [
            8.9
           ],
           "y": [
            "SVN"
           ]
          },
          {
           "mode": "markers",
           "name": "ZAF",
           "text": [
            "46.4"
           ],
           "type": "scatter",
           "x": [
            46.4
           ],
           "y": [
            "ZAF"
           ]
          },
          {
           "mode": "markers",
           "name": "COL",
           "text": [
            "34.1"
           ],
           "type": "scatter",
           "x": [
            34.1
           ],
           "y": [
            "COL"
           ]
          },
          {
           "mode": "markers",
           "name": "LVA",
           "text": [
            "17.6"
           ],
           "type": "scatter",
           "x": [
            17.6
           ],
           "y": [
            "LVA"
           ]
          },
          {
           "mode": "markers",
           "name": "LTU",
           "text": [
            "16.3"
           ],
           "type": "scatter",
           "x": [
            16.3
           ],
           "y": [
            "LTU"
           ]
          },
          {
           "mode": "markers",
           "name": "CRI",
           "text": [
            "13.7"
           ],
           "type": "scatter",
           "x": [
            13.7
           ],
           "y": [
            "CRI"
           ]
          }
         ],
         "name": "1992"
        },
        {
         "data": [
          {
           "mode": "markers",
           "name": "AUS",
           "text": [
            "6.1"
           ],
           "type": "scatter",
           "x": [
            6.1
           ],
           "y": [
            "AUS"
           ]
          },
          {
           "mode": "markers",
           "name": "AUT",
           "text": [
            "6.5"
           ],
           "type": "scatter",
           "x": [
            6.5
           ],
           "y": [
            "AUT"
           ]
          },
          {
           "mode": "markers",
           "name": "BEL",
           "text": [
            "8.0"
           ],
           "type": "scatter",
           "x": [
            8
           ],
           "y": [
            "BEL"
           ]
          },
          {
           "mode": "markers",
           "name": "CAN",
           "text": [
            "6.8"
           ],
           "type": "scatter",
           "x": [
            6.8
           ],
           "y": [
            "CAN"
           ]
          },
          {
           "mode": "markers",
           "name": "CZE",
           "text": [
            "8.5"
           ],
           "type": "scatter",
           "x": [
            8.5
           ],
           "y": [
            "CZE"
           ]
          },
          {
           "mode": "markers",
           "name": "DNK",
           "text": [
            "5.4"
           ],
           "type": "scatter",
           "x": [
            5.4
           ],
           "y": [
            "DNK"
           ]
          },
          {
           "mode": "markers",
           "name": "FIN",
           "text": [
            "4.4"
           ],
           "type": "scatter",
           "x": [
            4.4
           ],
           "y": [
            "FIN"
           ]
          },
          {
           "mode": "markers",
           "name": "FRA",
           "text": [
            "6.5"
           ],
           "type": "scatter",
           "x": [
            6.5
           ],
           "y": [
            "FRA"
           ]
          },
          {
           "mode": "markers",
           "name": "DEU",
           "text": [
            "5.8"
           ],
           "type": "scatter",
           "x": [
            5.8
           ],
           "y": [
            "DEU"
           ]
          },
          {
           "mode": "markers",
           "name": "GRC",
           "text": [
            "8.5"
           ],
           "type": "scatter",
           "x": [
            8.5
           ],
           "y": [
            "GRC"
           ]
          },
          {
           "mode": "markers",
           "name": "HUN",
           "text": [
            "12.5"
           ],
           "type": "scatter",
           "x": [
            12.5
           ],
           "y": [
            "HUN"
           ]
          },
          {
           "mode": "markers",
           "name": "ISL",
           "text": [
            "4.8"
           ],
           "type": "scatter",
           "x": [
            4.8
           ],
           "y": [
            "ISL"
           ]
          },
          {
           "mode": "markers",
           "name": "IRL",
           "text": [
            "6.1"
           ],
           "type": "scatter",
           "x": [
            6.1
           ],
           "y": [
            "IRL"
           ]
          },
          {
           "mode": "markers",
           "name": "ITA",
           "text": [
            "7.0"
           ],
           "type": "scatter",
           "x": [
            7
           ],
           "y": [
            "ITA"
           ]
          },
          {
           "mode": "markers",
           "name": "JPN",
           "text": [
            "4.3"
           ],
           "type": "scatter",
           "x": [
            4.3
           ],
           "y": [
            "JPN"
           ]
          },
          {
           "mode": "markers",
           "name": "KOR",
           "text": [
            "9.9"
           ],
           "type": "scatter",
           "x": [
            9.9
           ],
           "y": [
            "KOR"
           ]
          },
          {
           "mode": "markers",
           "name": "LUX",
           "text": [
            "6.0"
           ],
           "type": "scatter",
           "x": [
            6
           ],
           "y": [
            "LUX"
           ]
          },
          {
           "mode": "markers",
           "name": "MEX",
           "text": [
            "28.4"
           ],
           "type": "scatter",
           "x": [
            28.4
           ],
           "y": [
            "MEX"
           ]
          },
          {
           "mode": "markers",
           "name": "NLD",
           "text": [
            "6.3"
           ],
           "type": "scatter",
           "x": [
            6.3
           ],
           "y": [
            "NLD"
           ]
          },
          {
           "mode": "markers",
           "name": "NZL",
           "text": [
            "7.3"
           ],
           "type": "scatter",
           "x": [
            7.3
           ],
           "y": [
            "NZL"
           ]
          },
          {
           "mode": "markers",
           "name": "NOR",
           "text": [
            "5.0"
           ],
           "type": "scatter",
           "x": [
            5
           ],
           "y": [
            "NOR"
           ]
          },
          {
           "mode": "markers",
           "name": "POL",
           "text": [
            "16.2"
           ],
           "type": "scatter",
           "x": [
            16.2
           ],
           "y": [
            "POL"
           ]
          },
          {
           "mode": "markers",
           "name": "PRT",
           "text": [
            "8.6"
           ],
           "type": "scatter",
           "x": [
            8.6
           ],
           "y": [
            "PRT"
           ]
          },
          {
           "mode": "markers",
           "name": "SVK",
           "text": [
            "10.6"
           ],
           "type": "scatter",
           "x": [
            10.6
           ],
           "y": [
            "SVK"
           ]
          },
          {
           "mode": "markers",
           "name": "ESP",
           "text": [
            "6.7"
           ],
           "type": "scatter",
           "x": [
            6.7
           ],
           "y": [
            "ESP"
           ]
          },
          {
           "mode": "markers",
           "name": "SWE",
           "text": [
            "4.8"
           ],
           "type": "scatter",
           "x": [
            4.8
           ],
           "y": [
            "SWE"
           ]
          },
          {
           "mode": "markers",
           "name": "CHE",
           "text": [
            "5.6"
           ],
           "type": "scatter",
           "x": [
            5.6
           ],
           "y": [
            "CHE"
           ]
          },
          {
           "mode": "markers",
           "name": "TUR",
           "text": [
            "0"
           ],
           "type": "scatter",
           "x": [
            0
           ],
           "y": [
            "TUR"
           ]
          },
          {
           "mode": "markers",
           "name": "GBR",
           "text": [
            "6.3"
           ],
           "type": "scatter",
           "x": [
            6.3
           ],
           "y": [
            "GBR"
           ]
          },
          {
           "mode": "markers",
           "name": "USA",
           "text": [
            "8.4"
           ],
           "type": "scatter",
           "x": [
            8.4
           ],
           "y": [
            "USA"
           ]
          },
          {
           "mode": "markers",
           "name": "BRA",
           "text": [
            "44.6"
           ],
           "type": "scatter",
           "x": [
            44.6
           ],
           "y": [
            "BRA"
           ]
          },
          {
           "mode": "markers",
           "name": "CHL",
           "text": [
            "13.1"
           ],
           "type": "scatter",
           "x": [
            13.1
           ],
           "y": [
            "CHL"
           ]
          },
          {
           "mode": "markers",
           "name": "CHN",
           "text": [
            "40.2"
           ],
           "type": "scatter",
           "x": [
            40.2
           ],
           "y": [
            "CHN"
           ]
          },
          {
           "mode": "markers",
           "name": "EST",
           "text": [
            "15.6"
           ],
           "type": "scatter",
           "x": [
            15.6
           ],
           "y": [
            "EST"
           ]
          },
          {
           "mode": "markers",
           "name": "IND",
           "text": [
            "81.7"
           ],
           "type": "scatter",
           "x": [
            81.7
           ],
           "y": [
            "IND"
           ]
          },
          {
           "mode": "markers",
           "name": "IDN",
           "text": [
            "55.1"
           ],
           "type": "scatter",
           "x": [
            55.1
           ],
           "y": [
            "IDN"
           ]
          },
          {
           "mode": "markers",
           "name": "ISR",
           "text": [
            "7.8"
           ],
           "type": "scatter",
           "x": [
            7.8
           ],
           "y": [
            "ISR"
           ]
          },
          {
           "mode": "markers",
           "name": "RUS",
           "text": [
            "19.9"
           ],
           "type": "scatter",
           "x": [
            19.9
           ],
           "y": [
            "RUS"
           ]
          },
          {
           "mode": "markers",
           "name": "SVN",
           "text": [
            "6.8"
           ],
           "type": "scatter",
           "x": [
            6.8
           ],
           "y": [
            "SVN"
           ]
          },
          {
           "mode": "markers",
           "name": "ZAF",
           "text": [
            "46.6"
           ],
           "type": "scatter",
           "x": [
            46.6
           ],
           "y": [
            "ZAF"
           ]
          },
          {
           "mode": "markers",
           "name": "COL",
           "text": [
            "32.5"
           ],
           "type": "scatter",
           "x": [
            32.5
           ],
           "y": [
            "COL"
           ]
          },
          {
           "mode": "markers",
           "name": "LVA",
           "text": [
            "16.2"
           ],
           "type": "scatter",
           "x": [
            16.2
           ],
           "y": [
            "LVA"
           ]
          },
          {
           "mode": "markers",
           "name": "LTU",
           "text": [
            "15.7"
           ],
           "type": "scatter",
           "x": [
            15.7
           ],
           "y": [
            "LTU"
           ]
          },
          {
           "mode": "markers",
           "name": "CRI",
           "text": [
            "13.5"
           ],
           "type": "scatter",
           "x": [
            13.5
           ],
           "y": [
            "CRI"
           ]
          }
         ],
         "name": "1993"
        },
        {
         "data": [
          {
           "mode": "markers",
           "name": "AUS",
           "text": [
            "5.9"
           ],
           "type": "scatter",
           "x": [
            5.9
           ],
           "y": [
            "AUS"
           ]
          },
          {
           "mode": "markers",
           "name": "AUT",
           "text": [
            "6.3"
           ],
           "type": "scatter",
           "x": [
            6.3
           ],
           "y": [
            "AUT"
           ]
          },
          {
           "mode": "markers",
           "name": "BEL",
           "text": [
            "7.6"
           ],
           "type": "scatter",
           "x": [
            7.6
           ],
           "y": [
            "BEL"
           ]
          },
          {
           "mode": "markers",
           "name": "CAN",
           "text": [
            "6.3"
           ],
           "type": "scatter",
           "x": [
            6.3
           ],
           "y": [
            "CAN"
           ]
          },
          {
           "mode": "markers",
           "name": "CZE",
           "text": [
            "7.9"
           ],
           "type": "scatter",
           "x": [
            7.9
           ],
           "y": [
            "CZE"
           ]
          },
          {
           "mode": "markers",
           "name": "DNK",
           "text": [
            "5.5"
           ],
           "type": "scatter",
           "x": [
            5.5
           ],
           "y": [
            "DNK"
           ]
          },
          {
           "mode": "markers",
           "name": "FIN",
           "text": [
            "4.7"
           ],
           "type": "scatter",
           "x": [
            4.7
           ],
           "y": [
            "FIN"
           ]
          },
          {
           "mode": "markers",
           "name": "FRA",
           "text": [
            "6.0"
           ],
           "type": "scatter",
           "x": [
            6
           ],
           "y": [
            "FRA"
           ]
          },
          {
           "mode": "markers",
           "name": "DEU",
           "text": [
            "5.6"
           ],
           "type": "scatter",
           "x": [
            5.6
           ],
           "y": [
            "DEU"
           ]
          },
          {
           "mode": "markers",
           "name": "GRC",
           "text": [
            "7.9"
           ],
           "type": "scatter",
           "x": [
            7.9
           ],
           "y": [
            "GRC"
           ]
          },
          {
           "mode": "markers",
           "name": "HUN",
           "text": [
            "11.5"
           ],
           "type": "scatter",
           "x": [
            11.5
           ],
           "y": [
            "HUN"
           ]
          },
          {
           "mode": "markers",
           "name": "ISL",
           "text": [
            "3.4"
           ],
           "type": "scatter",
           "x": [
            3.4
           ],
           "y": [
            "ISL"
           ]
          },
          {
           "mode": "markers",
           "name": "IRL",
           "text": [
            "5.7"
           ],
           "type": "scatter",
           "x": [
            5.7
           ],
           "y": [
            "IRL"
           ]
          },
          {
           "mode": "markers",
           "name": "ITA",
           "text": [
            "6.4"
           ],
           "type": "scatter",
           "x": [
            6.4
           ],
           "y": [
            "ITA"
           ]
          },
          {
           "mode": "markers",
           "name": "JPN",
           "text": [
            "4.2"
           ],
           "type": "scatter",
           "x": [
            4.2
           ],
           "y": [
            "JPN"
           ]
          },
          {
           "mode": "markers",
           "name": "KOR",
           "text": [
            "0"
           ],
           "type": "scatter",
           "x": [
            0
           ],
           "y": [
            "KOR"
           ]
          },
          {
           "mode": "markers",
           "name": "LUX",
           "text": [
            "5.3"
           ],
           "type": "scatter",
           "x": [
            5.3
           ],
           "y": [
            "LUX"
           ]
          },
          {
           "mode": "markers",
           "name": "MEX",
           "text": [
            "27.2"
           ],
           "type": "scatter",
           "x": [
            27.2
           ],
           "y": [
            "MEX"
           ]
          },
          {
           "mode": "markers",
           "name": "NLD",
           "text": [
            "5.6"
           ],
           "type": "scatter",
           "x": [
            5.6
           ],
           "y": [
            "NLD"
           ]
          },
          {
           "mode": "markers",
           "name": "NZL",
           "text": [
            "7.2"
           ],
           "type": "scatter",
           "x": [
            7.2
           ],
           "y": [
            "NZL"
           ]
          },
          {
           "mode": "markers",
           "name": "NOR",
           "text": [
            "5.2"
           ],
           "type": "scatter",
           "x": [
            5.2
           ],
           "y": [
            "NOR"
           ]
          },
          {
           "mode": "markers",
           "name": "POL",
           "text": [
            "15.1"
           ],
           "type": "scatter",
           "x": [
            15.1
           ],
           "y": [
            "POL"
           ]
          },
          {
           "mode": "markers",
           "name": "PRT",
           "text": [
            "7.9"
           ],
           "type": "scatter",
           "x": [
            7.9
           ],
           "y": [
            "PRT"
           ]
          },
          {
           "mode": "markers",
           "name": "SVK",
           "text": [
            "11.2"
           ],
           "type": "scatter",
           "x": [
            11.2
           ],
           "y": [
            "SVK"
           ]
          },
          {
           "mode": "markers",
           "name": "ESP",
           "text": [
            "6.0"
           ],
           "type": "scatter",
           "x": [
            6
           ],
           "y": [
            "ESP"
           ]
          },
          {
           "mode": "markers",
           "name": "SWE",
           "text": [
            "4.4"
           ],
           "type": "scatter",
           "x": [
            4.4
           ],
           "y": [
            "SWE"
           ]
          },
          {
           "mode": "markers",
           "name": "CHE",
           "text": [
            "5.1"
           ],
           "type": "scatter",
           "x": [
            5.1
           ],
           "y": [
            "CHE"
           ]
          },
          {
           "mode": "markers",
           "name": "TUR",
           "text": [
            "0"
           ],
           "type": "scatter",
           "x": [
            0
           ],
           "y": [
            "TUR"
           ]
          },
          {
           "mode": "markers",
           "name": "GBR",
           "text": [
            "6.2"
           ],
           "type": "scatter",
           "x": [
            6.2
           ],
           "y": [
            "GBR"
           ]
          },
          {
           "mode": "markers",
           "name": "USA",
           "text": [
            "8.0"
           ],
           "type": "scatter",
           "x": [
            8
           ],
           "y": [
            "USA"
           ]
          },
          {
           "mode": "markers",
           "name": "BRA",
           "text": [
            "42.2"
           ],
           "type": "scatter",
           "x": [
            42.2
           ],
           "y": [
            "BRA"
           ]
          },
          {
           "mode": "markers",
           "name": "CHL",
           "text": [
            "12.0"
           ],
           "type": "scatter",
           "x": [
            12
           ],
           "y": [
            "CHL"
           ]
          },
          {
           "mode": "markers",
           "name": "CHN",
           "text": [
            "39.0"
           ],
           "type": "scatter",
           "x": [
            39
           ],
           "y": [
            "CHN"
           ]
          },
          {
           "mode": "markers",
           "name": "EST",
           "text": [
            "14.4"
           ],
           "type": "scatter",
           "x": [
            14.4
           ],
           "y": [
            "EST"
           ]
          },
          {
           "mode": "markers",
           "name": "IND",
           "text": [
            "79.6"
           ],
           "type": "scatter",
           "x": [
            79.6
           ],
           "y": [
            "IND"
           ]
          },
          {
           "mode": "markers",
           "name": "IDN",
           "text": [
            "52.9"
           ],
           "type": "scatter",
           "x": [
            52.9
           ],
           "y": [
            "IDN"
           ]
          },
          {
           "mode": "markers",
           "name": "ISR",
           "text": [
            "7.5"
           ],
           "type": "scatter",
           "x": [
            7.5
           ],
           "y": [
            "ISR"
           ]
          },
          {
           "mode": "markers",
           "name": "RUS",
           "text": [
            "18.6"
           ],
           "type": "scatter",
           "x": [
            18.6
           ],
           "y": [
            "RUS"
           ]
          },
          {
           "mode": "markers",
           "name": "SVN",
           "text": [
            "6.5"
           ],
           "type": "scatter",
           "x": [
            6.5
           ],
           "y": [
            "SVN"
           ]
          },
          {
           "mode": "markers",
           "name": "ZAF",
           "text": [
            "47.2"
           ],
           "type": "scatter",
           "x": [
            47.2
           ],
           "y": [
            "ZAF"
           ]
          },
          {
           "mode": "markers",
           "name": "COL",
           "text": [
            "31.4"
           ],
           "type": "scatter",
           "x": [
            31.4
           ],
           "y": [
            "COL"
           ]
          },
          {
           "mode": "markers",
           "name": "LVA",
           "text": [
            "15.7"
           ],
           "type": "scatter",
           "x": [
            15.7
           ],
           "y": [
            "LVA"
           ]
          },
          {
           "mode": "markers",
           "name": "LTU",
           "text": [
            "14.2"
           ],
           "type": "scatter",
           "x": [
            14.2
           ],
           "y": [
            "LTU"
           ]
          },
          {
           "mode": "markers",
           "name": "CRI",
           "text": [
            "13.2"
           ],
           "type": "scatter",
           "x": [
            13.2
           ],
           "y": [
            "CRI"
           ]
          }
         ],
         "name": "1994"
        },
        {
         "data": [
          {
           "mode": "markers",
           "name": "AUS",
           "text": [
            "5.7"
           ],
           "type": "scatter",
           "x": [
            5.7
           ],
           "y": [
            "AUS"
           ]
          },
          {
           "mode": "markers",
           "name": "AUT",
           "text": [
            "5.4"
           ],
           "type": "scatter",
           "x": [
            5.4
           ],
           "y": [
            "AUT"
           ]
          },
          {
           "mode": "markers",
           "name": "BEL",
           "text": [
            "6.0"
           ],
           "type": "scatter",
           "x": [
            6
           ],
           "y": [
            "BEL"
           ]
          },
          {
           "mode": "markers",
           "name": "CAN",
           "text": [
            "6.1"
           ],
           "type": "scatter",
           "x": [
            6.1
           ],
           "y": [
            "CAN"
           ]
          },
          {
           "mode": "markers",
           "name": "CZE",
           "text": [
            "7.7"
           ],
           "type": "scatter",
           "x": [
            7.7
           ],
           "y": [
            "CZE"
           ]
          },
          {
           "mode": "markers",
           "name": "DNK",
           "text": [
            "5.1"
           ],
           "type": "scatter",
           "x": [
            5.1
           ],
           "y": [
            "DNK"
           ]
          },
          {
           "mode": "markers",
           "name": "FIN",
           "text": [
            "3.9"
           ],
           "type": "scatter",
           "x": [
            3.9
           ],
           "y": [
            "FIN"
           ]
          },
          {
           "mode": "markers",
           "name": "FRA",
           "text": [
            "5.0"
           ],
           "type": "scatter",
           "x": [
            5
           ],
           "y": [
            "FRA"
           ]
          },
          {
           "mode": "markers",
           "name": "DEU",
           "text": [
            "5.3"
           ],
           "type": "scatter",
           "x": [
            5.3
           ],
           "y": [
            "DEU"
           ]
          },
          {
           "mode": "markers",
           "name": "GRC",
           "text": [
            "8.1"
           ],
           "type": "scatter",
           "x": [
            8.1
           ],
           "y": [
            "GRC"
           ]
          },
          {
           "mode": "markers",
           "name": "HUN",
           "text": [
            "10.7"
           ],
           "type": "scatter",
           "x": [
            10.7
           ],
           "y": [
            "HUN"
           ]
          },
          {
           "mode": "markers",
           "name": "ISL",
           "text": [
            "6.1"
           ],
           "type": "scatter",
           "x": [
            6.1
           ],
           "y": [
            "ISL"
           ]
          },
          {
           "mode": "markers",
           "name": "IRL",
           "text": [
            "6.4"
           ],
           "type": "scatter",
           "x": [
            6.4
           ],
           "y": [
            "IRL"
           ]
          },
          {
           "mode": "markers",
           "name": "ITA",
           "text": [
            "6.1"
           ],
           "type": "scatter",
           "x": [
            6.1
           ],
           "y": [
            "ITA"
           ]
          },
          {
           "mode": "markers",
           "name": "JPN",
           "text": [
            "4.3"
           ],
           "type": "scatter",
           "x": [
            4.3
           ],
           "y": [
            "JPN"
           ]
          },
          {
           "mode": "markers",
           "name": "KOR",
           "text": [
            "0"
           ],
           "type": "scatter",
           "x": [
            0
           ],
           "y": [
            "KOR"
           ]
          },
          {
           "mode": "markers",
           "name": "LUX",
           "text": [
            "5.5"
           ],
           "type": "scatter",
           "x": [
            5.5
           ],
           "y": [
            "LUX"
           ]
          },
          {
           "mode": "markers",
           "name": "MEX",
           "text": [
            "26.0"
           ],
           "type": "scatter",
           "x": [
            26
           ],
           "y": [
            "MEX"
           ]
          },
          {
           "mode": "markers",
           "name": "NLD",
           "text": [
            "5.5"
           ],
           "type": "scatter",
           "x": [
            5.5
           ],
           "y": [
            "NLD"
           ]
          },
          {
           "mode": "markers",
           "name": "NZL",
           "text": [
            "6.7"
           ],
           "type": "scatter",
           "x": [
            6.7
           ],
           "y": [
            "NZL"
           ]
          },
          {
           "mode": "markers",
           "name": "NOR",
           "text": [
            "4.0"
           ],
           "type": "scatter",
           "x": [
            4
           ],
           "y": [
            "NOR"
           ]
          },
          {
           "mode": "markers",
           "name": "POL",
           "text": [
            "13.6"
           ],
           "type": "scatter",
           "x": [
            13.6
           ],
           "y": [
            "POL"
           ]
          },
          {
           "mode": "markers",
           "name": "PRT",
           "text": [
            "7.4"
           ],
           "type": "scatter",
           "x": [
            7.4
           ],
           "y": [
            "PRT"
           ]
          },
          {
           "mode": "markers",
           "name": "SVK",
           "text": [
            "11.0"
           ],
           "type": "scatter",
           "x": [
            11
           ],
           "y": [
            "SVK"
           ]
          },
          {
           "mode": "markers",
           "name": "ESP",
           "text": [
            "5.5"
           ],
           "type": "scatter",
           "x": [
            5.5
           ],
           "y": [
            "ESP"
           ]
          },
          {
           "mode": "markers",
           "name": "SWE",
           "text": [
            "4.1"
           ],
           "type": "scatter",
           "x": [
            4.1
           ],
           "y": [
            "SWE"
           ]
          },
          {
           "mode": "markers",
           "name": "CHE",
           "text": [
            "5.1"
           ],
           "type": "scatter",
           "x": [
            5.1
           ],
           "y": [
            "CHE"
           ]
          },
          {
           "mode": "markers",
           "name": "TUR",
           "text": [
            "0"
           ],
           "type": "scatter",
           "x": [
            0
           ],
           "y": [
            "TUR"
           ]
          },
          {
           "mode": "markers",
           "name": "GBR",
           "text": [
            "6.2"
           ],
           "type": "scatter",
           "x": [
            6.2
           ],
           "y": [
            "GBR"
           ]
          },
          {
           "mode": "markers",
           "name": "USA",
           "text": [
            "7.6"
           ],
           "type": "scatter",
           "x": [
            7.6
           ],
           "y": [
            "USA"
           ]
          },
          {
           "mode": "markers",
           "name": "BRA",
           "text": [
            "39.7"
           ],
           "type": "scatter",
           "x": [
            39.7
           ],
           "y": [
            "BRA"
           ]
          },
          {
           "mode": "markers",
           "name": "CHL",
           "text": [
            "11.1"
           ],
           "type": "scatter",
           "x": [
            11.1
           ],
           "y": [
            "CHL"
           ]
          },
          {
           "mode": "markers",
           "name": "CHN",
           "text": [
            "37.7"
           ],
           "type": "scatter",
           "x": [
            37.7
           ],
           "y": [
            "CHN"
           ]
          },
          {
           "mode": "markers",
           "name": "EST",
           "text": [
            "14.9"
           ],
           "type": "scatter",
           "x": [
            14.9
           ],
           "y": [
            "EST"
           ]
          },
          {
           "mode": "markers",
           "name": "IND",
           "text": [
            "77.5"
           ],
           "type": "scatter",
           "x": [
            77.5
           ],
           "y": [
            "IND"
           ]
          },
          {
           "mode": "markers",
           "name": "IDN",
           "text": [
            "50.8"
           ],
           "type": "scatter",
           "x": [
            50.8
           ],
           "y": [
            "IDN"
           ]
          },
          {
           "mode": "markers",
           "name": "ISR",
           "text": [
            "6.8"
           ],
           "type": "scatter",
           "x": [
            6.8
           ],
           "y": [
            "ISR"
           ]
          },
          {
           "mode": "markers",
           "name": "RUS",
           "text": [
            "18.1"
           ],
           "type": "scatter",
           "x": [
            18.1
           ],
           "y": [
            "RUS"
           ]
          },
          {
           "mode": "markers",
           "name": "SVN",
           "text": [
            "5.5"
           ],
           "type": "scatter",
           "x": [
            5.5
           ],
           "y": [
            "SVN"
           ]
          },
          {
           "mode": "markers",
           "name": "ZAF",
           "text": [
            "48.2"
           ],
           "type": "scatter",
           "x": [
            48.2
           ],
           "y": [
            "ZAF"
           ]
          },
          {
           "mode": "markers",
           "name": "COL",
           "text": [
            "30.3"
           ],
           "type": "scatter",
           "x": [
            30.3
           ],
           "y": [
            "COL"
           ]
          },
          {
           "mode": "markers",
           "name": "LVA",
           "text": [
            "18.8"
           ],
           "type": "scatter",
           "x": [
            18.8
           ],
           "y": [
            "LVA"
           ]
          },
          {
           "mode": "markers",
           "name": "LTU",
           "text": [
            "12.5"
           ],
           "type": "scatter",
           "x": [
            12.5
           ],
           "y": [
            "LTU"
           ]
          },
          {
           "mode": "markers",
           "name": "CRI",
           "text": [
            "13.0"
           ],
           "type": "scatter",
           "x": [
            13
           ],
           "y": [
            "CRI"
           ]
          }
         ],
         "name": "1995"
        },
        {
         "data": [
          {
           "mode": "markers",
           "name": "AUS",
           "text": [
            "5.8"
           ],
           "type": "scatter",
           "x": [
            5.8
           ],
           "y": [
            "AUS"
           ]
          },
          {
           "mode": "markers",
           "name": "AUT",
           "text": [
            "5.1"
           ],
           "type": "scatter",
           "x": [
            5.1
           ],
           "y": [
            "AUT"
           ]
          },
          {
           "mode": "markers",
           "name": "BEL",
           "text": [
            "5.0"
           ],
           "type": "scatter",
           "x": [
            5
           ],
           "y": [
            "BEL"
           ]
          },
          {
           "mode": "markers",
           "name": "CAN",
           "text": [
            "5.6"
           ],
           "type": "scatter",
           "x": [
            5.6
           ],
           "y": [
            "CAN"
           ]
          },
          {
           "mode": "markers",
           "name": "CZE",
           "text": [
            "6.0"
           ],
           "type": "scatter",
           "x": [
            6
           ],
           "y": [
            "CZE"
           ]
          },
          {
           "mode": "markers",
           "name": "DNK",
           "text": [
            "5.6"
           ],
           "type": "scatter",
           "x": [
            5.6
           ],
           "y": [
            "DNK"
           ]
          },
          {
           "mode": "markers",
           "name": "FIN",
           "text": [
            "4.0"
           ],
           "type": "scatter",
           "x": [
            4
           ],
           "y": [
            "FIN"
           ]
          },
          {
           "mode": "markers",
           "name": "FRA",
           "text": [
            "5.0"
           ],
           "type": "scatter",
           "x": [
            5
           ],
           "y": [
            "FRA"
           ]
          },
          {
           "mode": "markers",
           "name": "DEU",
           "text": [
            "5.0"
           ],
           "type": "scatter",
           "x": [
            5
           ],
           "y": [
            "DEU"
           ]
          },
          {
           "mode": "markers",
           "name": "GRC",
           "text": [
            "7.2"
           ],
           "type": "scatter",
           "x": [
            7.2
           ],
           "y": [
            "GRC"
           ]
          },
          {
           "mode": "markers",
           "name": "HUN",
           "text": [
            "10.9"
           ],
           "type": "scatter",
           "x": [
            10.9
           ],
           "y": [
            "HUN"
           ]
          },
          {
           "mode": "markers",
           "name": "ISL",
           "text": [
            "3.7"
           ],
           "type": "scatter",
           "x": [
            3.7
           ],
           "y": [
            "ISL"
           ]
          },
          {
           "mode": "markers",
           "name": "IRL",
           "text": [
            "6.0"
           ],
           "type": "scatter",
           "x": [
            6
           ],
           "y": [
            "IRL"
           ]
          },
          {
           "mode": "markers",
           "name": "ITA",
           "text": [
            "6.0"
           ],
           "type": "scatter",
           "x": [
            6
           ],
           "y": [
            "ITA"
           ]
          },
          {
           "mode": "markers",
           "name": "JPN",
           "text": [
            "3.8"
           ],
           "type": "scatter",
           "x": [
            3.8
           ],
           "y": [
            "JPN"
           ]
          },
          {
           "mode": "markers",
           "name": "KOR",
           "text": [
            "7.7"
           ],
           "type": "scatter",
           "x": [
            7.7
           ],
           "y": [
            "KOR"
           ]
          },
          {
           "mode": "markers",
           "name": "LUX",
           "text": [
            "4.9"
           ],
           "type": "scatter",
           "x": [
            4.9
           ],
           "y": [
            "LUX"
           ]
          },
          {
           "mode": "markers",
           "name": "MEX",
           "text": [
            "24.9"
           ],
           "type": "scatter",
           "x": [
            24.9
           ],
           "y": [
            "MEX"
           ]
          },
          {
           "mode": "markers",
           "name": "NLD",
           "text": [
            "5.7"
           ],
           "type": "scatter",
           "x": [
            5.7
           ],
           "y": [
            "NLD"
           ]
          },
          {
           "mode": "markers",
           "name": "NZL",
           "text": [
            "7.3"
           ],
           "type": "scatter",
           "x": [
            7.3
           ],
           "y": [
            "NZL"
           ]
          },
          {
           "mode": "markers",
           "name": "NOR",
           "text": [
            "4.0"
           ],
           "type": "scatter",
           "x": [
            4
           ],
           "y": [
            "NOR"
           ]
          },
          {
           "mode": "markers",
           "name": "POL",
           "text": [
            "12.2"
           ],
           "type": "scatter",
           "x": [
            12.2
           ],
           "y": [
            "POL"
           ]
          },
          {
           "mode": "markers",
           "name": "PRT",
           "text": [
            "6.8"
           ],
           "type": "scatter",
           "x": [
            6.8
           ],
           "y": [
            "PRT"
           ]
          },
          {
           "mode": "markers",
           "name": "SVK",
           "text": [
            "10.2"
           ],
           "type": "scatter",
           "x": [
            10.2
           ],
           "y": [
            "SVK"
           ]
          },
          {
           "mode": "markers",
           "name": "ESP",
           "text": [
            "5.5"
           ],
           "type": "scatter",
           "x": [
            5.5
           ],
           "y": [
            "ESP"
           ]
          },
          {
           "mode": "markers",
           "name": "SWE",
           "text": [
            "4.0"
           ],
           "type": "scatter",
           "x": [
            4
           ],
           "y": [
            "SWE"
           ]
          },
          {
           "mode": "markers",
           "name": "CHE",
           "text": [
            "4.7"
           ],
           "type": "scatter",
           "x": [
            4.7
           ],
           "y": [
            "CHE"
           ]
          },
          {
           "mode": "markers",
           "name": "TUR",
           "text": [
            "40.9"
           ],
           "type": "scatter",
           "x": [
            40.9
           ],
           "y": [
            "TUR"
           ]
          },
          {
           "mode": "markers",
           "name": "GBR",
           "text": [
            "6.1"
           ],
           "type": "scatter",
           "x": [
            6.1
           ],
           "y": [
            "GBR"
           ]
          },
          {
           "mode": "markers",
           "name": "USA",
           "text": [
            "7.3"
           ],
           "type": "scatter",
           "x": [
            7.3
           ],
           "y": [
            "USA"
           ]
          },
          {
           "mode": "markers",
           "name": "BRA",
           "text": [
            "37.2"
           ],
           "type": "scatter",
           "x": [
            37.2
           ],
           "y": [
            "BRA"
           ]
          },
          {
           "mode": "markers",
           "name": "CHL",
           "text": [
            "11.1"
           ],
           "type": "scatter",
           "x": [
            11.1
           ],
           "y": [
            "CHL"
           ]
          },
          {
           "mode": "markers",
           "name": "CHN",
           "text": [
            "36.4"
           ],
           "type": "scatter",
           "x": [
            36.4
           ],
           "y": [
            "CHN"
           ]
          },
          {
           "mode": "markers",
           "name": "EST",
           "text": [
            "10.5"
           ],
           "type": "scatter",
           "x": [
            10.5
           ],
           "y": [
            "EST"
           ]
          },
          {
           "mode": "markers",
           "name": "IND",
           "text": [
            "75.4"
           ],
           "type": "scatter",
           "x": [
            75.4
           ],
           "y": [
            "IND"
           ]
          },
          {
           "mode": "markers",
           "name": "IDN",
           "text": [
            "48.7"
           ],
           "type": "scatter",
           "x": [
            48.7
           ],
           "y": [
            "IDN"
           ]
          },
          {
           "mode": "markers",
           "name": "ISR",
           "text": [
            "6.3"
           ],
           "type": "scatter",
           "x": [
            6.3
           ],
           "y": [
            "ISR"
           ]
          },
          {
           "mode": "markers",
           "name": "RUS",
           "text": [
            "17.4"
           ],
           "type": "scatter",
           "x": [
            17.4
           ],
           "y": [
            "RUS"
           ]
          },
          {
           "mode": "markers",
           "name": "SVN",
           "text": [
            "4.7"
           ],
           "type": "scatter",
           "x": [
            4.7
           ],
           "y": [
            "SVN"
           ]
          },
          {
           "mode": "markers",
           "name": "ZAF",
           "text": [
            "49.4"
           ],
           "type": "scatter",
           "x": [
            49.4
           ],
           "y": [
            "ZAF"
           ]
          },
          {
           "mode": "markers",
           "name": "COL",
           "text": [
            "29.1"
           ],
           "type": "scatter",
           "x": [
            29.1
           ],
           "y": [
            "COL"
           ]
          },
          {
           "mode": "markers",
           "name": "LVA",
           "text": [
            "15.9"
           ],
           "type": "scatter",
           "x": [
            15.9
           ],
           "y": [
            "LVA"
           ]
          },
          {
           "mode": "markers",
           "name": "LTU",
           "text": [
            "10.1"
           ],
           "type": "scatter",
           "x": [
            10.1
           ],
           "y": [
            "LTU"
           ]
          },
          {
           "mode": "markers",
           "name": "CRI",
           "text": [
            "12.8"
           ],
           "type": "scatter",
           "x": [
            12.8
           ],
           "y": [
            "CRI"
           ]
          }
         ],
         "name": "1996"
        },
        {
         "data": [
          {
           "mode": "markers",
           "name": "AUS",
           "text": [
            "5.3"
           ],
           "type": "scatter",
           "x": [
            5.3
           ],
           "y": [
            "AUS"
           ]
          },
          {
           "mode": "markers",
           "name": "AUT",
           "text": [
            "4.7"
           ],
           "type": "scatter",
           "x": [
            4.7
           ],
           "y": [
            "AUT"
           ]
          },
          {
           "mode": "markers",
           "name": "BEL",
           "text": [
            "5.4"
           ],
           "type": "scatter",
           "x": [
            5.4
           ],
           "y": [
            "BEL"
           ]
          },
          {
           "mode": "markers",
           "name": "CAN",
           "text": [
            "5.5"
           ],
           "type": "scatter",
           "x": [
            5.5
           ],
           "y": [
            "CAN"
           ]
          },
          {
           "mode": "markers",
           "name": "CZE",
           "text": [
            "5.9"
           ],
           "type": "scatter",
           "x": [
            5.9
           ],
           "y": [
            "CZE"
           ]
          },
          {
           "mode": "markers",
           "name": "DNK",
           "text": [
            "5.2"
           ],
           "type": "scatter",
           "x": [
            5.2
           ],
           "y": [
            "DNK"
           ]
          },
          {
           "mode": "markers",
           "name": "FIN",
           "text": [
            "3.9"
           ],
           "type": "scatter",
           "x": [
            3.9
           ],
           "y": [
            "FIN"
           ]
          },
          {
           "mode": "markers",
           "name": "FRA",
           "text": [
            "4.9"
           ],
           "type": "scatter",
           "x": [
            4.9
           ],
           "y": [
            "FRA"
           ]
          },
          {
           "mode": "markers",
           "name": "DEU",
           "text": [
            "4.9"
           ],
           "type": "scatter",
           "x": [
            4.9
           ],
           "y": [
            "DEU"
           ]
          },
          {
           "mode": "markers",
           "name": "GRC",
           "text": [
            "6.4"
           ],
           "type": "scatter",
           "x": [
            6.4
           ],
           "y": [
            "GRC"
           ]
          },
          {
           "mode": "markers",
           "name": "HUN",
           "text": [
            "9.9"
           ],
           "type": "scatter",
           "x": [
            9.9
           ],
           "y": [
            "HUN"
           ]
          },
          {
           "mode": "markers",
           "name": "ISL",
           "text": [
            "5.5"
           ],
           "type": "scatter",
           "x": [
            5.5
           ],
           "y": [
            "ISL"
           ]
          },
          {
           "mode": "markers",
           "name": "IRL",
           "text": [
            "6.1"
           ],
           "type": "scatter",
           "x": [
            6.1
           ],
           "y": [
            "IRL"
           ]
          },
          {
           "mode": "markers",
           "name": "ITA",
           "text": [
            "5.5"
           ],
           "type": "scatter",
           "x": [
            5.5
           ],
           "y": [
            "ITA"
           ]
          },
          {
           "mode": "markers",
           "name": "JPN",
           "text": [
            "3.7"
           ],
           "type": "scatter",
           "x": [
            3.7
           ],
           "y": [
            "JPN"
           ]
          },
          {
           "mode": "markers",
           "name": "KOR",
           "text": [
            "0"
           ],
           "type": "scatter",
           "x": [
            0
           ],
           "y": [
            "KOR"
           ]
          },
          {
           "mode": "markers",
           "name": "LUX",
           "text": [
            "4.2"
           ],
           "type": "scatter",
           "x": [
            4.2
           ],
           "y": [
            "LUX"
           ]
          },
          {
           "mode": "markers",
           "name": "MEX",
           "text": [
            "23.8"
           ],
           "type": "scatter",
           "x": [
            23.8
           ],
           "y": [
            "MEX"
           ]
          },
          {
           "mode": "markers",
           "name": "NLD",
           "text": [
            "5.0"
           ],
           "type": "scatter",
           "x": [
            5
           ],
           "y": [
            "NLD"
           ]
          },
          {
           "mode": "markers",
           "name": "NZL",
           "text": [
            "6.8"
           ],
           "type": "scatter",
           "x": [
            6.8
           ],
           "y": [
            "NZL"
           ]
          },
          {
           "mode": "markers",
           "name": "NOR",
           "text": [
            "4.1"
           ],
           "type": "scatter",
           "x": [
            4.1
           ],
           "y": [
            "NOR"
           ]
          },
          {
           "mode": "markers",
           "name": "POL",
           "text": [
            "10.2"
           ],
           "type": "scatter",
           "x": [
            10.2
           ],
           "y": [
            "POL"
           ]
          },
          {
           "mode": "markers",
           "name": "PRT",
           "text": [
            "6.4"
           ],
           "type": "scatter",
           "x": [
            6.4
           ],
           "y": [
            "PRT"
           ]
          },
          {
           "mode": "markers",
           "name": "SVK",
           "text": [
            "8.7"
           ],
           "type": "scatter",
           "x": [
            8.7
           ],
           "y": [
            "SVK"
           ]
          },
          {
           "mode": "markers",
           "name": "ESP",
           "text": [
            "5.0"
           ],
           "type": "scatter",
           "x": [
            5
           ],
           "y": [
            "ESP"
           ]
          },
          {
           "mode": "markers",
           "name": "SWE",
           "text": [
            "3.6"
           ],
           "type": "scatter",
           "x": [
            3.6
           ],
           "y": [
            "SWE"
           ]
          },
          {
           "mode": "markers",
           "name": "CHE",
           "text": [
            "4.8"
           ],
           "type": "scatter",
           "x": [
            4.8
           ],
           "y": [
            "CHE"
           ]
          },
          {
           "mode": "markers",
           "name": "TUR",
           "text": [
            "38.8"
           ],
           "type": "scatter",
           "x": [
            38.8
           ],
           "y": [
            "TUR"
           ]
          },
          {
           "mode": "markers",
           "name": "GBR",
           "text": [
            "5.8"
           ],
           "type": "scatter",
           "x": [
            5.8
           ],
           "y": [
            "GBR"
           ]
          },
          {
           "mode": "markers",
           "name": "USA",
           "text": [
            "7.2"
           ],
           "type": "scatter",
           "x": [
            7.2
           ],
           "y": [
            "USA"
           ]
          },
          {
           "mode": "markers",
           "name": "BRA",
           "text": [
            "34.8"
           ],
           "type": "scatter",
           "x": [
            34.8
           ],
           "y": [
            "BRA"
           ]
          },
          {
           "mode": "markers",
           "name": "CHL",
           "text": [
            "10.0"
           ],
           "type": "scatter",
           "x": [
            10
           ],
           "y": [
            "CHL"
           ]
          },
          {
           "mode": "markers",
           "name": "CHN",
           "text": [
            "35.0"
           ],
           "type": "scatter",
           "x": [
            35
           ],
           "y": [
            "CHN"
           ]
          },
          {
           "mode": "markers",
           "name": "EST",
           "text": [
            "10.0"
           ],
           "type": "scatter",
           "x": [
            10
           ],
           "y": [
            "EST"
           ]
          },
          {
           "mode": "markers",
           "name": "IND",
           "text": [
            "73.1"
           ],
           "type": "scatter",
           "x": [
            73.1
           ],
           "y": [
            "IND"
           ]
          },
          {
           "mode": "markers",
           "name": "IDN",
           "text": [
            "46.7"
           ],
           "type": "scatter",
           "x": [
            46.7
           ],
           "y": [
            "IDN"
           ]
          },
          {
           "mode": "markers",
           "name": "ISR",
           "text": [
            "6.4"
           ],
           "type": "scatter",
           "x": [
            6.4
           ],
           "y": [
            "ISR"
           ]
          },
          {
           "mode": "markers",
           "name": "RUS",
           "text": [
            "17.2"
           ],
           "type": "scatter",
           "x": [
            17.2
           ],
           "y": [
            "RUS"
           ]
          },
          {
           "mode": "markers",
           "name": "SVN",
           "text": [
            "5.2"
           ],
           "type": "scatter",
           "x": [
            5.2
           ],
           "y": [
            "SVN"
           ]
          },
          {
           "mode": "markers",
           "name": "ZAF",
           "text": [
            "50.9"
           ],
           "type": "scatter",
           "x": [
            50.9
           ],
           "y": [
            "ZAF"
           ]
          },
          {
           "mode": "markers",
           "name": "COL",
           "text": [
            "28.1"
           ],
           "type": "scatter",
           "x": [
            28.1
           ],
           "y": [
            "COL"
           ]
          },
          {
           "mode": "markers",
           "name": "LVA",
           "text": [
            "15.3"
           ],
           "type": "scatter",
           "x": [
            15.3
           ],
           "y": [
            "LVA"
           ]
          },
          {
           "mode": "markers",
           "name": "LTU",
           "text": [
            "10.3"
           ],
           "type": "scatter",
           "x": [
            10.3
           ],
           "y": [
            "LTU"
           ]
          },
          {
           "mode": "markers",
           "name": "CRI",
           "text": [
            "12.7"
           ],
           "type": "scatter",
           "x": [
            12.7
           ],
           "y": [
            "CRI"
           ]
          }
         ],
         "name": "1997"
        },
        {
         "data": [
          {
           "mode": "markers",
           "name": "AUS",
           "text": [
            "5.0"
           ],
           "type": "scatter",
           "x": [
            5
           ],
           "y": [
            "AUS"
           ]
          },
          {
           "mode": "markers",
           "name": "AUT",
           "text": [
            "4.9"
           ],
           "type": "scatter",
           "x": [
            4.9
           ],
           "y": [
            "AUT"
           ]
          },
          {
           "mode": "markers",
           "name": "BEL",
           "text": [
            "5.2"
           ],
           "type": "scatter",
           "x": [
            5.2
           ],
           "y": [
            "BEL"
           ]
          },
          {
           "mode": "markers",
           "name": "CAN",
           "text": [
            "5.3"
           ],
           "type": "scatter",
           "x": [
            5.3
           ],
           "y": [
            "CAN"
           ]
          },
          {
           "mode": "markers",
           "name": "CZE",
           "text": [
            "5.2"
           ],
           "type": "scatter",
           "x": [
            5.2
           ],
           "y": [
            "CZE"
           ]
          },
          {
           "mode": "markers",
           "name": "DNK",
           "text": [
            "4.7"
           ],
           "type": "scatter",
           "x": [
            4.7
           ],
           "y": [
            "DNK"
           ]
          },
          {
           "mode": "markers",
           "name": "FIN",
           "text": [
            "4.2"
           ],
           "type": "scatter",
           "x": [
            4.2
           ],
           "y": [
            "FIN"
           ]
          },
          {
           "mode": "markers",
           "name": "FRA",
           "text": [
            "4.8"
           ],
           "type": "scatter",
           "x": [
            4.8
           ],
           "y": [
            "FRA"
           ]
          },
          {
           "mode": "markers",
           "name": "DEU",
           "text": [
            "4.7"
           ],
           "type": "scatter",
           "x": [
            4.7
           ],
           "y": [
            "DEU"
           ]
          },
          {
           "mode": "markers",
           "name": "GRC",
           "text": [
            "6.7"
           ],
           "type": "scatter",
           "x": [
            6.7
           ],
           "y": [
            "GRC"
           ]
          },
          {
           "mode": "markers",
           "name": "HUN",
           "text": [
            "9.7"
           ],
           "type": "scatter",
           "x": [
            9.7
           ],
           "y": [
            "HUN"
           ]
          },
          {
           "mode": "markers",
           "name": "ISL",
           "text": [
            "2.6"
           ],
           "type": "scatter",
           "x": [
            2.6
           ],
           "y": [
            "ISL"
           ]
          },
          {
           "mode": "markers",
           "name": "IRL",
           "text": [
            "5.9"
           ],
           "type": "scatter",
           "x": [
            5.9
           ],
           "y": [
            "IRL"
           ]
          },
          {
           "mode": "markers",
           "name": "ITA",
           "text": [
            "5.1"
           ],
           "type": "scatter",
           "x": [
            5.1
           ],
           "y": [
            "ITA"
           ]
          },
          {
           "mode": "markers",
           "name": "JPN",
           "text": [
            "3.6"
           ],
           "type": "scatter",
           "x": [
            3.6
           ],
           "y": [
            "JPN"
           ]
          },
          {
           "mode": "markers",
           "name": "KOR",
           "text": [
            "0"
           ],
           "type": "scatter",
           "x": [
            0
           ],
           "y": [
            "KOR"
           ]
          },
          {
           "mode": "markers",
           "name": "LUX",
           "text": [
            "5.0"
           ],
           "type": "scatter",
           "x": [
            5
           ],
           "y": [
            "LUX"
           ]
          },
          {
           "mode": "markers",
           "name": "MEX",
           "text": [
            "22.8"
           ],
           "type": "scatter",
           "x": [
            22.8
           ],
           "y": [
            "MEX"
           ]
          },
          {
           "mode": "markers",
           "name": "NLD",
           "text": [
            "5.2"
           ],
           "type": "scatter",
           "x": [
            5.2
           ],
           "y": [
            "NLD"
           ]
          },
          {
           "mode": "markers",
           "name": "NZL",
           "text": [
            "5.4"
           ],
           "type": "scatter",
           "x": [
            5.4
           ],
           "y": [
            "NZL"
           ]
          },
          {
           "mode": "markers",
           "name": "NOR",
           "text": [
            "4.0"
           ],
           "type": "scatter",
           "x": [
            4
           ],
           "y": [
            "NOR"
           ]
          },
          {
           "mode": "markers",
           "name": "POL",
           "text": [
            "9.5"
           ],
           "type": "scatter",
           "x": [
            9.5
           ],
           "y": [
            "POL"
           ]
          },
          {
           "mode": "markers",
           "name": "PRT",
           "text": [
            "6.0"
           ],
           "type": "scatter",
           "x": [
            6
           ],
           "y": [
            "PRT"
           ]
          },
          {
           "mode": "markers",
           "name": "SVK",
           "text": [
            "8.8"
           ],
           "type": "scatter",
           "x": [
            8.8
           ],
           "y": [
            "SVK"
           ]
          },
          {
           "mode": "markers",
           "name": "ESP",
           "text": [
            "4.9"
           ],
           "type": "scatter",
           "x": [
            4.9
           ],
           "y": [
            "ESP"
           ]
          },
          {
           "mode": "markers",
           "name": "SWE",
           "text": [
            "3.5"
           ],
           "type": "scatter",
           "x": [
            3.5
           ],
           "y": [
            "SWE"
           ]
          },
          {
           "mode": "markers",
           "name": "CHE",
           "text": [
            "4.8"
           ],
           "type": "scatter",
           "x": [
            4.8
           ],
           "y": [
            "CHE"
           ]
          },
          {
           "mode": "markers",
           "name": "TUR",
           "text": [
            "36.5"
           ],
           "type": "scatter",
           "x": [
            36.5
           ],
           "y": [
            "TUR"
           ]
          },
          {
           "mode": "markers",
           "name": "GBR",
           "text": [
            "5.7"
           ],
           "type": "scatter",
           "x": [
            5.7
           ],
           "y": [
            "GBR"
           ]
          },
          {
           "mode": "markers",
           "name": "USA",
           "text": [
            "7.2"
           ],
           "type": "scatter",
           "x": [
            7.2
           ],
           "y": [
            "USA"
           ]
          },
          {
           "mode": "markers",
           "name": "BRA",
           "text": [
            "32.4"
           ],
           "type": "scatter",
           "x": [
            32.4
           ],
           "y": [
            "BRA"
           ]
          },
          {
           "mode": "markers",
           "name": "CHL",
           "text": [
            "10.3"
           ],
           "type": "scatter",
           "x": [
            10.3
           ],
           "y": [
            "CHL"
           ]
          },
          {
           "mode": "markers",
           "name": "CHN",
           "text": [
            "33.5"
           ],
           "type": "scatter",
           "x": [
            33.5
           ],
           "y": [
            "CHN"
           ]
          },
          {
           "mode": "markers",
           "name": "EST",
           "text": [
            "9.4"
           ],
           "type": "scatter",
           "x": [
            9.4
           ],
           "y": [
            "EST"
           ]
          },
          {
           "mode": "markers",
           "name": "IND",
           "text": [
            "70.9"
           ],
           "type": "scatter",
           "x": [
            70.9
           ],
           "y": [
            "IND"
           ]
          },
          {
           "mode": "markers",
           "name": "IDN",
           "text": [
            "44.7"
           ],
           "type": "scatter",
           "x": [
            44.7
           ],
           "y": [
            "IDN"
           ]
          },
          {
           "mode": "markers",
           "name": "ISR",
           "text": [
            "5.9"
           ],
           "type": "scatter",
           "x": [
            5.9
           ],
           "y": [
            "ISR"
           ]
          },
          {
           "mode": "markers",
           "name": "RUS",
           "text": [
            "16.5"
           ],
           "type": "scatter",
           "x": [
            16.5
           ],
           "y": [
            "RUS"
           ]
          },
          {
           "mode": "markers",
           "name": "SVN",
           "text": [
            "5.2"
           ],
           "type": "scatter",
           "x": [
            5.2
           ],
           "y": [
            "SVN"
           ]
          },
          {
           "mode": "markers",
           "name": "ZAF",
           "text": [
            "52.2"
           ],
           "type": "scatter",
           "x": [
            52.2
           ],
           "y": [
            "ZAF"
           ]
          },
          {
           "mode": "markers",
           "name": "COL",
           "text": [
            "27.0"
           ],
           "type": "scatter",
           "x": [
            27
           ],
           "y": [
            "COL"
           ]
          },
          {
           "mode": "markers",
           "name": "LVA",
           "text": [
            "15.0"
           ],
           "type": "scatter",
           "x": [
            15
           ],
           "y": [
            "LVA"
           ]
          },
          {
           "mode": "markers",
           "name": "LTU",
           "text": [
            "9.3"
           ],
           "type": "scatter",
           "x": [
            9.3
           ],
           "y": [
            "LTU"
           ]
          },
          {
           "mode": "markers",
           "name": "CRI",
           "text": [
            "12.3"
           ],
           "type": "scatter",
           "x": [
            12.3
           ],
           "y": [
            "CRI"
           ]
          }
         ],
         "name": "1998"
        },
        {
         "data": [
          {
           "mode": "markers",
           "name": "AUS",
           "text": [
            "5.7"
           ],
           "type": "scatter",
           "x": [
            5.7
           ],
           "y": [
            "AUS"
           ]
          },
          {
           "mode": "markers",
           "name": "AUT",
           "text": [
            "4.4"
           ],
           "type": "scatter",
           "x": [
            4.4
           ],
           "y": [
            "AUT"
           ]
          },
          {
           "mode": "markers",
           "name": "BEL",
           "text": [
            "4.9"
           ],
           "type": "scatter",
           "x": [
            4.9
           ],
           "y": [
            "BEL"
           ]
          },
          {
           "mode": "markers",
           "name": "CAN",
           "text": [
            "5.3"
           ],
           "type": "scatter",
           "x": [
            5.3
           ],
           "y": [
            "CAN"
           ]
          },
          {
           "mode": "markers",
           "name": "CZE",
           "text": [
            "4.6"
           ],
           "type": "scatter",
           "x": [
            4.6
           ],
           "y": [
            "CZE"
           ]
          },
          {
           "mode": "markers",
           "name": "DNK",
           "text": [
            "4.2"
           ],
           "type": "scatter",
           "x": [
            4.2
           ],
           "y": [
            "DNK"
           ]
          },
          {
           "mode": "markers",
           "name": "FIN",
           "text": [
            "3.6"
           ],
           "type": "scatter",
           "x": [
            3.6
           ],
           "y": [
            "FIN"
           ]
          },
          {
           "mode": "markers",
           "name": "FRA",
           "text": [
            "4.4"
           ],
           "type": "scatter",
           "x": [
            4.4
           ],
           "y": [
            "FRA"
           ]
          },
          {
           "mode": "markers",
           "name": "DEU",
           "text": [
            "4.5"
           ],
           "type": "scatter",
           "x": [
            4.5
           ],
           "y": [
            "DEU"
           ]
          },
          {
           "mode": "markers",
           "name": "GRC",
           "text": [
            "6.2"
           ],
           "type": "scatter",
           "x": [
            6.2
           ],
           "y": [
            "GRC"
           ]
          },
          {
           "mode": "markers",
           "name": "HUN",
           "text": [
            "8.4"
           ],
           "type": "scatter",
           "x": [
            8.4
           ],
           "y": [
            "HUN"
           ]
          },
          {
           "mode": "markers",
           "name": "ISL",
           "text": [
            "2.4"
           ],
           "type": "scatter",
           "x": [
            2.4
           ],
           "y": [
            "ISL"
           ]
          },
          {
           "mode": "markers",
           "name": "IRL",
           "text": [
            "5.9"
           ],
           "type": "scatter",
           "x": [
            5.9
           ],
           "y": [
            "IRL"
           ]
          },
          {
           "mode": "markers",
           "name": "ITA",
           "text": [
            "4.9"
           ],
           "type": "scatter",
           "x": [
            4.9
           ],
           "y": [
            "ITA"
           ]
          },
          {
           "mode": "markers",
           "name": "JPN",
           "text": [
            "3.4"
           ],
           "type": "scatter",
           "x": [
            3.4
           ],
           "y": [
            "JPN"
           ]
          },
          {
           "mode": "markers",
           "name": "KOR",
           "text": [
            "6.2"
           ],
           "type": "scatter",
           "x": [
            6.2
           ],
           "y": [
            "KOR"
           ]
          },
          {
           "mode": "markers",
           "name": "LUX",
           "text": [
            "4.7"
           ],
           "type": "scatter",
           "x": [
            4.7
           ],
           "y": [
            "LUX"
           ]
          },
          {
           "mode": "markers",
           "name": "MEX",
           "text": [
            "21.8"
           ],
           "type": "scatter",
           "x": [
            21.8
           ],
           "y": [
            "MEX"
           ]
          },
          {
           "mode": "markers",
           "name": "NLD",
           "text": [
            "5.2"
           ],
           "type": "scatter",
           "x": [
            5.2
           ],
           "y": [
            "NLD"
           ]
          },
          {
           "mode": "markers",
           "name": "NZL",
           "text": [
            "5.8"
           ],
           "type": "scatter",
           "x": [
            5.8
           ],
           "y": [
            "NZL"
           ]
          },
          {
           "mode": "markers",
           "name": "NOR",
           "text": [
            "3.9"
           ],
           "type": "scatter",
           "x": [
            3.9
           ],
           "y": [
            "NOR"
           ]
          },
          {
           "mode": "markers",
           "name": "POL",
           "text": [
            "8.9"
           ],
           "type": "scatter",
           "x": [
            8.9
           ],
           "y": [
            "POL"
           ]
          },
          {
           "mode": "markers",
           "name": "PRT",
           "text": [
            "5.6"
           ],
           "type": "scatter",
           "x": [
            5.6
           ],
           "y": [
            "PRT"
           ]
          },
          {
           "mode": "markers",
           "name": "SVK",
           "text": [
            "8.3"
           ],
           "type": "scatter",
           "x": [
            8.3
           ],
           "y": [
            "SVK"
           ]
          },
          {
           "mode": "markers",
           "name": "ESP",
           "text": [
            "4.5"
           ],
           "type": "scatter",
           "x": [
            4.5
           ],
           "y": [
            "ESP"
           ]
          },
          {
           "mode": "markers",
           "name": "SWE",
           "text": [
            "3.4"
           ],
           "type": "scatter",
           "x": [
            3.4
           ],
           "y": [
            "SWE"
           ]
          },
          {
           "mode": "markers",
           "name": "CHE",
           "text": [
            "4.6"
           ],
           "type": "scatter",
           "x": [
            4.6
           ],
           "y": [
            "CHE"
           ]
          },
          {
           "mode": "markers",
           "name": "TUR",
           "text": [
            "33.9"
           ],
           "type": "scatter",
           "x": [
            33.9
           ],
           "y": [
            "TUR"
           ]
          },
          {
           "mode": "markers",
           "name": "GBR",
           "text": [
            "5.8"
           ],
           "type": "scatter",
           "x": [
            5.8
           ],
           "y": [
            "GBR"
           ]
          },
          {
           "mode": "markers",
           "name": "USA",
           "text": [
            "7.1"
           ],
           "type": "scatter",
           "x": [
            7.1
           ],
           "y": [
            "USA"
           ]
          },
          {
           "mode": "markers",
           "name": "BRA",
           "text": [
            "30.2"
           ],
           "type": "scatter",
           "x": [
            30.2
           ],
           "y": [
            "BRA"
           ]
          },
          {
           "mode": "markers",
           "name": "CHL",
           "text": [
            "10.1"
           ],
           "type": "scatter",
           "x": [
            10.1
           ],
           "y": [
            "CHL"
           ]
          },
          {
           "mode": "markers",
           "name": "CHN",
           "text": [
            "31.9"
           ],
           "type": "scatter",
           "x": [
            31.9
           ],
           "y": [
            "CHN"
           ]
          },
          {
           "mode": "markers",
           "name": "EST",
           "text": [
            "9.6"
           ],
           "type": "scatter",
           "x": [
            9.6
           ],
           "y": [
            "EST"
           ]
          },
          {
           "mode": "markers",
           "name": "IND",
           "text": [
            "68.6"
           ],
           "type": "scatter",
           "x": [
            68.6
           ],
           "y": [
            "IND"
           ]
          },
          {
           "mode": "markers",
           "name": "IDN",
           "text": [
            "42.9"
           ],
           "type": "scatter",
           "x": [
            42.9
           ],
           "y": [
            "IDN"
           ]
          },
          {
           "mode": "markers",
           "name": "ISR",
           "text": [
            "5.8"
           ],
           "type": "scatter",
           "x": [
            5.8
           ],
           "y": [
            "ISR"
           ]
          },
          {
           "mode": "markers",
           "name": "RUS",
           "text": [
            "16.9"
           ],
           "type": "scatter",
           "x": [
            16.9
           ],
           "y": [
            "RUS"
           ]
          },
          {
           "mode": "markers",
           "name": "SVN",
           "text": [
            "4.5"
           ],
           "type": "scatter",
           "x": [
            4.5
           ],
           "y": [
            "SVN"
           ]
          },
          {
           "mode": "markers",
           "name": "ZAF",
           "text": [
            "53.2"
           ],
           "type": "scatter",
           "x": [
            53.2
           ],
           "y": [
            "ZAF"
           ]
          },
          {
           "mode": "markers",
           "name": "COL",
           "text": [
            "26.0"
           ],
           "type": "scatter",
           "x": [
            26
           ],
           "y": [
            "COL"
           ]
          },
          {
           "mode": "markers",
           "name": "LVA",
           "text": [
            "11.3"
           ],
           "type": "scatter",
           "x": [
            11.3
           ],
           "y": [
            "LVA"
           ]
          },
          {
           "mode": "markers",
           "name": "LTU",
           "text": [
            "8.7"
           ],
           "type": "scatter",
           "x": [
            8.7
           ],
           "y": [
            "LTU"
           ]
          },
          {
           "mode": "markers",
           "name": "CRI",
           "text": [
            "11.8"
           ],
           "type": "scatter",
           "x": [
            11.8
           ],
           "y": [
            "CRI"
           ]
          }
         ],
         "name": "1999"
        },
        {
         "data": [
          {
           "mode": "markers",
           "name": "AUS",
           "text": [
            "5.2"
           ],
           "type": "scatter",
           "x": [
            5.2
           ],
           "y": [
            "AUS"
           ]
          },
          {
           "mode": "markers",
           "name": "AUT",
           "text": [
            "4.8"
           ],
           "type": "scatter",
           "x": [
            4.8
           ],
           "y": [
            "AUT"
           ]
          },
          {
           "mode": "markers",
           "name": "BEL",
           "text": [
            "4.8"
           ],
           "type": "scatter",
           "x": [
            4.8
           ],
           "y": [
            "BEL"
           ]
          },
          {
           "mode": "markers",
           "name": "CAN",
           "text": [
            "5.3"
           ],
           "type": "scatter",
           "x": [
            5.3
           ],
           "y": [
            "CAN"
           ]
          },
          {
           "mode": "markers",
           "name": "CZE",
           "text": [
            "4.1"
           ],
           "type": "scatter",
           "x": [
            4.1
           ],
           "y": [
            "CZE"
           ]
          },
          {
           "mode": "markers",
           "name": "DNK",
           "text": [
            "5.3"
           ],
           "type": "scatter",
           "x": [
            5.3
           ],
           "y": [
            "DNK"
           ]
          },
          {
           "mode": "markers",
           "name": "FIN",
           "text": [
            "3.8"
           ],
           "type": "scatter",
           "x": [
            3.8
           ],
           "y": [
            "FIN"
           ]
          },
          {
           "mode": "markers",
           "name": "FRA",
           "text": [
            "4.5"
           ],
           "type": "scatter",
           "x": [
            4.5
           ],
           "y": [
            "FRA"
           ]
          },
          {
           "mode": "markers",
           "name": "DEU",
           "text": [
            "4.4"
           ],
           "type": "scatter",
           "x": [
            4.4
           ],
           "y": [
            "DEU"
           ]
          },
          {
           "mode": "markers",
           "name": "GRC",
           "text": [
            "5.9"
           ],
           "type": "scatter",
           "x": [
            5.9
           ],
           "y": [
            "GRC"
           ]
          },
          {
           "mode": "markers",
           "name": "HUN",
           "text": [
            "9.2"
           ],
           "type": "scatter",
           "x": [
            9.2
           ],
           "y": [
            "HUN"
           ]
          },
          {
           "mode": "markers",
           "name": "ISL",
           "text": [
            "3.0"
           ],
           "type": "scatter",
           "x": [
            3
           ],
           "y": [
            "ISL"
           ]
          },
          {
           "mode": "markers",
           "name": "IRL",
           "text": [
            "6.2"
           ],
           "type": "scatter",
           "x": [
            6.2
           ],
           "y": [
            "IRL"
           ]
          },
          {
           "mode": "markers",
           "name": "ITA",
           "text": [
            "4.3"
           ],
           "type": "scatter",
           "x": [
            4.3
           ],
           "y": [
            "ITA"
           ]
          },
          {
           "mode": "markers",
           "name": "JPN",
           "text": [
            "3.2"
           ],
           "type": "scatter",
           "x": [
            3.2
           ],
           "y": [
            "JPN"
           ]
          },
          {
           "mode": "markers",
           "name": "KOR",
           "text": [
            "0"
           ],
           "type": "scatter",
           "x": [
            0
           ],
           "y": [
            "KOR"
           ]
          },
          {
           "mode": "markers",
           "name": "LUX",
           "text": [
            "5.1"
           ],
           "type": "scatter",
           "x": [
            5.1
           ],
           "y": [
            "LUX"
           ]
          },
          {
           "mode": "markers",
           "name": "MEX",
           "text": [
            "20.8"
           ],
           "type": "scatter",
           "x": [
            20.8
           ],
           "y": [
            "MEX"
           ]
          },
          {
           "mode": "markers",
           "name": "NLD",
           "text": [
            "5.1"
           ],
           "type": "scatter",
           "x": [
            5.1
           ],
           "y": [
            "NLD"
           ]
          },
          {
           "mode": "markers",
           "name": "NZL",
           "text": [
            "6.3"
           ],
           "type": "scatter",
           "x": [
            6.3
           ],
           "y": [
            "NZL"
           ]
          },
          {
           "mode": "markers",
           "name": "NOR",
           "text": [
            "3.8"
           ],
           "type": "scatter",
           "x": [
            3.8
           ],
           "y": [
            "NOR"
           ]
          },
          {
           "mode": "markers",
           "name": "POL",
           "text": [
            "8.1"
           ],
           "type": "scatter",
           "x": [
            8.1
           ],
           "y": [
            "POL"
           ]
          },
          {
           "mode": "markers",
           "name": "PRT",
           "text": [
            "5.5"
           ],
           "type": "scatter",
           "x": [
            5.5
           ],
           "y": [
            "PRT"
           ]
          },
          {
           "mode": "markers",
           "name": "SVK",
           "text": [
            "8.6"
           ],
           "type": "scatter",
           "x": [
            8.6
           ],
           "y": [
            "SVK"
           ]
          },
          {
           "mode": "markers",
           "name": "ESP",
           "text": [
            "4.4"
           ],
           "type": "scatter",
           "x": [
            4.4
           ],
           "y": [
            "ESP"
           ]
          },
          {
           "mode": "markers",
           "name": "SWE",
           "text": [
            "3.4"
           ],
           "type": "scatter",
           "x": [
            3.4
           ],
           "y": [
            "SWE"
           ]
          },
          {
           "mode": "markers",
           "name": "CHE",
           "text": [
            "4.9"
           ],
           "type": "scatter",
           "x": [
            4.9
           ],
           "y": [
            "CHE"
           ]
          },
          {
           "mode": "markers",
           "name": "TUR",
           "text": [
            "28.4"
           ],
           "type": "scatter",
           "x": [
            28.4
           ],
           "y": [
            "TUR"
           ]
          },
          {
           "mode": "markers",
           "name": "GBR",
           "text": [
            "5.6"
           ],
           "type": "scatter",
           "x": [
            5.6
           ],
           "y": [
            "GBR"
           ]
          },
          {
           "mode": "markers",
           "name": "USA",
           "text": [
            "6.9"
           ],
           "type": "scatter",
           "x": [
            6.9
           ],
           "y": [
            "USA"
           ]
          },
          {
           "mode": "markers",
           "name": "BRA",
           "text": [
            "28.1"
           ],
           "type": "scatter",
           "x": [
            28.1
           ],
           "y": [
            "BRA"
           ]
          },
          {
           "mode": "markers",
           "name": "CHL",
           "text": [
            "8.9"
           ],
           "type": "scatter",
           "x": [
            8.9
           ],
           "y": [
            "CHL"
           ]
          },
          {
           "mode": "markers",
           "name": "CHN",
           "text": [
            "30.2"
           ],
           "type": "scatter",
           "x": [
            30.2
           ],
           "y": [
            "CHN"
           ]
          },
          {
           "mode": "markers",
           "name": "EST",
           "text": [
            "8.4"
           ],
           "type": "scatter",
           "x": [
            8.4
           ],
           "y": [
            "EST"
           ]
          },
          {
           "mode": "markers",
           "name": "IND",
           "text": [
            "66.4"
           ],
           "type": "scatter",
           "x": [
            66.4
           ],
           "y": [
            "IND"
           ]
          },
          {
           "mode": "markers",
           "name": "IDN",
           "text": [
            "41.1"
           ],
           "type": "scatter",
           "x": [
            41.1
           ],
           "y": [
            "IDN"
           ]
          },
          {
           "mode": "markers",
           "name": "ISR",
           "text": [
            "5.5"
           ],
           "type": "scatter",
           "x": [
            5.5
           ],
           "y": [
            "ISR"
           ]
          },
          {
           "mode": "markers",
           "name": "RUS",
           "text": [
            "15.3"
           ],
           "type": "scatter",
           "x": [
            15.3
           ],
           "y": [
            "RUS"
           ]
          },
          {
           "mode": "markers",
           "name": "SVN",
           "text": [
            "4.9"
           ],
           "type": "scatter",
           "x": [
            4.9
           ],
           "y": [
            "SVN"
           ]
          },
          {
           "mode": "markers",
           "name": "ZAF",
           "text": [
            "54.0"
           ],
           "type": "scatter",
           "x": [
            54
           ],
           "y": [
            "ZAF"
           ]
          },
          {
           "mode": "markers",
           "name": "COL",
           "text": [
            "25.0"
           ],
           "type": "scatter",
           "x": [
            25
           ],
           "y": [
            "COL"
           ]
          },
          {
           "mode": "markers",
           "name": "LVA",
           "text": [
            "10.3"
           ],
           "type": "scatter",
           "x": [
            10.3
           ],
           "y": [
            "LVA"
           ]
          },
          {
           "mode": "markers",
           "name": "LTU",
           "text": [
            "8.6"
           ],
           "type": "scatter",
           "x": [
            8.6
           ],
           "y": [
            "LTU"
           ]
          },
          {
           "mode": "markers",
           "name": "CRI",
           "text": [
            "11.2"
           ],
           "type": "scatter",
           "x": [
            11.2
           ],
           "y": [
            "CRI"
           ]
          }
         ],
         "name": "2000"
        },
        {
         "data": [
          {
           "mode": "markers",
           "name": "AUS",
           "text": [
            "5.3"
           ],
           "type": "scatter",
           "x": [
            5.3
           ],
           "y": [
            "AUS"
           ]
          },
          {
           "mode": "markers",
           "name": "AUT",
           "text": [
            "4.8"
           ],
           "type": "scatter",
           "x": [
            4.8
           ],
           "y": [
            "AUT"
           ]
          },
          {
           "mode": "markers",
           "name": "BEL",
           "text": [
            "4.5"
           ],
           "type": "scatter",
           "x": [
            4.5
           ],
           "y": [
            "BEL"
           ]
          },
          {
           "mode": "markers",
           "name": "CAN",
           "text": [
            "5.2"
           ],
           "type": "scatter",
           "x": [
            5.2
           ],
           "y": [
            "CAN"
           ]
          },
          {
           "mode": "markers",
           "name": "CZE",
           "text": [
            "4.0"
           ],
           "type": "scatter",
           "x": [
            4
           ],
           "y": [
            "CZE"
           ]
          },
          {
           "mode": "markers",
           "name": "DNK",
           "text": [
            "4.9"
           ],
           "type": "scatter",
           "x": [
            4.9
           ],
           "y": [
            "DNK"
           ]
          },
          {
           "mode": "markers",
           "name": "FIN",
           "text": [
            "3.2"
           ],
           "type": "scatter",
           "x": [
            3.2
           ],
           "y": [
            "FIN"
           ]
          },
          {
           "mode": "markers",
           "name": "FRA",
           "text": [
            "4.6"
           ],
           "type": "scatter",
           "x": [
            4.6
           ],
           "y": [
            "FRA"
           ]
          },
          {
           "mode": "markers",
           "name": "DEU",
           "text": [
            "4.3"
           ],
           "type": "scatter",
           "x": [
            4.3
           ],
           "y": [
            "DEU"
           ]
          },
          {
           "mode": "markers",
           "name": "GRC",
           "text": [
            "5.1"
           ],
           "type": "scatter",
           "x": [
            5.1
           ],
           "y": [
            "GRC"
           ]
          },
          {
           "mode": "markers",
           "name": "HUN",
           "text": [
            "8.1"
           ],
           "type": "scatter",
           "x": [
            8.1
           ],
           "y": [
            "HUN"
           ]
          },
          {
           "mode": "markers",
           "name": "ISL",
           "text": [
            "2.7"
           ],
           "type": "scatter",
           "x": [
            2.7
           ],
           "y": [
            "ISL"
           ]
          },
          {
           "mode": "markers",
           "name": "IRL",
           "text": [
            "5.7"
           ],
           "type": "scatter",
           "x": [
            5.7
           ],
           "y": [
            "IRL"
           ]
          },
          {
           "mode": "markers",
           "name": "ITA",
           "text": [
            "4.4"
           ],
           "type": "scatter",
           "x": [
            4.4
           ],
           "y": [
            "ITA"
           ]
          },
          {
           "mode": "markers",
           "name": "JPN",
           "text": [
            "3.1"
           ],
           "type": "scatter",
           "x": [
            3.1
           ],
           "y": [
            "JPN"
           ]
          },
          {
           "mode": "markers",
           "name": "KOR",
           "text": [
            "0"
           ],
           "type": "scatter",
           "x": [
            0
           ],
           "y": [
            "KOR"
           ]
          },
          {
           "mode": "markers",
           "name": "LUX",
           "text": [
            "5.9"
           ],
           "type": "scatter",
           "x": [
            5.9
           ],
           "y": [
            "LUX"
           ]
          },
          {
           "mode": "markers",
           "name": "MEX",
           "text": [
            "20.0"
           ],
           "type": "scatter",
           "x": [
            20
           ],
           "y": [
            "MEX"
           ]
          },
          {
           "mode": "markers",
           "name": "NLD",
           "text": [
            "5.4"
           ],
           "type": "scatter",
           "x": [
            5.4
           ],
           "y": [
            "NLD"
           ]
          },
          {
           "mode": "markers",
           "name": "NZL",
           "text": [
            "5.6"
           ],
           "type": "scatter",
           "x": [
            5.6
           ],
           "y": [
            "NZL"
           ]
          },
          {
           "mode": "markers",
           "name": "NOR",
           "text": [
            "3.9"
           ],
           "type": "scatter",
           "x": [
            3.9
           ],
           "y": [
            "NOR"
           ]
          },
          {
           "mode": "markers",
           "name": "POL",
           "text": [
            "7.7"
           ],
           "type": "scatter",
           "x": [
            7.7
           ],
           "y": [
            "POL"
           ]
          },
          {
           "mode": "markers",
           "name": "PRT",
           "text": [
            "5.0"
           ],
           "type": "scatter",
           "x": [
            5
           ],
           "y": [
            "PRT"
           ]
          },
          {
           "mode": "markers",
           "name": "SVK",
           "text": [
            "6.2"
           ],
           "type": "scatter",
           "x": [
            6.2
           ],
           "y": [
            "SVK"
           ]
          },
          {
           "mode": "markers",
           "name": "ESP",
           "text": [
            "4.0"
           ],
           "type": "scatter",
           "x": [
            4
           ],
           "y": [
            "ESP"
           ]
          },
          {
           "mode": "markers",
           "name": "SWE",
           "text": [
            "3.7"
           ],
           "type": "scatter",
           "x": [
            3.7
           ],
           "y": [
            "SWE"
           ]
          },
          {
           "mode": "markers",
           "name": "CHE",
           "text": [
            "5.0"
           ],
           "type": "scatter",
           "x": [
            5
           ],
           "y": [
            "CHE"
           ]
          },
          {
           "mode": "markers",
           "name": "TUR",
           "text": [
            "28.6"
           ],
           "type": "scatter",
           "x": [
            28.6
           ],
           "y": [
            "TUR"
           ]
          },
          {
           "mode": "markers",
           "name": "GBR",
           "text": [
            "5.5"
           ],
           "type": "scatter",
           "x": [
            5.5
           ],
           "y": [
            "GBR"
           ]
          },
          {
           "mode": "markers",
           "name": "USA",
           "text": [
            "6.8"
           ],
           "type": "scatter",
           "x": [
            6.8
           ],
           "y": [
            "USA"
           ]
          },
          {
           "mode": "markers",
           "name": "BRA",
           "text": [
            "26.1"
           ],
           "type": "scatter",
           "x": [
            26.1
           ],
           "y": [
            "BRA"
           ]
          },
          {
           "mode": "markers",
           "name": "CHL",
           "text": [
            "8.3"
           ],
           "type": "scatter",
           "x": [
            8.3
           ],
           "y": [
            "CHL"
           ]
          },
          {
           "mode": "markers",
           "name": "CHN",
           "text": [
            "28.3"
           ],
           "type": "scatter",
           "x": [
            28.3
           ],
           "y": [
            "CHN"
           ]
          },
          {
           "mode": "markers",
           "name": "EST",
           "text": [
            "8.8"
           ],
           "type": "scatter",
           "x": [
            8.8
           ],
           "y": [
            "EST"
           ]
          },
          {
           "mode": "markers",
           "name": "IND",
           "text": [
            "64.2"
           ],
           "type": "scatter",
           "x": [
            64.2
           ],
           "y": [
            "IND"
           ]
          },
          {
           "mode": "markers",
           "name": "IDN",
           "text": [
            "39.4"
           ],
           "type": "scatter",
           "x": [
            39.4
           ],
           "y": [
            "IDN"
           ]
          },
          {
           "mode": "markers",
           "name": "ISR",
           "text": [
            "5.1"
           ],
           "type": "scatter",
           "x": [
            5.1
           ],
           "y": [
            "ISR"
           ]
          },
          {
           "mode": "markers",
           "name": "RUS",
           "text": [
            "14.6"
           ],
           "type": "scatter",
           "x": [
            14.6
           ],
           "y": [
            "RUS"
           ]
          },
          {
           "mode": "markers",
           "name": "SVN",
           "text": [
            "4.2"
           ],
           "type": "scatter",
           "x": [
            4.2
           ],
           "y": [
            "SVN"
           ]
          },
          {
           "mode": "markers",
           "name": "ZAF",
           "text": [
            "54.5"
           ],
           "type": "scatter",
           "x": [
            54.5
           ],
           "y": [
            "ZAF"
           ]
          },
          {
           "mode": "markers",
           "name": "COL",
           "text": [
            "24.0"
           ],
           "type": "scatter",
           "x": [
            24
           ],
           "y": [
            "COL"
           ]
          },
          {
           "mode": "markers",
           "name": "LVA",
           "text": [
            "11.0"
           ],
           "type": "scatter",
           "x": [
            11
           ],
           "y": [
            "LVA"
           ]
          },
          {
           "mode": "markers",
           "name": "LTU",
           "text": [
            "8.0"
           ],
           "type": "scatter",
           "x": [
            8
           ],
           "y": [
            "LTU"
           ]
          },
          {
           "mode": "markers",
           "name": "CRI",
           "text": [
            "10.5"
           ],
           "type": "scatter",
           "x": [
            10.5
           ],
           "y": [
            "CRI"
           ]
          }
         ],
         "name": "2001"
        },
        {
         "data": [
          {
           "mode": "markers",
           "name": "AUS",
           "text": [
            "5.0"
           ],
           "type": "scatter",
           "x": [
            5
           ],
           "y": [
            "AUS"
           ]
          },
          {
           "mode": "markers",
           "name": "AUT",
           "text": [
            "4.1"
           ],
           "type": "scatter",
           "x": [
            4.1
           ],
           "y": [
            "AUT"
           ]
          },
          {
           "mode": "markers",
           "name": "BEL",
           "text": [
            "4.4"
           ],
           "type": "scatter",
           "x": [
            4.4
           ],
           "y": [
            "BEL"
           ]
          },
          {
           "mode": "markers",
           "name": "CAN",
           "text": [
            "5.4"
           ],
           "type": "scatter",
           "x": [
            5.4
           ],
           "y": [
            "CAN"
           ]
          },
          {
           "mode": "markers",
           "name": "CZE",
           "text": [
            "4.1"
           ],
           "type": "scatter",
           "x": [
            4.1
           ],
           "y": [
            "CZE"
           ]
          },
          {
           "mode": "markers",
           "name": "DNK",
           "text": [
            "4.4"
           ],
           "type": "scatter",
           "x": [
            4.4
           ],
           "y": [
            "DNK"
           ]
          },
          {
           "mode": "markers",
           "name": "FIN",
           "text": [
            "3.0"
           ],
           "type": "scatter",
           "x": [
            3
           ],
           "y": [
            "FIN"
           ]
          },
          {
           "mode": "markers",
           "name": "FRA",
           "text": [
            "4.2"
           ],
           "type": "scatter",
           "x": [
            4.2
           ],
           "y": [
            "FRA"
           ]
          },
          {
           "mode": "markers",
           "name": "DEU",
           "text": [
            "4.2"
           ],
           "type": "scatter",
           "x": [
            4.2
           ],
           "y": [
            "DEU"
           ]
          },
          {
           "mode": "markers",
           "name": "GRC",
           "text": [
            "5.1"
           ],
           "type": "scatter",
           "x": [
            5.1
           ],
           "y": [
            "GRC"
           ]
          },
          {
           "mode": "markers",
           "name": "HUN",
           "text": [
            "7.2"
           ],
           "type": "scatter",
           "x": [
            7.2
           ],
           "y": [
            "HUN"
           ]
          },
          {
           "mode": "markers",
           "name": "ISL",
           "text": [
            "2.2"
           ],
           "type": "scatter",
           "x": [
            2.2
           ],
           "y": [
            "ISL"
           ]
          },
          {
           "mode": "markers",
           "name": "IRL",
           "text": [
            "5.0"
           ],
           "type": "scatter",
           "x": [
            5
           ],
           "y": [
            "IRL"
           ]
          },
          {
           "mode": "markers",
           "name": "ITA",
           "text": [
            "4.1"
           ],
           "type": "scatter",
           "x": [
            4.1
           ],
           "y": [
            "ITA"
           ]
          },
          {
           "mode": "markers",
           "name": "JPN",
           "text": [
            "3.0"
           ],
           "type": "scatter",
           "x": [
            3
           ],
           "y": [
            "JPN"
           ]
          },
          {
           "mode": "markers",
           "name": "KOR",
           "text": [
            "5.3"
           ],
           "type": "scatter",
           "x": [
            5.3
           ],
           "y": [
            "KOR"
           ]
          },
          {
           "mode": "markers",
           "name": "LUX",
           "text": [
            "5.1"
           ],
           "type": "scatter",
           "x": [
            5.1
           ],
           "y": [
            "LUX"
           ]
          },
          {
           "mode": "markers",
           "name": "MEX",
           "text": [
            "19.1"
           ],
           "type": "scatter",
           "x": [
            19.1
           ],
           "y": [
            "MEX"
           ]
          },
          {
           "mode": "markers",
           "name": "NLD",
           "text": [
            "5.0"
           ],
           "type": "scatter",
           "x": [
            5
           ],
           "y": [
            "NLD"
           ]
          },
          {
           "mode": "markers",
           "name": "NZL",
           "text": [
            "6.2"
           ],
           "type": "scatter",
           "x": [
            6.2
           ],
           "y": [
            "NZL"
           ]
          },
          {
           "mode": "markers",
           "name": "NOR",
           "text": [
            "3.5"
           ],
           "type": "scatter",
           "x": [
            3.5
           ],
           "y": [
            "NOR"
           ]
          },
          {
           "mode": "markers",
           "name": "POL",
           "text": [
            "7.5"
           ],
           "type": "scatter",
           "x": [
            7.5
           ],
           "y": [
            "POL"
           ]
          },
          {
           "mode": "markers",
           "name": "PRT",
           "text": [
            "5.0"
           ],
           "type": "scatter",
           "x": [
            5
           ],
           "y": [
            "PRT"
           ]
          },
          {
           "mode": "markers",
           "name": "SVK",
           "text": [
            "7.6"
           ],
           "type": "scatter",
           "x": [
            7.6
           ],
           "y": [
            "SVK"
           ]
          },
          {
           "mode": "markers",
           "name": "ESP",
           "text": [
            "4.1"
           ],
           "type": "scatter",
           "x": [
            4.1
           ],
           "y": [
            "ESP"
           ]
          },
          {
           "mode": "markers",
           "name": "SWE",
           "text": [
            "3.3"
           ],
           "type": "scatter",
           "x": [
            3.3
           ],
           "y": [
            "SWE"
           ]
          },
          {
           "mode": "markers",
           "name": "CHE",
           "text": [
            "4.5"
           ],
           "type": "scatter",
           "x": [
            4.5
           ],
           "y": [
            "CHE"
           ]
          },
          {
           "mode": "markers",
           "name": "TUR",
           "text": [
            "29.6"
           ],
           "type": "scatter",
           "x": [
            29.6
           ],
           "y": [
            "TUR"
           ]
          },
          {
           "mode": "markers",
           "name": "GBR",
           "text": [
            "5.2"
           ],
           "type": "scatter",
           "x": [
            5.2
           ],
           "y": [
            "GBR"
           ]
          },
          {
           "mode": "markers",
           "name": "USA",
           "text": [
            "7.0"
           ],
           "type": "scatter",
           "x": [
            7
           ],
           "y": [
            "USA"
           ]
          },
          {
           "mode": "markers",
           "name": "BRA",
           "text": [
            "24.3"
           ],
           "type": "scatter",
           "x": [
            24.3
           ],
           "y": [
            "BRA"
           ]
          },
          {
           "mode": "markers",
           "name": "CHL",
           "text": [
            "7.8"
           ],
           "type": "scatter",
           "x": [
            7.8
           ],
           "y": [
            "CHL"
           ]
          },
          {
           "mode": "markers",
           "name": "CHN",
           "text": [
            "26.2"
           ],
           "type": "scatter",
           "x": [
            26.2
           ],
           "y": [
            "CHN"
           ]
          },
          {
           "mode": "markers",
           "name": "EST",
           "text": [
            "5.7"
           ],
           "type": "scatter",
           "x": [
            5.7
           ],
           "y": [
            "EST"
           ]
          },
          {
           "mode": "markers",
           "name": "IND",
           "text": [
            "62.0"
           ],
           "type": "scatter",
           "x": [
            62
           ],
           "y": [
            "IND"
           ]
          },
          {
           "mode": "markers",
           "name": "IDN",
           "text": [
            "37.8"
           ],
           "type": "scatter",
           "x": [
            37.8
           ],
           "y": [
            "IDN"
           ]
          },
          {
           "mode": "markers",
           "name": "ISR",
           "text": [
            "5.4"
           ],
           "type": "scatter",
           "x": [
            5.4
           ],
           "y": [
            "ISR"
           ]
          },
          {
           "mode": "markers",
           "name": "RUS",
           "text": [
            "13.3"
           ],
           "type": "scatter",
           "x": [
            13.3
           ],
           "y": [
            "RUS"
           ]
          },
          {
           "mode": "markers",
           "name": "SVN",
           "text": [
            "3.8"
           ],
           "type": "scatter",
           "x": [
            3.8
           ],
           "y": [
            "SVN"
           ]
          },
          {
           "mode": "markers",
           "name": "ZAF",
           "text": [
            "54.7"
           ],
           "type": "scatter",
           "x": [
            54.7
           ],
           "y": [
            "ZAF"
           ]
          },
          {
           "mode": "markers",
           "name": "COL",
           "text": [
            "23.0"
           ],
           "type": "scatter",
           "x": [
            23
           ],
           "y": [
            "COL"
           ]
          },
          {
           "mode": "markers",
           "name": "LVA",
           "text": [
            "9.8"
           ],
           "type": "scatter",
           "x": [
            9.8
           ],
           "y": [
            "LVA"
           ]
          },
          {
           "mode": "markers",
           "name": "LTU",
           "text": [
            "8.1"
           ],
           "type": "scatter",
           "x": [
            8.1
           ],
           "y": [
            "LTU"
           ]
          },
          {
           "mode": "markers",
           "name": "CRI",
           "text": [
            "10.0"
           ],
           "type": "scatter",
           "x": [
            10
           ],
           "y": [
            "CRI"
           ]
          }
         ],
         "name": "2002"
        },
        {
         "data": [
          {
           "mode": "markers",
           "name": "AUS",
           "text": [
            "4.8"
           ],
           "type": "scatter",
           "x": [
            4.8
           ],
           "y": [
            "AUS"
           ]
          },
          {
           "mode": "markers",
           "name": "AUT",
           "text": [
            "4.5"
           ],
           "type": "scatter",
           "x": [
            4.5
           ],
           "y": [
            "AUT"
           ]
          },
          {
           "mode": "markers",
           "name": "BEL",
           "text": [
            "4.1"
           ],
           "type": "scatter",
           "x": [
            4.1
           ],
           "y": [
            "BEL"
           ]
          },
          {
           "mode": "markers",
           "name": "CAN",
           "text": [
            "5.3"
           ],
           "type": "scatter",
           "x": [
            5.3
           ],
           "y": [
            "CAN"
           ]
          },
          {
           "mode": "markers",
           "name": "CZE",
           "text": [
            "3.9"
           ],
           "type": "scatter",
           "x": [
            3.9
           ],
           "y": [
            "CZE"
           ]
          },
          {
           "mode": "markers",
           "name": "DNK",
           "text": [
            "4.4"
           ],
           "type": "scatter",
           "x": [
            4.4
           ],
           "y": [
            "DNK"
           ]
          },
          {
           "mode": "markers",
           "name": "FIN",
           "text": [
            "3.1"
           ],
           "type": "scatter",
           "x": [
            3.1
           ],
           "y": [
            "FIN"
           ]
          },
          {
           "mode": "markers",
           "name": "FRA",
           "text": [
            "4.2"
           ],
           "type": "scatter",
           "x": [
            4.2
           ],
           "y": [
            "FRA"
           ]
          },
          {
           "mode": "markers",
           "name": "DEU",
           "text": [
            "4.2"
           ],
           "type": "scatter",
           "x": [
            4.2
           ],
           "y": [
            "DEU"
           ]
          },
          {
           "mode": "markers",
           "name": "GRC",
           "text": [
            "4.0"
           ],
           "type": "scatter",
           "x": [
            4
           ],
           "y": [
            "GRC"
           ]
          },
          {
           "mode": "markers",
           "name": "HUN",
           "text": [
            "7.3"
           ],
           "type": "scatter",
           "x": [
            7.3
           ],
           "y": [
            "HUN"
           ]
          },
          {
           "mode": "markers",
           "name": "ISL",
           "text": [
            "2.4"
           ],
           "type": "scatter",
           "x": [
            2.4
           ],
           "y": [
            "ISL"
           ]
          },
          {
           "mode": "markers",
           "name": "IRL",
           "text": [
            "5.3"
           ],
           "type": "scatter",
           "x": [
            5.3
           ],
           "y": [
            "IRL"
           ]
          },
          {
           "mode": "markers",
           "name": "ITA",
           "text": [
            "3.8"
           ],
           "type": "scatter",
           "x": [
            3.8
           ],
           "y": [
            "ITA"
           ]
          },
          {
           "mode": "markers",
           "name": "JPN",
           "text": [
            "3.0"
           ],
           "type": "scatter",
           "x": [
            3
           ],
           "y": [
            "JPN"
           ]
          },
          {
           "mode": "markers",
           "name": "KOR",
           "text": [
            "0"
           ],
           "type": "scatter",
           "x": [
            0
           ],
           "y": [
            "KOR"
           ]
          },
          {
           "mode": "markers",
           "name": "LUX",
           "text": [
            "4.9"
           ],
           "type": "scatter",
           "x": [
            4.9
           ],
           "y": [
            "LUX"
           ]
          },
          {
           "mode": "markers",
           "name": "MEX",
           "text": [
            "18.3"
           ],
           "type": "scatter",
           "x": [
            18.3
           ],
           "y": [
            "MEX"
           ]
          },
          {
           "mode": "markers",
           "name": "NLD",
           "text": [
            "4.8"
           ],
           "type": "scatter",
           "x": [
            4.8
           ],
           "y": [
            "NLD"
           ]
          },
          {
           "mode": "markers",
           "name": "NZL",
           "text": [
            "5.4"
           ],
           "type": "scatter",
           "x": [
            5.4
           ],
           "y": [
            "NZL"
           ]
          },
          {
           "mode": "markers",
           "name": "NOR",
           "text": [
            "3.3"
           ],
           "type": "scatter",
           "x": [
            3.3
           ],
           "y": [
            "NOR"
           ]
          },
          {
           "mode": "markers",
           "name": "POL",
           "text": [
            "7.0"
           ],
           "type": "scatter",
           "x": [
            7
           ],
           "y": [
            "POL"
           ]
          },
          {
           "mode": "markers",
           "name": "PRT",
           "text": [
            "4.1"
           ],
           "type": "scatter",
           "x": [
            4.1
           ],
           "y": [
            "PRT"
           ]
          },
          {
           "mode": "markers",
           "name": "SVK",
           "text": [
            "7.9"
           ],
           "type": "scatter",
           "x": [
            7.9
           ],
           "y": [
            "SVK"
           ]
          },
          {
           "mode": "markers",
           "name": "ESP",
           "text": [
            "3.9"
           ],
           "type": "scatter",
           "x": [
            3.9
           ],
           "y": [
            "ESP"
           ]
          },
          {
           "mode": "markers",
           "name": "SWE",
           "text": [
            "3.1"
           ],
           "type": "scatter",
           "x": [
            3.1
           ],
           "y": [
            "SWE"
           ]
          },
          {
           "mode": "markers",
           "name": "CHE",
           "text": [
            "4.3"
           ],
           "type": "scatter",
           "x": [
            4.3
           ],
           "y": [
            "CHE"
           ]
          },
          {
           "mode": "markers",
           "name": "TUR",
           "text": [
            "29.1"
           ],
           "type": "scatter",
           "x": [
            29.1
           ],
           "y": [
            "TUR"
           ]
          },
          {
           "mode": "markers",
           "name": "GBR",
           "text": [
            "5.3"
           ],
           "type": "scatter",
           "x": [
            5.3
           ],
           "y": [
            "GBR"
           ]
          },
          {
           "mode": "markers",
           "name": "USA",
           "text": [
            "6.8"
           ],
           "type": "scatter",
           "x": [
            6.8
           ],
           "y": [
            "USA"
           ]
          },
          {
           "mode": "markers",
           "name": "BRA",
           "text": [
            "22.5"
           ],
           "type": "scatter",
           "x": [
            22.5
           ],
           "y": [
            "BRA"
           ]
          },
          {
           "mode": "markers",
           "name": "CHL",
           "text": [
            "7.8"
           ],
           "type": "scatter",
           "x": [
            7.8
           ],
           "y": [
            "CHL"
           ]
          },
          {
           "mode": "markers",
           "name": "CHN",
           "text": [
            "24.2"
           ],
           "type": "scatter",
           "x": [
            24.2
           ],
           "y": [
            "CHN"
           ]
          },
          {
           "mode": "markers",
           "name": "EST",
           "text": [
            "7.0"
           ],
           "type": "scatter",
           "x": [
            7
           ],
           "y": [
            "EST"
           ]
          },
          {
           "mode": "markers",
           "name": "IND",
           "text": [
            "59.9"
           ],
           "type": "scatter",
           "x": [
            59.9
           ],
           "y": [
            "IND"
           ]
          },
          {
           "mode": "markers",
           "name": "IDN",
           "text": [
            "36.3"
           ],
           "type": "scatter",
           "x": [
            36.3
           ],
           "y": [
            "IDN"
           ]
          },
          {
           "mode": "markers",
           "name": "ISR",
           "text": [
            "4.9"
           ],
           "type": "scatter",
           "x": [
            4.9
           ],
           "y": [
            "ISR"
           ]
          },
          {
           "mode": "markers",
           "name": "RUS",
           "text": [
            "12.4"
           ],
           "type": "scatter",
           "x": [
            12.4
           ],
           "y": [
            "RUS"
           ]
          },
          {
           "mode": "markers",
           "name": "SVN",
           "text": [
            "4.0"
           ],
           "type": "scatter",
           "x": [
            4
           ],
           "y": [
            "SVN"
           ]
          },
          {
           "mode": "markers",
           "name": "ZAF",
           "text": [
            "54.1"
           ],
           "type": "scatter",
           "x": [
            54.1
           ],
           "y": [
            "ZAF"
           ]
          },
          {
           "mode": "markers",
           "name": "COL",
           "text": [
            "22.1"
           ],
           "type": "scatter",
           "x": [
            22.1
           ],
           "y": [
            "COL"
           ]
          },
          {
           "mode": "markers",
           "name": "LVA",
           "text": [
            "9.4"
           ],
           "type": "scatter",
           "x": [
            9.4
           ],
           "y": [
            "LVA"
           ]
          },
          {
           "mode": "markers",
           "name": "LTU",
           "text": [
            "6.9"
           ],
           "type": "scatter",
           "x": [
            6.9
           ],
           "y": [
            "LTU"
           ]
          },
          {
           "mode": "markers",
           "name": "CRI",
           "text": [
            "9.5"
           ],
           "type": "scatter",
           "x": [
            9.5
           ],
           "y": [
            "CRI"
           ]
          }
         ],
         "name": "2003"
        },
        {
         "data": [
          {
           "mode": "markers",
           "name": "AUS",
           "text": [
            "4.7"
           ],
           "type": "scatter",
           "x": [
            4.7
           ],
           "y": [
            "AUS"
           ]
          },
          {
           "mode": "markers",
           "name": "AUT",
           "text": [
            "4.5"
           ],
           "type": "scatter",
           "x": [
            4.5
           ],
           "y": [
            "AUT"
           ]
          },
          {
           "mode": "markers",
           "name": "BEL",
           "text": [
            "3.9"
           ],
           "type": "scatter",
           "x": [
            3.9
           ],
           "y": [
            "BEL"
           ]
          },
          {
           "mode": "markers",
           "name": "CAN",
           "text": [
            "5.3"
           ],
           "type": "scatter",
           "x": [
            5.3
           ],
           "y": [
            "CAN"
           ]
          },
          {
           "mode": "markers",
           "name": "CZE",
           "text": [
            "3.7"
           ],
           "type": "scatter",
           "x": [
            3.7
           ],
           "y": [
            "CZE"
           ]
          },
          {
           "mode": "markers",
           "name": "DNK",
           "text": [
            "4.4"
           ],
           "type": "scatter",
           "x": [
            4.4
           ],
           "y": [
            "DNK"
           ]
          },
          {
           "mode": "markers",
           "name": "FIN",
           "text": [
            "3.3"
           ],
           "type": "scatter",
           "x": [
            3.3
           ],
           "y": [
            "FIN"
           ]
          },
          {
           "mode": "markers",
           "name": "FRA",
           "text": [
            "4.0"
           ],
           "type": "scatter",
           "x": [
            4
           ],
           "y": [
            "FRA"
           ]
          },
          {
           "mode": "markers",
           "name": "DEU",
           "text": [
            "4.1"
           ],
           "type": "scatter",
           "x": [
            4.1
           ],
           "y": [
            "DEU"
           ]
          },
          {
           "mode": "markers",
           "name": "GRC",
           "text": [
            "4.1"
           ],
           "type": "scatter",
           "x": [
            4.1
           ],
           "y": [
            "GRC"
           ]
          },
          {
           "mode": "markers",
           "name": "HUN",
           "text": [
            "6.6"
           ],
           "type": "scatter",
           "x": [
            6.6
           ],
           "y": [
            "HUN"
           ]
          },
          {
           "mode": "markers",
           "name": "ISL",
           "text": [
            "2.8"
           ],
           "type": "scatter",
           "x": [
            2.8
           ],
           "y": [
            "ISL"
           ]
          },
          {
           "mode": "markers",
           "name": "IRL",
           "text": [
            "4.6"
           ],
           "type": "scatter",
           "x": [
            4.6
           ],
           "y": [
            "IRL"
           ]
          },
          {
           "mode": "markers",
           "name": "ITA",
           "text": [
            "3.4"
           ],
           "type": "scatter",
           "x": [
            3.4
           ],
           "y": [
            "ITA"
           ]
          },
          {
           "mode": "markers",
           "name": "JPN",
           "text": [
            "2.8"
           ],
           "type": "scatter",
           "x": [
            2.8
           ],
           "y": [
            "JPN"
           ]
          },
          {
           "mode": "markers",
           "name": "KOR",
           "text": [
            "0"
           ],
           "type": "scatter",
           "x": [
            0
           ],
           "y": [
            "KOR"
           ]
          },
          {
           "mode": "markers",
           "name": "LUX",
           "text": [
            "3.9"
           ],
           "type": "scatter",
           "x": [
            3.9
           ],
           "y": [
            "LUX"
           ]
          },
          {
           "mode": "markers",
           "name": "MEX",
           "text": [
            "17.6"
           ],
           "type": "scatter",
           "x": [
            17.6
           ],
           "y": [
            "MEX"
           ]
          },
          {
           "mode": "markers",
           "name": "NLD",
           "text": [
            "4.4"
           ],
           "type": "scatter",
           "x": [
            4.4
           ],
           "y": [
            "NLD"
           ]
          },
          {
           "mode": "markers",
           "name": "NZL",
           "text": [
            "5.9"
           ],
           "type": "scatter",
           "x": [
            5.9
           ],
           "y": [
            "NZL"
           ]
          },
          {
           "mode": "markers",
           "name": "NOR",
           "text": [
            "3.2"
           ],
           "type": "scatter",
           "x": [
            3.2
           ],
           "y": [
            "NOR"
           ]
          },
          {
           "mode": "markers",
           "name": "POL",
           "text": [
            "6.8"
           ],
           "type": "scatter",
           "x": [
            6.8
           ],
           "y": [
            "POL"
           ]
          },
          {
           "mode": "markers",
           "name": "PRT",
           "text": [
            "3.8"
           ],
           "type": "scatter",
           "x": [
            3.8
           ],
           "y": [
            "PRT"
           ]
          },
          {
           "mode": "markers",
           "name": "SVK",
           "text": [
            "6.8"
           ],
           "type": "scatter",
           "x": [
            6.8
           ],
           "y": [
            "SVK"
           ]
          },
          {
           "mode": "markers",
           "name": "ESP",
           "text": [
            "3.9"
           ],
           "type": "scatter",
           "x": [
            3.9
           ],
           "y": [
            "ESP"
           ]
          },
          {
           "mode": "markers",
           "name": "SWE",
           "text": [
            "3.1"
           ],
           "type": "scatter",
           "x": [
            3.1
           ],
           "y": [
            "SWE"
           ]
          },
          {
           "mode": "markers",
           "name": "CHE",
           "text": [
            "4.2"
           ],
           "type": "scatter",
           "x": [
            4.2
           ],
           "y": [
            "CHE"
           ]
          },
          {
           "mode": "markers",
           "name": "TUR",
           "text": [
            "27.4"
           ],
           "type": "scatter",
           "x": [
            27.4
           ],
           "y": [
            "TUR"
           ]
          },
          {
           "mode": "markers",
           "name": "GBR",
           "text": [
            "5.0"
           ],
           "type": "scatter",
           "x": [
            5
           ],
           "y": [
            "GBR"
           ]
          },
          {
           "mode": "markers",
           "name": "USA",
           "text": [
            "6.8"
           ],
           "type": "scatter",
           "x": [
            6.8
           ],
           "y": [
            "USA"
           ]
          },
          {
           "mode": "markers",
           "name": "BRA",
           "text": [
            "21.0"
           ],
           "type": "scatter",
           "x": [
            21
           ],
           "y": [
            "BRA"
           ]
          },
          {
           "mode": "markers",
           "name": "CHL",
           "text": [
            "8.4"
           ],
           "type": "scatter",
           "x": [
            8.4
           ],
           "y": [
            "CHL"
           ]
          },
          {
           "mode": "markers",
           "name": "CHN",
           "text": [
            "22.2"
           ],
           "type": "scatter",
           "x": [
            22.2
           ],
           "y": [
            "CHN"
           ]
          },
          {
           "mode": "markers",
           "name": "EST",
           "text": [
            "6.4"
           ],
           "type": "scatter",
           "x": [
            6.4
           ],
           "y": [
            "EST"
           ]
          },
          {
           "mode": "markers",
           "name": "IND",
           "text": [
            "57.8"
           ],
           "type": "scatter",
           "x": [
            57.8
           ],
           "y": [
            "IND"
           ]
          },
          {
           "mode": "markers",
           "name": "IDN",
           "text": [
            "36.0"
           ],
           "type": "scatter",
           "x": [
            36
           ],
           "y": [
            "IDN"
           ]
          },
          {
           "mode": "markers",
           "name": "ISR",
           "text": [
            "4.6"
           ],
           "type": "scatter",
           "x": [
            4.6
           ],
           "y": [
            "ISR"
           ]
          },
          {
           "mode": "markers",
           "name": "RUS",
           "text": [
            "11.6"
           ],
           "type": "scatter",
           "x": [
            11.6
           ],
           "y": [
            "RUS"
           ]
          },
          {
           "mode": "markers",
           "name": "SVN",
           "text": [
            "3.7"
           ],
           "type": "scatter",
           "x": [
            3.7
           ],
           "y": [
            "SVN"
           ]
          },
          {
           "mode": "markers",
           "name": "ZAF",
           "text": [
            "52.8"
           ],
           "type": "scatter",
           "x": [
            52.8
           ],
           "y": [
            "ZAF"
           ]
          },
          {
           "mode": "markers",
           "name": "COL",
           "text": [
            "21.3"
           ],
           "type": "scatter",
           "x": [
            21.3
           ],
           "y": [
            "COL"
           ]
          },
          {
           "mode": "markers",
           "name": "LVA",
           "text": [
            "9.3"
           ],
           "type": "scatter",
           "x": [
            9.3
           ],
           "y": [
            "LVA"
           ]
          },
          {
           "mode": "markers",
           "name": "LTU",
           "text": [
            "8.1"
           ],
           "type": "scatter",
           "x": [
            8.1
           ],
           "y": [
            "LTU"
           ]
          },
          {
           "mode": "markers",
           "name": "CRI",
           "text": [
            "9.2"
           ],
           "type": "scatter",
           "x": [
            9.2
           ],
           "y": [
            "CRI"
           ]
          }
         ],
         "name": "2004"
        },
        {
         "data": [
          {
           "mode": "markers",
           "name": "AUS",
           "text": [
            "4.9"
           ],
           "type": "scatter",
           "x": [
            4.9
           ],
           "y": [
            "AUS"
           ]
          },
          {
           "mode": "markers",
           "name": "AUT",
           "text": [
            "4.2"
           ],
           "type": "scatter",
           "x": [
            4.2
           ],
           "y": [
            "AUT"
           ]
          },
          {
           "mode": "markers",
           "name": "BEL",
           "text": [
            "3.7"
           ],
           "type": "scatter",
           "x": [
            3.7
           ],
           "y": [
            "BEL"
           ]
          },
          {
           "mode": "markers",
           "name": "CAN",
           "text": [
            "5.4"
           ],
           "type": "scatter",
           "x": [
            5.4
           ],
           "y": [
            "CAN"
           ]
          },
          {
           "mode": "markers",
           "name": "CZE",
           "text": [
            "3.4"
           ],
           "type": "scatter",
           "x": [
            3.4
           ],
           "y": [
            "CZE"
           ]
          },
          {
           "mode": "markers",
           "name": "DNK",
           "text": [
            "4.4"
           ],
           "type": "scatter",
           "x": [
            4.4
           ],
           "y": [
            "DNK"
           ]
          },
          {
           "mode": "markers",
           "name": "FIN",
           "text": [
            "3.0"
           ],
           "type": "scatter",
           "x": [
            3
           ],
           "y": [
            "FIN"
           ]
          },
          {
           "mode": "markers",
           "name": "FRA",
           "text": [
            "3.8"
           ],
           "type": "scatter",
           "x": [
            3.8
           ],
           "y": [
            "FRA"
           ]
          },
          {
           "mode": "markers",
           "name": "DEU",
           "text": [
            "3.9"
           ],
           "type": "scatter",
           "x": [
            3.9
           ],
           "y": [
            "DEU"
           ]
          },
          {
           "mode": "markers",
           "name": "GRC",
           "text": [
            "3.8"
           ],
           "type": "scatter",
           "x": [
            3.8
           ],
           "y": [
            "GRC"
           ]
          },
          {
           "mode": "markers",
           "name": "HUN",
           "text": [
            "6.2"
           ],
           "type": "scatter",
           "x": [
            6.2
           ],
           "y": [
            "HUN"
           ]
          },
          {
           "mode": "markers",
           "name": "ISL",
           "text": [
            "2.3"
           ],
           "type": "scatter",
           "x": [
            2.3
           ],
           "y": [
            "ISL"
           ]
          },
          {
           "mode": "markers",
           "name": "IRL",
           "text": [
            "3.8"
           ],
           "type": "scatter",
           "x": [
            3.8
           ],
           "y": [
            "IRL"
           ]
          },
          {
           "mode": "markers",
           "name": "ITA",
           "text": [
            "3.3"
           ],
           "type": "scatter",
           "x": [
            3.3
           ],
           "y": [
            "ITA"
           ]
          },
          {
           "mode": "markers",
           "name": "JPN",
           "text": [
            "2.8"
           ],
           "type": "scatter",
           "x": [
            2.8
           ],
           "y": [
            "JPN"
           ]
          },
          {
           "mode": "markers",
           "name": "KOR",
           "text": [
            "4.7"
           ],
           "type": "scatter",
           "x": [
            4.7
           ],
           "y": [
            "KOR"
           ]
          },
          {
           "mode": "markers",
           "name": "LUX",
           "text": [
            "2.6"
           ],
           "type": "scatter",
           "x": [
            2.6
           ],
           "y": [
            "LUX"
           ]
          },
          {
           "mode": "markers",
           "name": "MEX",
           "text": [
            "16.9"
           ],
           "type": "scatter",
           "x": [
            16.9
           ],
           "y": [
            "MEX"
           ]
          },
          {
           "mode": "markers",
           "name": "NLD",
           "text": [
            "4.9"
           ],
           "type": "scatter",
           "x": [
            4.9
           ],
           "y": [
            "NLD"
           ]
          },
          {
           "mode": "markers",
           "name": "NZL",
           "text": [
            "5.0"
           ],
           "type": "scatter",
           "x": [
            5
           ],
           "y": [
            "NZL"
           ]
          },
          {
           "mode": "markers",
           "name": "NOR",
           "text": [
            "3.1"
           ],
           "type": "scatter",
           "x": [
            3.1
           ],
           "y": [
            "NOR"
           ]
          },
          {
           "mode": "markers",
           "name": "POL",
           "text": [
            "6.4"
           ],
           "type": "scatter",
           "x": [
            6.4
           ],
           "y": [
            "POL"
           ]
          },
          {
           "mode": "markers",
           "name": "PRT",
           "text": [
            "3.5"
           ],
           "type": "scatter",
           "x": [
            3.5
           ],
           "y": [
            "PRT"
           ]
          },
          {
           "mode": "markers",
           "name": "SVK",
           "text": [
            "7.2"
           ],
           "type": "scatter",
           "x": [
            7.2
           ],
           "y": [
            "SVK"
           ]
          },
          {
           "mode": "markers",
           "name": "ESP",
           "text": [
            "3.7"
           ],
           "type": "scatter",
           "x": [
            3.7
           ],
           "y": [
            "ESP"
           ]
          },
          {
           "mode": "markers",
           "name": "SWE",
           "text": [
            "2.4"
           ],
           "type": "scatter",
           "x": [
            2.4
           ],
           "y": [
            "SWE"
           ]
          },
          {
           "mode": "markers",
           "name": "CHE",
           "text": [
            "4.2"
           ],
           "type": "scatter",
           "x": [
            4.2
           ],
           "y": [
            "CHE"
           ]
          },
          {
           "mode": "markers",
           "name": "TUR",
           "text": [
            "25.8"
           ],
           "type": "scatter",
           "x": [
            25.8
           ],
           "y": [
            "TUR"
           ]
          },
          {
           "mode": "markers",
           "name": "GBR",
           "text": [
            "5.1"
           ],
           "type": "scatter",
           "x": [
            5.1
           ],
           "y": [
            "GBR"
           ]
          },
          {
           "mode": "markers",
           "name": "USA",
           "text": [
            "6.9"
           ],
           "type": "scatter",
           "x": [
            6.9
           ],
           "y": [
            "USA"
           ]
          },
          {
           "mode": "markers",
           "name": "BRA",
           "text": [
            "19.5"
           ],
           "type": "scatter",
           "x": [
            19.5
           ],
           "y": [
            "BRA"
           ]
          },
          {
           "mode": "markers",
           "name": "CHL",
           "text": [
            "7.9"
           ],
           "type": "scatter",
           "x": [
            7.9
           ],
           "y": [
            "CHL"
           ]
          },
          {
           "mode": "markers",
           "name": "CHN",
           "text": [
            "20.3"
           ],
           "type": "scatter",
           "x": [
            20.3
           ],
           "y": [
            "CHN"
           ]
          },
          {
           "mode": "markers",
           "name": "EST",
           "text": [
            "5.4"
           ],
           "type": "scatter",
           "x": [
            5.4
           ],
           "y": [
            "EST"
           ]
          },
          {
           "mode": "markers",
           "name": "IND",
           "text": [
            "55.8"
           ],
           "type": "scatter",
           "x": [
            55.8
           ],
           "y": [
            "IND"
           ]
          },
          {
           "mode": "markers",
           "name": "IDN",
           "text": [
            "33.4"
           ],
           "type": "scatter",
           "x": [
            33.4
           ],
           "y": [
            "IDN"
           ]
          },
          {
           "mode": "markers",
           "name": "ISR",
           "text": [
            "4.4"
           ],
           "type": "scatter",
           "x": [
            4.4
           ],
           "y": [
            "ISR"
           ]
          },
          {
           "mode": "markers",
           "name": "RUS",
           "text": [
            "11.0"
           ],
           "type": "scatter",
           "x": [
            11
           ],
           "y": [
            "RUS"
           ]
          },
          {
           "mode": "markers",
           "name": "SVN",
           "text": [
            "4.1"
           ],
           "type": "scatter",
           "x": [
            4.1
           ],
           "y": [
            "SVN"
           ]
          },
          {
           "mode": "markers",
           "name": "ZAF",
           "text": [
            "51.5"
           ],
           "type": "scatter",
           "x": [
            51.5
           ],
           "y": [
            "ZAF"
           ]
          },
          {
           "mode": "markers",
           "name": "COL",
           "text": [
            "20.4"
           ],
           "type": "scatter",
           "x": [
            20.4
           ],
           "y": [
            "COL"
           ]
          },
          {
           "mode": "markers",
           "name": "LVA",
           "text": [
            "7.7"
           ],
           "type": "scatter",
           "x": [
            7.7
           ],
           "y": [
            "LVA"
           ]
          },
          {
           "mode": "markers",
           "name": "LTU",
           "text": [
            "7.1"
           ],
           "type": "scatter",
           "x": [
            7.1
           ],
           "y": [
            "LTU"
           ]
          },
          {
           "mode": "markers",
           "name": "CRI",
           "text": [
            "9.0"
           ],
           "type": "scatter",
           "x": [
            9
           ],
           "y": [
            "CRI"
           ]
          }
         ],
         "name": "2005"
        },
        {
         "data": [
          {
           "mode": "markers",
           "name": "AUS",
           "text": [
            "4.7"
           ],
           "type": "scatter",
           "x": [
            4.7
           ],
           "y": [
            "AUS"
           ]
          },
          {
           "mode": "markers",
           "name": "AUT",
           "text": [
            "3.6"
           ],
           "type": "scatter",
           "x": [
            3.6
           ],
           "y": [
            "AUT"
           ]
          },
          {
           "mode": "markers",
           "name": "BEL",
           "text": [
            "4.0"
           ],
           "type": "scatter",
           "x": [
            4
           ],
           "y": [
            "BEL"
           ]
          },
          {
           "mode": "markers",
           "name": "CAN",
           "text": [
            "5.0"
           ],
           "type": "scatter",
           "x": [
            5
           ],
           "y": [
            "CAN"
           ]
          },
          {
           "mode": "markers",
           "name": "CZE",
           "text": [
            "3.3"
           ],
           "type": "scatter",
           "x": [
            3.3
           ],
           "y": [
            "CZE"
           ]
          },
          {
           "mode": "markers",
           "name": "DNK",
           "text": [
            "3.5"
           ],
           "type": "scatter",
           "x": [
            3.5
           ],
           "y": [
            "DNK"
           ]
          },
          {
           "mode": "markers",
           "name": "FIN",
           "text": [
            "2.8"
           ],
           "type": "scatter",
           "x": [
            2.8
           ],
           "y": [
            "FIN"
           ]
          },
          {
           "mode": "markers",
           "name": "FRA",
           "text": [
            "3.8"
           ],
           "type": "scatter",
           "x": [
            3.8
           ],
           "y": [
            "FRA"
           ]
          },
          {
           "mode": "markers",
           "name": "DEU",
           "text": [
            "3.8"
           ],
           "type": "scatter",
           "x": [
            3.8
           ],
           "y": [
            "DEU"
           ]
          },
          {
           "mode": "markers",
           "name": "GRC",
           "text": [
            "3.7"
           ],
           "type": "scatter",
           "x": [
            3.7
           ],
           "y": [
            "GRC"
           ]
          },
          {
           "mode": "markers",
           "name": "HUN",
           "text": [
            "5.7"
           ],
           "type": "scatter",
           "x": [
            5.7
           ],
           "y": [
            "HUN"
           ]
          },
          {
           "mode": "markers",
           "name": "ISL",
           "text": [
            "1.4"
           ],
           "type": "scatter",
           "x": [
            1.4
           ],
           "y": [
            "ISL"
           ]
          },
          {
           "mode": "markers",
           "name": "IRL",
           "text": [
            "3.9"
           ],
           "type": "scatter",
           "x": [
            3.9
           ],
           "y": [
            "IRL"
           ]
          },
          {
           "mode": "markers",
           "name": "ITA",
           "text": [
            "3.2"
           ],
           "type": "scatter",
           "x": [
            3.2
           ],
           "y": [
            "ITA"
           ]
          },
          {
           "mode": "markers",
           "name": "JPN",
           "text": [
            "2.6"
           ],
           "type": "scatter",
           "x": [
            2.6
           ],
           "y": [
            "JPN"
           ]
          },
          {
           "mode": "markers",
           "name": "KOR",
           "text": [
            "4.1"
           ],
           "type": "scatter",
           "x": [
            4.1
           ],
           "y": [
            "KOR"
           ]
          },
          {
           "mode": "markers",
           "name": "LUX",
           "text": [
            "2.5"
           ],
           "type": "scatter",
           "x": [
            2.5
           ],
           "y": [
            "LUX"
           ]
          },
          {
           "mode": "markers",
           "name": "MEX",
           "text": [
            "16.3"
           ],
           "type": "scatter",
           "x": [
            16.3
           ],
           "y": [
            "MEX"
           ]
          },
          {
           "mode": "markers",
           "name": "NLD",
           "text": [
            "4.4"
           ],
           "type": "scatter",
           "x": [
            4.4
           ],
           "y": [
            "NLD"
           ]
          },
          {
           "mode": "markers",
           "name": "NZL",
           "text": [
            "5.1"
           ],
           "type": "scatter",
           "x": [
            5.1
           ],
           "y": [
            "NZL"
           ]
          },
          {
           "mode": "markers",
           "name": "NOR",
           "text": [
            "3.2"
           ],
           "type": "scatter",
           "x": [
            3.2
           ],
           "y": [
            "NOR"
           ]
          },
          {
           "mode": "markers",
           "name": "POL",
           "text": [
            "6.0"
           ],
           "type": "scatter",
           "x": [
            6
           ],
           "y": [
            "POL"
           ]
          },
          {
           "mode": "markers",
           "name": "PRT",
           "text": [
            "3.3"
           ],
           "type": "scatter",
           "x": [
            3.3
           ],
           "y": [
            "PRT"
           ]
          },
          {
           "mode": "markers",
           "name": "SVK",
           "text": [
            "6.6"
           ],
           "type": "scatter",
           "x": [
            6.6
           ],
           "y": [
            "SVK"
           ]
          },
          {
           "mode": "markers",
           "name": "ESP",
           "text": [
            "3.5"
           ],
           "type": "scatter",
           "x": [
            3.5
           ],
           "y": [
            "ESP"
           ]
          },
          {
           "mode": "markers",
           "name": "SWE",
           "text": [
            "2.8"
           ],
           "type": "scatter",
           "x": [
            2.8
           ],
           "y": [
            "SWE"
           ]
          },
          {
           "mode": "markers",
           "name": "CHE",
           "text": [
            "4.4"
           ],
           "type": "scatter",
           "x": [
            4.4
           ],
           "y": [
            "CHE"
           ]
          },
          {
           "mode": "markers",
           "name": "TUR",
           "text": [
            "24.5"
           ],
           "type": "scatter",
           "x": [
            24.5
           ],
           "y": [
            "TUR"
           ]
          },
          {
           "mode": "markers",
           "name": "GBR",
           "text": [
            "4.9"
           ],
           "type": "scatter",
           "x": [
            4.9
           ],
           "y": [
            "GBR"
           ]
          },
          {
           "mode": "markers",
           "name": "USA",
           "text": [
            "6.7"
           ],
           "type": "scatter",
           "x": [
            6.7
           ],
           "y": [
            "USA"
           ]
          },
          {
           "mode": "markers",
           "name": "BRA",
           "text": [
            "18.2"
           ],
           "type": "scatter",
           "x": [
            18.2
           ],
           "y": [
            "BRA"
           ]
          },
          {
           "mode": "markers",
           "name": "CHL",
           "text": [
            "7.6"
           ],
           "type": "scatter",
           "x": [
            7.6
           ],
           "y": [
            "CHL"
           ]
          },
          {
           "mode": "markers",
           "name": "CHN",
           "text": [
            "18.7"
           ],
           "type": "scatter",
           "x": [
            18.7
           ],
           "y": [
            "CHN"
           ]
          },
          {
           "mode": "markers",
           "name": "EST",
           "text": [
            "4.4"
           ],
           "type": "scatter",
           "x": [
            4.4
           ],
           "y": [
            "EST"
           ]
          },
          {
           "mode": "markers",
           "name": "IND",
           "text": [
            "53.9"
           ],
           "type": "scatter",
           "x": [
            53.9
           ],
           "y": [
            "IND"
           ]
          },
          {
           "mode": "markers",
           "name": "IDN",
           "text": [
            "32.1"
           ],
           "type": "scatter",
           "x": [
            32.1
           ],
           "y": [
            "IDN"
           ]
          },
          {
           "mode": "markers",
           "name": "ISR",
           "text": [
            "4.0"
           ],
           "type": "scatter",
           "x": [
            4
           ],
           "y": [
            "ISR"
           ]
          },
          {
           "mode": "markers",
           "name": "RUS",
           "text": [
            "10.2"
           ],
           "type": "scatter",
           "x": [
            10.2
           ],
           "y": [
            "RUS"
           ]
          },
          {
           "mode": "markers",
           "name": "SVN",
           "text": [
            "3.4"
           ],
           "type": "scatter",
           "x": [
            3.4
           ],
           "y": [
            "SVN"
           ]
          },
          {
           "mode": "markers",
           "name": "ZAF",
           "text": [
            "50.0"
           ],
           "type": "scatter",
           "x": [
            50
           ],
           "y": [
            "ZAF"
           ]
          },
          {
           "mode": "markers",
           "name": "COL",
           "text": [
            "20.0"
           ],
           "type": "scatter",
           "x": [
            20
           ],
           "y": [
            "COL"
           ]
          },
          {
           "mode": "markers",
           "name": "LVA",
           "text": [
            "7.4"
           ],
           "type": "scatter",
           "x": [
            7.4
           ],
           "y": [
            "LVA"
           ]
          },
          {
           "mode": "markers",
           "name": "LTU",
           "text": [
            "7.2"
           ],
           "type": "scatter",
           "x": [
            7.2
           ],
           "y": [
            "LTU"
           ]
          },
          {
           "mode": "markers",
           "name": "CRI",
           "text": [
            "8.9"
           ],
           "type": "scatter",
           "x": [
            8.9
           ],
           "y": [
            "CRI"
           ]
          }
         ],
         "name": "2006"
        },
        {
         "data": [
          {
           "mode": "markers",
           "name": "AUS",
           "text": [
            "4.1"
           ],
           "type": "scatter",
           "x": [
            4.1
           ],
           "y": [
            "AUS"
           ]
          },
          {
           "mode": "markers",
           "name": "AUT",
           "text": [
            "3.7"
           ],
           "type": "scatter",
           "x": [
            3.7
           ],
           "y": [
            "AUT"
           ]
          },
          {
           "mode": "markers",
           "name": "BEL",
           "text": [
            "3.9"
           ],
           "type": "scatter",
           "x": [
            3.9
           ],
           "y": [
            "BEL"
           ]
          },
          {
           "mode": "markers",
           "name": "CAN",
           "text": [
            "5.1"
           ],
           "type": "scatter",
           "x": [
            5.1
           ],
           "y": [
            "CAN"
           ]
          },
          {
           "mode": "markers",
           "name": "CZE",
           "text": [
            "3.1"
           ],
           "type": "scatter",
           "x": [
            3.1
           ],
           "y": [
            "CZE"
           ]
          },
          {
           "mode": "markers",
           "name": "DNK",
           "text": [
            "4.0"
           ],
           "type": "scatter",
           "x": [
            4
           ],
           "y": [
            "DNK"
           ]
          },
          {
           "mode": "markers",
           "name": "FIN",
           "text": [
            "2.7"
           ],
           "type": "scatter",
           "x": [
            2.7
           ],
           "y": [
            "FIN"
           ]
          },
          {
           "mode": "markers",
           "name": "FRA",
           "text": [
            "3.8"
           ],
           "type": "scatter",
           "x": [
            3.8
           ],
           "y": [
            "FRA"
           ]
          },
          {
           "mode": "markers",
           "name": "DEU",
           "text": [
            "3.9"
           ],
           "type": "scatter",
           "x": [
            3.9
           ],
           "y": [
            "DEU"
           ]
          },
          {
           "mode": "markers",
           "name": "GRC",
           "text": [
            "3.5"
           ],
           "type": "scatter",
           "x": [
            3.5
           ],
           "y": [
            "GRC"
           ]
          },
          {
           "mode": "markers",
           "name": "HUN",
           "text": [
            "5.9"
           ],
           "type": "scatter",
           "x": [
            5.9
           ],
           "y": [
            "HUN"
           ]
          },
          {
           "mode": "markers",
           "name": "ISL",
           "text": [
            "2.0"
           ],
           "type": "scatter",
           "x": [
            2
           ],
           "y": [
            "ISL"
           ]
          },
          {
           "mode": "markers",
           "name": "IRL",
           "text": [
            "3.2"
           ],
           "type": "scatter",
           "x": [
            3.2
           ],
           "y": [
            "IRL"
           ]
          },
          {
           "mode": "markers",
           "name": "ITA",
           "text": [
            "3.1"
           ],
           "type": "scatter",
           "x": [
            3.1
           ],
           "y": [
            "ITA"
           ]
          },
          {
           "mode": "markers",
           "name": "JPN",
           "text": [
            "2.6"
           ],
           "type": "scatter",
           "x": [
            2.6
           ],
           "y": [
            "JPN"
           ]
          },
          {
           "mode": "markers",
           "name": "KOR",
           "text": [
            "3.5"
           ],
           "type": "scatter",
           "x": [
            3.5
           ],
           "y": [
            "KOR"
           ]
          },
          {
           "mode": "markers",
           "name": "LUX",
           "text": [
            "1.8"
           ],
           "type": "scatter",
           "x": [
            1.8
           ],
           "y": [
            "LUX"
           ]
          },
          {
           "mode": "markers",
           "name": "MEX",
           "text": [
            "15.7"
           ],
           "type": "scatter",
           "x": [
            15.7
           ],
           "y": [
            "MEX"
           ]
          },
          {
           "mode": "markers",
           "name": "NLD",
           "text": [
            "4.1"
           ],
           "type": "scatter",
           "x": [
            4.1
           ],
           "y": [
            "NLD"
           ]
          },
          {
           "mode": "markers",
           "name": "NZL",
           "text": [
            "4.8"
           ],
           "type": "scatter",
           "x": [
            4.8
           ],
           "y": [
            "NZL"
           ]
          },
          {
           "mode": "markers",
           "name": "NOR",
           "text": [
            "3.1"
           ],
           "type": "scatter",
           "x": [
            3.1
           ],
           "y": [
            "NOR"
           ]
          },
          {
           "mode": "markers",
           "name": "POL",
           "text": [
            "6.0"
           ],
           "type": "scatter",
           "x": [
            6
           ],
           "y": [
            "POL"
           ]
          },
          {
           "mode": "markers",
           "name": "PRT",
           "text": [
            "3.4"
           ],
           "type": "scatter",
           "x": [
            3.4
           ],
           "y": [
            "PRT"
           ]
          },
          {
           "mode": "markers",
           "name": "SVK",
           "text": [
            "6.1"
           ],
           "type": "scatter",
           "x": [
            6.1
           ],
           "y": [
            "SVK"
           ]
          },
          {
           "mode": "markers",
           "name": "ESP",
           "text": [
            "3.4"
           ],
           "type": "scatter",
           "x": [
            3.4
           ],
           "y": [
            "ESP"
           ]
          },
          {
           "mode": "markers",
           "name": "SWE",
           "text": [
            "2.5"
           ],
           "type": "scatter",
           "x": [
            2.5
           ],
           "y": [
            "SWE"
           ]
          },
          {
           "mode": "markers",
           "name": "CHE",
           "text": [
            "3.9"
           ],
           "type": "scatter",
           "x": [
            3.9
           ],
           "y": [
            "CHE"
           ]
          },
          {
           "mode": "markers",
           "name": "TUR",
           "text": [
            "16.5"
           ],
           "type": "scatter",
           "x": [
            16.5
           ],
           "y": [
            "TUR"
           ]
          },
          {
           "mode": "markers",
           "name": "GBR",
           "text": [
            "4.7"
           ],
           "type": "scatter",
           "x": [
            4.7
           ],
           "y": [
            "GBR"
           ]
          },
          {
           "mode": "markers",
           "name": "USA",
           "text": [
            "6.8"
           ],
           "type": "scatter",
           "x": [
            6.8
           ],
           "y": [
            "USA"
           ]
          },
          {
           "mode": "markers",
           "name": "BRA",
           "text": [
            "17.1"
           ],
           "type": "scatter",
           "x": [
            17.1
           ],
           "y": [
            "BRA"
           ]
          },
          {
           "mode": "markers",
           "name": "CHL",
           "text": [
            "8.3"
           ],
           "type": "scatter",
           "x": [
            8.3
           ],
           "y": [
            "CHL"
           ]
          },
          {
           "mode": "markers",
           "name": "CHN",
           "text": [
            "17.2"
           ],
           "type": "scatter",
           "x": [
            17.2
           ],
           "y": [
            "CHN"
           ]
          },
          {
           "mode": "markers",
           "name": "EST",
           "text": [
            "5.0"
           ],
           "type": "scatter",
           "x": [
            5
           ],
           "y": [
            "EST"
           ]
          },
          {
           "mode": "markers",
           "name": "IND",
           "text": [
            "51.9"
           ],
           "type": "scatter",
           "x": [
            51.9
           ],
           "y": [
            "IND"
           ]
          },
          {
           "mode": "markers",
           "name": "IDN",
           "text": [
            "30.9"
           ],
           "type": "scatter",
           "x": [
            30.9
           ],
           "y": [
            "IDN"
           ]
          },
          {
           "mode": "markers",
           "name": "ISR",
           "text": [
            "3.9"
           ],
           "type": "scatter",
           "x": [
            3.9
           ],
           "y": [
            "ISR"
           ]
          },
          {
           "mode": "markers",
           "name": "RUS",
           "text": [
            "9.4"
           ],
           "type": "scatter",
           "x": [
            9.4
           ],
           "y": [
            "RUS"
           ]
          },
          {
           "mode": "markers",
           "name": "SVN",
           "text": [
            "2.8"
           ],
           "type": "scatter",
           "x": [
            2.8
           ],
           "y": [
            "SVN"
           ]
          },
          {
           "mode": "markers",
           "name": "ZAF",
           "text": [
            "48.6"
           ],
           "type": "scatter",
           "x": [
            48.6
           ],
           "y": [
            "ZAF"
           ]
          },
          {
           "mode": "markers",
           "name": "COL",
           "text": [
            "19.6"
           ],
           "type": "scatter",
           "x": [
            19.6
           ],
           "y": [
            "COL"
           ]
          },
          {
           "mode": "markers",
           "name": "LVA",
           "text": [
            "8.5"
           ],
           "type": "scatter",
           "x": [
            8.5
           ],
           "y": [
            "LVA"
           ]
          },
          {
           "mode": "markers",
           "name": "LTU",
           "text": [
            "6.3"
           ],
           "type": "scatter",
           "x": [
            6.3
           ],
           "y": [
            "LTU"
           ]
          },
          {
           "mode": "markers",
           "name": "CRI",
           "text": [
            "8.9"
           ],
           "type": "scatter",
           "x": [
            8.9
           ],
           "y": [
            "CRI"
           ]
          }
         ],
         "name": "2007"
        },
        {
         "data": [
          {
           "mode": "markers",
           "name": "AUS",
           "text": [
            "4.1"
           ],
           "type": "scatter",
           "x": [
            4.1
           ],
           "y": [
            "AUS"
           ]
          },
          {
           "mode": "markers",
           "name": "AUT",
           "text": [
            "3.7"
           ],
           "type": "scatter",
           "x": [
            3.7
           ],
           "y": [
            "AUT"
           ]
          },
          {
           "mode": "markers",
           "name": "BEL",
           "text": [
            "3.8"
           ],
           "type": "scatter",
           "x": [
            3.8
           ],
           "y": [
            "BEL"
           ]
          },
          {
           "mode": "markers",
           "name": "CAN",
           "text": [
            "5.1"
           ],
           "type": "scatter",
           "x": [
            5.1
           ],
           "y": [
            "CAN"
           ]
          },
          {
           "mode": "markers",
           "name": "CZE",
           "text": [
            "2.8"
           ],
           "type": "scatter",
           "x": [
            2.8
           ],
           "y": [
            "CZE"
           ]
          },
          {
           "mode": "markers",
           "name": "DNK",
           "text": [
            "4.0"
           ],
           "type": "scatter",
           "x": [
            4
           ],
           "y": [
            "DNK"
           ]
          },
          {
           "mode": "markers",
           "name": "FIN",
           "text": [
            "2.6"
           ],
           "type": "scatter",
           "x": [
            2.6
           ],
           "y": [
            "FIN"
           ]
          },
          {
           "mode": "markers",
           "name": "FRA",
           "text": [
            "3.8"
           ],
           "type": "scatter",
           "x": [
            3.8
           ],
           "y": [
            "FRA"
           ]
          },
          {
           "mode": "markers",
           "name": "DEU",
           "text": [
            "3.5"
           ],
           "type": "scatter",
           "x": [
            3.5
           ],
           "y": [
            "DEU"
           ]
          },
          {
           "mode": "markers",
           "name": "GRC",
           "text": [
            "2.7"
           ],
           "type": "scatter",
           "x": [
            2.7
           ],
           "y": [
            "GRC"
           ]
          },
          {
           "mode": "markers",
           "name": "HUN",
           "text": [
            "5.6"
           ],
           "type": "scatter",
           "x": [
            5.6
           ],
           "y": [
            "HUN"
           ]
          },
          {
           "mode": "markers",
           "name": "ISL",
           "text": [
            "2.5"
           ],
           "type": "scatter",
           "x": [
            2.5
           ],
           "y": [
            "ISL"
           ]
          },
          {
           "mode": "markers",
           "name": "IRL",
           "text": [
            "3.4"
           ],
           "type": "scatter",
           "x": [
            3.4
           ],
           "y": [
            "IRL"
           ]
          },
          {
           "mode": "markers",
           "name": "ITA",
           "text": [
            "3.1"
           ],
           "type": "scatter",
           "x": [
            3.1
           ],
           "y": [
            "ITA"
           ]
          },
          {
           "mode": "markers",
           "name": "JPN",
           "text": [
            "2.6"
           ],
           "type": "scatter",
           "x": [
            2.6
           ],
           "y": [
            "JPN"
           ]
          },
          {
           "mode": "markers",
           "name": "KOR",
           "text": [
            "3.4"
           ],
           "type": "scatter",
           "x": [
            3.4
           ],
           "y": [
            "KOR"
           ]
          },
          {
           "mode": "markers",
           "name": "LUX",
           "text": [
            "1.8"
           ],
           "type": "scatter",
           "x": [
            1.8
           ],
           "y": [
            "LUX"
           ]
          },
          {
           "mode": "markers",
           "name": "MEX",
           "text": [
            "15.1"
           ],
           "type": "scatter",
           "x": [
            15.1
           ],
           "y": [
            "MEX"
           ]
          },
          {
           "mode": "markers",
           "name": "NLD",
           "text": [
            "3.8"
           ],
           "type": "scatter",
           "x": [
            3.8
           ],
           "y": [
            "NLD"
           ]
          },
          {
           "mode": "markers",
           "name": "NZL",
           "text": [
            "5.0"
           ],
           "type": "scatter",
           "x": [
            5
           ],
           "y": [
            "NZL"
           ]
          },
          {
           "mode": "markers",
           "name": "NOR",
           "text": [
            "2.7"
           ],
           "type": "scatter",
           "x": [
            2.7
           ],
           "y": [
            "NOR"
           ]
          },
          {
           "mode": "markers",
           "name": "POL",
           "text": [
            "5.6"
           ],
           "type": "scatter",
           "x": [
            5.6
           ],
           "y": [
            "POL"
           ]
          },
          {
           "mode": "markers",
           "name": "PRT",
           "text": [
            "3.3"
           ],
           "type": "scatter",
           "x": [
            3.3
           ],
           "y": [
            "PRT"
           ]
          },
          {
           "mode": "markers",
           "name": "SVK",
           "text": [
            "5.9"
           ],
           "type": "scatter",
           "x": [
            5.9
           ],
           "y": [
            "SVK"
           ]
          },
          {
           "mode": "markers",
           "name": "ESP",
           "text": [
            "3.3"
           ],
           "type": "scatter",
           "x": [
            3.3
           ],
           "y": [
            "ESP"
           ]
          },
          {
           "mode": "markers",
           "name": "SWE",
           "text": [
            "2.5"
           ],
           "type": "scatter",
           "x": [
            2.5
           ],
           "y": [
            "SWE"
           ]
          },
          {
           "mode": "markers",
           "name": "CHE",
           "text": [
            "4.0"
           ],
           "type": "scatter",
           "x": [
            4
           ],
           "y": [
            "CHE"
           ]
          },
          {
           "mode": "markers",
           "name": "TUR",
           "text": [
            "15.7"
           ],
           "type": "scatter",
           "x": [
            15.7
           ],
           "y": [
            "TUR"
           ]
          },
          {
           "mode": "markers",
           "name": "GBR",
           "text": [
            "4.6"
           ],
           "type": "scatter",
           "x": [
            4.6
           ],
           "y": [
            "GBR"
           ]
          },
          {
           "mode": "markers",
           "name": "USA",
           "text": [
            "6.6"
           ],
           "type": "scatter",
           "x": [
            6.6
           ],
           "y": [
            "USA"
           ]
          },
          {
           "mode": "markers",
           "name": "BRA",
           "text": [
            "16.2"
           ],
           "type": "scatter",
           "x": [
            16.2
           ],
           "y": [
            "BRA"
           ]
          },
          {
           "mode": "markers",
           "name": "CHL",
           "text": [
            "7.8"
           ],
           "type": "scatter",
           "x": [
            7.8
           ],
           "y": [
            "CHL"
           ]
          },
          {
           "mode": "markers",
           "name": "CHN",
           "text": [
            "15.8"
           ],
           "type": "scatter",
           "x": [
            15.8
           ],
           "y": [
            "CHN"
           ]
          },
          {
           "mode": "markers",
           "name": "EST",
           "text": [
            "5.0"
           ],
           "type": "scatter",
           "x": [
            5
           ],
           "y": [
            "EST"
           ]
          },
          {
           "mode": "markers",
           "name": "IND",
           "text": [
            "50.0"
           ],
           "type": "scatter",
           "x": [
            50
           ],
           "y": [
            "IND"
           ]
          },
          {
           "mode": "markers",
           "name": "IDN",
           "text": [
            "29.7"
           ],
           "type": "scatter",
           "x": [
            29.7
           ],
           "y": [
            "IDN"
           ]
          },
          {
           "mode": "markers",
           "name": "ISR",
           "text": [
            "3.8"
           ],
           "type": "scatter",
           "x": [
            3.8
           ],
           "y": [
            "ISR"
           ]
          },
          {
           "mode": "markers",
           "name": "RUS",
           "text": [
            "8.5"
           ],
           "type": "scatter",
           "x": [
            8.5
           ],
           "y": [
            "RUS"
           ]
          },
          {
           "mode": "markers",
           "name": "SVN",
           "text": [
            "2.4"
           ],
           "type": "scatter",
           "x": [
            2.4
           ],
           "y": [
            "SVN"
           ]
          },
          {
           "mode": "markers",
           "name": "ZAF",
           "text": [
            "46.6"
           ],
           "type": "scatter",
           "x": [
            46.6
           ],
           "y": [
            "ZAF"
           ]
          },
          {
           "mode": "markers",
           "name": "COL",
           "text": [
            "19.2"
           ],
           "type": "scatter",
           "x": [
            19.2
           ],
           "y": [
            "COL"
           ]
          },
          {
           "mode": "markers",
           "name": "LVA",
           "text": [
            "6.6"
           ],
           "type": "scatter",
           "x": [
            6.6
           ],
           "y": [
            "LVA"
           ]
          },
          {
           "mode": "markers",
           "name": "LTU",
           "text": [
            "5.5"
           ],
           "type": "scatter",
           "x": [
            5.5
           ],
           "y": [
            "LTU"
           ]
          },
          {
           "mode": "markers",
           "name": "CRI",
           "text": [
            "8.9"
           ],
           "type": "scatter",
           "x": [
            8.9
           ],
           "y": [
            "CRI"
           ]
          }
         ],
         "name": "2008"
        },
        {
         "data": [
          {
           "mode": "markers",
           "name": "AUS",
           "text": [
            "4.2"
           ],
           "type": "scatter",
           "x": [
            4.2
           ],
           "y": [
            "AUS"
           ]
          },
          {
           "mode": "markers",
           "name": "AUT",
           "text": [
            "3.8"
           ],
           "type": "scatter",
           "x": [
            3.8
           ],
           "y": [
            "AUT"
           ]
          },
          {
           "mode": "markers",
           "name": "BEL",
           "text": [
            "3.5"
           ],
           "type": "scatter",
           "x": [
            3.5
           ],
           "y": [
            "BEL"
           ]
          },
          {
           "mode": "markers",
           "name": "CAN",
           "text": [
            "4.9"
           ],
           "type": "scatter",
           "x": [
            4.9
           ],
           "y": [
            "CAN"
           ]
          },
          {
           "mode": "markers",
           "name": "CZE",
           "text": [
            "2.9"
           ],
           "type": "scatter",
           "x": [
            2.9
           ],
           "y": [
            "CZE"
           ]
          },
          {
           "mode": "markers",
           "name": "DNK",
           "text": [
            "3.1"
           ],
           "type": "scatter",
           "x": [
            3.1
           ],
           "y": [
            "DNK"
           ]
          },
          {
           "mode": "markers",
           "name": "FIN",
           "text": [
            "2.6"
           ],
           "type": "scatter",
           "x": [
            2.6
           ],
           "y": [
            "FIN"
           ]
          },
          {
           "mode": "markers",
           "name": "FRA",
           "text": [
            "3.9"
           ],
           "type": "scatter",
           "x": [
            3.9
           ],
           "y": [
            "FRA"
           ]
          },
          {
           "mode": "markers",
           "name": "DEU",
           "text": [
            "3.5"
           ],
           "type": "scatter",
           "x": [
            3.5
           ],
           "y": [
            "DEU"
           ]
          },
          {
           "mode": "markers",
           "name": "GRC",
           "text": [
            "3.1"
           ],
           "type": "scatter",
           "x": [
            3.1
           ],
           "y": [
            "GRC"
           ]
          },
          {
           "mode": "markers",
           "name": "HUN",
           "text": [
            "5.1"
           ],
           "type": "scatter",
           "x": [
            5.1
           ],
           "y": [
            "HUN"
           ]
          },
          {
           "mode": "markers",
           "name": "ISL",
           "text": [
            "1.8"
           ],
           "type": "scatter",
           "x": [
            1.8
           ],
           "y": [
            "ISL"
           ]
          },
          {
           "mode": "markers",
           "name": "IRL",
           "text": [
            "3.3"
           ],
           "type": "scatter",
           "x": [
            3.3
           ],
           "y": [
            "IRL"
           ]
          },
          {
           "mode": "markers",
           "name": "ITA",
           "text": [
            "3.2"
           ],
           "type": "scatter",
           "x": [
            3.2
           ],
           "y": [
            "ITA"
           ]
          },
          {
           "mode": "markers",
           "name": "JPN",
           "text": [
            "2.4"
           ],
           "type": "scatter",
           "x": [
            2.4
           ],
           "y": [
            "JPN"
           ]
          },
          {
           "mode": "markers",
           "name": "KOR",
           "text": [
            "3.2"
           ],
           "type": "scatter",
           "x": [
            3.2
           ],
           "y": [
            "KOR"
           ]
          },
          {
           "mode": "markers",
           "name": "LUX",
           "text": [
            "2.5"
           ],
           "type": "scatter",
           "x": [
            2.5
           ],
           "y": [
            "LUX"
           ]
          },
          {
           "mode": "markers",
           "name": "MEX",
           "text": [
            "14.6"
           ],
           "type": "scatter",
           "x": [
            14.6
           ],
           "y": [
            "MEX"
           ]
          },
          {
           "mode": "markers",
           "name": "NLD",
           "text": [
            "3.8"
           ],
           "type": "scatter",
           "x": [
            3.8
           ],
           "y": [
            "NLD"
           ]
          },
          {
           "mode": "markers",
           "name": "NZL",
           "text": [
            "5.2"
           ],
           "type": "scatter",
           "x": [
            5.2
           ],
           "y": [
            "NZL"
           ]
          },
          {
           "mode": "markers",
           "name": "NOR",
           "text": [
            "3.1"
           ],
           "type": "scatter",
           "x": [
            3.1
           ],
           "y": [
            "NOR"
           ]
          },
          {
           "mode": "markers",
           "name": "POL",
           "text": [
            "5.6"
           ],
           "type": "scatter",
           "x": [
            5.6
           ],
           "y": [
            "POL"
           ]
          },
          {
           "mode": "markers",
           "name": "PRT",
           "text": [
            "3.6"
           ],
           "type": "scatter",
           "x": [
            3.6
           ],
           "y": [
            "PRT"
           ]
          },
          {
           "mode": "markers",
           "name": "SVK",
           "text": [
            "5.7"
           ],
           "type": "scatter",
           "x": [
            5.7
           ],
           "y": [
            "SVK"
           ]
          },
          {
           "mode": "markers",
           "name": "ESP",
           "text": [
            "3.2"
           ],
           "type": "scatter",
           "x": [
            3.2
           ],
           "y": [
            "ESP"
           ]
          },
          {
           "mode": "markers",
           "name": "SWE",
           "text": [
            "2.5"
           ],
           "type": "scatter",
           "x": [
            2.5
           ],
           "y": [
            "SWE"
           ]
          },
          {
           "mode": "markers",
           "name": "CHE",
           "text": [
            "4.3"
           ],
           "type": "scatter",
           "x": [
            4.3
           ],
           "y": [
            "CHE"
           ]
          },
          {
           "mode": "markers",
           "name": "TUR",
           "text": [
            "13.9"
           ],
           "type": "scatter",
           "x": [
            13.9
           ],
           "y": [
            "TUR"
           ]
          },
          {
           "mode": "markers",
           "name": "GBR",
           "text": [
            "4.5"
           ],
           "type": "scatter",
           "x": [
            4.5
           ],
           "y": [
            "GBR"
           ]
          },
          {
           "mode": "markers",
           "name": "USA",
           "text": [
            "6.4"
           ],
           "type": "scatter",
           "x": [
            6.4
           ],
           "y": [
            "USA"
           ]
          },
          {
           "mode": "markers",
           "name": "BRA",
           "text": [
            "15.4"
           ],
           "type": "scatter",
           "x": [
            15.4
           ],
           "y": [
            "BRA"
           ]
          },
          {
           "mode": "markers",
           "name": "CHL",
           "text": [
            "7.9"
           ],
           "type": "scatter",
           "x": [
            7.9
           ],
           "y": [
            "CHL"
           ]
          },
          {
           "mode": "markers",
           "name": "CHN",
           "text": [
            "14.6"
           ],
           "type": "scatter",
           "x": [
            14.6
           ],
           "y": [
            "CHN"
           ]
          },
          {
           "mode": "markers",
           "name": "EST",
           "text": [
            "3.6"
           ],
           "type": "scatter",
           "x": [
            3.6
           ],
           "y": [
            "EST"
           ]
          },
          {
           "mode": "markers",
           "name": "IND",
           "text": [
            "48.2"
           ],
           "type": "scatter",
           "x": [
            48.2
           ],
           "y": [
            "IND"
           ]
          },
          {
           "mode": "markers",
           "name": "IDN",
           "text": [
            "28.5"
           ],
           "type": "scatter",
           "x": [
            28.5
           ],
           "y": [
            "IDN"
           ]
          },
          {
           "mode": "markers",
           "name": "ISR",
           "text": [
            "3.8"
           ],
           "type": "scatter",
           "x": [
            3.8
           ],
           "y": [
            "ISR"
           ]
          },
          {
           "mode": "markers",
           "name": "RUS",
           "text": [
            "8.1"
           ],
           "type": "scatter",
           "x": [
            8.1
           ],
           "y": [
            "RUS"
           ]
          },
          {
           "mode": "markers",
           "name": "SVN",
           "text": [
            "2.4"
           ],
           "type": "scatter",
           "x": [
            2.4
           ],
           "y": [
            "SVN"
           ]
          },
          {
           "mode": "markers",
           "name": "ZAF",
           "text": [
            "41.1"
           ],
           "type": "scatter",
           "x": [
            41.1
           ],
           "y": [
            "ZAF"
           ]
          },
          {
           "mode": "markers",
           "name": "COL",
           "text": [
            "18.8"
           ],
           "type": "scatter",
           "x": [
            18.8
           ],
           "y": [
            "COL"
           ]
          },
          {
           "mode": "markers",
           "name": "LVA",
           "text": [
            "7.6"
           ],
           "type": "scatter",
           "x": [
            7.6
           ],
           "y": [
            "LVA"
           ]
          },
          {
           "mode": "markers",
           "name": "LTU",
           "text": [
            "5.6"
           ],
           "type": "scatter",
           "x": [
            5.6
           ],
           "y": [
            "LTU"
           ]
          },
          {
           "mode": "markers",
           "name": "CRI",
           "text": [
            "8.9"
           ],
           "type": "scatter",
           "x": [
            8.9
           ],
           "y": [
            "CRI"
           ]
          }
         ],
         "name": "2009"
        },
        {
         "data": [
          {
           "mode": "markers",
           "name": "AUS",
           "text": [
            "4.1"
           ],
           "type": "scatter",
           "x": [
            4.1
           ],
           "y": [
            "AUS"
           ]
          },
          {
           "mode": "markers",
           "name": "AUT",
           "text": [
            "3.9"
           ],
           "type": "scatter",
           "x": [
            3.9
           ],
           "y": [
            "AUT"
           ]
          },
          {
           "mode": "markers",
           "name": "BEL",
           "text": [
            "3.6"
           ],
           "type": "scatter",
           "x": [
            3.6
           ],
           "y": [
            "BEL"
           ]
          },
          {
           "mode": "markers",
           "name": "CAN",
           "text": [
            "5.0"
           ],
           "type": "scatter",
           "x": [
            5
           ],
           "y": [
            "CAN"
           ]
          },
          {
           "mode": "markers",
           "name": "CZE",
           "text": [
            "2.7"
           ],
           "type": "scatter",
           "x": [
            2.7
           ],
           "y": [
            "CZE"
           ]
          },
          {
           "mode": "markers",
           "name": "DNK",
           "text": [
            "3.4"
           ],
           "type": "scatter",
           "x": [
            3.4
           ],
           "y": [
            "DNK"
           ]
          },
          {
           "mode": "markers",
           "name": "FIN",
           "text": [
            "2.3"
           ],
           "type": "scatter",
           "x": [
            2.3
           ],
           "y": [
            "FIN"
           ]
          },
          {
           "mode": "markers",
           "name": "FRA",
           "text": [
            "3.6"
           ],
           "type": "scatter",
           "x": [
            3.6
           ],
           "y": [
            "FRA"
           ]
          },
          {
           "mode": "markers",
           "name": "DEU",
           "text": [
            "3.4"
           ],
           "type": "scatter",
           "x": [
            3.4
           ],
           "y": [
            "DEU"
           ]
          },
          {
           "mode": "markers",
           "name": "GRC",
           "text": [
            "3.8"
           ],
           "type": "scatter",
           "x": [
            3.8
           ],
           "y": [
            "GRC"
           ]
          },
          {
           "mode": "markers",
           "name": "HUN",
           "text": [
            "5.3"
           ],
           "type": "scatter",
           "x": [
            5.3
           ],
           "y": [
            "HUN"
           ]
          },
          {
           "mode": "markers",
           "name": "ISL",
           "text": [
            "2.2"
           ],
           "type": "scatter",
           "x": [
            2.2
           ],
           "y": [
            "ISL"
           ]
          },
          {
           "mode": "markers",
           "name": "IRL",
           "text": [
            "3.6"
           ],
           "type": "scatter",
           "x": [
            3.6
           ],
           "y": [
            "IRL"
           ]
          },
          {
           "mode": "markers",
           "name": "ITA",
           "text": [
            "3.0"
           ],
           "type": "scatter",
           "x": [
            3
           ],
           "y": [
            "ITA"
           ]
          },
          {
           "mode": "markers",
           "name": "JPN",
           "text": [
            "2.3"
           ],
           "type": "scatter",
           "x": [
            2.3
           ],
           "y": [
            "JPN"
           ]
          },
          {
           "mode": "markers",
           "name": "KOR",
           "text": [
            "3.2"
           ],
           "type": "scatter",
           "x": [
            3.2
           ],
           "y": [
            "KOR"
           ]
          },
          {
           "mode": "markers",
           "name": "LUX",
           "text": [
            "3.4"
           ],
           "type": "scatter",
           "x": [
            3.4
           ],
           "y": [
            "LUX"
           ]
          },
          {
           "mode": "markers",
           "name": "MEX",
           "text": [
            "14.1"
           ],
           "type": "scatter",
           "x": [
            14.1
           ],
           "y": [
            "MEX"
           ]
          },
          {
           "mode": "markers",
           "name": "NLD",
           "text": [
            "3.8"
           ],
           "type": "scatter",
           "x": [
            3.8
           ],
           "y": [
            "NLD"
           ]
          },
          {
           "mode": "markers",
           "name": "NZL",
           "text": [
            "5.5"
           ],
           "type": "scatter",
           "x": [
            5.5
           ],
           "y": [
            "NZL"
           ]
          },
          {
           "mode": "markers",
           "name": "NOR",
           "text": [
            "2.8"
           ],
           "type": "scatter",
           "x": [
            2.8
           ],
           "y": [
            "NOR"
           ]
          },
          {
           "mode": "markers",
           "name": "POL",
           "text": [
            "5.0"
           ],
           "type": "scatter",
           "x": [
            5
           ],
           "y": [
            "POL"
           ]
          },
          {
           "mode": "markers",
           "name": "PRT",
           "text": [
            "2.5"
           ],
           "type": "scatter",
           "x": [
            2.5
           ],
           "y": [
            "PRT"
           ]
          },
          {
           "mode": "markers",
           "name": "SVK",
           "text": [
            "5.7"
           ],
           "type": "scatter",
           "x": [
            5.7
           ],
           "y": [
            "SVK"
           ]
          },
          {
           "mode": "markers",
           "name": "ESP",
           "text": [
            "3.2"
           ],
           "type": "scatter",
           "x": [
            3.2
           ],
           "y": [
            "ESP"
           ]
          },
          {
           "mode": "markers",
           "name": "SWE",
           "text": [
            "2.5"
           ],
           "type": "scatter",
           "x": [
            2.5
           ],
           "y": [
            "SWE"
           ]
          },
          {
           "mode": "markers",
           "name": "CHE",
           "text": [
            "3.8"
           ],
           "type": "scatter",
           "x": [
            3.8
           ],
           "y": [
            "CHE"
           ]
          },
          {
           "mode": "markers",
           "name": "TUR",
           "text": [
            "12.0"
           ],
           "type": "scatter",
           "x": [
            12
           ],
           "y": [
            "TUR"
           ]
          },
          {
           "mode": "markers",
           "name": "GBR",
           "text": [
            "4.2"
           ],
           "type": "scatter",
           "x": [
            4.2
           ],
           "y": [
            "GBR"
           ]
          },
          {
           "mode": "markers",
           "name": "USA",
           "text": [
            "6.1"
           ],
           "type": "scatter",
           "x": [
            6.1
           ],
           "y": [
            "USA"
           ]
          },
          {
           "mode": "markers",
           "name": "BRA",
           "text": [
            "14.8"
           ],
           "type": "scatter",
           "x": [
            14.8
           ],
           "y": [
            "BRA"
           ]
          },
          {
           "mode": "markers",
           "name": "CHL",
           "text": [
            "7.4"
           ],
           "type": "scatter",
           "x": [
            7.4
           ],
           "y": [
            "CHL"
           ]
          },
          {
           "mode": "markers",
           "name": "CHN",
           "text": [
            "13.5"
           ],
           "type": "scatter",
           "x": [
            13.5
           ],
           "y": [
            "CHN"
           ]
          },
          {
           "mode": "markers",
           "name": "EST",
           "text": [
            "3.3"
           ],
           "type": "scatter",
           "x": [
            3.3
           ],
           "y": [
            "EST"
           ]
          },
          {
           "mode": "markers",
           "name": "IND",
           "text": [
            "46.3"
           ],
           "type": "scatter",
           "x": [
            46.3
           ],
           "y": [
            "IND"
           ]
          },
          {
           "mode": "markers",
           "name": "IDN",
           "text": [
            "27.4"
           ],
           "type": "scatter",
           "x": [
            27.4
           ],
           "y": [
            "IDN"
           ]
          },
          {
           "mode": "markers",
           "name": "ISR",
           "text": [
            "3.7"
           ],
           "type": "scatter",
           "x": [
            3.7
           ],
           "y": [
            "ISR"
           ]
          },
          {
           "mode": "markers",
           "name": "RUS",
           "text": [
            "7.5"
           ],
           "type": "scatter",
           "x": [
            7.5
           ],
           "y": [
            "RUS"
           ]
          },
          {
           "mode": "markers",
           "name": "SVN",
           "text": [
            "2.5"
           ],
           "type": "scatter",
           "x": [
            2.5
           ],
           "y": [
            "SVN"
           ]
          },
          {
           "mode": "markers",
           "name": "ZAF",
           "text": [
            "38.2"
           ],
           "type": "scatter",
           "x": [
            38.2
           ],
           "y": [
            "ZAF"
           ]
          },
          {
           "mode": "markers",
           "name": "COL",
           "text": [
            "18.4"
           ],
           "type": "scatter",
           "x": [
            18.4
           ],
           "y": [
            "COL"
           ]
          },
          {
           "mode": "markers",
           "name": "LVA",
           "text": [
            "5.6"
           ],
           "type": "scatter",
           "x": [
            5.6
           ],
           "y": [
            "LVA"
           ]
          },
          {
           "mode": "markers",
           "name": "LTU",
           "text": [
            "5.0"
           ],
           "type": "scatter",
           "x": [
            5
           ],
           "y": [
            "LTU"
           ]
          },
          {
           "mode": "markers",
           "name": "CRI",
           "text": [
            "8.9"
           ],
           "type": "scatter",
           "x": [
            8.9
           ],
           "y": [
            "CRI"
           ]
          }
         ],
         "name": "2010"
        },
        {
         "data": [
          {
           "mode": "markers",
           "name": "AUS",
           "text": [
            "3.8"
           ],
           "type": "scatter",
           "x": [
            3.8
           ],
           "y": [
            "AUS"
           ]
          },
          {
           "mode": "markers",
           "name": "AUT",
           "text": [
            "3.6"
           ],
           "type": "scatter",
           "x": [
            3.6
           ],
           "y": [
            "AUT"
           ]
          },
          {
           "mode": "markers",
           "name": "BEL",
           "text": [
            "3.4"
           ],
           "type": "scatter",
           "x": [
            3.4
           ],
           "y": [
            "BEL"
           ]
          },
          {
           "mode": "markers",
           "name": "CAN",
           "text": [
            "4.9"
           ],
           "type": "scatter",
           "x": [
            4.9
           ],
           "y": [
            "CAN"
           ]
          },
          {
           "mode": "markers",
           "name": "CZE",
           "text": [
            "2.7"
           ],
           "type": "scatter",
           "x": [
            2.7
           ],
           "y": [
            "CZE"
           ]
          },
          {
           "mode": "markers",
           "name": "DNK",
           "text": [
            "3.5"
           ],
           "type": "scatter",
           "x": [
            3.5
           ],
           "y": [
            "DNK"
           ]
          },
          {
           "mode": "markers",
           "name": "FIN",
           "text": [
            "2.4"
           ],
           "type": "scatter",
           "x": [
            2.4
           ],
           "y": [
            "FIN"
           ]
          },
          {
           "mode": "markers",
           "name": "FRA",
           "text": [
            "3.5"
           ],
           "type": "scatter",
           "x": [
            3.5
           ],
           "y": [
            "FRA"
           ]
          },
          {
           "mode": "markers",
           "name": "DEU",
           "text": [
            "3.6"
           ],
           "type": "scatter",
           "x": [
            3.6
           ],
           "y": [
            "DEU"
           ]
          },
          {
           "mode": "markers",
           "name": "GRC",
           "text": [
            "3.4"
           ],
           "type": "scatter",
           "x": [
            3.4
           ],
           "y": [
            "GRC"
           ]
          },
          {
           "mode": "markers",
           "name": "HUN",
           "text": [
            "4.9"
           ],
           "type": "scatter",
           "x": [
            4.9
           ],
           "y": [
            "HUN"
           ]
          },
          {
           "mode": "markers",
           "name": "ISL",
           "text": [
            "0.9"
           ],
           "type": "scatter",
           "x": [
            0.9
           ],
           "y": [
            "ISL"
           ]
          },
          {
           "mode": "markers",
           "name": "IRL",
           "text": [
            "3.5"
           ],
           "type": "scatter",
           "x": [
            3.5
           ],
           "y": [
            "IRL"
           ]
          },
          {
           "mode": "markers",
           "name": "ITA",
           "text": [
            "2.9"
           ],
           "type": "scatter",
           "x": [
            2.9
           ],
           "y": [
            "ITA"
           ]
          },
          {
           "mode": "markers",
           "name": "JPN",
           "text": [
            "2.3"
           ],
           "type": "scatter",
           "x": [
            2.3
           ],
           "y": [
            "JPN"
           ]
          },
          {
           "mode": "markers",
           "name": "KOR",
           "text": [
            "3.0"
           ],
           "type": "scatter",
           "x": [
            3
           ],
           "y": [
            "KOR"
           ]
          },
          {
           "mode": "markers",
           "name": "LUX",
           "text": [
            "4.3"
           ],
           "type": "scatter",
           "x": [
            4.3
           ],
           "y": [
            "LUX"
           ]
          },
          {
           "mode": "markers",
           "name": "MEX",
           "text": [
            "13.7"
           ],
           "type": "scatter",
           "x": [
            13.7
           ],
           "y": [
            "MEX"
           ]
          },
          {
           "mode": "markers",
           "name": "NLD",
           "text": [
            "3.6"
           ],
           "type": "scatter",
           "x": [
            3.6
           ],
           "y": [
            "NLD"
           ]
          },
          {
           "mode": "markers",
           "name": "NZL",
           "text": [
            "5.2"
           ],
           "type": "scatter",
           "x": [
            5.2
           ],
           "y": [
            "NZL"
           ]
          },
          {
           "mode": "markers",
           "name": "NOR",
           "text": [
            "2.4"
           ],
           "type": "scatter",
           "x": [
            2.4
           ],
           "y": [
            "NOR"
           ]
          },
          {
           "mode": "markers",
           "name": "POL",
           "text": [
            "4.7"
           ],
           "type": "scatter",
           "x": [
            4.7
           ],
           "y": [
            "POL"
           ]
          },
          {
           "mode": "markers",
           "name": "PRT",
           "text": [
            "3.1"
           ],
           "type": "scatter",
           "x": [
            3.1
           ],
           "y": [
            "PRT"
           ]
          },
          {
           "mode": "markers",
           "name": "SVK",
           "text": [
            "4.9"
           ],
           "type": "scatter",
           "x": [
            4.9
           ],
           "y": [
            "SVK"
           ]
          },
          {
           "mode": "markers",
           "name": "ESP",
           "text": [
            "3.1"
           ],
           "type": "scatter",
           "x": [
            3.1
           ],
           "y": [
            "ESP"
           ]
          },
          {
           "mode": "markers",
           "name": "SWE",
           "text": [
            "2.1"
           ],
           "type": "scatter",
           "x": [
            2.1
           ],
           "y": [
            "SWE"
           ]
          },
          {
           "mode": "markers",
           "name": "CHE",
           "text": [
            "3.8"
           ],
           "type": "scatter",
           "x": [
            3.8
           ],
           "y": [
            "CHE"
           ]
          },
          {
           "mode": "markers",
           "name": "TUR",
           "text": [
            "11.6"
           ],
           "type": "scatter",
           "x": [
            11.6
           ],
           "y": [
            "TUR"
           ]
          },
          {
           "mode": "markers",
           "name": "GBR",
           "text": [
            "4.2"
           ],
           "type": "scatter",
           "x": [
            4.2
           ],
           "y": [
            "GBR"
           ]
          },
          {
           "mode": "markers",
           "name": "USA",
           "text": [
            "6.1"
           ],
           "type": "scatter",
           "x": [
            6.1
           ],
           "y": [
            "USA"
           ]
          },
          {
           "mode": "markers",
           "name": "BRA",
           "text": [
            "14.4"
           ],
           "type": "scatter",
           "x": [
            14.4
           ],
           "y": [
            "BRA"
           ]
          },
          {
           "mode": "markers",
           "name": "CHL",
           "text": [
            "7.7"
           ],
           "type": "scatter",
           "x": [
            7.7
           ],
           "y": [
            "CHL"
           ]
          },
          {
           "mode": "markers",
           "name": "CHN",
           "text": [
            "12.5"
           ],
           "type": "scatter",
           "x": [
            12.5
           ],
           "y": [
            "CHN"
           ]
          },
          {
           "mode": "markers",
           "name": "EST",
           "text": [
            "2.5"
           ],
           "type": "scatter",
           "x": [
            2.5
           ],
           "y": [
            "EST"
           ]
          },
          {
           "mode": "markers",
           "name": "IND",
           "text": [
            "44.4"
           ],
           "type": "scatter",
           "x": [
            44.4
           ],
           "y": [
            "IND"
           ]
          },
          {
           "mode": "markers",
           "name": "IDN",
           "text": [
            "26.3"
           ],
           "type": "scatter",
           "x": [
            26.3
           ],
           "y": [
            "IDN"
           ]
          },
          {
           "mode": "markers",
           "name": "ISR",
           "text": [
            "3.5"
           ],
           "type": "scatter",
           "x": [
            3.5
           ],
           "y": [
            "ISR"
           ]
          },
          {
           "mode": "markers",
           "name": "RUS",
           "text": [
            "7.4"
           ],
           "type": "scatter",
           "x": [
            7.4
           ],
           "y": [
            "RUS"
           ]
          },
          {
           "mode": "markers",
           "name": "SVN",
           "text": [
            "2.9"
           ],
           "type": "scatter",
           "x": [
            2.9
           ],
           "y": [
            "SVN"
           ]
          },
          {
           "mode": "markers",
           "name": "ZAF",
           "text": [
            "37.1"
           ],
           "type": "scatter",
           "x": [
            37.1
           ],
           "y": [
            "ZAF"
           ]
          },
          {
           "mode": "markers",
           "name": "COL",
           "text": [
            "17.8"
           ],
           "type": "scatter",
           "x": [
            17.8
           ],
           "y": [
            "COL"
           ]
          },
          {
           "mode": "markers",
           "name": "LVA",
           "text": [
            "6.6"
           ],
           "type": "scatter",
           "x": [
            6.6
           ],
           "y": [
            "LVA"
           ]
          },
          {
           "mode": "markers",
           "name": "LTU",
           "text": [
            "4.8"
           ],
           "type": "scatter",
           "x": [
            4.8
           ],
           "y": [
            "LTU"
           ]
          },
          {
           "mode": "markers",
           "name": "CRI",
           "text": [
            "8.8"
           ],
           "type": "scatter",
           "x": [
            8.8
           ],
           "y": [
            "CRI"
           ]
          }
         ],
         "name": "2011"
        },
        {
         "data": [
          {
           "mode": "markers",
           "name": "AUS",
           "text": [
            "3.3"
           ],
           "type": "scatter",
           "x": [
            3.3
           ],
           "y": [
            "AUS"
           ]
          },
          {
           "mode": "markers",
           "name": "AUT",
           "text": [
            "3.2"
           ],
           "type": "scatter",
           "x": [
            3.2
           ],
           "y": [
            "AUT"
           ]
          },
          {
           "mode": "markers",
           "name": "BEL",
           "text": [
            "3.8"
           ],
           "type": "scatter",
           "x": [
            3.8
           ],
           "y": [
            "BEL"
           ]
          },
          {
           "mode": "markers",
           "name": "CAN",
           "text": [
            "4.8"
           ],
           "type": "scatter",
           "x": [
            4.8
           ],
           "y": [
            "CAN"
           ]
          },
          {
           "mode": "markers",
           "name": "CZE",
           "text": [
            "2.6"
           ],
           "type": "scatter",
           "x": [
            2.6
           ],
           "y": [
            "CZE"
           ]
          },
          {
           "mode": "markers",
           "name": "DNK",
           "text": [
            "3.4"
           ],
           "type": "scatter",
           "x": [
            3.4
           ],
           "y": [
            "DNK"
           ]
          },
          {
           "mode": "markers",
           "name": "FIN",
           "text": [
            "2.4"
           ],
           "type": "scatter",
           "x": [
            2.4
           ],
           "y": [
            "FIN"
           ]
          },
          {
           "mode": "markers",
           "name": "FRA",
           "text": [
            "3.5"
           ],
           "type": "scatter",
           "x": [
            3.5
           ],
           "y": [
            "FRA"
           ]
          },
          {
           "mode": "markers",
           "name": "DEU",
           "text": [
            "3.3"
           ],
           "type": "scatter",
           "x": [
            3.3
           ],
           "y": [
            "DEU"
           ]
          },
          {
           "mode": "markers",
           "name": "GRC",
           "text": [
            "2.9"
           ],
           "type": "scatter",
           "x": [
            2.9
           ],
           "y": [
            "GRC"
           ]
          },
          {
           "mode": "markers",
           "name": "HUN",
           "text": [
            "4.9"
           ],
           "type": "scatter",
           "x": [
            4.9
           ],
           "y": [
            "HUN"
           ]
          },
          {
           "mode": "markers",
           "name": "ISL",
           "text": [
            "1.1"
           ],
           "type": "scatter",
           "x": [
            1.1
           ],
           "y": [
            "ISL"
           ]
          },
          {
           "mode": "markers",
           "name": "IRL",
           "text": [
            "3.5"
           ],
           "type": "scatter",
           "x": [
            3.5
           ],
           "y": [
            "IRL"
           ]
          },
          {
           "mode": "markers",
           "name": "ITA",
           "text": [
            "2.9"
           ],
           "type": "scatter",
           "x": [
            2.9
           ],
           "y": [
            "ITA"
           ]
          },
          {
           "mode": "markers",
           "name": "JPN",
           "text": [
            "2.2"
           ],
           "type": "scatter",
           "x": [
            2.2
           ],
           "y": [
            "JPN"
           ]
          },
          {
           "mode": "markers",
           "name": "KOR",
           "text": [
            "2.9"
           ],
           "type": "scatter",
           "x": [
            2.9
           ],
           "y": [
            "KOR"
           ]
          },
          {
           "mode": "markers",
           "name": "LUX",
           "text": [
            "2.5"
           ],
           "type": "scatter",
           "x": [
            2.5
           ],
           "y": [
            "LUX"
           ]
          },
          {
           "mode": "markers",
           "name": "MEX",
           "text": [
            "13.3"
           ],
           "type": "scatter",
           "x": [
            13.3
           ],
           "y": [
            "MEX"
           ]
          },
          {
           "mode": "markers",
           "name": "NLD",
           "text": [
            "3.7"
           ],
           "type": "scatter",
           "x": [
            3.7
           ],
           "y": [
            "NLD"
           ]
          },
          {
           "mode": "markers",
           "name": "NZL",
           "text": [
            "4.7"
           ],
           "type": "scatter",
           "x": [
            4.7
           ],
           "y": [
            "NZL"
           ]
          },
          {
           "mode": "markers",
           "name": "NOR",
           "text": [
            "2.5"
           ],
           "type": "scatter",
           "x": [
            2.5
           ],
           "y": [
            "NOR"
           ]
          },
          {
           "mode": "markers",
           "name": "POL",
           "text": [
            "4.6"
           ],
           "type": "scatter",
           "x": [
            4.6
           ],
           "y": [
            "POL"
           ]
          },
          {
           "mode": "markers",
           "name": "PRT",
           "text": [
            "3.4"
           ],
           "type": "scatter",
           "x": [
            3.4
           ],
           "y": [
            "PRT"
           ]
          },
          {
           "mode": "markers",
           "name": "SVK",
           "text": [
            "5.8"
           ],
           "type": "scatter",
           "x": [
            5.8
           ],
           "y": [
            "SVK"
           ]
          },
          {
           "mode": "markers",
           "name": "ESP",
           "text": [
            "3.1"
           ],
           "type": "scatter",
           "x": [
            3.1
           ],
           "y": [
            "ESP"
           ]
          },
          {
           "mode": "markers",
           "name": "SWE",
           "text": [
            "2.6"
           ],
           "type": "scatter",
           "x": [
            2.6
           ],
           "y": [
            "SWE"
           ]
          },
          {
           "mode": "markers",
           "name": "CHE",
           "text": [
            "3.6"
           ],
           "type": "scatter",
           "x": [
            3.6
           ],
           "y": [
            "CHE"
           ]
          },
          {
           "mode": "markers",
           "name": "TUR",
           "text": [
            "11.6"
           ],
           "type": "scatter",
           "x": [
            11.6
           ],
           "y": [
            "TUR"
           ]
          },
          {
           "mode": "markers",
           "name": "GBR",
           "text": [
            "4.0"
           ],
           "type": "scatter",
           "x": [
            4
           ],
           "y": [
            "GBR"
           ]
          },
          {
           "mode": "markers",
           "name": "USA",
           "text": [
            "6.0"
           ],
           "type": "scatter",
           "x": [
            6
           ],
           "y": [
            "USA"
           ]
          },
          {
           "mode": "markers",
           "name": "BRA",
           "text": [
            "14.3"
           ],
           "type": "scatter",
           "x": [
            14.3
           ],
           "y": [
            "BRA"
           ]
          },
          {
           "mode": "markers",
           "name": "CHL",
           "text": [
            "7.4"
           ],
           "type": "scatter",
           "x": [
            7.4
           ],
           "y": [
            "CHL"
           ]
          },
          {
           "mode": "markers",
           "name": "CHN",
           "text": [
            "11.5"
           ],
           "type": "scatter",
           "x": [
            11.5
           ],
           "y": [
            "CHN"
           ]
          },
          {
           "mode": "markers",
           "name": "EST",
           "text": [
            "3.6"
           ],
           "type": "scatter",
           "x": [
            3.6
           ],
           "y": [
            "EST"
           ]
          },
          {
           "mode": "markers",
           "name": "IND",
           "text": [
            "42.6"
           ],
           "type": "scatter",
           "x": [
            42.6
           ],
           "y": [
            "IND"
           ]
          },
          {
           "mode": "markers",
           "name": "IDN",
           "text": [
            "25.3"
           ],
           "type": "scatter",
           "x": [
            25.3
           ],
           "y": [
            "IDN"
           ]
          },
          {
           "mode": "markers",
           "name": "ISR",
           "text": [
            "3.6"
           ],
           "type": "scatter",
           "x": [
            3.6
           ],
           "y": [
            "ISR"
           ]
          },
          {
           "mode": "markers",
           "name": "RUS",
           "text": [
            "8.6"
           ],
           "type": "scatter",
           "x": [
            8.6
           ],
           "y": [
            "RUS"
           ]
          },
          {
           "mode": "markers",
           "name": "SVN",
           "text": [
            "1.6"
           ],
           "type": "scatter",
           "x": [
            1.6
           ],
           "y": [
            "SVN"
           ]
          },
          {
           "mode": "markers",
           "name": "ZAF",
           "text": [
            "36.8"
           ],
           "type": "scatter",
           "x": [
            36.8
           ],
           "y": [
            "ZAF"
           ]
          },
          {
           "mode": "markers",
           "name": "COL",
           "text": [
            "17.5"
           ],
           "type": "scatter",
           "x": [
            17.5
           ],
           "y": [
            "COL"
           ]
          },
          {
           "mode": "markers",
           "name": "LVA",
           "text": [
            "6.3"
           ],
           "type": "scatter",
           "x": [
            6.3
           ],
           "y": [
            "LVA"
           ]
          },
          {
           "mode": "markers",
           "name": "LTU",
           "text": [
            "3.9"
           ],
           "type": "scatter",
           "x": [
            3.9
           ],
           "y": [
            "LTU"
           ]
          },
          {
           "mode": "markers",
           "name": "CRI",
           "text": [
            "8.8"
           ],
           "type": "scatter",
           "x": [
            8.8
           ],
           "y": [
            "CRI"
           ]
          }
         ],
         "name": "2012"
        },
        {
         "data": [
          {
           "mode": "markers",
           "name": "AUS",
           "text": [
            "3.6"
           ],
           "type": "scatter",
           "x": [
            3.6
           ],
           "y": [
            "AUS"
           ]
          },
          {
           "mode": "markers",
           "name": "AUT",
           "text": [
            "3.1"
           ],
           "type": "scatter",
           "x": [
            3.1
           ],
           "y": [
            "AUT"
           ]
          },
          {
           "mode": "markers",
           "name": "BEL",
           "text": [
            "3.5"
           ],
           "type": "scatter",
           "x": [
            3.5
           ],
           "y": [
            "BEL"
           ]
          },
          {
           "mode": "markers",
           "name": "CAN",
           "text": [
            "5.0"
           ],
           "type": "scatter",
           "x": [
            5
           ],
           "y": [
            "CAN"
           ]
          },
          {
           "mode": "markers",
           "name": "CZE",
           "text": [
            "2.5"
           ],
           "type": "scatter",
           "x": [
            2.5
           ],
           "y": [
            "CZE"
           ]
          },
          {
           "mode": "markers",
           "name": "DNK",
           "text": [
            "3.5"
           ],
           "type": "scatter",
           "x": [
            3.5
           ],
           "y": [
            "DNK"
           ]
          },
          {
           "mode": "markers",
           "name": "FIN",
           "text": [
            "1.8"
           ],
           "type": "scatter",
           "x": [
            1.8
           ],
           "y": [
            "FIN"
           ]
          },
          {
           "mode": "markers",
           "name": "FRA",
           "text": [
            "3.6"
           ],
           "type": "scatter",
           "x": [
            3.6
           ],
           "y": [
            "FRA"
           ]
          },
          {
           "mode": "markers",
           "name": "DEU",
           "text": [
            "3.3"
           ],
           "type": "scatter",
           "x": [
            3.3
           ],
           "y": [
            "DEU"
           ]
          },
          {
           "mode": "markers",
           "name": "GRC",
           "text": [
            "3.7"
           ],
           "type": "scatter",
           "x": [
            3.7
           ],
           "y": [
            "GRC"
           ]
          },
          {
           "mode": "markers",
           "name": "HUN",
           "text": [
            "5.0"
           ],
           "type": "scatter",
           "x": [
            5
           ],
           "y": [
            "HUN"
           ]
          },
          {
           "mode": "markers",
           "name": "ISL",
           "text": [
            "1.8"
           ],
           "type": "scatter",
           "x": [
            1.8
           ],
           "y": [
            "ISL"
           ]
          },
          {
           "mode": "markers",
           "name": "IRL",
           "text": [
            "3.6"
           ],
           "type": "scatter",
           "x": [
            3.6
           ],
           "y": [
            "IRL"
           ]
          },
          {
           "mode": "markers",
           "name": "ITA",
           "text": [
            "2.9"
           ],
           "type": "scatter",
           "x": [
            2.9
           ],
           "y": [
            "ITA"
           ]
          },
          {
           "mode": "markers",
           "name": "JPN",
           "text": [
            "2.1"
           ],
           "type": "scatter",
           "x": [
            2.1
           ],
           "y": [
            "JPN"
           ]
          },
          {
           "mode": "markers",
           "name": "KOR",
           "text": [
            "3.0"
           ],
           "type": "scatter",
           "x": [
            3
           ],
           "y": [
            "KOR"
           ]
          },
          {
           "mode": "markers",
           "name": "LUX",
           "text": [
            "3.9"
           ],
           "type": "scatter",
           "x": [
            3.9
           ],
           "y": [
            "LUX"
           ]
          },
          {
           "mode": "markers",
           "name": "MEX",
           "text": [
            "13.0"
           ],
           "type": "scatter",
           "x": [
            13
           ],
           "y": [
            "MEX"
           ]
          },
          {
           "mode": "markers",
           "name": "NLD",
           "text": [
            "3.8"
           ],
           "type": "scatter",
           "x": [
            3.8
           ],
           "y": [
            "NLD"
           ]
          },
          {
           "mode": "markers",
           "name": "NZL",
           "text": [
            "5.0"
           ],
           "type": "scatter",
           "x": [
            5
           ],
           "y": [
            "NZL"
           ]
          },
          {
           "mode": "markers",
           "name": "NOR",
           "text": [
            "2.4"
           ],
           "type": "scatter",
           "x": [
            2.4
           ],
           "y": [
            "NOR"
           ]
          },
          {
           "mode": "markers",
           "name": "POL",
           "text": [
            "4.6"
           ],
           "type": "scatter",
           "x": [
            4.6
           ],
           "y": [
            "POL"
           ]
          },
          {
           "mode": "markers",
           "name": "PRT",
           "text": [
            "2.9"
           ],
           "type": "scatter",
           "x": [
            2.9
           ],
           "y": [
            "PRT"
           ]
          },
          {
           "mode": "markers",
           "name": "SVK",
           "text": [
            "5.5"
           ],
           "type": "scatter",
           "x": [
            5.5
           ],
           "y": [
            "SVK"
           ]
          },
          {
           "mode": "markers",
           "name": "ESP",
           "text": [
            "2.7"
           ],
           "type": "scatter",
           "x": [
            2.7
           ],
           "y": [
            "ESP"
           ]
          },
          {
           "mode": "markers",
           "name": "SWE",
           "text": [
            "2.7"
           ],
           "type": "scatter",
           "x": [
            2.7
           ],
           "y": [
            "SWE"
           ]
          },
          {
           "mode": "markers",
           "name": "CHE",
           "text": [
            "3.9"
           ],
           "type": "scatter",
           "x": [
            3.9
           ],
           "y": [
            "CHE"
           ]
          },
          {
           "mode": "markers",
           "name": "TUR",
           "text": [
            "10.8"
           ],
           "type": "scatter",
           "x": [
            10.8
           ],
           "y": [
            "TUR"
           ]
          },
          {
           "mode": "markers",
           "name": "GBR",
           "text": [
            "3.9"
           ],
           "type": "scatter",
           "x": [
            3.9
           ],
           "y": [
            "GBR"
           ]
          },
          {
           "mode": "markers",
           "name": "USA",
           "text": [
            "6.0"
           ],
           "type": "scatter",
           "x": [
            6
           ],
           "y": [
            "USA"
           ]
          },
          {
           "mode": "markers",
           "name": "BRA",
           "text": [
            "14.3"
           ],
           "type": "scatter",
           "x": [
            14.3
           ],
           "y": [
            "BRA"
           ]
          },
          {
           "mode": "markers",
           "name": "CHL",
           "text": [
            "7.0"
           ],
           "type": "scatter",
           "x": [
            7
           ],
           "y": [
            "CHL"
           ]
          },
          {
           "mode": "markers",
           "name": "CHN",
           "text": [
            "10.6"
           ],
           "type": "scatter",
           "x": [
            10.6
           ],
           "y": [
            "CHN"
           ]
          },
          {
           "mode": "markers",
           "name": "EST",
           "text": [
            "2.1"
           ],
           "type": "scatter",
           "x": [
            2.1
           ],
           "y": [
            "EST"
           ]
          },
          {
           "mode": "markers",
           "name": "IND",
           "text": [
            "40.9"
           ],
           "type": "scatter",
           "x": [
            40.9
           ],
           "y": [
            "IND"
           ]
          },
          {
           "mode": "markers",
           "name": "IDN",
           "text": [
            "24.4"
           ],
           "type": "scatter",
           "x": [
            24.4
           ],
           "y": [
            "IDN"
           ]
          },
          {
           "mode": "markers",
           "name": "ISR",
           "text": [
            "3.1"
           ],
           "type": "scatter",
           "x": [
            3.1
           ],
           "y": [
            "ISR"
           ]
          },
          {
           "mode": "markers",
           "name": "RUS",
           "text": [
            "8.2"
           ],
           "type": "scatter",
           "x": [
            8.2
           ],
           "y": [
            "RUS"
           ]
          },
          {
           "mode": "markers",
           "name": "SVN",
           "text": [
            "2.9"
           ],
           "type": "scatter",
           "x": [
            2.9
           ],
           "y": [
            "SVN"
           ]
          },
          {
           "mode": "markers",
           "name": "ZAF",
           "text": [
            "35.3"
           ],
           "type": "scatter",
           "x": [
            35.3
           ],
           "y": [
            "ZAF"
           ]
          },
          {
           "mode": "markers",
           "name": "COL",
           "text": [
            "17.2"
           ],
           "type": "scatter",
           "x": [
            17.2
           ],
           "y": [
            "COL"
           ]
          },
          {
           "mode": "markers",
           "name": "LVA",
           "text": [
            "4.4"
           ],
           "type": "scatter",
           "x": [
            4.4
           ],
           "y": [
            "LVA"
           ]
          },
          {
           "mode": "markers",
           "name": "LTU",
           "text": [
            "3.7"
           ],
           "type": "scatter",
           "x": [
            3.7
           ],
           "y": [
            "LTU"
           ]
          },
          {
           "mode": "markers",
           "name": "CRI",
           "text": [
            "8.7"
           ],
           "type": "scatter",
           "x": [
            8.7
           ],
           "y": [
            "CRI"
           ]
          }
         ],
         "name": "2013"
        },
        {
         "data": [
          {
           "mode": "markers",
           "name": "AUS",
           "text": [
            "3.4"
           ],
           "type": "scatter",
           "x": [
            3.4
           ],
           "y": [
            "AUS"
           ]
          },
          {
           "mode": "markers",
           "name": "AUT",
           "text": [
            "3.0"
           ],
           "type": "scatter",
           "x": [
            3
           ],
           "y": [
            "AUT"
           ]
          },
          {
           "mode": "markers",
           "name": "BEL",
           "text": [
            "3.4"
           ],
           "type": "scatter",
           "x": [
            3.4
           ],
           "y": [
            "BEL"
           ]
          },
          {
           "mode": "markers",
           "name": "CAN",
           "text": [
            "4.7"
           ],
           "type": "scatter",
           "x": [
            4.7
           ],
           "y": [
            "CAN"
           ]
          },
          {
           "mode": "markers",
           "name": "CZE",
           "text": [
            "2.4"
           ],
           "type": "scatter",
           "x": [
            2.4
           ],
           "y": [
            "CZE"
           ]
          },
          {
           "mode": "markers",
           "name": "DNK",
           "text": [
            "4.0"
           ],
           "type": "scatter",
           "x": [
            4
           ],
           "y": [
            "DNK"
           ]
          },
          {
           "mode": "markers",
           "name": "FIN",
           "text": [
            "2.2"
           ],
           "type": "scatter",
           "x": [
            2.2
           ],
           "y": [
            "FIN"
           ]
          },
          {
           "mode": "markers",
           "name": "FRA",
           "text": [
            "3.5"
           ],
           "type": "scatter",
           "x": [
            3.5
           ],
           "y": [
            "FRA"
           ]
          },
          {
           "mode": "markers",
           "name": "DEU",
           "text": [
            "3.2"
           ],
           "type": "scatter",
           "x": [
            3.2
           ],
           "y": [
            "DEU"
           ]
          },
          {
           "mode": "markers",
           "name": "GRC",
           "text": [
            "3.7"
           ],
           "type": "scatter",
           "x": [
            3.7
           ],
           "y": [
            "GRC"
           ]
          },
          {
           "mode": "markers",
           "name": "HUN",
           "text": [
            "4.5"
           ],
           "type": "scatter",
           "x": [
            4.5
           ],
           "y": [
            "HUN"
           ]
          },
          {
           "mode": "markers",
           "name": "ISL",
           "text": [
            "2.1"
           ],
           "type": "scatter",
           "x": [
            2.1
           ],
           "y": [
            "ISL"
           ]
          },
          {
           "mode": "markers",
           "name": "IRL",
           "text": [
            "3.3"
           ],
           "type": "scatter",
           "x": [
            3.3
           ],
           "y": [
            "IRL"
           ]
          },
          {
           "mode": "markers",
           "name": "ITA",
           "text": [
            "2.8"
           ],
           "type": "scatter",
           "x": [
            2.8
           ],
           "y": [
            "ITA"
           ]
          },
          {
           "mode": "markers",
           "name": "JPN",
           "text": [
            "2.1"
           ],
           "type": "scatter",
           "x": [
            2.1
           ],
           "y": [
            "JPN"
           ]
          },
          {
           "mode": "markers",
           "name": "KOR",
           "text": [
            "3.0"
           ],
           "type": "scatter",
           "x": [
            3
           ],
           "y": [
            "KOR"
           ]
          },
          {
           "mode": "markers",
           "name": "LUX",
           "text": [
            "2.8"
           ],
           "type": "scatter",
           "x": [
            2.8
           ],
           "y": [
            "LUX"
           ]
          },
          {
           "mode": "markers",
           "name": "MEX",
           "text": [
            "12.5"
           ],
           "type": "scatter",
           "x": [
            12.5
           ],
           "y": [
            "MEX"
           ]
          },
          {
           "mode": "markers",
           "name": "NLD",
           "text": [
            "3.6"
           ],
           "type": "scatter",
           "x": [
            3.6
           ],
           "y": [
            "NLD"
           ]
          },
          {
           "mode": "markers",
           "name": "NZL",
           "text": [
            "5.7"
           ],
           "type": "scatter",
           "x": [
            5.7
           ],
           "y": [
            "NZL"
           ]
          },
          {
           "mode": "markers",
           "name": "NOR",
           "text": [
            "2.4"
           ],
           "type": "scatter",
           "x": [
            2.4
           ],
           "y": [
            "NOR"
           ]
          },
          {
           "mode": "markers",
           "name": "POL",
           "text": [
            "4.2"
           ],
           "type": "scatter",
           "x": [
            4.2
           ],
           "y": [
            "POL"
           ]
          },
          {
           "mode": "markers",
           "name": "PRT",
           "text": [
            "2.9"
           ],
           "type": "scatter",
           "x": [
            2.9
           ],
           "y": [
            "PRT"
           ]
          },
          {
           "mode": "markers",
           "name": "SVK",
           "text": [
            "5.8"
           ],
           "type": "scatter",
           "x": [
            5.8
           ],
           "y": [
            "SVK"
           ]
          },
          {
           "mode": "markers",
           "name": "ESP",
           "text": [
            "2.8"
           ],
           "type": "scatter",
           "x": [
            2.8
           ],
           "y": [
            "ESP"
           ]
          },
          {
           "mode": "markers",
           "name": "SWE",
           "text": [
            "2.2"
           ],
           "type": "scatter",
           "x": [
            2.2
           ],
           "y": [
            "SWE"
           ]
          },
          {
           "mode": "markers",
           "name": "CHE",
           "text": [
            "3.9"
           ],
           "type": "scatter",
           "x": [
            3.9
           ],
           "y": [
            "CHE"
           ]
          },
          {
           "mode": "markers",
           "name": "TUR",
           "text": [
            "11.1"
           ],
           "type": "scatter",
           "x": [
            11.1
           ],
           "y": [
            "TUR"
           ]
          },
          {
           "mode": "markers",
           "name": "GBR",
           "text": [
            "3.9"
           ],
           "type": "scatter",
           "x": [
            3.9
           ],
           "y": [
            "GBR"
           ]
          },
          {
           "mode": "markers",
           "name": "USA",
           "text": [
            "5.8"
           ],
           "type": "scatter",
           "x": [
            5.8
           ],
           "y": [
            "USA"
           ]
          },
          {
           "mode": "markers",
           "name": "BRA",
           "text": [
            "14.4"
           ],
           "type": "scatter",
           "x": [
            14.4
           ],
           "y": [
            "BRA"
           ]
          },
          {
           "mode": "markers",
           "name": "CHL",
           "text": [
            "7.2"
           ],
           "type": "scatter",
           "x": [
            7.2
           ],
           "y": [
            "CHL"
           ]
          },
          {
           "mode": "markers",
           "name": "CHN",
           "text": [
            "9.8"
           ],
           "type": "scatter",
           "x": [
            9.8
           ],
           "y": [
            "CHN"
           ]
          },
          {
           "mode": "markers",
           "name": "EST",
           "text": [
            "2.7"
           ],
           "type": "scatter",
           "x": [
            2.7
           ],
           "y": [
            "EST"
           ]
          },
          {
           "mode": "markers",
           "name": "IND",
           "text": [
            "39.3"
           ],
           "type": "scatter",
           "x": [
            39.3
           ],
           "y": [
            "IND"
           ]
          },
          {
           "mode": "markers",
           "name": "IDN",
           "text": [
            "23.6"
           ],
           "type": "scatter",
           "x": [
            23.6
           ],
           "y": [
            "IDN"
           ]
          },
          {
           "mode": "markers",
           "name": "ISR",
           "text": [
            "3.1"
           ],
           "type": "scatter",
           "x": [
            3.1
           ],
           "y": [
            "ISR"
           ]
          },
          {
           "mode": "markers",
           "name": "RUS",
           "text": [
            "7.4"
           ],
           "type": "scatter",
           "x": [
            7.4
           ],
           "y": [
            "RUS"
           ]
          },
          {
           "mode": "markers",
           "name": "SVN",
           "text": [
            "1.8"
           ],
           "type": "scatter",
           "x": [
            1.8
           ],
           "y": [
            "SVN"
           ]
          },
          {
           "mode": "markers",
           "name": "ZAF",
           "text": [
            "34.4"
           ],
           "type": "scatter",
           "x": [
            34.4
           ],
           "y": [
            "ZAF"
           ]
          },
          {
           "mode": "markers",
           "name": "COL",
           "text": [
            "17.2"
           ],
           "type": "scatter",
           "x": [
            17.2
           ],
           "y": [
            "COL"
           ]
          },
          {
           "mode": "markers",
           "name": "LVA",
           "text": [
            "3.8"
           ],
           "type": "scatter",
           "x": [
            3.8
           ],
           "y": [
            "LVA"
           ]
          },
          {
           "mode": "markers",
           "name": "LTU",
           "text": [
            "3.9"
           ],
           "type": "scatter",
           "x": [
            3.9
           ],
           "y": [
            "LTU"
           ]
          },
          {
           "mode": "markers",
           "name": "CRI",
           "text": [
            "8.6"
           ],
           "type": "scatter",
           "x": [
            8.6
           ],
           "y": [
            "CRI"
           ]
          }
         ],
         "name": "2014"
        },
        {
         "data": [
          {
           "mode": "markers",
           "name": "AUS",
           "text": [
            "3.2"
           ],
           "type": "scatter",
           "x": [
            3.2
           ],
           "y": [
            "AUS"
           ]
          },
          {
           "mode": "markers",
           "name": "AUT",
           "text": [
            "3.1"
           ],
           "type": "scatter",
           "x": [
            3.1
           ],
           "y": [
            "AUT"
           ]
          },
          {
           "mode": "markers",
           "name": "BEL",
           "text": [
            "3.3"
           ],
           "type": "scatter",
           "x": [
            3.3
           ],
           "y": [
            "BEL"
           ]
          },
          {
           "mode": "markers",
           "name": "CAN",
           "text": [
            "0"
           ],
           "type": "scatter",
           "x": [
            0
           ],
           "y": [
            "CAN"
           ]
          },
          {
           "mode": "markers",
           "name": "CZE",
           "text": [
            "2.5"
           ],
           "type": "scatter",
           "x": [
            2.5
           ],
           "y": [
            "CZE"
           ]
          },
          {
           "mode": "markers",
           "name": "DNK",
           "text": [
            "3.7"
           ],
           "type": "scatter",
           "x": [
            3.7
           ],
           "y": [
            "DNK"
           ]
          },
          {
           "mode": "markers",
           "name": "FIN",
           "text": [
            "1.7"
           ],
           "type": "scatter",
           "x": [
            1.7
           ],
           "y": [
            "FIN"
           ]
          },
          {
           "mode": "markers",
           "name": "FRA",
           "text": [
            "3.7"
           ],
           "type": "scatter",
           "x": [
            3.7
           ],
           "y": [
            "FRA"
           ]
          },
          {
           "mode": "markers",
           "name": "DEU",
           "text": [
            "3.3"
           ],
           "type": "scatter",
           "x": [
            3.3
           ],
           "y": [
            "DEU"
           ]
          },
          {
           "mode": "markers",
           "name": "GRC",
           "text": [
            "4.0"
           ],
           "type": "scatter",
           "x": [
            4
           ],
           "y": [
            "GRC"
           ]
          },
          {
           "mode": "markers",
           "name": "HUN",
           "text": [
            "4.2"
           ],
           "type": "scatter",
           "x": [
            4.2
           ],
           "y": [
            "HUN"
           ]
          },
          {
           "mode": "markers",
           "name": "ISL",
           "text": [
            "2.2"
           ],
           "type": "scatter",
           "x": [
            2.2
           ],
           "y": [
            "ISL"
           ]
          },
          {
           "mode": "markers",
           "name": "IRL",
           "text": [
            "3.4"
           ],
           "type": "scatter",
           "x": [
            3.4
           ],
           "y": [
            "IRL"
           ]
          },
          {
           "mode": "markers",
           "name": "ITA",
           "text": [
            "2.9"
           ],
           "type": "scatter",
           "x": [
            2.9
           ],
           "y": [
            "ITA"
           ]
          },
          {
           "mode": "markers",
           "name": "JPN",
           "text": [
            "1.9"
           ],
           "type": "scatter",
           "x": [
            1.9
           ],
           "y": [
            "JPN"
           ]
          },
          {
           "mode": "markers",
           "name": "KOR",
           "text": [
            "2.7"
           ],
           "type": "scatter",
           "x": [
            2.7
           ],
           "y": [
            "KOR"
           ]
          },
          {
           "mode": "markers",
           "name": "LUX",
           "text": [
            "2.8"
           ],
           "type": "scatter",
           "x": [
            2.8
           ],
           "y": [
            "LUX"
           ]
          },
          {
           "mode": "markers",
           "name": "MEX",
           "text": [
            "12.5"
           ],
           "type": "scatter",
           "x": [
            12.5
           ],
           "y": [
            "MEX"
           ]
          },
          {
           "mode": "markers",
           "name": "NLD",
           "text": [
            "3.3"
           ],
           "type": "scatter",
           "x": [
            3.3
           ],
           "y": [
            "NLD"
           ]
          },
          {
           "mode": "markers",
           "name": "NZL",
           "text": [
            "0"
           ],
           "type": "scatter",
           "x": [
            0
           ],
           "y": [
            "NZL"
           ]
          },
          {
           "mode": "markers",
           "name": "NOR",
           "text": [
            "2.3"
           ],
           "type": "scatter",
           "x": [
            2.3
           ],
           "y": [
            "NOR"
           ]
          },
          {
           "mode": "markers",
           "name": "POL",
           "text": [
            "4.0"
           ],
           "type": "scatter",
           "x": [
            4
           ],
           "y": [
            "POL"
           ]
          },
          {
           "mode": "markers",
           "name": "PRT",
           "text": [
            "2.9"
           ],
           "type": "scatter",
           "x": [
            2.9
           ],
           "y": [
            "PRT"
           ]
          },
          {
           "mode": "markers",
           "name": "SVK",
           "text": [
            "5.1"
           ],
           "type": "scatter",
           "x": [
            5.1
           ],
           "y": [
            "SVK"
           ]
          },
          {
           "mode": "markers",
           "name": "ESP",
           "text": [
            "2.7"
           ],
           "type": "scatter",
           "x": [
            2.7
           ],
           "y": [
            "ESP"
           ]
          },
          {
           "mode": "markers",
           "name": "SWE",
           "text": [
            "2.5"
           ],
           "type": "scatter",
           "x": [
            2.5
           ],
           "y": [
            "SWE"
           ]
          },
          {
           "mode": "markers",
           "name": "CHE",
           "text": [
            "3.9"
           ],
           "type": "scatter",
           "x": [
            3.9
           ],
           "y": [
            "CHE"
           ]
          },
          {
           "mode": "markers",
           "name": "TUR",
           "text": [
            "10.2"
           ],
           "type": "scatter",
           "x": [
            10.2
           ],
           "y": [
            "TUR"
           ]
          },
          {
           "mode": "markers",
           "name": "GBR",
           "text": [
            "3.9"
           ],
           "type": "scatter",
           "x": [
            3.9
           ],
           "y": [
            "GBR"
           ]
          },
          {
           "mode": "markers",
           "name": "USA",
           "text": [
            "5.9"
           ],
           "type": "scatter",
           "x": [
            5.9
           ],
           "y": [
            "USA"
           ]
          },
          {
           "mode": "markers",
           "name": "BRA",
           "text": [
            "14.6"
           ],
           "type": "scatter",
           "x": [
            14.6
           ],
           "y": [
            "BRA"
           ]
          },
          {
           "mode": "markers",
           "name": "CHL",
           "text": [
            "6.9"
           ],
           "type": "scatter",
           "x": [
            6.9
           ],
           "y": [
            "CHL"
           ]
          },
          {
           "mode": "markers",
           "name": "CHN",
           "text": [
            "9.2"
           ],
           "type": "scatter",
           "x": [
            9.2
           ],
           "y": [
            "CHN"
           ]
          },
          {
           "mode": "markers",
           "name": "EST",
           "text": [
            "2.5"
           ],
           "type": "scatter",
           "x": [
            2.5
           ],
           "y": [
            "EST"
           ]
          },
          {
           "mode": "markers",
           "name": "IND",
           "text": [
            "37.9"
           ],
           "type": "scatter",
           "x": [
            37.9
           ],
           "y": [
            "IND"
           ]
          },
          {
           "mode": "markers",
           "name": "IDN",
           "text": [
            "22.8"
           ],
           "type": "scatter",
           "x": [
            22.8
           ],
           "y": [
            "IDN"
           ]
          },
          {
           "mode": "markers",
           "name": "ISR",
           "text": [
            "3.1"
           ],
           "type": "scatter",
           "x": [
            3.1
           ],
           "y": [
            "ISR"
           ]
          },
          {
           "mode": "markers",
           "name": "RUS",
           "text": [
            "6.5"
           ],
           "type": "scatter",
           "x": [
            6.5
           ],
           "y": [
            "RUS"
           ]
          },
          {
           "mode": "markers",
           "name": "SVN",
           "text": [
            "1.6"
           ],
           "type": "scatter",
           "x": [
            1.6
           ],
           "y": [
            "SVN"
           ]
          },
          {
           "mode": "markers",
           "name": "ZAF",
           "text": [
            "33.6"
           ],
           "type": "scatter",
           "x": [
            33.6
           ],
           "y": [
            "ZAF"
           ]
          },
          {
           "mode": "markers",
           "name": "COL",
           "text": [
            "17.1"
           ],
           "type": "scatter",
           "x": [
            17.1
           ],
           "y": [
            "COL"
           ]
          },
          {
           "mode": "markers",
           "name": "LVA",
           "text": [
            "4.1"
           ],
           "type": "scatter",
           "x": [
            4.1
           ],
           "y": [
            "LVA"
           ]
          },
          {
           "mode": "markers",
           "name": "LTU",
           "text": [
            "4.2"
           ],
           "type": "scatter",
           "x": [
            4.2
           ],
           "y": [
            "LTU"
           ]
          },
          {
           "mode": "markers",
           "name": "CRI",
           "text": [
            "8.5"
           ],
           "type": "scatter",
           "x": [
            8.5
           ],
           "y": [
            "CRI"
           ]
          }
         ],
         "name": "2015"
        },
        {
         "data": [
          {
           "mode": "markers",
           "name": "AUS",
           "text": [
            "3.1"
           ],
           "type": "scatter",
           "x": [
            3.1
           ],
           "y": [
            "AUS"
           ]
          },
          {
           "mode": "markers",
           "name": "AUT",
           "text": [
            "3.1"
           ],
           "type": "scatter",
           "x": [
            3.1
           ],
           "y": [
            "AUT"
           ]
          },
          {
           "mode": "markers",
           "name": "BEL",
           "text": [
            "3.2"
           ],
           "type": "scatter",
           "x": [
            3.2
           ],
           "y": [
            "BEL"
           ]
          },
          {
           "mode": "markers",
           "name": "CAN",
           "text": [
            "0"
           ],
           "type": "scatter",
           "x": [
            0
           ],
           "y": [
            "CAN"
           ]
          },
          {
           "mode": "markers",
           "name": "CZE",
           "text": [
            "2.8"
           ],
           "type": "scatter",
           "x": [
            2.8
           ],
           "y": [
            "CZE"
           ]
          },
          {
           "mode": "markers",
           "name": "DNK",
           "text": [
            "3.1"
           ],
           "type": "scatter",
           "x": [
            3.1
           ],
           "y": [
            "DNK"
           ]
          },
          {
           "mode": "markers",
           "name": "FIN",
           "text": [
            "1.9"
           ],
           "type": "scatter",
           "x": [
            1.9
           ],
           "y": [
            "FIN"
           ]
          },
          {
           "mode": "markers",
           "name": "FRA",
           "text": [
            "3.7"
           ],
           "type": "scatter",
           "x": [
            3.7
           ],
           "y": [
            "FRA"
           ]
          },
          {
           "mode": "markers",
           "name": "DEU",
           "text": [
            "3.4"
           ],
           "type": "scatter",
           "x": [
            3.4
           ],
           "y": [
            "DEU"
           ]
          },
          {
           "mode": "markers",
           "name": "GRC",
           "text": [
            "4.2"
           ],
           "type": "scatter",
           "x": [
            4.2
           ],
           "y": [
            "GRC"
           ]
          },
          {
           "mode": "markers",
           "name": "HUN",
           "text": [
            "3.9"
           ],
           "type": "scatter",
           "x": [
            3.9
           ],
           "y": [
            "HUN"
           ]
          },
          {
           "mode": "markers",
           "name": "ISL",
           "text": [
            "0.7"
           ],
           "type": "scatter",
           "x": [
            0.7
           ],
           "y": [
            "ISL"
           ]
          },
          {
           "mode": "markers",
           "name": "IRL",
           "text": [
            "3.0"
           ],
           "type": "scatter",
           "x": [
            3
           ],
           "y": [
            "IRL"
           ]
          },
          {
           "mode": "markers",
           "name": "ITA",
           "text": [
            "2.8"
           ],
           "type": "scatter",
           "x": [
            2.8
           ],
           "y": [
            "ITA"
           ]
          },
          {
           "mode": "markers",
           "name": "JPN",
           "text": [
            "2.0"
           ],
           "type": "scatter",
           "x": [
            2
           ],
           "y": [
            "JPN"
           ]
          },
          {
           "mode": "markers",
           "name": "KOR",
           "text": [
            "2.8"
           ],
           "type": "scatter",
           "x": [
            2.8
           ],
           "y": [
            "KOR"
           ]
          },
          {
           "mode": "markers",
           "name": "LUX",
           "text": [
            "3.8"
           ],
           "type": "scatter",
           "x": [
            3.8
           ],
           "y": [
            "LUX"
           ]
          },
          {
           "mode": "markers",
           "name": "MEX",
           "text": [
            "12.1"
           ],
           "type": "scatter",
           "x": [
            12.1
           ],
           "y": [
            "MEX"
           ]
          },
          {
           "mode": "markers",
           "name": "NLD",
           "text": [
            "3.5"
           ],
           "type": "scatter",
           "x": [
            3.5
           ],
           "y": [
            "NLD"
           ]
          },
          {
           "mode": "markers",
           "name": "NZL",
           "text": [
            "0"
           ],
           "type": "scatter",
           "x": [
            0
           ],
           "y": [
            "NZL"
           ]
          },
          {
           "mode": "markers",
           "name": "NOR",
           "text": [
            "2.2"
           ],
           "type": "scatter",
           "x": [
            2.2
           ],
           "y": [
            "NOR"
           ]
          },
          {
           "mode": "markers",
           "name": "POL",
           "text": [
            "4.0"
           ],
           "type": "scatter",
           "x": [
            4
           ],
           "y": [
            "POL"
           ]
          },
          {
           "mode": "markers",
           "name": "PRT",
           "text": [
            "3.2"
           ],
           "type": "scatter",
           "x": [
            3.2
           ],
           "y": [
            "PRT"
           ]
          },
          {
           "mode": "markers",
           "name": "SVK",
           "text": [
            "5.4"
           ],
           "type": "scatter",
           "x": [
            5.4
           ],
           "y": [
            "SVK"
           ]
          },
          {
           "mode": "markers",
           "name": "ESP",
           "text": [
            "2.7"
           ],
           "type": "scatter",
           "x": [
            2.7
           ],
           "y": [
            "ESP"
           ]
          },
          {
           "mode": "markers",
           "name": "SWE",
           "text": [
            "2.5"
           ],
           "type": "scatter",
           "x": [
            2.5
           ],
           "y": [
            "SWE"
           ]
          },
          {
           "mode": "markers",
           "name": "CHE",
           "text": [
            "3.6"
           ],
           "type": "scatter",
           "x": [
            3.6
           ],
           "y": [
            "CHE"
           ]
          },
          {
           "mode": "markers",
           "name": "TUR",
           "text": [
            "10.0"
           ],
           "type": "scatter",
           "x": [
            10
           ],
           "y": [
            "TUR"
           ]
          },
          {
           "mode": "markers",
           "name": "GBR",
           "text": [
            "3.8"
           ],
           "type": "scatter",
           "x": [
            3.8
           ],
           "y": [
            "GBR"
           ]
          },
          {
           "mode": "markers",
           "name": "USA",
           "text": [
            "0"
           ],
           "type": "scatter",
           "x": [
            0
           ],
           "y": [
            "USA"
           ]
          },
          {
           "mode": "markers",
           "name": "BRA",
           "text": [
            "0"
           ],
           "type": "scatter",
           "x": [
            0
           ],
           "y": [
            "BRA"
           ]
          },
          {
           "mode": "markers",
           "name": "CHL",
           "text": [
            "0"
           ],
           "type": "scatter",
           "x": [
            0
           ],
           "y": [
            "CHL"
           ]
          },
          {
           "mode": "markers",
           "name": "CHN",
           "text": [
            "0"
           ],
           "type": "scatter",
           "x": [
            0
           ],
           "y": [
            "CHN"
           ]
          },
          {
           "mode": "markers",
           "name": "EST",
           "text": [
            "2.3"
           ],
           "type": "scatter",
           "x": [
            2.3
           ],
           "y": [
            "EST"
           ]
          },
          {
           "mode": "markers",
           "name": "IND",
           "text": [
            "0"
           ],
           "type": "scatter",
           "x": [
            0
           ],
           "y": [
            "IND"
           ]
          },
          {
           "mode": "markers",
           "name": "IDN",
           "text": [
            "0"
           ],
           "type": "scatter",
           "x": [
            0
           ],
           "y": [
            "IDN"
           ]
          },
          {
           "mode": "markers",
           "name": "ISR",
           "text": [
            "3.1"
           ],
           "type": "scatter",
           "x": [
            3.1
           ],
           "y": [
            "ISR"
           ]
          },
          {
           "mode": "markers",
           "name": "RUS",
           "text": [
            "6.0"
           ],
           "type": "scatter",
           "x": [
            6
           ],
           "y": [
            "RUS"
           ]
          },
          {
           "mode": "markers",
           "name": "SVN",
           "text": [
            "2.0"
           ],
           "type": "scatter",
           "x": [
            2
           ],
           "y": [
            "SVN"
           ]
          },
          {
           "mode": "markers",
           "name": "ZAF",
           "text": [
            "0"
           ],
           "type": "scatter",
           "x": [
            0
           ],
           "y": [
            "ZAF"
           ]
          },
          {
           "mode": "markers",
           "name": "COL",
           "text": [
            "0"
           ],
           "type": "scatter",
           "x": [
            0
           ],
           "y": [
            "COL"
           ]
          },
          {
           "mode": "markers",
           "name": "LVA",
           "text": [
            "3.7"
           ],
           "type": "scatter",
           "x": [
            3.7
           ],
           "y": [
            "LVA"
           ]
          },
          {
           "mode": "markers",
           "name": "LTU",
           "text": [
            "4.5"
           ],
           "type": "scatter",
           "x": [
            4.5
           ],
           "y": [
            "LTU"
           ]
          },
          {
           "mode": "markers",
           "name": "CRI",
           "text": [
            "0"
           ],
           "type": "scatter",
           "x": [
            0
           ],
           "y": [
            "CRI"
           ]
          }
         ],
         "name": "2016"
        }
       ],
       "layout": {
        "autosize": false,
        "height": 1000,
        "hovermode": "closest",
        "sliders": [
         {
          "active": 0,
          "currentvalue": {
           "font": {
            "size": 20
           },
           "prefix": "Year:",
           "visible": true,
           "xanchor": "right"
          },
          "len": 0.9,
          "pad": {
           "b": 10,
           "t": 50
          },
          "steps": [
           {
            "args": [
             [
              1980
             ],
             {
              "frame": {
               "duration": 300,
               "redraw": false
              },
              "mode": "immediate",
              "transition": {
               "duration": 300
              }
             }
            ],
            "label": "1980",
            "method": "animate"
           },
           {
            "args": [
             [
              1981
             ],
             {
              "frame": {
               "duration": 300,
               "redraw": false
              },
              "mode": "immediate",
              "transition": {
               "duration": 300
              }
             }
            ],
            "label": "1981",
            "method": "animate"
           },
           {
            "args": [
             [
              1982
             ],
             {
              "frame": {
               "duration": 300,
               "redraw": false
              },
              "mode": "immediate",
              "transition": {
               "duration": 300
              }
             }
            ],
            "label": "1982",
            "method": "animate"
           },
           {
            "args": [
             [
              1983
             ],
             {
              "frame": {
               "duration": 300,
               "redraw": false
              },
              "mode": "immediate",
              "transition": {
               "duration": 300
              }
             }
            ],
            "label": "1983",
            "method": "animate"
           },
           {
            "args": [
             [
              1984
             ],
             {
              "frame": {
               "duration": 300,
               "redraw": false
              },
              "mode": "immediate",
              "transition": {
               "duration": 300
              }
             }
            ],
            "label": "1984",
            "method": "animate"
           },
           {
            "args": [
             [
              1985
             ],
             {
              "frame": {
               "duration": 300,
               "redraw": false
              },
              "mode": "immediate",
              "transition": {
               "duration": 300
              }
             }
            ],
            "label": "1985",
            "method": "animate"
           },
           {
            "args": [
             [
              1986
             ],
             {
              "frame": {
               "duration": 300,
               "redraw": false
              },
              "mode": "immediate",
              "transition": {
               "duration": 300
              }
             }
            ],
            "label": "1986",
            "method": "animate"
           },
           {
            "args": [
             [
              1987
             ],
             {
              "frame": {
               "duration": 300,
               "redraw": false
              },
              "mode": "immediate",
              "transition": {
               "duration": 300
              }
             }
            ],
            "label": "1987",
            "method": "animate"
           },
           {
            "args": [
             [
              1988
             ],
             {
              "frame": {
               "duration": 300,
               "redraw": false
              },
              "mode": "immediate",
              "transition": {
               "duration": 300
              }
             }
            ],
            "label": "1988",
            "method": "animate"
           },
           {
            "args": [
             [
              1989
             ],
             {
              "frame": {
               "duration": 300,
               "redraw": false
              },
              "mode": "immediate",
              "transition": {
               "duration": 300
              }
             }
            ],
            "label": "1989",
            "method": "animate"
           },
           {
            "args": [
             [
              1990
             ],
             {
              "frame": {
               "duration": 300,
               "redraw": false
              },
              "mode": "immediate",
              "transition": {
               "duration": 300
              }
             }
            ],
            "label": "1990",
            "method": "animate"
           },
           {
            "args": [
             [
              1991
             ],
             {
              "frame": {
               "duration": 300,
               "redraw": false
              },
              "mode": "immediate",
              "transition": {
               "duration": 300
              }
             }
            ],
            "label": "1991",
            "method": "animate"
           },
           {
            "args": [
             [
              1992
             ],
             {
              "frame": {
               "duration": 300,
               "redraw": false
              },
              "mode": "immediate",
              "transition": {
               "duration": 300
              }
             }
            ],
            "label": "1992",
            "method": "animate"
           },
           {
            "args": [
             [
              1993
             ],
             {
              "frame": {
               "duration": 300,
               "redraw": false
              },
              "mode": "immediate",
              "transition": {
               "duration": 300
              }
             }
            ],
            "label": "1993",
            "method": "animate"
           },
           {
            "args": [
             [
              1994
             ],
             {
              "frame": {
               "duration": 300,
               "redraw": false
              },
              "mode": "immediate",
              "transition": {
               "duration": 300
              }
             }
            ],
            "label": "1994",
            "method": "animate"
           },
           {
            "args": [
             [
              1995
             ],
             {
              "frame": {
               "duration": 300,
               "redraw": false
              },
              "mode": "immediate",
              "transition": {
               "duration": 300
              }
             }
            ],
            "label": "1995",
            "method": "animate"
           },
           {
            "args": [
             [
              1996
             ],
             {
              "frame": {
               "duration": 300,
               "redraw": false
              },
              "mode": "immediate",
              "transition": {
               "duration": 300
              }
             }
            ],
            "label": "1996",
            "method": "animate"
           },
           {
            "args": [
             [
              1997
             ],
             {
              "frame": {
               "duration": 300,
               "redraw": false
              },
              "mode": "immediate",
              "transition": {
               "duration": 300
              }
             }
            ],
            "label": "1997",
            "method": "animate"
           },
           {
            "args": [
             [
              1998
             ],
             {
              "frame": {
               "duration": 300,
               "redraw": false
              },
              "mode": "immediate",
              "transition": {
               "duration": 300
              }
             }
            ],
            "label": "1998",
            "method": "animate"
           },
           {
            "args": [
             [
              1999
             ],
             {
              "frame": {
               "duration": 300,
               "redraw": false
              },
              "mode": "immediate",
              "transition": {
               "duration": 300
              }
             }
            ],
            "label": "1999",
            "method": "animate"
           },
           {
            "args": [
             [
              2000
             ],
             {
              "frame": {
               "duration": 300,
               "redraw": false
              },
              "mode": "immediate",
              "transition": {
               "duration": 300
              }
             }
            ],
            "label": "2000",
            "method": "animate"
           },
           {
            "args": [
             [
              2001
             ],
             {
              "frame": {
               "duration": 300,
               "redraw": false
              },
              "mode": "immediate",
              "transition": {
               "duration": 300
              }
             }
            ],
            "label": "2001",
            "method": "animate"
           },
           {
            "args": [
             [
              2002
             ],
             {
              "frame": {
               "duration": 300,
               "redraw": false
              },
              "mode": "immediate",
              "transition": {
               "duration": 300
              }
             }
            ],
            "label": "2002",
            "method": "animate"
           },
           {
            "args": [
             [
              2003
             ],
             {
              "frame": {
               "duration": 300,
               "redraw": false
              },
              "mode": "immediate",
              "transition": {
               "duration": 300
              }
             }
            ],
            "label": "2003",
            "method": "animate"
           },
           {
            "args": [
             [
              2004
             ],
             {
              "frame": {
               "duration": 300,
               "redraw": false
              },
              "mode": "immediate",
              "transition": {
               "duration": 300
              }
             }
            ],
            "label": "2004",
            "method": "animate"
           },
           {
            "args": [
             [
              2005
             ],
             {
              "frame": {
               "duration": 300,
               "redraw": false
              },
              "mode": "immediate",
              "transition": {
               "duration": 300
              }
             }
            ],
            "label": "2005",
            "method": "animate"
           },
           {
            "args": [
             [
              2006
             ],
             {
              "frame": {
               "duration": 300,
               "redraw": false
              },
              "mode": "immediate",
              "transition": {
               "duration": 300
              }
             }
            ],
            "label": "2006",
            "method": "animate"
           },
           {
            "args": [
             [
              2007
             ],
             {
              "frame": {
               "duration": 300,
               "redraw": false
              },
              "mode": "immediate",
              "transition": {
               "duration": 300
              }
             }
            ],
            "label": "2007",
            "method": "animate"
           },
           {
            "args": [
             [
              2008
             ],
             {
              "frame": {
               "duration": 300,
               "redraw": false
              },
              "mode": "immediate",
              "transition": {
               "duration": 300
              }
             }
            ],
            "label": "2008",
            "method": "animate"
           },
           {
            "args": [
             [
              2009
             ],
             {
              "frame": {
               "duration": 300,
               "redraw": false
              },
              "mode": "immediate",
              "transition": {
               "duration": 300
              }
             }
            ],
            "label": "2009",
            "method": "animate"
           },
           {
            "args": [
             [
              2010
             ],
             {
              "frame": {
               "duration": 300,
               "redraw": false
              },
              "mode": "immediate",
              "transition": {
               "duration": 300
              }
             }
            ],
            "label": "2010",
            "method": "animate"
           },
           {
            "args": [
             [
              2011
             ],
             {
              "frame": {
               "duration": 300,
               "redraw": false
              },
              "mode": "immediate",
              "transition": {
               "duration": 300
              }
             }
            ],
            "label": "2011",
            "method": "animate"
           },
           {
            "args": [
             [
              2012
             ],
             {
              "frame": {
               "duration": 300,
               "redraw": false
              },
              "mode": "immediate",
              "transition": {
               "duration": 300
              }
             }
            ],
            "label": "2012",
            "method": "animate"
           },
           {
            "args": [
             [
              2013
             ],
             {
              "frame": {
               "duration": 300,
               "redraw": false
              },
              "mode": "immediate",
              "transition": {
               "duration": 300
              }
             }
            ],
            "label": "2013",
            "method": "animate"
           },
           {
            "args": [
             [
              2014
             ],
             {
              "frame": {
               "duration": 300,
               "redraw": false
              },
              "mode": "immediate",
              "transition": {
               "duration": 300
              }
             }
            ],
            "label": "2014",
            "method": "animate"
           },
           {
            "args": [
             [
              2015
             ],
             {
              "frame": {
               "duration": 300,
               "redraw": false
              },
              "mode": "immediate",
              "transition": {
               "duration": 300
              }
             }
            ],
            "label": "2015",
            "method": "animate"
           },
           {
            "args": [
             [
              2016
             ],
             {
              "frame": {
               "duration": 300,
               "redraw": false
              },
              "mode": "immediate",
              "transition": {
               "duration": 300
              }
             }
            ],
            "label": "2016",
            "method": "animate"
           }
          ],
          "transition": {
           "duration": 300,
           "easing": "cubic-in-out"
          },
          "x": 0.1,
          "xanchor": "left",
          "y": 0,
          "yanchor": "top"
         }
        ],
        "updatemenus": [
         {
          "buttons": [
           {
            "args": [
             null,
             {
              "frame": {
               "duration": 500,
               "redraw": false
              },
              "fromcurrent": true,
              "transition": {
               "duration": 300,
               "easing": "quadratic-in-out"
              }
             }
            ],
            "label": "Play",
            "method": "animate"
           },
           {
            "args": [
             [
              null
             ],
             {
              "frame": {
               "duration": 0,
               "redraw": false
              },
              "mode": "immediate",
              "transition": {
               "duration": 0
              }
             }
            ],
            "label": "Pause",
            "method": "animate"
           }
          ],
          "direction": "left",
          "pad": {
           "r": 10,
           "t": 87
          },
          "showactive": false,
          "type": "buttons",
          "x": 0.1,
          "xanchor": "right",
          "y": 0,
          "yanchor": "top"
         }
        ],
        "width": 1000,
        "xaxis": {
         "title": {
          "text": "Infant Mortality per 1000 Live Births"
         }
        },
        "yaxis": {
         "ticktext": [
          "AUS",
          "AUT",
          "BEL",
          "CAN",
          "CZE",
          "DNK",
          "FIN",
          "FRA",
          "DEU",
          "GRC",
          "HUN",
          "ISL",
          "IRL",
          "ITA",
          "JPN",
          "KOR",
          "LUX",
          "MEX",
          "NLD",
          "NZL",
          "NOR",
          "POL",
          "PRT",
          "SVK",
          "ESP",
          "SWE",
          "CHE",
          "TUR",
          "GBR",
          "USA",
          "BRA",
          "CHL",
          "CHN",
          "EST",
          "IND",
          "IDN",
          "ISR",
          "RUS",
          "SVN",
          "ZAF",
          "COL",
          "LVA",
          "LTU",
          "CRI"
         ],
         "title": {
          "text": "Country"
         }
        }
       }
      },
      "text/html": [
       "<div id=\"12660fa0-81e0-41c9-886d-58bf6724beb4\" style=\"height: 1000px; width: 1000px;\" class=\"plotly-graph-div\"></div><script type=\"text/javascript\">require([\"plotly\"], function(Plotly) { window.PLOTLYENV=window.PLOTLYENV || {};window.PLOTLYENV.BASE_URL=\"https://plot.ly\";\n",
       "    if (document.getElementById(\"12660fa0-81e0-41c9-886d-58bf6724beb4\")) {\n",
       "        Plotly.plot(\n",
       "            '12660fa0-81e0-41c9-886d-58bf6724beb4',\n",
       "            [{\"mode\": \"markers\", \"name\": \"AUS\", \"text\": [\"10.7\"], \"x\": [10.7], \"y\": [\"AUS\"], \"type\": \"scatter\", \"uid\": \"9f927c4c-0049-4bdb-ab93-e7942eaad29c\"}, {\"mode\": \"markers\", \"name\": \"AUT\", \"text\": [\"14.3\"], \"x\": [14.3], \"y\": [\"AUT\"], \"type\": \"scatter\", \"uid\": \"7e23a11b-6109-42de-a0d7-c26a3f2caf10\"}, {\"mode\": \"markers\", \"name\": \"BEL\", \"text\": [\"12.1\"], \"x\": [12.1], \"y\": [\"BEL\"], \"type\": \"scatter\", \"uid\": \"14f35899-347f-4008-aa68-ad7bcca010d2\"}, {\"mode\": \"markers\", \"name\": \"CAN\", \"text\": [\"10.4\"], \"x\": [10.4], \"y\": [\"CAN\"], \"type\": \"scatter\", \"uid\": \"bf4dea7f-d3eb-4697-8060-952ac80482ca\"}, {\"mode\": \"markers\", \"name\": \"CZE\", \"text\": [\"16.9\"], \"x\": [16.9], \"y\": [\"CZE\"], \"type\": \"scatter\", \"uid\": \"7229bc4d-42ad-48f1-9975-c668a77575f1\"}, {\"mode\": \"markers\", \"name\": \"DNK\", \"text\": [\"8.4\"], \"x\": [8.4], \"y\": [\"DNK\"], \"type\": \"scatter\", \"uid\": \"423f44c2-e82e-41fe-a549-fcc5aaf74260\"}, {\"mode\": \"markers\", \"name\": \"FIN\", \"text\": [\"7.6\"], \"x\": [7.6], \"y\": [\"FIN\"], \"type\": \"scatter\", \"uid\": \"d2c19c20-0f6c-476b-ac1e-00fe02889cb4\"}, {\"mode\": \"markers\", \"name\": \"FRA\", \"text\": [\"10.0\"], \"x\": [10.0], \"y\": [\"FRA\"], \"type\": \"scatter\", \"uid\": \"e7163900-2c5f-4d38-9d18-5775c5c49824\"}, {\"mode\": \"markers\", \"name\": \"DEU\", \"text\": [\"12.4\"], \"x\": [12.4], \"y\": [\"DEU\"], \"type\": \"scatter\", \"uid\": \"9b1c44de-1562-4114-bb77-5be624ac73bc\"}, {\"mode\": \"markers\", \"name\": \"GRC\", \"text\": [\"17.9\"], \"x\": [17.9], \"y\": [\"GRC\"], \"type\": \"scatter\", \"uid\": \"4685f2df-f7e6-4d52-9c09-c3d28a4d1264\"}, {\"mode\": \"markers\", \"name\": \"HUN\", \"text\": [\"23.2\"], \"x\": [23.2], \"y\": [\"HUN\"], \"type\": \"scatter\", \"uid\": \"a40c46ec-b7aa-41b1-9bc3-9541cdf708e5\"}, {\"mode\": \"markers\", \"name\": \"ISL\", \"text\": [\"7.7\"], \"x\": [7.7], \"y\": [\"ISL\"], \"type\": \"scatter\", \"uid\": \"27e8f673-ba47-47cb-9d54-75af2d5ce6c4\"}, {\"mode\": \"markers\", \"name\": \"IRL\", \"text\": [\"11.1\"], \"x\": [11.1], \"y\": [\"IRL\"], \"type\": \"scatter\", \"uid\": \"45713627-b7af-4437-b69d-92afa6c0cd0f\"}, {\"mode\": \"markers\", \"name\": \"ITA\", \"text\": [\"14.6\"], \"x\": [14.6], \"y\": [\"ITA\"], \"type\": \"scatter\", \"uid\": \"3a867150-419b-4d6b-982f-45a85ce99d25\"}, {\"mode\": \"markers\", \"name\": \"JPN\", \"text\": [\"7.5\"], \"x\": [7.5], \"y\": [\"JPN\"], \"type\": \"scatter\", \"uid\": \"69f29e15-bf13-4134-859f-24a9137e9a86\"}, {\"mode\": \"markers\", \"name\": \"KOR\", \"text\": [\"0\"], \"x\": [0], \"y\": [\"KOR\"], \"type\": \"scatter\", \"uid\": \"12909aa5-fc5c-4a68-b6a8-3935409f02ac\"}, {\"mode\": \"markers\", \"name\": \"LUX\", \"text\": [\"11.5\"], \"x\": [11.5], \"y\": [\"LUX\"], \"type\": \"scatter\", \"uid\": \"68dd8461-0d92-4119-9224-b8742e6ef03e\"}, {\"mode\": \"markers\", \"name\": \"MEX\", \"text\": [\"52.6\"], \"x\": [52.6], \"y\": [\"MEX\"], \"type\": \"scatter\", \"uid\": \"01aa0321-e76e-4a2e-817b-553547f2d164\"}, {\"mode\": \"markers\", \"name\": \"NLD\", \"text\": [\"8.6\"], \"x\": [8.6], \"y\": [\"NLD\"], \"type\": \"scatter\", \"uid\": \"807b2597-6a05-46d5-a3e8-0bf2105454dd\"}, {\"mode\": \"markers\", \"name\": \"NZL\", \"text\": [\"13.0\"], \"x\": [13.0], \"y\": [\"NZL\"], \"type\": \"scatter\", \"uid\": \"4c26be1d-4b69-4896-83c2-5ba14e35a930\"}, {\"mode\": \"markers\", \"name\": \"NOR\", \"text\": [\"8.1\"], \"x\": [8.1], \"y\": [\"NOR\"], \"type\": \"scatter\", \"uid\": \"c4272e31-df1b-442d-b559-5bb48e56bb87\"}, {\"mode\": \"markers\", \"name\": \"POL\", \"text\": [\"25.4\"], \"x\": [25.4], \"y\": [\"POL\"], \"type\": \"scatter\", \"uid\": \"ab0637ca-f510-43e0-b0f4-62a961908983\"}, {\"mode\": \"markers\", \"name\": \"PRT\", \"text\": [\"24.3\"], \"x\": [24.3], \"y\": [\"PRT\"], \"type\": \"scatter\", \"uid\": \"c6eccba2-8b66-452f-bdae-e5e26dfb1551\"}, {\"mode\": \"markers\", \"name\": \"SVK\", \"text\": [\"20.9\"], \"x\": [20.9], \"y\": [\"SVK\"], \"type\": \"scatter\", \"uid\": \"93e2ba22-d0e1-4852-9c4c-00088c6ed4c5\"}, {\"mode\": \"markers\", \"name\": \"ESP\", \"text\": [\"12.3\"], \"x\": [12.3], \"y\": [\"ESP\"], \"type\": \"scatter\", \"uid\": \"88e2617c-f556-49ca-bf39-e17d8c05ac40\"}, {\"mode\": \"markers\", \"name\": \"SWE\", \"text\": [\"6.9\"], \"x\": [6.9], \"y\": [\"SWE\"], \"type\": \"scatter\", \"uid\": \"9780d2be-f952-41c0-9416-4475d50f7604\"}, {\"mode\": \"markers\", \"name\": \"CHE\", \"text\": [\"9.1\"], \"x\": [9.1], \"y\": [\"CHE\"], \"type\": \"scatter\", \"uid\": \"e8ed0e6e-8aa4-492f-ab21-1c6c5da5659f\"}, {\"mode\": \"markers\", \"name\": \"TUR\", \"text\": [\"0\"], \"x\": [0], \"y\": [\"TUR\"], \"type\": \"scatter\", \"uid\": \"8247cf7b-bee4-41d1-bb49-ffeeb7ab3978\"}, {\"mode\": \"markers\", \"name\": \"GBR\", \"text\": [\"12.1\"], \"x\": [12.1], \"y\": [\"GBR\"], \"type\": \"scatter\", \"uid\": \"ce381ed0-9093-4e7f-902b-6775759530de\"}, {\"mode\": \"markers\", \"name\": \"USA\", \"text\": [\"12.6\"], \"x\": [12.6], \"y\": [\"USA\"], \"type\": \"scatter\", \"uid\": \"11d88525-e1fa-4f82-8e30-c06b98618164\"}, {\"mode\": \"markers\", \"name\": \"BRA\", \"text\": [\"75.9\"], \"x\": [75.9], \"y\": [\"BRA\"], \"type\": \"scatter\", \"uid\": \"72cf6e6e-2ed4-498d-8818-ac1adb3d3c70\"}, {\"mode\": \"markers\", \"name\": \"CHL\", \"text\": [\"33.0\"], \"x\": [33.0], \"y\": [\"CHL\"], \"type\": \"scatter\", \"uid\": \"caa00ac6-7c6e-4f3d-b474-e2778f8ebcc9\"}, {\"mode\": \"markers\", \"name\": \"CHN\", \"text\": [\"48.0\"], \"x\": [48.0], \"y\": [\"CHN\"], \"type\": \"scatter\", \"uid\": \"1183494f-9973-47bf-93aa-27a93849300c\"}, {\"mode\": \"markers\", \"name\": \"EST\", \"text\": [\"17.1\"], \"x\": [17.1], \"y\": [\"EST\"], \"type\": \"scatter\", \"uid\": \"d9e381ee-759c-45c5-a04b-5539cc4698b7\"}, {\"mode\": \"markers\", \"name\": \"IND\", \"text\": [\"114.3\"], \"x\": [114.3], \"y\": [\"IND\"], \"type\": \"scatter\", \"uid\": \"41294108-bb1c-4877-b87b-c61c9dfa73a7\"}, {\"mode\": \"markers\", \"name\": \"IDN\", \"text\": [\"85.4\"], \"x\": [85.4], \"y\": [\"IDN\"], \"type\": \"scatter\", \"uid\": \"814c4879-0a1d-4925-8891-9bd56ff6ef5c\"}, {\"mode\": \"markers\", \"name\": \"ISR\", \"text\": [\"15.6\"], \"x\": [15.6], \"y\": [\"ISR\"], \"type\": \"scatter\", \"uid\": \"6e9888eb-611c-4f0a-b578-183b55187c0d\"}, {\"mode\": \"markers\", \"name\": \"RUS\", \"text\": [\"22.0\"], \"x\": [22.0], \"y\": [\"RUS\"], \"type\": \"scatter\", \"uid\": \"2cb7f567-a24a-44d2-a4a2-01e0da3ae28b\"}, {\"mode\": \"markers\", \"name\": \"SVN\", \"text\": [\"15.3\"], \"x\": [15.3], \"y\": [\"SVN\"], \"type\": \"scatter\", \"uid\": \"a8031eb7-45f9-40e5-9fd8-4917c3114d4a\"}, {\"mode\": \"markers\", \"name\": \"ZAF\", \"text\": [\"68.0\"], \"x\": [68.0], \"y\": [\"ZAF\"], \"type\": \"scatter\", \"uid\": \"f0881e36-733c-4984-9c7a-c7a4271cd46a\"}, {\"mode\": \"markers\", \"name\": \"COL\", \"text\": [\"44.6\"], \"x\": [44.6], \"y\": [\"COL\"], \"type\": \"scatter\", \"uid\": \"c0fdc4e6-37e6-4add-a4f5-9c7f44bbb0a7\"}, {\"mode\": \"markers\", \"name\": \"LVA\", \"text\": [\"15.3\"], \"x\": [15.3], \"y\": [\"LVA\"], \"type\": \"scatter\", \"uid\": \"12c76cec-95f2-4820-8dc8-c418d95423e3\"}, {\"mode\": \"markers\", \"name\": \"LTU\", \"text\": [\"14.5\"], \"x\": [14.5], \"y\": [\"LTU\"], \"type\": \"scatter\", \"uid\": \"68681c46-6930-44bb-9c9a-28a70682ce01\"}, {\"mode\": \"markers\", \"name\": \"CRI\", \"text\": [\"19.8\"], \"x\": [19.8], \"y\": [\"CRI\"], \"type\": \"scatter\", \"uid\": \"22e677fc-a9f3-4bdb-a00e-d332dee51bf9\"}],\n",
       "            {\"autosize\": false, \"height\": 1000, \"hovermode\": \"closest\", \"sliders\": [{\"active\": 0, \"currentvalue\": {\"font\": {\"size\": 20}, \"prefix\": \"Year:\", \"visible\": true, \"xanchor\": \"right\"}, \"len\": 0.9, \"pad\": {\"b\": 10, \"t\": 50}, \"steps\": [{\"args\": [[1980], {\"frame\": {\"duration\": 300, \"redraw\": false}, \"mode\": \"immediate\", \"transition\": {\"duration\": 300}}], \"label\": \"1980\", \"method\": \"animate\"}, {\"args\": [[1981], {\"frame\": {\"duration\": 300, \"redraw\": false}, \"mode\": \"immediate\", \"transition\": {\"duration\": 300}}], \"label\": \"1981\", \"method\": \"animate\"}, {\"args\": [[1982], {\"frame\": {\"duration\": 300, \"redraw\": false}, \"mode\": \"immediate\", \"transition\": {\"duration\": 300}}], \"label\": \"1982\", \"method\": \"animate\"}, {\"args\": [[1983], {\"frame\": {\"duration\": 300, \"redraw\": false}, \"mode\": \"immediate\", \"transition\": {\"duration\": 300}}], \"label\": \"1983\", \"method\": \"animate\"}, {\"args\": [[1984], {\"frame\": {\"duration\": 300, \"redraw\": false}, \"mode\": \"immediate\", \"transition\": {\"duration\": 300}}], \"label\": \"1984\", \"method\": \"animate\"}, {\"args\": [[1985], {\"frame\": {\"duration\": 300, \"redraw\": false}, \"mode\": \"immediate\", \"transition\": {\"duration\": 300}}], \"label\": \"1985\", \"method\": \"animate\"}, {\"args\": [[1986], {\"frame\": {\"duration\": 300, \"redraw\": false}, \"mode\": \"immediate\", \"transition\": {\"duration\": 300}}], \"label\": \"1986\", \"method\": \"animate\"}, {\"args\": [[1987], {\"frame\": {\"duration\": 300, \"redraw\": false}, \"mode\": \"immediate\", \"transition\": {\"duration\": 300}}], \"label\": \"1987\", \"method\": \"animate\"}, {\"args\": [[1988], {\"frame\": {\"duration\": 300, \"redraw\": false}, \"mode\": \"immediate\", \"transition\": {\"duration\": 300}}], \"label\": \"1988\", \"method\": \"animate\"}, {\"args\": [[1989], {\"frame\": {\"duration\": 300, \"redraw\": false}, \"mode\": \"immediate\", \"transition\": {\"duration\": 300}}], \"label\": \"1989\", \"method\": \"animate\"}, {\"args\": [[1990], {\"frame\": {\"duration\": 300, \"redraw\": false}, \"mode\": \"immediate\", \"transition\": {\"duration\": 300}}], \"label\": \"1990\", \"method\": \"animate\"}, {\"args\": [[1991], {\"frame\": {\"duration\": 300, \"redraw\": false}, \"mode\": \"immediate\", \"transition\": {\"duration\": 300}}], \"label\": \"1991\", \"method\": \"animate\"}, {\"args\": [[1992], {\"frame\": {\"duration\": 300, \"redraw\": false}, \"mode\": \"immediate\", \"transition\": {\"duration\": 300}}], \"label\": \"1992\", \"method\": \"animate\"}, {\"args\": [[1993], {\"frame\": {\"duration\": 300, \"redraw\": false}, \"mode\": \"immediate\", \"transition\": {\"duration\": 300}}], \"label\": \"1993\", \"method\": \"animate\"}, {\"args\": [[1994], {\"frame\": {\"duration\": 300, \"redraw\": false}, \"mode\": \"immediate\", \"transition\": {\"duration\": 300}}], \"label\": \"1994\", \"method\": \"animate\"}, {\"args\": [[1995], {\"frame\": {\"duration\": 300, \"redraw\": false}, \"mode\": \"immediate\", \"transition\": {\"duration\": 300}}], \"label\": \"1995\", \"method\": \"animate\"}, {\"args\": [[1996], {\"frame\": {\"duration\": 300, \"redraw\": false}, \"mode\": \"immediate\", \"transition\": {\"duration\": 300}}], \"label\": \"1996\", \"method\": \"animate\"}, {\"args\": [[1997], {\"frame\": {\"duration\": 300, \"redraw\": false}, \"mode\": \"immediate\", \"transition\": {\"duration\": 300}}], \"label\": \"1997\", \"method\": \"animate\"}, {\"args\": [[1998], {\"frame\": {\"duration\": 300, \"redraw\": false}, \"mode\": \"immediate\", \"transition\": {\"duration\": 300}}], \"label\": \"1998\", \"method\": \"animate\"}, {\"args\": [[1999], {\"frame\": {\"duration\": 300, \"redraw\": false}, \"mode\": \"immediate\", \"transition\": {\"duration\": 300}}], \"label\": \"1999\", \"method\": \"animate\"}, {\"args\": [[2000], {\"frame\": {\"duration\": 300, \"redraw\": false}, \"mode\": \"immediate\", \"transition\": {\"duration\": 300}}], \"label\": \"2000\", \"method\": \"animate\"}, {\"args\": [[2001], {\"frame\": {\"duration\": 300, \"redraw\": false}, \"mode\": \"immediate\", \"transition\": {\"duration\": 300}}], \"label\": \"2001\", \"method\": \"animate\"}, {\"args\": [[2002], {\"frame\": {\"duration\": 300, \"redraw\": false}, \"mode\": \"immediate\", \"transition\": {\"duration\": 300}}], \"label\": \"2002\", \"method\": \"animate\"}, {\"args\": [[2003], {\"frame\": {\"duration\": 300, \"redraw\": false}, \"mode\": \"immediate\", \"transition\": {\"duration\": 300}}], \"label\": \"2003\", \"method\": \"animate\"}, {\"args\": [[2004], {\"frame\": {\"duration\": 300, \"redraw\": false}, \"mode\": \"immediate\", \"transition\": {\"duration\": 300}}], \"label\": \"2004\", \"method\": \"animate\"}, {\"args\": [[2005], {\"frame\": {\"duration\": 300, \"redraw\": false}, \"mode\": \"immediate\", \"transition\": {\"duration\": 300}}], \"label\": \"2005\", \"method\": \"animate\"}, {\"args\": [[2006], {\"frame\": {\"duration\": 300, \"redraw\": false}, \"mode\": \"immediate\", \"transition\": {\"duration\": 300}}], \"label\": \"2006\", \"method\": \"animate\"}, {\"args\": [[2007], {\"frame\": {\"duration\": 300, \"redraw\": false}, \"mode\": \"immediate\", \"transition\": {\"duration\": 300}}], \"label\": \"2007\", \"method\": \"animate\"}, {\"args\": [[2008], {\"frame\": {\"duration\": 300, \"redraw\": false}, \"mode\": \"immediate\", \"transition\": {\"duration\": 300}}], \"label\": \"2008\", \"method\": \"animate\"}, {\"args\": [[2009], {\"frame\": {\"duration\": 300, \"redraw\": false}, \"mode\": \"immediate\", \"transition\": {\"duration\": 300}}], \"label\": \"2009\", \"method\": \"animate\"}, {\"args\": [[2010], {\"frame\": {\"duration\": 300, \"redraw\": false}, \"mode\": \"immediate\", \"transition\": {\"duration\": 300}}], \"label\": \"2010\", \"method\": \"animate\"}, {\"args\": [[2011], {\"frame\": {\"duration\": 300, \"redraw\": false}, \"mode\": \"immediate\", \"transition\": {\"duration\": 300}}], \"label\": \"2011\", \"method\": \"animate\"}, {\"args\": [[2012], {\"frame\": {\"duration\": 300, \"redraw\": false}, \"mode\": \"immediate\", \"transition\": {\"duration\": 300}}], \"label\": \"2012\", \"method\": \"animate\"}, {\"args\": [[2013], {\"frame\": {\"duration\": 300, \"redraw\": false}, \"mode\": \"immediate\", \"transition\": {\"duration\": 300}}], \"label\": \"2013\", \"method\": \"animate\"}, {\"args\": [[2014], {\"frame\": {\"duration\": 300, \"redraw\": false}, \"mode\": \"immediate\", \"transition\": {\"duration\": 300}}], \"label\": \"2014\", \"method\": \"animate\"}, {\"args\": [[2015], {\"frame\": {\"duration\": 300, \"redraw\": false}, \"mode\": \"immediate\", \"transition\": {\"duration\": 300}}], \"label\": \"2015\", \"method\": \"animate\"}, {\"args\": [[2016], {\"frame\": {\"duration\": 300, \"redraw\": false}, \"mode\": \"immediate\", \"transition\": {\"duration\": 300}}], \"label\": \"2016\", \"method\": \"animate\"}], \"transition\": {\"duration\": 300, \"easing\": \"cubic-in-out\"}, \"x\": 0.1, \"xanchor\": \"left\", \"y\": 0, \"yanchor\": \"top\"}], \"updatemenus\": [{\"buttons\": [{\"args\": [null, {\"frame\": {\"duration\": 500, \"redraw\": false}, \"fromcurrent\": true, \"transition\": {\"duration\": 300, \"easing\": \"quadratic-in-out\"}}], \"label\": \"Play\", \"method\": \"animate\"}, {\"args\": [[null], {\"frame\": {\"duration\": 0, \"redraw\": false}, \"mode\": \"immediate\", \"transition\": {\"duration\": 0}}], \"label\": \"Pause\", \"method\": \"animate\"}], \"direction\": \"left\", \"pad\": {\"r\": 10, \"t\": 87}, \"showactive\": false, \"type\": \"buttons\", \"x\": 0.1, \"xanchor\": \"right\", \"y\": 0, \"yanchor\": \"top\"}], \"width\": 1000, \"xaxis\": {\"title\": {\"text\": \"Infant Mortality per 1000 Live Births\"}}, \"yaxis\": {\"ticktext\": [\"AUS\", \"AUT\", \"BEL\", \"CAN\", \"CZE\", \"DNK\", \"FIN\", \"FRA\", \"DEU\", \"GRC\", \"HUN\", \"ISL\", \"IRL\", \"ITA\", \"JPN\", \"KOR\", \"LUX\", \"MEX\", \"NLD\", \"NZL\", \"NOR\", \"POL\", \"PRT\", \"SVK\", \"ESP\", \"SWE\", \"CHE\", \"TUR\", \"GBR\", \"USA\", \"BRA\", \"CHL\", \"CHN\", \"EST\", \"IND\", \"IDN\", \"ISR\", \"RUS\", \"SVN\", \"ZAF\", \"COL\", \"LVA\", \"LTU\", \"CRI\"], \"title\": {\"text\": \"Country\"}}},\n",
       "            {\"showLink\": false, \"linkText\": \"Export to plot.ly\", \"plotlyServerURL\": \"https://plot.ly\"}\n",
       "        ).then(function () {return Plotly.addFrames('12660fa0-81e0-41c9-886d-58bf6724beb4',[{\"data\": [{\"mode\": \"markers\", \"name\": \"AUS\", \"text\": [\"10.7\"], \"x\": [10.7], \"y\": [\"AUS\"], \"type\": \"scatter\"}, {\"mode\": \"markers\", \"name\": \"AUT\", \"text\": [\"14.3\"], \"x\": [14.3], \"y\": [\"AUT\"], \"type\": \"scatter\"}, {\"mode\": \"markers\", \"name\": \"BEL\", \"text\": [\"12.1\"], \"x\": [12.1], \"y\": [\"BEL\"], \"type\": \"scatter\"}, {\"mode\": \"markers\", \"name\": \"CAN\", \"text\": [\"10.4\"], \"x\": [10.4], \"y\": [\"CAN\"], \"type\": \"scatter\"}, {\"mode\": \"markers\", \"name\": \"CZE\", \"text\": [\"16.9\"], \"x\": [16.9], \"y\": [\"CZE\"], \"type\": \"scatter\"}, {\"mode\": \"markers\", \"name\": \"DNK\", \"text\": [\"8.4\"], \"x\": [8.4], \"y\": [\"DNK\"], \"type\": \"scatter\"}, {\"mode\": \"markers\", \"name\": \"FIN\", \"text\": [\"7.6\"], \"x\": [7.6], \"y\": [\"FIN\"], \"type\": \"scatter\"}, {\"mode\": \"markers\", \"name\": \"FRA\", \"text\": [\"10.0\"], \"x\": [10.0], \"y\": [\"FRA\"], \"type\": \"scatter\"}, {\"mode\": \"markers\", \"name\": \"DEU\", \"text\": [\"12.4\"], \"x\": [12.4], \"y\": [\"DEU\"], \"type\": \"scatter\"}, {\"mode\": \"markers\", \"name\": \"GRC\", \"text\": [\"17.9\"], \"x\": [17.9], \"y\": [\"GRC\"], \"type\": \"scatter\"}, {\"mode\": \"markers\", \"name\": \"HUN\", \"text\": [\"23.2\"], \"x\": [23.2], \"y\": [\"HUN\"], \"type\": \"scatter\"}, {\"mode\": \"markers\", \"name\": \"ISL\", \"text\": [\"7.7\"], \"x\": [7.7], \"y\": [\"ISL\"], \"type\": \"scatter\"}, {\"mode\": \"markers\", \"name\": \"IRL\", \"text\": [\"11.1\"], \"x\": [11.1], \"y\": [\"IRL\"], \"type\": \"scatter\"}, {\"mode\": \"markers\", \"name\": \"ITA\", \"text\": [\"14.6\"], \"x\": [14.6], \"y\": [\"ITA\"], \"type\": \"scatter\"}, {\"mode\": \"markers\", \"name\": \"JPN\", \"text\": [\"7.5\"], \"x\": [7.5], \"y\": [\"JPN\"], \"type\": \"scatter\"}, {\"mode\": \"markers\", \"name\": \"KOR\", \"text\": [\"0\"], \"x\": [0], \"y\": [\"KOR\"], \"type\": \"scatter\"}, {\"mode\": \"markers\", \"name\": \"LUX\", \"text\": [\"11.5\"], \"x\": [11.5], \"y\": [\"LUX\"], \"type\": \"scatter\"}, {\"mode\": \"markers\", \"name\": \"MEX\", \"text\": [\"52.6\"], \"x\": [52.6], \"y\": [\"MEX\"], \"type\": \"scatter\"}, {\"mode\": \"markers\", \"name\": \"NLD\", \"text\": [\"8.6\"], \"x\": [8.6], \"y\": [\"NLD\"], \"type\": \"scatter\"}, {\"mode\": \"markers\", \"name\": \"NZL\", \"text\": [\"13.0\"], \"x\": [13.0], \"y\": [\"NZL\"], \"type\": \"scatter\"}, {\"mode\": \"markers\", \"name\": \"NOR\", \"text\": [\"8.1\"], \"x\": [8.1], \"y\": [\"NOR\"], \"type\": \"scatter\"}, {\"mode\": \"markers\", \"name\": \"POL\", \"text\": [\"25.4\"], \"x\": [25.4], \"y\": [\"POL\"], \"type\": \"scatter\"}, {\"mode\": \"markers\", \"name\": \"PRT\", \"text\": [\"24.3\"], \"x\": [24.3], \"y\": [\"PRT\"], \"type\": \"scatter\"}, {\"mode\": \"markers\", \"name\": \"SVK\", \"text\": [\"20.9\"], \"x\": [20.9], \"y\": [\"SVK\"], \"type\": \"scatter\"}, {\"mode\": \"markers\", \"name\": \"ESP\", \"text\": [\"12.3\"], \"x\": [12.3], \"y\": [\"ESP\"], \"type\": \"scatter\"}, {\"mode\": \"markers\", \"name\": \"SWE\", \"text\": [\"6.9\"], \"x\": [6.9], \"y\": [\"SWE\"], \"type\": \"scatter\"}, {\"mode\": \"markers\", \"name\": \"CHE\", \"text\": [\"9.1\"], \"x\": [9.1], \"y\": [\"CHE\"], \"type\": \"scatter\"}, {\"mode\": \"markers\", \"name\": \"TUR\", \"text\": [\"0\"], \"x\": [0], \"y\": [\"TUR\"], \"type\": \"scatter\"}, {\"mode\": \"markers\", \"name\": \"GBR\", \"text\": [\"12.1\"], \"x\": [12.1], \"y\": [\"GBR\"], \"type\": \"scatter\"}, {\"mode\": \"markers\", \"name\": \"USA\", \"text\": [\"12.6\"], \"x\": [12.6], \"y\": [\"USA\"], \"type\": \"scatter\"}, {\"mode\": \"markers\", \"name\": \"BRA\", \"text\": [\"75.9\"], \"x\": [75.9], \"y\": [\"BRA\"], \"type\": \"scatter\"}, {\"mode\": \"markers\", \"name\": \"CHL\", \"text\": [\"33.0\"], \"x\": [33.0], \"y\": [\"CHL\"], \"type\": \"scatter\"}, {\"mode\": \"markers\", \"name\": \"CHN\", \"text\": [\"48.0\"], \"x\": [48.0], \"y\": [\"CHN\"], \"type\": \"scatter\"}, {\"mode\": \"markers\", \"name\": \"EST\", \"text\": [\"17.1\"], \"x\": [17.1], \"y\": [\"EST\"], \"type\": \"scatter\"}, {\"mode\": \"markers\", \"name\": \"IND\", \"text\": [\"114.3\"], \"x\": [114.3], \"y\": [\"IND\"], \"type\": \"scatter\"}, {\"mode\": \"markers\", \"name\": \"IDN\", \"text\": [\"85.4\"], \"x\": [85.4], \"y\": [\"IDN\"], \"type\": \"scatter\"}, {\"mode\": \"markers\", \"name\": \"ISR\", \"text\": [\"15.6\"], \"x\": [15.6], \"y\": [\"ISR\"], \"type\": \"scatter\"}, {\"mode\": \"markers\", \"name\": \"RUS\", \"text\": [\"22.0\"], \"x\": [22.0], \"y\": [\"RUS\"], \"type\": \"scatter\"}, {\"mode\": \"markers\", \"name\": \"SVN\", \"text\": [\"15.3\"], \"x\": [15.3], \"y\": [\"SVN\"], \"type\": \"scatter\"}, {\"mode\": \"markers\", \"name\": \"ZAF\", \"text\": [\"68.0\"], \"x\": [68.0], \"y\": [\"ZAF\"], \"type\": \"scatter\"}, {\"mode\": \"markers\", \"name\": \"COL\", \"text\": [\"44.6\"], \"x\": [44.6], \"y\": [\"COL\"], \"type\": \"scatter\"}, {\"mode\": \"markers\", \"name\": \"LVA\", \"text\": [\"15.3\"], \"x\": [15.3], \"y\": [\"LVA\"], \"type\": \"scatter\"}, {\"mode\": \"markers\", \"name\": \"LTU\", \"text\": [\"14.5\"], \"x\": [14.5], \"y\": [\"LTU\"], \"type\": \"scatter\"}, {\"mode\": \"markers\", \"name\": \"CRI\", \"text\": [\"19.8\"], \"x\": [19.8], \"y\": [\"CRI\"], \"type\": \"scatter\"}], \"name\": \"1980\"}, {\"data\": [{\"mode\": \"markers\", \"name\": \"AUS\", \"text\": [\"10.0\"], \"x\": [10.0], \"y\": [\"AUS\"], \"type\": \"scatter\"}, {\"mode\": \"markers\", \"name\": \"AUT\", \"text\": [\"12.6\"], \"x\": [12.6], \"y\": [\"AUT\"], \"type\": \"scatter\"}, {\"mode\": \"markers\", \"name\": \"BEL\", \"text\": [\"11.5\"], \"x\": [11.5], \"y\": [\"BEL\"], \"type\": \"scatter\"}, {\"mode\": \"markers\", \"name\": \"CAN\", \"text\": [\"9.6\"], \"x\": [9.6], \"y\": [\"CAN\"], \"type\": \"scatter\"}, {\"mode\": \"markers\", \"name\": \"CZE\", \"text\": [\"15.4\"], \"x\": [15.4], \"y\": [\"CZE\"], \"type\": \"scatter\"}, {\"mode\": \"markers\", \"name\": \"DNK\", \"text\": [\"7.9\"], \"x\": [7.9], \"y\": [\"DNK\"], \"type\": \"scatter\"}, {\"mode\": \"markers\", \"name\": \"FIN\", \"text\": [\"6.5\"], \"x\": [6.5], \"y\": [\"FIN\"], \"type\": \"scatter\"}, {\"mode\": \"markers\", \"name\": \"FRA\", \"text\": [\"9.7\"], \"x\": [9.7], \"y\": [\"FRA\"], \"type\": \"scatter\"}, {\"mode\": \"markers\", \"name\": \"DEU\", \"text\": [\"11.8\"], \"x\": [11.8], \"y\": [\"DEU\"], \"type\": \"scatter\"}, {\"mode\": \"markers\", \"name\": \"GRC\", \"text\": [\"16.3\"], \"x\": [16.3], \"y\": [\"GRC\"], \"type\": \"scatter\"}, {\"mode\": \"markers\", \"name\": \"HUN\", \"text\": [\"20.8\"], \"x\": [20.8], \"y\": [\"HUN\"], \"type\": \"scatter\"}, {\"mode\": \"markers\", \"name\": \"ISL\", \"text\": [\"6.0\"], \"x\": [6.0], \"y\": [\"ISL\"], \"type\": \"scatter\"}, {\"mode\": \"markers\", \"name\": \"IRL\", \"text\": [\"10.3\"], \"x\": [10.3], \"y\": [\"IRL\"], \"type\": \"scatter\"}, {\"mode\": \"markers\", \"name\": \"ITA\", \"text\": [\"14.1\"], \"x\": [14.1], \"y\": [\"ITA\"], \"type\": \"scatter\"}, {\"mode\": \"markers\", \"name\": \"JPN\", \"text\": [\"7.1\"], \"x\": [7.1], \"y\": [\"JPN\"], \"type\": \"scatter\"}, {\"mode\": \"markers\", \"name\": \"KOR\", \"text\": [\"17.0\"], \"x\": [17.0], \"y\": [\"KOR\"], \"type\": \"scatter\"}, {\"mode\": \"markers\", \"name\": \"LUX\", \"text\": [\"13.8\"], \"x\": [13.8], \"y\": [\"LUX\"], \"type\": \"scatter\"}, {\"mode\": \"markers\", \"name\": \"MEX\", \"text\": [\"49.3\"], \"x\": [49.3], \"y\": [\"MEX\"], \"type\": \"scatter\"}, {\"mode\": \"markers\", \"name\": \"NLD\", \"text\": [\"8.3\"], \"x\": [8.3], \"y\": [\"NLD\"], \"type\": \"scatter\"}, {\"mode\": \"markers\", \"name\": \"NZL\", \"text\": [\"11.8\"], \"x\": [11.8], \"y\": [\"NZL\"], \"type\": \"scatter\"}, {\"mode\": \"markers\", \"name\": \"NOR\", \"text\": [\"7.5\"], \"x\": [7.5], \"y\": [\"NOR\"], \"type\": \"scatter\"}, {\"mode\": \"markers\", \"name\": \"POL\", \"text\": [\"24.9\"], \"x\": [24.9], \"y\": [\"POL\"], \"type\": \"scatter\"}, {\"mode\": \"markers\", \"name\": \"PRT\", \"text\": [\"21.8\"], \"x\": [21.8], \"y\": [\"PRT\"], \"type\": \"scatter\"}, {\"mode\": \"markers\", \"name\": \"SVK\", \"text\": [\"19.2\"], \"x\": [19.2], \"y\": [\"SVK\"], \"type\": \"scatter\"}, {\"mode\": \"markers\", \"name\": \"ESP\", \"text\": [\"12.5\"], \"x\": [12.5], \"y\": [\"ESP\"], \"type\": \"scatter\"}, {\"mode\": \"markers\", \"name\": \"SWE\", \"text\": [\"6.9\"], \"x\": [6.9], \"y\": [\"SWE\"], \"type\": \"scatter\"}, {\"mode\": \"markers\", \"name\": \"CHE\", \"text\": [\"7.6\"], \"x\": [7.6], \"y\": [\"CHE\"], \"type\": \"scatter\"}, {\"mode\": \"markers\", \"name\": \"TUR\", \"text\": [\"0\"], \"x\": [0], \"y\": [\"TUR\"], \"type\": \"scatter\"}, {\"mode\": \"markers\", \"name\": \"GBR\", \"text\": [\"11.2\"], \"x\": [11.2], \"y\": [\"GBR\"], \"type\": \"scatter\"}, {\"mode\": \"markers\", \"name\": \"USA\", \"text\": [\"11.9\"], \"x\": [11.9], \"y\": [\"USA\"], \"type\": \"scatter\"}, {\"mode\": \"markers\", \"name\": \"BRA\", \"text\": [\"72.7\"], \"x\": [72.7], \"y\": [\"BRA\"], \"type\": \"scatter\"}, {\"mode\": \"markers\", \"name\": \"CHL\", \"text\": [\"27.0\"], \"x\": [27.0], \"y\": [\"CHL\"], \"type\": \"scatter\"}, {\"mode\": \"markers\", \"name\": \"CHN\", \"text\": [\"46.1\"], \"x\": [46.1], \"y\": [\"CHN\"], \"type\": \"scatter\"}, {\"mode\": \"markers\", \"name\": \"EST\", \"text\": [\"17.0\"], \"x\": [17.0], \"y\": [\"EST\"], \"type\": \"scatter\"}, {\"mode\": \"markers\", \"name\": \"IND\", \"text\": [\"111.3\"], \"x\": [111.3], \"y\": [\"IND\"], \"type\": \"scatter\"}, {\"mode\": \"markers\", \"name\": \"IDN\", \"text\": [\"83.1\"], \"x\": [83.1], \"y\": [\"IDN\"], \"type\": \"scatter\"}, {\"mode\": \"markers\", \"name\": \"ISR\", \"text\": [\"15.7\"], \"x\": [15.7], \"y\": [\"ISR\"], \"type\": \"scatter\"}, {\"mode\": \"markers\", \"name\": \"RUS\", \"text\": [\"21.5\"], \"x\": [21.5], \"y\": [\"RUS\"], \"type\": \"scatter\"}, {\"mode\": \"markers\", \"name\": \"SVN\", \"text\": [\"13.1\"], \"x\": [13.1], \"y\": [\"SVN\"], \"type\": \"scatter\"}, {\"mode\": \"markers\", \"name\": \"ZAF\", \"text\": [\"65.0\"], \"x\": [65.0], \"y\": [\"ZAF\"], \"type\": \"scatter\"}, {\"mode\": \"markers\", \"name\": \"COL\", \"text\": [\"42.0\"], \"x\": [42.0], \"y\": [\"COL\"], \"type\": \"scatter\"}, {\"mode\": \"markers\", \"name\": \"LVA\", \"text\": [\"16.0\"], \"x\": [16.0], \"y\": [\"LVA\"], \"type\": \"scatter\"}, {\"mode\": \"markers\", \"name\": \"LTU\", \"text\": [\"16.5\"], \"x\": [16.5], \"y\": [\"LTU\"], \"type\": \"scatter\"}, {\"mode\": \"markers\", \"name\": \"CRI\", \"text\": [\"19.3\"], \"x\": [19.3], \"y\": [\"CRI\"], \"type\": \"scatter\"}], \"name\": \"1981\"}, {\"data\": [{\"mode\": \"markers\", \"name\": \"AUS\", \"text\": [\"10.3\"], \"x\": [10.3], \"y\": [\"AUS\"], \"type\": \"scatter\"}, {\"mode\": \"markers\", \"name\": \"AUT\", \"text\": [\"12.8\"], \"x\": [12.8], \"y\": [\"AUT\"], \"type\": \"scatter\"}, {\"mode\": \"markers\", \"name\": \"BEL\", \"text\": [\"11.1\"], \"x\": [11.1], \"y\": [\"BEL\"], \"type\": \"scatter\"}, {\"mode\": \"markers\", \"name\": \"CAN\", \"text\": [\"9.1\"], \"x\": [9.1], \"y\": [\"CAN\"], \"type\": \"scatter\"}, {\"mode\": \"markers\", \"name\": \"CZE\", \"text\": [\"15.0\"], \"x\": [15.0], \"y\": [\"CZE\"], \"type\": \"scatter\"}, {\"mode\": \"markers\", \"name\": \"DNK\", \"text\": [\"8.2\"], \"x\": [8.2], \"y\": [\"DNK\"], \"type\": \"scatter\"}, {\"mode\": \"markers\", \"name\": \"FIN\", \"text\": [\"6.0\"], \"x\": [6.0], \"y\": [\"FIN\"], \"type\": \"scatter\"}, {\"mode\": \"markers\", \"name\": \"FRA\", \"text\": [\"9.5\"], \"x\": [9.5], \"y\": [\"FRA\"], \"type\": \"scatter\"}, {\"mode\": \"markers\", \"name\": \"DEU\", \"text\": [\"11.1\"], \"x\": [11.1], \"y\": [\"DEU\"], \"type\": \"scatter\"}, {\"mode\": \"markers\", \"name\": \"GRC\", \"text\": [\"15.1\"], \"x\": [15.1], \"y\": [\"GRC\"], \"type\": \"scatter\"}, {\"mode\": \"markers\", \"name\": \"HUN\", \"text\": [\"20.0\"], \"x\": [20.0], \"y\": [\"HUN\"], \"type\": \"scatter\"}, {\"mode\": \"markers\", \"name\": \"ISL\", \"text\": [\"7.1\"], \"x\": [7.1], \"y\": [\"ISL\"], \"type\": \"scatter\"}, {\"mode\": \"markers\", \"name\": \"IRL\", \"text\": [\"10.5\"], \"x\": [10.5], \"y\": [\"IRL\"], \"type\": \"scatter\"}, {\"mode\": \"markers\", \"name\": \"ITA\", \"text\": [\"13.0\"], \"x\": [13.0], \"y\": [\"ITA\"], \"type\": \"scatter\"}, {\"mode\": \"markers\", \"name\": \"JPN\", \"text\": [\"6.6\"], \"x\": [6.6], \"y\": [\"JPN\"], \"type\": \"scatter\"}, {\"mode\": \"markers\", \"name\": \"KOR\", \"text\": [\"0\"], \"x\": [0], \"y\": [\"KOR\"], \"type\": \"scatter\"}, {\"mode\": \"markers\", \"name\": \"LUX\", \"text\": [\"12.1\"], \"x\": [12.1], \"y\": [\"LUX\"], \"type\": \"scatter\"}, {\"mode\": \"markers\", \"name\": \"MEX\", \"text\": [\"46.3\"], \"x\": [46.3], \"y\": [\"MEX\"], \"type\": \"scatter\"}, {\"mode\": \"markers\", \"name\": \"NLD\", \"text\": [\"8.3\"], \"x\": [8.3], \"y\": [\"NLD\"], \"type\": \"scatter\"}, {\"mode\": \"markers\", \"name\": \"NZL\", \"text\": [\"12.0\"], \"x\": [12.0], \"y\": [\"NZL\"], \"type\": \"scatter\"}, {\"mode\": \"markers\", \"name\": \"NOR\", \"text\": [\"8.1\"], \"x\": [8.1], \"y\": [\"NOR\"], \"type\": \"scatter\"}, {\"mode\": \"markers\", \"name\": \"POL\", \"text\": [\"24.4\"], \"x\": [24.4], \"y\": [\"POL\"], \"type\": \"scatter\"}, {\"mode\": \"markers\", \"name\": \"PRT\", \"text\": [\"19.8\"], \"x\": [19.8], \"y\": [\"PRT\"], \"type\": \"scatter\"}, {\"mode\": \"markers\", \"name\": \"SVK\", \"text\": [\"17.9\"], \"x\": [17.9], \"y\": [\"SVK\"], \"type\": \"scatter\"}, {\"mode\": \"markers\", \"name\": \"ESP\", \"text\": [\"11.3\"], \"x\": [11.3], \"y\": [\"ESP\"], \"type\": \"scatter\"}, {\"mode\": \"markers\", \"name\": \"SWE\", \"text\": [\"6.8\"], \"x\": [6.8], \"y\": [\"SWE\"], \"type\": \"scatter\"}, {\"mode\": \"markers\", \"name\": \"CHE\", \"text\": [\"7.7\"], \"x\": [7.7], \"y\": [\"CHE\"], \"type\": \"scatter\"}, {\"mode\": \"markers\", \"name\": \"TUR\", \"text\": [\"0\"], \"x\": [0], \"y\": [\"TUR\"], \"type\": \"scatter\"}, {\"mode\": \"markers\", \"name\": \"GBR\", \"text\": [\"11.0\"], \"x\": [11.0], \"y\": [\"GBR\"], \"type\": \"scatter\"}, {\"mode\": \"markers\", \"name\": \"USA\", \"text\": [\"11.5\"], \"x\": [11.5], \"y\": [\"USA\"], \"type\": \"scatter\"}, {\"mode\": \"markers\", \"name\": \"BRA\", \"text\": [\"69.7\"], \"x\": [69.7], \"y\": [\"BRA\"], \"type\": \"scatter\"}, {\"mode\": \"markers\", \"name\": \"CHL\", \"text\": [\"24.0\"], \"x\": [24.0], \"y\": [\"CHL\"], \"type\": \"scatter\"}, {\"mode\": \"markers\", \"name\": \"CHN\", \"text\": [\"44.6\"], \"x\": [44.6], \"y\": [\"CHN\"], \"type\": \"scatter\"}, {\"mode\": \"markers\", \"name\": \"EST\", \"text\": [\"17.2\"], \"x\": [17.2], \"y\": [\"EST\"], \"type\": \"scatter\"}, {\"mode\": \"markers\", \"name\": \"IND\", \"text\": [\"108.4\"], \"x\": [108.4], \"y\": [\"IND\"], \"type\": \"scatter\"}, {\"mode\": \"markers\", \"name\": \"IDN\", \"text\": [\"80.8\"], \"x\": [80.8], \"y\": [\"IDN\"], \"type\": \"scatter\"}, {\"mode\": \"markers\", \"name\": \"ISR\", \"text\": [\"14.1\"], \"x\": [14.1], \"y\": [\"ISR\"], \"type\": \"scatter\"}, {\"mode\": \"markers\", \"name\": \"RUS\", \"text\": [\"20.2\"], \"x\": [20.2], \"y\": [\"RUS\"], \"type\": \"scatter\"}, {\"mode\": \"markers\", \"name\": \"SVN\", \"text\": [\"14.0\"], \"x\": [14.0], \"y\": [\"SVN\"], \"type\": \"scatter\"}, {\"mode\": \"markers\", \"name\": \"ZAF\", \"text\": [\"62.2\"], \"x\": [62.2], \"y\": [\"ZAF\"], \"type\": \"scatter\"}, {\"mode\": \"markers\", \"name\": \"COL\", \"text\": [\"39.7\"], \"x\": [39.7], \"y\": [\"COL\"], \"type\": \"scatter\"}, {\"mode\": \"markers\", \"name\": \"LVA\", \"text\": [\"13.9\"], \"x\": [13.9], \"y\": [\"LVA\"], \"type\": \"scatter\"}, {\"mode\": \"markers\", \"name\": \"LTU\", \"text\": [\"15.0\"], \"x\": [15.0], \"y\": [\"LTU\"], \"type\": \"scatter\"}, {\"mode\": \"markers\", \"name\": \"CRI\", \"text\": [\"19.2\"], \"x\": [19.2], \"y\": [\"CRI\"], \"type\": \"scatter\"}], \"name\": \"1982\"}, {\"data\": [{\"mode\": \"markers\", \"name\": \"AUS\", \"text\": [\"9.6\"], \"x\": [9.6], \"y\": [\"AUS\"], \"type\": \"scatter\"}, {\"mode\": \"markers\", \"name\": \"AUT\", \"text\": [\"11.9\"], \"x\": [11.9], \"y\": [\"AUT\"], \"type\": \"scatter\"}, {\"mode\": \"markers\", \"name\": \"BEL\", \"text\": [\"10.6\"], \"x\": [10.6], \"y\": [\"BEL\"], \"type\": \"scatter\"}, {\"mode\": \"markers\", \"name\": \"CAN\", \"text\": [\"8.5\"], \"x\": [8.5], \"y\": [\"CAN\"], \"type\": \"scatter\"}, {\"mode\": \"markers\", \"name\": \"CZE\", \"text\": [\"14.5\"], \"x\": [14.5], \"y\": [\"CZE\"], \"type\": \"scatter\"}, {\"mode\": \"markers\", \"name\": \"DNK\", \"text\": [\"7.7\"], \"x\": [7.7], \"y\": [\"DNK\"], \"type\": \"scatter\"}, {\"mode\": \"markers\", \"name\": \"FIN\", \"text\": [\"6.2\"], \"x\": [6.2], \"y\": [\"FIN\"], \"type\": \"scatter\"}, {\"mode\": \"markers\", \"name\": \"FRA\", \"text\": [\"9.1\"], \"x\": [9.1], \"y\": [\"FRA\"], \"type\": \"scatter\"}, {\"mode\": \"markers\", \"name\": \"DEU\", \"text\": [\"10.4\"], \"x\": [10.4], \"y\": [\"DEU\"], \"type\": \"scatter\"}, {\"mode\": \"markers\", \"name\": \"GRC\", \"text\": [\"14.6\"], \"x\": [14.6], \"y\": [\"GRC\"], \"type\": \"scatter\"}, {\"mode\": \"markers\", \"name\": \"HUN\", \"text\": [\"19.0\"], \"x\": [19.0], \"y\": [\"HUN\"], \"type\": \"scatter\"}, {\"mode\": \"markers\", \"name\": \"ISL\", \"text\": [\"6.2\"], \"x\": [6.2], \"y\": [\"ISL\"], \"type\": \"scatter\"}, {\"mode\": \"markers\", \"name\": \"IRL\", \"text\": [\"10.1\"], \"x\": [10.1], \"y\": [\"IRL\"], \"type\": \"scatter\"}, {\"mode\": \"markers\", \"name\": \"ITA\", \"text\": [\"12.3\"], \"x\": [12.3], \"y\": [\"ITA\"], \"type\": \"scatter\"}, {\"mode\": \"markers\", \"name\": \"JPN\", \"text\": [\"6.2\"], \"x\": [6.2], \"y\": [\"JPN\"], \"type\": \"scatter\"}, {\"mode\": \"markers\", \"name\": \"KOR\", \"text\": [\"0\"], \"x\": [0], \"y\": [\"KOR\"], \"type\": \"scatter\"}, {\"mode\": \"markers\", \"name\": \"LUX\", \"text\": [\"11.2\"], \"x\": [11.2], \"y\": [\"LUX\"], \"type\": \"scatter\"}, {\"mode\": \"markers\", \"name\": \"MEX\", \"text\": [\"44.2\"], \"x\": [44.2], \"y\": [\"MEX\"], \"type\": \"scatter\"}, {\"mode\": \"markers\", \"name\": \"NLD\", \"text\": [\"8.4\"], \"x\": [8.4], \"y\": [\"NLD\"], \"type\": \"scatter\"}, {\"mode\": \"markers\", \"name\": \"NZL\", \"text\": [\"12.9\"], \"x\": [12.9], \"y\": [\"NZL\"], \"type\": \"scatter\"}, {\"mode\": \"markers\", \"name\": \"NOR\", \"text\": [\"7.9\"], \"x\": [7.9], \"y\": [\"NOR\"], \"type\": \"scatter\"}, {\"mode\": \"markers\", \"name\": \"POL\", \"text\": [\"23.1\"], \"x\": [23.1], \"y\": [\"POL\"], \"type\": \"scatter\"}, {\"mode\": \"markers\", \"name\": \"PRT\", \"text\": [\"19.2\"], \"x\": [19.2], \"y\": [\"PRT\"], \"type\": \"scatter\"}, {\"mode\": \"markers\", \"name\": \"SVK\", \"text\": [\"17.5\"], \"x\": [17.5], \"y\": [\"SVK\"], \"type\": \"scatter\"}, {\"mode\": \"markers\", \"name\": \"ESP\", \"text\": [\"10.9\"], \"x\": [10.9], \"y\": [\"ESP\"], \"type\": \"scatter\"}, {\"mode\": \"markers\", \"name\": \"SWE\", \"text\": [\"7.0\"], \"x\": [7.0], \"y\": [\"SWE\"], \"type\": \"scatter\"}, {\"mode\": \"markers\", \"name\": \"CHE\", \"text\": [\"7.6\"], \"x\": [7.6], \"y\": [\"CHE\"], \"type\": \"scatter\"}, {\"mode\": \"markers\", \"name\": \"TUR\", \"text\": [\"0\"], \"x\": [0], \"y\": [\"TUR\"], \"type\": \"scatter\"}, {\"mode\": \"markers\", \"name\": \"GBR\", \"text\": [\"10.2\"], \"x\": [10.2], \"y\": [\"GBR\"], \"type\": \"scatter\"}, {\"mode\": \"markers\", \"name\": \"USA\", \"text\": [\"11.2\"], \"x\": [11.2], \"y\": [\"USA\"], \"type\": \"scatter\"}, {\"mode\": \"markers\", \"name\": \"BRA\", \"text\": [\"66.7\"], \"x\": [66.7], \"y\": [\"BRA\"], \"type\": \"scatter\"}, {\"mode\": \"markers\", \"name\": \"CHL\", \"text\": [\"22.2\"], \"x\": [22.2], \"y\": [\"CHL\"], \"type\": \"scatter\"}, {\"mode\": \"markers\", \"name\": \"CHN\", \"text\": [\"43.4\"], \"x\": [43.4], \"y\": [\"CHN\"], \"type\": \"scatter\"}, {\"mode\": \"markers\", \"name\": \"EST\", \"text\": [\"16.1\"], \"x\": [16.1], \"y\": [\"EST\"], \"type\": \"scatter\"}, {\"mode\": \"markers\", \"name\": \"IND\", \"text\": [\"105.7\"], \"x\": [105.7], \"y\": [\"IND\"], \"type\": \"scatter\"}, {\"mode\": \"markers\", \"name\": \"IDN\", \"text\": [\"78.5\"], \"x\": [78.5], \"y\": [\"IDN\"], \"type\": \"scatter\"}, {\"mode\": \"markers\", \"name\": \"ISR\", \"text\": [\"13.7\"], \"x\": [13.7], \"y\": [\"ISR\"], \"type\": \"scatter\"}, {\"mode\": \"markers\", \"name\": \"RUS\", \"text\": [\"19.9\"], \"x\": [19.9], \"y\": [\"RUS\"], \"type\": \"scatter\"}, {\"mode\": \"markers\", \"name\": \"SVN\", \"text\": [\"13.9\"], \"x\": [13.9], \"y\": [\"SVN\"], \"type\": \"scatter\"}, {\"mode\": \"markers\", \"name\": \"ZAF\", \"text\": [\"59.6\"], \"x\": [59.6], \"y\": [\"ZAF\"], \"type\": \"scatter\"}, {\"mode\": \"markers\", \"name\": \"COL\", \"text\": [\"37.6\"], \"x\": [37.6], \"y\": [\"COL\"], \"type\": \"scatter\"}, {\"mode\": \"markers\", \"name\": \"LVA\", \"text\": [\"15.9\"], \"x\": [15.9], \"y\": [\"LVA\"], \"type\": \"scatter\"}, {\"mode\": \"markers\", \"name\": \"LTU\", \"text\": [\"13.9\"], \"x\": [13.9], \"y\": [\"LTU\"], \"type\": \"scatter\"}, {\"mode\": \"markers\", \"name\": \"CRI\", \"text\": [\"19.1\"], \"x\": [19.1], \"y\": [\"CRI\"], \"type\": \"scatter\"}], \"name\": \"1983\"}, {\"data\": [{\"mode\": \"markers\", \"name\": \"AUS\", \"text\": [\"9.2\"], \"x\": [9.2], \"y\": [\"AUS\"], \"type\": \"scatter\"}, {\"mode\": \"markers\", \"name\": \"AUT\", \"text\": [\"11.4\"], \"x\": [11.4], \"y\": [\"AUT\"], \"type\": \"scatter\"}, {\"mode\": \"markers\", \"name\": \"BEL\", \"text\": [\"10.0\"], \"x\": [10.0], \"y\": [\"BEL\"], \"type\": \"scatter\"}, {\"mode\": \"markers\", \"name\": \"CAN\", \"text\": [\"8.1\"], \"x\": [8.1], \"y\": [\"CAN\"], \"type\": \"scatter\"}, {\"mode\": \"markers\", \"name\": \"CZE\", \"text\": [\"14.1\"], \"x\": [14.1], \"y\": [\"CZE\"], \"type\": \"scatter\"}, {\"mode\": \"markers\", \"name\": \"DNK\", \"text\": [\"7.7\"], \"x\": [7.7], \"y\": [\"DNK\"], \"type\": \"scatter\"}, {\"mode\": \"markers\", \"name\": \"FIN\", \"text\": [\"6.5\"], \"x\": [6.5], \"y\": [\"FIN\"], \"type\": \"scatter\"}, {\"mode\": \"markers\", \"name\": \"FRA\", \"text\": [\"8.3\"], \"x\": [8.3], \"y\": [\"FRA\"], \"type\": \"scatter\"}, {\"mode\": \"markers\", \"name\": \"DEU\", \"text\": [\"9.8\"], \"x\": [9.8], \"y\": [\"DEU\"], \"type\": \"scatter\"}, {\"mode\": \"markers\", \"name\": \"GRC\", \"text\": [\"14.3\"], \"x\": [14.3], \"y\": [\"GRC\"], \"type\": \"scatter\"}, {\"mode\": \"markers\", \"name\": \"HUN\", \"text\": [\"20.4\"], \"x\": [20.4], \"y\": [\"HUN\"], \"type\": \"scatter\"}, {\"mode\": \"markers\", \"name\": \"ISL\", \"text\": [\"6.1\"], \"x\": [6.1], \"y\": [\"ISL\"], \"type\": \"scatter\"}, {\"mode\": \"markers\", \"name\": \"IRL\", \"text\": [\"9.6\"], \"x\": [9.6], \"y\": [\"IRL\"], \"type\": \"scatter\"}, {\"mode\": \"markers\", \"name\": \"ITA\", \"text\": [\"11.4\"], \"x\": [11.4], \"y\": [\"ITA\"], \"type\": \"scatter\"}, {\"mode\": \"markers\", \"name\": \"JPN\", \"text\": [\"6.0\"], \"x\": [6.0], \"y\": [\"JPN\"], \"type\": \"scatter\"}, {\"mode\": \"markers\", \"name\": \"KOR\", \"text\": [\"16.0\"], \"x\": [16.0], \"y\": [\"KOR\"], \"type\": \"scatter\"}, {\"mode\": \"markers\", \"name\": \"LUX\", \"text\": [\"11.7\"], \"x\": [11.7], \"y\": [\"LUX\"], \"type\": \"scatter\"}, {\"mode\": \"markers\", \"name\": \"MEX\", \"text\": [\"42.8\"], \"x\": [42.8], \"y\": [\"MEX\"], \"type\": \"scatter\"}, {\"mode\": \"markers\", \"name\": \"NLD\", \"text\": [\"8.3\"], \"x\": [8.3], \"y\": [\"NLD\"], \"type\": \"scatter\"}, {\"mode\": \"markers\", \"name\": \"NZL\", \"text\": [\"11.7\"], \"x\": [11.7], \"y\": [\"NZL\"], \"type\": \"scatter\"}, {\"mode\": \"markers\", \"name\": \"NOR\", \"text\": [\"8.3\"], \"x\": [8.3], \"y\": [\"NOR\"], \"type\": \"scatter\"}, {\"mode\": \"markers\", \"name\": \"POL\", \"text\": [\"23.0\"], \"x\": [23.0], \"y\": [\"POL\"], \"type\": \"scatter\"}, {\"mode\": \"markers\", \"name\": \"PRT\", \"text\": [\"16.7\"], \"x\": [16.7], \"y\": [\"PRT\"], \"type\": \"scatter\"}, {\"mode\": \"markers\", \"name\": \"SVK\", \"text\": [\"17.2\"], \"x\": [17.2], \"y\": [\"SVK\"], \"type\": \"scatter\"}, {\"mode\": \"markers\", \"name\": \"ESP\", \"text\": [\"9.9\"], \"x\": [9.9], \"y\": [\"ESP\"], \"type\": \"scatter\"}, {\"mode\": \"markers\", \"name\": \"SWE\", \"text\": [\"6.4\"], \"x\": [6.4], \"y\": [\"SWE\"], \"type\": \"scatter\"}, {\"mode\": \"markers\", \"name\": \"CHE\", \"text\": [\"7.1\"], \"x\": [7.1], \"y\": [\"CHE\"], \"type\": \"scatter\"}, {\"mode\": \"markers\", \"name\": \"TUR\", \"text\": [\"0\"], \"x\": [0], \"y\": [\"TUR\"], \"type\": \"scatter\"}, {\"mode\": \"markers\", \"name\": \"GBR\", \"text\": [\"9.6\"], \"x\": [9.6], \"y\": [\"GBR\"], \"type\": \"scatter\"}, {\"mode\": \"markers\", \"name\": \"USA\", \"text\": [\"10.8\"], \"x\": [10.8], \"y\": [\"USA\"], \"type\": \"scatter\"}, {\"mode\": \"markers\", \"name\": \"BRA\", \"text\": [\"64.0\"], \"x\": [64.0], \"y\": [\"BRA\"], \"type\": \"scatter\"}, {\"mode\": \"markers\", \"name\": \"CHL\", \"text\": [\"19.6\"], \"x\": [19.6], \"y\": [\"CHL\"], \"type\": \"scatter\"}, {\"mode\": \"markers\", \"name\": \"CHN\", \"text\": [\"42.6\"], \"x\": [42.6], \"y\": [\"CHN\"], \"type\": \"scatter\"}, {\"mode\": \"markers\", \"name\": \"EST\", \"text\": [\"13.6\"], \"x\": [13.6], \"y\": [\"EST\"], \"type\": \"scatter\"}, {\"mode\": \"markers\", \"name\": \"IND\", \"text\": [\"103.1\"], \"x\": [103.1], \"y\": [\"IND\"], \"type\": \"scatter\"}, {\"mode\": \"markers\", \"name\": \"IDN\", \"text\": [\"76.2\"], \"x\": [76.2], \"y\": [\"IDN\"], \"type\": \"scatter\"}, {\"mode\": \"markers\", \"name\": \"ISR\", \"text\": [\"12.8\"], \"x\": [12.8], \"y\": [\"ISR\"], \"type\": \"scatter\"}, {\"mode\": \"markers\", \"name\": \"RUS\", \"text\": [\"21.1\"], \"x\": [21.1], \"y\": [\"RUS\"], \"type\": \"scatter\"}, {\"mode\": \"markers\", \"name\": \"SVN\", \"text\": [\"13.9\"], \"x\": [13.9], \"y\": [\"SVN\"], \"type\": \"scatter\"}, {\"mode\": \"markers\", \"name\": \"ZAF\", \"text\": [\"57.3\"], \"x\": [57.3], \"y\": [\"ZAF\"], \"type\": \"scatter\"}, {\"mode\": \"markers\", \"name\": \"COL\", \"text\": [\"35.7\"], \"x\": [35.7], \"y\": [\"COL\"], \"type\": \"scatter\"}, {\"mode\": \"markers\", \"name\": \"LVA\", \"text\": [\"12.9\"], \"x\": [12.9], \"y\": [\"LVA\"], \"type\": \"scatter\"}, {\"mode\": \"markers\", \"name\": \"LTU\", \"text\": [\"13.4\"], \"x\": [13.4], \"y\": [\"LTU\"], \"type\": \"scatter\"}, {\"mode\": \"markers\", \"name\": \"CRI\", \"text\": [\"18.8\"], \"x\": [18.8], \"y\": [\"CRI\"], \"type\": \"scatter\"}], \"name\": \"1984\"}, {\"data\": [{\"mode\": \"markers\", \"name\": \"AUS\", \"text\": [\"9.9\"], \"x\": [9.9], \"y\": [\"AUS\"], \"type\": \"scatter\"}, {\"mode\": \"markers\", \"name\": \"AUT\", \"text\": [\"11.2\"], \"x\": [11.2], \"y\": [\"AUT\"], \"type\": \"scatter\"}, {\"mode\": \"markers\", \"name\": \"BEL\", \"text\": [\"9.8\"], \"x\": [9.8], \"y\": [\"BEL\"], \"type\": \"scatter\"}, {\"mode\": \"markers\", \"name\": \"CAN\", \"text\": [\"8.0\"], \"x\": [8.0], \"y\": [\"CAN\"], \"type\": \"scatter\"}, {\"mode\": \"markers\", \"name\": \"CZE\", \"text\": [\"12.5\"], \"x\": [12.5], \"y\": [\"CZE\"], \"type\": \"scatter\"}, {\"mode\": \"markers\", \"name\": \"DNK\", \"text\": [\"7.9\"], \"x\": [7.9], \"y\": [\"DNK\"], \"type\": \"scatter\"}, {\"mode\": \"markers\", \"name\": \"FIN\", \"text\": [\"6.3\"], \"x\": [6.3], \"y\": [\"FIN\"], \"type\": \"scatter\"}, {\"mode\": \"markers\", \"name\": \"FRA\", \"text\": [\"8.3\"], \"x\": [8.3], \"y\": [\"FRA\"], \"type\": \"scatter\"}, {\"mode\": \"markers\", \"name\": \"DEU\", \"text\": [\"9.1\"], \"x\": [9.1], \"y\": [\"DEU\"], \"type\": \"scatter\"}, {\"mode\": \"markers\", \"name\": \"GRC\", \"text\": [\"14.1\"], \"x\": [14.1], \"y\": [\"GRC\"], \"type\": \"scatter\"}, {\"mode\": \"markers\", \"name\": \"HUN\", \"text\": [\"20.4\"], \"x\": [20.4], \"y\": [\"HUN\"], \"type\": \"scatter\"}, {\"mode\": \"markers\", \"name\": \"ISL\", \"text\": [\"5.7\"], \"x\": [5.7], \"y\": [\"ISL\"], \"type\": \"scatter\"}, {\"mode\": \"markers\", \"name\": \"IRL\", \"text\": [\"8.8\"], \"x\": [8.8], \"y\": [\"IRL\"], \"type\": \"scatter\"}, {\"mode\": \"markers\", \"name\": \"ITA\", \"text\": [\"10.5\"], \"x\": [10.5], \"y\": [\"ITA\"], \"type\": \"scatter\"}, {\"mode\": \"markers\", \"name\": \"JPN\", \"text\": [\"5.5\"], \"x\": [5.5], \"y\": [\"JPN\"], \"type\": \"scatter\"}, {\"mode\": \"markers\", \"name\": \"KOR\", \"text\": [\"13.0\"], \"x\": [13.0], \"y\": [\"KOR\"], \"type\": \"scatter\"}, {\"mode\": \"markers\", \"name\": \"LUX\", \"text\": [\"9.0\"], \"x\": [9.0], \"y\": [\"LUX\"], \"type\": \"scatter\"}, {\"mode\": \"markers\", \"name\": \"MEX\", \"text\": [\"41.6\"], \"x\": [41.6], \"y\": [\"MEX\"], \"type\": \"scatter\"}, {\"mode\": \"markers\", \"name\": \"NLD\", \"text\": [\"8.0\"], \"x\": [8.0], \"y\": [\"NLD\"], \"type\": \"scatter\"}, {\"mode\": \"markers\", \"name\": \"NZL\", \"text\": [\"10.9\"], \"x\": [10.9], \"y\": [\"NZL\"], \"type\": \"scatter\"}, {\"mode\": \"markers\", \"name\": \"NOR\", \"text\": [\"8.5\"], \"x\": [8.5], \"y\": [\"NOR\"], \"type\": \"scatter\"}, {\"mode\": \"markers\", \"name\": \"POL\", \"text\": [\"22.1\"], \"x\": [22.1], \"y\": [\"POL\"], \"type\": \"scatter\"}, {\"mode\": \"markers\", \"name\": \"PRT\", \"text\": [\"17.8\"], \"x\": [17.8], \"y\": [\"PRT\"], \"type\": \"scatter\"}, {\"mode\": \"markers\", \"name\": \"SVK\", \"text\": [\"16.3\"], \"x\": [16.3], \"y\": [\"SVK\"], \"type\": \"scatter\"}, {\"mode\": \"markers\", \"name\": \"ESP\", \"text\": [\"8.9\"], \"x\": [8.9], \"y\": [\"ESP\"], \"type\": \"scatter\"}, {\"mode\": \"markers\", \"name\": \"SWE\", \"text\": [\"6.8\"], \"x\": [6.8], \"y\": [\"SWE\"], \"type\": \"scatter\"}, {\"mode\": \"markers\", \"name\": \"CHE\", \"text\": [\"6.9\"], \"x\": [6.9], \"y\": [\"CHE\"], \"type\": \"scatter\"}, {\"mode\": \"markers\", \"name\": \"TUR\", \"text\": [\"0\"], \"x\": [0], \"y\": [\"TUR\"], \"type\": \"scatter\"}, {\"mode\": \"markers\", \"name\": \"GBR\", \"text\": [\"9.4\"], \"x\": [9.4], \"y\": [\"GBR\"], \"type\": \"scatter\"}, {\"mode\": \"markers\", \"name\": \"USA\", \"text\": [\"10.6\"], \"x\": [10.6], \"y\": [\"USA\"], \"type\": \"scatter\"}, {\"mode\": \"markers\", \"name\": \"BRA\", \"text\": [\"61.4\"], \"x\": [61.4], \"y\": [\"BRA\"], \"type\": \"scatter\"}, {\"mode\": \"markers\", \"name\": \"CHL\", \"text\": [\"19.5\"], \"x\": [19.5], \"y\": [\"CHL\"], \"type\": \"scatter\"}, {\"mode\": \"markers\", \"name\": \"CHN\", \"text\": [\"42.2\"], \"x\": [42.2], \"y\": [\"CHN\"], \"type\": \"scatter\"}, {\"mode\": \"markers\", \"name\": \"EST\", \"text\": [\"14.1\"], \"x\": [14.1], \"y\": [\"EST\"], \"type\": \"scatter\"}, {\"mode\": \"markers\", \"name\": \"IND\", \"text\": [\"100.6\"], \"x\": [100.6], \"y\": [\"IND\"], \"type\": \"scatter\"}, {\"mode\": \"markers\", \"name\": \"IDN\", \"text\": [\"74.0\"], \"x\": [74.0], \"y\": [\"IDN\"], \"type\": \"scatter\"}, {\"mode\": \"markers\", \"name\": \"ISR\", \"text\": [\"11.9\"], \"x\": [11.9], \"y\": [\"ISR\"], \"type\": \"scatter\"}, {\"mode\": \"markers\", \"name\": \"RUS\", \"text\": [\"20.8\"], \"x\": [20.8], \"y\": [\"RUS\"], \"type\": \"scatter\"}, {\"mode\": \"markers\", \"name\": \"SVN\", \"text\": [\"13.0\"], \"x\": [13.0], \"y\": [\"SVN\"], \"type\": \"scatter\"}, {\"mode\": \"markers\", \"name\": \"ZAF\", \"text\": [\"55.1\"], \"x\": [55.1], \"y\": [\"ZAF\"], \"type\": \"scatter\"}, {\"mode\": \"markers\", \"name\": \"COL\", \"text\": [\"34.1\"], \"x\": [34.1], \"y\": [\"COL\"], \"type\": \"scatter\"}, {\"mode\": \"markers\", \"name\": \"LVA\", \"text\": [\"13.0\"], \"x\": [13.0], \"y\": [\"LVA\"], \"type\": \"scatter\"}, {\"mode\": \"markers\", \"name\": \"LTU\", \"text\": [\"14.2\"], \"x\": [14.2], \"y\": [\"LTU\"], \"type\": \"scatter\"}, {\"mode\": \"markers\", \"name\": \"CRI\", \"text\": [\"18.2\"], \"x\": [18.2], \"y\": [\"CRI\"], \"type\": \"scatter\"}], \"name\": \"1985\"}, {\"data\": [{\"mode\": \"markers\", \"name\": \"AUS\", \"text\": [\"8.8\"], \"x\": [8.8], \"y\": [\"AUS\"], \"type\": \"scatter\"}, {\"mode\": \"markers\", \"name\": \"AUT\", \"text\": [\"10.3\"], \"x\": [10.3], \"y\": [\"AUT\"], \"type\": \"scatter\"}, {\"mode\": \"markers\", \"name\": \"BEL\", \"text\": [\"9.6\"], \"x\": [9.6], \"y\": [\"BEL\"], \"type\": \"scatter\"}, {\"mode\": \"markers\", \"name\": \"CAN\", \"text\": [\"7.9\"], \"x\": [7.9], \"y\": [\"CAN\"], \"type\": \"scatter\"}, {\"mode\": \"markers\", \"name\": \"CZE\", \"text\": [\"12.3\"], \"x\": [12.3], \"y\": [\"CZE\"], \"type\": \"scatter\"}, {\"mode\": \"markers\", \"name\": \"DNK\", \"text\": [\"8.2\"], \"x\": [8.2], \"y\": [\"DNK\"], \"type\": \"scatter\"}, {\"mode\": \"markers\", \"name\": \"FIN\", \"text\": [\"5.8\"], \"x\": [5.8], \"y\": [\"FIN\"], \"type\": \"scatter\"}, {\"mode\": \"markers\", \"name\": \"FRA\", \"text\": [\"8.0\"], \"x\": [8.0], \"y\": [\"FRA\"], \"type\": \"scatter\"}, {\"mode\": \"markers\", \"name\": \"DEU\", \"text\": [\"8.7\"], \"x\": [8.7], \"y\": [\"DEU\"], \"type\": \"scatter\"}, {\"mode\": \"markers\", \"name\": \"GRC\", \"text\": [\"12.2\"], \"x\": [12.2], \"y\": [\"GRC\"], \"type\": \"scatter\"}, {\"mode\": \"markers\", \"name\": \"HUN\", \"text\": [\"19.0\"], \"x\": [19.0], \"y\": [\"HUN\"], \"type\": \"scatter\"}, {\"mode\": \"markers\", \"name\": \"ISL\", \"text\": [\"5.3\"], \"x\": [5.3], \"y\": [\"ISL\"], \"type\": \"scatter\"}, {\"mode\": \"markers\", \"name\": \"IRL\", \"text\": [\"8.9\"], \"x\": [8.9], \"y\": [\"IRL\"], \"type\": \"scatter\"}, {\"mode\": \"markers\", \"name\": \"ITA\", \"text\": [\"10.2\"], \"x\": [10.2], \"y\": [\"ITA\"], \"type\": \"scatter\"}, {\"mode\": \"markers\", \"name\": \"JPN\", \"text\": [\"5.2\"], \"x\": [5.2], \"y\": [\"JPN\"], \"type\": \"scatter\"}, {\"mode\": \"markers\", \"name\": \"KOR\", \"text\": [\"0\"], \"x\": [0], \"y\": [\"KOR\"], \"type\": \"scatter\"}, {\"mode\": \"markers\", \"name\": \"LUX\", \"text\": [\"7.9\"], \"x\": [7.9], \"y\": [\"LUX\"], \"type\": \"scatter\"}, {\"mode\": \"markers\", \"name\": \"MEX\", \"text\": [\"40.0\"], \"x\": [40.0], \"y\": [\"MEX\"], \"type\": \"scatter\"}, {\"mode\": \"markers\", \"name\": \"NLD\", \"text\": [\"7.7\"], \"x\": [7.7], \"y\": [\"NLD\"], \"type\": \"scatter\"}, {\"mode\": \"markers\", \"name\": \"NZL\", \"text\": [\"11.4\"], \"x\": [11.4], \"y\": [\"NZL\"], \"type\": \"scatter\"}, {\"mode\": \"markers\", \"name\": \"NOR\", \"text\": [\"7.8\"], \"x\": [7.8], \"y\": [\"NOR\"], \"type\": \"scatter\"}, {\"mode\": \"markers\", \"name\": \"POL\", \"text\": [\"21.3\"], \"x\": [21.3], \"y\": [\"POL\"], \"type\": \"scatter\"}, {\"mode\": \"markers\", \"name\": \"PRT\", \"text\": [\"15.8\"], \"x\": [15.8], \"y\": [\"PRT\"], \"type\": \"scatter\"}, {\"mode\": \"markers\", \"name\": \"SVK\", \"text\": [\"15.0\"], \"x\": [15.0], \"y\": [\"SVK\"], \"type\": \"scatter\"}, {\"mode\": \"markers\", \"name\": \"ESP\", \"text\": [\"9.2\"], \"x\": [9.2], \"y\": [\"ESP\"], \"type\": \"scatter\"}, {\"mode\": \"markers\", \"name\": \"SWE\", \"text\": [\"5.9\"], \"x\": [5.9], \"y\": [\"SWE\"], \"type\": \"scatter\"}, {\"mode\": \"markers\", \"name\": \"CHE\", \"text\": [\"6.8\"], \"x\": [6.8], \"y\": [\"CHE\"], \"type\": \"scatter\"}, {\"mode\": \"markers\", \"name\": \"TUR\", \"text\": [\"0\"], \"x\": [0], \"y\": [\"TUR\"], \"type\": \"scatter\"}, {\"mode\": \"markers\", \"name\": \"GBR\", \"text\": [\"9.5\"], \"x\": [9.5], \"y\": [\"GBR\"], \"type\": \"scatter\"}, {\"mode\": \"markers\", \"name\": \"USA\", \"text\": [\"10.4\"], \"x\": [10.4], \"y\": [\"USA\"], \"type\": \"scatter\"}, {\"mode\": \"markers\", \"name\": \"BRA\", \"text\": [\"59.0\"], \"x\": [59.0], \"y\": [\"BRA\"], \"type\": \"scatter\"}, {\"mode\": \"markers\", \"name\": \"CHL\", \"text\": [\"19.1\"], \"x\": [19.1], \"y\": [\"CHL\"], \"type\": \"scatter\"}, {\"mode\": \"markers\", \"name\": \"CHN\", \"text\": [\"42.0\"], \"x\": [42.0], \"y\": [\"CHN\"], \"type\": \"scatter\"}, {\"mode\": \"markers\", \"name\": \"EST\", \"text\": [\"16.0\"], \"x\": [16.0], \"y\": [\"EST\"], \"type\": \"scatter\"}, {\"mode\": \"markers\", \"name\": \"IND\", \"text\": [\"98.1\"], \"x\": [98.1], \"y\": [\"IND\"], \"type\": \"scatter\"}, {\"mode\": \"markers\", \"name\": \"IDN\", \"text\": [\"71.6\"], \"x\": [71.6], \"y\": [\"IDN\"], \"type\": \"scatter\"}, {\"mode\": \"markers\", \"name\": \"ISR\", \"text\": [\"11.4\"], \"x\": [11.4], \"y\": [\"ISR\"], \"type\": \"scatter\"}, {\"mode\": \"markers\", \"name\": \"RUS\", \"text\": [\"19.1\"], \"x\": [19.1], \"y\": [\"RUS\"], \"type\": \"scatter\"}, {\"mode\": \"markers\", \"name\": \"SVN\", \"text\": [\"11.9\"], \"x\": [11.9], \"y\": [\"SVN\"], \"type\": \"scatter\"}, {\"mode\": \"markers\", \"name\": \"ZAF\", \"text\": [\"53.2\"], \"x\": [53.2], \"y\": [\"ZAF\"], \"type\": \"scatter\"}, {\"mode\": \"markers\", \"name\": \"COL\", \"text\": [\"32.7\"], \"x\": [32.7], \"y\": [\"COL\"], \"type\": \"scatter\"}, {\"mode\": \"markers\", \"name\": \"LVA\", \"text\": [\"12.8\"], \"x\": [12.8], \"y\": [\"LVA\"], \"type\": \"scatter\"}, {\"mode\": \"markers\", \"name\": \"LTU\", \"text\": [\"11.6\"], \"x\": [11.6], \"y\": [\"LTU\"], \"type\": \"scatter\"}, {\"mode\": \"markers\", \"name\": \"CRI\", \"text\": [\"17.3\"], \"x\": [17.3], \"y\": [\"CRI\"], \"type\": \"scatter\"}], \"name\": \"1986\"}, {\"data\": [{\"mode\": \"markers\", \"name\": \"AUS\", \"text\": [\"8.7\"], \"x\": [8.7], \"y\": [\"AUS\"], \"type\": \"scatter\"}, {\"mode\": \"markers\", \"name\": \"AUT\", \"text\": [\"9.8\"], \"x\": [9.8], \"y\": [\"AUT\"], \"type\": \"scatter\"}, {\"mode\": \"markers\", \"name\": \"BEL\", \"text\": [\"9.7\"], \"x\": [9.7], \"y\": [\"BEL\"], \"type\": \"scatter\"}, {\"mode\": \"markers\", \"name\": \"CAN\", \"text\": [\"7.3\"], \"x\": [7.3], \"y\": [\"CAN\"], \"type\": \"scatter\"}, {\"mode\": \"markers\", \"name\": \"CZE\", \"text\": [\"12.0\"], \"x\": [12.0], \"y\": [\"CZE\"], \"type\": \"scatter\"}, {\"mode\": \"markers\", \"name\": \"DNK\", \"text\": [\"8.3\"], \"x\": [8.3], \"y\": [\"DNK\"], \"type\": \"scatter\"}, {\"mode\": \"markers\", \"name\": \"FIN\", \"text\": [\"6.2\"], \"x\": [6.2], \"y\": [\"FIN\"], \"type\": \"scatter\"}, {\"mode\": \"markers\", \"name\": \"FRA\", \"text\": [\"7.8\"], \"x\": [7.8], \"y\": [\"FRA\"], \"type\": \"scatter\"}, {\"mode\": \"markers\", \"name\": \"DEU\", \"text\": [\"8.4\"], \"x\": [8.4], \"y\": [\"DEU\"], \"type\": \"scatter\"}, {\"mode\": \"markers\", \"name\": \"GRC\", \"text\": [\"11.7\"], \"x\": [11.7], \"y\": [\"GRC\"], \"type\": \"scatter\"}, {\"mode\": \"markers\", \"name\": \"HUN\", \"text\": [\"17.3\"], \"x\": [17.3], \"y\": [\"HUN\"], \"type\": \"scatter\"}, {\"mode\": \"markers\", \"name\": \"ISL\", \"text\": [\"7.3\"], \"x\": [7.3], \"y\": [\"ISL\"], \"type\": \"scatter\"}, {\"mode\": \"markers\", \"name\": \"IRL\", \"text\": [\"7.9\"], \"x\": [7.9], \"y\": [\"IRL\"], \"type\": \"scatter\"}, {\"mode\": \"markers\", \"name\": \"ITA\", \"text\": [\"9.8\"], \"x\": [9.8], \"y\": [\"ITA\"], \"type\": \"scatter\"}, {\"mode\": \"markers\", \"name\": \"JPN\", \"text\": [\"5.0\"], \"x\": [5.0], \"y\": [\"JPN\"], \"type\": \"scatter\"}, {\"mode\": \"markers\", \"name\": \"KOR\", \"text\": [\"13.0\"], \"x\": [13.0], \"y\": [\"KOR\"], \"type\": \"scatter\"}, {\"mode\": \"markers\", \"name\": \"LUX\", \"text\": [\"9.4\"], \"x\": [9.4], \"y\": [\"LUX\"], \"type\": \"scatter\"}, {\"mode\": \"markers\", \"name\": \"MEX\", \"text\": [\"38.4\"], \"x\": [38.4], \"y\": [\"MEX\"], \"type\": \"scatter\"}, {\"mode\": \"markers\", \"name\": \"NLD\", \"text\": [\"7.6\"], \"x\": [7.6], \"y\": [\"NLD\"], \"type\": \"scatter\"}, {\"mode\": \"markers\", \"name\": \"NZL\", \"text\": [\"10.1\"], \"x\": [10.1], \"y\": [\"NZL\"], \"type\": \"scatter\"}, {\"mode\": \"markers\", \"name\": \"NOR\", \"text\": [\"8.4\"], \"x\": [8.4], \"y\": [\"NOR\"], \"type\": \"scatter\"}, {\"mode\": \"markers\", \"name\": \"POL\", \"text\": [\"21.2\"], \"x\": [21.2], \"y\": [\"POL\"], \"type\": \"scatter\"}, {\"mode\": \"markers\", \"name\": \"PRT\", \"text\": [\"14.2\"], \"x\": [14.2], \"y\": [\"PRT\"], \"type\": \"scatter\"}, {\"mode\": \"markers\", \"name\": \"SVK\", \"text\": [\"14.2\"], \"x\": [14.2], \"y\": [\"SVK\"], \"type\": \"scatter\"}, {\"mode\": \"markers\", \"name\": \"ESP\", \"text\": [\"8.9\"], \"x\": [8.9], \"y\": [\"ESP\"], \"type\": \"scatter\"}, {\"mode\": \"markers\", \"name\": \"SWE\", \"text\": [\"6.1\"], \"x\": [6.1], \"y\": [\"SWE\"], \"type\": \"scatter\"}, {\"mode\": \"markers\", \"name\": \"CHE\", \"text\": [\"6.8\"], \"x\": [6.8], \"y\": [\"CHE\"], \"type\": \"scatter\"}, {\"mode\": \"markers\", \"name\": \"TUR\", \"text\": [\"0\"], \"x\": [0], \"y\": [\"TUR\"], \"type\": \"scatter\"}, {\"mode\": \"markers\", \"name\": \"GBR\", \"text\": [\"9.1\"], \"x\": [9.1], \"y\": [\"GBR\"], \"type\": \"scatter\"}, {\"mode\": \"markers\", \"name\": \"USA\", \"text\": [\"10.1\"], \"x\": [10.1], \"y\": [\"USA\"], \"type\": \"scatter\"}, {\"mode\": \"markers\", \"name\": \"BRA\", \"text\": [\"56.8\"], \"x\": [56.8], \"y\": [\"BRA\"], \"type\": \"scatter\"}, {\"mode\": \"markers\", \"name\": \"CHL\", \"text\": [\"18.5\"], \"x\": [18.5], \"y\": [\"CHL\"], \"type\": \"scatter\"}, {\"mode\": \"markers\", \"name\": \"CHN\", \"text\": [\"42.0\"], \"x\": [42.0], \"y\": [\"CHN\"], \"type\": \"scatter\"}, {\"mode\": \"markers\", \"name\": \"EST\", \"text\": [\"16.0\"], \"x\": [16.0], \"y\": [\"EST\"], \"type\": \"scatter\"}, {\"mode\": \"markers\", \"name\": \"IND\", \"text\": [\"95.6\"], \"x\": [95.6], \"y\": [\"IND\"], \"type\": \"scatter\"}, {\"mode\": \"markers\", \"name\": \"IDN\", \"text\": [\"69.3\"], \"x\": [69.3], \"y\": [\"IDN\"], \"type\": \"scatter\"}, {\"mode\": \"markers\", \"name\": \"ISR\", \"text\": [\"11.1\"], \"x\": [11.1], \"y\": [\"ISR\"], \"type\": \"scatter\"}, {\"mode\": \"markers\", \"name\": \"RUS\", \"text\": [\"19.4\"], \"x\": [19.4], \"y\": [\"RUS\"], \"type\": \"scatter\"}, {\"mode\": \"markers\", \"name\": \"SVN\", \"text\": [\"11.1\"], \"x\": [11.1], \"y\": [\"SVN\"], \"type\": \"scatter\"}, {\"mode\": \"markers\", \"name\": \"ZAF\", \"text\": [\"51.4\"], \"x\": [51.4], \"y\": [\"ZAF\"], \"type\": \"scatter\"}, {\"mode\": \"markers\", \"name\": \"COL\", \"text\": [\"31.5\"], \"x\": [31.5], \"y\": [\"COL\"], \"type\": \"scatter\"}, {\"mode\": \"markers\", \"name\": \"LVA\", \"text\": [\"11.3\"], \"x\": [11.3], \"y\": [\"LVA\"], \"type\": \"scatter\"}, {\"mode\": \"markers\", \"name\": \"LTU\", \"text\": [\"12.3\"], \"x\": [12.3], \"y\": [\"LTU\"], \"type\": \"scatter\"}, {\"mode\": \"markers\", \"name\": \"CRI\", \"text\": [\"16.3\"], \"x\": [16.3], \"y\": [\"CRI\"], \"type\": \"scatter\"}], \"name\": \"1987\"}, {\"data\": [{\"mode\": \"markers\", \"name\": \"AUS\", \"text\": [\"8.7\"], \"x\": [8.7], \"y\": [\"AUS\"], \"type\": \"scatter\"}, {\"mode\": \"markers\", \"name\": \"AUT\", \"text\": [\"8.1\"], \"x\": [8.1], \"y\": [\"AUT\"], \"type\": \"scatter\"}, {\"mode\": \"markers\", \"name\": \"BEL\", \"text\": [\"9.0\"], \"x\": [9.0], \"y\": [\"BEL\"], \"type\": \"scatter\"}, {\"mode\": \"markers\", \"name\": \"CAN\", \"text\": [\"7.2\"], \"x\": [7.2], \"y\": [\"CAN\"], \"type\": \"scatter\"}, {\"mode\": \"markers\", \"name\": \"CZE\", \"text\": [\"11.0\"], \"x\": [11.0], \"y\": [\"CZE\"], \"type\": \"scatter\"}, {\"mode\": \"markers\", \"name\": \"DNK\", \"text\": [\"7.6\"], \"x\": [7.6], \"y\": [\"DNK\"], \"type\": \"scatter\"}, {\"mode\": \"markers\", \"name\": \"FIN\", \"text\": [\"6.0\"], \"x\": [6.0], \"y\": [\"FIN\"], \"type\": \"scatter\"}, {\"mode\": \"markers\", \"name\": \"FRA\", \"text\": [\"7.8\"], \"x\": [7.8], \"y\": [\"FRA\"], \"type\": \"scatter\"}, {\"mode\": \"markers\", \"name\": \"DEU\", \"text\": [\"7.6\"], \"x\": [7.6], \"y\": [\"DEU\"], \"type\": \"scatter\"}, {\"mode\": \"markers\", \"name\": \"GRC\", \"text\": [\"11.0\"], \"x\": [11.0], \"y\": [\"GRC\"], \"type\": \"scatter\"}, {\"mode\": \"markers\", \"name\": \"HUN\", \"text\": [\"15.8\"], \"x\": [15.8], \"y\": [\"HUN\"], \"type\": \"scatter\"}, {\"mode\": \"markers\", \"name\": \"ISL\", \"text\": [\"6.2\"], \"x\": [6.2], \"y\": [\"ISL\"], \"type\": \"scatter\"}, {\"mode\": \"markers\", \"name\": \"IRL\", \"text\": [\"8.9\"], \"x\": [8.9], \"y\": [\"IRL\"], \"type\": \"scatter\"}, {\"mode\": \"markers\", \"name\": \"ITA\", \"text\": [\"9.3\"], \"x\": [9.3], \"y\": [\"ITA\"], \"type\": \"scatter\"}, {\"mode\": \"markers\", \"name\": \"JPN\", \"text\": [\"4.8\"], \"x\": [4.8], \"y\": [\"JPN\"], \"type\": \"scatter\"}, {\"mode\": \"markers\", \"name\": \"KOR\", \"text\": [\"0\"], \"x\": [0], \"y\": [\"KOR\"], \"type\": \"scatter\"}, {\"mode\": \"markers\", \"name\": \"LUX\", \"text\": [\"8.5\"], \"x\": [8.5], \"y\": [\"LUX\"], \"type\": \"scatter\"}, {\"mode\": \"markers\", \"name\": \"MEX\", \"text\": [\"36.8\"], \"x\": [36.8], \"y\": [\"MEX\"], \"type\": \"scatter\"}, {\"mode\": \"markers\", \"name\": \"NLD\", \"text\": [\"6.8\"], \"x\": [6.8], \"y\": [\"NLD\"], \"type\": \"scatter\"}, {\"mode\": \"markers\", \"name\": \"NZL\", \"text\": [\"10.9\"], \"x\": [10.9], \"y\": [\"NZL\"], \"type\": \"scatter\"}, {\"mode\": \"markers\", \"name\": \"NOR\", \"text\": [\"8.0\"], \"x\": [8.0], \"y\": [\"NOR\"], \"type\": \"scatter\"}, {\"mode\": \"markers\", \"name\": \"POL\", \"text\": [\"19.9\"], \"x\": [19.9], \"y\": [\"POL\"], \"type\": \"scatter\"}, {\"mode\": \"markers\", \"name\": \"PRT\", \"text\": [\"13.0\"], \"x\": [13.0], \"y\": [\"PRT\"], \"type\": \"scatter\"}, {\"mode\": \"markers\", \"name\": \"SVK\", \"text\": [\"13.3\"], \"x\": [13.3], \"y\": [\"SVK\"], \"type\": \"scatter\"}, {\"mode\": \"markers\", \"name\": \"ESP\", \"text\": [\"8.0\"], \"x\": [8.0], \"y\": [\"ESP\"], \"type\": \"scatter\"}, {\"mode\": \"markers\", \"name\": \"SWE\", \"text\": [\"5.8\"], \"x\": [5.8], \"y\": [\"SWE\"], \"type\": \"scatter\"}, {\"mode\": \"markers\", \"name\": \"CHE\", \"text\": [\"6.8\"], \"x\": [6.8], \"y\": [\"CHE\"], \"type\": \"scatter\"}, {\"mode\": \"markers\", \"name\": \"TUR\", \"text\": [\"0\"], \"x\": [0], \"y\": [\"TUR\"], \"type\": \"scatter\"}, {\"mode\": \"markers\", \"name\": \"GBR\", \"text\": [\"9.0\"], \"x\": [9.0], \"y\": [\"GBR\"], \"type\": \"scatter\"}, {\"mode\": \"markers\", \"name\": \"USA\", \"text\": [\"10.0\"], \"x\": [10.0], \"y\": [\"USA\"], \"type\": \"scatter\"}, {\"mode\": \"markers\", \"name\": \"BRA\", \"text\": [\"54.8\"], \"x\": [54.8], \"y\": [\"BRA\"], \"type\": \"scatter\"}, {\"mode\": \"markers\", \"name\": \"CHL\", \"text\": [\"18.9\"], \"x\": [18.9], \"y\": [\"CHL\"], \"type\": \"scatter\"}, {\"mode\": \"markers\", \"name\": \"CHN\", \"text\": [\"42.2\"], \"x\": [42.2], \"y\": [\"CHN\"], \"type\": \"scatter\"}, {\"mode\": \"markers\", \"name\": \"EST\", \"text\": [\"12.5\"], \"x\": [12.5], \"y\": [\"EST\"], \"type\": \"scatter\"}, {\"mode\": \"markers\", \"name\": \"IND\", \"text\": [\"93.1\"], \"x\": [93.1], \"y\": [\"IND\"], \"type\": \"scatter\"}, {\"mode\": \"markers\", \"name\": \"IDN\", \"text\": [\"67.0\"], \"x\": [67.0], \"y\": [\"IDN\"], \"type\": \"scatter\"}, {\"mode\": \"markers\", \"name\": \"ISR\", \"text\": [\"10.1\"], \"x\": [10.1], \"y\": [\"ISR\"], \"type\": \"scatter\"}, {\"mode\": \"markers\", \"name\": \"RUS\", \"text\": [\"19.1\"], \"x\": [19.1], \"y\": [\"RUS\"], \"type\": \"scatter\"}, {\"mode\": \"markers\", \"name\": \"SVN\", \"text\": [\"10.0\"], \"x\": [10.0], \"y\": [\"SVN\"], \"type\": \"scatter\"}, {\"mode\": \"markers\", \"name\": \"ZAF\", \"text\": [\"49.8\"], \"x\": [49.8], \"y\": [\"ZAF\"], \"type\": \"scatter\"}, {\"mode\": \"markers\", \"name\": \"COL\", \"text\": [\"30.5\"], \"x\": [30.5], \"y\": [\"COL\"], \"type\": \"scatter\"}, {\"mode\": \"markers\", \"name\": \"LVA\", \"text\": [\"11.0\"], \"x\": [11.0], \"y\": [\"LVA\"], \"type\": \"scatter\"}, {\"mode\": \"markers\", \"name\": \"LTU\", \"text\": [\"11.6\"], \"x\": [11.6], \"y\": [\"LTU\"], \"type\": \"scatter\"}, {\"mode\": \"markers\", \"name\": \"CRI\", \"text\": [\"15.5\"], \"x\": [15.5], \"y\": [\"CRI\"], \"type\": \"scatter\"}], \"name\": \"1988\"}, {\"data\": [{\"mode\": \"markers\", \"name\": \"AUS\", \"text\": [\"8.0\"], \"x\": [8.0], \"y\": [\"AUS\"], \"type\": \"scatter\"}, {\"mode\": \"markers\", \"name\": \"AUT\", \"text\": [\"8.3\"], \"x\": [8.3], \"y\": [\"AUT\"], \"type\": \"scatter\"}, {\"mode\": \"markers\", \"name\": \"BEL\", \"text\": [\"8.5\"], \"x\": [8.5], \"y\": [\"BEL\"], \"type\": \"scatter\"}, {\"mode\": \"markers\", \"name\": \"CAN\", \"text\": [\"7.1\"], \"x\": [7.1], \"y\": [\"CAN\"], \"type\": \"scatter\"}, {\"mode\": \"markers\", \"name\": \"CZE\", \"text\": [\"10.0\"], \"x\": [10.0], \"y\": [\"CZE\"], \"type\": \"scatter\"}, {\"mode\": \"markers\", \"name\": \"DNK\", \"text\": [\"8.0\"], \"x\": [8.0], \"y\": [\"DNK\"], \"type\": \"scatter\"}, {\"mode\": \"markers\", \"name\": \"FIN\", \"text\": [\"6.1\"], \"x\": [6.1], \"y\": [\"FIN\"], \"type\": \"scatter\"}, {\"mode\": \"markers\", \"name\": \"FRA\", \"text\": [\"7.5\"], \"x\": [7.5], \"y\": [\"FRA\"], \"type\": \"scatter\"}, {\"mode\": \"markers\", \"name\": \"DEU\", \"text\": [\"7.5\"], \"x\": [7.5], \"y\": [\"DEU\"], \"type\": \"scatter\"}, {\"mode\": \"markers\", \"name\": \"GRC\", \"text\": [\"9.7\"], \"x\": [9.7], \"y\": [\"GRC\"], \"type\": \"scatter\"}, {\"mode\": \"markers\", \"name\": \"HUN\", \"text\": [\"15.7\"], \"x\": [15.7], \"y\": [\"HUN\"], \"type\": \"scatter\"}, {\"mode\": \"markers\", \"name\": \"ISL\", \"text\": [\"5.5\"], \"x\": [5.5], \"y\": [\"ISL\"], \"type\": \"scatter\"}, {\"mode\": \"markers\", \"name\": \"IRL\", \"text\": [\"8.1\"], \"x\": [8.1], \"y\": [\"IRL\"], \"type\": \"scatter\"}, {\"mode\": \"markers\", \"name\": \"ITA\", \"text\": [\"8.7\"], \"x\": [8.7], \"y\": [\"ITA\"], \"type\": \"scatter\"}, {\"mode\": \"markers\", \"name\": \"JPN\", \"text\": [\"4.6\"], \"x\": [4.6], \"y\": [\"JPN\"], \"type\": \"scatter\"}, {\"mode\": \"markers\", \"name\": \"KOR\", \"text\": [\"12.0\"], \"x\": [12.0], \"y\": [\"KOR\"], \"type\": \"scatter\"}, {\"mode\": \"markers\", \"name\": \"LUX\", \"text\": [\"9.9\"], \"x\": [9.9], \"y\": [\"LUX\"], \"type\": \"scatter\"}, {\"mode\": \"markers\", \"name\": \"MEX\", \"text\": [\"0\"], \"x\": [0], \"y\": [\"MEX\"], \"type\": \"scatter\"}, {\"mode\": \"markers\", \"name\": \"NLD\", \"text\": [\"6.8\"], \"x\": [6.8], \"y\": [\"NLD\"], \"type\": \"scatter\"}, {\"mode\": \"markers\", \"name\": \"NZL\", \"text\": [\"10.3\"], \"x\": [10.3], \"y\": [\"NZL\"], \"type\": \"scatter\"}, {\"mode\": \"markers\", \"name\": \"NOR\", \"text\": [\"7.8\"], \"x\": [7.8], \"y\": [\"NOR\"], \"type\": \"scatter\"}, {\"mode\": \"markers\", \"name\": \"POL\", \"text\": [\"19.3\"], \"x\": [19.3], \"y\": [\"POL\"], \"type\": \"scatter\"}, {\"mode\": \"markers\", \"name\": \"PRT\", \"text\": [\"12.1\"], \"x\": [12.1], \"y\": [\"PRT\"], \"type\": \"scatter\"}, {\"mode\": \"markers\", \"name\": \"SVK\", \"text\": [\"13.5\"], \"x\": [13.5], \"y\": [\"SVK\"], \"type\": \"scatter\"}, {\"mode\": \"markers\", \"name\": \"ESP\", \"text\": [\"7.8\"], \"x\": [7.8], \"y\": [\"ESP\"], \"type\": \"scatter\"}, {\"mode\": \"markers\", \"name\": \"SWE\", \"text\": [\"5.8\"], \"x\": [5.8], \"y\": [\"SWE\"], \"type\": \"scatter\"}, {\"mode\": \"markers\", \"name\": \"CHE\", \"text\": [\"7.3\"], \"x\": [7.3], \"y\": [\"CHE\"], \"type\": \"scatter\"}, {\"mode\": \"markers\", \"name\": \"TUR\", \"text\": [\"0\"], \"x\": [0], \"y\": [\"TUR\"], \"type\": \"scatter\"}, {\"mode\": \"markers\", \"name\": \"GBR\", \"text\": [\"8.4\"], \"x\": [8.4], \"y\": [\"GBR\"], \"type\": \"scatter\"}, {\"mode\": \"markers\", \"name\": \"USA\", \"text\": [\"9.8\"], \"x\": [9.8], \"y\": [\"USA\"], \"type\": \"scatter\"}, {\"mode\": \"markers\", \"name\": \"BRA\", \"text\": [\"52.8\"], \"x\": [52.8], \"y\": [\"BRA\"], \"type\": \"scatter\"}, {\"mode\": \"markers\", \"name\": \"CHL\", \"text\": [\"17.1\"], \"x\": [17.1], \"y\": [\"CHL\"], \"type\": \"scatter\"}, {\"mode\": \"markers\", \"name\": \"CHN\", \"text\": [\"42.2\"], \"x\": [42.2], \"y\": [\"CHN\"], \"type\": \"scatter\"}, {\"mode\": \"markers\", \"name\": \"EST\", \"text\": [\"14.8\"], \"x\": [14.8], \"y\": [\"EST\"], \"type\": \"scatter\"}, {\"mode\": \"markers\", \"name\": \"IND\", \"text\": [\"90.7\"], \"x\": [90.7], \"y\": [\"IND\"], \"type\": \"scatter\"}, {\"mode\": \"markers\", \"name\": \"IDN\", \"text\": [\"64.6\"], \"x\": [64.6], \"y\": [\"IDN\"], \"type\": \"scatter\"}, {\"mode\": \"markers\", \"name\": \"ISR\", \"text\": [\"10.1\"], \"x\": [10.1], \"y\": [\"ISR\"], \"type\": \"scatter\"}, {\"mode\": \"markers\", \"name\": \"RUS\", \"text\": [\"18.1\"], \"x\": [18.1], \"y\": [\"RUS\"], \"type\": \"scatter\"}, {\"mode\": \"markers\", \"name\": \"SVN\", \"text\": [\"8.1\"], \"x\": [8.1], \"y\": [\"SVN\"], \"type\": \"scatter\"}, {\"mode\": \"markers\", \"name\": \"ZAF\", \"text\": [\"48.5\"], \"x\": [48.5], \"y\": [\"ZAF\"], \"type\": \"scatter\"}, {\"mode\": \"markers\", \"name\": \"COL\", \"text\": [\"29.7\"], \"x\": [29.7], \"y\": [\"COL\"], \"type\": \"scatter\"}, {\"mode\": \"markers\", \"name\": \"LVA\", \"text\": [\"11.3\"], \"x\": [11.3], \"y\": [\"LVA\"], \"type\": \"scatter\"}, {\"mode\": \"markers\", \"name\": \"LTU\", \"text\": [\"10.7\"], \"x\": [10.7], \"y\": [\"LTU\"], \"type\": \"scatter\"}, {\"mode\": \"markers\", \"name\": \"CRI\", \"text\": [\"14.8\"], \"x\": [14.8], \"y\": [\"CRI\"], \"type\": \"scatter\"}], \"name\": \"1989\"}, {\"data\": [{\"mode\": \"markers\", \"name\": \"AUS\", \"text\": [\"8.2\"], \"x\": [8.2], \"y\": [\"AUS\"], \"type\": \"scatter\"}, {\"mode\": \"markers\", \"name\": \"AUT\", \"text\": [\"7.8\"], \"x\": [7.8], \"y\": [\"AUT\"], \"type\": \"scatter\"}, {\"mode\": \"markers\", \"name\": \"BEL\", \"text\": [\"8.0\"], \"x\": [8.0], \"y\": [\"BEL\"], \"type\": \"scatter\"}, {\"mode\": \"markers\", \"name\": \"CAN\", \"text\": [\"6.8\"], \"x\": [6.8], \"y\": [\"CAN\"], \"type\": \"scatter\"}, {\"mode\": \"markers\", \"name\": \"CZE\", \"text\": [\"10.8\"], \"x\": [10.8], \"y\": [\"CZE\"], \"type\": \"scatter\"}, {\"mode\": \"markers\", \"name\": \"DNK\", \"text\": [\"7.5\"], \"x\": [7.5], \"y\": [\"DNK\"], \"type\": \"scatter\"}, {\"mode\": \"markers\", \"name\": \"FIN\", \"text\": [\"5.6\"], \"x\": [5.6], \"y\": [\"FIN\"], \"type\": \"scatter\"}, {\"mode\": \"markers\", \"name\": \"FRA\", \"text\": [\"7.3\"], \"x\": [7.3], \"y\": [\"FRA\"], \"type\": \"scatter\"}, {\"mode\": \"markers\", \"name\": \"DEU\", \"text\": [\"7.0\"], \"x\": [7.0], \"y\": [\"DEU\"], \"type\": \"scatter\"}, {\"mode\": \"markers\", \"name\": \"GRC\", \"text\": [\"9.7\"], \"x\": [9.7], \"y\": [\"GRC\"], \"type\": \"scatter\"}, {\"mode\": \"markers\", \"name\": \"HUN\", \"text\": [\"14.8\"], \"x\": [14.8], \"y\": [\"HUN\"], \"type\": \"scatter\"}, {\"mode\": \"markers\", \"name\": \"ISL\", \"text\": [\"5.9\"], \"x\": [5.9], \"y\": [\"ISL\"], \"type\": \"scatter\"}, {\"mode\": \"markers\", \"name\": \"IRL\", \"text\": [\"8.2\"], \"x\": [8.2], \"y\": [\"IRL\"], \"type\": \"scatter\"}, {\"mode\": \"markers\", \"name\": \"ITA\", \"text\": [\"8.1\"], \"x\": [8.1], \"y\": [\"ITA\"], \"type\": \"scatter\"}, {\"mode\": \"markers\", \"name\": \"JPN\", \"text\": [\"4.6\"], \"x\": [4.6], \"y\": [\"JPN\"], \"type\": \"scatter\"}, {\"mode\": \"markers\", \"name\": \"KOR\", \"text\": [\"0\"], \"x\": [0], \"y\": [\"KOR\"], \"type\": \"scatter\"}, {\"mode\": \"markers\", \"name\": \"LUX\", \"text\": [\"7.3\"], \"x\": [7.3], \"y\": [\"LUX\"], \"type\": \"scatter\"}, {\"mode\": \"markers\", \"name\": \"MEX\", \"text\": [\"32.5\"], \"x\": [32.5], \"y\": [\"MEX\"], \"type\": \"scatter\"}, {\"mode\": \"markers\", \"name\": \"NLD\", \"text\": [\"7.1\"], \"x\": [7.1], \"y\": [\"NLD\"], \"type\": \"scatter\"}, {\"mode\": \"markers\", \"name\": \"NZL\", \"text\": [\"8.4\"], \"x\": [8.4], \"y\": [\"NZL\"], \"type\": \"scatter\"}, {\"mode\": \"markers\", \"name\": \"NOR\", \"text\": [\"6.9\"], \"x\": [6.9], \"y\": [\"NOR\"], \"type\": \"scatter\"}, {\"mode\": \"markers\", \"name\": \"POL\", \"text\": [\"19.4\"], \"x\": [19.4], \"y\": [\"POL\"], \"type\": \"scatter\"}, {\"mode\": \"markers\", \"name\": \"PRT\", \"text\": [\"10.9\"], \"x\": [10.9], \"y\": [\"PRT\"], \"type\": \"scatter\"}, {\"mode\": \"markers\", \"name\": \"SVK\", \"text\": [\"12.0\"], \"x\": [12.0], \"y\": [\"SVK\"], \"type\": \"scatter\"}, {\"mode\": \"markers\", \"name\": \"ESP\", \"text\": [\"7.6\"], \"x\": [7.6], \"y\": [\"ESP\"], \"type\": \"scatter\"}, {\"mode\": \"markers\", \"name\": \"SWE\", \"text\": [\"6.0\"], \"x\": [6.0], \"y\": [\"SWE\"], \"type\": \"scatter\"}, {\"mode\": \"markers\", \"name\": \"CHE\", \"text\": [\"6.8\"], \"x\": [6.8], \"y\": [\"CHE\"], \"type\": \"scatter\"}, {\"mode\": \"markers\", \"name\": \"TUR\", \"text\": [\"0\"], \"x\": [0], \"y\": [\"TUR\"], \"type\": \"scatter\"}, {\"mode\": \"markers\", \"name\": \"GBR\", \"text\": [\"7.9\"], \"x\": [7.9], \"y\": [\"GBR\"], \"type\": \"scatter\"}, {\"mode\": \"markers\", \"name\": \"USA\", \"text\": [\"9.2\"], \"x\": [9.2], \"y\": [\"USA\"], \"type\": \"scatter\"}, {\"mode\": \"markers\", \"name\": \"BRA\", \"text\": [\"50.9\"], \"x\": [50.9], \"y\": [\"BRA\"], \"type\": \"scatter\"}, {\"mode\": \"markers\", \"name\": \"CHL\", \"text\": [\"16.0\"], \"x\": [16.0], \"y\": [\"CHL\"], \"type\": \"scatter\"}, {\"mode\": \"markers\", \"name\": \"CHN\", \"text\": [\"42.1\"], \"x\": [42.1], \"y\": [\"CHN\"], \"type\": \"scatter\"}, {\"mode\": \"markers\", \"name\": \"EST\", \"text\": [\"12.3\"], \"x\": [12.3], \"y\": [\"EST\"], \"type\": \"scatter\"}, {\"mode\": \"markers\", \"name\": \"IND\", \"text\": [\"88.3\"], \"x\": [88.3], \"y\": [\"IND\"], \"type\": \"scatter\"}, {\"mode\": \"markers\", \"name\": \"IDN\", \"text\": [\"62.2\"], \"x\": [62.2], \"y\": [\"IDN\"], \"type\": \"scatter\"}, {\"mode\": \"markers\", \"name\": \"ISR\", \"text\": [\"9.9\"], \"x\": [9.9], \"y\": [\"ISR\"], \"type\": \"scatter\"}, {\"mode\": \"markers\", \"name\": \"RUS\", \"text\": [\"17.4\"], \"x\": [17.4], \"y\": [\"RUS\"], \"type\": \"scatter\"}, {\"mode\": \"markers\", \"name\": \"SVN\", \"text\": [\"8.4\"], \"x\": [8.4], \"y\": [\"SVN\"], \"type\": \"scatter\"}, {\"mode\": \"markers\", \"name\": \"ZAF\", \"text\": [\"47.4\"], \"x\": [47.4], \"y\": [\"ZAF\"], \"type\": \"scatter\"}, {\"mode\": \"markers\", \"name\": \"COL\", \"text\": [\"38.4\"], \"x\": [38.4], \"y\": [\"COL\"], \"type\": \"scatter\"}, {\"mode\": \"markers\", \"name\": \"LVA\", \"text\": [\"13.7\"], \"x\": [13.7], \"y\": [\"LVA\"], \"type\": \"scatter\"}, {\"mode\": \"markers\", \"name\": \"LTU\", \"text\": [\"10.2\"], \"x\": [10.2], \"y\": [\"LTU\"], \"type\": \"scatter\"}, {\"mode\": \"markers\", \"name\": \"CRI\", \"text\": [\"14.3\"], \"x\": [14.3], \"y\": [\"CRI\"], \"type\": \"scatter\"}], \"name\": \"1990\"}, {\"data\": [{\"mode\": \"markers\", \"name\": \"AUS\", \"text\": [\"7.1\"], \"x\": [7.1], \"y\": [\"AUS\"], \"type\": \"scatter\"}, {\"mode\": \"markers\", \"name\": \"AUT\", \"text\": [\"7.5\"], \"x\": [7.5], \"y\": [\"AUT\"], \"type\": \"scatter\"}, {\"mode\": \"markers\", \"name\": \"BEL\", \"text\": [\"8.3\"], \"x\": [8.3], \"y\": [\"BEL\"], \"type\": \"scatter\"}, {\"mode\": \"markers\", \"name\": \"CAN\", \"text\": [\"6.4\"], \"x\": [6.4], \"y\": [\"CAN\"], \"type\": \"scatter\"}, {\"mode\": \"markers\", \"name\": \"CZE\", \"text\": [\"10.4\"], \"x\": [10.4], \"y\": [\"CZE\"], \"type\": \"scatter\"}, {\"mode\": \"markers\", \"name\": \"DNK\", \"text\": [\"7.3\"], \"x\": [7.3], \"y\": [\"DNK\"], \"type\": \"scatter\"}, {\"mode\": \"markers\", \"name\": \"FIN\", \"text\": [\"5.8\"], \"x\": [5.8], \"y\": [\"FIN\"], \"type\": \"scatter\"}, {\"mode\": \"markers\", \"name\": \"FRA\", \"text\": [\"7.3\"], \"x\": [7.3], \"y\": [\"FRA\"], \"type\": \"scatter\"}, {\"mode\": \"markers\", \"name\": \"DEU\", \"text\": [\"6.9\"], \"x\": [6.9], \"y\": [\"DEU\"], \"type\": \"scatter\"}, {\"mode\": \"markers\", \"name\": \"GRC\", \"text\": [\"9.0\"], \"x\": [9.0], \"y\": [\"GRC\"], \"type\": \"scatter\"}, {\"mode\": \"markers\", \"name\": \"HUN\", \"text\": [\"15.6\"], \"x\": [15.6], \"y\": [\"HUN\"], \"type\": \"scatter\"}, {\"mode\": \"markers\", \"name\": \"ISL\", \"text\": [\"5.5\"], \"x\": [5.5], \"y\": [\"ISL\"], \"type\": \"scatter\"}, {\"mode\": \"markers\", \"name\": \"IRL\", \"text\": [\"7.6\"], \"x\": [7.6], \"y\": [\"IRL\"], \"type\": \"scatter\"}, {\"mode\": \"markers\", \"name\": \"ITA\", \"text\": [\"8.0\"], \"x\": [8.0], \"y\": [\"ITA\"], \"type\": \"scatter\"}, {\"mode\": \"markers\", \"name\": \"JPN\", \"text\": [\"4.4\"], \"x\": [4.4], \"y\": [\"JPN\"], \"type\": \"scatter\"}, {\"mode\": \"markers\", \"name\": \"KOR\", \"text\": [\"10.0\"], \"x\": [10.0], \"y\": [\"KOR\"], \"type\": \"scatter\"}, {\"mode\": \"markers\", \"name\": \"LUX\", \"text\": [\"9.2\"], \"x\": [9.2], \"y\": [\"LUX\"], \"type\": \"scatter\"}, {\"mode\": \"markers\", \"name\": \"MEX\", \"text\": [\"31.1\"], \"x\": [31.1], \"y\": [\"MEX\"], \"type\": \"scatter\"}, {\"mode\": \"markers\", \"name\": \"NLD\", \"text\": [\"6.5\"], \"x\": [6.5], \"y\": [\"NLD\"], \"type\": \"scatter\"}, {\"mode\": \"markers\", \"name\": \"NZL\", \"text\": [\"8.4\"], \"x\": [8.4], \"y\": [\"NZL\"], \"type\": \"scatter\"}, {\"mode\": \"markers\", \"name\": \"NOR\", \"text\": [\"6.2\"], \"x\": [6.2], \"y\": [\"NOR\"], \"type\": \"scatter\"}, {\"mode\": \"markers\", \"name\": \"POL\", \"text\": [\"18.2\"], \"x\": [18.2], \"y\": [\"POL\"], \"type\": \"scatter\"}, {\"mode\": \"markers\", \"name\": \"PRT\", \"text\": [\"10.8\"], \"x\": [10.8], \"y\": [\"PRT\"], \"type\": \"scatter\"}, {\"mode\": \"markers\", \"name\": \"SVK\", \"text\": [\"13.2\"], \"x\": [13.2], \"y\": [\"SVK\"], \"type\": \"scatter\"}, {\"mode\": \"markers\", \"name\": \"ESP\", \"text\": [\"7.2\"], \"x\": [7.2], \"y\": [\"ESP\"], \"type\": \"scatter\"}, {\"mode\": \"markers\", \"name\": \"SWE\", \"text\": [\"6.2\"], \"x\": [6.2], \"y\": [\"SWE\"], \"type\": \"scatter\"}, {\"mode\": \"markers\", \"name\": \"CHE\", \"text\": [\"6.2\"], \"x\": [6.2], \"y\": [\"CHE\"], \"type\": \"scatter\"}, {\"mode\": \"markers\", \"name\": \"TUR\", \"text\": [\"0\"], \"x\": [0], \"y\": [\"TUR\"], \"type\": \"scatter\"}, {\"mode\": \"markers\", \"name\": \"GBR\", \"text\": [\"7.4\"], \"x\": [7.4], \"y\": [\"GBR\"], \"type\": \"scatter\"}, {\"mode\": \"markers\", \"name\": \"USA\", \"text\": [\"8.9\"], \"x\": [8.9], \"y\": [\"USA\"], \"type\": \"scatter\"}, {\"mode\": \"markers\", \"name\": \"BRA\", \"text\": [\"48.9\"], \"x\": [48.9], \"y\": [\"BRA\"], \"type\": \"scatter\"}, {\"mode\": \"markers\", \"name\": \"CHL\", \"text\": [\"14.6\"], \"x\": [14.6], \"y\": [\"CHL\"], \"type\": \"scatter\"}, {\"mode\": \"markers\", \"name\": \"CHN\", \"text\": [\"41.8\"], \"x\": [41.8], \"y\": [\"CHN\"], \"type\": \"scatter\"}, {\"mode\": \"markers\", \"name\": \"EST\", \"text\": [\"13.3\"], \"x\": [13.3], \"y\": [\"EST\"], \"type\": \"scatter\"}, {\"mode\": \"markers\", \"name\": \"IND\", \"text\": [\"86.1\"], \"x\": [86.1], \"y\": [\"IND\"], \"type\": \"scatter\"}, {\"mode\": \"markers\", \"name\": \"IDN\", \"text\": [\"59.8\"], \"x\": [59.8], \"y\": [\"IDN\"], \"type\": \"scatter\"}, {\"mode\": \"markers\", \"name\": \"ISR\", \"text\": [\"9.2\"], \"x\": [9.2], \"y\": [\"ISR\"], \"type\": \"scatter\"}, {\"mode\": \"markers\", \"name\": \"RUS\", \"text\": [\"17.8\"], \"x\": [17.8], \"y\": [\"RUS\"], \"type\": \"scatter\"}, {\"mode\": \"markers\", \"name\": \"SVN\", \"text\": [\"8.2\"], \"x\": [8.2], \"y\": [\"SVN\"], \"type\": \"scatter\"}, {\"mode\": \"markers\", \"name\": \"ZAF\", \"text\": [\"46.7\"], \"x\": [46.7], \"y\": [\"ZAF\"], \"type\": \"scatter\"}, {\"mode\": \"markers\", \"name\": \"COL\", \"text\": [\"36.1\"], \"x\": [36.1], \"y\": [\"COL\"], \"type\": \"scatter\"}, {\"mode\": \"markers\", \"name\": \"LVA\", \"text\": [\"15.7\"], \"x\": [15.7], \"y\": [\"LVA\"], \"type\": \"scatter\"}, {\"mode\": \"markers\", \"name\": \"LTU\", \"text\": [\"14.4\"], \"x\": [14.4], \"y\": [\"LTU\"], \"type\": \"scatter\"}, {\"mode\": \"markers\", \"name\": \"CRI\", \"text\": [\"14.0\"], \"x\": [14.0], \"y\": [\"CRI\"], \"type\": \"scatter\"}], \"name\": \"1991\"}, {\"data\": [{\"mode\": \"markers\", \"name\": \"AUS\", \"text\": [\"7.0\"], \"x\": [7.0], \"y\": [\"AUS\"], \"type\": \"scatter\"}, {\"mode\": \"markers\", \"name\": \"AUT\", \"text\": [\"7.5\"], \"x\": [7.5], \"y\": [\"AUT\"], \"type\": \"scatter\"}, {\"mode\": \"markers\", \"name\": \"BEL\", \"text\": [\"8.2\"], \"x\": [8.2], \"y\": [\"BEL\"], \"type\": \"scatter\"}, {\"mode\": \"markers\", \"name\": \"CAN\", \"text\": [\"6.3\"], \"x\": [6.3], \"y\": [\"CAN\"], \"type\": \"scatter\"}, {\"mode\": \"markers\", \"name\": \"CZE\", \"text\": [\"9.9\"], \"x\": [9.9], \"y\": [\"CZE\"], \"type\": \"scatter\"}, {\"mode\": \"markers\", \"name\": \"DNK\", \"text\": [\"6.6\"], \"x\": [6.6], \"y\": [\"DNK\"], \"type\": \"scatter\"}, {\"mode\": \"markers\", \"name\": \"FIN\", \"text\": [\"5.2\"], \"x\": [5.2], \"y\": [\"FIN\"], \"type\": \"scatter\"}, {\"mode\": \"markers\", \"name\": \"FRA\", \"text\": [\"6.8\"], \"x\": [6.8], \"y\": [\"FRA\"], \"type\": \"scatter\"}, {\"mode\": \"markers\", \"name\": \"DEU\", \"text\": [\"6.2\"], \"x\": [6.2], \"y\": [\"DEU\"], \"type\": \"scatter\"}, {\"mode\": \"markers\", \"name\": \"GRC\", \"text\": [\"8.4\"], \"x\": [8.4], \"y\": [\"GRC\"], \"type\": \"scatter\"}, {\"mode\": \"markers\", \"name\": \"HUN\", \"text\": [\"14.1\"], \"x\": [14.1], \"y\": [\"HUN\"], \"type\": \"scatter\"}, {\"mode\": \"markers\", \"name\": \"ISL\", \"text\": [\"4.8\"], \"x\": [4.8], \"y\": [\"ISL\"], \"type\": \"scatter\"}, {\"mode\": \"markers\", \"name\": \"IRL\", \"text\": [\"6.5\"], \"x\": [6.5], \"y\": [\"IRL\"], \"type\": \"scatter\"}, {\"mode\": \"markers\", \"name\": \"ITA\", \"text\": [\"7.8\"], \"x\": [7.8], \"y\": [\"ITA\"], \"type\": \"scatter\"}, {\"mode\": \"markers\", \"name\": \"JPN\", \"text\": [\"4.5\"], \"x\": [4.5], \"y\": [\"JPN\"], \"type\": \"scatter\"}, {\"mode\": \"markers\", \"name\": \"KOR\", \"text\": [\"0\"], \"x\": [0], \"y\": [\"KOR\"], \"type\": \"scatter\"}, {\"mode\": \"markers\", \"name\": \"LUX\", \"text\": [\"8.5\"], \"x\": [8.5], \"y\": [\"LUX\"], \"type\": \"scatter\"}, {\"mode\": \"markers\", \"name\": \"MEX\", \"text\": [\"29.7\"], \"x\": [29.7], \"y\": [\"MEX\"], \"type\": \"scatter\"}, {\"mode\": \"markers\", \"name\": \"NLD\", \"text\": [\"6.3\"], \"x\": [6.3], \"y\": [\"NLD\"], \"type\": \"scatter\"}, {\"mode\": \"markers\", \"name\": \"NZL\", \"text\": [\"7.3\"], \"x\": [7.3], \"y\": [\"NZL\"], \"type\": \"scatter\"}, {\"mode\": \"markers\", \"name\": \"NOR\", \"text\": [\"5.8\"], \"x\": [5.8], \"y\": [\"NOR\"], \"type\": \"scatter\"}, {\"mode\": \"markers\", \"name\": \"POL\", \"text\": [\"17.5\"], \"x\": [17.5], \"y\": [\"POL\"], \"type\": \"scatter\"}, {\"mode\": \"markers\", \"name\": \"PRT\", \"text\": [\"9.2\"], \"x\": [9.2], \"y\": [\"PRT\"], \"type\": \"scatter\"}, {\"mode\": \"markers\", \"name\": \"SVK\", \"text\": [\"12.6\"], \"x\": [12.6], \"y\": [\"SVK\"], \"type\": \"scatter\"}, {\"mode\": \"markers\", \"name\": \"ESP\", \"text\": [\"7.1\"], \"x\": [7.1], \"y\": [\"ESP\"], \"type\": \"scatter\"}, {\"mode\": \"markers\", \"name\": \"SWE\", \"text\": [\"5.3\"], \"x\": [5.3], \"y\": [\"SWE\"], \"type\": \"scatter\"}, {\"mode\": \"markers\", \"name\": \"CHE\", \"text\": [\"6.4\"], \"x\": [6.4], \"y\": [\"CHE\"], \"type\": \"scatter\"}, {\"mode\": \"markers\", \"name\": \"TUR\", \"text\": [\"0\"], \"x\": [0], \"y\": [\"TUR\"], \"type\": \"scatter\"}, {\"mode\": \"markers\", \"name\": \"GBR\", \"text\": [\"6.6\"], \"x\": [6.6], \"y\": [\"GBR\"], \"type\": \"scatter\"}, {\"mode\": \"markers\", \"name\": \"USA\", \"text\": [\"8.5\"], \"x\": [8.5], \"y\": [\"USA\"], \"type\": \"scatter\"}, {\"mode\": \"markers\", \"name\": \"BRA\", \"text\": [\"46.8\"], \"x\": [46.8], \"y\": [\"BRA\"], \"type\": \"scatter\"}, {\"mode\": \"markers\", \"name\": \"CHL\", \"text\": [\"14.3\"], \"x\": [14.3], \"y\": [\"CHL\"], \"type\": \"scatter\"}, {\"mode\": \"markers\", \"name\": \"CHN\", \"text\": [\"41.2\"], \"x\": [41.2], \"y\": [\"CHN\"], \"type\": \"scatter\"}, {\"mode\": \"markers\", \"name\": \"EST\", \"text\": [\"15.7\"], \"x\": [15.7], \"y\": [\"EST\"], \"type\": \"scatter\"}, {\"mode\": \"markers\", \"name\": \"IND\", \"text\": [\"83.9\"], \"x\": [83.9], \"y\": [\"IND\"], \"type\": \"scatter\"}, {\"mode\": \"markers\", \"name\": \"IDN\", \"text\": [\"57.4\"], \"x\": [57.4], \"y\": [\"IDN\"], \"type\": \"scatter\"}, {\"mode\": \"markers\", \"name\": \"ISR\", \"text\": [\"9.4\"], \"x\": [9.4], \"y\": [\"ISR\"], \"type\": \"scatter\"}, {\"mode\": \"markers\", \"name\": \"RUS\", \"text\": [\"18.0\"], \"x\": [18.0], \"y\": [\"RUS\"], \"type\": \"scatter\"}, {\"mode\": \"markers\", \"name\": \"SVN\", \"text\": [\"8.9\"], \"x\": [8.9], \"y\": [\"SVN\"], \"type\": \"scatter\"}, {\"mode\": \"markers\", \"name\": \"ZAF\", \"text\": [\"46.4\"], \"x\": [46.4], \"y\": [\"ZAF\"], \"type\": \"scatter\"}, {\"mode\": \"markers\", \"name\": \"COL\", \"text\": [\"34.1\"], \"x\": [34.1], \"y\": [\"COL\"], \"type\": \"scatter\"}, {\"mode\": \"markers\", \"name\": \"LVA\", \"text\": [\"17.6\"], \"x\": [17.6], \"y\": [\"LVA\"], \"type\": \"scatter\"}, {\"mode\": \"markers\", \"name\": \"LTU\", \"text\": [\"16.3\"], \"x\": [16.3], \"y\": [\"LTU\"], \"type\": \"scatter\"}, {\"mode\": \"markers\", \"name\": \"CRI\", \"text\": [\"13.7\"], \"x\": [13.7], \"y\": [\"CRI\"], \"type\": \"scatter\"}], \"name\": \"1992\"}, {\"data\": [{\"mode\": \"markers\", \"name\": \"AUS\", \"text\": [\"6.1\"], \"x\": [6.1], \"y\": [\"AUS\"], \"type\": \"scatter\"}, {\"mode\": \"markers\", \"name\": \"AUT\", \"text\": [\"6.5\"], \"x\": [6.5], \"y\": [\"AUT\"], \"type\": \"scatter\"}, {\"mode\": \"markers\", \"name\": \"BEL\", \"text\": [\"8.0\"], \"x\": [8.0], \"y\": [\"BEL\"], \"type\": \"scatter\"}, {\"mode\": \"markers\", \"name\": \"CAN\", \"text\": [\"6.8\"], \"x\": [6.8], \"y\": [\"CAN\"], \"type\": \"scatter\"}, {\"mode\": \"markers\", \"name\": \"CZE\", \"text\": [\"8.5\"], \"x\": [8.5], \"y\": [\"CZE\"], \"type\": \"scatter\"}, {\"mode\": \"markers\", \"name\": \"DNK\", \"text\": [\"5.4\"], \"x\": [5.4], \"y\": [\"DNK\"], \"type\": \"scatter\"}, {\"mode\": \"markers\", \"name\": \"FIN\", \"text\": [\"4.4\"], \"x\": [4.4], \"y\": [\"FIN\"], \"type\": \"scatter\"}, {\"mode\": \"markers\", \"name\": \"FRA\", \"text\": [\"6.5\"], \"x\": [6.5], \"y\": [\"FRA\"], \"type\": \"scatter\"}, {\"mode\": \"markers\", \"name\": \"DEU\", \"text\": [\"5.8\"], \"x\": [5.8], \"y\": [\"DEU\"], \"type\": \"scatter\"}, {\"mode\": \"markers\", \"name\": \"GRC\", \"text\": [\"8.5\"], \"x\": [8.5], \"y\": [\"GRC\"], \"type\": \"scatter\"}, {\"mode\": \"markers\", \"name\": \"HUN\", \"text\": [\"12.5\"], \"x\": [12.5], \"y\": [\"HUN\"], \"type\": \"scatter\"}, {\"mode\": \"markers\", \"name\": \"ISL\", \"text\": [\"4.8\"], \"x\": [4.8], \"y\": [\"ISL\"], \"type\": \"scatter\"}, {\"mode\": \"markers\", \"name\": \"IRL\", \"text\": [\"6.1\"], \"x\": [6.1], \"y\": [\"IRL\"], \"type\": \"scatter\"}, {\"mode\": \"markers\", \"name\": \"ITA\", \"text\": [\"7.0\"], \"x\": [7.0], \"y\": [\"ITA\"], \"type\": \"scatter\"}, {\"mode\": \"markers\", \"name\": \"JPN\", \"text\": [\"4.3\"], \"x\": [4.3], \"y\": [\"JPN\"], \"type\": \"scatter\"}, {\"mode\": \"markers\", \"name\": \"KOR\", \"text\": [\"9.9\"], \"x\": [9.9], \"y\": [\"KOR\"], \"type\": \"scatter\"}, {\"mode\": \"markers\", \"name\": \"LUX\", \"text\": [\"6.0\"], \"x\": [6.0], \"y\": [\"LUX\"], \"type\": \"scatter\"}, {\"mode\": \"markers\", \"name\": \"MEX\", \"text\": [\"28.4\"], \"x\": [28.4], \"y\": [\"MEX\"], \"type\": \"scatter\"}, {\"mode\": \"markers\", \"name\": \"NLD\", \"text\": [\"6.3\"], \"x\": [6.3], \"y\": [\"NLD\"], \"type\": \"scatter\"}, {\"mode\": \"markers\", \"name\": \"NZL\", \"text\": [\"7.3\"], \"x\": [7.3], \"y\": [\"NZL\"], \"type\": \"scatter\"}, {\"mode\": \"markers\", \"name\": \"NOR\", \"text\": [\"5.0\"], \"x\": [5.0], \"y\": [\"NOR\"], \"type\": \"scatter\"}, {\"mode\": \"markers\", \"name\": \"POL\", \"text\": [\"16.2\"], \"x\": [16.2], \"y\": [\"POL\"], \"type\": \"scatter\"}, {\"mode\": \"markers\", \"name\": \"PRT\", \"text\": [\"8.6\"], \"x\": [8.6], \"y\": [\"PRT\"], \"type\": \"scatter\"}, {\"mode\": \"markers\", \"name\": \"SVK\", \"text\": [\"10.6\"], \"x\": [10.6], \"y\": [\"SVK\"], \"type\": \"scatter\"}, {\"mode\": \"markers\", \"name\": \"ESP\", \"text\": [\"6.7\"], \"x\": [6.7], \"y\": [\"ESP\"], \"type\": \"scatter\"}, {\"mode\": \"markers\", \"name\": \"SWE\", \"text\": [\"4.8\"], \"x\": [4.8], \"y\": [\"SWE\"], \"type\": \"scatter\"}, {\"mode\": \"markers\", \"name\": \"CHE\", \"text\": [\"5.6\"], \"x\": [5.6], \"y\": [\"CHE\"], \"type\": \"scatter\"}, {\"mode\": \"markers\", \"name\": \"TUR\", \"text\": [\"0\"], \"x\": [0], \"y\": [\"TUR\"], \"type\": \"scatter\"}, {\"mode\": \"markers\", \"name\": \"GBR\", \"text\": [\"6.3\"], \"x\": [6.3], \"y\": [\"GBR\"], \"type\": \"scatter\"}, {\"mode\": \"markers\", \"name\": \"USA\", \"text\": [\"8.4\"], \"x\": [8.4], \"y\": [\"USA\"], \"type\": \"scatter\"}, {\"mode\": \"markers\", \"name\": \"BRA\", \"text\": [\"44.6\"], \"x\": [44.6], \"y\": [\"BRA\"], \"type\": \"scatter\"}, {\"mode\": \"markers\", \"name\": \"CHL\", \"text\": [\"13.1\"], \"x\": [13.1], \"y\": [\"CHL\"], \"type\": \"scatter\"}, {\"mode\": \"markers\", \"name\": \"CHN\", \"text\": [\"40.2\"], \"x\": [40.2], \"y\": [\"CHN\"], \"type\": \"scatter\"}, {\"mode\": \"markers\", \"name\": \"EST\", \"text\": [\"15.6\"], \"x\": [15.6], \"y\": [\"EST\"], \"type\": \"scatter\"}, {\"mode\": \"markers\", \"name\": \"IND\", \"text\": [\"81.7\"], \"x\": [81.7], \"y\": [\"IND\"], \"type\": \"scatter\"}, {\"mode\": \"markers\", \"name\": \"IDN\", \"text\": [\"55.1\"], \"x\": [55.1], \"y\": [\"IDN\"], \"type\": \"scatter\"}, {\"mode\": \"markers\", \"name\": \"ISR\", \"text\": [\"7.8\"], \"x\": [7.8], \"y\": [\"ISR\"], \"type\": \"scatter\"}, {\"mode\": \"markers\", \"name\": \"RUS\", \"text\": [\"19.9\"], \"x\": [19.9], \"y\": [\"RUS\"], \"type\": \"scatter\"}, {\"mode\": \"markers\", \"name\": \"SVN\", \"text\": [\"6.8\"], \"x\": [6.8], \"y\": [\"SVN\"], \"type\": \"scatter\"}, {\"mode\": \"markers\", \"name\": \"ZAF\", \"text\": [\"46.6\"], \"x\": [46.6], \"y\": [\"ZAF\"], \"type\": \"scatter\"}, {\"mode\": \"markers\", \"name\": \"COL\", \"text\": [\"32.5\"], \"x\": [32.5], \"y\": [\"COL\"], \"type\": \"scatter\"}, {\"mode\": \"markers\", \"name\": \"LVA\", \"text\": [\"16.2\"], \"x\": [16.2], \"y\": [\"LVA\"], \"type\": \"scatter\"}, {\"mode\": \"markers\", \"name\": \"LTU\", \"text\": [\"15.7\"], \"x\": [15.7], \"y\": [\"LTU\"], \"type\": \"scatter\"}, {\"mode\": \"markers\", \"name\": \"CRI\", \"text\": [\"13.5\"], \"x\": [13.5], \"y\": [\"CRI\"], \"type\": \"scatter\"}], \"name\": \"1993\"}, {\"data\": [{\"mode\": \"markers\", \"name\": \"AUS\", \"text\": [\"5.9\"], \"x\": [5.9], \"y\": [\"AUS\"], \"type\": \"scatter\"}, {\"mode\": \"markers\", \"name\": \"AUT\", \"text\": [\"6.3\"], \"x\": [6.3], \"y\": [\"AUT\"], \"type\": \"scatter\"}, {\"mode\": \"markers\", \"name\": \"BEL\", \"text\": [\"7.6\"], \"x\": [7.6], \"y\": [\"BEL\"], \"type\": \"scatter\"}, {\"mode\": \"markers\", \"name\": \"CAN\", \"text\": [\"6.3\"], \"x\": [6.3], \"y\": [\"CAN\"], \"type\": \"scatter\"}, {\"mode\": \"markers\", \"name\": \"CZE\", \"text\": [\"7.9\"], \"x\": [7.9], \"y\": [\"CZE\"], \"type\": \"scatter\"}, {\"mode\": \"markers\", \"name\": \"DNK\", \"text\": [\"5.5\"], \"x\": [5.5], \"y\": [\"DNK\"], \"type\": \"scatter\"}, {\"mode\": \"markers\", \"name\": \"FIN\", \"text\": [\"4.7\"], \"x\": [4.7], \"y\": [\"FIN\"], \"type\": \"scatter\"}, {\"mode\": \"markers\", \"name\": \"FRA\", \"text\": [\"6.0\"], \"x\": [6.0], \"y\": [\"FRA\"], \"type\": \"scatter\"}, {\"mode\": \"markers\", \"name\": \"DEU\", \"text\": [\"5.6\"], \"x\": [5.6], \"y\": [\"DEU\"], \"type\": \"scatter\"}, {\"mode\": \"markers\", \"name\": \"GRC\", \"text\": [\"7.9\"], \"x\": [7.9], \"y\": [\"GRC\"], \"type\": \"scatter\"}, {\"mode\": \"markers\", \"name\": \"HUN\", \"text\": [\"11.5\"], \"x\": [11.5], \"y\": [\"HUN\"], \"type\": \"scatter\"}, {\"mode\": \"markers\", \"name\": \"ISL\", \"text\": [\"3.4\"], \"x\": [3.4], \"y\": [\"ISL\"], \"type\": \"scatter\"}, {\"mode\": \"markers\", \"name\": \"IRL\", \"text\": [\"5.7\"], \"x\": [5.7], \"y\": [\"IRL\"], \"type\": \"scatter\"}, {\"mode\": \"markers\", \"name\": \"ITA\", \"text\": [\"6.4\"], \"x\": [6.4], \"y\": [\"ITA\"], \"type\": \"scatter\"}, {\"mode\": \"markers\", \"name\": \"JPN\", \"text\": [\"4.2\"], \"x\": [4.2], \"y\": [\"JPN\"], \"type\": \"scatter\"}, {\"mode\": \"markers\", \"name\": \"KOR\", \"text\": [\"0\"], \"x\": [0], \"y\": [\"KOR\"], \"type\": \"scatter\"}, {\"mode\": \"markers\", \"name\": \"LUX\", \"text\": [\"5.3\"], \"x\": [5.3], \"y\": [\"LUX\"], \"type\": \"scatter\"}, {\"mode\": \"markers\", \"name\": \"MEX\", \"text\": [\"27.2\"], \"x\": [27.2], \"y\": [\"MEX\"], \"type\": \"scatter\"}, {\"mode\": \"markers\", \"name\": \"NLD\", \"text\": [\"5.6\"], \"x\": [5.6], \"y\": [\"NLD\"], \"type\": \"scatter\"}, {\"mode\": \"markers\", \"name\": \"NZL\", \"text\": [\"7.2\"], \"x\": [7.2], \"y\": [\"NZL\"], \"type\": \"scatter\"}, {\"mode\": \"markers\", \"name\": \"NOR\", \"text\": [\"5.2\"], \"x\": [5.2], \"y\": [\"NOR\"], \"type\": \"scatter\"}, {\"mode\": \"markers\", \"name\": \"POL\", \"text\": [\"15.1\"], \"x\": [15.1], \"y\": [\"POL\"], \"type\": \"scatter\"}, {\"mode\": \"markers\", \"name\": \"PRT\", \"text\": [\"7.9\"], \"x\": [7.9], \"y\": [\"PRT\"], \"type\": \"scatter\"}, {\"mode\": \"markers\", \"name\": \"SVK\", \"text\": [\"11.2\"], \"x\": [11.2], \"y\": [\"SVK\"], \"type\": \"scatter\"}, {\"mode\": \"markers\", \"name\": \"ESP\", \"text\": [\"6.0\"], \"x\": [6.0], \"y\": [\"ESP\"], \"type\": \"scatter\"}, {\"mode\": \"markers\", \"name\": \"SWE\", \"text\": [\"4.4\"], \"x\": [4.4], \"y\": [\"SWE\"], \"type\": \"scatter\"}, {\"mode\": \"markers\", \"name\": \"CHE\", \"text\": [\"5.1\"], \"x\": [5.1], \"y\": [\"CHE\"], \"type\": \"scatter\"}, {\"mode\": \"markers\", \"name\": \"TUR\", \"text\": [\"0\"], \"x\": [0], \"y\": [\"TUR\"], \"type\": \"scatter\"}, {\"mode\": \"markers\", \"name\": \"GBR\", \"text\": [\"6.2\"], \"x\": [6.2], \"y\": [\"GBR\"], \"type\": \"scatter\"}, {\"mode\": \"markers\", \"name\": \"USA\", \"text\": [\"8.0\"], \"x\": [8.0], \"y\": [\"USA\"], \"type\": \"scatter\"}, {\"mode\": \"markers\", \"name\": \"BRA\", \"text\": [\"42.2\"], \"x\": [42.2], \"y\": [\"BRA\"], \"type\": \"scatter\"}, {\"mode\": \"markers\", \"name\": \"CHL\", \"text\": [\"12.0\"], \"x\": [12.0], \"y\": [\"CHL\"], \"type\": \"scatter\"}, {\"mode\": \"markers\", \"name\": \"CHN\", \"text\": [\"39.0\"], \"x\": [39.0], \"y\": [\"CHN\"], \"type\": \"scatter\"}, {\"mode\": \"markers\", \"name\": \"EST\", \"text\": [\"14.4\"], \"x\": [14.4], \"y\": [\"EST\"], \"type\": \"scatter\"}, {\"mode\": \"markers\", \"name\": \"IND\", \"text\": [\"79.6\"], \"x\": [79.6], \"y\": [\"IND\"], \"type\": \"scatter\"}, {\"mode\": \"markers\", \"name\": \"IDN\", \"text\": [\"52.9\"], \"x\": [52.9], \"y\": [\"IDN\"], \"type\": \"scatter\"}, {\"mode\": \"markers\", \"name\": \"ISR\", \"text\": [\"7.5\"], \"x\": [7.5], \"y\": [\"ISR\"], \"type\": \"scatter\"}, {\"mode\": \"markers\", \"name\": \"RUS\", \"text\": [\"18.6\"], \"x\": [18.6], \"y\": [\"RUS\"], \"type\": \"scatter\"}, {\"mode\": \"markers\", \"name\": \"SVN\", \"text\": [\"6.5\"], \"x\": [6.5], \"y\": [\"SVN\"], \"type\": \"scatter\"}, {\"mode\": \"markers\", \"name\": \"ZAF\", \"text\": [\"47.2\"], \"x\": [47.2], \"y\": [\"ZAF\"], \"type\": \"scatter\"}, {\"mode\": \"markers\", \"name\": \"COL\", \"text\": [\"31.4\"], \"x\": [31.4], \"y\": [\"COL\"], \"type\": \"scatter\"}, {\"mode\": \"markers\", \"name\": \"LVA\", \"text\": [\"15.7\"], \"x\": [15.7], \"y\": [\"LVA\"], \"type\": \"scatter\"}, {\"mode\": \"markers\", \"name\": \"LTU\", \"text\": [\"14.2\"], \"x\": [14.2], \"y\": [\"LTU\"], \"type\": \"scatter\"}, {\"mode\": \"markers\", \"name\": \"CRI\", \"text\": [\"13.2\"], \"x\": [13.2], \"y\": [\"CRI\"], \"type\": \"scatter\"}], \"name\": \"1994\"}, {\"data\": [{\"mode\": \"markers\", \"name\": \"AUS\", \"text\": [\"5.7\"], \"x\": [5.7], \"y\": [\"AUS\"], \"type\": \"scatter\"}, {\"mode\": \"markers\", \"name\": \"AUT\", \"text\": [\"5.4\"], \"x\": [5.4], \"y\": [\"AUT\"], \"type\": \"scatter\"}, {\"mode\": \"markers\", \"name\": \"BEL\", \"text\": [\"6.0\"], \"x\": [6.0], \"y\": [\"BEL\"], \"type\": \"scatter\"}, {\"mode\": \"markers\", \"name\": \"CAN\", \"text\": [\"6.1\"], \"x\": [6.1], \"y\": [\"CAN\"], \"type\": \"scatter\"}, {\"mode\": \"markers\", \"name\": \"CZE\", \"text\": [\"7.7\"], \"x\": [7.7], \"y\": [\"CZE\"], \"type\": \"scatter\"}, {\"mode\": \"markers\", \"name\": \"DNK\", \"text\": [\"5.1\"], \"x\": [5.1], \"y\": [\"DNK\"], \"type\": \"scatter\"}, {\"mode\": \"markers\", \"name\": \"FIN\", \"text\": [\"3.9\"], \"x\": [3.9], \"y\": [\"FIN\"], \"type\": \"scatter\"}, {\"mode\": \"markers\", \"name\": \"FRA\", \"text\": [\"5.0\"], \"x\": [5.0], \"y\": [\"FRA\"], \"type\": \"scatter\"}, {\"mode\": \"markers\", \"name\": \"DEU\", \"text\": [\"5.3\"], \"x\": [5.3], \"y\": [\"DEU\"], \"type\": \"scatter\"}, {\"mode\": \"markers\", \"name\": \"GRC\", \"text\": [\"8.1\"], \"x\": [8.1], \"y\": [\"GRC\"], \"type\": \"scatter\"}, {\"mode\": \"markers\", \"name\": \"HUN\", \"text\": [\"10.7\"], \"x\": [10.7], \"y\": [\"HUN\"], \"type\": \"scatter\"}, {\"mode\": \"markers\", \"name\": \"ISL\", \"text\": [\"6.1\"], \"x\": [6.1], \"y\": [\"ISL\"], \"type\": \"scatter\"}, {\"mode\": \"markers\", \"name\": \"IRL\", \"text\": [\"6.4\"], \"x\": [6.4], \"y\": [\"IRL\"], \"type\": \"scatter\"}, {\"mode\": \"markers\", \"name\": \"ITA\", \"text\": [\"6.1\"], \"x\": [6.1], \"y\": [\"ITA\"], \"type\": \"scatter\"}, {\"mode\": \"markers\", \"name\": \"JPN\", \"text\": [\"4.3\"], \"x\": [4.3], \"y\": [\"JPN\"], \"type\": \"scatter\"}, {\"mode\": \"markers\", \"name\": \"KOR\", \"text\": [\"0\"], \"x\": [0], \"y\": [\"KOR\"], \"type\": \"scatter\"}, {\"mode\": \"markers\", \"name\": \"LUX\", \"text\": [\"5.5\"], \"x\": [5.5], \"y\": [\"LUX\"], \"type\": \"scatter\"}, {\"mode\": \"markers\", \"name\": \"MEX\", \"text\": [\"26.0\"], \"x\": [26.0], \"y\": [\"MEX\"], \"type\": \"scatter\"}, {\"mode\": \"markers\", \"name\": \"NLD\", \"text\": [\"5.5\"], \"x\": [5.5], \"y\": [\"NLD\"], \"type\": \"scatter\"}, {\"mode\": \"markers\", \"name\": \"NZL\", \"text\": [\"6.7\"], \"x\": [6.7], \"y\": [\"NZL\"], \"type\": \"scatter\"}, {\"mode\": \"markers\", \"name\": \"NOR\", \"text\": [\"4.0\"], \"x\": [4.0], \"y\": [\"NOR\"], \"type\": \"scatter\"}, {\"mode\": \"markers\", \"name\": \"POL\", \"text\": [\"13.6\"], \"x\": [13.6], \"y\": [\"POL\"], \"type\": \"scatter\"}, {\"mode\": \"markers\", \"name\": \"PRT\", \"text\": [\"7.4\"], \"x\": [7.4], \"y\": [\"PRT\"], \"type\": \"scatter\"}, {\"mode\": \"markers\", \"name\": \"SVK\", \"text\": [\"11.0\"], \"x\": [11.0], \"y\": [\"SVK\"], \"type\": \"scatter\"}, {\"mode\": \"markers\", \"name\": \"ESP\", \"text\": [\"5.5\"], \"x\": [5.5], \"y\": [\"ESP\"], \"type\": \"scatter\"}, {\"mode\": \"markers\", \"name\": \"SWE\", \"text\": [\"4.1\"], \"x\": [4.1], \"y\": [\"SWE\"], \"type\": \"scatter\"}, {\"mode\": \"markers\", \"name\": \"CHE\", \"text\": [\"5.1\"], \"x\": [5.1], \"y\": [\"CHE\"], \"type\": \"scatter\"}, {\"mode\": \"markers\", \"name\": \"TUR\", \"text\": [\"0\"], \"x\": [0], \"y\": [\"TUR\"], \"type\": \"scatter\"}, {\"mode\": \"markers\", \"name\": \"GBR\", \"text\": [\"6.2\"], \"x\": [6.2], \"y\": [\"GBR\"], \"type\": \"scatter\"}, {\"mode\": \"markers\", \"name\": \"USA\", \"text\": [\"7.6\"], \"x\": [7.6], \"y\": [\"USA\"], \"type\": \"scatter\"}, {\"mode\": \"markers\", \"name\": \"BRA\", \"text\": [\"39.7\"], \"x\": [39.7], \"y\": [\"BRA\"], \"type\": \"scatter\"}, {\"mode\": \"markers\", \"name\": \"CHL\", \"text\": [\"11.1\"], \"x\": [11.1], \"y\": [\"CHL\"], \"type\": \"scatter\"}, {\"mode\": \"markers\", \"name\": \"CHN\", \"text\": [\"37.7\"], \"x\": [37.7], \"y\": [\"CHN\"], \"type\": \"scatter\"}, {\"mode\": \"markers\", \"name\": \"EST\", \"text\": [\"14.9\"], \"x\": [14.9], \"y\": [\"EST\"], \"type\": \"scatter\"}, {\"mode\": \"markers\", \"name\": \"IND\", \"text\": [\"77.5\"], \"x\": [77.5], \"y\": [\"IND\"], \"type\": \"scatter\"}, {\"mode\": \"markers\", \"name\": \"IDN\", \"text\": [\"50.8\"], \"x\": [50.8], \"y\": [\"IDN\"], \"type\": \"scatter\"}, {\"mode\": \"markers\", \"name\": \"ISR\", \"text\": [\"6.8\"], \"x\": [6.8], \"y\": [\"ISR\"], \"type\": \"scatter\"}, {\"mode\": \"markers\", \"name\": \"RUS\", \"text\": [\"18.1\"], \"x\": [18.1], \"y\": [\"RUS\"], \"type\": \"scatter\"}, {\"mode\": \"markers\", \"name\": \"SVN\", \"text\": [\"5.5\"], \"x\": [5.5], \"y\": [\"SVN\"], \"type\": \"scatter\"}, {\"mode\": \"markers\", \"name\": \"ZAF\", \"text\": [\"48.2\"], \"x\": [48.2], \"y\": [\"ZAF\"], \"type\": \"scatter\"}, {\"mode\": \"markers\", \"name\": \"COL\", \"text\": [\"30.3\"], \"x\": [30.3], \"y\": [\"COL\"], \"type\": \"scatter\"}, {\"mode\": \"markers\", \"name\": \"LVA\", \"text\": [\"18.8\"], \"x\": [18.8], \"y\": [\"LVA\"], \"type\": \"scatter\"}, {\"mode\": \"markers\", \"name\": \"LTU\", \"text\": [\"12.5\"], \"x\": [12.5], \"y\": [\"LTU\"], \"type\": \"scatter\"}, {\"mode\": \"markers\", \"name\": \"CRI\", \"text\": [\"13.0\"], \"x\": [13.0], \"y\": [\"CRI\"], \"type\": \"scatter\"}], \"name\": \"1995\"}, {\"data\": [{\"mode\": \"markers\", \"name\": \"AUS\", \"text\": [\"5.8\"], \"x\": [5.8], \"y\": [\"AUS\"], \"type\": \"scatter\"}, {\"mode\": \"markers\", \"name\": \"AUT\", \"text\": [\"5.1\"], \"x\": [5.1], \"y\": [\"AUT\"], \"type\": \"scatter\"}, {\"mode\": \"markers\", \"name\": \"BEL\", \"text\": [\"5.0\"], \"x\": [5.0], \"y\": [\"BEL\"], \"type\": \"scatter\"}, {\"mode\": \"markers\", \"name\": \"CAN\", \"text\": [\"5.6\"], \"x\": [5.6], \"y\": [\"CAN\"], \"type\": \"scatter\"}, {\"mode\": \"markers\", \"name\": \"CZE\", \"text\": [\"6.0\"], \"x\": [6.0], \"y\": [\"CZE\"], \"type\": \"scatter\"}, {\"mode\": \"markers\", \"name\": \"DNK\", \"text\": [\"5.6\"], \"x\": [5.6], \"y\": [\"DNK\"], \"type\": \"scatter\"}, {\"mode\": \"markers\", \"name\": \"FIN\", \"text\": [\"4.0\"], \"x\": [4.0], \"y\": [\"FIN\"], \"type\": \"scatter\"}, {\"mode\": \"markers\", \"name\": \"FRA\", \"text\": [\"5.0\"], \"x\": [5.0], \"y\": [\"FRA\"], \"type\": \"scatter\"}, {\"mode\": \"markers\", \"name\": \"DEU\", \"text\": [\"5.0\"], \"x\": [5.0], \"y\": [\"DEU\"], \"type\": \"scatter\"}, {\"mode\": \"markers\", \"name\": \"GRC\", \"text\": [\"7.2\"], \"x\": [7.2], \"y\": [\"GRC\"], \"type\": \"scatter\"}, {\"mode\": \"markers\", \"name\": \"HUN\", \"text\": [\"10.9\"], \"x\": [10.9], \"y\": [\"HUN\"], \"type\": \"scatter\"}, {\"mode\": \"markers\", \"name\": \"ISL\", \"text\": [\"3.7\"], \"x\": [3.7], \"y\": [\"ISL\"], \"type\": \"scatter\"}, {\"mode\": \"markers\", \"name\": \"IRL\", \"text\": [\"6.0\"], \"x\": [6.0], \"y\": [\"IRL\"], \"type\": \"scatter\"}, {\"mode\": \"markers\", \"name\": \"ITA\", \"text\": [\"6.0\"], \"x\": [6.0], \"y\": [\"ITA\"], \"type\": \"scatter\"}, {\"mode\": \"markers\", \"name\": \"JPN\", \"text\": [\"3.8\"], \"x\": [3.8], \"y\": [\"JPN\"], \"type\": \"scatter\"}, {\"mode\": \"markers\", \"name\": \"KOR\", \"text\": [\"7.7\"], \"x\": [7.7], \"y\": [\"KOR\"], \"type\": \"scatter\"}, {\"mode\": \"markers\", \"name\": \"LUX\", \"text\": [\"4.9\"], \"x\": [4.9], \"y\": [\"LUX\"], \"type\": \"scatter\"}, {\"mode\": \"markers\", \"name\": \"MEX\", \"text\": [\"24.9\"], \"x\": [24.9], \"y\": [\"MEX\"], \"type\": \"scatter\"}, {\"mode\": \"markers\", \"name\": \"NLD\", \"text\": [\"5.7\"], \"x\": [5.7], \"y\": [\"NLD\"], \"type\": \"scatter\"}, {\"mode\": \"markers\", \"name\": \"NZL\", \"text\": [\"7.3\"], \"x\": [7.3], \"y\": [\"NZL\"], \"type\": \"scatter\"}, {\"mode\": \"markers\", \"name\": \"NOR\", \"text\": [\"4.0\"], \"x\": [4.0], \"y\": [\"NOR\"], \"type\": \"scatter\"}, {\"mode\": \"markers\", \"name\": \"POL\", \"text\": [\"12.2\"], \"x\": [12.2], \"y\": [\"POL\"], \"type\": \"scatter\"}, {\"mode\": \"markers\", \"name\": \"PRT\", \"text\": [\"6.8\"], \"x\": [6.8], \"y\": [\"PRT\"], \"type\": \"scatter\"}, {\"mode\": \"markers\", \"name\": \"SVK\", \"text\": [\"10.2\"], \"x\": [10.2], \"y\": [\"SVK\"], \"type\": \"scatter\"}, {\"mode\": \"markers\", \"name\": \"ESP\", \"text\": [\"5.5\"], \"x\": [5.5], \"y\": [\"ESP\"], \"type\": \"scatter\"}, {\"mode\": \"markers\", \"name\": \"SWE\", \"text\": [\"4.0\"], \"x\": [4.0], \"y\": [\"SWE\"], \"type\": \"scatter\"}, {\"mode\": \"markers\", \"name\": \"CHE\", \"text\": [\"4.7\"], \"x\": [4.7], \"y\": [\"CHE\"], \"type\": \"scatter\"}, {\"mode\": \"markers\", \"name\": \"TUR\", \"text\": [\"40.9\"], \"x\": [40.9], \"y\": [\"TUR\"], \"type\": \"scatter\"}, {\"mode\": \"markers\", \"name\": \"GBR\", \"text\": [\"6.1\"], \"x\": [6.1], \"y\": [\"GBR\"], \"type\": \"scatter\"}, {\"mode\": \"markers\", \"name\": \"USA\", \"text\": [\"7.3\"], \"x\": [7.3], \"y\": [\"USA\"], \"type\": \"scatter\"}, {\"mode\": \"markers\", \"name\": \"BRA\", \"text\": [\"37.2\"], \"x\": [37.2], \"y\": [\"BRA\"], \"type\": \"scatter\"}, {\"mode\": \"markers\", \"name\": \"CHL\", \"text\": [\"11.1\"], \"x\": [11.1], \"y\": [\"CHL\"], \"type\": \"scatter\"}, {\"mode\": \"markers\", \"name\": \"CHN\", \"text\": [\"36.4\"], \"x\": [36.4], \"y\": [\"CHN\"], \"type\": \"scatter\"}, {\"mode\": \"markers\", \"name\": \"EST\", \"text\": [\"10.5\"], \"x\": [10.5], \"y\": [\"EST\"], \"type\": \"scatter\"}, {\"mode\": \"markers\", \"name\": \"IND\", \"text\": [\"75.4\"], \"x\": [75.4], \"y\": [\"IND\"], \"type\": \"scatter\"}, {\"mode\": \"markers\", \"name\": \"IDN\", \"text\": [\"48.7\"], \"x\": [48.7], \"y\": [\"IDN\"], \"type\": \"scatter\"}, {\"mode\": \"markers\", \"name\": \"ISR\", \"text\": [\"6.3\"], \"x\": [6.3], \"y\": [\"ISR\"], \"type\": \"scatter\"}, {\"mode\": \"markers\", \"name\": \"RUS\", \"text\": [\"17.4\"], \"x\": [17.4], \"y\": [\"RUS\"], \"type\": \"scatter\"}, {\"mode\": \"markers\", \"name\": \"SVN\", \"text\": [\"4.7\"], \"x\": [4.7], \"y\": [\"SVN\"], \"type\": \"scatter\"}, {\"mode\": \"markers\", \"name\": \"ZAF\", \"text\": [\"49.4\"], \"x\": [49.4], \"y\": [\"ZAF\"], \"type\": \"scatter\"}, {\"mode\": \"markers\", \"name\": \"COL\", \"text\": [\"29.1\"], \"x\": [29.1], \"y\": [\"COL\"], \"type\": \"scatter\"}, {\"mode\": \"markers\", \"name\": \"LVA\", \"text\": [\"15.9\"], \"x\": [15.9], \"y\": [\"LVA\"], \"type\": \"scatter\"}, {\"mode\": \"markers\", \"name\": \"LTU\", \"text\": [\"10.1\"], \"x\": [10.1], \"y\": [\"LTU\"], \"type\": \"scatter\"}, {\"mode\": \"markers\", \"name\": \"CRI\", \"text\": [\"12.8\"], \"x\": [12.8], \"y\": [\"CRI\"], \"type\": \"scatter\"}], \"name\": \"1996\"}, {\"data\": [{\"mode\": \"markers\", \"name\": \"AUS\", \"text\": [\"5.3\"], \"x\": [5.3], \"y\": [\"AUS\"], \"type\": \"scatter\"}, {\"mode\": \"markers\", \"name\": \"AUT\", \"text\": [\"4.7\"], \"x\": [4.7], \"y\": [\"AUT\"], \"type\": \"scatter\"}, {\"mode\": \"markers\", \"name\": \"BEL\", \"text\": [\"5.4\"], \"x\": [5.4], \"y\": [\"BEL\"], \"type\": \"scatter\"}, {\"mode\": \"markers\", \"name\": \"CAN\", \"text\": [\"5.5\"], \"x\": [5.5], \"y\": [\"CAN\"], \"type\": \"scatter\"}, {\"mode\": \"markers\", \"name\": \"CZE\", \"text\": [\"5.9\"], \"x\": [5.9], \"y\": [\"CZE\"], \"type\": \"scatter\"}, {\"mode\": \"markers\", \"name\": \"DNK\", \"text\": [\"5.2\"], \"x\": [5.2], \"y\": [\"DNK\"], \"type\": \"scatter\"}, {\"mode\": \"markers\", \"name\": \"FIN\", \"text\": [\"3.9\"], \"x\": [3.9], \"y\": [\"FIN\"], \"type\": \"scatter\"}, {\"mode\": \"markers\", \"name\": \"FRA\", \"text\": [\"4.9\"], \"x\": [4.9], \"y\": [\"FRA\"], \"type\": \"scatter\"}, {\"mode\": \"markers\", \"name\": \"DEU\", \"text\": [\"4.9\"], \"x\": [4.9], \"y\": [\"DEU\"], \"type\": \"scatter\"}, {\"mode\": \"markers\", \"name\": \"GRC\", \"text\": [\"6.4\"], \"x\": [6.4], \"y\": [\"GRC\"], \"type\": \"scatter\"}, {\"mode\": \"markers\", \"name\": \"HUN\", \"text\": [\"9.9\"], \"x\": [9.9], \"y\": [\"HUN\"], \"type\": \"scatter\"}, {\"mode\": \"markers\", \"name\": \"ISL\", \"text\": [\"5.5\"], \"x\": [5.5], \"y\": [\"ISL\"], \"type\": \"scatter\"}, {\"mode\": \"markers\", \"name\": \"IRL\", \"text\": [\"6.1\"], \"x\": [6.1], \"y\": [\"IRL\"], \"type\": \"scatter\"}, {\"mode\": \"markers\", \"name\": \"ITA\", \"text\": [\"5.5\"], \"x\": [5.5], \"y\": [\"ITA\"], \"type\": \"scatter\"}, {\"mode\": \"markers\", \"name\": \"JPN\", \"text\": [\"3.7\"], \"x\": [3.7], \"y\": [\"JPN\"], \"type\": \"scatter\"}, {\"mode\": \"markers\", \"name\": \"KOR\", \"text\": [\"0\"], \"x\": [0], \"y\": [\"KOR\"], \"type\": \"scatter\"}, {\"mode\": \"markers\", \"name\": \"LUX\", \"text\": [\"4.2\"], \"x\": [4.2], \"y\": [\"LUX\"], \"type\": \"scatter\"}, {\"mode\": \"markers\", \"name\": \"MEX\", \"text\": [\"23.8\"], \"x\": [23.8], \"y\": [\"MEX\"], \"type\": \"scatter\"}, {\"mode\": \"markers\", \"name\": \"NLD\", \"text\": [\"5.0\"], \"x\": [5.0], \"y\": [\"NLD\"], \"type\": \"scatter\"}, {\"mode\": \"markers\", \"name\": \"NZL\", \"text\": [\"6.8\"], \"x\": [6.8], \"y\": [\"NZL\"], \"type\": \"scatter\"}, {\"mode\": \"markers\", \"name\": \"NOR\", \"text\": [\"4.1\"], \"x\": [4.1], \"y\": [\"NOR\"], \"type\": \"scatter\"}, {\"mode\": \"markers\", \"name\": \"POL\", \"text\": [\"10.2\"], \"x\": [10.2], \"y\": [\"POL\"], \"type\": \"scatter\"}, {\"mode\": \"markers\", \"name\": \"PRT\", \"text\": [\"6.4\"], \"x\": [6.4], \"y\": [\"PRT\"], \"type\": \"scatter\"}, {\"mode\": \"markers\", \"name\": \"SVK\", \"text\": [\"8.7\"], \"x\": [8.7], \"y\": [\"SVK\"], \"type\": \"scatter\"}, {\"mode\": \"markers\", \"name\": \"ESP\", \"text\": [\"5.0\"], \"x\": [5.0], \"y\": [\"ESP\"], \"type\": \"scatter\"}, {\"mode\": \"markers\", \"name\": \"SWE\", \"text\": [\"3.6\"], \"x\": [3.6], \"y\": [\"SWE\"], \"type\": \"scatter\"}, {\"mode\": \"markers\", \"name\": \"CHE\", \"text\": [\"4.8\"], \"x\": [4.8], \"y\": [\"CHE\"], \"type\": \"scatter\"}, {\"mode\": \"markers\", \"name\": \"TUR\", \"text\": [\"38.8\"], \"x\": [38.8], \"y\": [\"TUR\"], \"type\": \"scatter\"}, {\"mode\": \"markers\", \"name\": \"GBR\", \"text\": [\"5.8\"], \"x\": [5.8], \"y\": [\"GBR\"], \"type\": \"scatter\"}, {\"mode\": \"markers\", \"name\": \"USA\", \"text\": [\"7.2\"], \"x\": [7.2], \"y\": [\"USA\"], \"type\": \"scatter\"}, {\"mode\": \"markers\", \"name\": \"BRA\", \"text\": [\"34.8\"], \"x\": [34.8], \"y\": [\"BRA\"], \"type\": \"scatter\"}, {\"mode\": \"markers\", \"name\": \"CHL\", \"text\": [\"10.0\"], \"x\": [10.0], \"y\": [\"CHL\"], \"type\": \"scatter\"}, {\"mode\": \"markers\", \"name\": \"CHN\", \"text\": [\"35.0\"], \"x\": [35.0], \"y\": [\"CHN\"], \"type\": \"scatter\"}, {\"mode\": \"markers\", \"name\": \"EST\", \"text\": [\"10.0\"], \"x\": [10.0], \"y\": [\"EST\"], \"type\": \"scatter\"}, {\"mode\": \"markers\", \"name\": \"IND\", \"text\": [\"73.1\"], \"x\": [73.1], \"y\": [\"IND\"], \"type\": \"scatter\"}, {\"mode\": \"markers\", \"name\": \"IDN\", \"text\": [\"46.7\"], \"x\": [46.7], \"y\": [\"IDN\"], \"type\": \"scatter\"}, {\"mode\": \"markers\", \"name\": \"ISR\", \"text\": [\"6.4\"], \"x\": [6.4], \"y\": [\"ISR\"], \"type\": \"scatter\"}, {\"mode\": \"markers\", \"name\": \"RUS\", \"text\": [\"17.2\"], \"x\": [17.2], \"y\": [\"RUS\"], \"type\": \"scatter\"}, {\"mode\": \"markers\", \"name\": \"SVN\", \"text\": [\"5.2\"], \"x\": [5.2], \"y\": [\"SVN\"], \"type\": \"scatter\"}, {\"mode\": \"markers\", \"name\": \"ZAF\", \"text\": [\"50.9\"], \"x\": [50.9], \"y\": [\"ZAF\"], \"type\": \"scatter\"}, {\"mode\": \"markers\", \"name\": \"COL\", \"text\": [\"28.1\"], \"x\": [28.1], \"y\": [\"COL\"], \"type\": \"scatter\"}, {\"mode\": \"markers\", \"name\": \"LVA\", \"text\": [\"15.3\"], \"x\": [15.3], \"y\": [\"LVA\"], \"type\": \"scatter\"}, {\"mode\": \"markers\", \"name\": \"LTU\", \"text\": [\"10.3\"], \"x\": [10.3], \"y\": [\"LTU\"], \"type\": \"scatter\"}, {\"mode\": \"markers\", \"name\": \"CRI\", \"text\": [\"12.7\"], \"x\": [12.7], \"y\": [\"CRI\"], \"type\": \"scatter\"}], \"name\": \"1997\"}, {\"data\": [{\"mode\": \"markers\", \"name\": \"AUS\", \"text\": [\"5.0\"], \"x\": [5.0], \"y\": [\"AUS\"], \"type\": \"scatter\"}, {\"mode\": \"markers\", \"name\": \"AUT\", \"text\": [\"4.9\"], \"x\": [4.9], \"y\": [\"AUT\"], \"type\": \"scatter\"}, {\"mode\": \"markers\", \"name\": \"BEL\", \"text\": [\"5.2\"], \"x\": [5.2], \"y\": [\"BEL\"], \"type\": \"scatter\"}, {\"mode\": \"markers\", \"name\": \"CAN\", \"text\": [\"5.3\"], \"x\": [5.3], \"y\": [\"CAN\"], \"type\": \"scatter\"}, {\"mode\": \"markers\", \"name\": \"CZE\", \"text\": [\"5.2\"], \"x\": [5.2], \"y\": [\"CZE\"], \"type\": \"scatter\"}, {\"mode\": \"markers\", \"name\": \"DNK\", \"text\": [\"4.7\"], \"x\": [4.7], \"y\": [\"DNK\"], \"type\": \"scatter\"}, {\"mode\": \"markers\", \"name\": \"FIN\", \"text\": [\"4.2\"], \"x\": [4.2], \"y\": [\"FIN\"], \"type\": \"scatter\"}, {\"mode\": \"markers\", \"name\": \"FRA\", \"text\": [\"4.8\"], \"x\": [4.8], \"y\": [\"FRA\"], \"type\": \"scatter\"}, {\"mode\": \"markers\", \"name\": \"DEU\", \"text\": [\"4.7\"], \"x\": [4.7], \"y\": [\"DEU\"], \"type\": \"scatter\"}, {\"mode\": \"markers\", \"name\": \"GRC\", \"text\": [\"6.7\"], \"x\": [6.7], \"y\": [\"GRC\"], \"type\": \"scatter\"}, {\"mode\": \"markers\", \"name\": \"HUN\", \"text\": [\"9.7\"], \"x\": [9.7], \"y\": [\"HUN\"], \"type\": \"scatter\"}, {\"mode\": \"markers\", \"name\": \"ISL\", \"text\": [\"2.6\"], \"x\": [2.6], \"y\": [\"ISL\"], \"type\": \"scatter\"}, {\"mode\": \"markers\", \"name\": \"IRL\", \"text\": [\"5.9\"], \"x\": [5.9], \"y\": [\"IRL\"], \"type\": \"scatter\"}, {\"mode\": \"markers\", \"name\": \"ITA\", \"text\": [\"5.1\"], \"x\": [5.1], \"y\": [\"ITA\"], \"type\": \"scatter\"}, {\"mode\": \"markers\", \"name\": \"JPN\", \"text\": [\"3.6\"], \"x\": [3.6], \"y\": [\"JPN\"], \"type\": \"scatter\"}, {\"mode\": \"markers\", \"name\": \"KOR\", \"text\": [\"0\"], \"x\": [0], \"y\": [\"KOR\"], \"type\": \"scatter\"}, {\"mode\": \"markers\", \"name\": \"LUX\", \"text\": [\"5.0\"], \"x\": [5.0], \"y\": [\"LUX\"], \"type\": \"scatter\"}, {\"mode\": \"markers\", \"name\": \"MEX\", \"text\": [\"22.8\"], \"x\": [22.8], \"y\": [\"MEX\"], \"type\": \"scatter\"}, {\"mode\": \"markers\", \"name\": \"NLD\", \"text\": [\"5.2\"], \"x\": [5.2], \"y\": [\"NLD\"], \"type\": \"scatter\"}, {\"mode\": \"markers\", \"name\": \"NZL\", \"text\": [\"5.4\"], \"x\": [5.4], \"y\": [\"NZL\"], \"type\": \"scatter\"}, {\"mode\": \"markers\", \"name\": \"NOR\", \"text\": [\"4.0\"], \"x\": [4.0], \"y\": [\"NOR\"], \"type\": \"scatter\"}, {\"mode\": \"markers\", \"name\": \"POL\", \"text\": [\"9.5\"], \"x\": [9.5], \"y\": [\"POL\"], \"type\": \"scatter\"}, {\"mode\": \"markers\", \"name\": \"PRT\", \"text\": [\"6.0\"], \"x\": [6.0], \"y\": [\"PRT\"], \"type\": \"scatter\"}, {\"mode\": \"markers\", \"name\": \"SVK\", \"text\": [\"8.8\"], \"x\": [8.8], \"y\": [\"SVK\"], \"type\": \"scatter\"}, {\"mode\": \"markers\", \"name\": \"ESP\", \"text\": [\"4.9\"], \"x\": [4.9], \"y\": [\"ESP\"], \"type\": \"scatter\"}, {\"mode\": \"markers\", \"name\": \"SWE\", \"text\": [\"3.5\"], \"x\": [3.5], \"y\": [\"SWE\"], \"type\": \"scatter\"}, {\"mode\": \"markers\", \"name\": \"CHE\", \"text\": [\"4.8\"], \"x\": [4.8], \"y\": [\"CHE\"], \"type\": \"scatter\"}, {\"mode\": \"markers\", \"name\": \"TUR\", \"text\": [\"36.5\"], \"x\": [36.5], \"y\": [\"TUR\"], \"type\": \"scatter\"}, {\"mode\": \"markers\", \"name\": \"GBR\", \"text\": [\"5.7\"], \"x\": [5.7], \"y\": [\"GBR\"], \"type\": \"scatter\"}, {\"mode\": \"markers\", \"name\": \"USA\", \"text\": [\"7.2\"], \"x\": [7.2], \"y\": [\"USA\"], \"type\": \"scatter\"}, {\"mode\": \"markers\", \"name\": \"BRA\", \"text\": [\"32.4\"], \"x\": [32.4], \"y\": [\"BRA\"], \"type\": \"scatter\"}, {\"mode\": \"markers\", \"name\": \"CHL\", \"text\": [\"10.3\"], \"x\": [10.3], \"y\": [\"CHL\"], \"type\": \"scatter\"}, {\"mode\": \"markers\", \"name\": \"CHN\", \"text\": [\"33.5\"], \"x\": [33.5], \"y\": [\"CHN\"], \"type\": \"scatter\"}, {\"mode\": \"markers\", \"name\": \"EST\", \"text\": [\"9.4\"], \"x\": [9.4], \"y\": [\"EST\"], \"type\": \"scatter\"}, {\"mode\": \"markers\", \"name\": \"IND\", \"text\": [\"70.9\"], \"x\": [70.9], \"y\": [\"IND\"], \"type\": \"scatter\"}, {\"mode\": \"markers\", \"name\": \"IDN\", \"text\": [\"44.7\"], \"x\": [44.7], \"y\": [\"IDN\"], \"type\": \"scatter\"}, {\"mode\": \"markers\", \"name\": \"ISR\", \"text\": [\"5.9\"], \"x\": [5.9], \"y\": [\"ISR\"], \"type\": \"scatter\"}, {\"mode\": \"markers\", \"name\": \"RUS\", \"text\": [\"16.5\"], \"x\": [16.5], \"y\": [\"RUS\"], \"type\": \"scatter\"}, {\"mode\": \"markers\", \"name\": \"SVN\", \"text\": [\"5.2\"], \"x\": [5.2], \"y\": [\"SVN\"], \"type\": \"scatter\"}, {\"mode\": \"markers\", \"name\": \"ZAF\", \"text\": [\"52.2\"], \"x\": [52.2], \"y\": [\"ZAF\"], \"type\": \"scatter\"}, {\"mode\": \"markers\", \"name\": \"COL\", \"text\": [\"27.0\"], \"x\": [27.0], \"y\": [\"COL\"], \"type\": \"scatter\"}, {\"mode\": \"markers\", \"name\": \"LVA\", \"text\": [\"15.0\"], \"x\": [15.0], \"y\": [\"LVA\"], \"type\": \"scatter\"}, {\"mode\": \"markers\", \"name\": \"LTU\", \"text\": [\"9.3\"], \"x\": [9.3], \"y\": [\"LTU\"], \"type\": \"scatter\"}, {\"mode\": \"markers\", \"name\": \"CRI\", \"text\": [\"12.3\"], \"x\": [12.3], \"y\": [\"CRI\"], \"type\": \"scatter\"}], \"name\": \"1998\"}, {\"data\": [{\"mode\": \"markers\", \"name\": \"AUS\", \"text\": [\"5.7\"], \"x\": [5.7], \"y\": [\"AUS\"], \"type\": \"scatter\"}, {\"mode\": \"markers\", \"name\": \"AUT\", \"text\": [\"4.4\"], \"x\": [4.4], \"y\": [\"AUT\"], \"type\": \"scatter\"}, {\"mode\": \"markers\", \"name\": \"BEL\", \"text\": [\"4.9\"], \"x\": [4.9], \"y\": [\"BEL\"], \"type\": \"scatter\"}, {\"mode\": \"markers\", \"name\": \"CAN\", \"text\": [\"5.3\"], \"x\": [5.3], \"y\": [\"CAN\"], \"type\": \"scatter\"}, {\"mode\": \"markers\", \"name\": \"CZE\", \"text\": [\"4.6\"], \"x\": [4.6], \"y\": [\"CZE\"], \"type\": \"scatter\"}, {\"mode\": \"markers\", \"name\": \"DNK\", \"text\": [\"4.2\"], \"x\": [4.2], \"y\": [\"DNK\"], \"type\": \"scatter\"}, {\"mode\": \"markers\", \"name\": \"FIN\", \"text\": [\"3.6\"], \"x\": [3.6], \"y\": [\"FIN\"], \"type\": \"scatter\"}, {\"mode\": \"markers\", \"name\": \"FRA\", \"text\": [\"4.4\"], \"x\": [4.4], \"y\": [\"FRA\"], \"type\": \"scatter\"}, {\"mode\": \"markers\", \"name\": \"DEU\", \"text\": [\"4.5\"], \"x\": [4.5], \"y\": [\"DEU\"], \"type\": \"scatter\"}, {\"mode\": \"markers\", \"name\": \"GRC\", \"text\": [\"6.2\"], \"x\": [6.2], \"y\": [\"GRC\"], \"type\": \"scatter\"}, {\"mode\": \"markers\", \"name\": \"HUN\", \"text\": [\"8.4\"], \"x\": [8.4], \"y\": [\"HUN\"], \"type\": \"scatter\"}, {\"mode\": \"markers\", \"name\": \"ISL\", \"text\": [\"2.4\"], \"x\": [2.4], \"y\": [\"ISL\"], \"type\": \"scatter\"}, {\"mode\": \"markers\", \"name\": \"IRL\", \"text\": [\"5.9\"], \"x\": [5.9], \"y\": [\"IRL\"], \"type\": \"scatter\"}, {\"mode\": \"markers\", \"name\": \"ITA\", \"text\": [\"4.9\"], \"x\": [4.9], \"y\": [\"ITA\"], \"type\": \"scatter\"}, {\"mode\": \"markers\", \"name\": \"JPN\", \"text\": [\"3.4\"], \"x\": [3.4], \"y\": [\"JPN\"], \"type\": \"scatter\"}, {\"mode\": \"markers\", \"name\": \"KOR\", \"text\": [\"6.2\"], \"x\": [6.2], \"y\": [\"KOR\"], \"type\": \"scatter\"}, {\"mode\": \"markers\", \"name\": \"LUX\", \"text\": [\"4.7\"], \"x\": [4.7], \"y\": [\"LUX\"], \"type\": \"scatter\"}, {\"mode\": \"markers\", \"name\": \"MEX\", \"text\": [\"21.8\"], \"x\": [21.8], \"y\": [\"MEX\"], \"type\": \"scatter\"}, {\"mode\": \"markers\", \"name\": \"NLD\", \"text\": [\"5.2\"], \"x\": [5.2], \"y\": [\"NLD\"], \"type\": \"scatter\"}, {\"mode\": \"markers\", \"name\": \"NZL\", \"text\": [\"5.8\"], \"x\": [5.8], \"y\": [\"NZL\"], \"type\": \"scatter\"}, {\"mode\": \"markers\", \"name\": \"NOR\", \"text\": [\"3.9\"], \"x\": [3.9], \"y\": [\"NOR\"], \"type\": \"scatter\"}, {\"mode\": \"markers\", \"name\": \"POL\", \"text\": [\"8.9\"], \"x\": [8.9], \"y\": [\"POL\"], \"type\": \"scatter\"}, {\"mode\": \"markers\", \"name\": \"PRT\", \"text\": [\"5.6\"], \"x\": [5.6], \"y\": [\"PRT\"], \"type\": \"scatter\"}, {\"mode\": \"markers\", \"name\": \"SVK\", \"text\": [\"8.3\"], \"x\": [8.3], \"y\": [\"SVK\"], \"type\": \"scatter\"}, {\"mode\": \"markers\", \"name\": \"ESP\", \"text\": [\"4.5\"], \"x\": [4.5], \"y\": [\"ESP\"], \"type\": \"scatter\"}, {\"mode\": \"markers\", \"name\": \"SWE\", \"text\": [\"3.4\"], \"x\": [3.4], \"y\": [\"SWE\"], \"type\": \"scatter\"}, {\"mode\": \"markers\", \"name\": \"CHE\", \"text\": [\"4.6\"], \"x\": [4.6], \"y\": [\"CHE\"], \"type\": \"scatter\"}, {\"mode\": \"markers\", \"name\": \"TUR\", \"text\": [\"33.9\"], \"x\": [33.9], \"y\": [\"TUR\"], \"type\": \"scatter\"}, {\"mode\": \"markers\", \"name\": \"GBR\", \"text\": [\"5.8\"], \"x\": [5.8], \"y\": [\"GBR\"], \"type\": \"scatter\"}, {\"mode\": \"markers\", \"name\": \"USA\", \"text\": [\"7.1\"], \"x\": [7.1], \"y\": [\"USA\"], \"type\": \"scatter\"}, {\"mode\": \"markers\", \"name\": \"BRA\", \"text\": [\"30.2\"], \"x\": [30.2], \"y\": [\"BRA\"], \"type\": \"scatter\"}, {\"mode\": \"markers\", \"name\": \"CHL\", \"text\": [\"10.1\"], \"x\": [10.1], \"y\": [\"CHL\"], \"type\": \"scatter\"}, {\"mode\": \"markers\", \"name\": \"CHN\", \"text\": [\"31.9\"], \"x\": [31.9], \"y\": [\"CHN\"], \"type\": \"scatter\"}, {\"mode\": \"markers\", \"name\": \"EST\", \"text\": [\"9.6\"], \"x\": [9.6], \"y\": [\"EST\"], \"type\": \"scatter\"}, {\"mode\": \"markers\", \"name\": \"IND\", \"text\": [\"68.6\"], \"x\": [68.6], \"y\": [\"IND\"], \"type\": \"scatter\"}, {\"mode\": \"markers\", \"name\": \"IDN\", \"text\": [\"42.9\"], \"x\": [42.9], \"y\": [\"IDN\"], \"type\": \"scatter\"}, {\"mode\": \"markers\", \"name\": \"ISR\", \"text\": [\"5.8\"], \"x\": [5.8], \"y\": [\"ISR\"], \"type\": \"scatter\"}, {\"mode\": \"markers\", \"name\": \"RUS\", \"text\": [\"16.9\"], \"x\": [16.9], \"y\": [\"RUS\"], \"type\": \"scatter\"}, {\"mode\": \"markers\", \"name\": \"SVN\", \"text\": [\"4.5\"], \"x\": [4.5], \"y\": [\"SVN\"], \"type\": \"scatter\"}, {\"mode\": \"markers\", \"name\": \"ZAF\", \"text\": [\"53.2\"], \"x\": [53.2], \"y\": [\"ZAF\"], \"type\": \"scatter\"}, {\"mode\": \"markers\", \"name\": \"COL\", \"text\": [\"26.0\"], \"x\": [26.0], \"y\": [\"COL\"], \"type\": \"scatter\"}, {\"mode\": \"markers\", \"name\": \"LVA\", \"text\": [\"11.3\"], \"x\": [11.3], \"y\": [\"LVA\"], \"type\": \"scatter\"}, {\"mode\": \"markers\", \"name\": \"LTU\", \"text\": [\"8.7\"], \"x\": [8.7], \"y\": [\"LTU\"], \"type\": \"scatter\"}, {\"mode\": \"markers\", \"name\": \"CRI\", \"text\": [\"11.8\"], \"x\": [11.8], \"y\": [\"CRI\"], \"type\": \"scatter\"}], \"name\": \"1999\"}, {\"data\": [{\"mode\": \"markers\", \"name\": \"AUS\", \"text\": [\"5.2\"], \"x\": [5.2], \"y\": [\"AUS\"], \"type\": \"scatter\"}, {\"mode\": \"markers\", \"name\": \"AUT\", \"text\": [\"4.8\"], \"x\": [4.8], \"y\": [\"AUT\"], \"type\": \"scatter\"}, {\"mode\": \"markers\", \"name\": \"BEL\", \"text\": [\"4.8\"], \"x\": [4.8], \"y\": [\"BEL\"], \"type\": \"scatter\"}, {\"mode\": \"markers\", \"name\": \"CAN\", \"text\": [\"5.3\"], \"x\": [5.3], \"y\": [\"CAN\"], \"type\": \"scatter\"}, {\"mode\": \"markers\", \"name\": \"CZE\", \"text\": [\"4.1\"], \"x\": [4.1], \"y\": [\"CZE\"], \"type\": \"scatter\"}, {\"mode\": \"markers\", \"name\": \"DNK\", \"text\": [\"5.3\"], \"x\": [5.3], \"y\": [\"DNK\"], \"type\": \"scatter\"}, {\"mode\": \"markers\", \"name\": \"FIN\", \"text\": [\"3.8\"], \"x\": [3.8], \"y\": [\"FIN\"], \"type\": \"scatter\"}, {\"mode\": \"markers\", \"name\": \"FRA\", \"text\": [\"4.5\"], \"x\": [4.5], \"y\": [\"FRA\"], \"type\": \"scatter\"}, {\"mode\": \"markers\", \"name\": \"DEU\", \"text\": [\"4.4\"], \"x\": [4.4], \"y\": [\"DEU\"], \"type\": \"scatter\"}, {\"mode\": \"markers\", \"name\": \"GRC\", \"text\": [\"5.9\"], \"x\": [5.9], \"y\": [\"GRC\"], \"type\": \"scatter\"}, {\"mode\": \"markers\", \"name\": \"HUN\", \"text\": [\"9.2\"], \"x\": [9.2], \"y\": [\"HUN\"], \"type\": \"scatter\"}, {\"mode\": \"markers\", \"name\": \"ISL\", \"text\": [\"3.0\"], \"x\": [3.0], \"y\": [\"ISL\"], \"type\": \"scatter\"}, {\"mode\": \"markers\", \"name\": \"IRL\", \"text\": [\"6.2\"], \"x\": [6.2], \"y\": [\"IRL\"], \"type\": \"scatter\"}, {\"mode\": \"markers\", \"name\": \"ITA\", \"text\": [\"4.3\"], \"x\": [4.3], \"y\": [\"ITA\"], \"type\": \"scatter\"}, {\"mode\": \"markers\", \"name\": \"JPN\", \"text\": [\"3.2\"], \"x\": [3.2], \"y\": [\"JPN\"], \"type\": \"scatter\"}, {\"mode\": \"markers\", \"name\": \"KOR\", \"text\": [\"0\"], \"x\": [0], \"y\": [\"KOR\"], \"type\": \"scatter\"}, {\"mode\": \"markers\", \"name\": \"LUX\", \"text\": [\"5.1\"], \"x\": [5.1], \"y\": [\"LUX\"], \"type\": \"scatter\"}, {\"mode\": \"markers\", \"name\": \"MEX\", \"text\": [\"20.8\"], \"x\": [20.8], \"y\": [\"MEX\"], \"type\": \"scatter\"}, {\"mode\": \"markers\", \"name\": \"NLD\", \"text\": [\"5.1\"], \"x\": [5.1], \"y\": [\"NLD\"], \"type\": \"scatter\"}, {\"mode\": \"markers\", \"name\": \"NZL\", \"text\": [\"6.3\"], \"x\": [6.3], \"y\": [\"NZL\"], \"type\": \"scatter\"}, {\"mode\": \"markers\", \"name\": \"NOR\", \"text\": [\"3.8\"], \"x\": [3.8], \"y\": [\"NOR\"], \"type\": \"scatter\"}, {\"mode\": \"markers\", \"name\": \"POL\", \"text\": [\"8.1\"], \"x\": [8.1], \"y\": [\"POL\"], \"type\": \"scatter\"}, {\"mode\": \"markers\", \"name\": \"PRT\", \"text\": [\"5.5\"], \"x\": [5.5], \"y\": [\"PRT\"], \"type\": \"scatter\"}, {\"mode\": \"markers\", \"name\": \"SVK\", \"text\": [\"8.6\"], \"x\": [8.6], \"y\": [\"SVK\"], \"type\": \"scatter\"}, {\"mode\": \"markers\", \"name\": \"ESP\", \"text\": [\"4.4\"], \"x\": [4.4], \"y\": [\"ESP\"], \"type\": \"scatter\"}, {\"mode\": \"markers\", \"name\": \"SWE\", \"text\": [\"3.4\"], \"x\": [3.4], \"y\": [\"SWE\"], \"type\": \"scatter\"}, {\"mode\": \"markers\", \"name\": \"CHE\", \"text\": [\"4.9\"], \"x\": [4.9], \"y\": [\"CHE\"], \"type\": \"scatter\"}, {\"mode\": \"markers\", \"name\": \"TUR\", \"text\": [\"28.4\"], \"x\": [28.4], \"y\": [\"TUR\"], \"type\": \"scatter\"}, {\"mode\": \"markers\", \"name\": \"GBR\", \"text\": [\"5.6\"], \"x\": [5.6], \"y\": [\"GBR\"], \"type\": \"scatter\"}, {\"mode\": \"markers\", \"name\": \"USA\", \"text\": [\"6.9\"], \"x\": [6.9], \"y\": [\"USA\"], \"type\": \"scatter\"}, {\"mode\": \"markers\", \"name\": \"BRA\", \"text\": [\"28.1\"], \"x\": [28.1], \"y\": [\"BRA\"], \"type\": \"scatter\"}, {\"mode\": \"markers\", \"name\": \"CHL\", \"text\": [\"8.9\"], \"x\": [8.9], \"y\": [\"CHL\"], \"type\": \"scatter\"}, {\"mode\": \"markers\", \"name\": \"CHN\", \"text\": [\"30.2\"], \"x\": [30.2], \"y\": [\"CHN\"], \"type\": \"scatter\"}, {\"mode\": \"markers\", \"name\": \"EST\", \"text\": [\"8.4\"], \"x\": [8.4], \"y\": [\"EST\"], \"type\": \"scatter\"}, {\"mode\": \"markers\", \"name\": \"IND\", \"text\": [\"66.4\"], \"x\": [66.4], \"y\": [\"IND\"], \"type\": \"scatter\"}, {\"mode\": \"markers\", \"name\": \"IDN\", \"text\": [\"41.1\"], \"x\": [41.1], \"y\": [\"IDN\"], \"type\": \"scatter\"}, {\"mode\": \"markers\", \"name\": \"ISR\", \"text\": [\"5.5\"], \"x\": [5.5], \"y\": [\"ISR\"], \"type\": \"scatter\"}, {\"mode\": \"markers\", \"name\": \"RUS\", \"text\": [\"15.3\"], \"x\": [15.3], \"y\": [\"RUS\"], \"type\": \"scatter\"}, {\"mode\": \"markers\", \"name\": \"SVN\", \"text\": [\"4.9\"], \"x\": [4.9], \"y\": [\"SVN\"], \"type\": \"scatter\"}, {\"mode\": \"markers\", \"name\": \"ZAF\", \"text\": [\"54.0\"], \"x\": [54.0], \"y\": [\"ZAF\"], \"type\": \"scatter\"}, {\"mode\": \"markers\", \"name\": \"COL\", \"text\": [\"25.0\"], \"x\": [25.0], \"y\": [\"COL\"], \"type\": \"scatter\"}, {\"mode\": \"markers\", \"name\": \"LVA\", \"text\": [\"10.3\"], \"x\": [10.3], \"y\": [\"LVA\"], \"type\": \"scatter\"}, {\"mode\": \"markers\", \"name\": \"LTU\", \"text\": [\"8.6\"], \"x\": [8.6], \"y\": [\"LTU\"], \"type\": \"scatter\"}, {\"mode\": \"markers\", \"name\": \"CRI\", \"text\": [\"11.2\"], \"x\": [11.2], \"y\": [\"CRI\"], \"type\": \"scatter\"}], \"name\": \"2000\"}, {\"data\": [{\"mode\": \"markers\", \"name\": \"AUS\", \"text\": [\"5.3\"], \"x\": [5.3], \"y\": [\"AUS\"], \"type\": \"scatter\"}, {\"mode\": \"markers\", \"name\": \"AUT\", \"text\": [\"4.8\"], \"x\": [4.8], \"y\": [\"AUT\"], \"type\": \"scatter\"}, {\"mode\": \"markers\", \"name\": \"BEL\", \"text\": [\"4.5\"], \"x\": [4.5], \"y\": [\"BEL\"], \"type\": \"scatter\"}, {\"mode\": \"markers\", \"name\": \"CAN\", \"text\": [\"5.2\"], \"x\": [5.2], \"y\": [\"CAN\"], \"type\": \"scatter\"}, {\"mode\": \"markers\", \"name\": \"CZE\", \"text\": [\"4.0\"], \"x\": [4.0], \"y\": [\"CZE\"], \"type\": \"scatter\"}, {\"mode\": \"markers\", \"name\": \"DNK\", \"text\": [\"4.9\"], \"x\": [4.9], \"y\": [\"DNK\"], \"type\": \"scatter\"}, {\"mode\": \"markers\", \"name\": \"FIN\", \"text\": [\"3.2\"], \"x\": [3.2], \"y\": [\"FIN\"], \"type\": \"scatter\"}, {\"mode\": \"markers\", \"name\": \"FRA\", \"text\": [\"4.6\"], \"x\": [4.6], \"y\": [\"FRA\"], \"type\": \"scatter\"}, {\"mode\": \"markers\", \"name\": \"DEU\", \"text\": [\"4.3\"], \"x\": [4.3], \"y\": [\"DEU\"], \"type\": \"scatter\"}, {\"mode\": \"markers\", \"name\": \"GRC\", \"text\": [\"5.1\"], \"x\": [5.1], \"y\": [\"GRC\"], \"type\": \"scatter\"}, {\"mode\": \"markers\", \"name\": \"HUN\", \"text\": [\"8.1\"], \"x\": [8.1], \"y\": [\"HUN\"], \"type\": \"scatter\"}, {\"mode\": \"markers\", \"name\": \"ISL\", \"text\": [\"2.7\"], \"x\": [2.7], \"y\": [\"ISL\"], \"type\": \"scatter\"}, {\"mode\": \"markers\", \"name\": \"IRL\", \"text\": [\"5.7\"], \"x\": [5.7], \"y\": [\"IRL\"], \"type\": \"scatter\"}, {\"mode\": \"markers\", \"name\": \"ITA\", \"text\": [\"4.4\"], \"x\": [4.4], \"y\": [\"ITA\"], \"type\": \"scatter\"}, {\"mode\": \"markers\", \"name\": \"JPN\", \"text\": [\"3.1\"], \"x\": [3.1], \"y\": [\"JPN\"], \"type\": \"scatter\"}, {\"mode\": \"markers\", \"name\": \"KOR\", \"text\": [\"0\"], \"x\": [0], \"y\": [\"KOR\"], \"type\": \"scatter\"}, {\"mode\": \"markers\", \"name\": \"LUX\", \"text\": [\"5.9\"], \"x\": [5.9], \"y\": [\"LUX\"], \"type\": \"scatter\"}, {\"mode\": \"markers\", \"name\": \"MEX\", \"text\": [\"20.0\"], \"x\": [20.0], \"y\": [\"MEX\"], \"type\": \"scatter\"}, {\"mode\": \"markers\", \"name\": \"NLD\", \"text\": [\"5.4\"], \"x\": [5.4], \"y\": [\"NLD\"], \"type\": \"scatter\"}, {\"mode\": \"markers\", \"name\": \"NZL\", \"text\": [\"5.6\"], \"x\": [5.6], \"y\": [\"NZL\"], \"type\": \"scatter\"}, {\"mode\": \"markers\", \"name\": \"NOR\", \"text\": [\"3.9\"], \"x\": [3.9], \"y\": [\"NOR\"], \"type\": \"scatter\"}, {\"mode\": \"markers\", \"name\": \"POL\", \"text\": [\"7.7\"], \"x\": [7.7], \"y\": [\"POL\"], \"type\": \"scatter\"}, {\"mode\": \"markers\", \"name\": \"PRT\", \"text\": [\"5.0\"], \"x\": [5.0], \"y\": [\"PRT\"], \"type\": \"scatter\"}, {\"mode\": \"markers\", \"name\": \"SVK\", \"text\": [\"6.2\"], \"x\": [6.2], \"y\": [\"SVK\"], \"type\": \"scatter\"}, {\"mode\": \"markers\", \"name\": \"ESP\", \"text\": [\"4.0\"], \"x\": [4.0], \"y\": [\"ESP\"], \"type\": \"scatter\"}, {\"mode\": \"markers\", \"name\": \"SWE\", \"text\": [\"3.7\"], \"x\": [3.7], \"y\": [\"SWE\"], \"type\": \"scatter\"}, {\"mode\": \"markers\", \"name\": \"CHE\", \"text\": [\"5.0\"], \"x\": [5.0], \"y\": [\"CHE\"], \"type\": \"scatter\"}, {\"mode\": \"markers\", \"name\": \"TUR\", \"text\": [\"28.6\"], \"x\": [28.6], \"y\": [\"TUR\"], \"type\": \"scatter\"}, {\"mode\": \"markers\", \"name\": \"GBR\", \"text\": [\"5.5\"], \"x\": [5.5], \"y\": [\"GBR\"], \"type\": \"scatter\"}, {\"mode\": \"markers\", \"name\": \"USA\", \"text\": [\"6.8\"], \"x\": [6.8], \"y\": [\"USA\"], \"type\": \"scatter\"}, {\"mode\": \"markers\", \"name\": \"BRA\", \"text\": [\"26.1\"], \"x\": [26.1], \"y\": [\"BRA\"], \"type\": \"scatter\"}, {\"mode\": \"markers\", \"name\": \"CHL\", \"text\": [\"8.3\"], \"x\": [8.3], \"y\": [\"CHL\"], \"type\": \"scatter\"}, {\"mode\": \"markers\", \"name\": \"CHN\", \"text\": [\"28.3\"], \"x\": [28.3], \"y\": [\"CHN\"], \"type\": \"scatter\"}, {\"mode\": \"markers\", \"name\": \"EST\", \"text\": [\"8.8\"], \"x\": [8.8], \"y\": [\"EST\"], \"type\": \"scatter\"}, {\"mode\": \"markers\", \"name\": \"IND\", \"text\": [\"64.2\"], \"x\": [64.2], \"y\": [\"IND\"], \"type\": \"scatter\"}, {\"mode\": \"markers\", \"name\": \"IDN\", \"text\": [\"39.4\"], \"x\": [39.4], \"y\": [\"IDN\"], \"type\": \"scatter\"}, {\"mode\": \"markers\", \"name\": \"ISR\", \"text\": [\"5.1\"], \"x\": [5.1], \"y\": [\"ISR\"], \"type\": \"scatter\"}, {\"mode\": \"markers\", \"name\": \"RUS\", \"text\": [\"14.6\"], \"x\": [14.6], \"y\": [\"RUS\"], \"type\": \"scatter\"}, {\"mode\": \"markers\", \"name\": \"SVN\", \"text\": [\"4.2\"], \"x\": [4.2], \"y\": [\"SVN\"], \"type\": \"scatter\"}, {\"mode\": \"markers\", \"name\": \"ZAF\", \"text\": [\"54.5\"], \"x\": [54.5], \"y\": [\"ZAF\"], \"type\": \"scatter\"}, {\"mode\": \"markers\", \"name\": \"COL\", \"text\": [\"24.0\"], \"x\": [24.0], \"y\": [\"COL\"], \"type\": \"scatter\"}, {\"mode\": \"markers\", \"name\": \"LVA\", \"text\": [\"11.0\"], \"x\": [11.0], \"y\": [\"LVA\"], \"type\": \"scatter\"}, {\"mode\": \"markers\", \"name\": \"LTU\", \"text\": [\"8.0\"], \"x\": [8.0], \"y\": [\"LTU\"], \"type\": \"scatter\"}, {\"mode\": \"markers\", \"name\": \"CRI\", \"text\": [\"10.5\"], \"x\": [10.5], \"y\": [\"CRI\"], \"type\": \"scatter\"}], \"name\": \"2001\"}, {\"data\": [{\"mode\": \"markers\", \"name\": \"AUS\", \"text\": [\"5.0\"], \"x\": [5.0], \"y\": [\"AUS\"], \"type\": \"scatter\"}, {\"mode\": \"markers\", \"name\": \"AUT\", \"text\": [\"4.1\"], \"x\": [4.1], \"y\": [\"AUT\"], \"type\": \"scatter\"}, {\"mode\": \"markers\", \"name\": \"BEL\", \"text\": [\"4.4\"], \"x\": [4.4], \"y\": [\"BEL\"], \"type\": \"scatter\"}, {\"mode\": \"markers\", \"name\": \"CAN\", \"text\": [\"5.4\"], \"x\": [5.4], \"y\": [\"CAN\"], \"type\": \"scatter\"}, {\"mode\": \"markers\", \"name\": \"CZE\", \"text\": [\"4.1\"], \"x\": [4.1], \"y\": [\"CZE\"], \"type\": \"scatter\"}, {\"mode\": \"markers\", \"name\": \"DNK\", \"text\": [\"4.4\"], \"x\": [4.4], \"y\": [\"DNK\"], \"type\": \"scatter\"}, {\"mode\": \"markers\", \"name\": \"FIN\", \"text\": [\"3.0\"], \"x\": [3.0], \"y\": [\"FIN\"], \"type\": \"scatter\"}, {\"mode\": \"markers\", \"name\": \"FRA\", \"text\": [\"4.2\"], \"x\": [4.2], \"y\": [\"FRA\"], \"type\": \"scatter\"}, {\"mode\": \"markers\", \"name\": \"DEU\", \"text\": [\"4.2\"], \"x\": [4.2], \"y\": [\"DEU\"], \"type\": \"scatter\"}, {\"mode\": \"markers\", \"name\": \"GRC\", \"text\": [\"5.1\"], \"x\": [5.1], \"y\": [\"GRC\"], \"type\": \"scatter\"}, {\"mode\": \"markers\", \"name\": \"HUN\", \"text\": [\"7.2\"], \"x\": [7.2], \"y\": [\"HUN\"], \"type\": \"scatter\"}, {\"mode\": \"markers\", \"name\": \"ISL\", \"text\": [\"2.2\"], \"x\": [2.2], \"y\": [\"ISL\"], \"type\": \"scatter\"}, {\"mode\": \"markers\", \"name\": \"IRL\", \"text\": [\"5.0\"], \"x\": [5.0], \"y\": [\"IRL\"], \"type\": \"scatter\"}, {\"mode\": \"markers\", \"name\": \"ITA\", \"text\": [\"4.1\"], \"x\": [4.1], \"y\": [\"ITA\"], \"type\": \"scatter\"}, {\"mode\": \"markers\", \"name\": \"JPN\", \"text\": [\"3.0\"], \"x\": [3.0], \"y\": [\"JPN\"], \"type\": \"scatter\"}, {\"mode\": \"markers\", \"name\": \"KOR\", \"text\": [\"5.3\"], \"x\": [5.3], \"y\": [\"KOR\"], \"type\": \"scatter\"}, {\"mode\": \"markers\", \"name\": \"LUX\", \"text\": [\"5.1\"], \"x\": [5.1], \"y\": [\"LUX\"], \"type\": \"scatter\"}, {\"mode\": \"markers\", \"name\": \"MEX\", \"text\": [\"19.1\"], \"x\": [19.1], \"y\": [\"MEX\"], \"type\": \"scatter\"}, {\"mode\": \"markers\", \"name\": \"NLD\", \"text\": [\"5.0\"], \"x\": [5.0], \"y\": [\"NLD\"], \"type\": \"scatter\"}, {\"mode\": \"markers\", \"name\": \"NZL\", \"text\": [\"6.2\"], \"x\": [6.2], \"y\": [\"NZL\"], \"type\": \"scatter\"}, {\"mode\": \"markers\", \"name\": \"NOR\", \"text\": [\"3.5\"], \"x\": [3.5], \"y\": [\"NOR\"], \"type\": \"scatter\"}, {\"mode\": \"markers\", \"name\": \"POL\", \"text\": [\"7.5\"], \"x\": [7.5], \"y\": [\"POL\"], \"type\": \"scatter\"}, {\"mode\": \"markers\", \"name\": \"PRT\", \"text\": [\"5.0\"], \"x\": [5.0], \"y\": [\"PRT\"], \"type\": \"scatter\"}, {\"mode\": \"markers\", \"name\": \"SVK\", \"text\": [\"7.6\"], \"x\": [7.6], \"y\": [\"SVK\"], \"type\": \"scatter\"}, {\"mode\": \"markers\", \"name\": \"ESP\", \"text\": [\"4.1\"], \"x\": [4.1], \"y\": [\"ESP\"], \"type\": \"scatter\"}, {\"mode\": \"markers\", \"name\": \"SWE\", \"text\": [\"3.3\"], \"x\": [3.3], \"y\": [\"SWE\"], \"type\": \"scatter\"}, {\"mode\": \"markers\", \"name\": \"CHE\", \"text\": [\"4.5\"], \"x\": [4.5], \"y\": [\"CHE\"], \"type\": \"scatter\"}, {\"mode\": \"markers\", \"name\": \"TUR\", \"text\": [\"29.6\"], \"x\": [29.6], \"y\": [\"TUR\"], \"type\": \"scatter\"}, {\"mode\": \"markers\", \"name\": \"GBR\", \"text\": [\"5.2\"], \"x\": [5.2], \"y\": [\"GBR\"], \"type\": \"scatter\"}, {\"mode\": \"markers\", \"name\": \"USA\", \"text\": [\"7.0\"], \"x\": [7.0], \"y\": [\"USA\"], \"type\": \"scatter\"}, {\"mode\": \"markers\", \"name\": \"BRA\", \"text\": [\"24.3\"], \"x\": [24.3], \"y\": [\"BRA\"], \"type\": \"scatter\"}, {\"mode\": \"markers\", \"name\": \"CHL\", \"text\": [\"7.8\"], \"x\": [7.8], \"y\": [\"CHL\"], \"type\": \"scatter\"}, {\"mode\": \"markers\", \"name\": \"CHN\", \"text\": [\"26.2\"], \"x\": [26.2], \"y\": [\"CHN\"], \"type\": \"scatter\"}, {\"mode\": \"markers\", \"name\": \"EST\", \"text\": [\"5.7\"], \"x\": [5.7], \"y\": [\"EST\"], \"type\": \"scatter\"}, {\"mode\": \"markers\", \"name\": \"IND\", \"text\": [\"62.0\"], \"x\": [62.0], \"y\": [\"IND\"], \"type\": \"scatter\"}, {\"mode\": \"markers\", \"name\": \"IDN\", \"text\": [\"37.8\"], \"x\": [37.8], \"y\": [\"IDN\"], \"type\": \"scatter\"}, {\"mode\": \"markers\", \"name\": \"ISR\", \"text\": [\"5.4\"], \"x\": [5.4], \"y\": [\"ISR\"], \"type\": \"scatter\"}, {\"mode\": \"markers\", \"name\": \"RUS\", \"text\": [\"13.3\"], \"x\": [13.3], \"y\": [\"RUS\"], \"type\": \"scatter\"}, {\"mode\": \"markers\", \"name\": \"SVN\", \"text\": [\"3.8\"], \"x\": [3.8], \"y\": [\"SVN\"], \"type\": \"scatter\"}, {\"mode\": \"markers\", \"name\": \"ZAF\", \"text\": [\"54.7\"], \"x\": [54.7], \"y\": [\"ZAF\"], \"type\": \"scatter\"}, {\"mode\": \"markers\", \"name\": \"COL\", \"text\": [\"23.0\"], \"x\": [23.0], \"y\": [\"COL\"], \"type\": \"scatter\"}, {\"mode\": \"markers\", \"name\": \"LVA\", \"text\": [\"9.8\"], \"x\": [9.8], \"y\": [\"LVA\"], \"type\": \"scatter\"}, {\"mode\": \"markers\", \"name\": \"LTU\", \"text\": [\"8.1\"], \"x\": [8.1], \"y\": [\"LTU\"], \"type\": \"scatter\"}, {\"mode\": \"markers\", \"name\": \"CRI\", \"text\": [\"10.0\"], \"x\": [10.0], \"y\": [\"CRI\"], \"type\": \"scatter\"}], \"name\": \"2002\"}, {\"data\": [{\"mode\": \"markers\", \"name\": \"AUS\", \"text\": [\"4.8\"], \"x\": [4.8], \"y\": [\"AUS\"], \"type\": \"scatter\"}, {\"mode\": \"markers\", \"name\": \"AUT\", \"text\": [\"4.5\"], \"x\": [4.5], \"y\": [\"AUT\"], \"type\": \"scatter\"}, {\"mode\": \"markers\", \"name\": \"BEL\", \"text\": [\"4.1\"], \"x\": [4.1], \"y\": [\"BEL\"], \"type\": \"scatter\"}, {\"mode\": \"markers\", \"name\": \"CAN\", \"text\": [\"5.3\"], \"x\": [5.3], \"y\": [\"CAN\"], \"type\": \"scatter\"}, {\"mode\": \"markers\", \"name\": \"CZE\", \"text\": [\"3.9\"], \"x\": [3.9], \"y\": [\"CZE\"], \"type\": \"scatter\"}, {\"mode\": \"markers\", \"name\": \"DNK\", \"text\": [\"4.4\"], \"x\": [4.4], \"y\": [\"DNK\"], \"type\": \"scatter\"}, {\"mode\": \"markers\", \"name\": \"FIN\", \"text\": [\"3.1\"], \"x\": [3.1], \"y\": [\"FIN\"], \"type\": \"scatter\"}, {\"mode\": \"markers\", \"name\": \"FRA\", \"text\": [\"4.2\"], \"x\": [4.2], \"y\": [\"FRA\"], \"type\": \"scatter\"}, {\"mode\": \"markers\", \"name\": \"DEU\", \"text\": [\"4.2\"], \"x\": [4.2], \"y\": [\"DEU\"], \"type\": \"scatter\"}, {\"mode\": \"markers\", \"name\": \"GRC\", \"text\": [\"4.0\"], \"x\": [4.0], \"y\": [\"GRC\"], \"type\": \"scatter\"}, {\"mode\": \"markers\", \"name\": \"HUN\", \"text\": [\"7.3\"], \"x\": [7.3], \"y\": [\"HUN\"], \"type\": \"scatter\"}, {\"mode\": \"markers\", \"name\": \"ISL\", \"text\": [\"2.4\"], \"x\": [2.4], \"y\": [\"ISL\"], \"type\": \"scatter\"}, {\"mode\": \"markers\", \"name\": \"IRL\", \"text\": [\"5.3\"], \"x\": [5.3], \"y\": [\"IRL\"], \"type\": \"scatter\"}, {\"mode\": \"markers\", \"name\": \"ITA\", \"text\": [\"3.8\"], \"x\": [3.8], \"y\": [\"ITA\"], \"type\": \"scatter\"}, {\"mode\": \"markers\", \"name\": \"JPN\", \"text\": [\"3.0\"], \"x\": [3.0], \"y\": [\"JPN\"], \"type\": \"scatter\"}, {\"mode\": \"markers\", \"name\": \"KOR\", \"text\": [\"0\"], \"x\": [0], \"y\": [\"KOR\"], \"type\": \"scatter\"}, {\"mode\": \"markers\", \"name\": \"LUX\", \"text\": [\"4.9\"], \"x\": [4.9], \"y\": [\"LUX\"], \"type\": \"scatter\"}, {\"mode\": \"markers\", \"name\": \"MEX\", \"text\": [\"18.3\"], \"x\": [18.3], \"y\": [\"MEX\"], \"type\": \"scatter\"}, {\"mode\": \"markers\", \"name\": \"NLD\", \"text\": [\"4.8\"], \"x\": [4.8], \"y\": [\"NLD\"], \"type\": \"scatter\"}, {\"mode\": \"markers\", \"name\": \"NZL\", \"text\": [\"5.4\"], \"x\": [5.4], \"y\": [\"NZL\"], \"type\": \"scatter\"}, {\"mode\": \"markers\", \"name\": \"NOR\", \"text\": [\"3.3\"], \"x\": [3.3], \"y\": [\"NOR\"], \"type\": \"scatter\"}, {\"mode\": \"markers\", \"name\": \"POL\", \"text\": [\"7.0\"], \"x\": [7.0], \"y\": [\"POL\"], \"type\": \"scatter\"}, {\"mode\": \"markers\", \"name\": \"PRT\", \"text\": [\"4.1\"], \"x\": [4.1], \"y\": [\"PRT\"], \"type\": \"scatter\"}, {\"mode\": \"markers\", \"name\": \"SVK\", \"text\": [\"7.9\"], \"x\": [7.9], \"y\": [\"SVK\"], \"type\": \"scatter\"}, {\"mode\": \"markers\", \"name\": \"ESP\", \"text\": [\"3.9\"], \"x\": [3.9], \"y\": [\"ESP\"], \"type\": \"scatter\"}, {\"mode\": \"markers\", \"name\": \"SWE\", \"text\": [\"3.1\"], \"x\": [3.1], \"y\": [\"SWE\"], \"type\": \"scatter\"}, {\"mode\": \"markers\", \"name\": \"CHE\", \"text\": [\"4.3\"], \"x\": [4.3], \"y\": [\"CHE\"], \"type\": \"scatter\"}, {\"mode\": \"markers\", \"name\": \"TUR\", \"text\": [\"29.1\"], \"x\": [29.1], \"y\": [\"TUR\"], \"type\": \"scatter\"}, {\"mode\": \"markers\", \"name\": \"GBR\", \"text\": [\"5.3\"], \"x\": [5.3], \"y\": [\"GBR\"], \"type\": \"scatter\"}, {\"mode\": \"markers\", \"name\": \"USA\", \"text\": [\"6.8\"], \"x\": [6.8], \"y\": [\"USA\"], \"type\": \"scatter\"}, {\"mode\": \"markers\", \"name\": \"BRA\", \"text\": [\"22.5\"], \"x\": [22.5], \"y\": [\"BRA\"], \"type\": \"scatter\"}, {\"mode\": \"markers\", \"name\": \"CHL\", \"text\": [\"7.8\"], \"x\": [7.8], \"y\": [\"CHL\"], \"type\": \"scatter\"}, {\"mode\": \"markers\", \"name\": \"CHN\", \"text\": [\"24.2\"], \"x\": [24.2], \"y\": [\"CHN\"], \"type\": \"scatter\"}, {\"mode\": \"markers\", \"name\": \"EST\", \"text\": [\"7.0\"], \"x\": [7.0], \"y\": [\"EST\"], \"type\": \"scatter\"}, {\"mode\": \"markers\", \"name\": \"IND\", \"text\": [\"59.9\"], \"x\": [59.9], \"y\": [\"IND\"], \"type\": \"scatter\"}, {\"mode\": \"markers\", \"name\": \"IDN\", \"text\": [\"36.3\"], \"x\": [36.3], \"y\": [\"IDN\"], \"type\": \"scatter\"}, {\"mode\": \"markers\", \"name\": \"ISR\", \"text\": [\"4.9\"], \"x\": [4.9], \"y\": [\"ISR\"], \"type\": \"scatter\"}, {\"mode\": \"markers\", \"name\": \"RUS\", \"text\": [\"12.4\"], \"x\": [12.4], \"y\": [\"RUS\"], \"type\": \"scatter\"}, {\"mode\": \"markers\", \"name\": \"SVN\", \"text\": [\"4.0\"], \"x\": [4.0], \"y\": [\"SVN\"], \"type\": \"scatter\"}, {\"mode\": \"markers\", \"name\": \"ZAF\", \"text\": [\"54.1\"], \"x\": [54.1], \"y\": [\"ZAF\"], \"type\": \"scatter\"}, {\"mode\": \"markers\", \"name\": \"COL\", \"text\": [\"22.1\"], \"x\": [22.1], \"y\": [\"COL\"], \"type\": \"scatter\"}, {\"mode\": \"markers\", \"name\": \"LVA\", \"text\": [\"9.4\"], \"x\": [9.4], \"y\": [\"LVA\"], \"type\": \"scatter\"}, {\"mode\": \"markers\", \"name\": \"LTU\", \"text\": [\"6.9\"], \"x\": [6.9], \"y\": [\"LTU\"], \"type\": \"scatter\"}, {\"mode\": \"markers\", \"name\": \"CRI\", \"text\": [\"9.5\"], \"x\": [9.5], \"y\": [\"CRI\"], \"type\": \"scatter\"}], \"name\": \"2003\"}, {\"data\": [{\"mode\": \"markers\", \"name\": \"AUS\", \"text\": [\"4.7\"], \"x\": [4.7], \"y\": [\"AUS\"], \"type\": \"scatter\"}, {\"mode\": \"markers\", \"name\": \"AUT\", \"text\": [\"4.5\"], \"x\": [4.5], \"y\": [\"AUT\"], \"type\": \"scatter\"}, {\"mode\": \"markers\", \"name\": \"BEL\", \"text\": [\"3.9\"], \"x\": [3.9], \"y\": [\"BEL\"], \"type\": \"scatter\"}, {\"mode\": \"markers\", \"name\": \"CAN\", \"text\": [\"5.3\"], \"x\": [5.3], \"y\": [\"CAN\"], \"type\": \"scatter\"}, {\"mode\": \"markers\", \"name\": \"CZE\", \"text\": [\"3.7\"], \"x\": [3.7], \"y\": [\"CZE\"], \"type\": \"scatter\"}, {\"mode\": \"markers\", \"name\": \"DNK\", \"text\": [\"4.4\"], \"x\": [4.4], \"y\": [\"DNK\"], \"type\": \"scatter\"}, {\"mode\": \"markers\", \"name\": \"FIN\", \"text\": [\"3.3\"], \"x\": [3.3], \"y\": [\"FIN\"], \"type\": \"scatter\"}, {\"mode\": \"markers\", \"name\": \"FRA\", \"text\": [\"4.0\"], \"x\": [4.0], \"y\": [\"FRA\"], \"type\": \"scatter\"}, {\"mode\": \"markers\", \"name\": \"DEU\", \"text\": [\"4.1\"], \"x\": [4.1], \"y\": [\"DEU\"], \"type\": \"scatter\"}, {\"mode\": \"markers\", \"name\": \"GRC\", \"text\": [\"4.1\"], \"x\": [4.1], \"y\": [\"GRC\"], \"type\": \"scatter\"}, {\"mode\": \"markers\", \"name\": \"HUN\", \"text\": [\"6.6\"], \"x\": [6.6], \"y\": [\"HUN\"], \"type\": \"scatter\"}, {\"mode\": \"markers\", \"name\": \"ISL\", \"text\": [\"2.8\"], \"x\": [2.8], \"y\": [\"ISL\"], \"type\": \"scatter\"}, {\"mode\": \"markers\", \"name\": \"IRL\", \"text\": [\"4.6\"], \"x\": [4.6], \"y\": [\"IRL\"], \"type\": \"scatter\"}, {\"mode\": \"markers\", \"name\": \"ITA\", \"text\": [\"3.4\"], \"x\": [3.4], \"y\": [\"ITA\"], \"type\": \"scatter\"}, {\"mode\": \"markers\", \"name\": \"JPN\", \"text\": [\"2.8\"], \"x\": [2.8], \"y\": [\"JPN\"], \"type\": \"scatter\"}, {\"mode\": \"markers\", \"name\": \"KOR\", \"text\": [\"0\"], \"x\": [0], \"y\": [\"KOR\"], \"type\": \"scatter\"}, {\"mode\": \"markers\", \"name\": \"LUX\", \"text\": [\"3.9\"], \"x\": [3.9], \"y\": [\"LUX\"], \"type\": \"scatter\"}, {\"mode\": \"markers\", \"name\": \"MEX\", \"text\": [\"17.6\"], \"x\": [17.6], \"y\": [\"MEX\"], \"type\": \"scatter\"}, {\"mode\": \"markers\", \"name\": \"NLD\", \"text\": [\"4.4\"], \"x\": [4.4], \"y\": [\"NLD\"], \"type\": \"scatter\"}, {\"mode\": \"markers\", \"name\": \"NZL\", \"text\": [\"5.9\"], \"x\": [5.9], \"y\": [\"NZL\"], \"type\": \"scatter\"}, {\"mode\": \"markers\", \"name\": \"NOR\", \"text\": [\"3.2\"], \"x\": [3.2], \"y\": [\"NOR\"], \"type\": \"scatter\"}, {\"mode\": \"markers\", \"name\": \"POL\", \"text\": [\"6.8\"], \"x\": [6.8], \"y\": [\"POL\"], \"type\": \"scatter\"}, {\"mode\": \"markers\", \"name\": \"PRT\", \"text\": [\"3.8\"], \"x\": [3.8], \"y\": [\"PRT\"], \"type\": \"scatter\"}, {\"mode\": \"markers\", \"name\": \"SVK\", \"text\": [\"6.8\"], \"x\": [6.8], \"y\": [\"SVK\"], \"type\": \"scatter\"}, {\"mode\": \"markers\", \"name\": \"ESP\", \"text\": [\"3.9\"], \"x\": [3.9], \"y\": [\"ESP\"], \"type\": \"scatter\"}, {\"mode\": \"markers\", \"name\": \"SWE\", \"text\": [\"3.1\"], \"x\": [3.1], \"y\": [\"SWE\"], \"type\": \"scatter\"}, {\"mode\": \"markers\", \"name\": \"CHE\", \"text\": [\"4.2\"], \"x\": [4.2], \"y\": [\"CHE\"], \"type\": \"scatter\"}, {\"mode\": \"markers\", \"name\": \"TUR\", \"text\": [\"27.4\"], \"x\": [27.4], \"y\": [\"TUR\"], \"type\": \"scatter\"}, {\"mode\": \"markers\", \"name\": \"GBR\", \"text\": [\"5.0\"], \"x\": [5.0], \"y\": [\"GBR\"], \"type\": \"scatter\"}, {\"mode\": \"markers\", \"name\": \"USA\", \"text\": [\"6.8\"], \"x\": [6.8], \"y\": [\"USA\"], \"type\": \"scatter\"}, {\"mode\": \"markers\", \"name\": \"BRA\", \"text\": [\"21.0\"], \"x\": [21.0], \"y\": [\"BRA\"], \"type\": \"scatter\"}, {\"mode\": \"markers\", \"name\": \"CHL\", \"text\": [\"8.4\"], \"x\": [8.4], \"y\": [\"CHL\"], \"type\": \"scatter\"}, {\"mode\": \"markers\", \"name\": \"CHN\", \"text\": [\"22.2\"], \"x\": [22.2], \"y\": [\"CHN\"], \"type\": \"scatter\"}, {\"mode\": \"markers\", \"name\": \"EST\", \"text\": [\"6.4\"], \"x\": [6.4], \"y\": [\"EST\"], \"type\": \"scatter\"}, {\"mode\": \"markers\", \"name\": \"IND\", \"text\": [\"57.8\"], \"x\": [57.8], \"y\": [\"IND\"], \"type\": \"scatter\"}, {\"mode\": \"markers\", \"name\": \"IDN\", \"text\": [\"36.0\"], \"x\": [36.0], \"y\": [\"IDN\"], \"type\": \"scatter\"}, {\"mode\": \"markers\", \"name\": \"ISR\", \"text\": [\"4.6\"], \"x\": [4.6], \"y\": [\"ISR\"], \"type\": \"scatter\"}, {\"mode\": \"markers\", \"name\": \"RUS\", \"text\": [\"11.6\"], \"x\": [11.6], \"y\": [\"RUS\"], \"type\": \"scatter\"}, {\"mode\": \"markers\", \"name\": \"SVN\", \"text\": [\"3.7\"], \"x\": [3.7], \"y\": [\"SVN\"], \"type\": \"scatter\"}, {\"mode\": \"markers\", \"name\": \"ZAF\", \"text\": [\"52.8\"], \"x\": [52.8], \"y\": [\"ZAF\"], \"type\": \"scatter\"}, {\"mode\": \"markers\", \"name\": \"COL\", \"text\": [\"21.3\"], \"x\": [21.3], \"y\": [\"COL\"], \"type\": \"scatter\"}, {\"mode\": \"markers\", \"name\": \"LVA\", \"text\": [\"9.3\"], \"x\": [9.3], \"y\": [\"LVA\"], \"type\": \"scatter\"}, {\"mode\": \"markers\", \"name\": \"LTU\", \"text\": [\"8.1\"], \"x\": [8.1], \"y\": [\"LTU\"], \"type\": \"scatter\"}, {\"mode\": \"markers\", \"name\": \"CRI\", \"text\": [\"9.2\"], \"x\": [9.2], \"y\": [\"CRI\"], \"type\": \"scatter\"}], \"name\": \"2004\"}, {\"data\": [{\"mode\": \"markers\", \"name\": \"AUS\", \"text\": [\"4.9\"], \"x\": [4.9], \"y\": [\"AUS\"], \"type\": \"scatter\"}, {\"mode\": \"markers\", \"name\": \"AUT\", \"text\": [\"4.2\"], \"x\": [4.2], \"y\": [\"AUT\"], \"type\": \"scatter\"}, {\"mode\": \"markers\", \"name\": \"BEL\", \"text\": [\"3.7\"], \"x\": [3.7], \"y\": [\"BEL\"], \"type\": \"scatter\"}, {\"mode\": \"markers\", \"name\": \"CAN\", \"text\": [\"5.4\"], \"x\": [5.4], \"y\": [\"CAN\"], \"type\": \"scatter\"}, {\"mode\": \"markers\", \"name\": \"CZE\", \"text\": [\"3.4\"], \"x\": [3.4], \"y\": [\"CZE\"], \"type\": \"scatter\"}, {\"mode\": \"markers\", \"name\": \"DNK\", \"text\": [\"4.4\"], \"x\": [4.4], \"y\": [\"DNK\"], \"type\": \"scatter\"}, {\"mode\": \"markers\", \"name\": \"FIN\", \"text\": [\"3.0\"], \"x\": [3.0], \"y\": [\"FIN\"], \"type\": \"scatter\"}, {\"mode\": \"markers\", \"name\": \"FRA\", \"text\": [\"3.8\"], \"x\": [3.8], \"y\": [\"FRA\"], \"type\": \"scatter\"}, {\"mode\": \"markers\", \"name\": \"DEU\", \"text\": [\"3.9\"], \"x\": [3.9], \"y\": [\"DEU\"], \"type\": \"scatter\"}, {\"mode\": \"markers\", \"name\": \"GRC\", \"text\": [\"3.8\"], \"x\": [3.8], \"y\": [\"GRC\"], \"type\": \"scatter\"}, {\"mode\": \"markers\", \"name\": \"HUN\", \"text\": [\"6.2\"], \"x\": [6.2], \"y\": [\"HUN\"], \"type\": \"scatter\"}, {\"mode\": \"markers\", \"name\": \"ISL\", \"text\": [\"2.3\"], \"x\": [2.3], \"y\": [\"ISL\"], \"type\": \"scatter\"}, {\"mode\": \"markers\", \"name\": \"IRL\", \"text\": [\"3.8\"], \"x\": [3.8], \"y\": [\"IRL\"], \"type\": \"scatter\"}, {\"mode\": \"markers\", \"name\": \"ITA\", \"text\": [\"3.3\"], \"x\": [3.3], \"y\": [\"ITA\"], \"type\": \"scatter\"}, {\"mode\": \"markers\", \"name\": \"JPN\", \"text\": [\"2.8\"], \"x\": [2.8], \"y\": [\"JPN\"], \"type\": \"scatter\"}, {\"mode\": \"markers\", \"name\": \"KOR\", \"text\": [\"4.7\"], \"x\": [4.7], \"y\": [\"KOR\"], \"type\": \"scatter\"}, {\"mode\": \"markers\", \"name\": \"LUX\", \"text\": [\"2.6\"], \"x\": [2.6], \"y\": [\"LUX\"], \"type\": \"scatter\"}, {\"mode\": \"markers\", \"name\": \"MEX\", \"text\": [\"16.9\"], \"x\": [16.9], \"y\": [\"MEX\"], \"type\": \"scatter\"}, {\"mode\": \"markers\", \"name\": \"NLD\", \"text\": [\"4.9\"], \"x\": [4.9], \"y\": [\"NLD\"], \"type\": \"scatter\"}, {\"mode\": \"markers\", \"name\": \"NZL\", \"text\": [\"5.0\"], \"x\": [5.0], \"y\": [\"NZL\"], \"type\": \"scatter\"}, {\"mode\": \"markers\", \"name\": \"NOR\", \"text\": [\"3.1\"], \"x\": [3.1], \"y\": [\"NOR\"], \"type\": \"scatter\"}, {\"mode\": \"markers\", \"name\": \"POL\", \"text\": [\"6.4\"], \"x\": [6.4], \"y\": [\"POL\"], \"type\": \"scatter\"}, {\"mode\": \"markers\", \"name\": \"PRT\", \"text\": [\"3.5\"], \"x\": [3.5], \"y\": [\"PRT\"], \"type\": \"scatter\"}, {\"mode\": \"markers\", \"name\": \"SVK\", \"text\": [\"7.2\"], \"x\": [7.2], \"y\": [\"SVK\"], \"type\": \"scatter\"}, {\"mode\": \"markers\", \"name\": \"ESP\", \"text\": [\"3.7\"], \"x\": [3.7], \"y\": [\"ESP\"], \"type\": \"scatter\"}, {\"mode\": \"markers\", \"name\": \"SWE\", \"text\": [\"2.4\"], \"x\": [2.4], \"y\": [\"SWE\"], \"type\": \"scatter\"}, {\"mode\": \"markers\", \"name\": \"CHE\", \"text\": [\"4.2\"], \"x\": [4.2], \"y\": [\"CHE\"], \"type\": \"scatter\"}, {\"mode\": \"markers\", \"name\": \"TUR\", \"text\": [\"25.8\"], \"x\": [25.8], \"y\": [\"TUR\"], \"type\": \"scatter\"}, {\"mode\": \"markers\", \"name\": \"GBR\", \"text\": [\"5.1\"], \"x\": [5.1], \"y\": [\"GBR\"], \"type\": \"scatter\"}, {\"mode\": \"markers\", \"name\": \"USA\", \"text\": [\"6.9\"], \"x\": [6.9], \"y\": [\"USA\"], \"type\": \"scatter\"}, {\"mode\": \"markers\", \"name\": \"BRA\", \"text\": [\"19.5\"], \"x\": [19.5], \"y\": [\"BRA\"], \"type\": \"scatter\"}, {\"mode\": \"markers\", \"name\": \"CHL\", \"text\": [\"7.9\"], \"x\": [7.9], \"y\": [\"CHL\"], \"type\": \"scatter\"}, {\"mode\": \"markers\", \"name\": \"CHN\", \"text\": [\"20.3\"], \"x\": [20.3], \"y\": [\"CHN\"], \"type\": \"scatter\"}, {\"mode\": \"markers\", \"name\": \"EST\", \"text\": [\"5.4\"], \"x\": [5.4], \"y\": [\"EST\"], \"type\": \"scatter\"}, {\"mode\": \"markers\", \"name\": \"IND\", \"text\": [\"55.8\"], \"x\": [55.8], \"y\": [\"IND\"], \"type\": \"scatter\"}, {\"mode\": \"markers\", \"name\": \"IDN\", \"text\": [\"33.4\"], \"x\": [33.4], \"y\": [\"IDN\"], \"type\": \"scatter\"}, {\"mode\": \"markers\", \"name\": \"ISR\", \"text\": [\"4.4\"], \"x\": [4.4], \"y\": [\"ISR\"], \"type\": \"scatter\"}, {\"mode\": \"markers\", \"name\": \"RUS\", \"text\": [\"11.0\"], \"x\": [11.0], \"y\": [\"RUS\"], \"type\": \"scatter\"}, {\"mode\": \"markers\", \"name\": \"SVN\", \"text\": [\"4.1\"], \"x\": [4.1], \"y\": [\"SVN\"], \"type\": \"scatter\"}, {\"mode\": \"markers\", \"name\": \"ZAF\", \"text\": [\"51.5\"], \"x\": [51.5], \"y\": [\"ZAF\"], \"type\": \"scatter\"}, {\"mode\": \"markers\", \"name\": \"COL\", \"text\": [\"20.4\"], \"x\": [20.4], \"y\": [\"COL\"], \"type\": \"scatter\"}, {\"mode\": \"markers\", \"name\": \"LVA\", \"text\": [\"7.7\"], \"x\": [7.7], \"y\": [\"LVA\"], \"type\": \"scatter\"}, {\"mode\": \"markers\", \"name\": \"LTU\", \"text\": [\"7.1\"], \"x\": [7.1], \"y\": [\"LTU\"], \"type\": \"scatter\"}, {\"mode\": \"markers\", \"name\": \"CRI\", \"text\": [\"9.0\"], \"x\": [9.0], \"y\": [\"CRI\"], \"type\": \"scatter\"}], \"name\": \"2005\"}, {\"data\": [{\"mode\": \"markers\", \"name\": \"AUS\", \"text\": [\"4.7\"], \"x\": [4.7], \"y\": [\"AUS\"], \"type\": \"scatter\"}, {\"mode\": \"markers\", \"name\": \"AUT\", \"text\": [\"3.6\"], \"x\": [3.6], \"y\": [\"AUT\"], \"type\": \"scatter\"}, {\"mode\": \"markers\", \"name\": \"BEL\", \"text\": [\"4.0\"], \"x\": [4.0], \"y\": [\"BEL\"], \"type\": \"scatter\"}, {\"mode\": \"markers\", \"name\": \"CAN\", \"text\": [\"5.0\"], \"x\": [5.0], \"y\": [\"CAN\"], \"type\": \"scatter\"}, {\"mode\": \"markers\", \"name\": \"CZE\", \"text\": [\"3.3\"], \"x\": [3.3], \"y\": [\"CZE\"], \"type\": \"scatter\"}, {\"mode\": \"markers\", \"name\": \"DNK\", \"text\": [\"3.5\"], \"x\": [3.5], \"y\": [\"DNK\"], \"type\": \"scatter\"}, {\"mode\": \"markers\", \"name\": \"FIN\", \"text\": [\"2.8\"], \"x\": [2.8], \"y\": [\"FIN\"], \"type\": \"scatter\"}, {\"mode\": \"markers\", \"name\": \"FRA\", \"text\": [\"3.8\"], \"x\": [3.8], \"y\": [\"FRA\"], \"type\": \"scatter\"}, {\"mode\": \"markers\", \"name\": \"DEU\", \"text\": [\"3.8\"], \"x\": [3.8], \"y\": [\"DEU\"], \"type\": \"scatter\"}, {\"mode\": \"markers\", \"name\": \"GRC\", \"text\": [\"3.7\"], \"x\": [3.7], \"y\": [\"GRC\"], \"type\": \"scatter\"}, {\"mode\": \"markers\", \"name\": \"HUN\", \"text\": [\"5.7\"], \"x\": [5.7], \"y\": [\"HUN\"], \"type\": \"scatter\"}, {\"mode\": \"markers\", \"name\": \"ISL\", \"text\": [\"1.4\"], \"x\": [1.4], \"y\": [\"ISL\"], \"type\": \"scatter\"}, {\"mode\": \"markers\", \"name\": \"IRL\", \"text\": [\"3.9\"], \"x\": [3.9], \"y\": [\"IRL\"], \"type\": \"scatter\"}, {\"mode\": \"markers\", \"name\": \"ITA\", \"text\": [\"3.2\"], \"x\": [3.2], \"y\": [\"ITA\"], \"type\": \"scatter\"}, {\"mode\": \"markers\", \"name\": \"JPN\", \"text\": [\"2.6\"], \"x\": [2.6], \"y\": [\"JPN\"], \"type\": \"scatter\"}, {\"mode\": \"markers\", \"name\": \"KOR\", \"text\": [\"4.1\"], \"x\": [4.1], \"y\": [\"KOR\"], \"type\": \"scatter\"}, {\"mode\": \"markers\", \"name\": \"LUX\", \"text\": [\"2.5\"], \"x\": [2.5], \"y\": [\"LUX\"], \"type\": \"scatter\"}, {\"mode\": \"markers\", \"name\": \"MEX\", \"text\": [\"16.3\"], \"x\": [16.3], \"y\": [\"MEX\"], \"type\": \"scatter\"}, {\"mode\": \"markers\", \"name\": \"NLD\", \"text\": [\"4.4\"], \"x\": [4.4], \"y\": [\"NLD\"], \"type\": \"scatter\"}, {\"mode\": \"markers\", \"name\": \"NZL\", \"text\": [\"5.1\"], \"x\": [5.1], \"y\": [\"NZL\"], \"type\": \"scatter\"}, {\"mode\": \"markers\", \"name\": \"NOR\", \"text\": [\"3.2\"], \"x\": [3.2], \"y\": [\"NOR\"], \"type\": \"scatter\"}, {\"mode\": \"markers\", \"name\": \"POL\", \"text\": [\"6.0\"], \"x\": [6.0], \"y\": [\"POL\"], \"type\": \"scatter\"}, {\"mode\": \"markers\", \"name\": \"PRT\", \"text\": [\"3.3\"], \"x\": [3.3], \"y\": [\"PRT\"], \"type\": \"scatter\"}, {\"mode\": \"markers\", \"name\": \"SVK\", \"text\": [\"6.6\"], \"x\": [6.6], \"y\": [\"SVK\"], \"type\": \"scatter\"}, {\"mode\": \"markers\", \"name\": \"ESP\", \"text\": [\"3.5\"], \"x\": [3.5], \"y\": [\"ESP\"], \"type\": \"scatter\"}, {\"mode\": \"markers\", \"name\": \"SWE\", \"text\": [\"2.8\"], \"x\": [2.8], \"y\": [\"SWE\"], \"type\": \"scatter\"}, {\"mode\": \"markers\", \"name\": \"CHE\", \"text\": [\"4.4\"], \"x\": [4.4], \"y\": [\"CHE\"], \"type\": \"scatter\"}, {\"mode\": \"markers\", \"name\": \"TUR\", \"text\": [\"24.5\"], \"x\": [24.5], \"y\": [\"TUR\"], \"type\": \"scatter\"}, {\"mode\": \"markers\", \"name\": \"GBR\", \"text\": [\"4.9\"], \"x\": [4.9], \"y\": [\"GBR\"], \"type\": \"scatter\"}, {\"mode\": \"markers\", \"name\": \"USA\", \"text\": [\"6.7\"], \"x\": [6.7], \"y\": [\"USA\"], \"type\": \"scatter\"}, {\"mode\": \"markers\", \"name\": \"BRA\", \"text\": [\"18.2\"], \"x\": [18.2], \"y\": [\"BRA\"], \"type\": \"scatter\"}, {\"mode\": \"markers\", \"name\": \"CHL\", \"text\": [\"7.6\"], \"x\": [7.6], \"y\": [\"CHL\"], \"type\": \"scatter\"}, {\"mode\": \"markers\", \"name\": \"CHN\", \"text\": [\"18.7\"], \"x\": [18.7], \"y\": [\"CHN\"], \"type\": \"scatter\"}, {\"mode\": \"markers\", \"name\": \"EST\", \"text\": [\"4.4\"], \"x\": [4.4], \"y\": [\"EST\"], \"type\": \"scatter\"}, {\"mode\": \"markers\", \"name\": \"IND\", \"text\": [\"53.9\"], \"x\": [53.9], \"y\": [\"IND\"], \"type\": \"scatter\"}, {\"mode\": \"markers\", \"name\": \"IDN\", \"text\": [\"32.1\"], \"x\": [32.1], \"y\": [\"IDN\"], \"type\": \"scatter\"}, {\"mode\": \"markers\", \"name\": \"ISR\", \"text\": [\"4.0\"], \"x\": [4.0], \"y\": [\"ISR\"], \"type\": \"scatter\"}, {\"mode\": \"markers\", \"name\": \"RUS\", \"text\": [\"10.2\"], \"x\": [10.2], \"y\": [\"RUS\"], \"type\": \"scatter\"}, {\"mode\": \"markers\", \"name\": \"SVN\", \"text\": [\"3.4\"], \"x\": [3.4], \"y\": [\"SVN\"], \"type\": \"scatter\"}, {\"mode\": \"markers\", \"name\": \"ZAF\", \"text\": [\"50.0\"], \"x\": [50.0], \"y\": [\"ZAF\"], \"type\": \"scatter\"}, {\"mode\": \"markers\", \"name\": \"COL\", \"text\": [\"20.0\"], \"x\": [20.0], \"y\": [\"COL\"], \"type\": \"scatter\"}, {\"mode\": \"markers\", \"name\": \"LVA\", \"text\": [\"7.4\"], \"x\": [7.4], \"y\": [\"LVA\"], \"type\": \"scatter\"}, {\"mode\": \"markers\", \"name\": \"LTU\", \"text\": [\"7.2\"], \"x\": [7.2], \"y\": [\"LTU\"], \"type\": \"scatter\"}, {\"mode\": \"markers\", \"name\": \"CRI\", \"text\": [\"8.9\"], \"x\": [8.9], \"y\": [\"CRI\"], \"type\": \"scatter\"}], \"name\": \"2006\"}, {\"data\": [{\"mode\": \"markers\", \"name\": \"AUS\", \"text\": [\"4.1\"], \"x\": [4.1], \"y\": [\"AUS\"], \"type\": \"scatter\"}, {\"mode\": \"markers\", \"name\": \"AUT\", \"text\": [\"3.7\"], \"x\": [3.7], \"y\": [\"AUT\"], \"type\": \"scatter\"}, {\"mode\": \"markers\", \"name\": \"BEL\", \"text\": [\"3.9\"], \"x\": [3.9], \"y\": [\"BEL\"], \"type\": \"scatter\"}, {\"mode\": \"markers\", \"name\": \"CAN\", \"text\": [\"5.1\"], \"x\": [5.1], \"y\": [\"CAN\"], \"type\": \"scatter\"}, {\"mode\": \"markers\", \"name\": \"CZE\", \"text\": [\"3.1\"], \"x\": [3.1], \"y\": [\"CZE\"], \"type\": \"scatter\"}, {\"mode\": \"markers\", \"name\": \"DNK\", \"text\": [\"4.0\"], \"x\": [4.0], \"y\": [\"DNK\"], \"type\": \"scatter\"}, {\"mode\": \"markers\", \"name\": \"FIN\", \"text\": [\"2.7\"], \"x\": [2.7], \"y\": [\"FIN\"], \"type\": \"scatter\"}, {\"mode\": \"markers\", \"name\": \"FRA\", \"text\": [\"3.8\"], \"x\": [3.8], \"y\": [\"FRA\"], \"type\": \"scatter\"}, {\"mode\": \"markers\", \"name\": \"DEU\", \"text\": [\"3.9\"], \"x\": [3.9], \"y\": [\"DEU\"], \"type\": \"scatter\"}, {\"mode\": \"markers\", \"name\": \"GRC\", \"text\": [\"3.5\"], \"x\": [3.5], \"y\": [\"GRC\"], \"type\": \"scatter\"}, {\"mode\": \"markers\", \"name\": \"HUN\", \"text\": [\"5.9\"], \"x\": [5.9], \"y\": [\"HUN\"], \"type\": \"scatter\"}, {\"mode\": \"markers\", \"name\": \"ISL\", \"text\": [\"2.0\"], \"x\": [2.0], \"y\": [\"ISL\"], \"type\": \"scatter\"}, {\"mode\": \"markers\", \"name\": \"IRL\", \"text\": [\"3.2\"], \"x\": [3.2], \"y\": [\"IRL\"], \"type\": \"scatter\"}, {\"mode\": \"markers\", \"name\": \"ITA\", \"text\": [\"3.1\"], \"x\": [3.1], \"y\": [\"ITA\"], \"type\": \"scatter\"}, {\"mode\": \"markers\", \"name\": \"JPN\", \"text\": [\"2.6\"], \"x\": [2.6], \"y\": [\"JPN\"], \"type\": \"scatter\"}, {\"mode\": \"markers\", \"name\": \"KOR\", \"text\": [\"3.5\"], \"x\": [3.5], \"y\": [\"KOR\"], \"type\": \"scatter\"}, {\"mode\": \"markers\", \"name\": \"LUX\", \"text\": [\"1.8\"], \"x\": [1.8], \"y\": [\"LUX\"], \"type\": \"scatter\"}, {\"mode\": \"markers\", \"name\": \"MEX\", \"text\": [\"15.7\"], \"x\": [15.7], \"y\": [\"MEX\"], \"type\": \"scatter\"}, {\"mode\": \"markers\", \"name\": \"NLD\", \"text\": [\"4.1\"], \"x\": [4.1], \"y\": [\"NLD\"], \"type\": \"scatter\"}, {\"mode\": \"markers\", \"name\": \"NZL\", \"text\": [\"4.8\"], \"x\": [4.8], \"y\": [\"NZL\"], \"type\": \"scatter\"}, {\"mode\": \"markers\", \"name\": \"NOR\", \"text\": [\"3.1\"], \"x\": [3.1], \"y\": [\"NOR\"], \"type\": \"scatter\"}, {\"mode\": \"markers\", \"name\": \"POL\", \"text\": [\"6.0\"], \"x\": [6.0], \"y\": [\"POL\"], \"type\": \"scatter\"}, {\"mode\": \"markers\", \"name\": \"PRT\", \"text\": [\"3.4\"], \"x\": [3.4], \"y\": [\"PRT\"], \"type\": \"scatter\"}, {\"mode\": \"markers\", \"name\": \"SVK\", \"text\": [\"6.1\"], \"x\": [6.1], \"y\": [\"SVK\"], \"type\": \"scatter\"}, {\"mode\": \"markers\", \"name\": \"ESP\", \"text\": [\"3.4\"], \"x\": [3.4], \"y\": [\"ESP\"], \"type\": \"scatter\"}, {\"mode\": \"markers\", \"name\": \"SWE\", \"text\": [\"2.5\"], \"x\": [2.5], \"y\": [\"SWE\"], \"type\": \"scatter\"}, {\"mode\": \"markers\", \"name\": \"CHE\", \"text\": [\"3.9\"], \"x\": [3.9], \"y\": [\"CHE\"], \"type\": \"scatter\"}, {\"mode\": \"markers\", \"name\": \"TUR\", \"text\": [\"16.5\"], \"x\": [16.5], \"y\": [\"TUR\"], \"type\": \"scatter\"}, {\"mode\": \"markers\", \"name\": \"GBR\", \"text\": [\"4.7\"], \"x\": [4.7], \"y\": [\"GBR\"], \"type\": \"scatter\"}, {\"mode\": \"markers\", \"name\": \"USA\", \"text\": [\"6.8\"], \"x\": [6.8], \"y\": [\"USA\"], \"type\": \"scatter\"}, {\"mode\": \"markers\", \"name\": \"BRA\", \"text\": [\"17.1\"], \"x\": [17.1], \"y\": [\"BRA\"], \"type\": \"scatter\"}, {\"mode\": \"markers\", \"name\": \"CHL\", \"text\": [\"8.3\"], \"x\": [8.3], \"y\": [\"CHL\"], \"type\": \"scatter\"}, {\"mode\": \"markers\", \"name\": \"CHN\", \"text\": [\"17.2\"], \"x\": [17.2], \"y\": [\"CHN\"], \"type\": \"scatter\"}, {\"mode\": \"markers\", \"name\": \"EST\", \"text\": [\"5.0\"], \"x\": [5.0], \"y\": [\"EST\"], \"type\": \"scatter\"}, {\"mode\": \"markers\", \"name\": \"IND\", \"text\": [\"51.9\"], \"x\": [51.9], \"y\": [\"IND\"], \"type\": \"scatter\"}, {\"mode\": \"markers\", \"name\": \"IDN\", \"text\": [\"30.9\"], \"x\": [30.9], \"y\": [\"IDN\"], \"type\": \"scatter\"}, {\"mode\": \"markers\", \"name\": \"ISR\", \"text\": [\"3.9\"], \"x\": [3.9], \"y\": [\"ISR\"], \"type\": \"scatter\"}, {\"mode\": \"markers\", \"name\": \"RUS\", \"text\": [\"9.4\"], \"x\": [9.4], \"y\": [\"RUS\"], \"type\": \"scatter\"}, {\"mode\": \"markers\", \"name\": \"SVN\", \"text\": [\"2.8\"], \"x\": [2.8], \"y\": [\"SVN\"], \"type\": \"scatter\"}, {\"mode\": \"markers\", \"name\": \"ZAF\", \"text\": [\"48.6\"], \"x\": [48.6], \"y\": [\"ZAF\"], \"type\": \"scatter\"}, {\"mode\": \"markers\", \"name\": \"COL\", \"text\": [\"19.6\"], \"x\": [19.6], \"y\": [\"COL\"], \"type\": \"scatter\"}, {\"mode\": \"markers\", \"name\": \"LVA\", \"text\": [\"8.5\"], \"x\": [8.5], \"y\": [\"LVA\"], \"type\": \"scatter\"}, {\"mode\": \"markers\", \"name\": \"LTU\", \"text\": [\"6.3\"], \"x\": [6.3], \"y\": [\"LTU\"], \"type\": \"scatter\"}, {\"mode\": \"markers\", \"name\": \"CRI\", \"text\": [\"8.9\"], \"x\": [8.9], \"y\": [\"CRI\"], \"type\": \"scatter\"}], \"name\": \"2007\"}, {\"data\": [{\"mode\": \"markers\", \"name\": \"AUS\", \"text\": [\"4.1\"], \"x\": [4.1], \"y\": [\"AUS\"], \"type\": \"scatter\"}, {\"mode\": \"markers\", \"name\": \"AUT\", \"text\": [\"3.7\"], \"x\": [3.7], \"y\": [\"AUT\"], \"type\": \"scatter\"}, {\"mode\": \"markers\", \"name\": \"BEL\", \"text\": [\"3.8\"], \"x\": [3.8], \"y\": [\"BEL\"], \"type\": \"scatter\"}, {\"mode\": \"markers\", \"name\": \"CAN\", \"text\": [\"5.1\"], \"x\": [5.1], \"y\": [\"CAN\"], \"type\": \"scatter\"}, {\"mode\": \"markers\", \"name\": \"CZE\", \"text\": [\"2.8\"], \"x\": [2.8], \"y\": [\"CZE\"], \"type\": \"scatter\"}, {\"mode\": \"markers\", \"name\": \"DNK\", \"text\": [\"4.0\"], \"x\": [4.0], \"y\": [\"DNK\"], \"type\": \"scatter\"}, {\"mode\": \"markers\", \"name\": \"FIN\", \"text\": [\"2.6\"], \"x\": [2.6], \"y\": [\"FIN\"], \"type\": \"scatter\"}, {\"mode\": \"markers\", \"name\": \"FRA\", \"text\": [\"3.8\"], \"x\": [3.8], \"y\": [\"FRA\"], \"type\": \"scatter\"}, {\"mode\": \"markers\", \"name\": \"DEU\", \"text\": [\"3.5\"], \"x\": [3.5], \"y\": [\"DEU\"], \"type\": \"scatter\"}, {\"mode\": \"markers\", \"name\": \"GRC\", \"text\": [\"2.7\"], \"x\": [2.7], \"y\": [\"GRC\"], \"type\": \"scatter\"}, {\"mode\": \"markers\", \"name\": \"HUN\", \"text\": [\"5.6\"], \"x\": [5.6], \"y\": [\"HUN\"], \"type\": \"scatter\"}, {\"mode\": \"markers\", \"name\": \"ISL\", \"text\": [\"2.5\"], \"x\": [2.5], \"y\": [\"ISL\"], \"type\": \"scatter\"}, {\"mode\": \"markers\", \"name\": \"IRL\", \"text\": [\"3.4\"], \"x\": [3.4], \"y\": [\"IRL\"], \"type\": \"scatter\"}, {\"mode\": \"markers\", \"name\": \"ITA\", \"text\": [\"3.1\"], \"x\": [3.1], \"y\": [\"ITA\"], \"type\": \"scatter\"}, {\"mode\": \"markers\", \"name\": \"JPN\", \"text\": [\"2.6\"], \"x\": [2.6], \"y\": [\"JPN\"], \"type\": \"scatter\"}, {\"mode\": \"markers\", \"name\": \"KOR\", \"text\": [\"3.4\"], \"x\": [3.4], \"y\": [\"KOR\"], \"type\": \"scatter\"}, {\"mode\": \"markers\", \"name\": \"LUX\", \"text\": [\"1.8\"], \"x\": [1.8], \"y\": [\"LUX\"], \"type\": \"scatter\"}, {\"mode\": \"markers\", \"name\": \"MEX\", \"text\": [\"15.1\"], \"x\": [15.1], \"y\": [\"MEX\"], \"type\": \"scatter\"}, {\"mode\": \"markers\", \"name\": \"NLD\", \"text\": [\"3.8\"], \"x\": [3.8], \"y\": [\"NLD\"], \"type\": \"scatter\"}, {\"mode\": \"markers\", \"name\": \"NZL\", \"text\": [\"5.0\"], \"x\": [5.0], \"y\": [\"NZL\"], \"type\": \"scatter\"}, {\"mode\": \"markers\", \"name\": \"NOR\", \"text\": [\"2.7\"], \"x\": [2.7], \"y\": [\"NOR\"], \"type\": \"scatter\"}, {\"mode\": \"markers\", \"name\": \"POL\", \"text\": [\"5.6\"], \"x\": [5.6], \"y\": [\"POL\"], \"type\": \"scatter\"}, {\"mode\": \"markers\", \"name\": \"PRT\", \"text\": [\"3.3\"], \"x\": [3.3], \"y\": [\"PRT\"], \"type\": \"scatter\"}, {\"mode\": \"markers\", \"name\": \"SVK\", \"text\": [\"5.9\"], \"x\": [5.9], \"y\": [\"SVK\"], \"type\": \"scatter\"}, {\"mode\": \"markers\", \"name\": \"ESP\", \"text\": [\"3.3\"], \"x\": [3.3], \"y\": [\"ESP\"], \"type\": \"scatter\"}, {\"mode\": \"markers\", \"name\": \"SWE\", \"text\": [\"2.5\"], \"x\": [2.5], \"y\": [\"SWE\"], \"type\": \"scatter\"}, {\"mode\": \"markers\", \"name\": \"CHE\", \"text\": [\"4.0\"], \"x\": [4.0], \"y\": [\"CHE\"], \"type\": \"scatter\"}, {\"mode\": \"markers\", \"name\": \"TUR\", \"text\": [\"15.7\"], \"x\": [15.7], \"y\": [\"TUR\"], \"type\": \"scatter\"}, {\"mode\": \"markers\", \"name\": \"GBR\", \"text\": [\"4.6\"], \"x\": [4.6], \"y\": [\"GBR\"], \"type\": \"scatter\"}, {\"mode\": \"markers\", \"name\": \"USA\", \"text\": [\"6.6\"], \"x\": [6.6], \"y\": [\"USA\"], \"type\": \"scatter\"}, {\"mode\": \"markers\", \"name\": \"BRA\", \"text\": [\"16.2\"], \"x\": [16.2], \"y\": [\"BRA\"], \"type\": \"scatter\"}, {\"mode\": \"markers\", \"name\": \"CHL\", \"text\": [\"7.8\"], \"x\": [7.8], \"y\": [\"CHL\"], \"type\": \"scatter\"}, {\"mode\": \"markers\", \"name\": \"CHN\", \"text\": [\"15.8\"], \"x\": [15.8], \"y\": [\"CHN\"], \"type\": \"scatter\"}, {\"mode\": \"markers\", \"name\": \"EST\", \"text\": [\"5.0\"], \"x\": [5.0], \"y\": [\"EST\"], \"type\": \"scatter\"}, {\"mode\": \"markers\", \"name\": \"IND\", \"text\": [\"50.0\"], \"x\": [50.0], \"y\": [\"IND\"], \"type\": \"scatter\"}, {\"mode\": \"markers\", \"name\": \"IDN\", \"text\": [\"29.7\"], \"x\": [29.7], \"y\": [\"IDN\"], \"type\": \"scatter\"}, {\"mode\": \"markers\", \"name\": \"ISR\", \"text\": [\"3.8\"], \"x\": [3.8], \"y\": [\"ISR\"], \"type\": \"scatter\"}, {\"mode\": \"markers\", \"name\": \"RUS\", \"text\": [\"8.5\"], \"x\": [8.5], \"y\": [\"RUS\"], \"type\": \"scatter\"}, {\"mode\": \"markers\", \"name\": \"SVN\", \"text\": [\"2.4\"], \"x\": [2.4], \"y\": [\"SVN\"], \"type\": \"scatter\"}, {\"mode\": \"markers\", \"name\": \"ZAF\", \"text\": [\"46.6\"], \"x\": [46.6], \"y\": [\"ZAF\"], \"type\": \"scatter\"}, {\"mode\": \"markers\", \"name\": \"COL\", \"text\": [\"19.2\"], \"x\": [19.2], \"y\": [\"COL\"], \"type\": \"scatter\"}, {\"mode\": \"markers\", \"name\": \"LVA\", \"text\": [\"6.6\"], \"x\": [6.6], \"y\": [\"LVA\"], \"type\": \"scatter\"}, {\"mode\": \"markers\", \"name\": \"LTU\", \"text\": [\"5.5\"], \"x\": [5.5], \"y\": [\"LTU\"], \"type\": \"scatter\"}, {\"mode\": \"markers\", \"name\": \"CRI\", \"text\": [\"8.9\"], \"x\": [8.9], \"y\": [\"CRI\"], \"type\": \"scatter\"}], \"name\": \"2008\"}, {\"data\": [{\"mode\": \"markers\", \"name\": \"AUS\", \"text\": [\"4.2\"], \"x\": [4.2], \"y\": [\"AUS\"], \"type\": \"scatter\"}, {\"mode\": \"markers\", \"name\": \"AUT\", \"text\": [\"3.8\"], \"x\": [3.8], \"y\": [\"AUT\"], \"type\": \"scatter\"}, {\"mode\": \"markers\", \"name\": \"BEL\", \"text\": [\"3.5\"], \"x\": [3.5], \"y\": [\"BEL\"], \"type\": \"scatter\"}, {\"mode\": \"markers\", \"name\": \"CAN\", \"text\": [\"4.9\"], \"x\": [4.9], \"y\": [\"CAN\"], \"type\": \"scatter\"}, {\"mode\": \"markers\", \"name\": \"CZE\", \"text\": [\"2.9\"], \"x\": [2.9], \"y\": [\"CZE\"], \"type\": \"scatter\"}, {\"mode\": \"markers\", \"name\": \"DNK\", \"text\": [\"3.1\"], \"x\": [3.1], \"y\": [\"DNK\"], \"type\": \"scatter\"}, {\"mode\": \"markers\", \"name\": \"FIN\", \"text\": [\"2.6\"], \"x\": [2.6], \"y\": [\"FIN\"], \"type\": \"scatter\"}, {\"mode\": \"markers\", \"name\": \"FRA\", \"text\": [\"3.9\"], \"x\": [3.9], \"y\": [\"FRA\"], \"type\": \"scatter\"}, {\"mode\": \"markers\", \"name\": \"DEU\", \"text\": [\"3.5\"], \"x\": [3.5], \"y\": [\"DEU\"], \"type\": \"scatter\"}, {\"mode\": \"markers\", \"name\": \"GRC\", \"text\": [\"3.1\"], \"x\": [3.1], \"y\": [\"GRC\"], \"type\": \"scatter\"}, {\"mode\": \"markers\", \"name\": \"HUN\", \"text\": [\"5.1\"], \"x\": [5.1], \"y\": [\"HUN\"], \"type\": \"scatter\"}, {\"mode\": \"markers\", \"name\": \"ISL\", \"text\": [\"1.8\"], \"x\": [1.8], \"y\": [\"ISL\"], \"type\": \"scatter\"}, {\"mode\": \"markers\", \"name\": \"IRL\", \"text\": [\"3.3\"], \"x\": [3.3], \"y\": [\"IRL\"], \"type\": \"scatter\"}, {\"mode\": \"markers\", \"name\": \"ITA\", \"text\": [\"3.2\"], \"x\": [3.2], \"y\": [\"ITA\"], \"type\": \"scatter\"}, {\"mode\": \"markers\", \"name\": \"JPN\", \"text\": [\"2.4\"], \"x\": [2.4], \"y\": [\"JPN\"], \"type\": \"scatter\"}, {\"mode\": \"markers\", \"name\": \"KOR\", \"text\": [\"3.2\"], \"x\": [3.2], \"y\": [\"KOR\"], \"type\": \"scatter\"}, {\"mode\": \"markers\", \"name\": \"LUX\", \"text\": [\"2.5\"], \"x\": [2.5], \"y\": [\"LUX\"], \"type\": \"scatter\"}, {\"mode\": \"markers\", \"name\": \"MEX\", \"text\": [\"14.6\"], \"x\": [14.6], \"y\": [\"MEX\"], \"type\": \"scatter\"}, {\"mode\": \"markers\", \"name\": \"NLD\", \"text\": [\"3.8\"], \"x\": [3.8], \"y\": [\"NLD\"], \"type\": \"scatter\"}, {\"mode\": \"markers\", \"name\": \"NZL\", \"text\": [\"5.2\"], \"x\": [5.2], \"y\": [\"NZL\"], \"type\": \"scatter\"}, {\"mode\": \"markers\", \"name\": \"NOR\", \"text\": [\"3.1\"], \"x\": [3.1], \"y\": [\"NOR\"], \"type\": \"scatter\"}, {\"mode\": \"markers\", \"name\": \"POL\", \"text\": [\"5.6\"], \"x\": [5.6], \"y\": [\"POL\"], \"type\": \"scatter\"}, {\"mode\": \"markers\", \"name\": \"PRT\", \"text\": [\"3.6\"], \"x\": [3.6], \"y\": [\"PRT\"], \"type\": \"scatter\"}, {\"mode\": \"markers\", \"name\": \"SVK\", \"text\": [\"5.7\"], \"x\": [5.7], \"y\": [\"SVK\"], \"type\": \"scatter\"}, {\"mode\": \"markers\", \"name\": \"ESP\", \"text\": [\"3.2\"], \"x\": [3.2], \"y\": [\"ESP\"], \"type\": \"scatter\"}, {\"mode\": \"markers\", \"name\": \"SWE\", \"text\": [\"2.5\"], \"x\": [2.5], \"y\": [\"SWE\"], \"type\": \"scatter\"}, {\"mode\": \"markers\", \"name\": \"CHE\", \"text\": [\"4.3\"], \"x\": [4.3], \"y\": [\"CHE\"], \"type\": \"scatter\"}, {\"mode\": \"markers\", \"name\": \"TUR\", \"text\": [\"13.9\"], \"x\": [13.9], \"y\": [\"TUR\"], \"type\": \"scatter\"}, {\"mode\": \"markers\", \"name\": \"GBR\", \"text\": [\"4.5\"], \"x\": [4.5], \"y\": [\"GBR\"], \"type\": \"scatter\"}, {\"mode\": \"markers\", \"name\": \"USA\", \"text\": [\"6.4\"], \"x\": [6.4], \"y\": [\"USA\"], \"type\": \"scatter\"}, {\"mode\": \"markers\", \"name\": \"BRA\", \"text\": [\"15.4\"], \"x\": [15.4], \"y\": [\"BRA\"], \"type\": \"scatter\"}, {\"mode\": \"markers\", \"name\": \"CHL\", \"text\": [\"7.9\"], \"x\": [7.9], \"y\": [\"CHL\"], \"type\": \"scatter\"}, {\"mode\": \"markers\", \"name\": \"CHN\", \"text\": [\"14.6\"], \"x\": [14.6], \"y\": [\"CHN\"], \"type\": \"scatter\"}, {\"mode\": \"markers\", \"name\": \"EST\", \"text\": [\"3.6\"], \"x\": [3.6], \"y\": [\"EST\"], \"type\": \"scatter\"}, {\"mode\": \"markers\", \"name\": \"IND\", \"text\": [\"48.2\"], \"x\": [48.2], \"y\": [\"IND\"], \"type\": \"scatter\"}, {\"mode\": \"markers\", \"name\": \"IDN\", \"text\": [\"28.5\"], \"x\": [28.5], \"y\": [\"IDN\"], \"type\": \"scatter\"}, {\"mode\": \"markers\", \"name\": \"ISR\", \"text\": [\"3.8\"], \"x\": [3.8], \"y\": [\"ISR\"], \"type\": \"scatter\"}, {\"mode\": \"markers\", \"name\": \"RUS\", \"text\": [\"8.1\"], \"x\": [8.1], \"y\": [\"RUS\"], \"type\": \"scatter\"}, {\"mode\": \"markers\", \"name\": \"SVN\", \"text\": [\"2.4\"], \"x\": [2.4], \"y\": [\"SVN\"], \"type\": \"scatter\"}, {\"mode\": \"markers\", \"name\": \"ZAF\", \"text\": [\"41.1\"], \"x\": [41.1], \"y\": [\"ZAF\"], \"type\": \"scatter\"}, {\"mode\": \"markers\", \"name\": \"COL\", \"text\": [\"18.8\"], \"x\": [18.8], \"y\": [\"COL\"], \"type\": \"scatter\"}, {\"mode\": \"markers\", \"name\": \"LVA\", \"text\": [\"7.6\"], \"x\": [7.6], \"y\": [\"LVA\"], \"type\": \"scatter\"}, {\"mode\": \"markers\", \"name\": \"LTU\", \"text\": [\"5.6\"], \"x\": [5.6], \"y\": [\"LTU\"], \"type\": \"scatter\"}, {\"mode\": \"markers\", \"name\": \"CRI\", \"text\": [\"8.9\"], \"x\": [8.9], \"y\": [\"CRI\"], \"type\": \"scatter\"}], \"name\": \"2009\"}, {\"data\": [{\"mode\": \"markers\", \"name\": \"AUS\", \"text\": [\"4.1\"], \"x\": [4.1], \"y\": [\"AUS\"], \"type\": \"scatter\"}, {\"mode\": \"markers\", \"name\": \"AUT\", \"text\": [\"3.9\"], \"x\": [3.9], \"y\": [\"AUT\"], \"type\": \"scatter\"}, {\"mode\": \"markers\", \"name\": \"BEL\", \"text\": [\"3.6\"], \"x\": [3.6], \"y\": [\"BEL\"], \"type\": \"scatter\"}, {\"mode\": \"markers\", \"name\": \"CAN\", \"text\": [\"5.0\"], \"x\": [5.0], \"y\": [\"CAN\"], \"type\": \"scatter\"}, {\"mode\": \"markers\", \"name\": \"CZE\", \"text\": [\"2.7\"], \"x\": [2.7], \"y\": [\"CZE\"], \"type\": \"scatter\"}, {\"mode\": \"markers\", \"name\": \"DNK\", \"text\": [\"3.4\"], \"x\": [3.4], \"y\": [\"DNK\"], \"type\": \"scatter\"}, {\"mode\": \"markers\", \"name\": \"FIN\", \"text\": [\"2.3\"], \"x\": [2.3], \"y\": [\"FIN\"], \"type\": \"scatter\"}, {\"mode\": \"markers\", \"name\": \"FRA\", \"text\": [\"3.6\"], \"x\": [3.6], \"y\": [\"FRA\"], \"type\": \"scatter\"}, {\"mode\": \"markers\", \"name\": \"DEU\", \"text\": [\"3.4\"], \"x\": [3.4], \"y\": [\"DEU\"], \"type\": \"scatter\"}, {\"mode\": \"markers\", \"name\": \"GRC\", \"text\": [\"3.8\"], \"x\": [3.8], \"y\": [\"GRC\"], \"type\": \"scatter\"}, {\"mode\": \"markers\", \"name\": \"HUN\", \"text\": [\"5.3\"], \"x\": [5.3], \"y\": [\"HUN\"], \"type\": \"scatter\"}, {\"mode\": \"markers\", \"name\": \"ISL\", \"text\": [\"2.2\"], \"x\": [2.2], \"y\": [\"ISL\"], \"type\": \"scatter\"}, {\"mode\": \"markers\", \"name\": \"IRL\", \"text\": [\"3.6\"], \"x\": [3.6], \"y\": [\"IRL\"], \"type\": \"scatter\"}, {\"mode\": \"markers\", \"name\": \"ITA\", \"text\": [\"3.0\"], \"x\": [3.0], \"y\": [\"ITA\"], \"type\": \"scatter\"}, {\"mode\": \"markers\", \"name\": \"JPN\", \"text\": [\"2.3\"], \"x\": [2.3], \"y\": [\"JPN\"], \"type\": \"scatter\"}, {\"mode\": \"markers\", \"name\": \"KOR\", \"text\": [\"3.2\"], \"x\": [3.2], \"y\": [\"KOR\"], \"type\": \"scatter\"}, {\"mode\": \"markers\", \"name\": \"LUX\", \"text\": [\"3.4\"], \"x\": [3.4], \"y\": [\"LUX\"], \"type\": \"scatter\"}, {\"mode\": \"markers\", \"name\": \"MEX\", \"text\": [\"14.1\"], \"x\": [14.1], \"y\": [\"MEX\"], \"type\": \"scatter\"}, {\"mode\": \"markers\", \"name\": \"NLD\", \"text\": [\"3.8\"], \"x\": [3.8], \"y\": [\"NLD\"], \"type\": \"scatter\"}, {\"mode\": \"markers\", \"name\": \"NZL\", \"text\": [\"5.5\"], \"x\": [5.5], \"y\": [\"NZL\"], \"type\": \"scatter\"}, {\"mode\": \"markers\", \"name\": \"NOR\", \"text\": [\"2.8\"], \"x\": [2.8], \"y\": [\"NOR\"], \"type\": \"scatter\"}, {\"mode\": \"markers\", \"name\": \"POL\", \"text\": [\"5.0\"], \"x\": [5.0], \"y\": [\"POL\"], \"type\": \"scatter\"}, {\"mode\": \"markers\", \"name\": \"PRT\", \"text\": [\"2.5\"], \"x\": [2.5], \"y\": [\"PRT\"], \"type\": \"scatter\"}, {\"mode\": \"markers\", \"name\": \"SVK\", \"text\": [\"5.7\"], \"x\": [5.7], \"y\": [\"SVK\"], \"type\": \"scatter\"}, {\"mode\": \"markers\", \"name\": \"ESP\", \"text\": [\"3.2\"], \"x\": [3.2], \"y\": [\"ESP\"], \"type\": \"scatter\"}, {\"mode\": \"markers\", \"name\": \"SWE\", \"text\": [\"2.5\"], \"x\": [2.5], \"y\": [\"SWE\"], \"type\": \"scatter\"}, {\"mode\": \"markers\", \"name\": \"CHE\", \"text\": [\"3.8\"], \"x\": [3.8], \"y\": [\"CHE\"], \"type\": \"scatter\"}, {\"mode\": \"markers\", \"name\": \"TUR\", \"text\": [\"12.0\"], \"x\": [12.0], \"y\": [\"TUR\"], \"type\": \"scatter\"}, {\"mode\": \"markers\", \"name\": \"GBR\", \"text\": [\"4.2\"], \"x\": [4.2], \"y\": [\"GBR\"], \"type\": \"scatter\"}, {\"mode\": \"markers\", \"name\": \"USA\", \"text\": [\"6.1\"], \"x\": [6.1], \"y\": [\"USA\"], \"type\": \"scatter\"}, {\"mode\": \"markers\", \"name\": \"BRA\", \"text\": [\"14.8\"], \"x\": [14.8], \"y\": [\"BRA\"], \"type\": \"scatter\"}, {\"mode\": \"markers\", \"name\": \"CHL\", \"text\": [\"7.4\"], \"x\": [7.4], \"y\": [\"CHL\"], \"type\": \"scatter\"}, {\"mode\": \"markers\", \"name\": \"CHN\", \"text\": [\"13.5\"], \"x\": [13.5], \"y\": [\"CHN\"], \"type\": \"scatter\"}, {\"mode\": \"markers\", \"name\": \"EST\", \"text\": [\"3.3\"], \"x\": [3.3], \"y\": [\"EST\"], \"type\": \"scatter\"}, {\"mode\": \"markers\", \"name\": \"IND\", \"text\": [\"46.3\"], \"x\": [46.3], \"y\": [\"IND\"], \"type\": \"scatter\"}, {\"mode\": \"markers\", \"name\": \"IDN\", \"text\": [\"27.4\"], \"x\": [27.4], \"y\": [\"IDN\"], \"type\": \"scatter\"}, {\"mode\": \"markers\", \"name\": \"ISR\", \"text\": [\"3.7\"], \"x\": [3.7], \"y\": [\"ISR\"], \"type\": \"scatter\"}, {\"mode\": \"markers\", \"name\": \"RUS\", \"text\": [\"7.5\"], \"x\": [7.5], \"y\": [\"RUS\"], \"type\": \"scatter\"}, {\"mode\": \"markers\", \"name\": \"SVN\", \"text\": [\"2.5\"], \"x\": [2.5], \"y\": [\"SVN\"], \"type\": \"scatter\"}, {\"mode\": \"markers\", \"name\": \"ZAF\", \"text\": [\"38.2\"], \"x\": [38.2], \"y\": [\"ZAF\"], \"type\": \"scatter\"}, {\"mode\": \"markers\", \"name\": \"COL\", \"text\": [\"18.4\"], \"x\": [18.4], \"y\": [\"COL\"], \"type\": \"scatter\"}, {\"mode\": \"markers\", \"name\": \"LVA\", \"text\": [\"5.6\"], \"x\": [5.6], \"y\": [\"LVA\"], \"type\": \"scatter\"}, {\"mode\": \"markers\", \"name\": \"LTU\", \"text\": [\"5.0\"], \"x\": [5.0], \"y\": [\"LTU\"], \"type\": \"scatter\"}, {\"mode\": \"markers\", \"name\": \"CRI\", \"text\": [\"8.9\"], \"x\": [8.9], \"y\": [\"CRI\"], \"type\": \"scatter\"}], \"name\": \"2010\"}, {\"data\": [{\"mode\": \"markers\", \"name\": \"AUS\", \"text\": [\"3.8\"], \"x\": [3.8], \"y\": [\"AUS\"], \"type\": \"scatter\"}, {\"mode\": \"markers\", \"name\": \"AUT\", \"text\": [\"3.6\"], \"x\": [3.6], \"y\": [\"AUT\"], \"type\": \"scatter\"}, {\"mode\": \"markers\", \"name\": \"BEL\", \"text\": [\"3.4\"], \"x\": [3.4], \"y\": [\"BEL\"], \"type\": \"scatter\"}, {\"mode\": \"markers\", \"name\": \"CAN\", \"text\": [\"4.9\"], \"x\": [4.9], \"y\": [\"CAN\"], \"type\": \"scatter\"}, {\"mode\": \"markers\", \"name\": \"CZE\", \"text\": [\"2.7\"], \"x\": [2.7], \"y\": [\"CZE\"], \"type\": \"scatter\"}, {\"mode\": \"markers\", \"name\": \"DNK\", \"text\": [\"3.5\"], \"x\": [3.5], \"y\": [\"DNK\"], \"type\": \"scatter\"}, {\"mode\": \"markers\", \"name\": \"FIN\", \"text\": [\"2.4\"], \"x\": [2.4], \"y\": [\"FIN\"], \"type\": \"scatter\"}, {\"mode\": \"markers\", \"name\": \"FRA\", \"text\": [\"3.5\"], \"x\": [3.5], \"y\": [\"FRA\"], \"type\": \"scatter\"}, {\"mode\": \"markers\", \"name\": \"DEU\", \"text\": [\"3.6\"], \"x\": [3.6], \"y\": [\"DEU\"], \"type\": \"scatter\"}, {\"mode\": \"markers\", \"name\": \"GRC\", \"text\": [\"3.4\"], \"x\": [3.4], \"y\": [\"GRC\"], \"type\": \"scatter\"}, {\"mode\": \"markers\", \"name\": \"HUN\", \"text\": [\"4.9\"], \"x\": [4.9], \"y\": [\"HUN\"], \"type\": \"scatter\"}, {\"mode\": \"markers\", \"name\": \"ISL\", \"text\": [\"0.9\"], \"x\": [0.9], \"y\": [\"ISL\"], \"type\": \"scatter\"}, {\"mode\": \"markers\", \"name\": \"IRL\", \"text\": [\"3.5\"], \"x\": [3.5], \"y\": [\"IRL\"], \"type\": \"scatter\"}, {\"mode\": \"markers\", \"name\": \"ITA\", \"text\": [\"2.9\"], \"x\": [2.9], \"y\": [\"ITA\"], \"type\": \"scatter\"}, {\"mode\": \"markers\", \"name\": \"JPN\", \"text\": [\"2.3\"], \"x\": [2.3], \"y\": [\"JPN\"], \"type\": \"scatter\"}, {\"mode\": \"markers\", \"name\": \"KOR\", \"text\": [\"3.0\"], \"x\": [3.0], \"y\": [\"KOR\"], \"type\": \"scatter\"}, {\"mode\": \"markers\", \"name\": \"LUX\", \"text\": [\"4.3\"], \"x\": [4.3], \"y\": [\"LUX\"], \"type\": \"scatter\"}, {\"mode\": \"markers\", \"name\": \"MEX\", \"text\": [\"13.7\"], \"x\": [13.7], \"y\": [\"MEX\"], \"type\": \"scatter\"}, {\"mode\": \"markers\", \"name\": \"NLD\", \"text\": [\"3.6\"], \"x\": [3.6], \"y\": [\"NLD\"], \"type\": \"scatter\"}, {\"mode\": \"markers\", \"name\": \"NZL\", \"text\": [\"5.2\"], \"x\": [5.2], \"y\": [\"NZL\"], \"type\": \"scatter\"}, {\"mode\": \"markers\", \"name\": \"NOR\", \"text\": [\"2.4\"], \"x\": [2.4], \"y\": [\"NOR\"], \"type\": \"scatter\"}, {\"mode\": \"markers\", \"name\": \"POL\", \"text\": [\"4.7\"], \"x\": [4.7], \"y\": [\"POL\"], \"type\": \"scatter\"}, {\"mode\": \"markers\", \"name\": \"PRT\", \"text\": [\"3.1\"], \"x\": [3.1], \"y\": [\"PRT\"], \"type\": \"scatter\"}, {\"mode\": \"markers\", \"name\": \"SVK\", \"text\": [\"4.9\"], \"x\": [4.9], \"y\": [\"SVK\"], \"type\": \"scatter\"}, {\"mode\": \"markers\", \"name\": \"ESP\", \"text\": [\"3.1\"], \"x\": [3.1], \"y\": [\"ESP\"], \"type\": \"scatter\"}, {\"mode\": \"markers\", \"name\": \"SWE\", \"text\": [\"2.1\"], \"x\": [2.1], \"y\": [\"SWE\"], \"type\": \"scatter\"}, {\"mode\": \"markers\", \"name\": \"CHE\", \"text\": [\"3.8\"], \"x\": [3.8], \"y\": [\"CHE\"], \"type\": \"scatter\"}, {\"mode\": \"markers\", \"name\": \"TUR\", \"text\": [\"11.6\"], \"x\": [11.6], \"y\": [\"TUR\"], \"type\": \"scatter\"}, {\"mode\": \"markers\", \"name\": \"GBR\", \"text\": [\"4.2\"], \"x\": [4.2], \"y\": [\"GBR\"], \"type\": \"scatter\"}, {\"mode\": \"markers\", \"name\": \"USA\", \"text\": [\"6.1\"], \"x\": [6.1], \"y\": [\"USA\"], \"type\": \"scatter\"}, {\"mode\": \"markers\", \"name\": \"BRA\", \"text\": [\"14.4\"], \"x\": [14.4], \"y\": [\"BRA\"], \"type\": \"scatter\"}, {\"mode\": \"markers\", \"name\": \"CHL\", \"text\": [\"7.7\"], \"x\": [7.7], \"y\": [\"CHL\"], \"type\": \"scatter\"}, {\"mode\": \"markers\", \"name\": \"CHN\", \"text\": [\"12.5\"], \"x\": [12.5], \"y\": [\"CHN\"], \"type\": \"scatter\"}, {\"mode\": \"markers\", \"name\": \"EST\", \"text\": [\"2.5\"], \"x\": [2.5], \"y\": [\"EST\"], \"type\": \"scatter\"}, {\"mode\": \"markers\", \"name\": \"IND\", \"text\": [\"44.4\"], \"x\": [44.4], \"y\": [\"IND\"], \"type\": \"scatter\"}, {\"mode\": \"markers\", \"name\": \"IDN\", \"text\": [\"26.3\"], \"x\": [26.3], \"y\": [\"IDN\"], \"type\": \"scatter\"}, {\"mode\": \"markers\", \"name\": \"ISR\", \"text\": [\"3.5\"], \"x\": [3.5], \"y\": [\"ISR\"], \"type\": \"scatter\"}, {\"mode\": \"markers\", \"name\": \"RUS\", \"text\": [\"7.4\"], \"x\": [7.4], \"y\": [\"RUS\"], \"type\": \"scatter\"}, {\"mode\": \"markers\", \"name\": \"SVN\", \"text\": [\"2.9\"], \"x\": [2.9], \"y\": [\"SVN\"], \"type\": \"scatter\"}, {\"mode\": \"markers\", \"name\": \"ZAF\", \"text\": [\"37.1\"], \"x\": [37.1], \"y\": [\"ZAF\"], \"type\": \"scatter\"}, {\"mode\": \"markers\", \"name\": \"COL\", \"text\": [\"17.8\"], \"x\": [17.8], \"y\": [\"COL\"], \"type\": \"scatter\"}, {\"mode\": \"markers\", \"name\": \"LVA\", \"text\": [\"6.6\"], \"x\": [6.6], \"y\": [\"LVA\"], \"type\": \"scatter\"}, {\"mode\": \"markers\", \"name\": \"LTU\", \"text\": [\"4.8\"], \"x\": [4.8], \"y\": [\"LTU\"], \"type\": \"scatter\"}, {\"mode\": \"markers\", \"name\": \"CRI\", \"text\": [\"8.8\"], \"x\": [8.8], \"y\": [\"CRI\"], \"type\": \"scatter\"}], \"name\": \"2011\"}, {\"data\": [{\"mode\": \"markers\", \"name\": \"AUS\", \"text\": [\"3.3\"], \"x\": [3.3], \"y\": [\"AUS\"], \"type\": \"scatter\"}, {\"mode\": \"markers\", \"name\": \"AUT\", \"text\": [\"3.2\"], \"x\": [3.2], \"y\": [\"AUT\"], \"type\": \"scatter\"}, {\"mode\": \"markers\", \"name\": \"BEL\", \"text\": [\"3.8\"], \"x\": [3.8], \"y\": [\"BEL\"], \"type\": \"scatter\"}, {\"mode\": \"markers\", \"name\": \"CAN\", \"text\": [\"4.8\"], \"x\": [4.8], \"y\": [\"CAN\"], \"type\": \"scatter\"}, {\"mode\": \"markers\", \"name\": \"CZE\", \"text\": [\"2.6\"], \"x\": [2.6], \"y\": [\"CZE\"], \"type\": \"scatter\"}, {\"mode\": \"markers\", \"name\": \"DNK\", \"text\": [\"3.4\"], \"x\": [3.4], \"y\": [\"DNK\"], \"type\": \"scatter\"}, {\"mode\": \"markers\", \"name\": \"FIN\", \"text\": [\"2.4\"], \"x\": [2.4], \"y\": [\"FIN\"], \"type\": \"scatter\"}, {\"mode\": \"markers\", \"name\": \"FRA\", \"text\": [\"3.5\"], \"x\": [3.5], \"y\": [\"FRA\"], \"type\": \"scatter\"}, {\"mode\": \"markers\", \"name\": \"DEU\", \"text\": [\"3.3\"], \"x\": [3.3], \"y\": [\"DEU\"], \"type\": \"scatter\"}, {\"mode\": \"markers\", \"name\": \"GRC\", \"text\": [\"2.9\"], \"x\": [2.9], \"y\": [\"GRC\"], \"type\": \"scatter\"}, {\"mode\": \"markers\", \"name\": \"HUN\", \"text\": [\"4.9\"], \"x\": [4.9], \"y\": [\"HUN\"], \"type\": \"scatter\"}, {\"mode\": \"markers\", \"name\": \"ISL\", \"text\": [\"1.1\"], \"x\": [1.1], \"y\": [\"ISL\"], \"type\": \"scatter\"}, {\"mode\": \"markers\", \"name\": \"IRL\", \"text\": [\"3.5\"], \"x\": [3.5], \"y\": [\"IRL\"], \"type\": \"scatter\"}, {\"mode\": \"markers\", \"name\": \"ITA\", \"text\": [\"2.9\"], \"x\": [2.9], \"y\": [\"ITA\"], \"type\": \"scatter\"}, {\"mode\": \"markers\", \"name\": \"JPN\", \"text\": [\"2.2\"], \"x\": [2.2], \"y\": [\"JPN\"], \"type\": \"scatter\"}, {\"mode\": \"markers\", \"name\": \"KOR\", \"text\": [\"2.9\"], \"x\": [2.9], \"y\": [\"KOR\"], \"type\": \"scatter\"}, {\"mode\": \"markers\", \"name\": \"LUX\", \"text\": [\"2.5\"], \"x\": [2.5], \"y\": [\"LUX\"], \"type\": \"scatter\"}, {\"mode\": \"markers\", \"name\": \"MEX\", \"text\": [\"13.3\"], \"x\": [13.3], \"y\": [\"MEX\"], \"type\": \"scatter\"}, {\"mode\": \"markers\", \"name\": \"NLD\", \"text\": [\"3.7\"], \"x\": [3.7], \"y\": [\"NLD\"], \"type\": \"scatter\"}, {\"mode\": \"markers\", \"name\": \"NZL\", \"text\": [\"4.7\"], \"x\": [4.7], \"y\": [\"NZL\"], \"type\": \"scatter\"}, {\"mode\": \"markers\", \"name\": \"NOR\", \"text\": [\"2.5\"], \"x\": [2.5], \"y\": [\"NOR\"], \"type\": \"scatter\"}, {\"mode\": \"markers\", \"name\": \"POL\", \"text\": [\"4.6\"], \"x\": [4.6], \"y\": [\"POL\"], \"type\": \"scatter\"}, {\"mode\": \"markers\", \"name\": \"PRT\", \"text\": [\"3.4\"], \"x\": [3.4], \"y\": [\"PRT\"], \"type\": \"scatter\"}, {\"mode\": \"markers\", \"name\": \"SVK\", \"text\": [\"5.8\"], \"x\": [5.8], \"y\": [\"SVK\"], \"type\": \"scatter\"}, {\"mode\": \"markers\", \"name\": \"ESP\", \"text\": [\"3.1\"], \"x\": [3.1], \"y\": [\"ESP\"], \"type\": \"scatter\"}, {\"mode\": \"markers\", \"name\": \"SWE\", \"text\": [\"2.6\"], \"x\": [2.6], \"y\": [\"SWE\"], \"type\": \"scatter\"}, {\"mode\": \"markers\", \"name\": \"CHE\", \"text\": [\"3.6\"], \"x\": [3.6], \"y\": [\"CHE\"], \"type\": \"scatter\"}, {\"mode\": \"markers\", \"name\": \"TUR\", \"text\": [\"11.6\"], \"x\": [11.6], \"y\": [\"TUR\"], \"type\": \"scatter\"}, {\"mode\": \"markers\", \"name\": \"GBR\", \"text\": [\"4.0\"], \"x\": [4.0], \"y\": [\"GBR\"], \"type\": \"scatter\"}, {\"mode\": \"markers\", \"name\": \"USA\", \"text\": [\"6.0\"], \"x\": [6.0], \"y\": [\"USA\"], \"type\": \"scatter\"}, {\"mode\": \"markers\", \"name\": \"BRA\", \"text\": [\"14.3\"], \"x\": [14.3], \"y\": [\"BRA\"], \"type\": \"scatter\"}, {\"mode\": \"markers\", \"name\": \"CHL\", \"text\": [\"7.4\"], \"x\": [7.4], \"y\": [\"CHL\"], \"type\": \"scatter\"}, {\"mode\": \"markers\", \"name\": \"CHN\", \"text\": [\"11.5\"], \"x\": [11.5], \"y\": [\"CHN\"], \"type\": \"scatter\"}, {\"mode\": \"markers\", \"name\": \"EST\", \"text\": [\"3.6\"], \"x\": [3.6], \"y\": [\"EST\"], \"type\": \"scatter\"}, {\"mode\": \"markers\", \"name\": \"IND\", \"text\": [\"42.6\"], \"x\": [42.6], \"y\": [\"IND\"], \"type\": \"scatter\"}, {\"mode\": \"markers\", \"name\": \"IDN\", \"text\": [\"25.3\"], \"x\": [25.3], \"y\": [\"IDN\"], \"type\": \"scatter\"}, {\"mode\": \"markers\", \"name\": \"ISR\", \"text\": [\"3.6\"], \"x\": [3.6], \"y\": [\"ISR\"], \"type\": \"scatter\"}, {\"mode\": \"markers\", \"name\": \"RUS\", \"text\": [\"8.6\"], \"x\": [8.6], \"y\": [\"RUS\"], \"type\": \"scatter\"}, {\"mode\": \"markers\", \"name\": \"SVN\", \"text\": [\"1.6\"], \"x\": [1.6], \"y\": [\"SVN\"], \"type\": \"scatter\"}, {\"mode\": \"markers\", \"name\": \"ZAF\", \"text\": [\"36.8\"], \"x\": [36.8], \"y\": [\"ZAF\"], \"type\": \"scatter\"}, {\"mode\": \"markers\", \"name\": \"COL\", \"text\": [\"17.5\"], \"x\": [17.5], \"y\": [\"COL\"], \"type\": \"scatter\"}, {\"mode\": \"markers\", \"name\": \"LVA\", \"text\": [\"6.3\"], \"x\": [6.3], \"y\": [\"LVA\"], \"type\": \"scatter\"}, {\"mode\": \"markers\", \"name\": \"LTU\", \"text\": [\"3.9\"], \"x\": [3.9], \"y\": [\"LTU\"], \"type\": \"scatter\"}, {\"mode\": \"markers\", \"name\": \"CRI\", \"text\": [\"8.8\"], \"x\": [8.8], \"y\": [\"CRI\"], \"type\": \"scatter\"}], \"name\": \"2012\"}, {\"data\": [{\"mode\": \"markers\", \"name\": \"AUS\", \"text\": [\"3.6\"], \"x\": [3.6], \"y\": [\"AUS\"], \"type\": \"scatter\"}, {\"mode\": \"markers\", \"name\": \"AUT\", \"text\": [\"3.1\"], \"x\": [3.1], \"y\": [\"AUT\"], \"type\": \"scatter\"}, {\"mode\": \"markers\", \"name\": \"BEL\", \"text\": [\"3.5\"], \"x\": [3.5], \"y\": [\"BEL\"], \"type\": \"scatter\"}, {\"mode\": \"markers\", \"name\": \"CAN\", \"text\": [\"5.0\"], \"x\": [5.0], \"y\": [\"CAN\"], \"type\": \"scatter\"}, {\"mode\": \"markers\", \"name\": \"CZE\", \"text\": [\"2.5\"], \"x\": [2.5], \"y\": [\"CZE\"], \"type\": \"scatter\"}, {\"mode\": \"markers\", \"name\": \"DNK\", \"text\": [\"3.5\"], \"x\": [3.5], \"y\": [\"DNK\"], \"type\": \"scatter\"}, {\"mode\": \"markers\", \"name\": \"FIN\", \"text\": [\"1.8\"], \"x\": [1.8], \"y\": [\"FIN\"], \"type\": \"scatter\"}, {\"mode\": \"markers\", \"name\": \"FRA\", \"text\": [\"3.6\"], \"x\": [3.6], \"y\": [\"FRA\"], \"type\": \"scatter\"}, {\"mode\": \"markers\", \"name\": \"DEU\", \"text\": [\"3.3\"], \"x\": [3.3], \"y\": [\"DEU\"], \"type\": \"scatter\"}, {\"mode\": \"markers\", \"name\": \"GRC\", \"text\": [\"3.7\"], \"x\": [3.7], \"y\": [\"GRC\"], \"type\": \"scatter\"}, {\"mode\": \"markers\", \"name\": \"HUN\", \"text\": [\"5.0\"], \"x\": [5.0], \"y\": [\"HUN\"], \"type\": \"scatter\"}, {\"mode\": \"markers\", \"name\": \"ISL\", \"text\": [\"1.8\"], \"x\": [1.8], \"y\": [\"ISL\"], \"type\": \"scatter\"}, {\"mode\": \"markers\", \"name\": \"IRL\", \"text\": [\"3.6\"], \"x\": [3.6], \"y\": [\"IRL\"], \"type\": \"scatter\"}, {\"mode\": \"markers\", \"name\": \"ITA\", \"text\": [\"2.9\"], \"x\": [2.9], \"y\": [\"ITA\"], \"type\": \"scatter\"}, {\"mode\": \"markers\", \"name\": \"JPN\", \"text\": [\"2.1\"], \"x\": [2.1], \"y\": [\"JPN\"], \"type\": \"scatter\"}, {\"mode\": \"markers\", \"name\": \"KOR\", \"text\": [\"3.0\"], \"x\": [3.0], \"y\": [\"KOR\"], \"type\": \"scatter\"}, {\"mode\": \"markers\", \"name\": \"LUX\", \"text\": [\"3.9\"], \"x\": [3.9], \"y\": [\"LUX\"], \"type\": \"scatter\"}, {\"mode\": \"markers\", \"name\": \"MEX\", \"text\": [\"13.0\"], \"x\": [13.0], \"y\": [\"MEX\"], \"type\": \"scatter\"}, {\"mode\": \"markers\", \"name\": \"NLD\", \"text\": [\"3.8\"], \"x\": [3.8], \"y\": [\"NLD\"], \"type\": \"scatter\"}, {\"mode\": \"markers\", \"name\": \"NZL\", \"text\": [\"5.0\"], \"x\": [5.0], \"y\": [\"NZL\"], \"type\": \"scatter\"}, {\"mode\": \"markers\", \"name\": \"NOR\", \"text\": [\"2.4\"], \"x\": [2.4], \"y\": [\"NOR\"], \"type\": \"scatter\"}, {\"mode\": \"markers\", \"name\": \"POL\", \"text\": [\"4.6\"], \"x\": [4.6], \"y\": [\"POL\"], \"type\": \"scatter\"}, {\"mode\": \"markers\", \"name\": \"PRT\", \"text\": [\"2.9\"], \"x\": [2.9], \"y\": [\"PRT\"], \"type\": \"scatter\"}, {\"mode\": \"markers\", \"name\": \"SVK\", \"text\": [\"5.5\"], \"x\": [5.5], \"y\": [\"SVK\"], \"type\": \"scatter\"}, {\"mode\": \"markers\", \"name\": \"ESP\", \"text\": [\"2.7\"], \"x\": [2.7], \"y\": [\"ESP\"], \"type\": \"scatter\"}, {\"mode\": \"markers\", \"name\": \"SWE\", \"text\": [\"2.7\"], \"x\": [2.7], \"y\": [\"SWE\"], \"type\": \"scatter\"}, {\"mode\": \"markers\", \"name\": \"CHE\", \"text\": [\"3.9\"], \"x\": [3.9], \"y\": [\"CHE\"], \"type\": \"scatter\"}, {\"mode\": \"markers\", \"name\": \"TUR\", \"text\": [\"10.8\"], \"x\": [10.8], \"y\": [\"TUR\"], \"type\": \"scatter\"}, {\"mode\": \"markers\", \"name\": \"GBR\", \"text\": [\"3.9\"], \"x\": [3.9], \"y\": [\"GBR\"], \"type\": \"scatter\"}, {\"mode\": \"markers\", \"name\": \"USA\", \"text\": [\"6.0\"], \"x\": [6.0], \"y\": [\"USA\"], \"type\": \"scatter\"}, {\"mode\": \"markers\", \"name\": \"BRA\", \"text\": [\"14.3\"], \"x\": [14.3], \"y\": [\"BRA\"], \"type\": \"scatter\"}, {\"mode\": \"markers\", \"name\": \"CHL\", \"text\": [\"7.0\"], \"x\": [7.0], \"y\": [\"CHL\"], \"type\": \"scatter\"}, {\"mode\": \"markers\", \"name\": \"CHN\", \"text\": [\"10.6\"], \"x\": [10.6], \"y\": [\"CHN\"], \"type\": \"scatter\"}, {\"mode\": \"markers\", \"name\": \"EST\", \"text\": [\"2.1\"], \"x\": [2.1], \"y\": [\"EST\"], \"type\": \"scatter\"}, {\"mode\": \"markers\", \"name\": \"IND\", \"text\": [\"40.9\"], \"x\": [40.9], \"y\": [\"IND\"], \"type\": \"scatter\"}, {\"mode\": \"markers\", \"name\": \"IDN\", \"text\": [\"24.4\"], \"x\": [24.4], \"y\": [\"IDN\"], \"type\": \"scatter\"}, {\"mode\": \"markers\", \"name\": \"ISR\", \"text\": [\"3.1\"], \"x\": [3.1], \"y\": [\"ISR\"], \"type\": \"scatter\"}, {\"mode\": \"markers\", \"name\": \"RUS\", \"text\": [\"8.2\"], \"x\": [8.2], \"y\": [\"RUS\"], \"type\": \"scatter\"}, {\"mode\": \"markers\", \"name\": \"SVN\", \"text\": [\"2.9\"], \"x\": [2.9], \"y\": [\"SVN\"], \"type\": \"scatter\"}, {\"mode\": \"markers\", \"name\": \"ZAF\", \"text\": [\"35.3\"], \"x\": [35.3], \"y\": [\"ZAF\"], \"type\": \"scatter\"}, {\"mode\": \"markers\", \"name\": \"COL\", \"text\": [\"17.2\"], \"x\": [17.2], \"y\": [\"COL\"], \"type\": \"scatter\"}, {\"mode\": \"markers\", \"name\": \"LVA\", \"text\": [\"4.4\"], \"x\": [4.4], \"y\": [\"LVA\"], \"type\": \"scatter\"}, {\"mode\": \"markers\", \"name\": \"LTU\", \"text\": [\"3.7\"], \"x\": [3.7], \"y\": [\"LTU\"], \"type\": \"scatter\"}, {\"mode\": \"markers\", \"name\": \"CRI\", \"text\": [\"8.7\"], \"x\": [8.7], \"y\": [\"CRI\"], \"type\": \"scatter\"}], \"name\": \"2013\"}, {\"data\": [{\"mode\": \"markers\", \"name\": \"AUS\", \"text\": [\"3.4\"], \"x\": [3.4], \"y\": [\"AUS\"], \"type\": \"scatter\"}, {\"mode\": \"markers\", \"name\": \"AUT\", \"text\": [\"3.0\"], \"x\": [3.0], \"y\": [\"AUT\"], \"type\": \"scatter\"}, {\"mode\": \"markers\", \"name\": \"BEL\", \"text\": [\"3.4\"], \"x\": [3.4], \"y\": [\"BEL\"], \"type\": \"scatter\"}, {\"mode\": \"markers\", \"name\": \"CAN\", \"text\": [\"4.7\"], \"x\": [4.7], \"y\": [\"CAN\"], \"type\": \"scatter\"}, {\"mode\": \"markers\", \"name\": \"CZE\", \"text\": [\"2.4\"], \"x\": [2.4], \"y\": [\"CZE\"], \"type\": \"scatter\"}, {\"mode\": \"markers\", \"name\": \"DNK\", \"text\": [\"4.0\"], \"x\": [4.0], \"y\": [\"DNK\"], \"type\": \"scatter\"}, {\"mode\": \"markers\", \"name\": \"FIN\", \"text\": [\"2.2\"], \"x\": [2.2], \"y\": [\"FIN\"], \"type\": \"scatter\"}, {\"mode\": \"markers\", \"name\": \"FRA\", \"text\": [\"3.5\"], \"x\": [3.5], \"y\": [\"FRA\"], \"type\": \"scatter\"}, {\"mode\": \"markers\", \"name\": \"DEU\", \"text\": [\"3.2\"], \"x\": [3.2], \"y\": [\"DEU\"], \"type\": \"scatter\"}, {\"mode\": \"markers\", \"name\": \"GRC\", \"text\": [\"3.7\"], \"x\": [3.7], \"y\": [\"GRC\"], \"type\": \"scatter\"}, {\"mode\": \"markers\", \"name\": \"HUN\", \"text\": [\"4.5\"], \"x\": [4.5], \"y\": [\"HUN\"], \"type\": \"scatter\"}, {\"mode\": \"markers\", \"name\": \"ISL\", \"text\": [\"2.1\"], \"x\": [2.1], \"y\": [\"ISL\"], \"type\": \"scatter\"}, {\"mode\": \"markers\", \"name\": \"IRL\", \"text\": [\"3.3\"], \"x\": [3.3], \"y\": [\"IRL\"], \"type\": \"scatter\"}, {\"mode\": \"markers\", \"name\": \"ITA\", \"text\": [\"2.8\"], \"x\": [2.8], \"y\": [\"ITA\"], \"type\": \"scatter\"}, {\"mode\": \"markers\", \"name\": \"JPN\", \"text\": [\"2.1\"], \"x\": [2.1], \"y\": [\"JPN\"], \"type\": \"scatter\"}, {\"mode\": \"markers\", \"name\": \"KOR\", \"text\": [\"3.0\"], \"x\": [3.0], \"y\": [\"KOR\"], \"type\": \"scatter\"}, {\"mode\": \"markers\", \"name\": \"LUX\", \"text\": [\"2.8\"], \"x\": [2.8], \"y\": [\"LUX\"], \"type\": \"scatter\"}, {\"mode\": \"markers\", \"name\": \"MEX\", \"text\": [\"12.5\"], \"x\": [12.5], \"y\": [\"MEX\"], \"type\": \"scatter\"}, {\"mode\": \"markers\", \"name\": \"NLD\", \"text\": [\"3.6\"], \"x\": [3.6], \"y\": [\"NLD\"], \"type\": \"scatter\"}, {\"mode\": \"markers\", \"name\": \"NZL\", \"text\": [\"5.7\"], \"x\": [5.7], \"y\": [\"NZL\"], \"type\": \"scatter\"}, {\"mode\": \"markers\", \"name\": \"NOR\", \"text\": [\"2.4\"], \"x\": [2.4], \"y\": [\"NOR\"], \"type\": \"scatter\"}, {\"mode\": \"markers\", \"name\": \"POL\", \"text\": [\"4.2\"], \"x\": [4.2], \"y\": [\"POL\"], \"type\": \"scatter\"}, {\"mode\": \"markers\", \"name\": \"PRT\", \"text\": [\"2.9\"], \"x\": [2.9], \"y\": [\"PRT\"], \"type\": \"scatter\"}, {\"mode\": \"markers\", \"name\": \"SVK\", \"text\": [\"5.8\"], \"x\": [5.8], \"y\": [\"SVK\"], \"type\": \"scatter\"}, {\"mode\": \"markers\", \"name\": \"ESP\", \"text\": [\"2.8\"], \"x\": [2.8], \"y\": [\"ESP\"], \"type\": \"scatter\"}, {\"mode\": \"markers\", \"name\": \"SWE\", \"text\": [\"2.2\"], \"x\": [2.2], \"y\": [\"SWE\"], \"type\": \"scatter\"}, {\"mode\": \"markers\", \"name\": \"CHE\", \"text\": [\"3.9\"], \"x\": [3.9], \"y\": [\"CHE\"], \"type\": \"scatter\"}, {\"mode\": \"markers\", \"name\": \"TUR\", \"text\": [\"11.1\"], \"x\": [11.1], \"y\": [\"TUR\"], \"type\": \"scatter\"}, {\"mode\": \"markers\", \"name\": \"GBR\", \"text\": [\"3.9\"], \"x\": [3.9], \"y\": [\"GBR\"], \"type\": \"scatter\"}, {\"mode\": \"markers\", \"name\": \"USA\", \"text\": [\"5.8\"], \"x\": [5.8], \"y\": [\"USA\"], \"type\": \"scatter\"}, {\"mode\": \"markers\", \"name\": \"BRA\", \"text\": [\"14.4\"], \"x\": [14.4], \"y\": [\"BRA\"], \"type\": \"scatter\"}, {\"mode\": \"markers\", \"name\": \"CHL\", \"text\": [\"7.2\"], \"x\": [7.2], \"y\": [\"CHL\"], \"type\": \"scatter\"}, {\"mode\": \"markers\", \"name\": \"CHN\", \"text\": [\"9.8\"], \"x\": [9.8], \"y\": [\"CHN\"], \"type\": \"scatter\"}, {\"mode\": \"markers\", \"name\": \"EST\", \"text\": [\"2.7\"], \"x\": [2.7], \"y\": [\"EST\"], \"type\": \"scatter\"}, {\"mode\": \"markers\", \"name\": \"IND\", \"text\": [\"39.3\"], \"x\": [39.3], \"y\": [\"IND\"], \"type\": \"scatter\"}, {\"mode\": \"markers\", \"name\": \"IDN\", \"text\": [\"23.6\"], \"x\": [23.6], \"y\": [\"IDN\"], \"type\": \"scatter\"}, {\"mode\": \"markers\", \"name\": \"ISR\", \"text\": [\"3.1\"], \"x\": [3.1], \"y\": [\"ISR\"], \"type\": \"scatter\"}, {\"mode\": \"markers\", \"name\": \"RUS\", \"text\": [\"7.4\"], \"x\": [7.4], \"y\": [\"RUS\"], \"type\": \"scatter\"}, {\"mode\": \"markers\", \"name\": \"SVN\", \"text\": [\"1.8\"], \"x\": [1.8], \"y\": [\"SVN\"], \"type\": \"scatter\"}, {\"mode\": \"markers\", \"name\": \"ZAF\", \"text\": [\"34.4\"], \"x\": [34.4], \"y\": [\"ZAF\"], \"type\": \"scatter\"}, {\"mode\": \"markers\", \"name\": \"COL\", \"text\": [\"17.2\"], \"x\": [17.2], \"y\": [\"COL\"], \"type\": \"scatter\"}, {\"mode\": \"markers\", \"name\": \"LVA\", \"text\": [\"3.8\"], \"x\": [3.8], \"y\": [\"LVA\"], \"type\": \"scatter\"}, {\"mode\": \"markers\", \"name\": \"LTU\", \"text\": [\"3.9\"], \"x\": [3.9], \"y\": [\"LTU\"], \"type\": \"scatter\"}, {\"mode\": \"markers\", \"name\": \"CRI\", \"text\": [\"8.6\"], \"x\": [8.6], \"y\": [\"CRI\"], \"type\": \"scatter\"}], \"name\": \"2014\"}, {\"data\": [{\"mode\": \"markers\", \"name\": \"AUS\", \"text\": [\"3.2\"], \"x\": [3.2], \"y\": [\"AUS\"], \"type\": \"scatter\"}, {\"mode\": \"markers\", \"name\": \"AUT\", \"text\": [\"3.1\"], \"x\": [3.1], \"y\": [\"AUT\"], \"type\": \"scatter\"}, {\"mode\": \"markers\", \"name\": \"BEL\", \"text\": [\"3.3\"], \"x\": [3.3], \"y\": [\"BEL\"], \"type\": \"scatter\"}, {\"mode\": \"markers\", \"name\": \"CAN\", \"text\": [\"0\"], \"x\": [0], \"y\": [\"CAN\"], \"type\": \"scatter\"}, {\"mode\": \"markers\", \"name\": \"CZE\", \"text\": [\"2.5\"], \"x\": [2.5], \"y\": [\"CZE\"], \"type\": \"scatter\"}, {\"mode\": \"markers\", \"name\": \"DNK\", \"text\": [\"3.7\"], \"x\": [3.7], \"y\": [\"DNK\"], \"type\": \"scatter\"}, {\"mode\": \"markers\", \"name\": \"FIN\", \"text\": [\"1.7\"], \"x\": [1.7], \"y\": [\"FIN\"], \"type\": \"scatter\"}, {\"mode\": \"markers\", \"name\": \"FRA\", \"text\": [\"3.7\"], \"x\": [3.7], \"y\": [\"FRA\"], \"type\": \"scatter\"}, {\"mode\": \"markers\", \"name\": \"DEU\", \"text\": [\"3.3\"], \"x\": [3.3], \"y\": [\"DEU\"], \"type\": \"scatter\"}, {\"mode\": \"markers\", \"name\": \"GRC\", \"text\": [\"4.0\"], \"x\": [4.0], \"y\": [\"GRC\"], \"type\": \"scatter\"}, {\"mode\": \"markers\", \"name\": \"HUN\", \"text\": [\"4.2\"], \"x\": [4.2], \"y\": [\"HUN\"], \"type\": \"scatter\"}, {\"mode\": \"markers\", \"name\": \"ISL\", \"text\": [\"2.2\"], \"x\": [2.2], \"y\": [\"ISL\"], \"type\": \"scatter\"}, {\"mode\": \"markers\", \"name\": \"IRL\", \"text\": [\"3.4\"], \"x\": [3.4], \"y\": [\"IRL\"], \"type\": \"scatter\"}, {\"mode\": \"markers\", \"name\": \"ITA\", \"text\": [\"2.9\"], \"x\": [2.9], \"y\": [\"ITA\"], \"type\": \"scatter\"}, {\"mode\": \"markers\", \"name\": \"JPN\", \"text\": [\"1.9\"], \"x\": [1.9], \"y\": [\"JPN\"], \"type\": \"scatter\"}, {\"mode\": \"markers\", \"name\": \"KOR\", \"text\": [\"2.7\"], \"x\": [2.7], \"y\": [\"KOR\"], \"type\": \"scatter\"}, {\"mode\": \"markers\", \"name\": \"LUX\", \"text\": [\"2.8\"], \"x\": [2.8], \"y\": [\"LUX\"], \"type\": \"scatter\"}, {\"mode\": \"markers\", \"name\": \"MEX\", \"text\": [\"12.5\"], \"x\": [12.5], \"y\": [\"MEX\"], \"type\": \"scatter\"}, {\"mode\": \"markers\", \"name\": \"NLD\", \"text\": [\"3.3\"], \"x\": [3.3], \"y\": [\"NLD\"], \"type\": \"scatter\"}, {\"mode\": \"markers\", \"name\": \"NZL\", \"text\": [\"0\"], \"x\": [0], \"y\": [\"NZL\"], \"type\": \"scatter\"}, {\"mode\": \"markers\", \"name\": \"NOR\", \"text\": [\"2.3\"], \"x\": [2.3], \"y\": [\"NOR\"], \"type\": \"scatter\"}, {\"mode\": \"markers\", \"name\": \"POL\", \"text\": [\"4.0\"], \"x\": [4.0], \"y\": [\"POL\"], \"type\": \"scatter\"}, {\"mode\": \"markers\", \"name\": \"PRT\", \"text\": [\"2.9\"], \"x\": [2.9], \"y\": [\"PRT\"], \"type\": \"scatter\"}, {\"mode\": \"markers\", \"name\": \"SVK\", \"text\": [\"5.1\"], \"x\": [5.1], \"y\": [\"SVK\"], \"type\": \"scatter\"}, {\"mode\": \"markers\", \"name\": \"ESP\", \"text\": [\"2.7\"], \"x\": [2.7], \"y\": [\"ESP\"], \"type\": \"scatter\"}, {\"mode\": \"markers\", \"name\": \"SWE\", \"text\": [\"2.5\"], \"x\": [2.5], \"y\": [\"SWE\"], \"type\": \"scatter\"}, {\"mode\": \"markers\", \"name\": \"CHE\", \"text\": [\"3.9\"], \"x\": [3.9], \"y\": [\"CHE\"], \"type\": \"scatter\"}, {\"mode\": \"markers\", \"name\": \"TUR\", \"text\": [\"10.2\"], \"x\": [10.2], \"y\": [\"TUR\"], \"type\": \"scatter\"}, {\"mode\": \"markers\", \"name\": \"GBR\", \"text\": [\"3.9\"], \"x\": [3.9], \"y\": [\"GBR\"], \"type\": \"scatter\"}, {\"mode\": \"markers\", \"name\": \"USA\", \"text\": [\"5.9\"], \"x\": [5.9], \"y\": [\"USA\"], \"type\": \"scatter\"}, {\"mode\": \"markers\", \"name\": \"BRA\", \"text\": [\"14.6\"], \"x\": [14.6], \"y\": [\"BRA\"], \"type\": \"scatter\"}, {\"mode\": \"markers\", \"name\": \"CHL\", \"text\": [\"6.9\"], \"x\": [6.9], \"y\": [\"CHL\"], \"type\": \"scatter\"}, {\"mode\": \"markers\", \"name\": \"CHN\", \"text\": [\"9.2\"], \"x\": [9.2], \"y\": [\"CHN\"], \"type\": \"scatter\"}, {\"mode\": \"markers\", \"name\": \"EST\", \"text\": [\"2.5\"], \"x\": [2.5], \"y\": [\"EST\"], \"type\": \"scatter\"}, {\"mode\": \"markers\", \"name\": \"IND\", \"text\": [\"37.9\"], \"x\": [37.9], \"y\": [\"IND\"], \"type\": \"scatter\"}, {\"mode\": \"markers\", \"name\": \"IDN\", \"text\": [\"22.8\"], \"x\": [22.8], \"y\": [\"IDN\"], \"type\": \"scatter\"}, {\"mode\": \"markers\", \"name\": \"ISR\", \"text\": [\"3.1\"], \"x\": [3.1], \"y\": [\"ISR\"], \"type\": \"scatter\"}, {\"mode\": \"markers\", \"name\": \"RUS\", \"text\": [\"6.5\"], \"x\": [6.5], \"y\": [\"RUS\"], \"type\": \"scatter\"}, {\"mode\": \"markers\", \"name\": \"SVN\", \"text\": [\"1.6\"], \"x\": [1.6], \"y\": [\"SVN\"], \"type\": \"scatter\"}, {\"mode\": \"markers\", \"name\": \"ZAF\", \"text\": [\"33.6\"], \"x\": [33.6], \"y\": [\"ZAF\"], \"type\": \"scatter\"}, {\"mode\": \"markers\", \"name\": \"COL\", \"text\": [\"17.1\"], \"x\": [17.1], \"y\": [\"COL\"], \"type\": \"scatter\"}, {\"mode\": \"markers\", \"name\": \"LVA\", \"text\": [\"4.1\"], \"x\": [4.1], \"y\": [\"LVA\"], \"type\": \"scatter\"}, {\"mode\": \"markers\", \"name\": \"LTU\", \"text\": [\"4.2\"], \"x\": [4.2], \"y\": [\"LTU\"], \"type\": \"scatter\"}, {\"mode\": \"markers\", \"name\": \"CRI\", \"text\": [\"8.5\"], \"x\": [8.5], \"y\": [\"CRI\"], \"type\": \"scatter\"}], \"name\": \"2015\"}, {\"data\": [{\"mode\": \"markers\", \"name\": \"AUS\", \"text\": [\"3.1\"], \"x\": [3.1], \"y\": [\"AUS\"], \"type\": \"scatter\"}, {\"mode\": \"markers\", \"name\": \"AUT\", \"text\": [\"3.1\"], \"x\": [3.1], \"y\": [\"AUT\"], \"type\": \"scatter\"}, {\"mode\": \"markers\", \"name\": \"BEL\", \"text\": [\"3.2\"], \"x\": [3.2], \"y\": [\"BEL\"], \"type\": \"scatter\"}, {\"mode\": \"markers\", \"name\": \"CAN\", \"text\": [\"0\"], \"x\": [0], \"y\": [\"CAN\"], \"type\": \"scatter\"}, {\"mode\": \"markers\", \"name\": \"CZE\", \"text\": [\"2.8\"], \"x\": [2.8], \"y\": [\"CZE\"], \"type\": \"scatter\"}, {\"mode\": \"markers\", \"name\": \"DNK\", \"text\": [\"3.1\"], \"x\": [3.1], \"y\": [\"DNK\"], \"type\": \"scatter\"}, {\"mode\": \"markers\", \"name\": \"FIN\", \"text\": [\"1.9\"], \"x\": [1.9], \"y\": [\"FIN\"], \"type\": \"scatter\"}, {\"mode\": \"markers\", \"name\": \"FRA\", \"text\": [\"3.7\"], \"x\": [3.7], \"y\": [\"FRA\"], \"type\": \"scatter\"}, {\"mode\": \"markers\", \"name\": \"DEU\", \"text\": [\"3.4\"], \"x\": [3.4], \"y\": [\"DEU\"], \"type\": \"scatter\"}, {\"mode\": \"markers\", \"name\": \"GRC\", \"text\": [\"4.2\"], \"x\": [4.2], \"y\": [\"GRC\"], \"type\": \"scatter\"}, {\"mode\": \"markers\", \"name\": \"HUN\", \"text\": [\"3.9\"], \"x\": [3.9], \"y\": [\"HUN\"], \"type\": \"scatter\"}, {\"mode\": \"markers\", \"name\": \"ISL\", \"text\": [\"0.7\"], \"x\": [0.7], \"y\": [\"ISL\"], \"type\": \"scatter\"}, {\"mode\": \"markers\", \"name\": \"IRL\", \"text\": [\"3.0\"], \"x\": [3.0], \"y\": [\"IRL\"], \"type\": \"scatter\"}, {\"mode\": \"markers\", \"name\": \"ITA\", \"text\": [\"2.8\"], \"x\": [2.8], \"y\": [\"ITA\"], \"type\": \"scatter\"}, {\"mode\": \"markers\", \"name\": \"JPN\", \"text\": [\"2.0\"], \"x\": [2.0], \"y\": [\"JPN\"], \"type\": \"scatter\"}, {\"mode\": \"markers\", \"name\": \"KOR\", \"text\": [\"2.8\"], \"x\": [2.8], \"y\": [\"KOR\"], \"type\": \"scatter\"}, {\"mode\": \"markers\", \"name\": \"LUX\", \"text\": [\"3.8\"], \"x\": [3.8], \"y\": [\"LUX\"], \"type\": \"scatter\"}, {\"mode\": \"markers\", \"name\": \"MEX\", \"text\": [\"12.1\"], \"x\": [12.1], \"y\": [\"MEX\"], \"type\": \"scatter\"}, {\"mode\": \"markers\", \"name\": \"NLD\", \"text\": [\"3.5\"], \"x\": [3.5], \"y\": [\"NLD\"], \"type\": \"scatter\"}, {\"mode\": \"markers\", \"name\": \"NZL\", \"text\": [\"0\"], \"x\": [0], \"y\": [\"NZL\"], \"type\": \"scatter\"}, {\"mode\": \"markers\", \"name\": \"NOR\", \"text\": [\"2.2\"], \"x\": [2.2], \"y\": [\"NOR\"], \"type\": \"scatter\"}, {\"mode\": \"markers\", \"name\": \"POL\", \"text\": [\"4.0\"], \"x\": [4.0], \"y\": [\"POL\"], \"type\": \"scatter\"}, {\"mode\": \"markers\", \"name\": \"PRT\", \"text\": [\"3.2\"], \"x\": [3.2], \"y\": [\"PRT\"], \"type\": \"scatter\"}, {\"mode\": \"markers\", \"name\": \"SVK\", \"text\": [\"5.4\"], \"x\": [5.4], \"y\": [\"SVK\"], \"type\": \"scatter\"}, {\"mode\": \"markers\", \"name\": \"ESP\", \"text\": [\"2.7\"], \"x\": [2.7], \"y\": [\"ESP\"], \"type\": \"scatter\"}, {\"mode\": \"markers\", \"name\": \"SWE\", \"text\": [\"2.5\"], \"x\": [2.5], \"y\": [\"SWE\"], \"type\": \"scatter\"}, {\"mode\": \"markers\", \"name\": \"CHE\", \"text\": [\"3.6\"], \"x\": [3.6], \"y\": [\"CHE\"], \"type\": \"scatter\"}, {\"mode\": \"markers\", \"name\": \"TUR\", \"text\": [\"10.0\"], \"x\": [10.0], \"y\": [\"TUR\"], \"type\": \"scatter\"}, {\"mode\": \"markers\", \"name\": \"GBR\", \"text\": [\"3.8\"], \"x\": [3.8], \"y\": [\"GBR\"], \"type\": \"scatter\"}, {\"mode\": \"markers\", \"name\": \"USA\", \"text\": [\"0\"], \"x\": [0], \"y\": [\"USA\"], \"type\": \"scatter\"}, {\"mode\": \"markers\", \"name\": \"BRA\", \"text\": [\"0\"], \"x\": [0], \"y\": [\"BRA\"], \"type\": \"scatter\"}, {\"mode\": \"markers\", \"name\": \"CHL\", \"text\": [\"0\"], \"x\": [0], \"y\": [\"CHL\"], \"type\": \"scatter\"}, {\"mode\": \"markers\", \"name\": \"CHN\", \"text\": [\"0\"], \"x\": [0], \"y\": [\"CHN\"], \"type\": \"scatter\"}, {\"mode\": \"markers\", \"name\": \"EST\", \"text\": [\"2.3\"], \"x\": [2.3], \"y\": [\"EST\"], \"type\": \"scatter\"}, {\"mode\": \"markers\", \"name\": \"IND\", \"text\": [\"0\"], \"x\": [0], \"y\": [\"IND\"], \"type\": \"scatter\"}, {\"mode\": \"markers\", \"name\": \"IDN\", \"text\": [\"0\"], \"x\": [0], \"y\": [\"IDN\"], \"type\": \"scatter\"}, {\"mode\": \"markers\", \"name\": \"ISR\", \"text\": [\"3.1\"], \"x\": [3.1], \"y\": [\"ISR\"], \"type\": \"scatter\"}, {\"mode\": \"markers\", \"name\": \"RUS\", \"text\": [\"6.0\"], \"x\": [6.0], \"y\": [\"RUS\"], \"type\": \"scatter\"}, {\"mode\": \"markers\", \"name\": \"SVN\", \"text\": [\"2.0\"], \"x\": [2.0], \"y\": [\"SVN\"], \"type\": \"scatter\"}, {\"mode\": \"markers\", \"name\": \"ZAF\", \"text\": [\"0\"], \"x\": [0], \"y\": [\"ZAF\"], \"type\": \"scatter\"}, {\"mode\": \"markers\", \"name\": \"COL\", \"text\": [\"0\"], \"x\": [0], \"y\": [\"COL\"], \"type\": \"scatter\"}, {\"mode\": \"markers\", \"name\": \"LVA\", \"text\": [\"3.7\"], \"x\": [3.7], \"y\": [\"LVA\"], \"type\": \"scatter\"}, {\"mode\": \"markers\", \"name\": \"LTU\", \"text\": [\"4.5\"], \"x\": [4.5], \"y\": [\"LTU\"], \"type\": \"scatter\"}, {\"mode\": \"markers\", \"name\": \"CRI\", \"text\": [\"0\"], \"x\": [0], \"y\": [\"CRI\"], \"type\": \"scatter\"}], \"name\": \"2016\"}]);}).then(function(){Plotly.animate('12660fa0-81e0-41c9-886d-58bf6724beb4');})\n",
       "    }\n",
       "        });</script>"
      ],
      "text/vnd.plotly.v1+html": [
       "<div id=\"12660fa0-81e0-41c9-886d-58bf6724beb4\" style=\"height: 1000px; width: 1000px;\" class=\"plotly-graph-div\"></div><script type=\"text/javascript\">require([\"plotly\"], function(Plotly) { window.PLOTLYENV=window.PLOTLYENV || {};window.PLOTLYENV.BASE_URL=\"https://plot.ly\";\n",
       "    if (document.getElementById(\"12660fa0-81e0-41c9-886d-58bf6724beb4\")) {\n",
       "        Plotly.plot(\n",
       "            '12660fa0-81e0-41c9-886d-58bf6724beb4',\n",
       "            [{\"mode\": \"markers\", \"name\": \"AUS\", \"text\": [\"10.7\"], \"x\": [10.7], \"y\": [\"AUS\"], \"type\": \"scatter\", \"uid\": \"9f927c4c-0049-4bdb-ab93-e7942eaad29c\"}, {\"mode\": \"markers\", \"name\": \"AUT\", \"text\": [\"14.3\"], \"x\": [14.3], \"y\": [\"AUT\"], \"type\": \"scatter\", \"uid\": \"7e23a11b-6109-42de-a0d7-c26a3f2caf10\"}, {\"mode\": \"markers\", \"name\": \"BEL\", \"text\": [\"12.1\"], \"x\": [12.1], \"y\": [\"BEL\"], \"type\": \"scatter\", \"uid\": \"14f35899-347f-4008-aa68-ad7bcca010d2\"}, {\"mode\": \"markers\", \"name\": \"CAN\", \"text\": [\"10.4\"], \"x\": [10.4], \"y\": [\"CAN\"], \"type\": \"scatter\", \"uid\": \"bf4dea7f-d3eb-4697-8060-952ac80482ca\"}, {\"mode\": \"markers\", \"name\": \"CZE\", \"text\": [\"16.9\"], \"x\": [16.9], \"y\": [\"CZE\"], \"type\": \"scatter\", \"uid\": \"7229bc4d-42ad-48f1-9975-c668a77575f1\"}, {\"mode\": \"markers\", \"name\": \"DNK\", \"text\": [\"8.4\"], \"x\": [8.4], \"y\": [\"DNK\"], \"type\": \"scatter\", \"uid\": \"423f44c2-e82e-41fe-a549-fcc5aaf74260\"}, {\"mode\": \"markers\", \"name\": \"FIN\", \"text\": [\"7.6\"], \"x\": [7.6], \"y\": [\"FIN\"], \"type\": \"scatter\", \"uid\": \"d2c19c20-0f6c-476b-ac1e-00fe02889cb4\"}, {\"mode\": \"markers\", \"name\": \"FRA\", \"text\": [\"10.0\"], \"x\": [10.0], \"y\": [\"FRA\"], \"type\": \"scatter\", \"uid\": \"e7163900-2c5f-4d38-9d18-5775c5c49824\"}, {\"mode\": \"markers\", \"name\": \"DEU\", \"text\": [\"12.4\"], \"x\": [12.4], \"y\": [\"DEU\"], \"type\": \"scatter\", \"uid\": \"9b1c44de-1562-4114-bb77-5be624ac73bc\"}, {\"mode\": \"markers\", \"name\": \"GRC\", \"text\": [\"17.9\"], \"x\": [17.9], \"y\": [\"GRC\"], \"type\": \"scatter\", \"uid\": \"4685f2df-f7e6-4d52-9c09-c3d28a4d1264\"}, {\"mode\": \"markers\", \"name\": \"HUN\", \"text\": [\"23.2\"], \"x\": [23.2], \"y\": [\"HUN\"], \"type\": \"scatter\", \"uid\": \"a40c46ec-b7aa-41b1-9bc3-9541cdf708e5\"}, {\"mode\": \"markers\", \"name\": \"ISL\", \"text\": [\"7.7\"], \"x\": [7.7], \"y\": [\"ISL\"], \"type\": \"scatter\", \"uid\": \"27e8f673-ba47-47cb-9d54-75af2d5ce6c4\"}, {\"mode\": \"markers\", \"name\": \"IRL\", \"text\": [\"11.1\"], \"x\": [11.1], \"y\": [\"IRL\"], \"type\": \"scatter\", \"uid\": \"45713627-b7af-4437-b69d-92afa6c0cd0f\"}, {\"mode\": \"markers\", \"name\": \"ITA\", \"text\": [\"14.6\"], \"x\": [14.6], \"y\": [\"ITA\"], \"type\": \"scatter\", \"uid\": \"3a867150-419b-4d6b-982f-45a85ce99d25\"}, {\"mode\": \"markers\", \"name\": \"JPN\", \"text\": [\"7.5\"], \"x\": [7.5], \"y\": [\"JPN\"], \"type\": \"scatter\", \"uid\": \"69f29e15-bf13-4134-859f-24a9137e9a86\"}, {\"mode\": \"markers\", \"name\": \"KOR\", \"text\": [\"0\"], \"x\": [0], \"y\": [\"KOR\"], \"type\": \"scatter\", \"uid\": \"12909aa5-fc5c-4a68-b6a8-3935409f02ac\"}, {\"mode\": \"markers\", \"name\": \"LUX\", \"text\": [\"11.5\"], \"x\": [11.5], \"y\": [\"LUX\"], \"type\": \"scatter\", \"uid\": \"68dd8461-0d92-4119-9224-b8742e6ef03e\"}, {\"mode\": \"markers\", \"name\": \"MEX\", \"text\": [\"52.6\"], \"x\": [52.6], \"y\": [\"MEX\"], \"type\": \"scatter\", \"uid\": \"01aa0321-e76e-4a2e-817b-553547f2d164\"}, {\"mode\": \"markers\", \"name\": \"NLD\", \"text\": [\"8.6\"], \"x\": [8.6], \"y\": [\"NLD\"], \"type\": \"scatter\", \"uid\": \"807b2597-6a05-46d5-a3e8-0bf2105454dd\"}, {\"mode\": \"markers\", \"name\": \"NZL\", \"text\": [\"13.0\"], \"x\": [13.0], \"y\": [\"NZL\"], \"type\": \"scatter\", \"uid\": \"4c26be1d-4b69-4896-83c2-5ba14e35a930\"}, {\"mode\": \"markers\", \"name\": \"NOR\", \"text\": [\"8.1\"], \"x\": [8.1], \"y\": [\"NOR\"], \"type\": \"scatter\", \"uid\": \"c4272e31-df1b-442d-b559-5bb48e56bb87\"}, {\"mode\": \"markers\", \"name\": \"POL\", \"text\": [\"25.4\"], \"x\": [25.4], \"y\": [\"POL\"], \"type\": \"scatter\", \"uid\": \"ab0637ca-f510-43e0-b0f4-62a961908983\"}, {\"mode\": \"markers\", \"name\": \"PRT\", \"text\": [\"24.3\"], \"x\": [24.3], \"y\": [\"PRT\"], \"type\": \"scatter\", \"uid\": \"c6eccba2-8b66-452f-bdae-e5e26dfb1551\"}, {\"mode\": \"markers\", \"name\": \"SVK\", \"text\": [\"20.9\"], \"x\": [20.9], \"y\": [\"SVK\"], \"type\": \"scatter\", \"uid\": \"93e2ba22-d0e1-4852-9c4c-00088c6ed4c5\"}, {\"mode\": \"markers\", \"name\": \"ESP\", \"text\": [\"12.3\"], \"x\": [12.3], \"y\": [\"ESP\"], \"type\": \"scatter\", \"uid\": \"88e2617c-f556-49ca-bf39-e17d8c05ac40\"}, {\"mode\": \"markers\", \"name\": \"SWE\", \"text\": [\"6.9\"], \"x\": [6.9], \"y\": [\"SWE\"], \"type\": \"scatter\", \"uid\": \"9780d2be-f952-41c0-9416-4475d50f7604\"}, {\"mode\": \"markers\", \"name\": \"CHE\", \"text\": [\"9.1\"], \"x\": [9.1], \"y\": [\"CHE\"], \"type\": \"scatter\", \"uid\": \"e8ed0e6e-8aa4-492f-ab21-1c6c5da5659f\"}, {\"mode\": \"markers\", \"name\": \"TUR\", \"text\": [\"0\"], \"x\": [0], \"y\": [\"TUR\"], \"type\": \"scatter\", \"uid\": \"8247cf7b-bee4-41d1-bb49-ffeeb7ab3978\"}, {\"mode\": \"markers\", \"name\": \"GBR\", \"text\": [\"12.1\"], \"x\": [12.1], \"y\": [\"GBR\"], \"type\": \"scatter\", \"uid\": \"ce381ed0-9093-4e7f-902b-6775759530de\"}, {\"mode\": \"markers\", \"name\": \"USA\", \"text\": [\"12.6\"], \"x\": [12.6], \"y\": [\"USA\"], \"type\": \"scatter\", \"uid\": \"11d88525-e1fa-4f82-8e30-c06b98618164\"}, {\"mode\": \"markers\", \"name\": \"BRA\", \"text\": [\"75.9\"], \"x\": [75.9], \"y\": [\"BRA\"], \"type\": \"scatter\", \"uid\": \"72cf6e6e-2ed4-498d-8818-ac1adb3d3c70\"}, {\"mode\": \"markers\", \"name\": \"CHL\", \"text\": [\"33.0\"], \"x\": [33.0], \"y\": [\"CHL\"], \"type\": \"scatter\", \"uid\": \"caa00ac6-7c6e-4f3d-b474-e2778f8ebcc9\"}, {\"mode\": \"markers\", \"name\": \"CHN\", \"text\": [\"48.0\"], \"x\": [48.0], \"y\": [\"CHN\"], \"type\": \"scatter\", \"uid\": \"1183494f-9973-47bf-93aa-27a93849300c\"}, {\"mode\": \"markers\", \"name\": \"EST\", \"text\": [\"17.1\"], \"x\": [17.1], \"y\": [\"EST\"], \"type\": \"scatter\", \"uid\": \"d9e381ee-759c-45c5-a04b-5539cc4698b7\"}, {\"mode\": \"markers\", \"name\": \"IND\", \"text\": [\"114.3\"], \"x\": [114.3], \"y\": [\"IND\"], \"type\": \"scatter\", \"uid\": \"41294108-bb1c-4877-b87b-c61c9dfa73a7\"}, {\"mode\": \"markers\", \"name\": \"IDN\", \"text\": [\"85.4\"], \"x\": [85.4], \"y\": [\"IDN\"], \"type\": \"scatter\", \"uid\": \"814c4879-0a1d-4925-8891-9bd56ff6ef5c\"}, {\"mode\": \"markers\", \"name\": \"ISR\", \"text\": [\"15.6\"], \"x\": [15.6], \"y\": [\"ISR\"], \"type\": \"scatter\", \"uid\": \"6e9888eb-611c-4f0a-b578-183b55187c0d\"}, {\"mode\": \"markers\", \"name\": \"RUS\", \"text\": [\"22.0\"], \"x\": [22.0], \"y\": [\"RUS\"], \"type\": \"scatter\", \"uid\": \"2cb7f567-a24a-44d2-a4a2-01e0da3ae28b\"}, {\"mode\": \"markers\", \"name\": \"SVN\", \"text\": [\"15.3\"], \"x\": [15.3], \"y\": [\"SVN\"], \"type\": \"scatter\", \"uid\": \"a8031eb7-45f9-40e5-9fd8-4917c3114d4a\"}, {\"mode\": \"markers\", \"name\": \"ZAF\", \"text\": [\"68.0\"], \"x\": [68.0], \"y\": [\"ZAF\"], \"type\": \"scatter\", \"uid\": \"f0881e36-733c-4984-9c7a-c7a4271cd46a\"}, {\"mode\": \"markers\", \"name\": \"COL\", \"text\": [\"44.6\"], \"x\": [44.6], \"y\": [\"COL\"], \"type\": \"scatter\", \"uid\": \"c0fdc4e6-37e6-4add-a4f5-9c7f44bbb0a7\"}, {\"mode\": \"markers\", \"name\": \"LVA\", \"text\": [\"15.3\"], \"x\": [15.3], \"y\": [\"LVA\"], \"type\": \"scatter\", \"uid\": \"12c76cec-95f2-4820-8dc8-c418d95423e3\"}, {\"mode\": \"markers\", \"name\": \"LTU\", \"text\": [\"14.5\"], \"x\": [14.5], \"y\": [\"LTU\"], \"type\": \"scatter\", \"uid\": \"68681c46-6930-44bb-9c9a-28a70682ce01\"}, {\"mode\": \"markers\", \"name\": \"CRI\", \"text\": [\"19.8\"], \"x\": [19.8], \"y\": [\"CRI\"], \"type\": \"scatter\", \"uid\": \"22e677fc-a9f3-4bdb-a00e-d332dee51bf9\"}],\n",
       "            {\"autosize\": false, \"height\": 1000, \"hovermode\": \"closest\", \"sliders\": [{\"active\": 0, \"currentvalue\": {\"font\": {\"size\": 20}, \"prefix\": \"Year:\", \"visible\": true, \"xanchor\": \"right\"}, \"len\": 0.9, \"pad\": {\"b\": 10, \"t\": 50}, \"steps\": [{\"args\": [[1980], {\"frame\": {\"duration\": 300, \"redraw\": false}, \"mode\": \"immediate\", \"transition\": {\"duration\": 300}}], \"label\": \"1980\", \"method\": \"animate\"}, {\"args\": [[1981], {\"frame\": {\"duration\": 300, \"redraw\": false}, \"mode\": \"immediate\", \"transition\": {\"duration\": 300}}], \"label\": \"1981\", \"method\": \"animate\"}, {\"args\": [[1982], {\"frame\": {\"duration\": 300, \"redraw\": false}, \"mode\": \"immediate\", \"transition\": {\"duration\": 300}}], \"label\": \"1982\", \"method\": \"animate\"}, {\"args\": [[1983], {\"frame\": {\"duration\": 300, \"redraw\": false}, \"mode\": \"immediate\", \"transition\": {\"duration\": 300}}], \"label\": \"1983\", \"method\": \"animate\"}, {\"args\": [[1984], {\"frame\": {\"duration\": 300, \"redraw\": false}, \"mode\": \"immediate\", \"transition\": {\"duration\": 300}}], \"label\": \"1984\", \"method\": \"animate\"}, {\"args\": [[1985], {\"frame\": {\"duration\": 300, \"redraw\": false}, \"mode\": \"immediate\", \"transition\": {\"duration\": 300}}], \"label\": \"1985\", \"method\": \"animate\"}, {\"args\": [[1986], {\"frame\": {\"duration\": 300, \"redraw\": false}, \"mode\": \"immediate\", \"transition\": {\"duration\": 300}}], \"label\": \"1986\", \"method\": \"animate\"}, {\"args\": [[1987], {\"frame\": {\"duration\": 300, \"redraw\": false}, \"mode\": \"immediate\", \"transition\": {\"duration\": 300}}], \"label\": \"1987\", \"method\": \"animate\"}, {\"args\": [[1988], {\"frame\": {\"duration\": 300, \"redraw\": false}, \"mode\": \"immediate\", \"transition\": {\"duration\": 300}}], \"label\": \"1988\", \"method\": \"animate\"}, {\"args\": [[1989], {\"frame\": {\"duration\": 300, \"redraw\": false}, \"mode\": \"immediate\", \"transition\": {\"duration\": 300}}], \"label\": \"1989\", \"method\": \"animate\"}, {\"args\": [[1990], {\"frame\": {\"duration\": 300, \"redraw\": false}, \"mode\": \"immediate\", \"transition\": {\"duration\": 300}}], \"label\": \"1990\", \"method\": \"animate\"}, {\"args\": [[1991], {\"frame\": {\"duration\": 300, \"redraw\": false}, \"mode\": \"immediate\", \"transition\": {\"duration\": 300}}], \"label\": \"1991\", \"method\": \"animate\"}, {\"args\": [[1992], {\"frame\": {\"duration\": 300, \"redraw\": false}, \"mode\": \"immediate\", \"transition\": {\"duration\": 300}}], \"label\": \"1992\", \"method\": \"animate\"}, {\"args\": [[1993], {\"frame\": {\"duration\": 300, \"redraw\": false}, \"mode\": \"immediate\", \"transition\": {\"duration\": 300}}], \"label\": \"1993\", \"method\": \"animate\"}, {\"args\": [[1994], {\"frame\": {\"duration\": 300, \"redraw\": false}, \"mode\": \"immediate\", \"transition\": {\"duration\": 300}}], \"label\": \"1994\", \"method\": \"animate\"}, {\"args\": [[1995], {\"frame\": {\"duration\": 300, \"redraw\": false}, \"mode\": \"immediate\", \"transition\": {\"duration\": 300}}], \"label\": \"1995\", \"method\": \"animate\"}, {\"args\": [[1996], {\"frame\": {\"duration\": 300, \"redraw\": false}, \"mode\": \"immediate\", \"transition\": {\"duration\": 300}}], \"label\": \"1996\", \"method\": \"animate\"}, {\"args\": [[1997], {\"frame\": {\"duration\": 300, \"redraw\": false}, \"mode\": \"immediate\", \"transition\": {\"duration\": 300}}], \"label\": \"1997\", \"method\": \"animate\"}, {\"args\": [[1998], {\"frame\": {\"duration\": 300, \"redraw\": false}, \"mode\": \"immediate\", \"transition\": {\"duration\": 300}}], \"label\": \"1998\", \"method\": \"animate\"}, {\"args\": [[1999], {\"frame\": {\"duration\": 300, \"redraw\": false}, \"mode\": \"immediate\", \"transition\": {\"duration\": 300}}], \"label\": \"1999\", \"method\": \"animate\"}, {\"args\": [[2000], {\"frame\": {\"duration\": 300, \"redraw\": false}, \"mode\": \"immediate\", \"transition\": {\"duration\": 300}}], \"label\": \"2000\", \"method\": \"animate\"}, {\"args\": [[2001], {\"frame\": {\"duration\": 300, \"redraw\": false}, \"mode\": \"immediate\", \"transition\": {\"duration\": 300}}], \"label\": \"2001\", \"method\": \"animate\"}, {\"args\": [[2002], {\"frame\": {\"duration\": 300, \"redraw\": false}, \"mode\": \"immediate\", \"transition\": {\"duration\": 300}}], \"label\": \"2002\", \"method\": \"animate\"}, {\"args\": [[2003], {\"frame\": {\"duration\": 300, \"redraw\": false}, \"mode\": \"immediate\", \"transition\": {\"duration\": 300}}], \"label\": \"2003\", \"method\": \"animate\"}, {\"args\": [[2004], {\"frame\": {\"duration\": 300, \"redraw\": false}, \"mode\": \"immediate\", \"transition\": {\"duration\": 300}}], \"label\": \"2004\", \"method\": \"animate\"}, {\"args\": [[2005], {\"frame\": {\"duration\": 300, \"redraw\": false}, \"mode\": \"immediate\", \"transition\": {\"duration\": 300}}], \"label\": \"2005\", \"method\": \"animate\"}, {\"args\": [[2006], {\"frame\": {\"duration\": 300, \"redraw\": false}, \"mode\": \"immediate\", \"transition\": {\"duration\": 300}}], \"label\": \"2006\", \"method\": \"animate\"}, {\"args\": [[2007], {\"frame\": {\"duration\": 300, \"redraw\": false}, \"mode\": \"immediate\", \"transition\": {\"duration\": 300}}], \"label\": \"2007\", \"method\": \"animate\"}, {\"args\": [[2008], {\"frame\": {\"duration\": 300, \"redraw\": false}, \"mode\": \"immediate\", \"transition\": {\"duration\": 300}}], \"label\": \"2008\", \"method\": \"animate\"}, {\"args\": [[2009], {\"frame\": {\"duration\": 300, \"redraw\": false}, \"mode\": \"immediate\", \"transition\": {\"duration\": 300}}], \"label\": \"2009\", \"method\": \"animate\"}, {\"args\": [[2010], {\"frame\": {\"duration\": 300, \"redraw\": false}, \"mode\": \"immediate\", \"transition\": {\"duration\": 300}}], \"label\": \"2010\", \"method\": \"animate\"}, {\"args\": [[2011], {\"frame\": {\"duration\": 300, \"redraw\": false}, \"mode\": \"immediate\", \"transition\": {\"duration\": 300}}], \"label\": \"2011\", \"method\": \"animate\"}, {\"args\": [[2012], {\"frame\": {\"duration\": 300, \"redraw\": false}, \"mode\": \"immediate\", \"transition\": {\"duration\": 300}}], \"label\": \"2012\", \"method\": \"animate\"}, {\"args\": [[2013], {\"frame\": {\"duration\": 300, \"redraw\": false}, \"mode\": \"immediate\", \"transition\": {\"duration\": 300}}], \"label\": \"2013\", \"method\": \"animate\"}, {\"args\": [[2014], {\"frame\": {\"duration\": 300, \"redraw\": false}, \"mode\": \"immediate\", \"transition\": {\"duration\": 300}}], \"label\": \"2014\", \"method\": \"animate\"}, {\"args\": [[2015], {\"frame\": {\"duration\": 300, \"redraw\": false}, \"mode\": \"immediate\", \"transition\": {\"duration\": 300}}], \"label\": \"2015\", \"method\": \"animate\"}, {\"args\": [[2016], {\"frame\": {\"duration\": 300, \"redraw\": false}, \"mode\": \"immediate\", \"transition\": {\"duration\": 300}}], \"label\": \"2016\", \"method\": \"animate\"}], \"transition\": {\"duration\": 300, \"easing\": \"cubic-in-out\"}, \"x\": 0.1, \"xanchor\": \"left\", \"y\": 0, \"yanchor\": \"top\"}], \"updatemenus\": [{\"buttons\": [{\"args\": [null, {\"frame\": {\"duration\": 500, \"redraw\": false}, \"fromcurrent\": true, \"transition\": {\"duration\": 300, \"easing\": \"quadratic-in-out\"}}], \"label\": \"Play\", \"method\": \"animate\"}, {\"args\": [[null], {\"frame\": {\"duration\": 0, \"redraw\": false}, \"mode\": \"immediate\", \"transition\": {\"duration\": 0}}], \"label\": \"Pause\", \"method\": \"animate\"}], \"direction\": \"left\", \"pad\": {\"r\": 10, \"t\": 87}, \"showactive\": false, \"type\": \"buttons\", \"x\": 0.1, \"xanchor\": \"right\", \"y\": 0, \"yanchor\": \"top\"}], \"width\": 1000, \"xaxis\": {\"title\": {\"text\": \"Infant Mortality per 1000 Live Births\"}}, \"yaxis\": {\"ticktext\": [\"AUS\", \"AUT\", \"BEL\", \"CAN\", \"CZE\", \"DNK\", \"FIN\", \"FRA\", \"DEU\", \"GRC\", \"HUN\", \"ISL\", \"IRL\", \"ITA\", \"JPN\", \"KOR\", \"LUX\", \"MEX\", \"NLD\", \"NZL\", \"NOR\", \"POL\", \"PRT\", \"SVK\", \"ESP\", \"SWE\", \"CHE\", \"TUR\", \"GBR\", \"USA\", \"BRA\", \"CHL\", \"CHN\", \"EST\", \"IND\", \"IDN\", \"ISR\", \"RUS\", \"SVN\", \"ZAF\", \"COL\", \"LVA\", \"LTU\", \"CRI\"], \"title\": {\"text\": \"Country\"}}},\n",
       "            {\"showLink\": false, \"linkText\": \"Export to plot.ly\", \"plotlyServerURL\": \"https://plot.ly\"}\n",
       "        ).then(function () {return Plotly.addFrames('12660fa0-81e0-41c9-886d-58bf6724beb4',[{\"data\": [{\"mode\": \"markers\", \"name\": \"AUS\", \"text\": [\"10.7\"], \"x\": [10.7], \"y\": [\"AUS\"], \"type\": \"scatter\"}, {\"mode\": \"markers\", \"name\": \"AUT\", \"text\": [\"14.3\"], \"x\": [14.3], \"y\": [\"AUT\"], \"type\": \"scatter\"}, {\"mode\": \"markers\", \"name\": \"BEL\", \"text\": [\"12.1\"], \"x\": [12.1], \"y\": [\"BEL\"], \"type\": \"scatter\"}, {\"mode\": \"markers\", \"name\": \"CAN\", \"text\": [\"10.4\"], \"x\": [10.4], \"y\": [\"CAN\"], \"type\": \"scatter\"}, {\"mode\": \"markers\", \"name\": \"CZE\", \"text\": [\"16.9\"], \"x\": [16.9], \"y\": [\"CZE\"], \"type\": \"scatter\"}, {\"mode\": \"markers\", \"name\": \"DNK\", \"text\": [\"8.4\"], \"x\": [8.4], \"y\": [\"DNK\"], \"type\": \"scatter\"}, {\"mode\": \"markers\", \"name\": \"FIN\", \"text\": [\"7.6\"], \"x\": [7.6], \"y\": [\"FIN\"], \"type\": \"scatter\"}, {\"mode\": \"markers\", \"name\": \"FRA\", \"text\": [\"10.0\"], \"x\": [10.0], \"y\": [\"FRA\"], \"type\": \"scatter\"}, {\"mode\": \"markers\", \"name\": \"DEU\", \"text\": [\"12.4\"], \"x\": [12.4], \"y\": [\"DEU\"], \"type\": \"scatter\"}, {\"mode\": \"markers\", \"name\": \"GRC\", \"text\": [\"17.9\"], \"x\": [17.9], \"y\": [\"GRC\"], \"type\": \"scatter\"}, {\"mode\": \"markers\", \"name\": \"HUN\", \"text\": [\"23.2\"], \"x\": [23.2], \"y\": [\"HUN\"], \"type\": \"scatter\"}, {\"mode\": \"markers\", \"name\": \"ISL\", \"text\": [\"7.7\"], \"x\": [7.7], \"y\": [\"ISL\"], \"type\": \"scatter\"}, {\"mode\": \"markers\", \"name\": \"IRL\", \"text\": [\"11.1\"], \"x\": [11.1], \"y\": [\"IRL\"], \"type\": \"scatter\"}, {\"mode\": \"markers\", \"name\": \"ITA\", \"text\": [\"14.6\"], \"x\": [14.6], \"y\": [\"ITA\"], \"type\": \"scatter\"}, {\"mode\": \"markers\", \"name\": \"JPN\", \"text\": [\"7.5\"], \"x\": [7.5], \"y\": [\"JPN\"], \"type\": \"scatter\"}, {\"mode\": \"markers\", \"name\": \"KOR\", \"text\": [\"0\"], \"x\": [0], \"y\": [\"KOR\"], \"type\": \"scatter\"}, {\"mode\": \"markers\", \"name\": \"LUX\", \"text\": [\"11.5\"], \"x\": [11.5], \"y\": [\"LUX\"], \"type\": \"scatter\"}, {\"mode\": \"markers\", \"name\": \"MEX\", \"text\": [\"52.6\"], \"x\": [52.6], \"y\": [\"MEX\"], \"type\": \"scatter\"}, {\"mode\": \"markers\", \"name\": \"NLD\", \"text\": [\"8.6\"], \"x\": [8.6], \"y\": [\"NLD\"], \"type\": \"scatter\"}, {\"mode\": \"markers\", \"name\": \"NZL\", \"text\": [\"13.0\"], \"x\": [13.0], \"y\": [\"NZL\"], \"type\": \"scatter\"}, {\"mode\": \"markers\", \"name\": \"NOR\", \"text\": [\"8.1\"], \"x\": [8.1], \"y\": [\"NOR\"], \"type\": \"scatter\"}, {\"mode\": \"markers\", \"name\": \"POL\", \"text\": [\"25.4\"], \"x\": [25.4], \"y\": [\"POL\"], \"type\": \"scatter\"}, {\"mode\": \"markers\", \"name\": \"PRT\", \"text\": [\"24.3\"], \"x\": [24.3], \"y\": [\"PRT\"], \"type\": \"scatter\"}, {\"mode\": \"markers\", \"name\": \"SVK\", \"text\": [\"20.9\"], \"x\": [20.9], \"y\": [\"SVK\"], \"type\": \"scatter\"}, {\"mode\": \"markers\", \"name\": \"ESP\", \"text\": [\"12.3\"], \"x\": [12.3], \"y\": [\"ESP\"], \"type\": \"scatter\"}, {\"mode\": \"markers\", \"name\": \"SWE\", \"text\": [\"6.9\"], \"x\": [6.9], \"y\": [\"SWE\"], \"type\": \"scatter\"}, {\"mode\": \"markers\", \"name\": \"CHE\", \"text\": [\"9.1\"], \"x\": [9.1], \"y\": [\"CHE\"], \"type\": \"scatter\"}, {\"mode\": \"markers\", \"name\": \"TUR\", \"text\": [\"0\"], \"x\": [0], \"y\": [\"TUR\"], \"type\": \"scatter\"}, {\"mode\": \"markers\", \"name\": \"GBR\", \"text\": [\"12.1\"], \"x\": [12.1], \"y\": [\"GBR\"], \"type\": \"scatter\"}, {\"mode\": \"markers\", \"name\": \"USA\", \"text\": [\"12.6\"], \"x\": [12.6], \"y\": [\"USA\"], \"type\": \"scatter\"}, {\"mode\": \"markers\", \"name\": \"BRA\", \"text\": [\"75.9\"], \"x\": [75.9], \"y\": [\"BRA\"], \"type\": \"scatter\"}, {\"mode\": \"markers\", \"name\": \"CHL\", \"text\": [\"33.0\"], \"x\": [33.0], \"y\": [\"CHL\"], \"type\": \"scatter\"}, {\"mode\": \"markers\", \"name\": \"CHN\", \"text\": [\"48.0\"], \"x\": [48.0], \"y\": [\"CHN\"], \"type\": \"scatter\"}, {\"mode\": \"markers\", \"name\": \"EST\", \"text\": [\"17.1\"], \"x\": [17.1], \"y\": [\"EST\"], \"type\": \"scatter\"}, {\"mode\": \"markers\", \"name\": \"IND\", \"text\": [\"114.3\"], \"x\": [114.3], \"y\": [\"IND\"], \"type\": \"scatter\"}, {\"mode\": \"markers\", \"name\": \"IDN\", \"text\": [\"85.4\"], \"x\": [85.4], \"y\": [\"IDN\"], \"type\": \"scatter\"}, {\"mode\": \"markers\", \"name\": \"ISR\", \"text\": [\"15.6\"], \"x\": [15.6], \"y\": [\"ISR\"], \"type\": \"scatter\"}, {\"mode\": \"markers\", \"name\": \"RUS\", \"text\": [\"22.0\"], \"x\": [22.0], \"y\": [\"RUS\"], \"type\": \"scatter\"}, {\"mode\": \"markers\", \"name\": \"SVN\", \"text\": [\"15.3\"], \"x\": [15.3], \"y\": [\"SVN\"], \"type\": \"scatter\"}, {\"mode\": \"markers\", \"name\": \"ZAF\", \"text\": [\"68.0\"], \"x\": [68.0], \"y\": [\"ZAF\"], \"type\": \"scatter\"}, {\"mode\": \"markers\", \"name\": \"COL\", \"text\": [\"44.6\"], \"x\": [44.6], \"y\": [\"COL\"], \"type\": \"scatter\"}, {\"mode\": \"markers\", \"name\": \"LVA\", \"text\": [\"15.3\"], \"x\": [15.3], \"y\": [\"LVA\"], \"type\": \"scatter\"}, {\"mode\": \"markers\", \"name\": \"LTU\", \"text\": [\"14.5\"], \"x\": [14.5], \"y\": [\"LTU\"], \"type\": \"scatter\"}, {\"mode\": \"markers\", \"name\": \"CRI\", \"text\": [\"19.8\"], \"x\": [19.8], \"y\": [\"CRI\"], \"type\": \"scatter\"}], \"name\": \"1980\"}, {\"data\": [{\"mode\": \"markers\", \"name\": \"AUS\", \"text\": [\"10.0\"], \"x\": [10.0], \"y\": [\"AUS\"], \"type\": \"scatter\"}, {\"mode\": \"markers\", \"name\": \"AUT\", \"text\": [\"12.6\"], \"x\": [12.6], \"y\": [\"AUT\"], \"type\": \"scatter\"}, {\"mode\": \"markers\", \"name\": \"BEL\", \"text\": [\"11.5\"], \"x\": [11.5], \"y\": [\"BEL\"], \"type\": \"scatter\"}, {\"mode\": \"markers\", \"name\": \"CAN\", \"text\": [\"9.6\"], \"x\": [9.6], \"y\": [\"CAN\"], \"type\": \"scatter\"}, {\"mode\": \"markers\", \"name\": \"CZE\", \"text\": [\"15.4\"], \"x\": [15.4], \"y\": [\"CZE\"], \"type\": \"scatter\"}, {\"mode\": \"markers\", \"name\": \"DNK\", \"text\": [\"7.9\"], \"x\": [7.9], \"y\": [\"DNK\"], \"type\": \"scatter\"}, {\"mode\": \"markers\", \"name\": \"FIN\", \"text\": [\"6.5\"], \"x\": [6.5], \"y\": [\"FIN\"], \"type\": \"scatter\"}, {\"mode\": \"markers\", \"name\": \"FRA\", \"text\": [\"9.7\"], \"x\": [9.7], \"y\": [\"FRA\"], \"type\": \"scatter\"}, {\"mode\": \"markers\", \"name\": \"DEU\", \"text\": [\"11.8\"], \"x\": [11.8], \"y\": [\"DEU\"], \"type\": \"scatter\"}, {\"mode\": \"markers\", \"name\": \"GRC\", \"text\": [\"16.3\"], \"x\": [16.3], \"y\": [\"GRC\"], \"type\": \"scatter\"}, {\"mode\": \"markers\", \"name\": \"HUN\", \"text\": [\"20.8\"], \"x\": [20.8], \"y\": [\"HUN\"], \"type\": \"scatter\"}, {\"mode\": \"markers\", \"name\": \"ISL\", \"text\": [\"6.0\"], \"x\": [6.0], \"y\": [\"ISL\"], \"type\": \"scatter\"}, {\"mode\": \"markers\", \"name\": \"IRL\", \"text\": [\"10.3\"], \"x\": [10.3], \"y\": [\"IRL\"], \"type\": \"scatter\"}, {\"mode\": \"markers\", \"name\": \"ITA\", \"text\": [\"14.1\"], \"x\": [14.1], \"y\": [\"ITA\"], \"type\": \"scatter\"}, {\"mode\": \"markers\", \"name\": \"JPN\", \"text\": [\"7.1\"], \"x\": [7.1], \"y\": [\"JPN\"], \"type\": \"scatter\"}, {\"mode\": \"markers\", \"name\": \"KOR\", \"text\": [\"17.0\"], \"x\": [17.0], \"y\": [\"KOR\"], \"type\": \"scatter\"}, {\"mode\": \"markers\", \"name\": \"LUX\", \"text\": [\"13.8\"], \"x\": [13.8], \"y\": [\"LUX\"], \"type\": \"scatter\"}, {\"mode\": \"markers\", \"name\": \"MEX\", \"text\": [\"49.3\"], \"x\": [49.3], \"y\": [\"MEX\"], \"type\": \"scatter\"}, {\"mode\": \"markers\", \"name\": \"NLD\", \"text\": [\"8.3\"], \"x\": [8.3], \"y\": [\"NLD\"], \"type\": \"scatter\"}, {\"mode\": \"markers\", \"name\": \"NZL\", \"text\": [\"11.8\"], \"x\": [11.8], \"y\": [\"NZL\"], \"type\": \"scatter\"}, {\"mode\": \"markers\", \"name\": \"NOR\", \"text\": [\"7.5\"], \"x\": [7.5], \"y\": [\"NOR\"], \"type\": \"scatter\"}, {\"mode\": \"markers\", \"name\": \"POL\", \"text\": [\"24.9\"], \"x\": [24.9], \"y\": [\"POL\"], \"type\": \"scatter\"}, {\"mode\": \"markers\", \"name\": \"PRT\", \"text\": [\"21.8\"], \"x\": [21.8], \"y\": [\"PRT\"], \"type\": \"scatter\"}, {\"mode\": \"markers\", \"name\": \"SVK\", \"text\": [\"19.2\"], \"x\": [19.2], \"y\": [\"SVK\"], \"type\": \"scatter\"}, {\"mode\": \"markers\", \"name\": \"ESP\", \"text\": [\"12.5\"], \"x\": [12.5], \"y\": [\"ESP\"], \"type\": \"scatter\"}, {\"mode\": \"markers\", \"name\": \"SWE\", \"text\": [\"6.9\"], \"x\": [6.9], \"y\": [\"SWE\"], \"type\": \"scatter\"}, {\"mode\": \"markers\", \"name\": \"CHE\", \"text\": [\"7.6\"], \"x\": [7.6], \"y\": [\"CHE\"], \"type\": \"scatter\"}, {\"mode\": \"markers\", \"name\": \"TUR\", \"text\": [\"0\"], \"x\": [0], \"y\": [\"TUR\"], \"type\": \"scatter\"}, {\"mode\": \"markers\", \"name\": \"GBR\", \"text\": [\"11.2\"], \"x\": [11.2], \"y\": [\"GBR\"], \"type\": \"scatter\"}, {\"mode\": \"markers\", \"name\": \"USA\", \"text\": [\"11.9\"], \"x\": [11.9], \"y\": [\"USA\"], \"type\": \"scatter\"}, {\"mode\": \"markers\", \"name\": \"BRA\", \"text\": [\"72.7\"], \"x\": [72.7], \"y\": [\"BRA\"], \"type\": \"scatter\"}, {\"mode\": \"markers\", \"name\": \"CHL\", \"text\": [\"27.0\"], \"x\": [27.0], \"y\": [\"CHL\"], \"type\": \"scatter\"}, {\"mode\": \"markers\", \"name\": \"CHN\", \"text\": [\"46.1\"], \"x\": [46.1], \"y\": [\"CHN\"], \"type\": \"scatter\"}, {\"mode\": \"markers\", \"name\": \"EST\", \"text\": [\"17.0\"], \"x\": [17.0], \"y\": [\"EST\"], \"type\": \"scatter\"}, {\"mode\": \"markers\", \"name\": \"IND\", \"text\": [\"111.3\"], \"x\": [111.3], \"y\": [\"IND\"], \"type\": \"scatter\"}, {\"mode\": \"markers\", \"name\": \"IDN\", \"text\": [\"83.1\"], \"x\": [83.1], \"y\": [\"IDN\"], \"type\": \"scatter\"}, {\"mode\": \"markers\", \"name\": \"ISR\", \"text\": [\"15.7\"], \"x\": [15.7], \"y\": [\"ISR\"], \"type\": \"scatter\"}, {\"mode\": \"markers\", \"name\": \"RUS\", \"text\": [\"21.5\"], \"x\": [21.5], \"y\": [\"RUS\"], \"type\": \"scatter\"}, {\"mode\": \"markers\", \"name\": \"SVN\", \"text\": [\"13.1\"], \"x\": [13.1], \"y\": [\"SVN\"], \"type\": \"scatter\"}, {\"mode\": \"markers\", \"name\": \"ZAF\", \"text\": [\"65.0\"], \"x\": [65.0], \"y\": [\"ZAF\"], \"type\": \"scatter\"}, {\"mode\": \"markers\", \"name\": \"COL\", \"text\": [\"42.0\"], \"x\": [42.0], \"y\": [\"COL\"], \"type\": \"scatter\"}, {\"mode\": \"markers\", \"name\": \"LVA\", \"text\": [\"16.0\"], \"x\": [16.0], \"y\": [\"LVA\"], \"type\": \"scatter\"}, {\"mode\": \"markers\", \"name\": \"LTU\", \"text\": [\"16.5\"], \"x\": [16.5], \"y\": [\"LTU\"], \"type\": \"scatter\"}, {\"mode\": \"markers\", \"name\": \"CRI\", \"text\": [\"19.3\"], \"x\": [19.3], \"y\": [\"CRI\"], \"type\": \"scatter\"}], \"name\": \"1981\"}, {\"data\": [{\"mode\": \"markers\", \"name\": \"AUS\", \"text\": [\"10.3\"], \"x\": [10.3], \"y\": [\"AUS\"], \"type\": \"scatter\"}, {\"mode\": \"markers\", \"name\": \"AUT\", \"text\": [\"12.8\"], \"x\": [12.8], \"y\": [\"AUT\"], \"type\": \"scatter\"}, {\"mode\": \"markers\", \"name\": \"BEL\", \"text\": [\"11.1\"], \"x\": [11.1], \"y\": [\"BEL\"], \"type\": \"scatter\"}, {\"mode\": \"markers\", \"name\": \"CAN\", \"text\": [\"9.1\"], \"x\": [9.1], \"y\": [\"CAN\"], \"type\": \"scatter\"}, {\"mode\": \"markers\", \"name\": \"CZE\", \"text\": [\"15.0\"], \"x\": [15.0], \"y\": [\"CZE\"], \"type\": \"scatter\"}, {\"mode\": \"markers\", \"name\": \"DNK\", \"text\": [\"8.2\"], \"x\": [8.2], \"y\": [\"DNK\"], \"type\": \"scatter\"}, {\"mode\": \"markers\", \"name\": \"FIN\", \"text\": [\"6.0\"], \"x\": [6.0], \"y\": [\"FIN\"], \"type\": \"scatter\"}, {\"mode\": \"markers\", \"name\": \"FRA\", \"text\": [\"9.5\"], \"x\": [9.5], \"y\": [\"FRA\"], \"type\": \"scatter\"}, {\"mode\": \"markers\", \"name\": \"DEU\", \"text\": [\"11.1\"], \"x\": [11.1], \"y\": [\"DEU\"], \"type\": \"scatter\"}, {\"mode\": \"markers\", \"name\": \"GRC\", \"text\": [\"15.1\"], \"x\": [15.1], \"y\": [\"GRC\"], \"type\": \"scatter\"}, {\"mode\": \"markers\", \"name\": \"HUN\", \"text\": [\"20.0\"], \"x\": [20.0], \"y\": [\"HUN\"], \"type\": \"scatter\"}, {\"mode\": \"markers\", \"name\": \"ISL\", \"text\": [\"7.1\"], \"x\": [7.1], \"y\": [\"ISL\"], \"type\": \"scatter\"}, {\"mode\": \"markers\", \"name\": \"IRL\", \"text\": [\"10.5\"], \"x\": [10.5], \"y\": [\"IRL\"], \"type\": \"scatter\"}, {\"mode\": \"markers\", \"name\": \"ITA\", \"text\": [\"13.0\"], \"x\": [13.0], \"y\": [\"ITA\"], \"type\": \"scatter\"}, {\"mode\": \"markers\", \"name\": \"JPN\", \"text\": [\"6.6\"], \"x\": [6.6], \"y\": [\"JPN\"], \"type\": \"scatter\"}, {\"mode\": \"markers\", \"name\": \"KOR\", \"text\": [\"0\"], \"x\": [0], \"y\": [\"KOR\"], \"type\": \"scatter\"}, {\"mode\": \"markers\", \"name\": \"LUX\", \"text\": [\"12.1\"], \"x\": [12.1], \"y\": [\"LUX\"], \"type\": \"scatter\"}, {\"mode\": \"markers\", \"name\": \"MEX\", \"text\": [\"46.3\"], \"x\": [46.3], \"y\": [\"MEX\"], \"type\": \"scatter\"}, {\"mode\": \"markers\", \"name\": \"NLD\", \"text\": [\"8.3\"], \"x\": [8.3], \"y\": [\"NLD\"], \"type\": \"scatter\"}, {\"mode\": \"markers\", \"name\": \"NZL\", \"text\": [\"12.0\"], \"x\": [12.0], \"y\": [\"NZL\"], \"type\": \"scatter\"}, {\"mode\": \"markers\", \"name\": \"NOR\", \"text\": [\"8.1\"], \"x\": [8.1], \"y\": [\"NOR\"], \"type\": \"scatter\"}, {\"mode\": \"markers\", \"name\": \"POL\", \"text\": [\"24.4\"], \"x\": [24.4], \"y\": [\"POL\"], \"type\": \"scatter\"}, {\"mode\": \"markers\", \"name\": \"PRT\", \"text\": [\"19.8\"], \"x\": [19.8], \"y\": [\"PRT\"], \"type\": \"scatter\"}, {\"mode\": \"markers\", \"name\": \"SVK\", \"text\": [\"17.9\"], \"x\": [17.9], \"y\": [\"SVK\"], \"type\": \"scatter\"}, {\"mode\": \"markers\", \"name\": \"ESP\", \"text\": [\"11.3\"], \"x\": [11.3], \"y\": [\"ESP\"], \"type\": \"scatter\"}, {\"mode\": \"markers\", \"name\": \"SWE\", \"text\": [\"6.8\"], \"x\": [6.8], \"y\": [\"SWE\"], \"type\": \"scatter\"}, {\"mode\": \"markers\", \"name\": \"CHE\", \"text\": [\"7.7\"], \"x\": [7.7], \"y\": [\"CHE\"], \"type\": \"scatter\"}, {\"mode\": \"markers\", \"name\": \"TUR\", \"text\": [\"0\"], \"x\": [0], \"y\": [\"TUR\"], \"type\": \"scatter\"}, {\"mode\": \"markers\", \"name\": \"GBR\", \"text\": [\"11.0\"], \"x\": [11.0], \"y\": [\"GBR\"], \"type\": \"scatter\"}, {\"mode\": \"markers\", \"name\": \"USA\", \"text\": [\"11.5\"], \"x\": [11.5], \"y\": [\"USA\"], \"type\": \"scatter\"}, {\"mode\": \"markers\", \"name\": \"BRA\", \"text\": [\"69.7\"], \"x\": [69.7], \"y\": [\"BRA\"], \"type\": \"scatter\"}, {\"mode\": \"markers\", \"name\": \"CHL\", \"text\": [\"24.0\"], \"x\": [24.0], \"y\": [\"CHL\"], \"type\": \"scatter\"}, {\"mode\": \"markers\", \"name\": \"CHN\", \"text\": [\"44.6\"], \"x\": [44.6], \"y\": [\"CHN\"], \"type\": \"scatter\"}, {\"mode\": \"markers\", \"name\": \"EST\", \"text\": [\"17.2\"], \"x\": [17.2], \"y\": [\"EST\"], \"type\": \"scatter\"}, {\"mode\": \"markers\", \"name\": \"IND\", \"text\": [\"108.4\"], \"x\": [108.4], \"y\": [\"IND\"], \"type\": \"scatter\"}, {\"mode\": \"markers\", \"name\": \"IDN\", \"text\": [\"80.8\"], \"x\": [80.8], \"y\": [\"IDN\"], \"type\": \"scatter\"}, {\"mode\": \"markers\", \"name\": \"ISR\", \"text\": [\"14.1\"], \"x\": [14.1], \"y\": [\"ISR\"], \"type\": \"scatter\"}, {\"mode\": \"markers\", \"name\": \"RUS\", \"text\": [\"20.2\"], \"x\": [20.2], \"y\": [\"RUS\"], \"type\": \"scatter\"}, {\"mode\": \"markers\", \"name\": \"SVN\", \"text\": [\"14.0\"], \"x\": [14.0], \"y\": [\"SVN\"], \"type\": \"scatter\"}, {\"mode\": \"markers\", \"name\": \"ZAF\", \"text\": [\"62.2\"], \"x\": [62.2], \"y\": [\"ZAF\"], \"type\": \"scatter\"}, {\"mode\": \"markers\", \"name\": \"COL\", \"text\": [\"39.7\"], \"x\": [39.7], \"y\": [\"COL\"], \"type\": \"scatter\"}, {\"mode\": \"markers\", \"name\": \"LVA\", \"text\": [\"13.9\"], \"x\": [13.9], \"y\": [\"LVA\"], \"type\": \"scatter\"}, {\"mode\": \"markers\", \"name\": \"LTU\", \"text\": [\"15.0\"], \"x\": [15.0], \"y\": [\"LTU\"], \"type\": \"scatter\"}, {\"mode\": \"markers\", \"name\": \"CRI\", \"text\": [\"19.2\"], \"x\": [19.2], \"y\": [\"CRI\"], \"type\": \"scatter\"}], \"name\": \"1982\"}, {\"data\": [{\"mode\": \"markers\", \"name\": \"AUS\", \"text\": [\"9.6\"], \"x\": [9.6], \"y\": [\"AUS\"], \"type\": \"scatter\"}, {\"mode\": \"markers\", \"name\": \"AUT\", \"text\": [\"11.9\"], \"x\": [11.9], \"y\": [\"AUT\"], \"type\": \"scatter\"}, {\"mode\": \"markers\", \"name\": \"BEL\", \"text\": [\"10.6\"], \"x\": [10.6], \"y\": [\"BEL\"], \"type\": \"scatter\"}, {\"mode\": \"markers\", \"name\": \"CAN\", \"text\": [\"8.5\"], \"x\": [8.5], \"y\": [\"CAN\"], \"type\": \"scatter\"}, {\"mode\": \"markers\", \"name\": \"CZE\", \"text\": [\"14.5\"], \"x\": [14.5], \"y\": [\"CZE\"], \"type\": \"scatter\"}, {\"mode\": \"markers\", \"name\": \"DNK\", \"text\": [\"7.7\"], \"x\": [7.7], \"y\": [\"DNK\"], \"type\": \"scatter\"}, {\"mode\": \"markers\", \"name\": \"FIN\", \"text\": [\"6.2\"], \"x\": [6.2], \"y\": [\"FIN\"], \"type\": \"scatter\"}, {\"mode\": \"markers\", \"name\": \"FRA\", \"text\": [\"9.1\"], \"x\": [9.1], \"y\": [\"FRA\"], \"type\": \"scatter\"}, {\"mode\": \"markers\", \"name\": \"DEU\", \"text\": [\"10.4\"], \"x\": [10.4], \"y\": [\"DEU\"], \"type\": \"scatter\"}, {\"mode\": \"markers\", \"name\": \"GRC\", \"text\": [\"14.6\"], \"x\": [14.6], \"y\": [\"GRC\"], \"type\": \"scatter\"}, {\"mode\": \"markers\", \"name\": \"HUN\", \"text\": [\"19.0\"], \"x\": [19.0], \"y\": [\"HUN\"], \"type\": \"scatter\"}, {\"mode\": \"markers\", \"name\": \"ISL\", \"text\": [\"6.2\"], \"x\": [6.2], \"y\": [\"ISL\"], \"type\": \"scatter\"}, {\"mode\": \"markers\", \"name\": \"IRL\", \"text\": [\"10.1\"], \"x\": [10.1], \"y\": [\"IRL\"], \"type\": \"scatter\"}, {\"mode\": \"markers\", \"name\": \"ITA\", \"text\": [\"12.3\"], \"x\": [12.3], \"y\": [\"ITA\"], \"type\": \"scatter\"}, {\"mode\": \"markers\", \"name\": \"JPN\", \"text\": [\"6.2\"], \"x\": [6.2], \"y\": [\"JPN\"], \"type\": \"scatter\"}, {\"mode\": \"markers\", \"name\": \"KOR\", \"text\": [\"0\"], \"x\": [0], \"y\": [\"KOR\"], \"type\": \"scatter\"}, {\"mode\": \"markers\", \"name\": \"LUX\", \"text\": [\"11.2\"], \"x\": [11.2], \"y\": [\"LUX\"], \"type\": \"scatter\"}, {\"mode\": \"markers\", \"name\": \"MEX\", \"text\": [\"44.2\"], \"x\": [44.2], \"y\": [\"MEX\"], \"type\": \"scatter\"}, {\"mode\": \"markers\", \"name\": \"NLD\", \"text\": [\"8.4\"], \"x\": [8.4], \"y\": [\"NLD\"], \"type\": \"scatter\"}, {\"mode\": \"markers\", \"name\": \"NZL\", \"text\": [\"12.9\"], \"x\": [12.9], \"y\": [\"NZL\"], \"type\": \"scatter\"}, {\"mode\": \"markers\", \"name\": \"NOR\", \"text\": [\"7.9\"], \"x\": [7.9], \"y\": [\"NOR\"], \"type\": \"scatter\"}, {\"mode\": \"markers\", \"name\": \"POL\", \"text\": [\"23.1\"], \"x\": [23.1], \"y\": [\"POL\"], \"type\": \"scatter\"}, {\"mode\": \"markers\", \"name\": \"PRT\", \"text\": [\"19.2\"], \"x\": [19.2], \"y\": [\"PRT\"], \"type\": \"scatter\"}, {\"mode\": \"markers\", \"name\": \"SVK\", \"text\": [\"17.5\"], \"x\": [17.5], \"y\": [\"SVK\"], \"type\": \"scatter\"}, {\"mode\": \"markers\", \"name\": \"ESP\", \"text\": [\"10.9\"], \"x\": [10.9], \"y\": [\"ESP\"], \"type\": \"scatter\"}, {\"mode\": \"markers\", \"name\": \"SWE\", \"text\": [\"7.0\"], \"x\": [7.0], \"y\": [\"SWE\"], \"type\": \"scatter\"}, {\"mode\": \"markers\", \"name\": \"CHE\", \"text\": [\"7.6\"], \"x\": [7.6], \"y\": [\"CHE\"], \"type\": \"scatter\"}, {\"mode\": \"markers\", \"name\": \"TUR\", \"text\": [\"0\"], \"x\": [0], \"y\": [\"TUR\"], \"type\": \"scatter\"}, {\"mode\": \"markers\", \"name\": \"GBR\", \"text\": [\"10.2\"], \"x\": [10.2], \"y\": [\"GBR\"], \"type\": \"scatter\"}, {\"mode\": \"markers\", \"name\": \"USA\", \"text\": [\"11.2\"], \"x\": [11.2], \"y\": [\"USA\"], \"type\": \"scatter\"}, {\"mode\": \"markers\", \"name\": \"BRA\", \"text\": [\"66.7\"], \"x\": [66.7], \"y\": [\"BRA\"], \"type\": \"scatter\"}, {\"mode\": \"markers\", \"name\": \"CHL\", \"text\": [\"22.2\"], \"x\": [22.2], \"y\": [\"CHL\"], \"type\": \"scatter\"}, {\"mode\": \"markers\", \"name\": \"CHN\", \"text\": [\"43.4\"], \"x\": [43.4], \"y\": [\"CHN\"], \"type\": \"scatter\"}, {\"mode\": \"markers\", \"name\": \"EST\", \"text\": [\"16.1\"], \"x\": [16.1], \"y\": [\"EST\"], \"type\": \"scatter\"}, {\"mode\": \"markers\", \"name\": \"IND\", \"text\": [\"105.7\"], \"x\": [105.7], \"y\": [\"IND\"], \"type\": \"scatter\"}, {\"mode\": \"markers\", \"name\": \"IDN\", \"text\": [\"78.5\"], \"x\": [78.5], \"y\": [\"IDN\"], \"type\": \"scatter\"}, {\"mode\": \"markers\", \"name\": \"ISR\", \"text\": [\"13.7\"], \"x\": [13.7], \"y\": [\"ISR\"], \"type\": \"scatter\"}, {\"mode\": \"markers\", \"name\": \"RUS\", \"text\": [\"19.9\"], \"x\": [19.9], \"y\": [\"RUS\"], \"type\": \"scatter\"}, {\"mode\": \"markers\", \"name\": \"SVN\", \"text\": [\"13.9\"], \"x\": [13.9], \"y\": [\"SVN\"], \"type\": \"scatter\"}, {\"mode\": \"markers\", \"name\": \"ZAF\", \"text\": [\"59.6\"], \"x\": [59.6], \"y\": [\"ZAF\"], \"type\": \"scatter\"}, {\"mode\": \"markers\", \"name\": \"COL\", \"text\": [\"37.6\"], \"x\": [37.6], \"y\": [\"COL\"], \"type\": \"scatter\"}, {\"mode\": \"markers\", \"name\": \"LVA\", \"text\": [\"15.9\"], \"x\": [15.9], \"y\": [\"LVA\"], \"type\": \"scatter\"}, {\"mode\": \"markers\", \"name\": \"LTU\", \"text\": [\"13.9\"], \"x\": [13.9], \"y\": [\"LTU\"], \"type\": \"scatter\"}, {\"mode\": \"markers\", \"name\": \"CRI\", \"text\": [\"19.1\"], \"x\": [19.1], \"y\": [\"CRI\"], \"type\": \"scatter\"}], \"name\": \"1983\"}, {\"data\": [{\"mode\": \"markers\", \"name\": \"AUS\", \"text\": [\"9.2\"], \"x\": [9.2], \"y\": [\"AUS\"], \"type\": \"scatter\"}, {\"mode\": \"markers\", \"name\": \"AUT\", \"text\": [\"11.4\"], \"x\": [11.4], \"y\": [\"AUT\"], \"type\": \"scatter\"}, {\"mode\": \"markers\", \"name\": \"BEL\", \"text\": [\"10.0\"], \"x\": [10.0], \"y\": [\"BEL\"], \"type\": \"scatter\"}, {\"mode\": \"markers\", \"name\": \"CAN\", \"text\": [\"8.1\"], \"x\": [8.1], \"y\": [\"CAN\"], \"type\": \"scatter\"}, {\"mode\": \"markers\", \"name\": \"CZE\", \"text\": [\"14.1\"], \"x\": [14.1], \"y\": [\"CZE\"], \"type\": \"scatter\"}, {\"mode\": \"markers\", \"name\": \"DNK\", \"text\": [\"7.7\"], \"x\": [7.7], \"y\": [\"DNK\"], \"type\": \"scatter\"}, {\"mode\": \"markers\", \"name\": \"FIN\", \"text\": [\"6.5\"], \"x\": [6.5], \"y\": [\"FIN\"], \"type\": \"scatter\"}, {\"mode\": \"markers\", \"name\": \"FRA\", \"text\": [\"8.3\"], \"x\": [8.3], \"y\": [\"FRA\"], \"type\": \"scatter\"}, {\"mode\": \"markers\", \"name\": \"DEU\", \"text\": [\"9.8\"], \"x\": [9.8], \"y\": [\"DEU\"], \"type\": \"scatter\"}, {\"mode\": \"markers\", \"name\": \"GRC\", \"text\": [\"14.3\"], \"x\": [14.3], \"y\": [\"GRC\"], \"type\": \"scatter\"}, {\"mode\": \"markers\", \"name\": \"HUN\", \"text\": [\"20.4\"], \"x\": [20.4], \"y\": [\"HUN\"], \"type\": \"scatter\"}, {\"mode\": \"markers\", \"name\": \"ISL\", \"text\": [\"6.1\"], \"x\": [6.1], \"y\": [\"ISL\"], \"type\": \"scatter\"}, {\"mode\": \"markers\", \"name\": \"IRL\", \"text\": [\"9.6\"], \"x\": [9.6], \"y\": [\"IRL\"], \"type\": \"scatter\"}, {\"mode\": \"markers\", \"name\": \"ITA\", \"text\": [\"11.4\"], \"x\": [11.4], \"y\": [\"ITA\"], \"type\": \"scatter\"}, {\"mode\": \"markers\", \"name\": \"JPN\", \"text\": [\"6.0\"], \"x\": [6.0], \"y\": [\"JPN\"], \"type\": \"scatter\"}, {\"mode\": \"markers\", \"name\": \"KOR\", \"text\": [\"16.0\"], \"x\": [16.0], \"y\": [\"KOR\"], \"type\": \"scatter\"}, {\"mode\": \"markers\", \"name\": \"LUX\", \"text\": [\"11.7\"], \"x\": [11.7], \"y\": [\"LUX\"], \"type\": \"scatter\"}, {\"mode\": \"markers\", \"name\": \"MEX\", \"text\": [\"42.8\"], \"x\": [42.8], \"y\": [\"MEX\"], \"type\": \"scatter\"}, {\"mode\": \"markers\", \"name\": \"NLD\", \"text\": [\"8.3\"], \"x\": [8.3], \"y\": [\"NLD\"], \"type\": \"scatter\"}, {\"mode\": \"markers\", \"name\": \"NZL\", \"text\": [\"11.7\"], \"x\": [11.7], \"y\": [\"NZL\"], \"type\": \"scatter\"}, {\"mode\": \"markers\", \"name\": \"NOR\", \"text\": [\"8.3\"], \"x\": [8.3], \"y\": [\"NOR\"], \"type\": \"scatter\"}, {\"mode\": \"markers\", \"name\": \"POL\", \"text\": [\"23.0\"], \"x\": [23.0], \"y\": [\"POL\"], \"type\": \"scatter\"}, {\"mode\": \"markers\", \"name\": \"PRT\", \"text\": [\"16.7\"], \"x\": [16.7], \"y\": [\"PRT\"], \"type\": \"scatter\"}, {\"mode\": \"markers\", \"name\": \"SVK\", \"text\": [\"17.2\"], \"x\": [17.2], \"y\": [\"SVK\"], \"type\": \"scatter\"}, {\"mode\": \"markers\", \"name\": \"ESP\", \"text\": [\"9.9\"], \"x\": [9.9], \"y\": [\"ESP\"], \"type\": \"scatter\"}, {\"mode\": \"markers\", \"name\": \"SWE\", \"text\": [\"6.4\"], \"x\": [6.4], \"y\": [\"SWE\"], \"type\": \"scatter\"}, {\"mode\": \"markers\", \"name\": \"CHE\", \"text\": [\"7.1\"], \"x\": [7.1], \"y\": [\"CHE\"], \"type\": \"scatter\"}, {\"mode\": \"markers\", \"name\": \"TUR\", \"text\": [\"0\"], \"x\": [0], \"y\": [\"TUR\"], \"type\": \"scatter\"}, {\"mode\": \"markers\", \"name\": \"GBR\", \"text\": [\"9.6\"], \"x\": [9.6], \"y\": [\"GBR\"], \"type\": \"scatter\"}, {\"mode\": \"markers\", \"name\": \"USA\", \"text\": [\"10.8\"], \"x\": [10.8], \"y\": [\"USA\"], \"type\": \"scatter\"}, {\"mode\": \"markers\", \"name\": \"BRA\", \"text\": [\"64.0\"], \"x\": [64.0], \"y\": [\"BRA\"], \"type\": \"scatter\"}, {\"mode\": \"markers\", \"name\": \"CHL\", \"text\": [\"19.6\"], \"x\": [19.6], \"y\": [\"CHL\"], \"type\": \"scatter\"}, {\"mode\": \"markers\", \"name\": \"CHN\", \"text\": [\"42.6\"], \"x\": [42.6], \"y\": [\"CHN\"], \"type\": \"scatter\"}, {\"mode\": \"markers\", \"name\": \"EST\", \"text\": [\"13.6\"], \"x\": [13.6], \"y\": [\"EST\"], \"type\": \"scatter\"}, {\"mode\": \"markers\", \"name\": \"IND\", \"text\": [\"103.1\"], \"x\": [103.1], \"y\": [\"IND\"], \"type\": \"scatter\"}, {\"mode\": \"markers\", \"name\": \"IDN\", \"text\": [\"76.2\"], \"x\": [76.2], \"y\": [\"IDN\"], \"type\": \"scatter\"}, {\"mode\": \"markers\", \"name\": \"ISR\", \"text\": [\"12.8\"], \"x\": [12.8], \"y\": [\"ISR\"], \"type\": \"scatter\"}, {\"mode\": \"markers\", \"name\": \"RUS\", \"text\": [\"21.1\"], \"x\": [21.1], \"y\": [\"RUS\"], \"type\": \"scatter\"}, {\"mode\": \"markers\", \"name\": \"SVN\", \"text\": [\"13.9\"], \"x\": [13.9], \"y\": [\"SVN\"], \"type\": \"scatter\"}, {\"mode\": \"markers\", \"name\": \"ZAF\", \"text\": [\"57.3\"], \"x\": [57.3], \"y\": [\"ZAF\"], \"type\": \"scatter\"}, {\"mode\": \"markers\", \"name\": \"COL\", \"text\": [\"35.7\"], \"x\": [35.7], \"y\": [\"COL\"], \"type\": \"scatter\"}, {\"mode\": \"markers\", \"name\": \"LVA\", \"text\": [\"12.9\"], \"x\": [12.9], \"y\": [\"LVA\"], \"type\": \"scatter\"}, {\"mode\": \"markers\", \"name\": \"LTU\", \"text\": [\"13.4\"], \"x\": [13.4], \"y\": [\"LTU\"], \"type\": \"scatter\"}, {\"mode\": \"markers\", \"name\": \"CRI\", \"text\": [\"18.8\"], \"x\": [18.8], \"y\": [\"CRI\"], \"type\": \"scatter\"}], \"name\": \"1984\"}, {\"data\": [{\"mode\": \"markers\", \"name\": \"AUS\", \"text\": [\"9.9\"], \"x\": [9.9], \"y\": [\"AUS\"], \"type\": \"scatter\"}, {\"mode\": \"markers\", \"name\": \"AUT\", \"text\": [\"11.2\"], \"x\": [11.2], \"y\": [\"AUT\"], \"type\": \"scatter\"}, {\"mode\": \"markers\", \"name\": \"BEL\", \"text\": [\"9.8\"], \"x\": [9.8], \"y\": [\"BEL\"], \"type\": \"scatter\"}, {\"mode\": \"markers\", \"name\": \"CAN\", \"text\": [\"8.0\"], \"x\": [8.0], \"y\": [\"CAN\"], \"type\": \"scatter\"}, {\"mode\": \"markers\", \"name\": \"CZE\", \"text\": [\"12.5\"], \"x\": [12.5], \"y\": [\"CZE\"], \"type\": \"scatter\"}, {\"mode\": \"markers\", \"name\": \"DNK\", \"text\": [\"7.9\"], \"x\": [7.9], \"y\": [\"DNK\"], \"type\": \"scatter\"}, {\"mode\": \"markers\", \"name\": \"FIN\", \"text\": [\"6.3\"], \"x\": [6.3], \"y\": [\"FIN\"], \"type\": \"scatter\"}, {\"mode\": \"markers\", \"name\": \"FRA\", \"text\": [\"8.3\"], \"x\": [8.3], \"y\": [\"FRA\"], \"type\": \"scatter\"}, {\"mode\": \"markers\", \"name\": \"DEU\", \"text\": [\"9.1\"], \"x\": [9.1], \"y\": [\"DEU\"], \"type\": \"scatter\"}, {\"mode\": \"markers\", \"name\": \"GRC\", \"text\": [\"14.1\"], \"x\": [14.1], \"y\": [\"GRC\"], \"type\": \"scatter\"}, {\"mode\": \"markers\", \"name\": \"HUN\", \"text\": [\"20.4\"], \"x\": [20.4], \"y\": [\"HUN\"], \"type\": \"scatter\"}, {\"mode\": \"markers\", \"name\": \"ISL\", \"text\": [\"5.7\"], \"x\": [5.7], \"y\": [\"ISL\"], \"type\": \"scatter\"}, {\"mode\": \"markers\", \"name\": \"IRL\", \"text\": [\"8.8\"], \"x\": [8.8], \"y\": [\"IRL\"], \"type\": \"scatter\"}, {\"mode\": \"markers\", \"name\": \"ITA\", \"text\": [\"10.5\"], \"x\": [10.5], \"y\": [\"ITA\"], \"type\": \"scatter\"}, {\"mode\": \"markers\", \"name\": \"JPN\", \"text\": [\"5.5\"], \"x\": [5.5], \"y\": [\"JPN\"], \"type\": \"scatter\"}, {\"mode\": \"markers\", \"name\": \"KOR\", \"text\": [\"13.0\"], \"x\": [13.0], \"y\": [\"KOR\"], \"type\": \"scatter\"}, {\"mode\": \"markers\", \"name\": \"LUX\", \"text\": [\"9.0\"], \"x\": [9.0], \"y\": [\"LUX\"], \"type\": \"scatter\"}, {\"mode\": \"markers\", \"name\": \"MEX\", \"text\": [\"41.6\"], \"x\": [41.6], \"y\": [\"MEX\"], \"type\": \"scatter\"}, {\"mode\": \"markers\", \"name\": \"NLD\", \"text\": [\"8.0\"], \"x\": [8.0], \"y\": [\"NLD\"], \"type\": \"scatter\"}, {\"mode\": \"markers\", \"name\": \"NZL\", \"text\": [\"10.9\"], \"x\": [10.9], \"y\": [\"NZL\"], \"type\": \"scatter\"}, {\"mode\": \"markers\", \"name\": \"NOR\", \"text\": [\"8.5\"], \"x\": [8.5], \"y\": [\"NOR\"], \"type\": \"scatter\"}, {\"mode\": \"markers\", \"name\": \"POL\", \"text\": [\"22.1\"], \"x\": [22.1], \"y\": [\"POL\"], \"type\": \"scatter\"}, {\"mode\": \"markers\", \"name\": \"PRT\", \"text\": [\"17.8\"], \"x\": [17.8], \"y\": [\"PRT\"], \"type\": \"scatter\"}, {\"mode\": \"markers\", \"name\": \"SVK\", \"text\": [\"16.3\"], \"x\": [16.3], \"y\": [\"SVK\"], \"type\": \"scatter\"}, {\"mode\": \"markers\", \"name\": \"ESP\", \"text\": [\"8.9\"], \"x\": [8.9], \"y\": [\"ESP\"], \"type\": \"scatter\"}, {\"mode\": \"markers\", \"name\": \"SWE\", \"text\": [\"6.8\"], \"x\": [6.8], \"y\": [\"SWE\"], \"type\": \"scatter\"}, {\"mode\": \"markers\", \"name\": \"CHE\", \"text\": [\"6.9\"], \"x\": [6.9], \"y\": [\"CHE\"], \"type\": \"scatter\"}, {\"mode\": \"markers\", \"name\": \"TUR\", \"text\": [\"0\"], \"x\": [0], \"y\": [\"TUR\"], \"type\": \"scatter\"}, {\"mode\": \"markers\", \"name\": \"GBR\", \"text\": [\"9.4\"], \"x\": [9.4], \"y\": [\"GBR\"], \"type\": \"scatter\"}, {\"mode\": \"markers\", \"name\": \"USA\", \"text\": [\"10.6\"], \"x\": [10.6], \"y\": [\"USA\"], \"type\": \"scatter\"}, {\"mode\": \"markers\", \"name\": \"BRA\", \"text\": [\"61.4\"], \"x\": [61.4], \"y\": [\"BRA\"], \"type\": \"scatter\"}, {\"mode\": \"markers\", \"name\": \"CHL\", \"text\": [\"19.5\"], \"x\": [19.5], \"y\": [\"CHL\"], \"type\": \"scatter\"}, {\"mode\": \"markers\", \"name\": \"CHN\", \"text\": [\"42.2\"], \"x\": [42.2], \"y\": [\"CHN\"], \"type\": \"scatter\"}, {\"mode\": \"markers\", \"name\": \"EST\", \"text\": [\"14.1\"], \"x\": [14.1], \"y\": [\"EST\"], \"type\": \"scatter\"}, {\"mode\": \"markers\", \"name\": \"IND\", \"text\": [\"100.6\"], \"x\": [100.6], \"y\": [\"IND\"], \"type\": \"scatter\"}, {\"mode\": \"markers\", \"name\": \"IDN\", \"text\": [\"74.0\"], \"x\": [74.0], \"y\": [\"IDN\"], \"type\": \"scatter\"}, {\"mode\": \"markers\", \"name\": \"ISR\", \"text\": [\"11.9\"], \"x\": [11.9], \"y\": [\"ISR\"], \"type\": \"scatter\"}, {\"mode\": \"markers\", \"name\": \"RUS\", \"text\": [\"20.8\"], \"x\": [20.8], \"y\": [\"RUS\"], \"type\": \"scatter\"}, {\"mode\": \"markers\", \"name\": \"SVN\", \"text\": [\"13.0\"], \"x\": [13.0], \"y\": [\"SVN\"], \"type\": \"scatter\"}, {\"mode\": \"markers\", \"name\": \"ZAF\", \"text\": [\"55.1\"], \"x\": [55.1], \"y\": [\"ZAF\"], \"type\": \"scatter\"}, {\"mode\": \"markers\", \"name\": \"COL\", \"text\": [\"34.1\"], \"x\": [34.1], \"y\": [\"COL\"], \"type\": \"scatter\"}, {\"mode\": \"markers\", \"name\": \"LVA\", \"text\": [\"13.0\"], \"x\": [13.0], \"y\": [\"LVA\"], \"type\": \"scatter\"}, {\"mode\": \"markers\", \"name\": \"LTU\", \"text\": [\"14.2\"], \"x\": [14.2], \"y\": [\"LTU\"], \"type\": \"scatter\"}, {\"mode\": \"markers\", \"name\": \"CRI\", \"text\": [\"18.2\"], \"x\": [18.2], \"y\": [\"CRI\"], \"type\": \"scatter\"}], \"name\": \"1985\"}, {\"data\": [{\"mode\": \"markers\", \"name\": \"AUS\", \"text\": [\"8.8\"], \"x\": [8.8], \"y\": [\"AUS\"], \"type\": \"scatter\"}, {\"mode\": \"markers\", \"name\": \"AUT\", \"text\": [\"10.3\"], \"x\": [10.3], \"y\": [\"AUT\"], \"type\": \"scatter\"}, {\"mode\": \"markers\", \"name\": \"BEL\", \"text\": [\"9.6\"], \"x\": [9.6], \"y\": [\"BEL\"], \"type\": \"scatter\"}, {\"mode\": \"markers\", \"name\": \"CAN\", \"text\": [\"7.9\"], \"x\": [7.9], \"y\": [\"CAN\"], \"type\": \"scatter\"}, {\"mode\": \"markers\", \"name\": \"CZE\", \"text\": [\"12.3\"], \"x\": [12.3], \"y\": [\"CZE\"], \"type\": \"scatter\"}, {\"mode\": \"markers\", \"name\": \"DNK\", \"text\": [\"8.2\"], \"x\": [8.2], \"y\": [\"DNK\"], \"type\": \"scatter\"}, {\"mode\": \"markers\", \"name\": \"FIN\", \"text\": [\"5.8\"], \"x\": [5.8], \"y\": [\"FIN\"], \"type\": \"scatter\"}, {\"mode\": \"markers\", \"name\": \"FRA\", \"text\": [\"8.0\"], \"x\": [8.0], \"y\": [\"FRA\"], \"type\": \"scatter\"}, {\"mode\": \"markers\", \"name\": \"DEU\", \"text\": [\"8.7\"], \"x\": [8.7], \"y\": [\"DEU\"], \"type\": \"scatter\"}, {\"mode\": \"markers\", \"name\": \"GRC\", \"text\": [\"12.2\"], \"x\": [12.2], \"y\": [\"GRC\"], \"type\": \"scatter\"}, {\"mode\": \"markers\", \"name\": \"HUN\", \"text\": [\"19.0\"], \"x\": [19.0], \"y\": [\"HUN\"], \"type\": \"scatter\"}, {\"mode\": \"markers\", \"name\": \"ISL\", \"text\": [\"5.3\"], \"x\": [5.3], \"y\": [\"ISL\"], \"type\": \"scatter\"}, {\"mode\": \"markers\", \"name\": \"IRL\", \"text\": [\"8.9\"], \"x\": [8.9], \"y\": [\"IRL\"], \"type\": \"scatter\"}, {\"mode\": \"markers\", \"name\": \"ITA\", \"text\": [\"10.2\"], \"x\": [10.2], \"y\": [\"ITA\"], \"type\": \"scatter\"}, {\"mode\": \"markers\", \"name\": \"JPN\", \"text\": [\"5.2\"], \"x\": [5.2], \"y\": [\"JPN\"], \"type\": \"scatter\"}, {\"mode\": \"markers\", \"name\": \"KOR\", \"text\": [\"0\"], \"x\": [0], \"y\": [\"KOR\"], \"type\": \"scatter\"}, {\"mode\": \"markers\", \"name\": \"LUX\", \"text\": [\"7.9\"], \"x\": [7.9], \"y\": [\"LUX\"], \"type\": \"scatter\"}, {\"mode\": \"markers\", \"name\": \"MEX\", \"text\": [\"40.0\"], \"x\": [40.0], \"y\": [\"MEX\"], \"type\": \"scatter\"}, {\"mode\": \"markers\", \"name\": \"NLD\", \"text\": [\"7.7\"], \"x\": [7.7], \"y\": [\"NLD\"], \"type\": \"scatter\"}, {\"mode\": \"markers\", \"name\": \"NZL\", \"text\": [\"11.4\"], \"x\": [11.4], \"y\": [\"NZL\"], \"type\": \"scatter\"}, {\"mode\": \"markers\", \"name\": \"NOR\", \"text\": [\"7.8\"], \"x\": [7.8], \"y\": [\"NOR\"], \"type\": \"scatter\"}, {\"mode\": \"markers\", \"name\": \"POL\", \"text\": [\"21.3\"], \"x\": [21.3], \"y\": [\"POL\"], \"type\": \"scatter\"}, {\"mode\": \"markers\", \"name\": \"PRT\", \"text\": [\"15.8\"], \"x\": [15.8], \"y\": [\"PRT\"], \"type\": \"scatter\"}, {\"mode\": \"markers\", \"name\": \"SVK\", \"text\": [\"15.0\"], \"x\": [15.0], \"y\": [\"SVK\"], \"type\": \"scatter\"}, {\"mode\": \"markers\", \"name\": \"ESP\", \"text\": [\"9.2\"], \"x\": [9.2], \"y\": [\"ESP\"], \"type\": \"scatter\"}, {\"mode\": \"markers\", \"name\": \"SWE\", \"text\": [\"5.9\"], \"x\": [5.9], \"y\": [\"SWE\"], \"type\": \"scatter\"}, {\"mode\": \"markers\", \"name\": \"CHE\", \"text\": [\"6.8\"], \"x\": [6.8], \"y\": [\"CHE\"], \"type\": \"scatter\"}, {\"mode\": \"markers\", \"name\": \"TUR\", \"text\": [\"0\"], \"x\": [0], \"y\": [\"TUR\"], \"type\": \"scatter\"}, {\"mode\": \"markers\", \"name\": \"GBR\", \"text\": [\"9.5\"], \"x\": [9.5], \"y\": [\"GBR\"], \"type\": \"scatter\"}, {\"mode\": \"markers\", \"name\": \"USA\", \"text\": [\"10.4\"], \"x\": [10.4], \"y\": [\"USA\"], \"type\": \"scatter\"}, {\"mode\": \"markers\", \"name\": \"BRA\", \"text\": [\"59.0\"], \"x\": [59.0], \"y\": [\"BRA\"], \"type\": \"scatter\"}, {\"mode\": \"markers\", \"name\": \"CHL\", \"text\": [\"19.1\"], \"x\": [19.1], \"y\": [\"CHL\"], \"type\": \"scatter\"}, {\"mode\": \"markers\", \"name\": \"CHN\", \"text\": [\"42.0\"], \"x\": [42.0], \"y\": [\"CHN\"], \"type\": \"scatter\"}, {\"mode\": \"markers\", \"name\": \"EST\", \"text\": [\"16.0\"], \"x\": [16.0], \"y\": [\"EST\"], \"type\": \"scatter\"}, {\"mode\": \"markers\", \"name\": \"IND\", \"text\": [\"98.1\"], \"x\": [98.1], \"y\": [\"IND\"], \"type\": \"scatter\"}, {\"mode\": \"markers\", \"name\": \"IDN\", \"text\": [\"71.6\"], \"x\": [71.6], \"y\": [\"IDN\"], \"type\": \"scatter\"}, {\"mode\": \"markers\", \"name\": \"ISR\", \"text\": [\"11.4\"], \"x\": [11.4], \"y\": [\"ISR\"], \"type\": \"scatter\"}, {\"mode\": \"markers\", \"name\": \"RUS\", \"text\": [\"19.1\"], \"x\": [19.1], \"y\": [\"RUS\"], \"type\": \"scatter\"}, {\"mode\": \"markers\", \"name\": \"SVN\", \"text\": [\"11.9\"], \"x\": [11.9], \"y\": [\"SVN\"], \"type\": \"scatter\"}, {\"mode\": \"markers\", \"name\": \"ZAF\", \"text\": [\"53.2\"], \"x\": [53.2], \"y\": [\"ZAF\"], \"type\": \"scatter\"}, {\"mode\": \"markers\", \"name\": \"COL\", \"text\": [\"32.7\"], \"x\": [32.7], \"y\": [\"COL\"], \"type\": \"scatter\"}, {\"mode\": \"markers\", \"name\": \"LVA\", \"text\": [\"12.8\"], \"x\": [12.8], \"y\": [\"LVA\"], \"type\": \"scatter\"}, {\"mode\": \"markers\", \"name\": \"LTU\", \"text\": [\"11.6\"], \"x\": [11.6], \"y\": [\"LTU\"], \"type\": \"scatter\"}, {\"mode\": \"markers\", \"name\": \"CRI\", \"text\": [\"17.3\"], \"x\": [17.3], \"y\": [\"CRI\"], \"type\": \"scatter\"}], \"name\": \"1986\"}, {\"data\": [{\"mode\": \"markers\", \"name\": \"AUS\", \"text\": [\"8.7\"], \"x\": [8.7], \"y\": [\"AUS\"], \"type\": \"scatter\"}, {\"mode\": \"markers\", \"name\": \"AUT\", \"text\": [\"9.8\"], \"x\": [9.8], \"y\": [\"AUT\"], \"type\": \"scatter\"}, {\"mode\": \"markers\", \"name\": \"BEL\", \"text\": [\"9.7\"], \"x\": [9.7], \"y\": [\"BEL\"], \"type\": \"scatter\"}, {\"mode\": \"markers\", \"name\": \"CAN\", \"text\": [\"7.3\"], \"x\": [7.3], \"y\": [\"CAN\"], \"type\": \"scatter\"}, {\"mode\": \"markers\", \"name\": \"CZE\", \"text\": [\"12.0\"], \"x\": [12.0], \"y\": [\"CZE\"], \"type\": \"scatter\"}, {\"mode\": \"markers\", \"name\": \"DNK\", \"text\": [\"8.3\"], \"x\": [8.3], \"y\": [\"DNK\"], \"type\": \"scatter\"}, {\"mode\": \"markers\", \"name\": \"FIN\", \"text\": [\"6.2\"], \"x\": [6.2], \"y\": [\"FIN\"], \"type\": \"scatter\"}, {\"mode\": \"markers\", \"name\": \"FRA\", \"text\": [\"7.8\"], \"x\": [7.8], \"y\": [\"FRA\"], \"type\": \"scatter\"}, {\"mode\": \"markers\", \"name\": \"DEU\", \"text\": [\"8.4\"], \"x\": [8.4], \"y\": [\"DEU\"], \"type\": \"scatter\"}, {\"mode\": \"markers\", \"name\": \"GRC\", \"text\": [\"11.7\"], \"x\": [11.7], \"y\": [\"GRC\"], \"type\": \"scatter\"}, {\"mode\": \"markers\", \"name\": \"HUN\", \"text\": [\"17.3\"], \"x\": [17.3], \"y\": [\"HUN\"], \"type\": \"scatter\"}, {\"mode\": \"markers\", \"name\": \"ISL\", \"text\": [\"7.3\"], \"x\": [7.3], \"y\": [\"ISL\"], \"type\": \"scatter\"}, {\"mode\": \"markers\", \"name\": \"IRL\", \"text\": [\"7.9\"], \"x\": [7.9], \"y\": [\"IRL\"], \"type\": \"scatter\"}, {\"mode\": \"markers\", \"name\": \"ITA\", \"text\": [\"9.8\"], \"x\": [9.8], \"y\": [\"ITA\"], \"type\": \"scatter\"}, {\"mode\": \"markers\", \"name\": \"JPN\", \"text\": [\"5.0\"], \"x\": [5.0], \"y\": [\"JPN\"], \"type\": \"scatter\"}, {\"mode\": \"markers\", \"name\": \"KOR\", \"text\": [\"13.0\"], \"x\": [13.0], \"y\": [\"KOR\"], \"type\": \"scatter\"}, {\"mode\": \"markers\", \"name\": \"LUX\", \"text\": [\"9.4\"], \"x\": [9.4], \"y\": [\"LUX\"], \"type\": \"scatter\"}, {\"mode\": \"markers\", \"name\": \"MEX\", \"text\": [\"38.4\"], \"x\": [38.4], \"y\": [\"MEX\"], \"type\": \"scatter\"}, {\"mode\": \"markers\", \"name\": \"NLD\", \"text\": [\"7.6\"], \"x\": [7.6], \"y\": [\"NLD\"], \"type\": \"scatter\"}, {\"mode\": \"markers\", \"name\": \"NZL\", \"text\": [\"10.1\"], \"x\": [10.1], \"y\": [\"NZL\"], \"type\": \"scatter\"}, {\"mode\": \"markers\", \"name\": \"NOR\", \"text\": [\"8.4\"], \"x\": [8.4], \"y\": [\"NOR\"], \"type\": \"scatter\"}, {\"mode\": \"markers\", \"name\": \"POL\", \"text\": [\"21.2\"], \"x\": [21.2], \"y\": [\"POL\"], \"type\": \"scatter\"}, {\"mode\": \"markers\", \"name\": \"PRT\", \"text\": [\"14.2\"], \"x\": [14.2], \"y\": [\"PRT\"], \"type\": \"scatter\"}, {\"mode\": \"markers\", \"name\": \"SVK\", \"text\": [\"14.2\"], \"x\": [14.2], \"y\": [\"SVK\"], \"type\": \"scatter\"}, {\"mode\": \"markers\", \"name\": \"ESP\", \"text\": [\"8.9\"], \"x\": [8.9], \"y\": [\"ESP\"], \"type\": \"scatter\"}, {\"mode\": \"markers\", \"name\": \"SWE\", \"text\": [\"6.1\"], \"x\": [6.1], \"y\": [\"SWE\"], \"type\": \"scatter\"}, {\"mode\": \"markers\", \"name\": \"CHE\", \"text\": [\"6.8\"], \"x\": [6.8], \"y\": [\"CHE\"], \"type\": \"scatter\"}, {\"mode\": \"markers\", \"name\": \"TUR\", \"text\": [\"0\"], \"x\": [0], \"y\": [\"TUR\"], \"type\": \"scatter\"}, {\"mode\": \"markers\", \"name\": \"GBR\", \"text\": [\"9.1\"], \"x\": [9.1], \"y\": [\"GBR\"], \"type\": \"scatter\"}, {\"mode\": \"markers\", \"name\": \"USA\", \"text\": [\"10.1\"], \"x\": [10.1], \"y\": [\"USA\"], \"type\": \"scatter\"}, {\"mode\": \"markers\", \"name\": \"BRA\", \"text\": [\"56.8\"], \"x\": [56.8], \"y\": [\"BRA\"], \"type\": \"scatter\"}, {\"mode\": \"markers\", \"name\": \"CHL\", \"text\": [\"18.5\"], \"x\": [18.5], \"y\": [\"CHL\"], \"type\": \"scatter\"}, {\"mode\": \"markers\", \"name\": \"CHN\", \"text\": [\"42.0\"], \"x\": [42.0], \"y\": [\"CHN\"], \"type\": \"scatter\"}, {\"mode\": \"markers\", \"name\": \"EST\", \"text\": [\"16.0\"], \"x\": [16.0], \"y\": [\"EST\"], \"type\": \"scatter\"}, {\"mode\": \"markers\", \"name\": \"IND\", \"text\": [\"95.6\"], \"x\": [95.6], \"y\": [\"IND\"], \"type\": \"scatter\"}, {\"mode\": \"markers\", \"name\": \"IDN\", \"text\": [\"69.3\"], \"x\": [69.3], \"y\": [\"IDN\"], \"type\": \"scatter\"}, {\"mode\": \"markers\", \"name\": \"ISR\", \"text\": [\"11.1\"], \"x\": [11.1], \"y\": [\"ISR\"], \"type\": \"scatter\"}, {\"mode\": \"markers\", \"name\": \"RUS\", \"text\": [\"19.4\"], \"x\": [19.4], \"y\": [\"RUS\"], \"type\": \"scatter\"}, {\"mode\": \"markers\", \"name\": \"SVN\", \"text\": [\"11.1\"], \"x\": [11.1], \"y\": [\"SVN\"], \"type\": \"scatter\"}, {\"mode\": \"markers\", \"name\": \"ZAF\", \"text\": [\"51.4\"], \"x\": [51.4], \"y\": [\"ZAF\"], \"type\": \"scatter\"}, {\"mode\": \"markers\", \"name\": \"COL\", \"text\": [\"31.5\"], \"x\": [31.5], \"y\": [\"COL\"], \"type\": \"scatter\"}, {\"mode\": \"markers\", \"name\": \"LVA\", \"text\": [\"11.3\"], \"x\": [11.3], \"y\": [\"LVA\"], \"type\": \"scatter\"}, {\"mode\": \"markers\", \"name\": \"LTU\", \"text\": [\"12.3\"], \"x\": [12.3], \"y\": [\"LTU\"], \"type\": \"scatter\"}, {\"mode\": \"markers\", \"name\": \"CRI\", \"text\": [\"16.3\"], \"x\": [16.3], \"y\": [\"CRI\"], \"type\": \"scatter\"}], \"name\": \"1987\"}, {\"data\": [{\"mode\": \"markers\", \"name\": \"AUS\", \"text\": [\"8.7\"], \"x\": [8.7], \"y\": [\"AUS\"], \"type\": \"scatter\"}, {\"mode\": \"markers\", \"name\": \"AUT\", \"text\": [\"8.1\"], \"x\": [8.1], \"y\": [\"AUT\"], \"type\": \"scatter\"}, {\"mode\": \"markers\", \"name\": \"BEL\", \"text\": [\"9.0\"], \"x\": [9.0], \"y\": [\"BEL\"], \"type\": \"scatter\"}, {\"mode\": \"markers\", \"name\": \"CAN\", \"text\": [\"7.2\"], \"x\": [7.2], \"y\": [\"CAN\"], \"type\": \"scatter\"}, {\"mode\": \"markers\", \"name\": \"CZE\", \"text\": [\"11.0\"], \"x\": [11.0], \"y\": [\"CZE\"], \"type\": \"scatter\"}, {\"mode\": \"markers\", \"name\": \"DNK\", \"text\": [\"7.6\"], \"x\": [7.6], \"y\": [\"DNK\"], \"type\": \"scatter\"}, {\"mode\": \"markers\", \"name\": \"FIN\", \"text\": [\"6.0\"], \"x\": [6.0], \"y\": [\"FIN\"], \"type\": \"scatter\"}, {\"mode\": \"markers\", \"name\": \"FRA\", \"text\": [\"7.8\"], \"x\": [7.8], \"y\": [\"FRA\"], \"type\": \"scatter\"}, {\"mode\": \"markers\", \"name\": \"DEU\", \"text\": [\"7.6\"], \"x\": [7.6], \"y\": [\"DEU\"], \"type\": \"scatter\"}, {\"mode\": \"markers\", \"name\": \"GRC\", \"text\": [\"11.0\"], \"x\": [11.0], \"y\": [\"GRC\"], \"type\": \"scatter\"}, {\"mode\": \"markers\", \"name\": \"HUN\", \"text\": [\"15.8\"], \"x\": [15.8], \"y\": [\"HUN\"], \"type\": \"scatter\"}, {\"mode\": \"markers\", \"name\": \"ISL\", \"text\": [\"6.2\"], \"x\": [6.2], \"y\": [\"ISL\"], \"type\": \"scatter\"}, {\"mode\": \"markers\", \"name\": \"IRL\", \"text\": [\"8.9\"], \"x\": [8.9], \"y\": [\"IRL\"], \"type\": \"scatter\"}, {\"mode\": \"markers\", \"name\": \"ITA\", \"text\": [\"9.3\"], \"x\": [9.3], \"y\": [\"ITA\"], \"type\": \"scatter\"}, {\"mode\": \"markers\", \"name\": \"JPN\", \"text\": [\"4.8\"], \"x\": [4.8], \"y\": [\"JPN\"], \"type\": \"scatter\"}, {\"mode\": \"markers\", \"name\": \"KOR\", \"text\": [\"0\"], \"x\": [0], \"y\": [\"KOR\"], \"type\": \"scatter\"}, {\"mode\": \"markers\", \"name\": \"LUX\", \"text\": [\"8.5\"], \"x\": [8.5], \"y\": [\"LUX\"], \"type\": \"scatter\"}, {\"mode\": \"markers\", \"name\": \"MEX\", \"text\": [\"36.8\"], \"x\": [36.8], \"y\": [\"MEX\"], \"type\": \"scatter\"}, {\"mode\": \"markers\", \"name\": \"NLD\", \"text\": [\"6.8\"], \"x\": [6.8], \"y\": [\"NLD\"], \"type\": \"scatter\"}, {\"mode\": \"markers\", \"name\": \"NZL\", \"text\": [\"10.9\"], \"x\": [10.9], \"y\": [\"NZL\"], \"type\": \"scatter\"}, {\"mode\": \"markers\", \"name\": \"NOR\", \"text\": [\"8.0\"], \"x\": [8.0], \"y\": [\"NOR\"], \"type\": \"scatter\"}, {\"mode\": \"markers\", \"name\": \"POL\", \"text\": [\"19.9\"], \"x\": [19.9], \"y\": [\"POL\"], \"type\": \"scatter\"}, {\"mode\": \"markers\", \"name\": \"PRT\", \"text\": [\"13.0\"], \"x\": [13.0], \"y\": [\"PRT\"], \"type\": \"scatter\"}, {\"mode\": \"markers\", \"name\": \"SVK\", \"text\": [\"13.3\"], \"x\": [13.3], \"y\": [\"SVK\"], \"type\": \"scatter\"}, {\"mode\": \"markers\", \"name\": \"ESP\", \"text\": [\"8.0\"], \"x\": [8.0], \"y\": [\"ESP\"], \"type\": \"scatter\"}, {\"mode\": \"markers\", \"name\": \"SWE\", \"text\": [\"5.8\"], \"x\": [5.8], \"y\": [\"SWE\"], \"type\": \"scatter\"}, {\"mode\": \"markers\", \"name\": \"CHE\", \"text\": [\"6.8\"], \"x\": [6.8], \"y\": [\"CHE\"], \"type\": \"scatter\"}, {\"mode\": \"markers\", \"name\": \"TUR\", \"text\": [\"0\"], \"x\": [0], \"y\": [\"TUR\"], \"type\": \"scatter\"}, {\"mode\": \"markers\", \"name\": \"GBR\", \"text\": [\"9.0\"], \"x\": [9.0], \"y\": [\"GBR\"], \"type\": \"scatter\"}, {\"mode\": \"markers\", \"name\": \"USA\", \"text\": [\"10.0\"], \"x\": [10.0], \"y\": [\"USA\"], \"type\": \"scatter\"}, {\"mode\": \"markers\", \"name\": \"BRA\", \"text\": [\"54.8\"], \"x\": [54.8], \"y\": [\"BRA\"], \"type\": \"scatter\"}, {\"mode\": \"markers\", \"name\": \"CHL\", \"text\": [\"18.9\"], \"x\": [18.9], \"y\": [\"CHL\"], \"type\": \"scatter\"}, {\"mode\": \"markers\", \"name\": \"CHN\", \"text\": [\"42.2\"], \"x\": [42.2], \"y\": [\"CHN\"], \"type\": \"scatter\"}, {\"mode\": \"markers\", \"name\": \"EST\", \"text\": [\"12.5\"], \"x\": [12.5], \"y\": [\"EST\"], \"type\": \"scatter\"}, {\"mode\": \"markers\", \"name\": \"IND\", \"text\": [\"93.1\"], \"x\": [93.1], \"y\": [\"IND\"], \"type\": \"scatter\"}, {\"mode\": \"markers\", \"name\": \"IDN\", \"text\": [\"67.0\"], \"x\": [67.0], \"y\": [\"IDN\"], \"type\": \"scatter\"}, {\"mode\": \"markers\", \"name\": \"ISR\", \"text\": [\"10.1\"], \"x\": [10.1], \"y\": [\"ISR\"], \"type\": \"scatter\"}, {\"mode\": \"markers\", \"name\": \"RUS\", \"text\": [\"19.1\"], \"x\": [19.1], \"y\": [\"RUS\"], \"type\": \"scatter\"}, {\"mode\": \"markers\", \"name\": \"SVN\", \"text\": [\"10.0\"], \"x\": [10.0], \"y\": [\"SVN\"], \"type\": \"scatter\"}, {\"mode\": \"markers\", \"name\": \"ZAF\", \"text\": [\"49.8\"], \"x\": [49.8], \"y\": [\"ZAF\"], \"type\": \"scatter\"}, {\"mode\": \"markers\", \"name\": \"COL\", \"text\": [\"30.5\"], \"x\": [30.5], \"y\": [\"COL\"], \"type\": \"scatter\"}, {\"mode\": \"markers\", \"name\": \"LVA\", \"text\": [\"11.0\"], \"x\": [11.0], \"y\": [\"LVA\"], \"type\": \"scatter\"}, {\"mode\": \"markers\", \"name\": \"LTU\", \"text\": [\"11.6\"], \"x\": [11.6], \"y\": [\"LTU\"], \"type\": \"scatter\"}, {\"mode\": \"markers\", \"name\": \"CRI\", \"text\": [\"15.5\"], \"x\": [15.5], \"y\": [\"CRI\"], \"type\": \"scatter\"}], \"name\": \"1988\"}, {\"data\": [{\"mode\": \"markers\", \"name\": \"AUS\", \"text\": [\"8.0\"], \"x\": [8.0], \"y\": [\"AUS\"], \"type\": \"scatter\"}, {\"mode\": \"markers\", \"name\": \"AUT\", \"text\": [\"8.3\"], \"x\": [8.3], \"y\": [\"AUT\"], \"type\": \"scatter\"}, {\"mode\": \"markers\", \"name\": \"BEL\", \"text\": [\"8.5\"], \"x\": [8.5], \"y\": [\"BEL\"], \"type\": \"scatter\"}, {\"mode\": \"markers\", \"name\": \"CAN\", \"text\": [\"7.1\"], \"x\": [7.1], \"y\": [\"CAN\"], \"type\": \"scatter\"}, {\"mode\": \"markers\", \"name\": \"CZE\", \"text\": [\"10.0\"], \"x\": [10.0], \"y\": [\"CZE\"], \"type\": \"scatter\"}, {\"mode\": \"markers\", \"name\": \"DNK\", \"text\": [\"8.0\"], \"x\": [8.0], \"y\": [\"DNK\"], \"type\": \"scatter\"}, {\"mode\": \"markers\", \"name\": \"FIN\", \"text\": [\"6.1\"], \"x\": [6.1], \"y\": [\"FIN\"], \"type\": \"scatter\"}, {\"mode\": \"markers\", \"name\": \"FRA\", \"text\": [\"7.5\"], \"x\": [7.5], \"y\": [\"FRA\"], \"type\": \"scatter\"}, {\"mode\": \"markers\", \"name\": \"DEU\", \"text\": [\"7.5\"], \"x\": [7.5], \"y\": [\"DEU\"], \"type\": \"scatter\"}, {\"mode\": \"markers\", \"name\": \"GRC\", \"text\": [\"9.7\"], \"x\": [9.7], \"y\": [\"GRC\"], \"type\": \"scatter\"}, {\"mode\": \"markers\", \"name\": \"HUN\", \"text\": [\"15.7\"], \"x\": [15.7], \"y\": [\"HUN\"], \"type\": \"scatter\"}, {\"mode\": \"markers\", \"name\": \"ISL\", \"text\": [\"5.5\"], \"x\": [5.5], \"y\": [\"ISL\"], \"type\": \"scatter\"}, {\"mode\": \"markers\", \"name\": \"IRL\", \"text\": [\"8.1\"], \"x\": [8.1], \"y\": [\"IRL\"], \"type\": \"scatter\"}, {\"mode\": \"markers\", \"name\": \"ITA\", \"text\": [\"8.7\"], \"x\": [8.7], \"y\": [\"ITA\"], \"type\": \"scatter\"}, {\"mode\": \"markers\", \"name\": \"JPN\", \"text\": [\"4.6\"], \"x\": [4.6], \"y\": [\"JPN\"], \"type\": \"scatter\"}, {\"mode\": \"markers\", \"name\": \"KOR\", \"text\": [\"12.0\"], \"x\": [12.0], \"y\": [\"KOR\"], \"type\": \"scatter\"}, {\"mode\": \"markers\", \"name\": \"LUX\", \"text\": [\"9.9\"], \"x\": [9.9], \"y\": [\"LUX\"], \"type\": \"scatter\"}, {\"mode\": \"markers\", \"name\": \"MEX\", \"text\": [\"0\"], \"x\": [0], \"y\": [\"MEX\"], \"type\": \"scatter\"}, {\"mode\": \"markers\", \"name\": \"NLD\", \"text\": [\"6.8\"], \"x\": [6.8], \"y\": [\"NLD\"], \"type\": \"scatter\"}, {\"mode\": \"markers\", \"name\": \"NZL\", \"text\": [\"10.3\"], \"x\": [10.3], \"y\": [\"NZL\"], \"type\": \"scatter\"}, {\"mode\": \"markers\", \"name\": \"NOR\", \"text\": [\"7.8\"], \"x\": [7.8], \"y\": [\"NOR\"], \"type\": \"scatter\"}, {\"mode\": \"markers\", \"name\": \"POL\", \"text\": [\"19.3\"], \"x\": [19.3], \"y\": [\"POL\"], \"type\": \"scatter\"}, {\"mode\": \"markers\", \"name\": \"PRT\", \"text\": [\"12.1\"], \"x\": [12.1], \"y\": [\"PRT\"], \"type\": \"scatter\"}, {\"mode\": \"markers\", \"name\": \"SVK\", \"text\": [\"13.5\"], \"x\": [13.5], \"y\": [\"SVK\"], \"type\": \"scatter\"}, {\"mode\": \"markers\", \"name\": \"ESP\", \"text\": [\"7.8\"], \"x\": [7.8], \"y\": [\"ESP\"], \"type\": \"scatter\"}, {\"mode\": \"markers\", \"name\": \"SWE\", \"text\": [\"5.8\"], \"x\": [5.8], \"y\": [\"SWE\"], \"type\": \"scatter\"}, {\"mode\": \"markers\", \"name\": \"CHE\", \"text\": [\"7.3\"], \"x\": [7.3], \"y\": [\"CHE\"], \"type\": \"scatter\"}, {\"mode\": \"markers\", \"name\": \"TUR\", \"text\": [\"0\"], \"x\": [0], \"y\": [\"TUR\"], \"type\": \"scatter\"}, {\"mode\": \"markers\", \"name\": \"GBR\", \"text\": [\"8.4\"], \"x\": [8.4], \"y\": [\"GBR\"], \"type\": \"scatter\"}, {\"mode\": \"markers\", \"name\": \"USA\", \"text\": [\"9.8\"], \"x\": [9.8], \"y\": [\"USA\"], \"type\": \"scatter\"}, {\"mode\": \"markers\", \"name\": \"BRA\", \"text\": [\"52.8\"], \"x\": [52.8], \"y\": [\"BRA\"], \"type\": \"scatter\"}, {\"mode\": \"markers\", \"name\": \"CHL\", \"text\": [\"17.1\"], \"x\": [17.1], \"y\": [\"CHL\"], \"type\": \"scatter\"}, {\"mode\": \"markers\", \"name\": \"CHN\", \"text\": [\"42.2\"], \"x\": [42.2], \"y\": [\"CHN\"], \"type\": \"scatter\"}, {\"mode\": \"markers\", \"name\": \"EST\", \"text\": [\"14.8\"], \"x\": [14.8], \"y\": [\"EST\"], \"type\": \"scatter\"}, {\"mode\": \"markers\", \"name\": \"IND\", \"text\": [\"90.7\"], \"x\": [90.7], \"y\": [\"IND\"], \"type\": \"scatter\"}, {\"mode\": \"markers\", \"name\": \"IDN\", \"text\": [\"64.6\"], \"x\": [64.6], \"y\": [\"IDN\"], \"type\": \"scatter\"}, {\"mode\": \"markers\", \"name\": \"ISR\", \"text\": [\"10.1\"], \"x\": [10.1], \"y\": [\"ISR\"], \"type\": \"scatter\"}, {\"mode\": \"markers\", \"name\": \"RUS\", \"text\": [\"18.1\"], \"x\": [18.1], \"y\": [\"RUS\"], \"type\": \"scatter\"}, {\"mode\": \"markers\", \"name\": \"SVN\", \"text\": [\"8.1\"], \"x\": [8.1], \"y\": [\"SVN\"], \"type\": \"scatter\"}, {\"mode\": \"markers\", \"name\": \"ZAF\", \"text\": [\"48.5\"], \"x\": [48.5], \"y\": [\"ZAF\"], \"type\": \"scatter\"}, {\"mode\": \"markers\", \"name\": \"COL\", \"text\": [\"29.7\"], \"x\": [29.7], \"y\": [\"COL\"], \"type\": \"scatter\"}, {\"mode\": \"markers\", \"name\": \"LVA\", \"text\": [\"11.3\"], \"x\": [11.3], \"y\": [\"LVA\"], \"type\": \"scatter\"}, {\"mode\": \"markers\", \"name\": \"LTU\", \"text\": [\"10.7\"], \"x\": [10.7], \"y\": [\"LTU\"], \"type\": \"scatter\"}, {\"mode\": \"markers\", \"name\": \"CRI\", \"text\": [\"14.8\"], \"x\": [14.8], \"y\": [\"CRI\"], \"type\": \"scatter\"}], \"name\": \"1989\"}, {\"data\": [{\"mode\": \"markers\", \"name\": \"AUS\", \"text\": [\"8.2\"], \"x\": [8.2], \"y\": [\"AUS\"], \"type\": \"scatter\"}, {\"mode\": \"markers\", \"name\": \"AUT\", \"text\": [\"7.8\"], \"x\": [7.8], \"y\": [\"AUT\"], \"type\": \"scatter\"}, {\"mode\": \"markers\", \"name\": \"BEL\", \"text\": [\"8.0\"], \"x\": [8.0], \"y\": [\"BEL\"], \"type\": \"scatter\"}, {\"mode\": \"markers\", \"name\": \"CAN\", \"text\": [\"6.8\"], \"x\": [6.8], \"y\": [\"CAN\"], \"type\": \"scatter\"}, {\"mode\": \"markers\", \"name\": \"CZE\", \"text\": [\"10.8\"], \"x\": [10.8], \"y\": [\"CZE\"], \"type\": \"scatter\"}, {\"mode\": \"markers\", \"name\": \"DNK\", \"text\": [\"7.5\"], \"x\": [7.5], \"y\": [\"DNK\"], \"type\": \"scatter\"}, {\"mode\": \"markers\", \"name\": \"FIN\", \"text\": [\"5.6\"], \"x\": [5.6], \"y\": [\"FIN\"], \"type\": \"scatter\"}, {\"mode\": \"markers\", \"name\": \"FRA\", \"text\": [\"7.3\"], \"x\": [7.3], \"y\": [\"FRA\"], \"type\": \"scatter\"}, {\"mode\": \"markers\", \"name\": \"DEU\", \"text\": [\"7.0\"], \"x\": [7.0], \"y\": [\"DEU\"], \"type\": \"scatter\"}, {\"mode\": \"markers\", \"name\": \"GRC\", \"text\": [\"9.7\"], \"x\": [9.7], \"y\": [\"GRC\"], \"type\": \"scatter\"}, {\"mode\": \"markers\", \"name\": \"HUN\", \"text\": [\"14.8\"], \"x\": [14.8], \"y\": [\"HUN\"], \"type\": \"scatter\"}, {\"mode\": \"markers\", \"name\": \"ISL\", \"text\": [\"5.9\"], \"x\": [5.9], \"y\": [\"ISL\"], \"type\": \"scatter\"}, {\"mode\": \"markers\", \"name\": \"IRL\", \"text\": [\"8.2\"], \"x\": [8.2], \"y\": [\"IRL\"], \"type\": \"scatter\"}, {\"mode\": \"markers\", \"name\": \"ITA\", \"text\": [\"8.1\"], \"x\": [8.1], \"y\": [\"ITA\"], \"type\": \"scatter\"}, {\"mode\": \"markers\", \"name\": \"JPN\", \"text\": [\"4.6\"], \"x\": [4.6], \"y\": [\"JPN\"], \"type\": \"scatter\"}, {\"mode\": \"markers\", \"name\": \"KOR\", \"text\": [\"0\"], \"x\": [0], \"y\": [\"KOR\"], \"type\": \"scatter\"}, {\"mode\": \"markers\", \"name\": \"LUX\", \"text\": [\"7.3\"], \"x\": [7.3], \"y\": [\"LUX\"], \"type\": \"scatter\"}, {\"mode\": \"markers\", \"name\": \"MEX\", \"text\": [\"32.5\"], \"x\": [32.5], \"y\": [\"MEX\"], \"type\": \"scatter\"}, {\"mode\": \"markers\", \"name\": \"NLD\", \"text\": [\"7.1\"], \"x\": [7.1], \"y\": [\"NLD\"], \"type\": \"scatter\"}, {\"mode\": \"markers\", \"name\": \"NZL\", \"text\": [\"8.4\"], \"x\": [8.4], \"y\": [\"NZL\"], \"type\": \"scatter\"}, {\"mode\": \"markers\", \"name\": \"NOR\", \"text\": [\"6.9\"], \"x\": [6.9], \"y\": [\"NOR\"], \"type\": \"scatter\"}, {\"mode\": \"markers\", \"name\": \"POL\", \"text\": [\"19.4\"], \"x\": [19.4], \"y\": [\"POL\"], \"type\": \"scatter\"}, {\"mode\": \"markers\", \"name\": \"PRT\", \"text\": [\"10.9\"], \"x\": [10.9], \"y\": [\"PRT\"], \"type\": \"scatter\"}, {\"mode\": \"markers\", \"name\": \"SVK\", \"text\": [\"12.0\"], \"x\": [12.0], \"y\": [\"SVK\"], \"type\": \"scatter\"}, {\"mode\": \"markers\", \"name\": \"ESP\", \"text\": [\"7.6\"], \"x\": [7.6], \"y\": [\"ESP\"], \"type\": \"scatter\"}, {\"mode\": \"markers\", \"name\": \"SWE\", \"text\": [\"6.0\"], \"x\": [6.0], \"y\": [\"SWE\"], \"type\": \"scatter\"}, {\"mode\": \"markers\", \"name\": \"CHE\", \"text\": [\"6.8\"], \"x\": [6.8], \"y\": [\"CHE\"], \"type\": \"scatter\"}, {\"mode\": \"markers\", \"name\": \"TUR\", \"text\": [\"0\"], \"x\": [0], \"y\": [\"TUR\"], \"type\": \"scatter\"}, {\"mode\": \"markers\", \"name\": \"GBR\", \"text\": [\"7.9\"], \"x\": [7.9], \"y\": [\"GBR\"], \"type\": \"scatter\"}, {\"mode\": \"markers\", \"name\": \"USA\", \"text\": [\"9.2\"], \"x\": [9.2], \"y\": [\"USA\"], \"type\": \"scatter\"}, {\"mode\": \"markers\", \"name\": \"BRA\", \"text\": [\"50.9\"], \"x\": [50.9], \"y\": [\"BRA\"], \"type\": \"scatter\"}, {\"mode\": \"markers\", \"name\": \"CHL\", \"text\": [\"16.0\"], \"x\": [16.0], \"y\": [\"CHL\"], \"type\": \"scatter\"}, {\"mode\": \"markers\", \"name\": \"CHN\", \"text\": [\"42.1\"], \"x\": [42.1], \"y\": [\"CHN\"], \"type\": \"scatter\"}, {\"mode\": \"markers\", \"name\": \"EST\", \"text\": [\"12.3\"], \"x\": [12.3], \"y\": [\"EST\"], \"type\": \"scatter\"}, {\"mode\": \"markers\", \"name\": \"IND\", \"text\": [\"88.3\"], \"x\": [88.3], \"y\": [\"IND\"], \"type\": \"scatter\"}, {\"mode\": \"markers\", \"name\": \"IDN\", \"text\": [\"62.2\"], \"x\": [62.2], \"y\": [\"IDN\"], \"type\": \"scatter\"}, {\"mode\": \"markers\", \"name\": \"ISR\", \"text\": [\"9.9\"], \"x\": [9.9], \"y\": [\"ISR\"], \"type\": \"scatter\"}, {\"mode\": \"markers\", \"name\": \"RUS\", \"text\": [\"17.4\"], \"x\": [17.4], \"y\": [\"RUS\"], \"type\": \"scatter\"}, {\"mode\": \"markers\", \"name\": \"SVN\", \"text\": [\"8.4\"], \"x\": [8.4], \"y\": [\"SVN\"], \"type\": \"scatter\"}, {\"mode\": \"markers\", \"name\": \"ZAF\", \"text\": [\"47.4\"], \"x\": [47.4], \"y\": [\"ZAF\"], \"type\": \"scatter\"}, {\"mode\": \"markers\", \"name\": \"COL\", \"text\": [\"38.4\"], \"x\": [38.4], \"y\": [\"COL\"], \"type\": \"scatter\"}, {\"mode\": \"markers\", \"name\": \"LVA\", \"text\": [\"13.7\"], \"x\": [13.7], \"y\": [\"LVA\"], \"type\": \"scatter\"}, {\"mode\": \"markers\", \"name\": \"LTU\", \"text\": [\"10.2\"], \"x\": [10.2], \"y\": [\"LTU\"], \"type\": \"scatter\"}, {\"mode\": \"markers\", \"name\": \"CRI\", \"text\": [\"14.3\"], \"x\": [14.3], \"y\": [\"CRI\"], \"type\": \"scatter\"}], \"name\": \"1990\"}, {\"data\": [{\"mode\": \"markers\", \"name\": \"AUS\", \"text\": [\"7.1\"], \"x\": [7.1], \"y\": [\"AUS\"], \"type\": \"scatter\"}, {\"mode\": \"markers\", \"name\": \"AUT\", \"text\": [\"7.5\"], \"x\": [7.5], \"y\": [\"AUT\"], \"type\": \"scatter\"}, {\"mode\": \"markers\", \"name\": \"BEL\", \"text\": [\"8.3\"], \"x\": [8.3], \"y\": [\"BEL\"], \"type\": \"scatter\"}, {\"mode\": \"markers\", \"name\": \"CAN\", \"text\": [\"6.4\"], \"x\": [6.4], \"y\": [\"CAN\"], \"type\": \"scatter\"}, {\"mode\": \"markers\", \"name\": \"CZE\", \"text\": [\"10.4\"], \"x\": [10.4], \"y\": [\"CZE\"], \"type\": \"scatter\"}, {\"mode\": \"markers\", \"name\": \"DNK\", \"text\": [\"7.3\"], \"x\": [7.3], \"y\": [\"DNK\"], \"type\": \"scatter\"}, {\"mode\": \"markers\", \"name\": \"FIN\", \"text\": [\"5.8\"], \"x\": [5.8], \"y\": [\"FIN\"], \"type\": \"scatter\"}, {\"mode\": \"markers\", \"name\": \"FRA\", \"text\": [\"7.3\"], \"x\": [7.3], \"y\": [\"FRA\"], \"type\": \"scatter\"}, {\"mode\": \"markers\", \"name\": \"DEU\", \"text\": [\"6.9\"], \"x\": [6.9], \"y\": [\"DEU\"], \"type\": \"scatter\"}, {\"mode\": \"markers\", \"name\": \"GRC\", \"text\": [\"9.0\"], \"x\": [9.0], \"y\": [\"GRC\"], \"type\": \"scatter\"}, {\"mode\": \"markers\", \"name\": \"HUN\", \"text\": [\"15.6\"], \"x\": [15.6], \"y\": [\"HUN\"], \"type\": \"scatter\"}, {\"mode\": \"markers\", \"name\": \"ISL\", \"text\": [\"5.5\"], \"x\": [5.5], \"y\": [\"ISL\"], \"type\": \"scatter\"}, {\"mode\": \"markers\", \"name\": \"IRL\", \"text\": [\"7.6\"], \"x\": [7.6], \"y\": [\"IRL\"], \"type\": \"scatter\"}, {\"mode\": \"markers\", \"name\": \"ITA\", \"text\": [\"8.0\"], \"x\": [8.0], \"y\": [\"ITA\"], \"type\": \"scatter\"}, {\"mode\": \"markers\", \"name\": \"JPN\", \"text\": [\"4.4\"], \"x\": [4.4], \"y\": [\"JPN\"], \"type\": \"scatter\"}, {\"mode\": \"markers\", \"name\": \"KOR\", \"text\": [\"10.0\"], \"x\": [10.0], \"y\": [\"KOR\"], \"type\": \"scatter\"}, {\"mode\": \"markers\", \"name\": \"LUX\", \"text\": [\"9.2\"], \"x\": [9.2], \"y\": [\"LUX\"], \"type\": \"scatter\"}, {\"mode\": \"markers\", \"name\": \"MEX\", \"text\": [\"31.1\"], \"x\": [31.1], \"y\": [\"MEX\"], \"type\": \"scatter\"}, {\"mode\": \"markers\", \"name\": \"NLD\", \"text\": [\"6.5\"], \"x\": [6.5], \"y\": [\"NLD\"], \"type\": \"scatter\"}, {\"mode\": \"markers\", \"name\": \"NZL\", \"text\": [\"8.4\"], \"x\": [8.4], \"y\": [\"NZL\"], \"type\": \"scatter\"}, {\"mode\": \"markers\", \"name\": \"NOR\", \"text\": [\"6.2\"], \"x\": [6.2], \"y\": [\"NOR\"], \"type\": \"scatter\"}, {\"mode\": \"markers\", \"name\": \"POL\", \"text\": [\"18.2\"], \"x\": [18.2], \"y\": [\"POL\"], \"type\": \"scatter\"}, {\"mode\": \"markers\", \"name\": \"PRT\", \"text\": [\"10.8\"], \"x\": [10.8], \"y\": [\"PRT\"], \"type\": \"scatter\"}, {\"mode\": \"markers\", \"name\": \"SVK\", \"text\": [\"13.2\"], \"x\": [13.2], \"y\": [\"SVK\"], \"type\": \"scatter\"}, {\"mode\": \"markers\", \"name\": \"ESP\", \"text\": [\"7.2\"], \"x\": [7.2], \"y\": [\"ESP\"], \"type\": \"scatter\"}, {\"mode\": \"markers\", \"name\": \"SWE\", \"text\": [\"6.2\"], \"x\": [6.2], \"y\": [\"SWE\"], \"type\": \"scatter\"}, {\"mode\": \"markers\", \"name\": \"CHE\", \"text\": [\"6.2\"], \"x\": [6.2], \"y\": [\"CHE\"], \"type\": \"scatter\"}, {\"mode\": \"markers\", \"name\": \"TUR\", \"text\": [\"0\"], \"x\": [0], \"y\": [\"TUR\"], \"type\": \"scatter\"}, {\"mode\": \"markers\", \"name\": \"GBR\", \"text\": [\"7.4\"], \"x\": [7.4], \"y\": [\"GBR\"], \"type\": \"scatter\"}, {\"mode\": \"markers\", \"name\": \"USA\", \"text\": [\"8.9\"], \"x\": [8.9], \"y\": [\"USA\"], \"type\": \"scatter\"}, {\"mode\": \"markers\", \"name\": \"BRA\", \"text\": [\"48.9\"], \"x\": [48.9], \"y\": [\"BRA\"], \"type\": \"scatter\"}, {\"mode\": \"markers\", \"name\": \"CHL\", \"text\": [\"14.6\"], \"x\": [14.6], \"y\": [\"CHL\"], \"type\": \"scatter\"}, {\"mode\": \"markers\", \"name\": \"CHN\", \"text\": [\"41.8\"], \"x\": [41.8], \"y\": [\"CHN\"], \"type\": \"scatter\"}, {\"mode\": \"markers\", \"name\": \"EST\", \"text\": [\"13.3\"], \"x\": [13.3], \"y\": [\"EST\"], \"type\": \"scatter\"}, {\"mode\": \"markers\", \"name\": \"IND\", \"text\": [\"86.1\"], \"x\": [86.1], \"y\": [\"IND\"], \"type\": \"scatter\"}, {\"mode\": \"markers\", \"name\": \"IDN\", \"text\": [\"59.8\"], \"x\": [59.8], \"y\": [\"IDN\"], \"type\": \"scatter\"}, {\"mode\": \"markers\", \"name\": \"ISR\", \"text\": [\"9.2\"], \"x\": [9.2], \"y\": [\"ISR\"], \"type\": \"scatter\"}, {\"mode\": \"markers\", \"name\": \"RUS\", \"text\": [\"17.8\"], \"x\": [17.8], \"y\": [\"RUS\"], \"type\": \"scatter\"}, {\"mode\": \"markers\", \"name\": \"SVN\", \"text\": [\"8.2\"], \"x\": [8.2], \"y\": [\"SVN\"], \"type\": \"scatter\"}, {\"mode\": \"markers\", \"name\": \"ZAF\", \"text\": [\"46.7\"], \"x\": [46.7], \"y\": [\"ZAF\"], \"type\": \"scatter\"}, {\"mode\": \"markers\", \"name\": \"COL\", \"text\": [\"36.1\"], \"x\": [36.1], \"y\": [\"COL\"], \"type\": \"scatter\"}, {\"mode\": \"markers\", \"name\": \"LVA\", \"text\": [\"15.7\"], \"x\": [15.7], \"y\": [\"LVA\"], \"type\": \"scatter\"}, {\"mode\": \"markers\", \"name\": \"LTU\", \"text\": [\"14.4\"], \"x\": [14.4], \"y\": [\"LTU\"], \"type\": \"scatter\"}, {\"mode\": \"markers\", \"name\": \"CRI\", \"text\": [\"14.0\"], \"x\": [14.0], \"y\": [\"CRI\"], \"type\": \"scatter\"}], \"name\": \"1991\"}, {\"data\": [{\"mode\": \"markers\", \"name\": \"AUS\", \"text\": [\"7.0\"], \"x\": [7.0], \"y\": [\"AUS\"], \"type\": \"scatter\"}, {\"mode\": \"markers\", \"name\": \"AUT\", \"text\": [\"7.5\"], \"x\": [7.5], \"y\": [\"AUT\"], \"type\": \"scatter\"}, {\"mode\": \"markers\", \"name\": \"BEL\", \"text\": [\"8.2\"], \"x\": [8.2], \"y\": [\"BEL\"], \"type\": \"scatter\"}, {\"mode\": \"markers\", \"name\": \"CAN\", \"text\": [\"6.3\"], \"x\": [6.3], \"y\": [\"CAN\"], \"type\": \"scatter\"}, {\"mode\": \"markers\", \"name\": \"CZE\", \"text\": [\"9.9\"], \"x\": [9.9], \"y\": [\"CZE\"], \"type\": \"scatter\"}, {\"mode\": \"markers\", \"name\": \"DNK\", \"text\": [\"6.6\"], \"x\": [6.6], \"y\": [\"DNK\"], \"type\": \"scatter\"}, {\"mode\": \"markers\", \"name\": \"FIN\", \"text\": [\"5.2\"], \"x\": [5.2], \"y\": [\"FIN\"], \"type\": \"scatter\"}, {\"mode\": \"markers\", \"name\": \"FRA\", \"text\": [\"6.8\"], \"x\": [6.8], \"y\": [\"FRA\"], \"type\": \"scatter\"}, {\"mode\": \"markers\", \"name\": \"DEU\", \"text\": [\"6.2\"], \"x\": [6.2], \"y\": [\"DEU\"], \"type\": \"scatter\"}, {\"mode\": \"markers\", \"name\": \"GRC\", \"text\": [\"8.4\"], \"x\": [8.4], \"y\": [\"GRC\"], \"type\": \"scatter\"}, {\"mode\": \"markers\", \"name\": \"HUN\", \"text\": [\"14.1\"], \"x\": [14.1], \"y\": [\"HUN\"], \"type\": \"scatter\"}, {\"mode\": \"markers\", \"name\": \"ISL\", \"text\": [\"4.8\"], \"x\": [4.8], \"y\": [\"ISL\"], \"type\": \"scatter\"}, {\"mode\": \"markers\", \"name\": \"IRL\", \"text\": [\"6.5\"], \"x\": [6.5], \"y\": [\"IRL\"], \"type\": \"scatter\"}, {\"mode\": \"markers\", \"name\": \"ITA\", \"text\": [\"7.8\"], \"x\": [7.8], \"y\": [\"ITA\"], \"type\": \"scatter\"}, {\"mode\": \"markers\", \"name\": \"JPN\", \"text\": [\"4.5\"], \"x\": [4.5], \"y\": [\"JPN\"], \"type\": \"scatter\"}, {\"mode\": \"markers\", \"name\": \"KOR\", \"text\": [\"0\"], \"x\": [0], \"y\": [\"KOR\"], \"type\": \"scatter\"}, {\"mode\": \"markers\", \"name\": \"LUX\", \"text\": [\"8.5\"], \"x\": [8.5], \"y\": [\"LUX\"], \"type\": \"scatter\"}, {\"mode\": \"markers\", \"name\": \"MEX\", \"text\": [\"29.7\"], \"x\": [29.7], \"y\": [\"MEX\"], \"type\": \"scatter\"}, {\"mode\": \"markers\", \"name\": \"NLD\", \"text\": [\"6.3\"], \"x\": [6.3], \"y\": [\"NLD\"], \"type\": \"scatter\"}, {\"mode\": \"markers\", \"name\": \"NZL\", \"text\": [\"7.3\"], \"x\": [7.3], \"y\": [\"NZL\"], \"type\": \"scatter\"}, {\"mode\": \"markers\", \"name\": \"NOR\", \"text\": [\"5.8\"], \"x\": [5.8], \"y\": [\"NOR\"], \"type\": \"scatter\"}, {\"mode\": \"markers\", \"name\": \"POL\", \"text\": [\"17.5\"], \"x\": [17.5], \"y\": [\"POL\"], \"type\": \"scatter\"}, {\"mode\": \"markers\", \"name\": \"PRT\", \"text\": [\"9.2\"], \"x\": [9.2], \"y\": [\"PRT\"], \"type\": \"scatter\"}, {\"mode\": \"markers\", \"name\": \"SVK\", \"text\": [\"12.6\"], \"x\": [12.6], \"y\": [\"SVK\"], \"type\": \"scatter\"}, {\"mode\": \"markers\", \"name\": \"ESP\", \"text\": [\"7.1\"], \"x\": [7.1], \"y\": [\"ESP\"], \"type\": \"scatter\"}, {\"mode\": \"markers\", \"name\": \"SWE\", \"text\": [\"5.3\"], \"x\": [5.3], \"y\": [\"SWE\"], \"type\": \"scatter\"}, {\"mode\": \"markers\", \"name\": \"CHE\", \"text\": [\"6.4\"], \"x\": [6.4], \"y\": [\"CHE\"], \"type\": \"scatter\"}, {\"mode\": \"markers\", \"name\": \"TUR\", \"text\": [\"0\"], \"x\": [0], \"y\": [\"TUR\"], \"type\": \"scatter\"}, {\"mode\": \"markers\", \"name\": \"GBR\", \"text\": [\"6.6\"], \"x\": [6.6], \"y\": [\"GBR\"], \"type\": \"scatter\"}, {\"mode\": \"markers\", \"name\": \"USA\", \"text\": [\"8.5\"], \"x\": [8.5], \"y\": [\"USA\"], \"type\": \"scatter\"}, {\"mode\": \"markers\", \"name\": \"BRA\", \"text\": [\"46.8\"], \"x\": [46.8], \"y\": [\"BRA\"], \"type\": \"scatter\"}, {\"mode\": \"markers\", \"name\": \"CHL\", \"text\": [\"14.3\"], \"x\": [14.3], \"y\": [\"CHL\"], \"type\": \"scatter\"}, {\"mode\": \"markers\", \"name\": \"CHN\", \"text\": [\"41.2\"], \"x\": [41.2], \"y\": [\"CHN\"], \"type\": \"scatter\"}, {\"mode\": \"markers\", \"name\": \"EST\", \"text\": [\"15.7\"], \"x\": [15.7], \"y\": [\"EST\"], \"type\": \"scatter\"}, {\"mode\": \"markers\", \"name\": \"IND\", \"text\": [\"83.9\"], \"x\": [83.9], \"y\": [\"IND\"], \"type\": \"scatter\"}, {\"mode\": \"markers\", \"name\": \"IDN\", \"text\": [\"57.4\"], \"x\": [57.4], \"y\": [\"IDN\"], \"type\": \"scatter\"}, {\"mode\": \"markers\", \"name\": \"ISR\", \"text\": [\"9.4\"], \"x\": [9.4], \"y\": [\"ISR\"], \"type\": \"scatter\"}, {\"mode\": \"markers\", \"name\": \"RUS\", \"text\": [\"18.0\"], \"x\": [18.0], \"y\": [\"RUS\"], \"type\": \"scatter\"}, {\"mode\": \"markers\", \"name\": \"SVN\", \"text\": [\"8.9\"], \"x\": [8.9], \"y\": [\"SVN\"], \"type\": \"scatter\"}, {\"mode\": \"markers\", \"name\": \"ZAF\", \"text\": [\"46.4\"], \"x\": [46.4], \"y\": [\"ZAF\"], \"type\": \"scatter\"}, {\"mode\": \"markers\", \"name\": \"COL\", \"text\": [\"34.1\"], \"x\": [34.1], \"y\": [\"COL\"], \"type\": \"scatter\"}, {\"mode\": \"markers\", \"name\": \"LVA\", \"text\": [\"17.6\"], \"x\": [17.6], \"y\": [\"LVA\"], \"type\": \"scatter\"}, {\"mode\": \"markers\", \"name\": \"LTU\", \"text\": [\"16.3\"], \"x\": [16.3], \"y\": [\"LTU\"], \"type\": \"scatter\"}, {\"mode\": \"markers\", \"name\": \"CRI\", \"text\": [\"13.7\"], \"x\": [13.7], \"y\": [\"CRI\"], \"type\": \"scatter\"}], \"name\": \"1992\"}, {\"data\": [{\"mode\": \"markers\", \"name\": \"AUS\", \"text\": [\"6.1\"], \"x\": [6.1], \"y\": [\"AUS\"], \"type\": \"scatter\"}, {\"mode\": \"markers\", \"name\": \"AUT\", \"text\": [\"6.5\"], \"x\": [6.5], \"y\": [\"AUT\"], \"type\": \"scatter\"}, {\"mode\": \"markers\", \"name\": \"BEL\", \"text\": [\"8.0\"], \"x\": [8.0], \"y\": [\"BEL\"], \"type\": \"scatter\"}, {\"mode\": \"markers\", \"name\": \"CAN\", \"text\": [\"6.8\"], \"x\": [6.8], \"y\": [\"CAN\"], \"type\": \"scatter\"}, {\"mode\": \"markers\", \"name\": \"CZE\", \"text\": [\"8.5\"], \"x\": [8.5], \"y\": [\"CZE\"], \"type\": \"scatter\"}, {\"mode\": \"markers\", \"name\": \"DNK\", \"text\": [\"5.4\"], \"x\": [5.4], \"y\": [\"DNK\"], \"type\": \"scatter\"}, {\"mode\": \"markers\", \"name\": \"FIN\", \"text\": [\"4.4\"], \"x\": [4.4], \"y\": [\"FIN\"], \"type\": \"scatter\"}, {\"mode\": \"markers\", \"name\": \"FRA\", \"text\": [\"6.5\"], \"x\": [6.5], \"y\": [\"FRA\"], \"type\": \"scatter\"}, {\"mode\": \"markers\", \"name\": \"DEU\", \"text\": [\"5.8\"], \"x\": [5.8], \"y\": [\"DEU\"], \"type\": \"scatter\"}, {\"mode\": \"markers\", \"name\": \"GRC\", \"text\": [\"8.5\"], \"x\": [8.5], \"y\": [\"GRC\"], \"type\": \"scatter\"}, {\"mode\": \"markers\", \"name\": \"HUN\", \"text\": [\"12.5\"], \"x\": [12.5], \"y\": [\"HUN\"], \"type\": \"scatter\"}, {\"mode\": \"markers\", \"name\": \"ISL\", \"text\": [\"4.8\"], \"x\": [4.8], \"y\": [\"ISL\"], \"type\": \"scatter\"}, {\"mode\": \"markers\", \"name\": \"IRL\", \"text\": [\"6.1\"], \"x\": [6.1], \"y\": [\"IRL\"], \"type\": \"scatter\"}, {\"mode\": \"markers\", \"name\": \"ITA\", \"text\": [\"7.0\"], \"x\": [7.0], \"y\": [\"ITA\"], \"type\": \"scatter\"}, {\"mode\": \"markers\", \"name\": \"JPN\", \"text\": [\"4.3\"], \"x\": [4.3], \"y\": [\"JPN\"], \"type\": \"scatter\"}, {\"mode\": \"markers\", \"name\": \"KOR\", \"text\": [\"9.9\"], \"x\": [9.9], \"y\": [\"KOR\"], \"type\": \"scatter\"}, {\"mode\": \"markers\", \"name\": \"LUX\", \"text\": [\"6.0\"], \"x\": [6.0], \"y\": [\"LUX\"], \"type\": \"scatter\"}, {\"mode\": \"markers\", \"name\": \"MEX\", \"text\": [\"28.4\"], \"x\": [28.4], \"y\": [\"MEX\"], \"type\": \"scatter\"}, {\"mode\": \"markers\", \"name\": \"NLD\", \"text\": [\"6.3\"], \"x\": [6.3], \"y\": [\"NLD\"], \"type\": \"scatter\"}, {\"mode\": \"markers\", \"name\": \"NZL\", \"text\": [\"7.3\"], \"x\": [7.3], \"y\": [\"NZL\"], \"type\": \"scatter\"}, {\"mode\": \"markers\", \"name\": \"NOR\", \"text\": [\"5.0\"], \"x\": [5.0], \"y\": [\"NOR\"], \"type\": \"scatter\"}, {\"mode\": \"markers\", \"name\": \"POL\", \"text\": [\"16.2\"], \"x\": [16.2], \"y\": [\"POL\"], \"type\": \"scatter\"}, {\"mode\": \"markers\", \"name\": \"PRT\", \"text\": [\"8.6\"], \"x\": [8.6], \"y\": [\"PRT\"], \"type\": \"scatter\"}, {\"mode\": \"markers\", \"name\": \"SVK\", \"text\": [\"10.6\"], \"x\": [10.6], \"y\": [\"SVK\"], \"type\": \"scatter\"}, {\"mode\": \"markers\", \"name\": \"ESP\", \"text\": [\"6.7\"], \"x\": [6.7], \"y\": [\"ESP\"], \"type\": \"scatter\"}, {\"mode\": \"markers\", \"name\": \"SWE\", \"text\": [\"4.8\"], \"x\": [4.8], \"y\": [\"SWE\"], \"type\": \"scatter\"}, {\"mode\": \"markers\", \"name\": \"CHE\", \"text\": [\"5.6\"], \"x\": [5.6], \"y\": [\"CHE\"], \"type\": \"scatter\"}, {\"mode\": \"markers\", \"name\": \"TUR\", \"text\": [\"0\"], \"x\": [0], \"y\": [\"TUR\"], \"type\": \"scatter\"}, {\"mode\": \"markers\", \"name\": \"GBR\", \"text\": [\"6.3\"], \"x\": [6.3], \"y\": [\"GBR\"], \"type\": \"scatter\"}, {\"mode\": \"markers\", \"name\": \"USA\", \"text\": [\"8.4\"], \"x\": [8.4], \"y\": [\"USA\"], \"type\": \"scatter\"}, {\"mode\": \"markers\", \"name\": \"BRA\", \"text\": [\"44.6\"], \"x\": [44.6], \"y\": [\"BRA\"], \"type\": \"scatter\"}, {\"mode\": \"markers\", \"name\": \"CHL\", \"text\": [\"13.1\"], \"x\": [13.1], \"y\": [\"CHL\"], \"type\": \"scatter\"}, {\"mode\": \"markers\", \"name\": \"CHN\", \"text\": [\"40.2\"], \"x\": [40.2], \"y\": [\"CHN\"], \"type\": \"scatter\"}, {\"mode\": \"markers\", \"name\": \"EST\", \"text\": [\"15.6\"], \"x\": [15.6], \"y\": [\"EST\"], \"type\": \"scatter\"}, {\"mode\": \"markers\", \"name\": \"IND\", \"text\": [\"81.7\"], \"x\": [81.7], \"y\": [\"IND\"], \"type\": \"scatter\"}, {\"mode\": \"markers\", \"name\": \"IDN\", \"text\": [\"55.1\"], \"x\": [55.1], \"y\": [\"IDN\"], \"type\": \"scatter\"}, {\"mode\": \"markers\", \"name\": \"ISR\", \"text\": [\"7.8\"], \"x\": [7.8], \"y\": [\"ISR\"], \"type\": \"scatter\"}, {\"mode\": \"markers\", \"name\": \"RUS\", \"text\": [\"19.9\"], \"x\": [19.9], \"y\": [\"RUS\"], \"type\": \"scatter\"}, {\"mode\": \"markers\", \"name\": \"SVN\", \"text\": [\"6.8\"], \"x\": [6.8], \"y\": [\"SVN\"], \"type\": \"scatter\"}, {\"mode\": \"markers\", \"name\": \"ZAF\", \"text\": [\"46.6\"], \"x\": [46.6], \"y\": [\"ZAF\"], \"type\": \"scatter\"}, {\"mode\": \"markers\", \"name\": \"COL\", \"text\": [\"32.5\"], \"x\": [32.5], \"y\": [\"COL\"], \"type\": \"scatter\"}, {\"mode\": \"markers\", \"name\": \"LVA\", \"text\": [\"16.2\"], \"x\": [16.2], \"y\": [\"LVA\"], \"type\": \"scatter\"}, {\"mode\": \"markers\", \"name\": \"LTU\", \"text\": [\"15.7\"], \"x\": [15.7], \"y\": [\"LTU\"], \"type\": \"scatter\"}, {\"mode\": \"markers\", \"name\": \"CRI\", \"text\": [\"13.5\"], \"x\": [13.5], \"y\": [\"CRI\"], \"type\": \"scatter\"}], \"name\": \"1993\"}, {\"data\": [{\"mode\": \"markers\", \"name\": \"AUS\", \"text\": [\"5.9\"], \"x\": [5.9], \"y\": [\"AUS\"], \"type\": \"scatter\"}, {\"mode\": \"markers\", \"name\": \"AUT\", \"text\": [\"6.3\"], \"x\": [6.3], \"y\": [\"AUT\"], \"type\": \"scatter\"}, {\"mode\": \"markers\", \"name\": \"BEL\", \"text\": [\"7.6\"], \"x\": [7.6], \"y\": [\"BEL\"], \"type\": \"scatter\"}, {\"mode\": \"markers\", \"name\": \"CAN\", \"text\": [\"6.3\"], \"x\": [6.3], \"y\": [\"CAN\"], \"type\": \"scatter\"}, {\"mode\": \"markers\", \"name\": \"CZE\", \"text\": [\"7.9\"], \"x\": [7.9], \"y\": [\"CZE\"], \"type\": \"scatter\"}, {\"mode\": \"markers\", \"name\": \"DNK\", \"text\": [\"5.5\"], \"x\": [5.5], \"y\": [\"DNK\"], \"type\": \"scatter\"}, {\"mode\": \"markers\", \"name\": \"FIN\", \"text\": [\"4.7\"], \"x\": [4.7], \"y\": [\"FIN\"], \"type\": \"scatter\"}, {\"mode\": \"markers\", \"name\": \"FRA\", \"text\": [\"6.0\"], \"x\": [6.0], \"y\": [\"FRA\"], \"type\": \"scatter\"}, {\"mode\": \"markers\", \"name\": \"DEU\", \"text\": [\"5.6\"], \"x\": [5.6], \"y\": [\"DEU\"], \"type\": \"scatter\"}, {\"mode\": \"markers\", \"name\": \"GRC\", \"text\": [\"7.9\"], \"x\": [7.9], \"y\": [\"GRC\"], \"type\": \"scatter\"}, {\"mode\": \"markers\", \"name\": \"HUN\", \"text\": [\"11.5\"], \"x\": [11.5], \"y\": [\"HUN\"], \"type\": \"scatter\"}, {\"mode\": \"markers\", \"name\": \"ISL\", \"text\": [\"3.4\"], \"x\": [3.4], \"y\": [\"ISL\"], \"type\": \"scatter\"}, {\"mode\": \"markers\", \"name\": \"IRL\", \"text\": [\"5.7\"], \"x\": [5.7], \"y\": [\"IRL\"], \"type\": \"scatter\"}, {\"mode\": \"markers\", \"name\": \"ITA\", \"text\": [\"6.4\"], \"x\": [6.4], \"y\": [\"ITA\"], \"type\": \"scatter\"}, {\"mode\": \"markers\", \"name\": \"JPN\", \"text\": [\"4.2\"], \"x\": [4.2], \"y\": [\"JPN\"], \"type\": \"scatter\"}, {\"mode\": \"markers\", \"name\": \"KOR\", \"text\": [\"0\"], \"x\": [0], \"y\": [\"KOR\"], \"type\": \"scatter\"}, {\"mode\": \"markers\", \"name\": \"LUX\", \"text\": [\"5.3\"], \"x\": [5.3], \"y\": [\"LUX\"], \"type\": \"scatter\"}, {\"mode\": \"markers\", \"name\": \"MEX\", \"text\": [\"27.2\"], \"x\": [27.2], \"y\": [\"MEX\"], \"type\": \"scatter\"}, {\"mode\": \"markers\", \"name\": \"NLD\", \"text\": [\"5.6\"], \"x\": [5.6], \"y\": [\"NLD\"], \"type\": \"scatter\"}, {\"mode\": \"markers\", \"name\": \"NZL\", \"text\": [\"7.2\"], \"x\": [7.2], \"y\": [\"NZL\"], \"type\": \"scatter\"}, {\"mode\": \"markers\", \"name\": \"NOR\", \"text\": [\"5.2\"], \"x\": [5.2], \"y\": [\"NOR\"], \"type\": \"scatter\"}, {\"mode\": \"markers\", \"name\": \"POL\", \"text\": [\"15.1\"], \"x\": [15.1], \"y\": [\"POL\"], \"type\": \"scatter\"}, {\"mode\": \"markers\", \"name\": \"PRT\", \"text\": [\"7.9\"], \"x\": [7.9], \"y\": [\"PRT\"], \"type\": \"scatter\"}, {\"mode\": \"markers\", \"name\": \"SVK\", \"text\": [\"11.2\"], \"x\": [11.2], \"y\": [\"SVK\"], \"type\": \"scatter\"}, {\"mode\": \"markers\", \"name\": \"ESP\", \"text\": [\"6.0\"], \"x\": [6.0], \"y\": [\"ESP\"], \"type\": \"scatter\"}, {\"mode\": \"markers\", \"name\": \"SWE\", \"text\": [\"4.4\"], \"x\": [4.4], \"y\": [\"SWE\"], \"type\": \"scatter\"}, {\"mode\": \"markers\", \"name\": \"CHE\", \"text\": [\"5.1\"], \"x\": [5.1], \"y\": [\"CHE\"], \"type\": \"scatter\"}, {\"mode\": \"markers\", \"name\": \"TUR\", \"text\": [\"0\"], \"x\": [0], \"y\": [\"TUR\"], \"type\": \"scatter\"}, {\"mode\": \"markers\", \"name\": \"GBR\", \"text\": [\"6.2\"], \"x\": [6.2], \"y\": [\"GBR\"], \"type\": \"scatter\"}, {\"mode\": \"markers\", \"name\": \"USA\", \"text\": [\"8.0\"], \"x\": [8.0], \"y\": [\"USA\"], \"type\": \"scatter\"}, {\"mode\": \"markers\", \"name\": \"BRA\", \"text\": [\"42.2\"], \"x\": [42.2], \"y\": [\"BRA\"], \"type\": \"scatter\"}, {\"mode\": \"markers\", \"name\": \"CHL\", \"text\": [\"12.0\"], \"x\": [12.0], \"y\": [\"CHL\"], \"type\": \"scatter\"}, {\"mode\": \"markers\", \"name\": \"CHN\", \"text\": [\"39.0\"], \"x\": [39.0], \"y\": [\"CHN\"], \"type\": \"scatter\"}, {\"mode\": \"markers\", \"name\": \"EST\", \"text\": [\"14.4\"], \"x\": [14.4], \"y\": [\"EST\"], \"type\": \"scatter\"}, {\"mode\": \"markers\", \"name\": \"IND\", \"text\": [\"79.6\"], \"x\": [79.6], \"y\": [\"IND\"], \"type\": \"scatter\"}, {\"mode\": \"markers\", \"name\": \"IDN\", \"text\": [\"52.9\"], \"x\": [52.9], \"y\": [\"IDN\"], \"type\": \"scatter\"}, {\"mode\": \"markers\", \"name\": \"ISR\", \"text\": [\"7.5\"], \"x\": [7.5], \"y\": [\"ISR\"], \"type\": \"scatter\"}, {\"mode\": \"markers\", \"name\": \"RUS\", \"text\": [\"18.6\"], \"x\": [18.6], \"y\": [\"RUS\"], \"type\": \"scatter\"}, {\"mode\": \"markers\", \"name\": \"SVN\", \"text\": [\"6.5\"], \"x\": [6.5], \"y\": [\"SVN\"], \"type\": \"scatter\"}, {\"mode\": \"markers\", \"name\": \"ZAF\", \"text\": [\"47.2\"], \"x\": [47.2], \"y\": [\"ZAF\"], \"type\": \"scatter\"}, {\"mode\": \"markers\", \"name\": \"COL\", \"text\": [\"31.4\"], \"x\": [31.4], \"y\": [\"COL\"], \"type\": \"scatter\"}, {\"mode\": \"markers\", \"name\": \"LVA\", \"text\": [\"15.7\"], \"x\": [15.7], \"y\": [\"LVA\"], \"type\": \"scatter\"}, {\"mode\": \"markers\", \"name\": \"LTU\", \"text\": [\"14.2\"], \"x\": [14.2], \"y\": [\"LTU\"], \"type\": \"scatter\"}, {\"mode\": \"markers\", \"name\": \"CRI\", \"text\": [\"13.2\"], \"x\": [13.2], \"y\": [\"CRI\"], \"type\": \"scatter\"}], \"name\": \"1994\"}, {\"data\": [{\"mode\": \"markers\", \"name\": \"AUS\", \"text\": [\"5.7\"], \"x\": [5.7], \"y\": [\"AUS\"], \"type\": \"scatter\"}, {\"mode\": \"markers\", \"name\": \"AUT\", \"text\": [\"5.4\"], \"x\": [5.4], \"y\": [\"AUT\"], \"type\": \"scatter\"}, {\"mode\": \"markers\", \"name\": \"BEL\", \"text\": [\"6.0\"], \"x\": [6.0], \"y\": [\"BEL\"], \"type\": \"scatter\"}, {\"mode\": \"markers\", \"name\": \"CAN\", \"text\": [\"6.1\"], \"x\": [6.1], \"y\": [\"CAN\"], \"type\": \"scatter\"}, {\"mode\": \"markers\", \"name\": \"CZE\", \"text\": [\"7.7\"], \"x\": [7.7], \"y\": [\"CZE\"], \"type\": \"scatter\"}, {\"mode\": \"markers\", \"name\": \"DNK\", \"text\": [\"5.1\"], \"x\": [5.1], \"y\": [\"DNK\"], \"type\": \"scatter\"}, {\"mode\": \"markers\", \"name\": \"FIN\", \"text\": [\"3.9\"], \"x\": [3.9], \"y\": [\"FIN\"], \"type\": \"scatter\"}, {\"mode\": \"markers\", \"name\": \"FRA\", \"text\": [\"5.0\"], \"x\": [5.0], \"y\": [\"FRA\"], \"type\": \"scatter\"}, {\"mode\": \"markers\", \"name\": \"DEU\", \"text\": [\"5.3\"], \"x\": [5.3], \"y\": [\"DEU\"], \"type\": \"scatter\"}, {\"mode\": \"markers\", \"name\": \"GRC\", \"text\": [\"8.1\"], \"x\": [8.1], \"y\": [\"GRC\"], \"type\": \"scatter\"}, {\"mode\": \"markers\", \"name\": \"HUN\", \"text\": [\"10.7\"], \"x\": [10.7], \"y\": [\"HUN\"], \"type\": \"scatter\"}, {\"mode\": \"markers\", \"name\": \"ISL\", \"text\": [\"6.1\"], \"x\": [6.1], \"y\": [\"ISL\"], \"type\": \"scatter\"}, {\"mode\": \"markers\", \"name\": \"IRL\", \"text\": [\"6.4\"], \"x\": [6.4], \"y\": [\"IRL\"], \"type\": \"scatter\"}, {\"mode\": \"markers\", \"name\": \"ITA\", \"text\": [\"6.1\"], \"x\": [6.1], \"y\": [\"ITA\"], \"type\": \"scatter\"}, {\"mode\": \"markers\", \"name\": \"JPN\", \"text\": [\"4.3\"], \"x\": [4.3], \"y\": [\"JPN\"], \"type\": \"scatter\"}, {\"mode\": \"markers\", \"name\": \"KOR\", \"text\": [\"0\"], \"x\": [0], \"y\": [\"KOR\"], \"type\": \"scatter\"}, {\"mode\": \"markers\", \"name\": \"LUX\", \"text\": [\"5.5\"], \"x\": [5.5], \"y\": [\"LUX\"], \"type\": \"scatter\"}, {\"mode\": \"markers\", \"name\": \"MEX\", \"text\": [\"26.0\"], \"x\": [26.0], \"y\": [\"MEX\"], \"type\": \"scatter\"}, {\"mode\": \"markers\", \"name\": \"NLD\", \"text\": [\"5.5\"], \"x\": [5.5], \"y\": [\"NLD\"], \"type\": \"scatter\"}, {\"mode\": \"markers\", \"name\": \"NZL\", \"text\": [\"6.7\"], \"x\": [6.7], \"y\": [\"NZL\"], \"type\": \"scatter\"}, {\"mode\": \"markers\", \"name\": \"NOR\", \"text\": [\"4.0\"], \"x\": [4.0], \"y\": [\"NOR\"], \"type\": \"scatter\"}, {\"mode\": \"markers\", \"name\": \"POL\", \"text\": [\"13.6\"], \"x\": [13.6], \"y\": [\"POL\"], \"type\": \"scatter\"}, {\"mode\": \"markers\", \"name\": \"PRT\", \"text\": [\"7.4\"], \"x\": [7.4], \"y\": [\"PRT\"], \"type\": \"scatter\"}, {\"mode\": \"markers\", \"name\": \"SVK\", \"text\": [\"11.0\"], \"x\": [11.0], \"y\": [\"SVK\"], \"type\": \"scatter\"}, {\"mode\": \"markers\", \"name\": \"ESP\", \"text\": [\"5.5\"], \"x\": [5.5], \"y\": [\"ESP\"], \"type\": \"scatter\"}, {\"mode\": \"markers\", \"name\": \"SWE\", \"text\": [\"4.1\"], \"x\": [4.1], \"y\": [\"SWE\"], \"type\": \"scatter\"}, {\"mode\": \"markers\", \"name\": \"CHE\", \"text\": [\"5.1\"], \"x\": [5.1], \"y\": [\"CHE\"], \"type\": \"scatter\"}, {\"mode\": \"markers\", \"name\": \"TUR\", \"text\": [\"0\"], \"x\": [0], \"y\": [\"TUR\"], \"type\": \"scatter\"}, {\"mode\": \"markers\", \"name\": \"GBR\", \"text\": [\"6.2\"], \"x\": [6.2], \"y\": [\"GBR\"], \"type\": \"scatter\"}, {\"mode\": \"markers\", \"name\": \"USA\", \"text\": [\"7.6\"], \"x\": [7.6], \"y\": [\"USA\"], \"type\": \"scatter\"}, {\"mode\": \"markers\", \"name\": \"BRA\", \"text\": [\"39.7\"], \"x\": [39.7], \"y\": [\"BRA\"], \"type\": \"scatter\"}, {\"mode\": \"markers\", \"name\": \"CHL\", \"text\": [\"11.1\"], \"x\": [11.1], \"y\": [\"CHL\"], \"type\": \"scatter\"}, {\"mode\": \"markers\", \"name\": \"CHN\", \"text\": [\"37.7\"], \"x\": [37.7], \"y\": [\"CHN\"], \"type\": \"scatter\"}, {\"mode\": \"markers\", \"name\": \"EST\", \"text\": [\"14.9\"], \"x\": [14.9], \"y\": [\"EST\"], \"type\": \"scatter\"}, {\"mode\": \"markers\", \"name\": \"IND\", \"text\": [\"77.5\"], \"x\": [77.5], \"y\": [\"IND\"], \"type\": \"scatter\"}, {\"mode\": \"markers\", \"name\": \"IDN\", \"text\": [\"50.8\"], \"x\": [50.8], \"y\": [\"IDN\"], \"type\": \"scatter\"}, {\"mode\": \"markers\", \"name\": \"ISR\", \"text\": [\"6.8\"], \"x\": [6.8], \"y\": [\"ISR\"], \"type\": \"scatter\"}, {\"mode\": \"markers\", \"name\": \"RUS\", \"text\": [\"18.1\"], \"x\": [18.1], \"y\": [\"RUS\"], \"type\": \"scatter\"}, {\"mode\": \"markers\", \"name\": \"SVN\", \"text\": [\"5.5\"], \"x\": [5.5], \"y\": [\"SVN\"], \"type\": \"scatter\"}, {\"mode\": \"markers\", \"name\": \"ZAF\", \"text\": [\"48.2\"], \"x\": [48.2], \"y\": [\"ZAF\"], \"type\": \"scatter\"}, {\"mode\": \"markers\", \"name\": \"COL\", \"text\": [\"30.3\"], \"x\": [30.3], \"y\": [\"COL\"], \"type\": \"scatter\"}, {\"mode\": \"markers\", \"name\": \"LVA\", \"text\": [\"18.8\"], \"x\": [18.8], \"y\": [\"LVA\"], \"type\": \"scatter\"}, {\"mode\": \"markers\", \"name\": \"LTU\", \"text\": [\"12.5\"], \"x\": [12.5], \"y\": [\"LTU\"], \"type\": \"scatter\"}, {\"mode\": \"markers\", \"name\": \"CRI\", \"text\": [\"13.0\"], \"x\": [13.0], \"y\": [\"CRI\"], \"type\": \"scatter\"}], \"name\": \"1995\"}, {\"data\": [{\"mode\": \"markers\", \"name\": \"AUS\", \"text\": [\"5.8\"], \"x\": [5.8], \"y\": [\"AUS\"], \"type\": \"scatter\"}, {\"mode\": \"markers\", \"name\": \"AUT\", \"text\": [\"5.1\"], \"x\": [5.1], \"y\": [\"AUT\"], \"type\": \"scatter\"}, {\"mode\": \"markers\", \"name\": \"BEL\", \"text\": [\"5.0\"], \"x\": [5.0], \"y\": [\"BEL\"], \"type\": \"scatter\"}, {\"mode\": \"markers\", \"name\": \"CAN\", \"text\": [\"5.6\"], \"x\": [5.6], \"y\": [\"CAN\"], \"type\": \"scatter\"}, {\"mode\": \"markers\", \"name\": \"CZE\", \"text\": [\"6.0\"], \"x\": [6.0], \"y\": [\"CZE\"], \"type\": \"scatter\"}, {\"mode\": \"markers\", \"name\": \"DNK\", \"text\": [\"5.6\"], \"x\": [5.6], \"y\": [\"DNK\"], \"type\": \"scatter\"}, {\"mode\": \"markers\", \"name\": \"FIN\", \"text\": [\"4.0\"], \"x\": [4.0], \"y\": [\"FIN\"], \"type\": \"scatter\"}, {\"mode\": \"markers\", \"name\": \"FRA\", \"text\": [\"5.0\"], \"x\": [5.0], \"y\": [\"FRA\"], \"type\": \"scatter\"}, {\"mode\": \"markers\", \"name\": \"DEU\", \"text\": [\"5.0\"], \"x\": [5.0], \"y\": [\"DEU\"], \"type\": \"scatter\"}, {\"mode\": \"markers\", \"name\": \"GRC\", \"text\": [\"7.2\"], \"x\": [7.2], \"y\": [\"GRC\"], \"type\": \"scatter\"}, {\"mode\": \"markers\", \"name\": \"HUN\", \"text\": [\"10.9\"], \"x\": [10.9], \"y\": [\"HUN\"], \"type\": \"scatter\"}, {\"mode\": \"markers\", \"name\": \"ISL\", \"text\": [\"3.7\"], \"x\": [3.7], \"y\": [\"ISL\"], \"type\": \"scatter\"}, {\"mode\": \"markers\", \"name\": \"IRL\", \"text\": [\"6.0\"], \"x\": [6.0], \"y\": [\"IRL\"], \"type\": \"scatter\"}, {\"mode\": \"markers\", \"name\": \"ITA\", \"text\": [\"6.0\"], \"x\": [6.0], \"y\": [\"ITA\"], \"type\": \"scatter\"}, {\"mode\": \"markers\", \"name\": \"JPN\", \"text\": [\"3.8\"], \"x\": [3.8], \"y\": [\"JPN\"], \"type\": \"scatter\"}, {\"mode\": \"markers\", \"name\": \"KOR\", \"text\": [\"7.7\"], \"x\": [7.7], \"y\": [\"KOR\"], \"type\": \"scatter\"}, {\"mode\": \"markers\", \"name\": \"LUX\", \"text\": [\"4.9\"], \"x\": [4.9], \"y\": [\"LUX\"], \"type\": \"scatter\"}, {\"mode\": \"markers\", \"name\": \"MEX\", \"text\": [\"24.9\"], \"x\": [24.9], \"y\": [\"MEX\"], \"type\": \"scatter\"}, {\"mode\": \"markers\", \"name\": \"NLD\", \"text\": [\"5.7\"], \"x\": [5.7], \"y\": [\"NLD\"], \"type\": \"scatter\"}, {\"mode\": \"markers\", \"name\": \"NZL\", \"text\": [\"7.3\"], \"x\": [7.3], \"y\": [\"NZL\"], \"type\": \"scatter\"}, {\"mode\": \"markers\", \"name\": \"NOR\", \"text\": [\"4.0\"], \"x\": [4.0], \"y\": [\"NOR\"], \"type\": \"scatter\"}, {\"mode\": \"markers\", \"name\": \"POL\", \"text\": [\"12.2\"], \"x\": [12.2], \"y\": [\"POL\"], \"type\": \"scatter\"}, {\"mode\": \"markers\", \"name\": \"PRT\", \"text\": [\"6.8\"], \"x\": [6.8], \"y\": [\"PRT\"], \"type\": \"scatter\"}, {\"mode\": \"markers\", \"name\": \"SVK\", \"text\": [\"10.2\"], \"x\": [10.2], \"y\": [\"SVK\"], \"type\": \"scatter\"}, {\"mode\": \"markers\", \"name\": \"ESP\", \"text\": [\"5.5\"], \"x\": [5.5], \"y\": [\"ESP\"], \"type\": \"scatter\"}, {\"mode\": \"markers\", \"name\": \"SWE\", \"text\": [\"4.0\"], \"x\": [4.0], \"y\": [\"SWE\"], \"type\": \"scatter\"}, {\"mode\": \"markers\", \"name\": \"CHE\", \"text\": [\"4.7\"], \"x\": [4.7], \"y\": [\"CHE\"], \"type\": \"scatter\"}, {\"mode\": \"markers\", \"name\": \"TUR\", \"text\": [\"40.9\"], \"x\": [40.9], \"y\": [\"TUR\"], \"type\": \"scatter\"}, {\"mode\": \"markers\", \"name\": \"GBR\", \"text\": [\"6.1\"], \"x\": [6.1], \"y\": [\"GBR\"], \"type\": \"scatter\"}, {\"mode\": \"markers\", \"name\": \"USA\", \"text\": [\"7.3\"], \"x\": [7.3], \"y\": [\"USA\"], \"type\": \"scatter\"}, {\"mode\": \"markers\", \"name\": \"BRA\", \"text\": [\"37.2\"], \"x\": [37.2], \"y\": [\"BRA\"], \"type\": \"scatter\"}, {\"mode\": \"markers\", \"name\": \"CHL\", \"text\": [\"11.1\"], \"x\": [11.1], \"y\": [\"CHL\"], \"type\": \"scatter\"}, {\"mode\": \"markers\", \"name\": \"CHN\", \"text\": [\"36.4\"], \"x\": [36.4], \"y\": [\"CHN\"], \"type\": \"scatter\"}, {\"mode\": \"markers\", \"name\": \"EST\", \"text\": [\"10.5\"], \"x\": [10.5], \"y\": [\"EST\"], \"type\": \"scatter\"}, {\"mode\": \"markers\", \"name\": \"IND\", \"text\": [\"75.4\"], \"x\": [75.4], \"y\": [\"IND\"], \"type\": \"scatter\"}, {\"mode\": \"markers\", \"name\": \"IDN\", \"text\": [\"48.7\"], \"x\": [48.7], \"y\": [\"IDN\"], \"type\": \"scatter\"}, {\"mode\": \"markers\", \"name\": \"ISR\", \"text\": [\"6.3\"], \"x\": [6.3], \"y\": [\"ISR\"], \"type\": \"scatter\"}, {\"mode\": \"markers\", \"name\": \"RUS\", \"text\": [\"17.4\"], \"x\": [17.4], \"y\": [\"RUS\"], \"type\": \"scatter\"}, {\"mode\": \"markers\", \"name\": \"SVN\", \"text\": [\"4.7\"], \"x\": [4.7], \"y\": [\"SVN\"], \"type\": \"scatter\"}, {\"mode\": \"markers\", \"name\": \"ZAF\", \"text\": [\"49.4\"], \"x\": [49.4], \"y\": [\"ZAF\"], \"type\": \"scatter\"}, {\"mode\": \"markers\", \"name\": \"COL\", \"text\": [\"29.1\"], \"x\": [29.1], \"y\": [\"COL\"], \"type\": \"scatter\"}, {\"mode\": \"markers\", \"name\": \"LVA\", \"text\": [\"15.9\"], \"x\": [15.9], \"y\": [\"LVA\"], \"type\": \"scatter\"}, {\"mode\": \"markers\", \"name\": \"LTU\", \"text\": [\"10.1\"], \"x\": [10.1], \"y\": [\"LTU\"], \"type\": \"scatter\"}, {\"mode\": \"markers\", \"name\": \"CRI\", \"text\": [\"12.8\"], \"x\": [12.8], \"y\": [\"CRI\"], \"type\": \"scatter\"}], \"name\": \"1996\"}, {\"data\": [{\"mode\": \"markers\", \"name\": \"AUS\", \"text\": [\"5.3\"], \"x\": [5.3], \"y\": [\"AUS\"], \"type\": \"scatter\"}, {\"mode\": \"markers\", \"name\": \"AUT\", \"text\": [\"4.7\"], \"x\": [4.7], \"y\": [\"AUT\"], \"type\": \"scatter\"}, {\"mode\": \"markers\", \"name\": \"BEL\", \"text\": [\"5.4\"], \"x\": [5.4], \"y\": [\"BEL\"], \"type\": \"scatter\"}, {\"mode\": \"markers\", \"name\": \"CAN\", \"text\": [\"5.5\"], \"x\": [5.5], \"y\": [\"CAN\"], \"type\": \"scatter\"}, {\"mode\": \"markers\", \"name\": \"CZE\", \"text\": [\"5.9\"], \"x\": [5.9], \"y\": [\"CZE\"], \"type\": \"scatter\"}, {\"mode\": \"markers\", \"name\": \"DNK\", \"text\": [\"5.2\"], \"x\": [5.2], \"y\": [\"DNK\"], \"type\": \"scatter\"}, {\"mode\": \"markers\", \"name\": \"FIN\", \"text\": [\"3.9\"], \"x\": [3.9], \"y\": [\"FIN\"], \"type\": \"scatter\"}, {\"mode\": \"markers\", \"name\": \"FRA\", \"text\": [\"4.9\"], \"x\": [4.9], \"y\": [\"FRA\"], \"type\": \"scatter\"}, {\"mode\": \"markers\", \"name\": \"DEU\", \"text\": [\"4.9\"], \"x\": [4.9], \"y\": [\"DEU\"], \"type\": \"scatter\"}, {\"mode\": \"markers\", \"name\": \"GRC\", \"text\": [\"6.4\"], \"x\": [6.4], \"y\": [\"GRC\"], \"type\": \"scatter\"}, {\"mode\": \"markers\", \"name\": \"HUN\", \"text\": [\"9.9\"], \"x\": [9.9], \"y\": [\"HUN\"], \"type\": \"scatter\"}, {\"mode\": \"markers\", \"name\": \"ISL\", \"text\": [\"5.5\"], \"x\": [5.5], \"y\": [\"ISL\"], \"type\": \"scatter\"}, {\"mode\": \"markers\", \"name\": \"IRL\", \"text\": [\"6.1\"], \"x\": [6.1], \"y\": [\"IRL\"], \"type\": \"scatter\"}, {\"mode\": \"markers\", \"name\": \"ITA\", \"text\": [\"5.5\"], \"x\": [5.5], \"y\": [\"ITA\"], \"type\": \"scatter\"}, {\"mode\": \"markers\", \"name\": \"JPN\", \"text\": [\"3.7\"], \"x\": [3.7], \"y\": [\"JPN\"], \"type\": \"scatter\"}, {\"mode\": \"markers\", \"name\": \"KOR\", \"text\": [\"0\"], \"x\": [0], \"y\": [\"KOR\"], \"type\": \"scatter\"}, {\"mode\": \"markers\", \"name\": \"LUX\", \"text\": [\"4.2\"], \"x\": [4.2], \"y\": [\"LUX\"], \"type\": \"scatter\"}, {\"mode\": \"markers\", \"name\": \"MEX\", \"text\": [\"23.8\"], \"x\": [23.8], \"y\": [\"MEX\"], \"type\": \"scatter\"}, {\"mode\": \"markers\", \"name\": \"NLD\", \"text\": [\"5.0\"], \"x\": [5.0], \"y\": [\"NLD\"], \"type\": \"scatter\"}, {\"mode\": \"markers\", \"name\": \"NZL\", \"text\": [\"6.8\"], \"x\": [6.8], \"y\": [\"NZL\"], \"type\": \"scatter\"}, {\"mode\": \"markers\", \"name\": \"NOR\", \"text\": [\"4.1\"], \"x\": [4.1], \"y\": [\"NOR\"], \"type\": \"scatter\"}, {\"mode\": \"markers\", \"name\": \"POL\", \"text\": [\"10.2\"], \"x\": [10.2], \"y\": [\"POL\"], \"type\": \"scatter\"}, {\"mode\": \"markers\", \"name\": \"PRT\", \"text\": [\"6.4\"], \"x\": [6.4], \"y\": [\"PRT\"], \"type\": \"scatter\"}, {\"mode\": \"markers\", \"name\": \"SVK\", \"text\": [\"8.7\"], \"x\": [8.7], \"y\": [\"SVK\"], \"type\": \"scatter\"}, {\"mode\": \"markers\", \"name\": \"ESP\", \"text\": [\"5.0\"], \"x\": [5.0], \"y\": [\"ESP\"], \"type\": \"scatter\"}, {\"mode\": \"markers\", \"name\": \"SWE\", \"text\": [\"3.6\"], \"x\": [3.6], \"y\": [\"SWE\"], \"type\": \"scatter\"}, {\"mode\": \"markers\", \"name\": \"CHE\", \"text\": [\"4.8\"], \"x\": [4.8], \"y\": [\"CHE\"], \"type\": \"scatter\"}, {\"mode\": \"markers\", \"name\": \"TUR\", \"text\": [\"38.8\"], \"x\": [38.8], \"y\": [\"TUR\"], \"type\": \"scatter\"}, {\"mode\": \"markers\", \"name\": \"GBR\", \"text\": [\"5.8\"], \"x\": [5.8], \"y\": [\"GBR\"], \"type\": \"scatter\"}, {\"mode\": \"markers\", \"name\": \"USA\", \"text\": [\"7.2\"], \"x\": [7.2], \"y\": [\"USA\"], \"type\": \"scatter\"}, {\"mode\": \"markers\", \"name\": \"BRA\", \"text\": [\"34.8\"], \"x\": [34.8], \"y\": [\"BRA\"], \"type\": \"scatter\"}, {\"mode\": \"markers\", \"name\": \"CHL\", \"text\": [\"10.0\"], \"x\": [10.0], \"y\": [\"CHL\"], \"type\": \"scatter\"}, {\"mode\": \"markers\", \"name\": \"CHN\", \"text\": [\"35.0\"], \"x\": [35.0], \"y\": [\"CHN\"], \"type\": \"scatter\"}, {\"mode\": \"markers\", \"name\": \"EST\", \"text\": [\"10.0\"], \"x\": [10.0], \"y\": [\"EST\"], \"type\": \"scatter\"}, {\"mode\": \"markers\", \"name\": \"IND\", \"text\": [\"73.1\"], \"x\": [73.1], \"y\": [\"IND\"], \"type\": \"scatter\"}, {\"mode\": \"markers\", \"name\": \"IDN\", \"text\": [\"46.7\"], \"x\": [46.7], \"y\": [\"IDN\"], \"type\": \"scatter\"}, {\"mode\": \"markers\", \"name\": \"ISR\", \"text\": [\"6.4\"], \"x\": [6.4], \"y\": [\"ISR\"], \"type\": \"scatter\"}, {\"mode\": \"markers\", \"name\": \"RUS\", \"text\": [\"17.2\"], \"x\": [17.2], \"y\": [\"RUS\"], \"type\": \"scatter\"}, {\"mode\": \"markers\", \"name\": \"SVN\", \"text\": [\"5.2\"], \"x\": [5.2], \"y\": [\"SVN\"], \"type\": \"scatter\"}, {\"mode\": \"markers\", \"name\": \"ZAF\", \"text\": [\"50.9\"], \"x\": [50.9], \"y\": [\"ZAF\"], \"type\": \"scatter\"}, {\"mode\": \"markers\", \"name\": \"COL\", \"text\": [\"28.1\"], \"x\": [28.1], \"y\": [\"COL\"], \"type\": \"scatter\"}, {\"mode\": \"markers\", \"name\": \"LVA\", \"text\": [\"15.3\"], \"x\": [15.3], \"y\": [\"LVA\"], \"type\": \"scatter\"}, {\"mode\": \"markers\", \"name\": \"LTU\", \"text\": [\"10.3\"], \"x\": [10.3], \"y\": [\"LTU\"], \"type\": \"scatter\"}, {\"mode\": \"markers\", \"name\": \"CRI\", \"text\": [\"12.7\"], \"x\": [12.7], \"y\": [\"CRI\"], \"type\": \"scatter\"}], \"name\": \"1997\"}, {\"data\": [{\"mode\": \"markers\", \"name\": \"AUS\", \"text\": [\"5.0\"], \"x\": [5.0], \"y\": [\"AUS\"], \"type\": \"scatter\"}, {\"mode\": \"markers\", \"name\": \"AUT\", \"text\": [\"4.9\"], \"x\": [4.9], \"y\": [\"AUT\"], \"type\": \"scatter\"}, {\"mode\": \"markers\", \"name\": \"BEL\", \"text\": [\"5.2\"], \"x\": [5.2], \"y\": [\"BEL\"], \"type\": \"scatter\"}, {\"mode\": \"markers\", \"name\": \"CAN\", \"text\": [\"5.3\"], \"x\": [5.3], \"y\": [\"CAN\"], \"type\": \"scatter\"}, {\"mode\": \"markers\", \"name\": \"CZE\", \"text\": [\"5.2\"], \"x\": [5.2], \"y\": [\"CZE\"], \"type\": \"scatter\"}, {\"mode\": \"markers\", \"name\": \"DNK\", \"text\": [\"4.7\"], \"x\": [4.7], \"y\": [\"DNK\"], \"type\": \"scatter\"}, {\"mode\": \"markers\", \"name\": \"FIN\", \"text\": [\"4.2\"], \"x\": [4.2], \"y\": [\"FIN\"], \"type\": \"scatter\"}, {\"mode\": \"markers\", \"name\": \"FRA\", \"text\": [\"4.8\"], \"x\": [4.8], \"y\": [\"FRA\"], \"type\": \"scatter\"}, {\"mode\": \"markers\", \"name\": \"DEU\", \"text\": [\"4.7\"], \"x\": [4.7], \"y\": [\"DEU\"], \"type\": \"scatter\"}, {\"mode\": \"markers\", \"name\": \"GRC\", \"text\": [\"6.7\"], \"x\": [6.7], \"y\": [\"GRC\"], \"type\": \"scatter\"}, {\"mode\": \"markers\", \"name\": \"HUN\", \"text\": [\"9.7\"], \"x\": [9.7], \"y\": [\"HUN\"], \"type\": \"scatter\"}, {\"mode\": \"markers\", \"name\": \"ISL\", \"text\": [\"2.6\"], \"x\": [2.6], \"y\": [\"ISL\"], \"type\": \"scatter\"}, {\"mode\": \"markers\", \"name\": \"IRL\", \"text\": [\"5.9\"], \"x\": [5.9], \"y\": [\"IRL\"], \"type\": \"scatter\"}, {\"mode\": \"markers\", \"name\": \"ITA\", \"text\": [\"5.1\"], \"x\": [5.1], \"y\": [\"ITA\"], \"type\": \"scatter\"}, {\"mode\": \"markers\", \"name\": \"JPN\", \"text\": [\"3.6\"], \"x\": [3.6], \"y\": [\"JPN\"], \"type\": \"scatter\"}, {\"mode\": \"markers\", \"name\": \"KOR\", \"text\": [\"0\"], \"x\": [0], \"y\": [\"KOR\"], \"type\": \"scatter\"}, {\"mode\": \"markers\", \"name\": \"LUX\", \"text\": [\"5.0\"], \"x\": [5.0], \"y\": [\"LUX\"], \"type\": \"scatter\"}, {\"mode\": \"markers\", \"name\": \"MEX\", \"text\": [\"22.8\"], \"x\": [22.8], \"y\": [\"MEX\"], \"type\": \"scatter\"}, {\"mode\": \"markers\", \"name\": \"NLD\", \"text\": [\"5.2\"], \"x\": [5.2], \"y\": [\"NLD\"], \"type\": \"scatter\"}, {\"mode\": \"markers\", \"name\": \"NZL\", \"text\": [\"5.4\"], \"x\": [5.4], \"y\": [\"NZL\"], \"type\": \"scatter\"}, {\"mode\": \"markers\", \"name\": \"NOR\", \"text\": [\"4.0\"], \"x\": [4.0], \"y\": [\"NOR\"], \"type\": \"scatter\"}, {\"mode\": \"markers\", \"name\": \"POL\", \"text\": [\"9.5\"], \"x\": [9.5], \"y\": [\"POL\"], \"type\": \"scatter\"}, {\"mode\": \"markers\", \"name\": \"PRT\", \"text\": [\"6.0\"], \"x\": [6.0], \"y\": [\"PRT\"], \"type\": \"scatter\"}, {\"mode\": \"markers\", \"name\": \"SVK\", \"text\": [\"8.8\"], \"x\": [8.8], \"y\": [\"SVK\"], \"type\": \"scatter\"}, {\"mode\": \"markers\", \"name\": \"ESP\", \"text\": [\"4.9\"], \"x\": [4.9], \"y\": [\"ESP\"], \"type\": \"scatter\"}, {\"mode\": \"markers\", \"name\": \"SWE\", \"text\": [\"3.5\"], \"x\": [3.5], \"y\": [\"SWE\"], \"type\": \"scatter\"}, {\"mode\": \"markers\", \"name\": \"CHE\", \"text\": [\"4.8\"], \"x\": [4.8], \"y\": [\"CHE\"], \"type\": \"scatter\"}, {\"mode\": \"markers\", \"name\": \"TUR\", \"text\": [\"36.5\"], \"x\": [36.5], \"y\": [\"TUR\"], \"type\": \"scatter\"}, {\"mode\": \"markers\", \"name\": \"GBR\", \"text\": [\"5.7\"], \"x\": [5.7], \"y\": [\"GBR\"], \"type\": \"scatter\"}, {\"mode\": \"markers\", \"name\": \"USA\", \"text\": [\"7.2\"], \"x\": [7.2], \"y\": [\"USA\"], \"type\": \"scatter\"}, {\"mode\": \"markers\", \"name\": \"BRA\", \"text\": [\"32.4\"], \"x\": [32.4], \"y\": [\"BRA\"], \"type\": \"scatter\"}, {\"mode\": \"markers\", \"name\": \"CHL\", \"text\": [\"10.3\"], \"x\": [10.3], \"y\": [\"CHL\"], \"type\": \"scatter\"}, {\"mode\": \"markers\", \"name\": \"CHN\", \"text\": [\"33.5\"], \"x\": [33.5], \"y\": [\"CHN\"], \"type\": \"scatter\"}, {\"mode\": \"markers\", \"name\": \"EST\", \"text\": [\"9.4\"], \"x\": [9.4], \"y\": [\"EST\"], \"type\": \"scatter\"}, {\"mode\": \"markers\", \"name\": \"IND\", \"text\": [\"70.9\"], \"x\": [70.9], \"y\": [\"IND\"], \"type\": \"scatter\"}, {\"mode\": \"markers\", \"name\": \"IDN\", \"text\": [\"44.7\"], \"x\": [44.7], \"y\": [\"IDN\"], \"type\": \"scatter\"}, {\"mode\": \"markers\", \"name\": \"ISR\", \"text\": [\"5.9\"], \"x\": [5.9], \"y\": [\"ISR\"], \"type\": \"scatter\"}, {\"mode\": \"markers\", \"name\": \"RUS\", \"text\": [\"16.5\"], \"x\": [16.5], \"y\": [\"RUS\"], \"type\": \"scatter\"}, {\"mode\": \"markers\", \"name\": \"SVN\", \"text\": [\"5.2\"], \"x\": [5.2], \"y\": [\"SVN\"], \"type\": \"scatter\"}, {\"mode\": \"markers\", \"name\": \"ZAF\", \"text\": [\"52.2\"], \"x\": [52.2], \"y\": [\"ZAF\"], \"type\": \"scatter\"}, {\"mode\": \"markers\", \"name\": \"COL\", \"text\": [\"27.0\"], \"x\": [27.0], \"y\": [\"COL\"], \"type\": \"scatter\"}, {\"mode\": \"markers\", \"name\": \"LVA\", \"text\": [\"15.0\"], \"x\": [15.0], \"y\": [\"LVA\"], \"type\": \"scatter\"}, {\"mode\": \"markers\", \"name\": \"LTU\", \"text\": [\"9.3\"], \"x\": [9.3], \"y\": [\"LTU\"], \"type\": \"scatter\"}, {\"mode\": \"markers\", \"name\": \"CRI\", \"text\": [\"12.3\"], \"x\": [12.3], \"y\": [\"CRI\"], \"type\": \"scatter\"}], \"name\": \"1998\"}, {\"data\": [{\"mode\": \"markers\", \"name\": \"AUS\", \"text\": [\"5.7\"], \"x\": [5.7], \"y\": [\"AUS\"], \"type\": \"scatter\"}, {\"mode\": \"markers\", \"name\": \"AUT\", \"text\": [\"4.4\"], \"x\": [4.4], \"y\": [\"AUT\"], \"type\": \"scatter\"}, {\"mode\": \"markers\", \"name\": \"BEL\", \"text\": [\"4.9\"], \"x\": [4.9], \"y\": [\"BEL\"], \"type\": \"scatter\"}, {\"mode\": \"markers\", \"name\": \"CAN\", \"text\": [\"5.3\"], \"x\": [5.3], \"y\": [\"CAN\"], \"type\": \"scatter\"}, {\"mode\": \"markers\", \"name\": \"CZE\", \"text\": [\"4.6\"], \"x\": [4.6], \"y\": [\"CZE\"], \"type\": \"scatter\"}, {\"mode\": \"markers\", \"name\": \"DNK\", \"text\": [\"4.2\"], \"x\": [4.2], \"y\": [\"DNK\"], \"type\": \"scatter\"}, {\"mode\": \"markers\", \"name\": \"FIN\", \"text\": [\"3.6\"], \"x\": [3.6], \"y\": [\"FIN\"], \"type\": \"scatter\"}, {\"mode\": \"markers\", \"name\": \"FRA\", \"text\": [\"4.4\"], \"x\": [4.4], \"y\": [\"FRA\"], \"type\": \"scatter\"}, {\"mode\": \"markers\", \"name\": \"DEU\", \"text\": [\"4.5\"], \"x\": [4.5], \"y\": [\"DEU\"], \"type\": \"scatter\"}, {\"mode\": \"markers\", \"name\": \"GRC\", \"text\": [\"6.2\"], \"x\": [6.2], \"y\": [\"GRC\"], \"type\": \"scatter\"}, {\"mode\": \"markers\", \"name\": \"HUN\", \"text\": [\"8.4\"], \"x\": [8.4], \"y\": [\"HUN\"], \"type\": \"scatter\"}, {\"mode\": \"markers\", \"name\": \"ISL\", \"text\": [\"2.4\"], \"x\": [2.4], \"y\": [\"ISL\"], \"type\": \"scatter\"}, {\"mode\": \"markers\", \"name\": \"IRL\", \"text\": [\"5.9\"], \"x\": [5.9], \"y\": [\"IRL\"], \"type\": \"scatter\"}, {\"mode\": \"markers\", \"name\": \"ITA\", \"text\": [\"4.9\"], \"x\": [4.9], \"y\": [\"ITA\"], \"type\": \"scatter\"}, {\"mode\": \"markers\", \"name\": \"JPN\", \"text\": [\"3.4\"], \"x\": [3.4], \"y\": [\"JPN\"], \"type\": \"scatter\"}, {\"mode\": \"markers\", \"name\": \"KOR\", \"text\": [\"6.2\"], \"x\": [6.2], \"y\": [\"KOR\"], \"type\": \"scatter\"}, {\"mode\": \"markers\", \"name\": \"LUX\", \"text\": [\"4.7\"], \"x\": [4.7], \"y\": [\"LUX\"], \"type\": \"scatter\"}, {\"mode\": \"markers\", \"name\": \"MEX\", \"text\": [\"21.8\"], \"x\": [21.8], \"y\": [\"MEX\"], \"type\": \"scatter\"}, {\"mode\": \"markers\", \"name\": \"NLD\", \"text\": [\"5.2\"], \"x\": [5.2], \"y\": [\"NLD\"], \"type\": \"scatter\"}, {\"mode\": \"markers\", \"name\": \"NZL\", \"text\": [\"5.8\"], \"x\": [5.8], \"y\": [\"NZL\"], \"type\": \"scatter\"}, {\"mode\": \"markers\", \"name\": \"NOR\", \"text\": [\"3.9\"], \"x\": [3.9], \"y\": [\"NOR\"], \"type\": \"scatter\"}, {\"mode\": \"markers\", \"name\": \"POL\", \"text\": [\"8.9\"], \"x\": [8.9], \"y\": [\"POL\"], \"type\": \"scatter\"}, {\"mode\": \"markers\", \"name\": \"PRT\", \"text\": [\"5.6\"], \"x\": [5.6], \"y\": [\"PRT\"], \"type\": \"scatter\"}, {\"mode\": \"markers\", \"name\": \"SVK\", \"text\": [\"8.3\"], \"x\": [8.3], \"y\": [\"SVK\"], \"type\": \"scatter\"}, {\"mode\": \"markers\", \"name\": \"ESP\", \"text\": [\"4.5\"], \"x\": [4.5], \"y\": [\"ESP\"], \"type\": \"scatter\"}, {\"mode\": \"markers\", \"name\": \"SWE\", \"text\": [\"3.4\"], \"x\": [3.4], \"y\": [\"SWE\"], \"type\": \"scatter\"}, {\"mode\": \"markers\", \"name\": \"CHE\", \"text\": [\"4.6\"], \"x\": [4.6], \"y\": [\"CHE\"], \"type\": \"scatter\"}, {\"mode\": \"markers\", \"name\": \"TUR\", \"text\": [\"33.9\"], \"x\": [33.9], \"y\": [\"TUR\"], \"type\": \"scatter\"}, {\"mode\": \"markers\", \"name\": \"GBR\", \"text\": [\"5.8\"], \"x\": [5.8], \"y\": [\"GBR\"], \"type\": \"scatter\"}, {\"mode\": \"markers\", \"name\": \"USA\", \"text\": [\"7.1\"], \"x\": [7.1], \"y\": [\"USA\"], \"type\": \"scatter\"}, {\"mode\": \"markers\", \"name\": \"BRA\", \"text\": [\"30.2\"], \"x\": [30.2], \"y\": [\"BRA\"], \"type\": \"scatter\"}, {\"mode\": \"markers\", \"name\": \"CHL\", \"text\": [\"10.1\"], \"x\": [10.1], \"y\": [\"CHL\"], \"type\": \"scatter\"}, {\"mode\": \"markers\", \"name\": \"CHN\", \"text\": [\"31.9\"], \"x\": [31.9], \"y\": [\"CHN\"], \"type\": \"scatter\"}, {\"mode\": \"markers\", \"name\": \"EST\", \"text\": [\"9.6\"], \"x\": [9.6], \"y\": [\"EST\"], \"type\": \"scatter\"}, {\"mode\": \"markers\", \"name\": \"IND\", \"text\": [\"68.6\"], \"x\": [68.6], \"y\": [\"IND\"], \"type\": \"scatter\"}, {\"mode\": \"markers\", \"name\": \"IDN\", \"text\": [\"42.9\"], \"x\": [42.9], \"y\": [\"IDN\"], \"type\": \"scatter\"}, {\"mode\": \"markers\", \"name\": \"ISR\", \"text\": [\"5.8\"], \"x\": [5.8], \"y\": [\"ISR\"], \"type\": \"scatter\"}, {\"mode\": \"markers\", \"name\": \"RUS\", \"text\": [\"16.9\"], \"x\": [16.9], \"y\": [\"RUS\"], \"type\": \"scatter\"}, {\"mode\": \"markers\", \"name\": \"SVN\", \"text\": [\"4.5\"], \"x\": [4.5], \"y\": [\"SVN\"], \"type\": \"scatter\"}, {\"mode\": \"markers\", \"name\": \"ZAF\", \"text\": [\"53.2\"], \"x\": [53.2], \"y\": [\"ZAF\"], \"type\": \"scatter\"}, {\"mode\": \"markers\", \"name\": \"COL\", \"text\": [\"26.0\"], \"x\": [26.0], \"y\": [\"COL\"], \"type\": \"scatter\"}, {\"mode\": \"markers\", \"name\": \"LVA\", \"text\": [\"11.3\"], \"x\": [11.3], \"y\": [\"LVA\"], \"type\": \"scatter\"}, {\"mode\": \"markers\", \"name\": \"LTU\", \"text\": [\"8.7\"], \"x\": [8.7], \"y\": [\"LTU\"], \"type\": \"scatter\"}, {\"mode\": \"markers\", \"name\": \"CRI\", \"text\": [\"11.8\"], \"x\": [11.8], \"y\": [\"CRI\"], \"type\": \"scatter\"}], \"name\": \"1999\"}, {\"data\": [{\"mode\": \"markers\", \"name\": \"AUS\", \"text\": [\"5.2\"], \"x\": [5.2], \"y\": [\"AUS\"], \"type\": \"scatter\"}, {\"mode\": \"markers\", \"name\": \"AUT\", \"text\": [\"4.8\"], \"x\": [4.8], \"y\": [\"AUT\"], \"type\": \"scatter\"}, {\"mode\": \"markers\", \"name\": \"BEL\", \"text\": [\"4.8\"], \"x\": [4.8], \"y\": [\"BEL\"], \"type\": \"scatter\"}, {\"mode\": \"markers\", \"name\": \"CAN\", \"text\": [\"5.3\"], \"x\": [5.3], \"y\": [\"CAN\"], \"type\": \"scatter\"}, {\"mode\": \"markers\", \"name\": \"CZE\", \"text\": [\"4.1\"], \"x\": [4.1], \"y\": [\"CZE\"], \"type\": \"scatter\"}, {\"mode\": \"markers\", \"name\": \"DNK\", \"text\": [\"5.3\"], \"x\": [5.3], \"y\": [\"DNK\"], \"type\": \"scatter\"}, {\"mode\": \"markers\", \"name\": \"FIN\", \"text\": [\"3.8\"], \"x\": [3.8], \"y\": [\"FIN\"], \"type\": \"scatter\"}, {\"mode\": \"markers\", \"name\": \"FRA\", \"text\": [\"4.5\"], \"x\": [4.5], \"y\": [\"FRA\"], \"type\": \"scatter\"}, {\"mode\": \"markers\", \"name\": \"DEU\", \"text\": [\"4.4\"], \"x\": [4.4], \"y\": [\"DEU\"], \"type\": \"scatter\"}, {\"mode\": \"markers\", \"name\": \"GRC\", \"text\": [\"5.9\"], \"x\": [5.9], \"y\": [\"GRC\"], \"type\": \"scatter\"}, {\"mode\": \"markers\", \"name\": \"HUN\", \"text\": [\"9.2\"], \"x\": [9.2], \"y\": [\"HUN\"], \"type\": \"scatter\"}, {\"mode\": \"markers\", \"name\": \"ISL\", \"text\": [\"3.0\"], \"x\": [3.0], \"y\": [\"ISL\"], \"type\": \"scatter\"}, {\"mode\": \"markers\", \"name\": \"IRL\", \"text\": [\"6.2\"], \"x\": [6.2], \"y\": [\"IRL\"], \"type\": \"scatter\"}, {\"mode\": \"markers\", \"name\": \"ITA\", \"text\": [\"4.3\"], \"x\": [4.3], \"y\": [\"ITA\"], \"type\": \"scatter\"}, {\"mode\": \"markers\", \"name\": \"JPN\", \"text\": [\"3.2\"], \"x\": [3.2], \"y\": [\"JPN\"], \"type\": \"scatter\"}, {\"mode\": \"markers\", \"name\": \"KOR\", \"text\": [\"0\"], \"x\": [0], \"y\": [\"KOR\"], \"type\": \"scatter\"}, {\"mode\": \"markers\", \"name\": \"LUX\", \"text\": [\"5.1\"], \"x\": [5.1], \"y\": [\"LUX\"], \"type\": \"scatter\"}, {\"mode\": \"markers\", \"name\": \"MEX\", \"text\": [\"20.8\"], \"x\": [20.8], \"y\": [\"MEX\"], \"type\": \"scatter\"}, {\"mode\": \"markers\", \"name\": \"NLD\", \"text\": [\"5.1\"], \"x\": [5.1], \"y\": [\"NLD\"], \"type\": \"scatter\"}, {\"mode\": \"markers\", \"name\": \"NZL\", \"text\": [\"6.3\"], \"x\": [6.3], \"y\": [\"NZL\"], \"type\": \"scatter\"}, {\"mode\": \"markers\", \"name\": \"NOR\", \"text\": [\"3.8\"], \"x\": [3.8], \"y\": [\"NOR\"], \"type\": \"scatter\"}, {\"mode\": \"markers\", \"name\": \"POL\", \"text\": [\"8.1\"], \"x\": [8.1], \"y\": [\"POL\"], \"type\": \"scatter\"}, {\"mode\": \"markers\", \"name\": \"PRT\", \"text\": [\"5.5\"], \"x\": [5.5], \"y\": [\"PRT\"], \"type\": \"scatter\"}, {\"mode\": \"markers\", \"name\": \"SVK\", \"text\": [\"8.6\"], \"x\": [8.6], \"y\": [\"SVK\"], \"type\": \"scatter\"}, {\"mode\": \"markers\", \"name\": \"ESP\", \"text\": [\"4.4\"], \"x\": [4.4], \"y\": [\"ESP\"], \"type\": \"scatter\"}, {\"mode\": \"markers\", \"name\": \"SWE\", \"text\": [\"3.4\"], \"x\": [3.4], \"y\": [\"SWE\"], \"type\": \"scatter\"}, {\"mode\": \"markers\", \"name\": \"CHE\", \"text\": [\"4.9\"], \"x\": [4.9], \"y\": [\"CHE\"], \"type\": \"scatter\"}, {\"mode\": \"markers\", \"name\": \"TUR\", \"text\": [\"28.4\"], \"x\": [28.4], \"y\": [\"TUR\"], \"type\": \"scatter\"}, {\"mode\": \"markers\", \"name\": \"GBR\", \"text\": [\"5.6\"], \"x\": [5.6], \"y\": [\"GBR\"], \"type\": \"scatter\"}, {\"mode\": \"markers\", \"name\": \"USA\", \"text\": [\"6.9\"], \"x\": [6.9], \"y\": [\"USA\"], \"type\": \"scatter\"}, {\"mode\": \"markers\", \"name\": \"BRA\", \"text\": [\"28.1\"], \"x\": [28.1], \"y\": [\"BRA\"], \"type\": \"scatter\"}, {\"mode\": \"markers\", \"name\": \"CHL\", \"text\": [\"8.9\"], \"x\": [8.9], \"y\": [\"CHL\"], \"type\": \"scatter\"}, {\"mode\": \"markers\", \"name\": \"CHN\", \"text\": [\"30.2\"], \"x\": [30.2], \"y\": [\"CHN\"], \"type\": \"scatter\"}, {\"mode\": \"markers\", \"name\": \"EST\", \"text\": [\"8.4\"], \"x\": [8.4], \"y\": [\"EST\"], \"type\": \"scatter\"}, {\"mode\": \"markers\", \"name\": \"IND\", \"text\": [\"66.4\"], \"x\": [66.4], \"y\": [\"IND\"], \"type\": \"scatter\"}, {\"mode\": \"markers\", \"name\": \"IDN\", \"text\": [\"41.1\"], \"x\": [41.1], \"y\": [\"IDN\"], \"type\": \"scatter\"}, {\"mode\": \"markers\", \"name\": \"ISR\", \"text\": [\"5.5\"], \"x\": [5.5], \"y\": [\"ISR\"], \"type\": \"scatter\"}, {\"mode\": \"markers\", \"name\": \"RUS\", \"text\": [\"15.3\"], \"x\": [15.3], \"y\": [\"RUS\"], \"type\": \"scatter\"}, {\"mode\": \"markers\", \"name\": \"SVN\", \"text\": [\"4.9\"], \"x\": [4.9], \"y\": [\"SVN\"], \"type\": \"scatter\"}, {\"mode\": \"markers\", \"name\": \"ZAF\", \"text\": [\"54.0\"], \"x\": [54.0], \"y\": [\"ZAF\"], \"type\": \"scatter\"}, {\"mode\": \"markers\", \"name\": \"COL\", \"text\": [\"25.0\"], \"x\": [25.0], \"y\": [\"COL\"], \"type\": \"scatter\"}, {\"mode\": \"markers\", \"name\": \"LVA\", \"text\": [\"10.3\"], \"x\": [10.3], \"y\": [\"LVA\"], \"type\": \"scatter\"}, {\"mode\": \"markers\", \"name\": \"LTU\", \"text\": [\"8.6\"], \"x\": [8.6], \"y\": [\"LTU\"], \"type\": \"scatter\"}, {\"mode\": \"markers\", \"name\": \"CRI\", \"text\": [\"11.2\"], \"x\": [11.2], \"y\": [\"CRI\"], \"type\": \"scatter\"}], \"name\": \"2000\"}, {\"data\": [{\"mode\": \"markers\", \"name\": \"AUS\", \"text\": [\"5.3\"], \"x\": [5.3], \"y\": [\"AUS\"], \"type\": \"scatter\"}, {\"mode\": \"markers\", \"name\": \"AUT\", \"text\": [\"4.8\"], \"x\": [4.8], \"y\": [\"AUT\"], \"type\": \"scatter\"}, {\"mode\": \"markers\", \"name\": \"BEL\", \"text\": [\"4.5\"], \"x\": [4.5], \"y\": [\"BEL\"], \"type\": \"scatter\"}, {\"mode\": \"markers\", \"name\": \"CAN\", \"text\": [\"5.2\"], \"x\": [5.2], \"y\": [\"CAN\"], \"type\": \"scatter\"}, {\"mode\": \"markers\", \"name\": \"CZE\", \"text\": [\"4.0\"], \"x\": [4.0], \"y\": [\"CZE\"], \"type\": \"scatter\"}, {\"mode\": \"markers\", \"name\": \"DNK\", \"text\": [\"4.9\"], \"x\": [4.9], \"y\": [\"DNK\"], \"type\": \"scatter\"}, {\"mode\": \"markers\", \"name\": \"FIN\", \"text\": [\"3.2\"], \"x\": [3.2], \"y\": [\"FIN\"], \"type\": \"scatter\"}, {\"mode\": \"markers\", \"name\": \"FRA\", \"text\": [\"4.6\"], \"x\": [4.6], \"y\": [\"FRA\"], \"type\": \"scatter\"}, {\"mode\": \"markers\", \"name\": \"DEU\", \"text\": [\"4.3\"], \"x\": [4.3], \"y\": [\"DEU\"], \"type\": \"scatter\"}, {\"mode\": \"markers\", \"name\": \"GRC\", \"text\": [\"5.1\"], \"x\": [5.1], \"y\": [\"GRC\"], \"type\": \"scatter\"}, {\"mode\": \"markers\", \"name\": \"HUN\", \"text\": [\"8.1\"], \"x\": [8.1], \"y\": [\"HUN\"], \"type\": \"scatter\"}, {\"mode\": \"markers\", \"name\": \"ISL\", \"text\": [\"2.7\"], \"x\": [2.7], \"y\": [\"ISL\"], \"type\": \"scatter\"}, {\"mode\": \"markers\", \"name\": \"IRL\", \"text\": [\"5.7\"], \"x\": [5.7], \"y\": [\"IRL\"], \"type\": \"scatter\"}, {\"mode\": \"markers\", \"name\": \"ITA\", \"text\": [\"4.4\"], \"x\": [4.4], \"y\": [\"ITA\"], \"type\": \"scatter\"}, {\"mode\": \"markers\", \"name\": \"JPN\", \"text\": [\"3.1\"], \"x\": [3.1], \"y\": [\"JPN\"], \"type\": \"scatter\"}, {\"mode\": \"markers\", \"name\": \"KOR\", \"text\": [\"0\"], \"x\": [0], \"y\": [\"KOR\"], \"type\": \"scatter\"}, {\"mode\": \"markers\", \"name\": \"LUX\", \"text\": [\"5.9\"], \"x\": [5.9], \"y\": [\"LUX\"], \"type\": \"scatter\"}, {\"mode\": \"markers\", \"name\": \"MEX\", \"text\": [\"20.0\"], \"x\": [20.0], \"y\": [\"MEX\"], \"type\": \"scatter\"}, {\"mode\": \"markers\", \"name\": \"NLD\", \"text\": [\"5.4\"], \"x\": [5.4], \"y\": [\"NLD\"], \"type\": \"scatter\"}, {\"mode\": \"markers\", \"name\": \"NZL\", \"text\": [\"5.6\"], \"x\": [5.6], \"y\": [\"NZL\"], \"type\": \"scatter\"}, {\"mode\": \"markers\", \"name\": \"NOR\", \"text\": [\"3.9\"], \"x\": [3.9], \"y\": [\"NOR\"], \"type\": \"scatter\"}, {\"mode\": \"markers\", \"name\": \"POL\", \"text\": [\"7.7\"], \"x\": [7.7], \"y\": [\"POL\"], \"type\": \"scatter\"}, {\"mode\": \"markers\", \"name\": \"PRT\", \"text\": [\"5.0\"], \"x\": [5.0], \"y\": [\"PRT\"], \"type\": \"scatter\"}, {\"mode\": \"markers\", \"name\": \"SVK\", \"text\": [\"6.2\"], \"x\": [6.2], \"y\": [\"SVK\"], \"type\": \"scatter\"}, {\"mode\": \"markers\", \"name\": \"ESP\", \"text\": [\"4.0\"], \"x\": [4.0], \"y\": [\"ESP\"], \"type\": \"scatter\"}, {\"mode\": \"markers\", \"name\": \"SWE\", \"text\": [\"3.7\"], \"x\": [3.7], \"y\": [\"SWE\"], \"type\": \"scatter\"}, {\"mode\": \"markers\", \"name\": \"CHE\", \"text\": [\"5.0\"], \"x\": [5.0], \"y\": [\"CHE\"], \"type\": \"scatter\"}, {\"mode\": \"markers\", \"name\": \"TUR\", \"text\": [\"28.6\"], \"x\": [28.6], \"y\": [\"TUR\"], \"type\": \"scatter\"}, {\"mode\": \"markers\", \"name\": \"GBR\", \"text\": [\"5.5\"], \"x\": [5.5], \"y\": [\"GBR\"], \"type\": \"scatter\"}, {\"mode\": \"markers\", \"name\": \"USA\", \"text\": [\"6.8\"], \"x\": [6.8], \"y\": [\"USA\"], \"type\": \"scatter\"}, {\"mode\": \"markers\", \"name\": \"BRA\", \"text\": [\"26.1\"], \"x\": [26.1], \"y\": [\"BRA\"], \"type\": \"scatter\"}, {\"mode\": \"markers\", \"name\": \"CHL\", \"text\": [\"8.3\"], \"x\": [8.3], \"y\": [\"CHL\"], \"type\": \"scatter\"}, {\"mode\": \"markers\", \"name\": \"CHN\", \"text\": [\"28.3\"], \"x\": [28.3], \"y\": [\"CHN\"], \"type\": \"scatter\"}, {\"mode\": \"markers\", \"name\": \"EST\", \"text\": [\"8.8\"], \"x\": [8.8], \"y\": [\"EST\"], \"type\": \"scatter\"}, {\"mode\": \"markers\", \"name\": \"IND\", \"text\": [\"64.2\"], \"x\": [64.2], \"y\": [\"IND\"], \"type\": \"scatter\"}, {\"mode\": \"markers\", \"name\": \"IDN\", \"text\": [\"39.4\"], \"x\": [39.4], \"y\": [\"IDN\"], \"type\": \"scatter\"}, {\"mode\": \"markers\", \"name\": \"ISR\", \"text\": [\"5.1\"], \"x\": [5.1], \"y\": [\"ISR\"], \"type\": \"scatter\"}, {\"mode\": \"markers\", \"name\": \"RUS\", \"text\": [\"14.6\"], \"x\": [14.6], \"y\": [\"RUS\"], \"type\": \"scatter\"}, {\"mode\": \"markers\", \"name\": \"SVN\", \"text\": [\"4.2\"], \"x\": [4.2], \"y\": [\"SVN\"], \"type\": \"scatter\"}, {\"mode\": \"markers\", \"name\": \"ZAF\", \"text\": [\"54.5\"], \"x\": [54.5], \"y\": [\"ZAF\"], \"type\": \"scatter\"}, {\"mode\": \"markers\", \"name\": \"COL\", \"text\": [\"24.0\"], \"x\": [24.0], \"y\": [\"COL\"], \"type\": \"scatter\"}, {\"mode\": \"markers\", \"name\": \"LVA\", \"text\": [\"11.0\"], \"x\": [11.0], \"y\": [\"LVA\"], \"type\": \"scatter\"}, {\"mode\": \"markers\", \"name\": \"LTU\", \"text\": [\"8.0\"], \"x\": [8.0], \"y\": [\"LTU\"], \"type\": \"scatter\"}, {\"mode\": \"markers\", \"name\": \"CRI\", \"text\": [\"10.5\"], \"x\": [10.5], \"y\": [\"CRI\"], \"type\": \"scatter\"}], \"name\": \"2001\"}, {\"data\": [{\"mode\": \"markers\", \"name\": \"AUS\", \"text\": [\"5.0\"], \"x\": [5.0], \"y\": [\"AUS\"], \"type\": \"scatter\"}, {\"mode\": \"markers\", \"name\": \"AUT\", \"text\": [\"4.1\"], \"x\": [4.1], \"y\": [\"AUT\"], \"type\": \"scatter\"}, {\"mode\": \"markers\", \"name\": \"BEL\", \"text\": [\"4.4\"], \"x\": [4.4], \"y\": [\"BEL\"], \"type\": \"scatter\"}, {\"mode\": \"markers\", \"name\": \"CAN\", \"text\": [\"5.4\"], \"x\": [5.4], \"y\": [\"CAN\"], \"type\": \"scatter\"}, {\"mode\": \"markers\", \"name\": \"CZE\", \"text\": [\"4.1\"], \"x\": [4.1], \"y\": [\"CZE\"], \"type\": \"scatter\"}, {\"mode\": \"markers\", \"name\": \"DNK\", \"text\": [\"4.4\"], \"x\": [4.4], \"y\": [\"DNK\"], \"type\": \"scatter\"}, {\"mode\": \"markers\", \"name\": \"FIN\", \"text\": [\"3.0\"], \"x\": [3.0], \"y\": [\"FIN\"], \"type\": \"scatter\"}, {\"mode\": \"markers\", \"name\": \"FRA\", \"text\": [\"4.2\"], \"x\": [4.2], \"y\": [\"FRA\"], \"type\": \"scatter\"}, {\"mode\": \"markers\", \"name\": \"DEU\", \"text\": [\"4.2\"], \"x\": [4.2], \"y\": [\"DEU\"], \"type\": \"scatter\"}, {\"mode\": \"markers\", \"name\": \"GRC\", \"text\": [\"5.1\"], \"x\": [5.1], \"y\": [\"GRC\"], \"type\": \"scatter\"}, {\"mode\": \"markers\", \"name\": \"HUN\", \"text\": [\"7.2\"], \"x\": [7.2], \"y\": [\"HUN\"], \"type\": \"scatter\"}, {\"mode\": \"markers\", \"name\": \"ISL\", \"text\": [\"2.2\"], \"x\": [2.2], \"y\": [\"ISL\"], \"type\": \"scatter\"}, {\"mode\": \"markers\", \"name\": \"IRL\", \"text\": [\"5.0\"], \"x\": [5.0], \"y\": [\"IRL\"], \"type\": \"scatter\"}, {\"mode\": \"markers\", \"name\": \"ITA\", \"text\": [\"4.1\"], \"x\": [4.1], \"y\": [\"ITA\"], \"type\": \"scatter\"}, {\"mode\": \"markers\", \"name\": \"JPN\", \"text\": [\"3.0\"], \"x\": [3.0], \"y\": [\"JPN\"], \"type\": \"scatter\"}, {\"mode\": \"markers\", \"name\": \"KOR\", \"text\": [\"5.3\"], \"x\": [5.3], \"y\": [\"KOR\"], \"type\": \"scatter\"}, {\"mode\": \"markers\", \"name\": \"LUX\", \"text\": [\"5.1\"], \"x\": [5.1], \"y\": [\"LUX\"], \"type\": \"scatter\"}, {\"mode\": \"markers\", \"name\": \"MEX\", \"text\": [\"19.1\"], \"x\": [19.1], \"y\": [\"MEX\"], \"type\": \"scatter\"}, {\"mode\": \"markers\", \"name\": \"NLD\", \"text\": [\"5.0\"], \"x\": [5.0], \"y\": [\"NLD\"], \"type\": \"scatter\"}, {\"mode\": \"markers\", \"name\": \"NZL\", \"text\": [\"6.2\"], \"x\": [6.2], \"y\": [\"NZL\"], \"type\": \"scatter\"}, {\"mode\": \"markers\", \"name\": \"NOR\", \"text\": [\"3.5\"], \"x\": [3.5], \"y\": [\"NOR\"], \"type\": \"scatter\"}, {\"mode\": \"markers\", \"name\": \"POL\", \"text\": [\"7.5\"], \"x\": [7.5], \"y\": [\"POL\"], \"type\": \"scatter\"}, {\"mode\": \"markers\", \"name\": \"PRT\", \"text\": [\"5.0\"], \"x\": [5.0], \"y\": [\"PRT\"], \"type\": \"scatter\"}, {\"mode\": \"markers\", \"name\": \"SVK\", \"text\": [\"7.6\"], \"x\": [7.6], \"y\": [\"SVK\"], \"type\": \"scatter\"}, {\"mode\": \"markers\", \"name\": \"ESP\", \"text\": [\"4.1\"], \"x\": [4.1], \"y\": [\"ESP\"], \"type\": \"scatter\"}, {\"mode\": \"markers\", \"name\": \"SWE\", \"text\": [\"3.3\"], \"x\": [3.3], \"y\": [\"SWE\"], \"type\": \"scatter\"}, {\"mode\": \"markers\", \"name\": \"CHE\", \"text\": [\"4.5\"], \"x\": [4.5], \"y\": [\"CHE\"], \"type\": \"scatter\"}, {\"mode\": \"markers\", \"name\": \"TUR\", \"text\": [\"29.6\"], \"x\": [29.6], \"y\": [\"TUR\"], \"type\": \"scatter\"}, {\"mode\": \"markers\", \"name\": \"GBR\", \"text\": [\"5.2\"], \"x\": [5.2], \"y\": [\"GBR\"], \"type\": \"scatter\"}, {\"mode\": \"markers\", \"name\": \"USA\", \"text\": [\"7.0\"], \"x\": [7.0], \"y\": [\"USA\"], \"type\": \"scatter\"}, {\"mode\": \"markers\", \"name\": \"BRA\", \"text\": [\"24.3\"], \"x\": [24.3], \"y\": [\"BRA\"], \"type\": \"scatter\"}, {\"mode\": \"markers\", \"name\": \"CHL\", \"text\": [\"7.8\"], \"x\": [7.8], \"y\": [\"CHL\"], \"type\": \"scatter\"}, {\"mode\": \"markers\", \"name\": \"CHN\", \"text\": [\"26.2\"], \"x\": [26.2], \"y\": [\"CHN\"], \"type\": \"scatter\"}, {\"mode\": \"markers\", \"name\": \"EST\", \"text\": [\"5.7\"], \"x\": [5.7], \"y\": [\"EST\"], \"type\": \"scatter\"}, {\"mode\": \"markers\", \"name\": \"IND\", \"text\": [\"62.0\"], \"x\": [62.0], \"y\": [\"IND\"], \"type\": \"scatter\"}, {\"mode\": \"markers\", \"name\": \"IDN\", \"text\": [\"37.8\"], \"x\": [37.8], \"y\": [\"IDN\"], \"type\": \"scatter\"}, {\"mode\": \"markers\", \"name\": \"ISR\", \"text\": [\"5.4\"], \"x\": [5.4], \"y\": [\"ISR\"], \"type\": \"scatter\"}, {\"mode\": \"markers\", \"name\": \"RUS\", \"text\": [\"13.3\"], \"x\": [13.3], \"y\": [\"RUS\"], \"type\": \"scatter\"}, {\"mode\": \"markers\", \"name\": \"SVN\", \"text\": [\"3.8\"], \"x\": [3.8], \"y\": [\"SVN\"], \"type\": \"scatter\"}, {\"mode\": \"markers\", \"name\": \"ZAF\", \"text\": [\"54.7\"], \"x\": [54.7], \"y\": [\"ZAF\"], \"type\": \"scatter\"}, {\"mode\": \"markers\", \"name\": \"COL\", \"text\": [\"23.0\"], \"x\": [23.0], \"y\": [\"COL\"], \"type\": \"scatter\"}, {\"mode\": \"markers\", \"name\": \"LVA\", \"text\": [\"9.8\"], \"x\": [9.8], \"y\": [\"LVA\"], \"type\": \"scatter\"}, {\"mode\": \"markers\", \"name\": \"LTU\", \"text\": [\"8.1\"], \"x\": [8.1], \"y\": [\"LTU\"], \"type\": \"scatter\"}, {\"mode\": \"markers\", \"name\": \"CRI\", \"text\": [\"10.0\"], \"x\": [10.0], \"y\": [\"CRI\"], \"type\": \"scatter\"}], \"name\": \"2002\"}, {\"data\": [{\"mode\": \"markers\", \"name\": \"AUS\", \"text\": [\"4.8\"], \"x\": [4.8], \"y\": [\"AUS\"], \"type\": \"scatter\"}, {\"mode\": \"markers\", \"name\": \"AUT\", \"text\": [\"4.5\"], \"x\": [4.5], \"y\": [\"AUT\"], \"type\": \"scatter\"}, {\"mode\": \"markers\", \"name\": \"BEL\", \"text\": [\"4.1\"], \"x\": [4.1], \"y\": [\"BEL\"], \"type\": \"scatter\"}, {\"mode\": \"markers\", \"name\": \"CAN\", \"text\": [\"5.3\"], \"x\": [5.3], \"y\": [\"CAN\"], \"type\": \"scatter\"}, {\"mode\": \"markers\", \"name\": \"CZE\", \"text\": [\"3.9\"], \"x\": [3.9], \"y\": [\"CZE\"], \"type\": \"scatter\"}, {\"mode\": \"markers\", \"name\": \"DNK\", \"text\": [\"4.4\"], \"x\": [4.4], \"y\": [\"DNK\"], \"type\": \"scatter\"}, {\"mode\": \"markers\", \"name\": \"FIN\", \"text\": [\"3.1\"], \"x\": [3.1], \"y\": [\"FIN\"], \"type\": \"scatter\"}, {\"mode\": \"markers\", \"name\": \"FRA\", \"text\": [\"4.2\"], \"x\": [4.2], \"y\": [\"FRA\"], \"type\": \"scatter\"}, {\"mode\": \"markers\", \"name\": \"DEU\", \"text\": [\"4.2\"], \"x\": [4.2], \"y\": [\"DEU\"], \"type\": \"scatter\"}, {\"mode\": \"markers\", \"name\": \"GRC\", \"text\": [\"4.0\"], \"x\": [4.0], \"y\": [\"GRC\"], \"type\": \"scatter\"}, {\"mode\": \"markers\", \"name\": \"HUN\", \"text\": [\"7.3\"], \"x\": [7.3], \"y\": [\"HUN\"], \"type\": \"scatter\"}, {\"mode\": \"markers\", \"name\": \"ISL\", \"text\": [\"2.4\"], \"x\": [2.4], \"y\": [\"ISL\"], \"type\": \"scatter\"}, {\"mode\": \"markers\", \"name\": \"IRL\", \"text\": [\"5.3\"], \"x\": [5.3], \"y\": [\"IRL\"], \"type\": \"scatter\"}, {\"mode\": \"markers\", \"name\": \"ITA\", \"text\": [\"3.8\"], \"x\": [3.8], \"y\": [\"ITA\"], \"type\": \"scatter\"}, {\"mode\": \"markers\", \"name\": \"JPN\", \"text\": [\"3.0\"], \"x\": [3.0], \"y\": [\"JPN\"], \"type\": \"scatter\"}, {\"mode\": \"markers\", \"name\": \"KOR\", \"text\": [\"0\"], \"x\": [0], \"y\": [\"KOR\"], \"type\": \"scatter\"}, {\"mode\": \"markers\", \"name\": \"LUX\", \"text\": [\"4.9\"], \"x\": [4.9], \"y\": [\"LUX\"], \"type\": \"scatter\"}, {\"mode\": \"markers\", \"name\": \"MEX\", \"text\": [\"18.3\"], \"x\": [18.3], \"y\": [\"MEX\"], \"type\": \"scatter\"}, {\"mode\": \"markers\", \"name\": \"NLD\", \"text\": [\"4.8\"], \"x\": [4.8], \"y\": [\"NLD\"], \"type\": \"scatter\"}, {\"mode\": \"markers\", \"name\": \"NZL\", \"text\": [\"5.4\"], \"x\": [5.4], \"y\": [\"NZL\"], \"type\": \"scatter\"}, {\"mode\": \"markers\", \"name\": \"NOR\", \"text\": [\"3.3\"], \"x\": [3.3], \"y\": [\"NOR\"], \"type\": \"scatter\"}, {\"mode\": \"markers\", \"name\": \"POL\", \"text\": [\"7.0\"], \"x\": [7.0], \"y\": [\"POL\"], \"type\": \"scatter\"}, {\"mode\": \"markers\", \"name\": \"PRT\", \"text\": [\"4.1\"], \"x\": [4.1], \"y\": [\"PRT\"], \"type\": \"scatter\"}, {\"mode\": \"markers\", \"name\": \"SVK\", \"text\": [\"7.9\"], \"x\": [7.9], \"y\": [\"SVK\"], \"type\": \"scatter\"}, {\"mode\": \"markers\", \"name\": \"ESP\", \"text\": [\"3.9\"], \"x\": [3.9], \"y\": [\"ESP\"], \"type\": \"scatter\"}, {\"mode\": \"markers\", \"name\": \"SWE\", \"text\": [\"3.1\"], \"x\": [3.1], \"y\": [\"SWE\"], \"type\": \"scatter\"}, {\"mode\": \"markers\", \"name\": \"CHE\", \"text\": [\"4.3\"], \"x\": [4.3], \"y\": [\"CHE\"], \"type\": \"scatter\"}, {\"mode\": \"markers\", \"name\": \"TUR\", \"text\": [\"29.1\"], \"x\": [29.1], \"y\": [\"TUR\"], \"type\": \"scatter\"}, {\"mode\": \"markers\", \"name\": \"GBR\", \"text\": [\"5.3\"], \"x\": [5.3], \"y\": [\"GBR\"], \"type\": \"scatter\"}, {\"mode\": \"markers\", \"name\": \"USA\", \"text\": [\"6.8\"], \"x\": [6.8], \"y\": [\"USA\"], \"type\": \"scatter\"}, {\"mode\": \"markers\", \"name\": \"BRA\", \"text\": [\"22.5\"], \"x\": [22.5], \"y\": [\"BRA\"], \"type\": \"scatter\"}, {\"mode\": \"markers\", \"name\": \"CHL\", \"text\": [\"7.8\"], \"x\": [7.8], \"y\": [\"CHL\"], \"type\": \"scatter\"}, {\"mode\": \"markers\", \"name\": \"CHN\", \"text\": [\"24.2\"], \"x\": [24.2], \"y\": [\"CHN\"], \"type\": \"scatter\"}, {\"mode\": \"markers\", \"name\": \"EST\", \"text\": [\"7.0\"], \"x\": [7.0], \"y\": [\"EST\"], \"type\": \"scatter\"}, {\"mode\": \"markers\", \"name\": \"IND\", \"text\": [\"59.9\"], \"x\": [59.9], \"y\": [\"IND\"], \"type\": \"scatter\"}, {\"mode\": \"markers\", \"name\": \"IDN\", \"text\": [\"36.3\"], \"x\": [36.3], \"y\": [\"IDN\"], \"type\": \"scatter\"}, {\"mode\": \"markers\", \"name\": \"ISR\", \"text\": [\"4.9\"], \"x\": [4.9], \"y\": [\"ISR\"], \"type\": \"scatter\"}, {\"mode\": \"markers\", \"name\": \"RUS\", \"text\": [\"12.4\"], \"x\": [12.4], \"y\": [\"RUS\"], \"type\": \"scatter\"}, {\"mode\": \"markers\", \"name\": \"SVN\", \"text\": [\"4.0\"], \"x\": [4.0], \"y\": [\"SVN\"], \"type\": \"scatter\"}, {\"mode\": \"markers\", \"name\": \"ZAF\", \"text\": [\"54.1\"], \"x\": [54.1], \"y\": [\"ZAF\"], \"type\": \"scatter\"}, {\"mode\": \"markers\", \"name\": \"COL\", \"text\": [\"22.1\"], \"x\": [22.1], \"y\": [\"COL\"], \"type\": \"scatter\"}, {\"mode\": \"markers\", \"name\": \"LVA\", \"text\": [\"9.4\"], \"x\": [9.4], \"y\": [\"LVA\"], \"type\": \"scatter\"}, {\"mode\": \"markers\", \"name\": \"LTU\", \"text\": [\"6.9\"], \"x\": [6.9], \"y\": [\"LTU\"], \"type\": \"scatter\"}, {\"mode\": \"markers\", \"name\": \"CRI\", \"text\": [\"9.5\"], \"x\": [9.5], \"y\": [\"CRI\"], \"type\": \"scatter\"}], \"name\": \"2003\"}, {\"data\": [{\"mode\": \"markers\", \"name\": \"AUS\", \"text\": [\"4.7\"], \"x\": [4.7], \"y\": [\"AUS\"], \"type\": \"scatter\"}, {\"mode\": \"markers\", \"name\": \"AUT\", \"text\": [\"4.5\"], \"x\": [4.5], \"y\": [\"AUT\"], \"type\": \"scatter\"}, {\"mode\": \"markers\", \"name\": \"BEL\", \"text\": [\"3.9\"], \"x\": [3.9], \"y\": [\"BEL\"], \"type\": \"scatter\"}, {\"mode\": \"markers\", \"name\": \"CAN\", \"text\": [\"5.3\"], \"x\": [5.3], \"y\": [\"CAN\"], \"type\": \"scatter\"}, {\"mode\": \"markers\", \"name\": \"CZE\", \"text\": [\"3.7\"], \"x\": [3.7], \"y\": [\"CZE\"], \"type\": \"scatter\"}, {\"mode\": \"markers\", \"name\": \"DNK\", \"text\": [\"4.4\"], \"x\": [4.4], \"y\": [\"DNK\"], \"type\": \"scatter\"}, {\"mode\": \"markers\", \"name\": \"FIN\", \"text\": [\"3.3\"], \"x\": [3.3], \"y\": [\"FIN\"], \"type\": \"scatter\"}, {\"mode\": \"markers\", \"name\": \"FRA\", \"text\": [\"4.0\"], \"x\": [4.0], \"y\": [\"FRA\"], \"type\": \"scatter\"}, {\"mode\": \"markers\", \"name\": \"DEU\", \"text\": [\"4.1\"], \"x\": [4.1], \"y\": [\"DEU\"], \"type\": \"scatter\"}, {\"mode\": \"markers\", \"name\": \"GRC\", \"text\": [\"4.1\"], \"x\": [4.1], \"y\": [\"GRC\"], \"type\": \"scatter\"}, {\"mode\": \"markers\", \"name\": \"HUN\", \"text\": [\"6.6\"], \"x\": [6.6], \"y\": [\"HUN\"], \"type\": \"scatter\"}, {\"mode\": \"markers\", \"name\": \"ISL\", \"text\": [\"2.8\"], \"x\": [2.8], \"y\": [\"ISL\"], \"type\": \"scatter\"}, {\"mode\": \"markers\", \"name\": \"IRL\", \"text\": [\"4.6\"], \"x\": [4.6], \"y\": [\"IRL\"], \"type\": \"scatter\"}, {\"mode\": \"markers\", \"name\": \"ITA\", \"text\": [\"3.4\"], \"x\": [3.4], \"y\": [\"ITA\"], \"type\": \"scatter\"}, {\"mode\": \"markers\", \"name\": \"JPN\", \"text\": [\"2.8\"], \"x\": [2.8], \"y\": [\"JPN\"], \"type\": \"scatter\"}, {\"mode\": \"markers\", \"name\": \"KOR\", \"text\": [\"0\"], \"x\": [0], \"y\": [\"KOR\"], \"type\": \"scatter\"}, {\"mode\": \"markers\", \"name\": \"LUX\", \"text\": [\"3.9\"], \"x\": [3.9], \"y\": [\"LUX\"], \"type\": \"scatter\"}, {\"mode\": \"markers\", \"name\": \"MEX\", \"text\": [\"17.6\"], \"x\": [17.6], \"y\": [\"MEX\"], \"type\": \"scatter\"}, {\"mode\": \"markers\", \"name\": \"NLD\", \"text\": [\"4.4\"], \"x\": [4.4], \"y\": [\"NLD\"], \"type\": \"scatter\"}, {\"mode\": \"markers\", \"name\": \"NZL\", \"text\": [\"5.9\"], \"x\": [5.9], \"y\": [\"NZL\"], \"type\": \"scatter\"}, {\"mode\": \"markers\", \"name\": \"NOR\", \"text\": [\"3.2\"], \"x\": [3.2], \"y\": [\"NOR\"], \"type\": \"scatter\"}, {\"mode\": \"markers\", \"name\": \"POL\", \"text\": [\"6.8\"], \"x\": [6.8], \"y\": [\"POL\"], \"type\": \"scatter\"}, {\"mode\": \"markers\", \"name\": \"PRT\", \"text\": [\"3.8\"], \"x\": [3.8], \"y\": [\"PRT\"], \"type\": \"scatter\"}, {\"mode\": \"markers\", \"name\": \"SVK\", \"text\": [\"6.8\"], \"x\": [6.8], \"y\": [\"SVK\"], \"type\": \"scatter\"}, {\"mode\": \"markers\", \"name\": \"ESP\", \"text\": [\"3.9\"], \"x\": [3.9], \"y\": [\"ESP\"], \"type\": \"scatter\"}, {\"mode\": \"markers\", \"name\": \"SWE\", \"text\": [\"3.1\"], \"x\": [3.1], \"y\": [\"SWE\"], \"type\": \"scatter\"}, {\"mode\": \"markers\", \"name\": \"CHE\", \"text\": [\"4.2\"], \"x\": [4.2], \"y\": [\"CHE\"], \"type\": \"scatter\"}, {\"mode\": \"markers\", \"name\": \"TUR\", \"text\": [\"27.4\"], \"x\": [27.4], \"y\": [\"TUR\"], \"type\": \"scatter\"}, {\"mode\": \"markers\", \"name\": \"GBR\", \"text\": [\"5.0\"], \"x\": [5.0], \"y\": [\"GBR\"], \"type\": \"scatter\"}, {\"mode\": \"markers\", \"name\": \"USA\", \"text\": [\"6.8\"], \"x\": [6.8], \"y\": [\"USA\"], \"type\": \"scatter\"}, {\"mode\": \"markers\", \"name\": \"BRA\", \"text\": [\"21.0\"], \"x\": [21.0], \"y\": [\"BRA\"], \"type\": \"scatter\"}, {\"mode\": \"markers\", \"name\": \"CHL\", \"text\": [\"8.4\"], \"x\": [8.4], \"y\": [\"CHL\"], \"type\": \"scatter\"}, {\"mode\": \"markers\", \"name\": \"CHN\", \"text\": [\"22.2\"], \"x\": [22.2], \"y\": [\"CHN\"], \"type\": \"scatter\"}, {\"mode\": \"markers\", \"name\": \"EST\", \"text\": [\"6.4\"], \"x\": [6.4], \"y\": [\"EST\"], \"type\": \"scatter\"}, {\"mode\": \"markers\", \"name\": \"IND\", \"text\": [\"57.8\"], \"x\": [57.8], \"y\": [\"IND\"], \"type\": \"scatter\"}, {\"mode\": \"markers\", \"name\": \"IDN\", \"text\": [\"36.0\"], \"x\": [36.0], \"y\": [\"IDN\"], \"type\": \"scatter\"}, {\"mode\": \"markers\", \"name\": \"ISR\", \"text\": [\"4.6\"], \"x\": [4.6], \"y\": [\"ISR\"], \"type\": \"scatter\"}, {\"mode\": \"markers\", \"name\": \"RUS\", \"text\": [\"11.6\"], \"x\": [11.6], \"y\": [\"RUS\"], \"type\": \"scatter\"}, {\"mode\": \"markers\", \"name\": \"SVN\", \"text\": [\"3.7\"], \"x\": [3.7], \"y\": [\"SVN\"], \"type\": \"scatter\"}, {\"mode\": \"markers\", \"name\": \"ZAF\", \"text\": [\"52.8\"], \"x\": [52.8], \"y\": [\"ZAF\"], \"type\": \"scatter\"}, {\"mode\": \"markers\", \"name\": \"COL\", \"text\": [\"21.3\"], \"x\": [21.3], \"y\": [\"COL\"], \"type\": \"scatter\"}, {\"mode\": \"markers\", \"name\": \"LVA\", \"text\": [\"9.3\"], \"x\": [9.3], \"y\": [\"LVA\"], \"type\": \"scatter\"}, {\"mode\": \"markers\", \"name\": \"LTU\", \"text\": [\"8.1\"], \"x\": [8.1], \"y\": [\"LTU\"], \"type\": \"scatter\"}, {\"mode\": \"markers\", \"name\": \"CRI\", \"text\": [\"9.2\"], \"x\": [9.2], \"y\": [\"CRI\"], \"type\": \"scatter\"}], \"name\": \"2004\"}, {\"data\": [{\"mode\": \"markers\", \"name\": \"AUS\", \"text\": [\"4.9\"], \"x\": [4.9], \"y\": [\"AUS\"], \"type\": \"scatter\"}, {\"mode\": \"markers\", \"name\": \"AUT\", \"text\": [\"4.2\"], \"x\": [4.2], \"y\": [\"AUT\"], \"type\": \"scatter\"}, {\"mode\": \"markers\", \"name\": \"BEL\", \"text\": [\"3.7\"], \"x\": [3.7], \"y\": [\"BEL\"], \"type\": \"scatter\"}, {\"mode\": \"markers\", \"name\": \"CAN\", \"text\": [\"5.4\"], \"x\": [5.4], \"y\": [\"CAN\"], \"type\": \"scatter\"}, {\"mode\": \"markers\", \"name\": \"CZE\", \"text\": [\"3.4\"], \"x\": [3.4], \"y\": [\"CZE\"], \"type\": \"scatter\"}, {\"mode\": \"markers\", \"name\": \"DNK\", \"text\": [\"4.4\"], \"x\": [4.4], \"y\": [\"DNK\"], \"type\": \"scatter\"}, {\"mode\": \"markers\", \"name\": \"FIN\", \"text\": [\"3.0\"], \"x\": [3.0], \"y\": [\"FIN\"], \"type\": \"scatter\"}, {\"mode\": \"markers\", \"name\": \"FRA\", \"text\": [\"3.8\"], \"x\": [3.8], \"y\": [\"FRA\"], \"type\": \"scatter\"}, {\"mode\": \"markers\", \"name\": \"DEU\", \"text\": [\"3.9\"], \"x\": [3.9], \"y\": [\"DEU\"], \"type\": \"scatter\"}, {\"mode\": \"markers\", \"name\": \"GRC\", \"text\": [\"3.8\"], \"x\": [3.8], \"y\": [\"GRC\"], \"type\": \"scatter\"}, {\"mode\": \"markers\", \"name\": \"HUN\", \"text\": [\"6.2\"], \"x\": [6.2], \"y\": [\"HUN\"], \"type\": \"scatter\"}, {\"mode\": \"markers\", \"name\": \"ISL\", \"text\": [\"2.3\"], \"x\": [2.3], \"y\": [\"ISL\"], \"type\": \"scatter\"}, {\"mode\": \"markers\", \"name\": \"IRL\", \"text\": [\"3.8\"], \"x\": [3.8], \"y\": [\"IRL\"], \"type\": \"scatter\"}, {\"mode\": \"markers\", \"name\": \"ITA\", \"text\": [\"3.3\"], \"x\": [3.3], \"y\": [\"ITA\"], \"type\": \"scatter\"}, {\"mode\": \"markers\", \"name\": \"JPN\", \"text\": [\"2.8\"], \"x\": [2.8], \"y\": [\"JPN\"], \"type\": \"scatter\"}, {\"mode\": \"markers\", \"name\": \"KOR\", \"text\": [\"4.7\"], \"x\": [4.7], \"y\": [\"KOR\"], \"type\": \"scatter\"}, {\"mode\": \"markers\", \"name\": \"LUX\", \"text\": [\"2.6\"], \"x\": [2.6], \"y\": [\"LUX\"], \"type\": \"scatter\"}, {\"mode\": \"markers\", \"name\": \"MEX\", \"text\": [\"16.9\"], \"x\": [16.9], \"y\": [\"MEX\"], \"type\": \"scatter\"}, {\"mode\": \"markers\", \"name\": \"NLD\", \"text\": [\"4.9\"], \"x\": [4.9], \"y\": [\"NLD\"], \"type\": \"scatter\"}, {\"mode\": \"markers\", \"name\": \"NZL\", \"text\": [\"5.0\"], \"x\": [5.0], \"y\": [\"NZL\"], \"type\": \"scatter\"}, {\"mode\": \"markers\", \"name\": \"NOR\", \"text\": [\"3.1\"], \"x\": [3.1], \"y\": [\"NOR\"], \"type\": \"scatter\"}, {\"mode\": \"markers\", \"name\": \"POL\", \"text\": [\"6.4\"], \"x\": [6.4], \"y\": [\"POL\"], \"type\": \"scatter\"}, {\"mode\": \"markers\", \"name\": \"PRT\", \"text\": [\"3.5\"], \"x\": [3.5], \"y\": [\"PRT\"], \"type\": \"scatter\"}, {\"mode\": \"markers\", \"name\": \"SVK\", \"text\": [\"7.2\"], \"x\": [7.2], \"y\": [\"SVK\"], \"type\": \"scatter\"}, {\"mode\": \"markers\", \"name\": \"ESP\", \"text\": [\"3.7\"], \"x\": [3.7], \"y\": [\"ESP\"], \"type\": \"scatter\"}, {\"mode\": \"markers\", \"name\": \"SWE\", \"text\": [\"2.4\"], \"x\": [2.4], \"y\": [\"SWE\"], \"type\": \"scatter\"}, {\"mode\": \"markers\", \"name\": \"CHE\", \"text\": [\"4.2\"], \"x\": [4.2], \"y\": [\"CHE\"], \"type\": \"scatter\"}, {\"mode\": \"markers\", \"name\": \"TUR\", \"text\": [\"25.8\"], \"x\": [25.8], \"y\": [\"TUR\"], \"type\": \"scatter\"}, {\"mode\": \"markers\", \"name\": \"GBR\", \"text\": [\"5.1\"], \"x\": [5.1], \"y\": [\"GBR\"], \"type\": \"scatter\"}, {\"mode\": \"markers\", \"name\": \"USA\", \"text\": [\"6.9\"], \"x\": [6.9], \"y\": [\"USA\"], \"type\": \"scatter\"}, {\"mode\": \"markers\", \"name\": \"BRA\", \"text\": [\"19.5\"], \"x\": [19.5], \"y\": [\"BRA\"], \"type\": \"scatter\"}, {\"mode\": \"markers\", \"name\": \"CHL\", \"text\": [\"7.9\"], \"x\": [7.9], \"y\": [\"CHL\"], \"type\": \"scatter\"}, {\"mode\": \"markers\", \"name\": \"CHN\", \"text\": [\"20.3\"], \"x\": [20.3], \"y\": [\"CHN\"], \"type\": \"scatter\"}, {\"mode\": \"markers\", \"name\": \"EST\", \"text\": [\"5.4\"], \"x\": [5.4], \"y\": [\"EST\"], \"type\": \"scatter\"}, {\"mode\": \"markers\", \"name\": \"IND\", \"text\": [\"55.8\"], \"x\": [55.8], \"y\": [\"IND\"], \"type\": \"scatter\"}, {\"mode\": \"markers\", \"name\": \"IDN\", \"text\": [\"33.4\"], \"x\": [33.4], \"y\": [\"IDN\"], \"type\": \"scatter\"}, {\"mode\": \"markers\", \"name\": \"ISR\", \"text\": [\"4.4\"], \"x\": [4.4], \"y\": [\"ISR\"], \"type\": \"scatter\"}, {\"mode\": \"markers\", \"name\": \"RUS\", \"text\": [\"11.0\"], \"x\": [11.0], \"y\": [\"RUS\"], \"type\": \"scatter\"}, {\"mode\": \"markers\", \"name\": \"SVN\", \"text\": [\"4.1\"], \"x\": [4.1], \"y\": [\"SVN\"], \"type\": \"scatter\"}, {\"mode\": \"markers\", \"name\": \"ZAF\", \"text\": [\"51.5\"], \"x\": [51.5], \"y\": [\"ZAF\"], \"type\": \"scatter\"}, {\"mode\": \"markers\", \"name\": \"COL\", \"text\": [\"20.4\"], \"x\": [20.4], \"y\": [\"COL\"], \"type\": \"scatter\"}, {\"mode\": \"markers\", \"name\": \"LVA\", \"text\": [\"7.7\"], \"x\": [7.7], \"y\": [\"LVA\"], \"type\": \"scatter\"}, {\"mode\": \"markers\", \"name\": \"LTU\", \"text\": [\"7.1\"], \"x\": [7.1], \"y\": [\"LTU\"], \"type\": \"scatter\"}, {\"mode\": \"markers\", \"name\": \"CRI\", \"text\": [\"9.0\"], \"x\": [9.0], \"y\": [\"CRI\"], \"type\": \"scatter\"}], \"name\": \"2005\"}, {\"data\": [{\"mode\": \"markers\", \"name\": \"AUS\", \"text\": [\"4.7\"], \"x\": [4.7], \"y\": [\"AUS\"], \"type\": \"scatter\"}, {\"mode\": \"markers\", \"name\": \"AUT\", \"text\": [\"3.6\"], \"x\": [3.6], \"y\": [\"AUT\"], \"type\": \"scatter\"}, {\"mode\": \"markers\", \"name\": \"BEL\", \"text\": [\"4.0\"], \"x\": [4.0], \"y\": [\"BEL\"], \"type\": \"scatter\"}, {\"mode\": \"markers\", \"name\": \"CAN\", \"text\": [\"5.0\"], \"x\": [5.0], \"y\": [\"CAN\"], \"type\": \"scatter\"}, {\"mode\": \"markers\", \"name\": \"CZE\", \"text\": [\"3.3\"], \"x\": [3.3], \"y\": [\"CZE\"], \"type\": \"scatter\"}, {\"mode\": \"markers\", \"name\": \"DNK\", \"text\": [\"3.5\"], \"x\": [3.5], \"y\": [\"DNK\"], \"type\": \"scatter\"}, {\"mode\": \"markers\", \"name\": \"FIN\", \"text\": [\"2.8\"], \"x\": [2.8], \"y\": [\"FIN\"], \"type\": \"scatter\"}, {\"mode\": \"markers\", \"name\": \"FRA\", \"text\": [\"3.8\"], \"x\": [3.8], \"y\": [\"FRA\"], \"type\": \"scatter\"}, {\"mode\": \"markers\", \"name\": \"DEU\", \"text\": [\"3.8\"], \"x\": [3.8], \"y\": [\"DEU\"], \"type\": \"scatter\"}, {\"mode\": \"markers\", \"name\": \"GRC\", \"text\": [\"3.7\"], \"x\": [3.7], \"y\": [\"GRC\"], \"type\": \"scatter\"}, {\"mode\": \"markers\", \"name\": \"HUN\", \"text\": [\"5.7\"], \"x\": [5.7], \"y\": [\"HUN\"], \"type\": \"scatter\"}, {\"mode\": \"markers\", \"name\": \"ISL\", \"text\": [\"1.4\"], \"x\": [1.4], \"y\": [\"ISL\"], \"type\": \"scatter\"}, {\"mode\": \"markers\", \"name\": \"IRL\", \"text\": [\"3.9\"], \"x\": [3.9], \"y\": [\"IRL\"], \"type\": \"scatter\"}, {\"mode\": \"markers\", \"name\": \"ITA\", \"text\": [\"3.2\"], \"x\": [3.2], \"y\": [\"ITA\"], \"type\": \"scatter\"}, {\"mode\": \"markers\", \"name\": \"JPN\", \"text\": [\"2.6\"], \"x\": [2.6], \"y\": [\"JPN\"], \"type\": \"scatter\"}, {\"mode\": \"markers\", \"name\": \"KOR\", \"text\": [\"4.1\"], \"x\": [4.1], \"y\": [\"KOR\"], \"type\": \"scatter\"}, {\"mode\": \"markers\", \"name\": \"LUX\", \"text\": [\"2.5\"], \"x\": [2.5], \"y\": [\"LUX\"], \"type\": \"scatter\"}, {\"mode\": \"markers\", \"name\": \"MEX\", \"text\": [\"16.3\"], \"x\": [16.3], \"y\": [\"MEX\"], \"type\": \"scatter\"}, {\"mode\": \"markers\", \"name\": \"NLD\", \"text\": [\"4.4\"], \"x\": [4.4], \"y\": [\"NLD\"], \"type\": \"scatter\"}, {\"mode\": \"markers\", \"name\": \"NZL\", \"text\": [\"5.1\"], \"x\": [5.1], \"y\": [\"NZL\"], \"type\": \"scatter\"}, {\"mode\": \"markers\", \"name\": \"NOR\", \"text\": [\"3.2\"], \"x\": [3.2], \"y\": [\"NOR\"], \"type\": \"scatter\"}, {\"mode\": \"markers\", \"name\": \"POL\", \"text\": [\"6.0\"], \"x\": [6.0], \"y\": [\"POL\"], \"type\": \"scatter\"}, {\"mode\": \"markers\", \"name\": \"PRT\", \"text\": [\"3.3\"], \"x\": [3.3], \"y\": [\"PRT\"], \"type\": \"scatter\"}, {\"mode\": \"markers\", \"name\": \"SVK\", \"text\": [\"6.6\"], \"x\": [6.6], \"y\": [\"SVK\"], \"type\": \"scatter\"}, {\"mode\": \"markers\", \"name\": \"ESP\", \"text\": [\"3.5\"], \"x\": [3.5], \"y\": [\"ESP\"], \"type\": \"scatter\"}, {\"mode\": \"markers\", \"name\": \"SWE\", \"text\": [\"2.8\"], \"x\": [2.8], \"y\": [\"SWE\"], \"type\": \"scatter\"}, {\"mode\": \"markers\", \"name\": \"CHE\", \"text\": [\"4.4\"], \"x\": [4.4], \"y\": [\"CHE\"], \"type\": \"scatter\"}, {\"mode\": \"markers\", \"name\": \"TUR\", \"text\": [\"24.5\"], \"x\": [24.5], \"y\": [\"TUR\"], \"type\": \"scatter\"}, {\"mode\": \"markers\", \"name\": \"GBR\", \"text\": [\"4.9\"], \"x\": [4.9], \"y\": [\"GBR\"], \"type\": \"scatter\"}, {\"mode\": \"markers\", \"name\": \"USA\", \"text\": [\"6.7\"], \"x\": [6.7], \"y\": [\"USA\"], \"type\": \"scatter\"}, {\"mode\": \"markers\", \"name\": \"BRA\", \"text\": [\"18.2\"], \"x\": [18.2], \"y\": [\"BRA\"], \"type\": \"scatter\"}, {\"mode\": \"markers\", \"name\": \"CHL\", \"text\": [\"7.6\"], \"x\": [7.6], \"y\": [\"CHL\"], \"type\": \"scatter\"}, {\"mode\": \"markers\", \"name\": \"CHN\", \"text\": [\"18.7\"], \"x\": [18.7], \"y\": [\"CHN\"], \"type\": \"scatter\"}, {\"mode\": \"markers\", \"name\": \"EST\", \"text\": [\"4.4\"], \"x\": [4.4], \"y\": [\"EST\"], \"type\": \"scatter\"}, {\"mode\": \"markers\", \"name\": \"IND\", \"text\": [\"53.9\"], \"x\": [53.9], \"y\": [\"IND\"], \"type\": \"scatter\"}, {\"mode\": \"markers\", \"name\": \"IDN\", \"text\": [\"32.1\"], \"x\": [32.1], \"y\": [\"IDN\"], \"type\": \"scatter\"}, {\"mode\": \"markers\", \"name\": \"ISR\", \"text\": [\"4.0\"], \"x\": [4.0], \"y\": [\"ISR\"], \"type\": \"scatter\"}, {\"mode\": \"markers\", \"name\": \"RUS\", \"text\": [\"10.2\"], \"x\": [10.2], \"y\": [\"RUS\"], \"type\": \"scatter\"}, {\"mode\": \"markers\", \"name\": \"SVN\", \"text\": [\"3.4\"], \"x\": [3.4], \"y\": [\"SVN\"], \"type\": \"scatter\"}, {\"mode\": \"markers\", \"name\": \"ZAF\", \"text\": [\"50.0\"], \"x\": [50.0], \"y\": [\"ZAF\"], \"type\": \"scatter\"}, {\"mode\": \"markers\", \"name\": \"COL\", \"text\": [\"20.0\"], \"x\": [20.0], \"y\": [\"COL\"], \"type\": \"scatter\"}, {\"mode\": \"markers\", \"name\": \"LVA\", \"text\": [\"7.4\"], \"x\": [7.4], \"y\": [\"LVA\"], \"type\": \"scatter\"}, {\"mode\": \"markers\", \"name\": \"LTU\", \"text\": [\"7.2\"], \"x\": [7.2], \"y\": [\"LTU\"], \"type\": \"scatter\"}, {\"mode\": \"markers\", \"name\": \"CRI\", \"text\": [\"8.9\"], \"x\": [8.9], \"y\": [\"CRI\"], \"type\": \"scatter\"}], \"name\": \"2006\"}, {\"data\": [{\"mode\": \"markers\", \"name\": \"AUS\", \"text\": [\"4.1\"], \"x\": [4.1], \"y\": [\"AUS\"], \"type\": \"scatter\"}, {\"mode\": \"markers\", \"name\": \"AUT\", \"text\": [\"3.7\"], \"x\": [3.7], \"y\": [\"AUT\"], \"type\": \"scatter\"}, {\"mode\": \"markers\", \"name\": \"BEL\", \"text\": [\"3.9\"], \"x\": [3.9], \"y\": [\"BEL\"], \"type\": \"scatter\"}, {\"mode\": \"markers\", \"name\": \"CAN\", \"text\": [\"5.1\"], \"x\": [5.1], \"y\": [\"CAN\"], \"type\": \"scatter\"}, {\"mode\": \"markers\", \"name\": \"CZE\", \"text\": [\"3.1\"], \"x\": [3.1], \"y\": [\"CZE\"], \"type\": \"scatter\"}, {\"mode\": \"markers\", \"name\": \"DNK\", \"text\": [\"4.0\"], \"x\": [4.0], \"y\": [\"DNK\"], \"type\": \"scatter\"}, {\"mode\": \"markers\", \"name\": \"FIN\", \"text\": [\"2.7\"], \"x\": [2.7], \"y\": [\"FIN\"], \"type\": \"scatter\"}, {\"mode\": \"markers\", \"name\": \"FRA\", \"text\": [\"3.8\"], \"x\": [3.8], \"y\": [\"FRA\"], \"type\": \"scatter\"}, {\"mode\": \"markers\", \"name\": \"DEU\", \"text\": [\"3.9\"], \"x\": [3.9], \"y\": [\"DEU\"], \"type\": \"scatter\"}, {\"mode\": \"markers\", \"name\": \"GRC\", \"text\": [\"3.5\"], \"x\": [3.5], \"y\": [\"GRC\"], \"type\": \"scatter\"}, {\"mode\": \"markers\", \"name\": \"HUN\", \"text\": [\"5.9\"], \"x\": [5.9], \"y\": [\"HUN\"], \"type\": \"scatter\"}, {\"mode\": \"markers\", \"name\": \"ISL\", \"text\": [\"2.0\"], \"x\": [2.0], \"y\": [\"ISL\"], \"type\": \"scatter\"}, {\"mode\": \"markers\", \"name\": \"IRL\", \"text\": [\"3.2\"], \"x\": [3.2], \"y\": [\"IRL\"], \"type\": \"scatter\"}, {\"mode\": \"markers\", \"name\": \"ITA\", \"text\": [\"3.1\"], \"x\": [3.1], \"y\": [\"ITA\"], \"type\": \"scatter\"}, {\"mode\": \"markers\", \"name\": \"JPN\", \"text\": [\"2.6\"], \"x\": [2.6], \"y\": [\"JPN\"], \"type\": \"scatter\"}, {\"mode\": \"markers\", \"name\": \"KOR\", \"text\": [\"3.5\"], \"x\": [3.5], \"y\": [\"KOR\"], \"type\": \"scatter\"}, {\"mode\": \"markers\", \"name\": \"LUX\", \"text\": [\"1.8\"], \"x\": [1.8], \"y\": [\"LUX\"], \"type\": \"scatter\"}, {\"mode\": \"markers\", \"name\": \"MEX\", \"text\": [\"15.7\"], \"x\": [15.7], \"y\": [\"MEX\"], \"type\": \"scatter\"}, {\"mode\": \"markers\", \"name\": \"NLD\", \"text\": [\"4.1\"], \"x\": [4.1], \"y\": [\"NLD\"], \"type\": \"scatter\"}, {\"mode\": \"markers\", \"name\": \"NZL\", \"text\": [\"4.8\"], \"x\": [4.8], \"y\": [\"NZL\"], \"type\": \"scatter\"}, {\"mode\": \"markers\", \"name\": \"NOR\", \"text\": [\"3.1\"], \"x\": [3.1], \"y\": [\"NOR\"], \"type\": \"scatter\"}, {\"mode\": \"markers\", \"name\": \"POL\", \"text\": [\"6.0\"], \"x\": [6.0], \"y\": [\"POL\"], \"type\": \"scatter\"}, {\"mode\": \"markers\", \"name\": \"PRT\", \"text\": [\"3.4\"], \"x\": [3.4], \"y\": [\"PRT\"], \"type\": \"scatter\"}, {\"mode\": \"markers\", \"name\": \"SVK\", \"text\": [\"6.1\"], \"x\": [6.1], \"y\": [\"SVK\"], \"type\": \"scatter\"}, {\"mode\": \"markers\", \"name\": \"ESP\", \"text\": [\"3.4\"], \"x\": [3.4], \"y\": [\"ESP\"], \"type\": \"scatter\"}, {\"mode\": \"markers\", \"name\": \"SWE\", \"text\": [\"2.5\"], \"x\": [2.5], \"y\": [\"SWE\"], \"type\": \"scatter\"}, {\"mode\": \"markers\", \"name\": \"CHE\", \"text\": [\"3.9\"], \"x\": [3.9], \"y\": [\"CHE\"], \"type\": \"scatter\"}, {\"mode\": \"markers\", \"name\": \"TUR\", \"text\": [\"16.5\"], \"x\": [16.5], \"y\": [\"TUR\"], \"type\": \"scatter\"}, {\"mode\": \"markers\", \"name\": \"GBR\", \"text\": [\"4.7\"], \"x\": [4.7], \"y\": [\"GBR\"], \"type\": \"scatter\"}, {\"mode\": \"markers\", \"name\": \"USA\", \"text\": [\"6.8\"], \"x\": [6.8], \"y\": [\"USA\"], \"type\": \"scatter\"}, {\"mode\": \"markers\", \"name\": \"BRA\", \"text\": [\"17.1\"], \"x\": [17.1], \"y\": [\"BRA\"], \"type\": \"scatter\"}, {\"mode\": \"markers\", \"name\": \"CHL\", \"text\": [\"8.3\"], \"x\": [8.3], \"y\": [\"CHL\"], \"type\": \"scatter\"}, {\"mode\": \"markers\", \"name\": \"CHN\", \"text\": [\"17.2\"], \"x\": [17.2], \"y\": [\"CHN\"], \"type\": \"scatter\"}, {\"mode\": \"markers\", \"name\": \"EST\", \"text\": [\"5.0\"], \"x\": [5.0], \"y\": [\"EST\"], \"type\": \"scatter\"}, {\"mode\": \"markers\", \"name\": \"IND\", \"text\": [\"51.9\"], \"x\": [51.9], \"y\": [\"IND\"], \"type\": \"scatter\"}, {\"mode\": \"markers\", \"name\": \"IDN\", \"text\": [\"30.9\"], \"x\": [30.9], \"y\": [\"IDN\"], \"type\": \"scatter\"}, {\"mode\": \"markers\", \"name\": \"ISR\", \"text\": [\"3.9\"], \"x\": [3.9], \"y\": [\"ISR\"], \"type\": \"scatter\"}, {\"mode\": \"markers\", \"name\": \"RUS\", \"text\": [\"9.4\"], \"x\": [9.4], \"y\": [\"RUS\"], \"type\": \"scatter\"}, {\"mode\": \"markers\", \"name\": \"SVN\", \"text\": [\"2.8\"], \"x\": [2.8], \"y\": [\"SVN\"], \"type\": \"scatter\"}, {\"mode\": \"markers\", \"name\": \"ZAF\", \"text\": [\"48.6\"], \"x\": [48.6], \"y\": [\"ZAF\"], \"type\": \"scatter\"}, {\"mode\": \"markers\", \"name\": \"COL\", \"text\": [\"19.6\"], \"x\": [19.6], \"y\": [\"COL\"], \"type\": \"scatter\"}, {\"mode\": \"markers\", \"name\": \"LVA\", \"text\": [\"8.5\"], \"x\": [8.5], \"y\": [\"LVA\"], \"type\": \"scatter\"}, {\"mode\": \"markers\", \"name\": \"LTU\", \"text\": [\"6.3\"], \"x\": [6.3], \"y\": [\"LTU\"], \"type\": \"scatter\"}, {\"mode\": \"markers\", \"name\": \"CRI\", \"text\": [\"8.9\"], \"x\": [8.9], \"y\": [\"CRI\"], \"type\": \"scatter\"}], \"name\": \"2007\"}, {\"data\": [{\"mode\": \"markers\", \"name\": \"AUS\", \"text\": [\"4.1\"], \"x\": [4.1], \"y\": [\"AUS\"], \"type\": \"scatter\"}, {\"mode\": \"markers\", \"name\": \"AUT\", \"text\": [\"3.7\"], \"x\": [3.7], \"y\": [\"AUT\"], \"type\": \"scatter\"}, {\"mode\": \"markers\", \"name\": \"BEL\", \"text\": [\"3.8\"], \"x\": [3.8], \"y\": [\"BEL\"], \"type\": \"scatter\"}, {\"mode\": \"markers\", \"name\": \"CAN\", \"text\": [\"5.1\"], \"x\": [5.1], \"y\": [\"CAN\"], \"type\": \"scatter\"}, {\"mode\": \"markers\", \"name\": \"CZE\", \"text\": [\"2.8\"], \"x\": [2.8], \"y\": [\"CZE\"], \"type\": \"scatter\"}, {\"mode\": \"markers\", \"name\": \"DNK\", \"text\": [\"4.0\"], \"x\": [4.0], \"y\": [\"DNK\"], \"type\": \"scatter\"}, {\"mode\": \"markers\", \"name\": \"FIN\", \"text\": [\"2.6\"], \"x\": [2.6], \"y\": [\"FIN\"], \"type\": \"scatter\"}, {\"mode\": \"markers\", \"name\": \"FRA\", \"text\": [\"3.8\"], \"x\": [3.8], \"y\": [\"FRA\"], \"type\": \"scatter\"}, {\"mode\": \"markers\", \"name\": \"DEU\", \"text\": [\"3.5\"], \"x\": [3.5], \"y\": [\"DEU\"], \"type\": \"scatter\"}, {\"mode\": \"markers\", \"name\": \"GRC\", \"text\": [\"2.7\"], \"x\": [2.7], \"y\": [\"GRC\"], \"type\": \"scatter\"}, {\"mode\": \"markers\", \"name\": \"HUN\", \"text\": [\"5.6\"], \"x\": [5.6], \"y\": [\"HUN\"], \"type\": \"scatter\"}, {\"mode\": \"markers\", \"name\": \"ISL\", \"text\": [\"2.5\"], \"x\": [2.5], \"y\": [\"ISL\"], \"type\": \"scatter\"}, {\"mode\": \"markers\", \"name\": \"IRL\", \"text\": [\"3.4\"], \"x\": [3.4], \"y\": [\"IRL\"], \"type\": \"scatter\"}, {\"mode\": \"markers\", \"name\": \"ITA\", \"text\": [\"3.1\"], \"x\": [3.1], \"y\": [\"ITA\"], \"type\": \"scatter\"}, {\"mode\": \"markers\", \"name\": \"JPN\", \"text\": [\"2.6\"], \"x\": [2.6], \"y\": [\"JPN\"], \"type\": \"scatter\"}, {\"mode\": \"markers\", \"name\": \"KOR\", \"text\": [\"3.4\"], \"x\": [3.4], \"y\": [\"KOR\"], \"type\": \"scatter\"}, {\"mode\": \"markers\", \"name\": \"LUX\", \"text\": [\"1.8\"], \"x\": [1.8], \"y\": [\"LUX\"], \"type\": \"scatter\"}, {\"mode\": \"markers\", \"name\": \"MEX\", \"text\": [\"15.1\"], \"x\": [15.1], \"y\": [\"MEX\"], \"type\": \"scatter\"}, {\"mode\": \"markers\", \"name\": \"NLD\", \"text\": [\"3.8\"], \"x\": [3.8], \"y\": [\"NLD\"], \"type\": \"scatter\"}, {\"mode\": \"markers\", \"name\": \"NZL\", \"text\": [\"5.0\"], \"x\": [5.0], \"y\": [\"NZL\"], \"type\": \"scatter\"}, {\"mode\": \"markers\", \"name\": \"NOR\", \"text\": [\"2.7\"], \"x\": [2.7], \"y\": [\"NOR\"], \"type\": \"scatter\"}, {\"mode\": \"markers\", \"name\": \"POL\", \"text\": [\"5.6\"], \"x\": [5.6], \"y\": [\"POL\"], \"type\": \"scatter\"}, {\"mode\": \"markers\", \"name\": \"PRT\", \"text\": [\"3.3\"], \"x\": [3.3], \"y\": [\"PRT\"], \"type\": \"scatter\"}, {\"mode\": \"markers\", \"name\": \"SVK\", \"text\": [\"5.9\"], \"x\": [5.9], \"y\": [\"SVK\"], \"type\": \"scatter\"}, {\"mode\": \"markers\", \"name\": \"ESP\", \"text\": [\"3.3\"], \"x\": [3.3], \"y\": [\"ESP\"], \"type\": \"scatter\"}, {\"mode\": \"markers\", \"name\": \"SWE\", \"text\": [\"2.5\"], \"x\": [2.5], \"y\": [\"SWE\"], \"type\": \"scatter\"}, {\"mode\": \"markers\", \"name\": \"CHE\", \"text\": [\"4.0\"], \"x\": [4.0], \"y\": [\"CHE\"], \"type\": \"scatter\"}, {\"mode\": \"markers\", \"name\": \"TUR\", \"text\": [\"15.7\"], \"x\": [15.7], \"y\": [\"TUR\"], \"type\": \"scatter\"}, {\"mode\": \"markers\", \"name\": \"GBR\", \"text\": [\"4.6\"], \"x\": [4.6], \"y\": [\"GBR\"], \"type\": \"scatter\"}, {\"mode\": \"markers\", \"name\": \"USA\", \"text\": [\"6.6\"], \"x\": [6.6], \"y\": [\"USA\"], \"type\": \"scatter\"}, {\"mode\": \"markers\", \"name\": \"BRA\", \"text\": [\"16.2\"], \"x\": [16.2], \"y\": [\"BRA\"], \"type\": \"scatter\"}, {\"mode\": \"markers\", \"name\": \"CHL\", \"text\": [\"7.8\"], \"x\": [7.8], \"y\": [\"CHL\"], \"type\": \"scatter\"}, {\"mode\": \"markers\", \"name\": \"CHN\", \"text\": [\"15.8\"], \"x\": [15.8], \"y\": [\"CHN\"], \"type\": \"scatter\"}, {\"mode\": \"markers\", \"name\": \"EST\", \"text\": [\"5.0\"], \"x\": [5.0], \"y\": [\"EST\"], \"type\": \"scatter\"}, {\"mode\": \"markers\", \"name\": \"IND\", \"text\": [\"50.0\"], \"x\": [50.0], \"y\": [\"IND\"], \"type\": \"scatter\"}, {\"mode\": \"markers\", \"name\": \"IDN\", \"text\": [\"29.7\"], \"x\": [29.7], \"y\": [\"IDN\"], \"type\": \"scatter\"}, {\"mode\": \"markers\", \"name\": \"ISR\", \"text\": [\"3.8\"], \"x\": [3.8], \"y\": [\"ISR\"], \"type\": \"scatter\"}, {\"mode\": \"markers\", \"name\": \"RUS\", \"text\": [\"8.5\"], \"x\": [8.5], \"y\": [\"RUS\"], \"type\": \"scatter\"}, {\"mode\": \"markers\", \"name\": \"SVN\", \"text\": [\"2.4\"], \"x\": [2.4], \"y\": [\"SVN\"], \"type\": \"scatter\"}, {\"mode\": \"markers\", \"name\": \"ZAF\", \"text\": [\"46.6\"], \"x\": [46.6], \"y\": [\"ZAF\"], \"type\": \"scatter\"}, {\"mode\": \"markers\", \"name\": \"COL\", \"text\": [\"19.2\"], \"x\": [19.2], \"y\": [\"COL\"], \"type\": \"scatter\"}, {\"mode\": \"markers\", \"name\": \"LVA\", \"text\": [\"6.6\"], \"x\": [6.6], \"y\": [\"LVA\"], \"type\": \"scatter\"}, {\"mode\": \"markers\", \"name\": \"LTU\", \"text\": [\"5.5\"], \"x\": [5.5], \"y\": [\"LTU\"], \"type\": \"scatter\"}, {\"mode\": \"markers\", \"name\": \"CRI\", \"text\": [\"8.9\"], \"x\": [8.9], \"y\": [\"CRI\"], \"type\": \"scatter\"}], \"name\": \"2008\"}, {\"data\": [{\"mode\": \"markers\", \"name\": \"AUS\", \"text\": [\"4.2\"], \"x\": [4.2], \"y\": [\"AUS\"], \"type\": \"scatter\"}, {\"mode\": \"markers\", \"name\": \"AUT\", \"text\": [\"3.8\"], \"x\": [3.8], \"y\": [\"AUT\"], \"type\": \"scatter\"}, {\"mode\": \"markers\", \"name\": \"BEL\", \"text\": [\"3.5\"], \"x\": [3.5], \"y\": [\"BEL\"], \"type\": \"scatter\"}, {\"mode\": \"markers\", \"name\": \"CAN\", \"text\": [\"4.9\"], \"x\": [4.9], \"y\": [\"CAN\"], \"type\": \"scatter\"}, {\"mode\": \"markers\", \"name\": \"CZE\", \"text\": [\"2.9\"], \"x\": [2.9], \"y\": [\"CZE\"], \"type\": \"scatter\"}, {\"mode\": \"markers\", \"name\": \"DNK\", \"text\": [\"3.1\"], \"x\": [3.1], \"y\": [\"DNK\"], \"type\": \"scatter\"}, {\"mode\": \"markers\", \"name\": \"FIN\", \"text\": [\"2.6\"], \"x\": [2.6], \"y\": [\"FIN\"], \"type\": \"scatter\"}, {\"mode\": \"markers\", \"name\": \"FRA\", \"text\": [\"3.9\"], \"x\": [3.9], \"y\": [\"FRA\"], \"type\": \"scatter\"}, {\"mode\": \"markers\", \"name\": \"DEU\", \"text\": [\"3.5\"], \"x\": [3.5], \"y\": [\"DEU\"], \"type\": \"scatter\"}, {\"mode\": \"markers\", \"name\": \"GRC\", \"text\": [\"3.1\"], \"x\": [3.1], \"y\": [\"GRC\"], \"type\": \"scatter\"}, {\"mode\": \"markers\", \"name\": \"HUN\", \"text\": [\"5.1\"], \"x\": [5.1], \"y\": [\"HUN\"], \"type\": \"scatter\"}, {\"mode\": \"markers\", \"name\": \"ISL\", \"text\": [\"1.8\"], \"x\": [1.8], \"y\": [\"ISL\"], \"type\": \"scatter\"}, {\"mode\": \"markers\", \"name\": \"IRL\", \"text\": [\"3.3\"], \"x\": [3.3], \"y\": [\"IRL\"], \"type\": \"scatter\"}, {\"mode\": \"markers\", \"name\": \"ITA\", \"text\": [\"3.2\"], \"x\": [3.2], \"y\": [\"ITA\"], \"type\": \"scatter\"}, {\"mode\": \"markers\", \"name\": \"JPN\", \"text\": [\"2.4\"], \"x\": [2.4], \"y\": [\"JPN\"], \"type\": \"scatter\"}, {\"mode\": \"markers\", \"name\": \"KOR\", \"text\": [\"3.2\"], \"x\": [3.2], \"y\": [\"KOR\"], \"type\": \"scatter\"}, {\"mode\": \"markers\", \"name\": \"LUX\", \"text\": [\"2.5\"], \"x\": [2.5], \"y\": [\"LUX\"], \"type\": \"scatter\"}, {\"mode\": \"markers\", \"name\": \"MEX\", \"text\": [\"14.6\"], \"x\": [14.6], \"y\": [\"MEX\"], \"type\": \"scatter\"}, {\"mode\": \"markers\", \"name\": \"NLD\", \"text\": [\"3.8\"], \"x\": [3.8], \"y\": [\"NLD\"], \"type\": \"scatter\"}, {\"mode\": \"markers\", \"name\": \"NZL\", \"text\": [\"5.2\"], \"x\": [5.2], \"y\": [\"NZL\"], \"type\": \"scatter\"}, {\"mode\": \"markers\", \"name\": \"NOR\", \"text\": [\"3.1\"], \"x\": [3.1], \"y\": [\"NOR\"], \"type\": \"scatter\"}, {\"mode\": \"markers\", \"name\": \"POL\", \"text\": [\"5.6\"], \"x\": [5.6], \"y\": [\"POL\"], \"type\": \"scatter\"}, {\"mode\": \"markers\", \"name\": \"PRT\", \"text\": [\"3.6\"], \"x\": [3.6], \"y\": [\"PRT\"], \"type\": \"scatter\"}, {\"mode\": \"markers\", \"name\": \"SVK\", \"text\": [\"5.7\"], \"x\": [5.7], \"y\": [\"SVK\"], \"type\": \"scatter\"}, {\"mode\": \"markers\", \"name\": \"ESP\", \"text\": [\"3.2\"], \"x\": [3.2], \"y\": [\"ESP\"], \"type\": \"scatter\"}, {\"mode\": \"markers\", \"name\": \"SWE\", \"text\": [\"2.5\"], \"x\": [2.5], \"y\": [\"SWE\"], \"type\": \"scatter\"}, {\"mode\": \"markers\", \"name\": \"CHE\", \"text\": [\"4.3\"], \"x\": [4.3], \"y\": [\"CHE\"], \"type\": \"scatter\"}, {\"mode\": \"markers\", \"name\": \"TUR\", \"text\": [\"13.9\"], \"x\": [13.9], \"y\": [\"TUR\"], \"type\": \"scatter\"}, {\"mode\": \"markers\", \"name\": \"GBR\", \"text\": [\"4.5\"], \"x\": [4.5], \"y\": [\"GBR\"], \"type\": \"scatter\"}, {\"mode\": \"markers\", \"name\": \"USA\", \"text\": [\"6.4\"], \"x\": [6.4], \"y\": [\"USA\"], \"type\": \"scatter\"}, {\"mode\": \"markers\", \"name\": \"BRA\", \"text\": [\"15.4\"], \"x\": [15.4], \"y\": [\"BRA\"], \"type\": \"scatter\"}, {\"mode\": \"markers\", \"name\": \"CHL\", \"text\": [\"7.9\"], \"x\": [7.9], \"y\": [\"CHL\"], \"type\": \"scatter\"}, {\"mode\": \"markers\", \"name\": \"CHN\", \"text\": [\"14.6\"], \"x\": [14.6], \"y\": [\"CHN\"], \"type\": \"scatter\"}, {\"mode\": \"markers\", \"name\": \"EST\", \"text\": [\"3.6\"], \"x\": [3.6], \"y\": [\"EST\"], \"type\": \"scatter\"}, {\"mode\": \"markers\", \"name\": \"IND\", \"text\": [\"48.2\"], \"x\": [48.2], \"y\": [\"IND\"], \"type\": \"scatter\"}, {\"mode\": \"markers\", \"name\": \"IDN\", \"text\": [\"28.5\"], \"x\": [28.5], \"y\": [\"IDN\"], \"type\": \"scatter\"}, {\"mode\": \"markers\", \"name\": \"ISR\", \"text\": [\"3.8\"], \"x\": [3.8], \"y\": [\"ISR\"], \"type\": \"scatter\"}, {\"mode\": \"markers\", \"name\": \"RUS\", \"text\": [\"8.1\"], \"x\": [8.1], \"y\": [\"RUS\"], \"type\": \"scatter\"}, {\"mode\": \"markers\", \"name\": \"SVN\", \"text\": [\"2.4\"], \"x\": [2.4], \"y\": [\"SVN\"], \"type\": \"scatter\"}, {\"mode\": \"markers\", \"name\": \"ZAF\", \"text\": [\"41.1\"], \"x\": [41.1], \"y\": [\"ZAF\"], \"type\": \"scatter\"}, {\"mode\": \"markers\", \"name\": \"COL\", \"text\": [\"18.8\"], \"x\": [18.8], \"y\": [\"COL\"], \"type\": \"scatter\"}, {\"mode\": \"markers\", \"name\": \"LVA\", \"text\": [\"7.6\"], \"x\": [7.6], \"y\": [\"LVA\"], \"type\": \"scatter\"}, {\"mode\": \"markers\", \"name\": \"LTU\", \"text\": [\"5.6\"], \"x\": [5.6], \"y\": [\"LTU\"], \"type\": \"scatter\"}, {\"mode\": \"markers\", \"name\": \"CRI\", \"text\": [\"8.9\"], \"x\": [8.9], \"y\": [\"CRI\"], \"type\": \"scatter\"}], \"name\": \"2009\"}, {\"data\": [{\"mode\": \"markers\", \"name\": \"AUS\", \"text\": [\"4.1\"], \"x\": [4.1], \"y\": [\"AUS\"], \"type\": \"scatter\"}, {\"mode\": \"markers\", \"name\": \"AUT\", \"text\": [\"3.9\"], \"x\": [3.9], \"y\": [\"AUT\"], \"type\": \"scatter\"}, {\"mode\": \"markers\", \"name\": \"BEL\", \"text\": [\"3.6\"], \"x\": [3.6], \"y\": [\"BEL\"], \"type\": \"scatter\"}, {\"mode\": \"markers\", \"name\": \"CAN\", \"text\": [\"5.0\"], \"x\": [5.0], \"y\": [\"CAN\"], \"type\": \"scatter\"}, {\"mode\": \"markers\", \"name\": \"CZE\", \"text\": [\"2.7\"], \"x\": [2.7], \"y\": [\"CZE\"], \"type\": \"scatter\"}, {\"mode\": \"markers\", \"name\": \"DNK\", \"text\": [\"3.4\"], \"x\": [3.4], \"y\": [\"DNK\"], \"type\": \"scatter\"}, {\"mode\": \"markers\", \"name\": \"FIN\", \"text\": [\"2.3\"], \"x\": [2.3], \"y\": [\"FIN\"], \"type\": \"scatter\"}, {\"mode\": \"markers\", \"name\": \"FRA\", \"text\": [\"3.6\"], \"x\": [3.6], \"y\": [\"FRA\"], \"type\": \"scatter\"}, {\"mode\": \"markers\", \"name\": \"DEU\", \"text\": [\"3.4\"], \"x\": [3.4], \"y\": [\"DEU\"], \"type\": \"scatter\"}, {\"mode\": \"markers\", \"name\": \"GRC\", \"text\": [\"3.8\"], \"x\": [3.8], \"y\": [\"GRC\"], \"type\": \"scatter\"}, {\"mode\": \"markers\", \"name\": \"HUN\", \"text\": [\"5.3\"], \"x\": [5.3], \"y\": [\"HUN\"], \"type\": \"scatter\"}, {\"mode\": \"markers\", \"name\": \"ISL\", \"text\": [\"2.2\"], \"x\": [2.2], \"y\": [\"ISL\"], \"type\": \"scatter\"}, {\"mode\": \"markers\", \"name\": \"IRL\", \"text\": [\"3.6\"], \"x\": [3.6], \"y\": [\"IRL\"], \"type\": \"scatter\"}, {\"mode\": \"markers\", \"name\": \"ITA\", \"text\": [\"3.0\"], \"x\": [3.0], \"y\": [\"ITA\"], \"type\": \"scatter\"}, {\"mode\": \"markers\", \"name\": \"JPN\", \"text\": [\"2.3\"], \"x\": [2.3], \"y\": [\"JPN\"], \"type\": \"scatter\"}, {\"mode\": \"markers\", \"name\": \"KOR\", \"text\": [\"3.2\"], \"x\": [3.2], \"y\": [\"KOR\"], \"type\": \"scatter\"}, {\"mode\": \"markers\", \"name\": \"LUX\", \"text\": [\"3.4\"], \"x\": [3.4], \"y\": [\"LUX\"], \"type\": \"scatter\"}, {\"mode\": \"markers\", \"name\": \"MEX\", \"text\": [\"14.1\"], \"x\": [14.1], \"y\": [\"MEX\"], \"type\": \"scatter\"}, {\"mode\": \"markers\", \"name\": \"NLD\", \"text\": [\"3.8\"], \"x\": [3.8], \"y\": [\"NLD\"], \"type\": \"scatter\"}, {\"mode\": \"markers\", \"name\": \"NZL\", \"text\": [\"5.5\"], \"x\": [5.5], \"y\": [\"NZL\"], \"type\": \"scatter\"}, {\"mode\": \"markers\", \"name\": \"NOR\", \"text\": [\"2.8\"], \"x\": [2.8], \"y\": [\"NOR\"], \"type\": \"scatter\"}, {\"mode\": \"markers\", \"name\": \"POL\", \"text\": [\"5.0\"], \"x\": [5.0], \"y\": [\"POL\"], \"type\": \"scatter\"}, {\"mode\": \"markers\", \"name\": \"PRT\", \"text\": [\"2.5\"], \"x\": [2.5], \"y\": [\"PRT\"], \"type\": \"scatter\"}, {\"mode\": \"markers\", \"name\": \"SVK\", \"text\": [\"5.7\"], \"x\": [5.7], \"y\": [\"SVK\"], \"type\": \"scatter\"}, {\"mode\": \"markers\", \"name\": \"ESP\", \"text\": [\"3.2\"], \"x\": [3.2], \"y\": [\"ESP\"], \"type\": \"scatter\"}, {\"mode\": \"markers\", \"name\": \"SWE\", \"text\": [\"2.5\"], \"x\": [2.5], \"y\": [\"SWE\"], \"type\": \"scatter\"}, {\"mode\": \"markers\", \"name\": \"CHE\", \"text\": [\"3.8\"], \"x\": [3.8], \"y\": [\"CHE\"], \"type\": \"scatter\"}, {\"mode\": \"markers\", \"name\": \"TUR\", \"text\": [\"12.0\"], \"x\": [12.0], \"y\": [\"TUR\"], \"type\": \"scatter\"}, {\"mode\": \"markers\", \"name\": \"GBR\", \"text\": [\"4.2\"], \"x\": [4.2], \"y\": [\"GBR\"], \"type\": \"scatter\"}, {\"mode\": \"markers\", \"name\": \"USA\", \"text\": [\"6.1\"], \"x\": [6.1], \"y\": [\"USA\"], \"type\": \"scatter\"}, {\"mode\": \"markers\", \"name\": \"BRA\", \"text\": [\"14.8\"], \"x\": [14.8], \"y\": [\"BRA\"], \"type\": \"scatter\"}, {\"mode\": \"markers\", \"name\": \"CHL\", \"text\": [\"7.4\"], \"x\": [7.4], \"y\": [\"CHL\"], \"type\": \"scatter\"}, {\"mode\": \"markers\", \"name\": \"CHN\", \"text\": [\"13.5\"], \"x\": [13.5], \"y\": [\"CHN\"], \"type\": \"scatter\"}, {\"mode\": \"markers\", \"name\": \"EST\", \"text\": [\"3.3\"], \"x\": [3.3], \"y\": [\"EST\"], \"type\": \"scatter\"}, {\"mode\": \"markers\", \"name\": \"IND\", \"text\": [\"46.3\"], \"x\": [46.3], \"y\": [\"IND\"], \"type\": \"scatter\"}, {\"mode\": \"markers\", \"name\": \"IDN\", \"text\": [\"27.4\"], \"x\": [27.4], \"y\": [\"IDN\"], \"type\": \"scatter\"}, {\"mode\": \"markers\", \"name\": \"ISR\", \"text\": [\"3.7\"], \"x\": [3.7], \"y\": [\"ISR\"], \"type\": \"scatter\"}, {\"mode\": \"markers\", \"name\": \"RUS\", \"text\": [\"7.5\"], \"x\": [7.5], \"y\": [\"RUS\"], \"type\": \"scatter\"}, {\"mode\": \"markers\", \"name\": \"SVN\", \"text\": [\"2.5\"], \"x\": [2.5], \"y\": [\"SVN\"], \"type\": \"scatter\"}, {\"mode\": \"markers\", \"name\": \"ZAF\", \"text\": [\"38.2\"], \"x\": [38.2], \"y\": [\"ZAF\"], \"type\": \"scatter\"}, {\"mode\": \"markers\", \"name\": \"COL\", \"text\": [\"18.4\"], \"x\": [18.4], \"y\": [\"COL\"], \"type\": \"scatter\"}, {\"mode\": \"markers\", \"name\": \"LVA\", \"text\": [\"5.6\"], \"x\": [5.6], \"y\": [\"LVA\"], \"type\": \"scatter\"}, {\"mode\": \"markers\", \"name\": \"LTU\", \"text\": [\"5.0\"], \"x\": [5.0], \"y\": [\"LTU\"], \"type\": \"scatter\"}, {\"mode\": \"markers\", \"name\": \"CRI\", \"text\": [\"8.9\"], \"x\": [8.9], \"y\": [\"CRI\"], \"type\": \"scatter\"}], \"name\": \"2010\"}, {\"data\": [{\"mode\": \"markers\", \"name\": \"AUS\", \"text\": [\"3.8\"], \"x\": [3.8], \"y\": [\"AUS\"], \"type\": \"scatter\"}, {\"mode\": \"markers\", \"name\": \"AUT\", \"text\": [\"3.6\"], \"x\": [3.6], \"y\": [\"AUT\"], \"type\": \"scatter\"}, {\"mode\": \"markers\", \"name\": \"BEL\", \"text\": [\"3.4\"], \"x\": [3.4], \"y\": [\"BEL\"], \"type\": \"scatter\"}, {\"mode\": \"markers\", \"name\": \"CAN\", \"text\": [\"4.9\"], \"x\": [4.9], \"y\": [\"CAN\"], \"type\": \"scatter\"}, {\"mode\": \"markers\", \"name\": \"CZE\", \"text\": [\"2.7\"], \"x\": [2.7], \"y\": [\"CZE\"], \"type\": \"scatter\"}, {\"mode\": \"markers\", \"name\": \"DNK\", \"text\": [\"3.5\"], \"x\": [3.5], \"y\": [\"DNK\"], \"type\": \"scatter\"}, {\"mode\": \"markers\", \"name\": \"FIN\", \"text\": [\"2.4\"], \"x\": [2.4], \"y\": [\"FIN\"], \"type\": \"scatter\"}, {\"mode\": \"markers\", \"name\": \"FRA\", \"text\": [\"3.5\"], \"x\": [3.5], \"y\": [\"FRA\"], \"type\": \"scatter\"}, {\"mode\": \"markers\", \"name\": \"DEU\", \"text\": [\"3.6\"], \"x\": [3.6], \"y\": [\"DEU\"], \"type\": \"scatter\"}, {\"mode\": \"markers\", \"name\": \"GRC\", \"text\": [\"3.4\"], \"x\": [3.4], \"y\": [\"GRC\"], \"type\": \"scatter\"}, {\"mode\": \"markers\", \"name\": \"HUN\", \"text\": [\"4.9\"], \"x\": [4.9], \"y\": [\"HUN\"], \"type\": \"scatter\"}, {\"mode\": \"markers\", \"name\": \"ISL\", \"text\": [\"0.9\"], \"x\": [0.9], \"y\": [\"ISL\"], \"type\": \"scatter\"}, {\"mode\": \"markers\", \"name\": \"IRL\", \"text\": [\"3.5\"], \"x\": [3.5], \"y\": [\"IRL\"], \"type\": \"scatter\"}, {\"mode\": \"markers\", \"name\": \"ITA\", \"text\": [\"2.9\"], \"x\": [2.9], \"y\": [\"ITA\"], \"type\": \"scatter\"}, {\"mode\": \"markers\", \"name\": \"JPN\", \"text\": [\"2.3\"], \"x\": [2.3], \"y\": [\"JPN\"], \"type\": \"scatter\"}, {\"mode\": \"markers\", \"name\": \"KOR\", \"text\": [\"3.0\"], \"x\": [3.0], \"y\": [\"KOR\"], \"type\": \"scatter\"}, {\"mode\": \"markers\", \"name\": \"LUX\", \"text\": [\"4.3\"], \"x\": [4.3], \"y\": [\"LUX\"], \"type\": \"scatter\"}, {\"mode\": \"markers\", \"name\": \"MEX\", \"text\": [\"13.7\"], \"x\": [13.7], \"y\": [\"MEX\"], \"type\": \"scatter\"}, {\"mode\": \"markers\", \"name\": \"NLD\", \"text\": [\"3.6\"], \"x\": [3.6], \"y\": [\"NLD\"], \"type\": \"scatter\"}, {\"mode\": \"markers\", \"name\": \"NZL\", \"text\": [\"5.2\"], \"x\": [5.2], \"y\": [\"NZL\"], \"type\": \"scatter\"}, {\"mode\": \"markers\", \"name\": \"NOR\", \"text\": [\"2.4\"], \"x\": [2.4], \"y\": [\"NOR\"], \"type\": \"scatter\"}, {\"mode\": \"markers\", \"name\": \"POL\", \"text\": [\"4.7\"], \"x\": [4.7], \"y\": [\"POL\"], \"type\": \"scatter\"}, {\"mode\": \"markers\", \"name\": \"PRT\", \"text\": [\"3.1\"], \"x\": [3.1], \"y\": [\"PRT\"], \"type\": \"scatter\"}, {\"mode\": \"markers\", \"name\": \"SVK\", \"text\": [\"4.9\"], \"x\": [4.9], \"y\": [\"SVK\"], \"type\": \"scatter\"}, {\"mode\": \"markers\", \"name\": \"ESP\", \"text\": [\"3.1\"], \"x\": [3.1], \"y\": [\"ESP\"], \"type\": \"scatter\"}, {\"mode\": \"markers\", \"name\": \"SWE\", \"text\": [\"2.1\"], \"x\": [2.1], \"y\": [\"SWE\"], \"type\": \"scatter\"}, {\"mode\": \"markers\", \"name\": \"CHE\", \"text\": [\"3.8\"], \"x\": [3.8], \"y\": [\"CHE\"], \"type\": \"scatter\"}, {\"mode\": \"markers\", \"name\": \"TUR\", \"text\": [\"11.6\"], \"x\": [11.6], \"y\": [\"TUR\"], \"type\": \"scatter\"}, {\"mode\": \"markers\", \"name\": \"GBR\", \"text\": [\"4.2\"], \"x\": [4.2], \"y\": [\"GBR\"], \"type\": \"scatter\"}, {\"mode\": \"markers\", \"name\": \"USA\", \"text\": [\"6.1\"], \"x\": [6.1], \"y\": [\"USA\"], \"type\": \"scatter\"}, {\"mode\": \"markers\", \"name\": \"BRA\", \"text\": [\"14.4\"], \"x\": [14.4], \"y\": [\"BRA\"], \"type\": \"scatter\"}, {\"mode\": \"markers\", \"name\": \"CHL\", \"text\": [\"7.7\"], \"x\": [7.7], \"y\": [\"CHL\"], \"type\": \"scatter\"}, {\"mode\": \"markers\", \"name\": \"CHN\", \"text\": [\"12.5\"], \"x\": [12.5], \"y\": [\"CHN\"], \"type\": \"scatter\"}, {\"mode\": \"markers\", \"name\": \"EST\", \"text\": [\"2.5\"], \"x\": [2.5], \"y\": [\"EST\"], \"type\": \"scatter\"}, {\"mode\": \"markers\", \"name\": \"IND\", \"text\": [\"44.4\"], \"x\": [44.4], \"y\": [\"IND\"], \"type\": \"scatter\"}, {\"mode\": \"markers\", \"name\": \"IDN\", \"text\": [\"26.3\"], \"x\": [26.3], \"y\": [\"IDN\"], \"type\": \"scatter\"}, {\"mode\": \"markers\", \"name\": \"ISR\", \"text\": [\"3.5\"], \"x\": [3.5], \"y\": [\"ISR\"], \"type\": \"scatter\"}, {\"mode\": \"markers\", \"name\": \"RUS\", \"text\": [\"7.4\"], \"x\": [7.4], \"y\": [\"RUS\"], \"type\": \"scatter\"}, {\"mode\": \"markers\", \"name\": \"SVN\", \"text\": [\"2.9\"], \"x\": [2.9], \"y\": [\"SVN\"], \"type\": \"scatter\"}, {\"mode\": \"markers\", \"name\": \"ZAF\", \"text\": [\"37.1\"], \"x\": [37.1], \"y\": [\"ZAF\"], \"type\": \"scatter\"}, {\"mode\": \"markers\", \"name\": \"COL\", \"text\": [\"17.8\"], \"x\": [17.8], \"y\": [\"COL\"], \"type\": \"scatter\"}, {\"mode\": \"markers\", \"name\": \"LVA\", \"text\": [\"6.6\"], \"x\": [6.6], \"y\": [\"LVA\"], \"type\": \"scatter\"}, {\"mode\": \"markers\", \"name\": \"LTU\", \"text\": [\"4.8\"], \"x\": [4.8], \"y\": [\"LTU\"], \"type\": \"scatter\"}, {\"mode\": \"markers\", \"name\": \"CRI\", \"text\": [\"8.8\"], \"x\": [8.8], \"y\": [\"CRI\"], \"type\": \"scatter\"}], \"name\": \"2011\"}, {\"data\": [{\"mode\": \"markers\", \"name\": \"AUS\", \"text\": [\"3.3\"], \"x\": [3.3], \"y\": [\"AUS\"], \"type\": \"scatter\"}, {\"mode\": \"markers\", \"name\": \"AUT\", \"text\": [\"3.2\"], \"x\": [3.2], \"y\": [\"AUT\"], \"type\": \"scatter\"}, {\"mode\": \"markers\", \"name\": \"BEL\", \"text\": [\"3.8\"], \"x\": [3.8], \"y\": [\"BEL\"], \"type\": \"scatter\"}, {\"mode\": \"markers\", \"name\": \"CAN\", \"text\": [\"4.8\"], \"x\": [4.8], \"y\": [\"CAN\"], \"type\": \"scatter\"}, {\"mode\": \"markers\", \"name\": \"CZE\", \"text\": [\"2.6\"], \"x\": [2.6], \"y\": [\"CZE\"], \"type\": \"scatter\"}, {\"mode\": \"markers\", \"name\": \"DNK\", \"text\": [\"3.4\"], \"x\": [3.4], \"y\": [\"DNK\"], \"type\": \"scatter\"}, {\"mode\": \"markers\", \"name\": \"FIN\", \"text\": [\"2.4\"], \"x\": [2.4], \"y\": [\"FIN\"], \"type\": \"scatter\"}, {\"mode\": \"markers\", \"name\": \"FRA\", \"text\": [\"3.5\"], \"x\": [3.5], \"y\": [\"FRA\"], \"type\": \"scatter\"}, {\"mode\": \"markers\", \"name\": \"DEU\", \"text\": [\"3.3\"], \"x\": [3.3], \"y\": [\"DEU\"], \"type\": \"scatter\"}, {\"mode\": \"markers\", \"name\": \"GRC\", \"text\": [\"2.9\"], \"x\": [2.9], \"y\": [\"GRC\"], \"type\": \"scatter\"}, {\"mode\": \"markers\", \"name\": \"HUN\", \"text\": [\"4.9\"], \"x\": [4.9], \"y\": [\"HUN\"], \"type\": \"scatter\"}, {\"mode\": \"markers\", \"name\": \"ISL\", \"text\": [\"1.1\"], \"x\": [1.1], \"y\": [\"ISL\"], \"type\": \"scatter\"}, {\"mode\": \"markers\", \"name\": \"IRL\", \"text\": [\"3.5\"], \"x\": [3.5], \"y\": [\"IRL\"], \"type\": \"scatter\"}, {\"mode\": \"markers\", \"name\": \"ITA\", \"text\": [\"2.9\"], \"x\": [2.9], \"y\": [\"ITA\"], \"type\": \"scatter\"}, {\"mode\": \"markers\", \"name\": \"JPN\", \"text\": [\"2.2\"], \"x\": [2.2], \"y\": [\"JPN\"], \"type\": \"scatter\"}, {\"mode\": \"markers\", \"name\": \"KOR\", \"text\": [\"2.9\"], \"x\": [2.9], \"y\": [\"KOR\"], \"type\": \"scatter\"}, {\"mode\": \"markers\", \"name\": \"LUX\", \"text\": [\"2.5\"], \"x\": [2.5], \"y\": [\"LUX\"], \"type\": \"scatter\"}, {\"mode\": \"markers\", \"name\": \"MEX\", \"text\": [\"13.3\"], \"x\": [13.3], \"y\": [\"MEX\"], \"type\": \"scatter\"}, {\"mode\": \"markers\", \"name\": \"NLD\", \"text\": [\"3.7\"], \"x\": [3.7], \"y\": [\"NLD\"], \"type\": \"scatter\"}, {\"mode\": \"markers\", \"name\": \"NZL\", \"text\": [\"4.7\"], \"x\": [4.7], \"y\": [\"NZL\"], \"type\": \"scatter\"}, {\"mode\": \"markers\", \"name\": \"NOR\", \"text\": [\"2.5\"], \"x\": [2.5], \"y\": [\"NOR\"], \"type\": \"scatter\"}, {\"mode\": \"markers\", \"name\": \"POL\", \"text\": [\"4.6\"], \"x\": [4.6], \"y\": [\"POL\"], \"type\": \"scatter\"}, {\"mode\": \"markers\", \"name\": \"PRT\", \"text\": [\"3.4\"], \"x\": [3.4], \"y\": [\"PRT\"], \"type\": \"scatter\"}, {\"mode\": \"markers\", \"name\": \"SVK\", \"text\": [\"5.8\"], \"x\": [5.8], \"y\": [\"SVK\"], \"type\": \"scatter\"}, {\"mode\": \"markers\", \"name\": \"ESP\", \"text\": [\"3.1\"], \"x\": [3.1], \"y\": [\"ESP\"], \"type\": \"scatter\"}, {\"mode\": \"markers\", \"name\": \"SWE\", \"text\": [\"2.6\"], \"x\": [2.6], \"y\": [\"SWE\"], \"type\": \"scatter\"}, {\"mode\": \"markers\", \"name\": \"CHE\", \"text\": [\"3.6\"], \"x\": [3.6], \"y\": [\"CHE\"], \"type\": \"scatter\"}, {\"mode\": \"markers\", \"name\": \"TUR\", \"text\": [\"11.6\"], \"x\": [11.6], \"y\": [\"TUR\"], \"type\": \"scatter\"}, {\"mode\": \"markers\", \"name\": \"GBR\", \"text\": [\"4.0\"], \"x\": [4.0], \"y\": [\"GBR\"], \"type\": \"scatter\"}, {\"mode\": \"markers\", \"name\": \"USA\", \"text\": [\"6.0\"], \"x\": [6.0], \"y\": [\"USA\"], \"type\": \"scatter\"}, {\"mode\": \"markers\", \"name\": \"BRA\", \"text\": [\"14.3\"], \"x\": [14.3], \"y\": [\"BRA\"], \"type\": \"scatter\"}, {\"mode\": \"markers\", \"name\": \"CHL\", \"text\": [\"7.4\"], \"x\": [7.4], \"y\": [\"CHL\"], \"type\": \"scatter\"}, {\"mode\": \"markers\", \"name\": \"CHN\", \"text\": [\"11.5\"], \"x\": [11.5], \"y\": [\"CHN\"], \"type\": \"scatter\"}, {\"mode\": \"markers\", \"name\": \"EST\", \"text\": [\"3.6\"], \"x\": [3.6], \"y\": [\"EST\"], \"type\": \"scatter\"}, {\"mode\": \"markers\", \"name\": \"IND\", \"text\": [\"42.6\"], \"x\": [42.6], \"y\": [\"IND\"], \"type\": \"scatter\"}, {\"mode\": \"markers\", \"name\": \"IDN\", \"text\": [\"25.3\"], \"x\": [25.3], \"y\": [\"IDN\"], \"type\": \"scatter\"}, {\"mode\": \"markers\", \"name\": \"ISR\", \"text\": [\"3.6\"], \"x\": [3.6], \"y\": [\"ISR\"], \"type\": \"scatter\"}, {\"mode\": \"markers\", \"name\": \"RUS\", \"text\": [\"8.6\"], \"x\": [8.6], \"y\": [\"RUS\"], \"type\": \"scatter\"}, {\"mode\": \"markers\", \"name\": \"SVN\", \"text\": [\"1.6\"], \"x\": [1.6], \"y\": [\"SVN\"], \"type\": \"scatter\"}, {\"mode\": \"markers\", \"name\": \"ZAF\", \"text\": [\"36.8\"], \"x\": [36.8], \"y\": [\"ZAF\"], \"type\": \"scatter\"}, {\"mode\": \"markers\", \"name\": \"COL\", \"text\": [\"17.5\"], \"x\": [17.5], \"y\": [\"COL\"], \"type\": \"scatter\"}, {\"mode\": \"markers\", \"name\": \"LVA\", \"text\": [\"6.3\"], \"x\": [6.3], \"y\": [\"LVA\"], \"type\": \"scatter\"}, {\"mode\": \"markers\", \"name\": \"LTU\", \"text\": [\"3.9\"], \"x\": [3.9], \"y\": [\"LTU\"], \"type\": \"scatter\"}, {\"mode\": \"markers\", \"name\": \"CRI\", \"text\": [\"8.8\"], \"x\": [8.8], \"y\": [\"CRI\"], \"type\": \"scatter\"}], \"name\": \"2012\"}, {\"data\": [{\"mode\": \"markers\", \"name\": \"AUS\", \"text\": [\"3.6\"], \"x\": [3.6], \"y\": [\"AUS\"], \"type\": \"scatter\"}, {\"mode\": \"markers\", \"name\": \"AUT\", \"text\": [\"3.1\"], \"x\": [3.1], \"y\": [\"AUT\"], \"type\": \"scatter\"}, {\"mode\": \"markers\", \"name\": \"BEL\", \"text\": [\"3.5\"], \"x\": [3.5], \"y\": [\"BEL\"], \"type\": \"scatter\"}, {\"mode\": \"markers\", \"name\": \"CAN\", \"text\": [\"5.0\"], \"x\": [5.0], \"y\": [\"CAN\"], \"type\": \"scatter\"}, {\"mode\": \"markers\", \"name\": \"CZE\", \"text\": [\"2.5\"], \"x\": [2.5], \"y\": [\"CZE\"], \"type\": \"scatter\"}, {\"mode\": \"markers\", \"name\": \"DNK\", \"text\": [\"3.5\"], \"x\": [3.5], \"y\": [\"DNK\"], \"type\": \"scatter\"}, {\"mode\": \"markers\", \"name\": \"FIN\", \"text\": [\"1.8\"], \"x\": [1.8], \"y\": [\"FIN\"], \"type\": \"scatter\"}, {\"mode\": \"markers\", \"name\": \"FRA\", \"text\": [\"3.6\"], \"x\": [3.6], \"y\": [\"FRA\"], \"type\": \"scatter\"}, {\"mode\": \"markers\", \"name\": \"DEU\", \"text\": [\"3.3\"], \"x\": [3.3], \"y\": [\"DEU\"], \"type\": \"scatter\"}, {\"mode\": \"markers\", \"name\": \"GRC\", \"text\": [\"3.7\"], \"x\": [3.7], \"y\": [\"GRC\"], \"type\": \"scatter\"}, {\"mode\": \"markers\", \"name\": \"HUN\", \"text\": [\"5.0\"], \"x\": [5.0], \"y\": [\"HUN\"], \"type\": \"scatter\"}, {\"mode\": \"markers\", \"name\": \"ISL\", \"text\": [\"1.8\"], \"x\": [1.8], \"y\": [\"ISL\"], \"type\": \"scatter\"}, {\"mode\": \"markers\", \"name\": \"IRL\", \"text\": [\"3.6\"], \"x\": [3.6], \"y\": [\"IRL\"], \"type\": \"scatter\"}, {\"mode\": \"markers\", \"name\": \"ITA\", \"text\": [\"2.9\"], \"x\": [2.9], \"y\": [\"ITA\"], \"type\": \"scatter\"}, {\"mode\": \"markers\", \"name\": \"JPN\", \"text\": [\"2.1\"], \"x\": [2.1], \"y\": [\"JPN\"], \"type\": \"scatter\"}, {\"mode\": \"markers\", \"name\": \"KOR\", \"text\": [\"3.0\"], \"x\": [3.0], \"y\": [\"KOR\"], \"type\": \"scatter\"}, {\"mode\": \"markers\", \"name\": \"LUX\", \"text\": [\"3.9\"], \"x\": [3.9], \"y\": [\"LUX\"], \"type\": \"scatter\"}, {\"mode\": \"markers\", \"name\": \"MEX\", \"text\": [\"13.0\"], \"x\": [13.0], \"y\": [\"MEX\"], \"type\": \"scatter\"}, {\"mode\": \"markers\", \"name\": \"NLD\", \"text\": [\"3.8\"], \"x\": [3.8], \"y\": [\"NLD\"], \"type\": \"scatter\"}, {\"mode\": \"markers\", \"name\": \"NZL\", \"text\": [\"5.0\"], \"x\": [5.0], \"y\": [\"NZL\"], \"type\": \"scatter\"}, {\"mode\": \"markers\", \"name\": \"NOR\", \"text\": [\"2.4\"], \"x\": [2.4], \"y\": [\"NOR\"], \"type\": \"scatter\"}, {\"mode\": \"markers\", \"name\": \"POL\", \"text\": [\"4.6\"], \"x\": [4.6], \"y\": [\"POL\"], \"type\": \"scatter\"}, {\"mode\": \"markers\", \"name\": \"PRT\", \"text\": [\"2.9\"], \"x\": [2.9], \"y\": [\"PRT\"], \"type\": \"scatter\"}, {\"mode\": \"markers\", \"name\": \"SVK\", \"text\": [\"5.5\"], \"x\": [5.5], \"y\": [\"SVK\"], \"type\": \"scatter\"}, {\"mode\": \"markers\", \"name\": \"ESP\", \"text\": [\"2.7\"], \"x\": [2.7], \"y\": [\"ESP\"], \"type\": \"scatter\"}, {\"mode\": \"markers\", \"name\": \"SWE\", \"text\": [\"2.7\"], \"x\": [2.7], \"y\": [\"SWE\"], \"type\": \"scatter\"}, {\"mode\": \"markers\", \"name\": \"CHE\", \"text\": [\"3.9\"], \"x\": [3.9], \"y\": [\"CHE\"], \"type\": \"scatter\"}, {\"mode\": \"markers\", \"name\": \"TUR\", \"text\": [\"10.8\"], \"x\": [10.8], \"y\": [\"TUR\"], \"type\": \"scatter\"}, {\"mode\": \"markers\", \"name\": \"GBR\", \"text\": [\"3.9\"], \"x\": [3.9], \"y\": [\"GBR\"], \"type\": \"scatter\"}, {\"mode\": \"markers\", \"name\": \"USA\", \"text\": [\"6.0\"], \"x\": [6.0], \"y\": [\"USA\"], \"type\": \"scatter\"}, {\"mode\": \"markers\", \"name\": \"BRA\", \"text\": [\"14.3\"], \"x\": [14.3], \"y\": [\"BRA\"], \"type\": \"scatter\"}, {\"mode\": \"markers\", \"name\": \"CHL\", \"text\": [\"7.0\"], \"x\": [7.0], \"y\": [\"CHL\"], \"type\": \"scatter\"}, {\"mode\": \"markers\", \"name\": \"CHN\", \"text\": [\"10.6\"], \"x\": [10.6], \"y\": [\"CHN\"], \"type\": \"scatter\"}, {\"mode\": \"markers\", \"name\": \"EST\", \"text\": [\"2.1\"], \"x\": [2.1], \"y\": [\"EST\"], \"type\": \"scatter\"}, {\"mode\": \"markers\", \"name\": \"IND\", \"text\": [\"40.9\"], \"x\": [40.9], \"y\": [\"IND\"], \"type\": \"scatter\"}, {\"mode\": \"markers\", \"name\": \"IDN\", \"text\": [\"24.4\"], \"x\": [24.4], \"y\": [\"IDN\"], \"type\": \"scatter\"}, {\"mode\": \"markers\", \"name\": \"ISR\", \"text\": [\"3.1\"], \"x\": [3.1], \"y\": [\"ISR\"], \"type\": \"scatter\"}, {\"mode\": \"markers\", \"name\": \"RUS\", \"text\": [\"8.2\"], \"x\": [8.2], \"y\": [\"RUS\"], \"type\": \"scatter\"}, {\"mode\": \"markers\", \"name\": \"SVN\", \"text\": [\"2.9\"], \"x\": [2.9], \"y\": [\"SVN\"], \"type\": \"scatter\"}, {\"mode\": \"markers\", \"name\": \"ZAF\", \"text\": [\"35.3\"], \"x\": [35.3], \"y\": [\"ZAF\"], \"type\": \"scatter\"}, {\"mode\": \"markers\", \"name\": \"COL\", \"text\": [\"17.2\"], \"x\": [17.2], \"y\": [\"COL\"], \"type\": \"scatter\"}, {\"mode\": \"markers\", \"name\": \"LVA\", \"text\": [\"4.4\"], \"x\": [4.4], \"y\": [\"LVA\"], \"type\": \"scatter\"}, {\"mode\": \"markers\", \"name\": \"LTU\", \"text\": [\"3.7\"], \"x\": [3.7], \"y\": [\"LTU\"], \"type\": \"scatter\"}, {\"mode\": \"markers\", \"name\": \"CRI\", \"text\": [\"8.7\"], \"x\": [8.7], \"y\": [\"CRI\"], \"type\": \"scatter\"}], \"name\": \"2013\"}, {\"data\": [{\"mode\": \"markers\", \"name\": \"AUS\", \"text\": [\"3.4\"], \"x\": [3.4], \"y\": [\"AUS\"], \"type\": \"scatter\"}, {\"mode\": \"markers\", \"name\": \"AUT\", \"text\": [\"3.0\"], \"x\": [3.0], \"y\": [\"AUT\"], \"type\": \"scatter\"}, {\"mode\": \"markers\", \"name\": \"BEL\", \"text\": [\"3.4\"], \"x\": [3.4], \"y\": [\"BEL\"], \"type\": \"scatter\"}, {\"mode\": \"markers\", \"name\": \"CAN\", \"text\": [\"4.7\"], \"x\": [4.7], \"y\": [\"CAN\"], \"type\": \"scatter\"}, {\"mode\": \"markers\", \"name\": \"CZE\", \"text\": [\"2.4\"], \"x\": [2.4], \"y\": [\"CZE\"], \"type\": \"scatter\"}, {\"mode\": \"markers\", \"name\": \"DNK\", \"text\": [\"4.0\"], \"x\": [4.0], \"y\": [\"DNK\"], \"type\": \"scatter\"}, {\"mode\": \"markers\", \"name\": \"FIN\", \"text\": [\"2.2\"], \"x\": [2.2], \"y\": [\"FIN\"], \"type\": \"scatter\"}, {\"mode\": \"markers\", \"name\": \"FRA\", \"text\": [\"3.5\"], \"x\": [3.5], \"y\": [\"FRA\"], \"type\": \"scatter\"}, {\"mode\": \"markers\", \"name\": \"DEU\", \"text\": [\"3.2\"], \"x\": [3.2], \"y\": [\"DEU\"], \"type\": \"scatter\"}, {\"mode\": \"markers\", \"name\": \"GRC\", \"text\": [\"3.7\"], \"x\": [3.7], \"y\": [\"GRC\"], \"type\": \"scatter\"}, {\"mode\": \"markers\", \"name\": \"HUN\", \"text\": [\"4.5\"], \"x\": [4.5], \"y\": [\"HUN\"], \"type\": \"scatter\"}, {\"mode\": \"markers\", \"name\": \"ISL\", \"text\": [\"2.1\"], \"x\": [2.1], \"y\": [\"ISL\"], \"type\": \"scatter\"}, {\"mode\": \"markers\", \"name\": \"IRL\", \"text\": [\"3.3\"], \"x\": [3.3], \"y\": [\"IRL\"], \"type\": \"scatter\"}, {\"mode\": \"markers\", \"name\": \"ITA\", \"text\": [\"2.8\"], \"x\": [2.8], \"y\": [\"ITA\"], \"type\": \"scatter\"}, {\"mode\": \"markers\", \"name\": \"JPN\", \"text\": [\"2.1\"], \"x\": [2.1], \"y\": [\"JPN\"], \"type\": \"scatter\"}, {\"mode\": \"markers\", \"name\": \"KOR\", \"text\": [\"3.0\"], \"x\": [3.0], \"y\": [\"KOR\"], \"type\": \"scatter\"}, {\"mode\": \"markers\", \"name\": \"LUX\", \"text\": [\"2.8\"], \"x\": [2.8], \"y\": [\"LUX\"], \"type\": \"scatter\"}, {\"mode\": \"markers\", \"name\": \"MEX\", \"text\": [\"12.5\"], \"x\": [12.5], \"y\": [\"MEX\"], \"type\": \"scatter\"}, {\"mode\": \"markers\", \"name\": \"NLD\", \"text\": [\"3.6\"], \"x\": [3.6], \"y\": [\"NLD\"], \"type\": \"scatter\"}, {\"mode\": \"markers\", \"name\": \"NZL\", \"text\": [\"5.7\"], \"x\": [5.7], \"y\": [\"NZL\"], \"type\": \"scatter\"}, {\"mode\": \"markers\", \"name\": \"NOR\", \"text\": [\"2.4\"], \"x\": [2.4], \"y\": [\"NOR\"], \"type\": \"scatter\"}, {\"mode\": \"markers\", \"name\": \"POL\", \"text\": [\"4.2\"], \"x\": [4.2], \"y\": [\"POL\"], \"type\": \"scatter\"}, {\"mode\": \"markers\", \"name\": \"PRT\", \"text\": [\"2.9\"], \"x\": [2.9], \"y\": [\"PRT\"], \"type\": \"scatter\"}, {\"mode\": \"markers\", \"name\": \"SVK\", \"text\": [\"5.8\"], \"x\": [5.8], \"y\": [\"SVK\"], \"type\": \"scatter\"}, {\"mode\": \"markers\", \"name\": \"ESP\", \"text\": [\"2.8\"], \"x\": [2.8], \"y\": [\"ESP\"], \"type\": \"scatter\"}, {\"mode\": \"markers\", \"name\": \"SWE\", \"text\": [\"2.2\"], \"x\": [2.2], \"y\": [\"SWE\"], \"type\": \"scatter\"}, {\"mode\": \"markers\", \"name\": \"CHE\", \"text\": [\"3.9\"], \"x\": [3.9], \"y\": [\"CHE\"], \"type\": \"scatter\"}, {\"mode\": \"markers\", \"name\": \"TUR\", \"text\": [\"11.1\"], \"x\": [11.1], \"y\": [\"TUR\"], \"type\": \"scatter\"}, {\"mode\": \"markers\", \"name\": \"GBR\", \"text\": [\"3.9\"], \"x\": [3.9], \"y\": [\"GBR\"], \"type\": \"scatter\"}, {\"mode\": \"markers\", \"name\": \"USA\", \"text\": [\"5.8\"], \"x\": [5.8], \"y\": [\"USA\"], \"type\": \"scatter\"}, {\"mode\": \"markers\", \"name\": \"BRA\", \"text\": [\"14.4\"], \"x\": [14.4], \"y\": [\"BRA\"], \"type\": \"scatter\"}, {\"mode\": \"markers\", \"name\": \"CHL\", \"text\": [\"7.2\"], \"x\": [7.2], \"y\": [\"CHL\"], \"type\": \"scatter\"}, {\"mode\": \"markers\", \"name\": \"CHN\", \"text\": [\"9.8\"], \"x\": [9.8], \"y\": [\"CHN\"], \"type\": \"scatter\"}, {\"mode\": \"markers\", \"name\": \"EST\", \"text\": [\"2.7\"], \"x\": [2.7], \"y\": [\"EST\"], \"type\": \"scatter\"}, {\"mode\": \"markers\", \"name\": \"IND\", \"text\": [\"39.3\"], \"x\": [39.3], \"y\": [\"IND\"], \"type\": \"scatter\"}, {\"mode\": \"markers\", \"name\": \"IDN\", \"text\": [\"23.6\"], \"x\": [23.6], \"y\": [\"IDN\"], \"type\": \"scatter\"}, {\"mode\": \"markers\", \"name\": \"ISR\", \"text\": [\"3.1\"], \"x\": [3.1], \"y\": [\"ISR\"], \"type\": \"scatter\"}, {\"mode\": \"markers\", \"name\": \"RUS\", \"text\": [\"7.4\"], \"x\": [7.4], \"y\": [\"RUS\"], \"type\": \"scatter\"}, {\"mode\": \"markers\", \"name\": \"SVN\", \"text\": [\"1.8\"], \"x\": [1.8], \"y\": [\"SVN\"], \"type\": \"scatter\"}, {\"mode\": \"markers\", \"name\": \"ZAF\", \"text\": [\"34.4\"], \"x\": [34.4], \"y\": [\"ZAF\"], \"type\": \"scatter\"}, {\"mode\": \"markers\", \"name\": \"COL\", \"text\": [\"17.2\"], \"x\": [17.2], \"y\": [\"COL\"], \"type\": \"scatter\"}, {\"mode\": \"markers\", \"name\": \"LVA\", \"text\": [\"3.8\"], \"x\": [3.8], \"y\": [\"LVA\"], \"type\": \"scatter\"}, {\"mode\": \"markers\", \"name\": \"LTU\", \"text\": [\"3.9\"], \"x\": [3.9], \"y\": [\"LTU\"], \"type\": \"scatter\"}, {\"mode\": \"markers\", \"name\": \"CRI\", \"text\": [\"8.6\"], \"x\": [8.6], \"y\": [\"CRI\"], \"type\": \"scatter\"}], \"name\": \"2014\"}, {\"data\": [{\"mode\": \"markers\", \"name\": \"AUS\", \"text\": [\"3.2\"], \"x\": [3.2], \"y\": [\"AUS\"], \"type\": \"scatter\"}, {\"mode\": \"markers\", \"name\": \"AUT\", \"text\": [\"3.1\"], \"x\": [3.1], \"y\": [\"AUT\"], \"type\": \"scatter\"}, {\"mode\": \"markers\", \"name\": \"BEL\", \"text\": [\"3.3\"], \"x\": [3.3], \"y\": [\"BEL\"], \"type\": \"scatter\"}, {\"mode\": \"markers\", \"name\": \"CAN\", \"text\": [\"0\"], \"x\": [0], \"y\": [\"CAN\"], \"type\": \"scatter\"}, {\"mode\": \"markers\", \"name\": \"CZE\", \"text\": [\"2.5\"], \"x\": [2.5], \"y\": [\"CZE\"], \"type\": \"scatter\"}, {\"mode\": \"markers\", \"name\": \"DNK\", \"text\": [\"3.7\"], \"x\": [3.7], \"y\": [\"DNK\"], \"type\": \"scatter\"}, {\"mode\": \"markers\", \"name\": \"FIN\", \"text\": [\"1.7\"], \"x\": [1.7], \"y\": [\"FIN\"], \"type\": \"scatter\"}, {\"mode\": \"markers\", \"name\": \"FRA\", \"text\": [\"3.7\"], \"x\": [3.7], \"y\": [\"FRA\"], \"type\": \"scatter\"}, {\"mode\": \"markers\", \"name\": \"DEU\", \"text\": [\"3.3\"], \"x\": [3.3], \"y\": [\"DEU\"], \"type\": \"scatter\"}, {\"mode\": \"markers\", \"name\": \"GRC\", \"text\": [\"4.0\"], \"x\": [4.0], \"y\": [\"GRC\"], \"type\": \"scatter\"}, {\"mode\": \"markers\", \"name\": \"HUN\", \"text\": [\"4.2\"], \"x\": [4.2], \"y\": [\"HUN\"], \"type\": \"scatter\"}, {\"mode\": \"markers\", \"name\": \"ISL\", \"text\": [\"2.2\"], \"x\": [2.2], \"y\": [\"ISL\"], \"type\": \"scatter\"}, {\"mode\": \"markers\", \"name\": \"IRL\", \"text\": [\"3.4\"], \"x\": [3.4], \"y\": [\"IRL\"], \"type\": \"scatter\"}, {\"mode\": \"markers\", \"name\": \"ITA\", \"text\": [\"2.9\"], \"x\": [2.9], \"y\": [\"ITA\"], \"type\": \"scatter\"}, {\"mode\": \"markers\", \"name\": \"JPN\", \"text\": [\"1.9\"], \"x\": [1.9], \"y\": [\"JPN\"], \"type\": \"scatter\"}, {\"mode\": \"markers\", \"name\": \"KOR\", \"text\": [\"2.7\"], \"x\": [2.7], \"y\": [\"KOR\"], \"type\": \"scatter\"}, {\"mode\": \"markers\", \"name\": \"LUX\", \"text\": [\"2.8\"], \"x\": [2.8], \"y\": [\"LUX\"], \"type\": \"scatter\"}, {\"mode\": \"markers\", \"name\": \"MEX\", \"text\": [\"12.5\"], \"x\": [12.5], \"y\": [\"MEX\"], \"type\": \"scatter\"}, {\"mode\": \"markers\", \"name\": \"NLD\", \"text\": [\"3.3\"], \"x\": [3.3], \"y\": [\"NLD\"], \"type\": \"scatter\"}, {\"mode\": \"markers\", \"name\": \"NZL\", \"text\": [\"0\"], \"x\": [0], \"y\": [\"NZL\"], \"type\": \"scatter\"}, {\"mode\": \"markers\", \"name\": \"NOR\", \"text\": [\"2.3\"], \"x\": [2.3], \"y\": [\"NOR\"], \"type\": \"scatter\"}, {\"mode\": \"markers\", \"name\": \"POL\", \"text\": [\"4.0\"], \"x\": [4.0], \"y\": [\"POL\"], \"type\": \"scatter\"}, {\"mode\": \"markers\", \"name\": \"PRT\", \"text\": [\"2.9\"], \"x\": [2.9], \"y\": [\"PRT\"], \"type\": \"scatter\"}, {\"mode\": \"markers\", \"name\": \"SVK\", \"text\": [\"5.1\"], \"x\": [5.1], \"y\": [\"SVK\"], \"type\": \"scatter\"}, {\"mode\": \"markers\", \"name\": \"ESP\", \"text\": [\"2.7\"], \"x\": [2.7], \"y\": [\"ESP\"], \"type\": \"scatter\"}, {\"mode\": \"markers\", \"name\": \"SWE\", \"text\": [\"2.5\"], \"x\": [2.5], \"y\": [\"SWE\"], \"type\": \"scatter\"}, {\"mode\": \"markers\", \"name\": \"CHE\", \"text\": [\"3.9\"], \"x\": [3.9], \"y\": [\"CHE\"], \"type\": \"scatter\"}, {\"mode\": \"markers\", \"name\": \"TUR\", \"text\": [\"10.2\"], \"x\": [10.2], \"y\": [\"TUR\"], \"type\": \"scatter\"}, {\"mode\": \"markers\", \"name\": \"GBR\", \"text\": [\"3.9\"], \"x\": [3.9], \"y\": [\"GBR\"], \"type\": \"scatter\"}, {\"mode\": \"markers\", \"name\": \"USA\", \"text\": [\"5.9\"], \"x\": [5.9], \"y\": [\"USA\"], \"type\": \"scatter\"}, {\"mode\": \"markers\", \"name\": \"BRA\", \"text\": [\"14.6\"], \"x\": [14.6], \"y\": [\"BRA\"], \"type\": \"scatter\"}, {\"mode\": \"markers\", \"name\": \"CHL\", \"text\": [\"6.9\"], \"x\": [6.9], \"y\": [\"CHL\"], \"type\": \"scatter\"}, {\"mode\": \"markers\", \"name\": \"CHN\", \"text\": [\"9.2\"], \"x\": [9.2], \"y\": [\"CHN\"], \"type\": \"scatter\"}, {\"mode\": \"markers\", \"name\": \"EST\", \"text\": [\"2.5\"], \"x\": [2.5], \"y\": [\"EST\"], \"type\": \"scatter\"}, {\"mode\": \"markers\", \"name\": \"IND\", \"text\": [\"37.9\"], \"x\": [37.9], \"y\": [\"IND\"], \"type\": \"scatter\"}, {\"mode\": \"markers\", \"name\": \"IDN\", \"text\": [\"22.8\"], \"x\": [22.8], \"y\": [\"IDN\"], \"type\": \"scatter\"}, {\"mode\": \"markers\", \"name\": \"ISR\", \"text\": [\"3.1\"], \"x\": [3.1], \"y\": [\"ISR\"], \"type\": \"scatter\"}, {\"mode\": \"markers\", \"name\": \"RUS\", \"text\": [\"6.5\"], \"x\": [6.5], \"y\": [\"RUS\"], \"type\": \"scatter\"}, {\"mode\": \"markers\", \"name\": \"SVN\", \"text\": [\"1.6\"], \"x\": [1.6], \"y\": [\"SVN\"], \"type\": \"scatter\"}, {\"mode\": \"markers\", \"name\": \"ZAF\", \"text\": [\"33.6\"], \"x\": [33.6], \"y\": [\"ZAF\"], \"type\": \"scatter\"}, {\"mode\": \"markers\", \"name\": \"COL\", \"text\": [\"17.1\"], \"x\": [17.1], \"y\": [\"COL\"], \"type\": \"scatter\"}, {\"mode\": \"markers\", \"name\": \"LVA\", \"text\": [\"4.1\"], \"x\": [4.1], \"y\": [\"LVA\"], \"type\": \"scatter\"}, {\"mode\": \"markers\", \"name\": \"LTU\", \"text\": [\"4.2\"], \"x\": [4.2], \"y\": [\"LTU\"], \"type\": \"scatter\"}, {\"mode\": \"markers\", \"name\": \"CRI\", \"text\": [\"8.5\"], \"x\": [8.5], \"y\": [\"CRI\"], \"type\": \"scatter\"}], \"name\": \"2015\"}, {\"data\": [{\"mode\": \"markers\", \"name\": \"AUS\", \"text\": [\"3.1\"], \"x\": [3.1], \"y\": [\"AUS\"], \"type\": \"scatter\"}, {\"mode\": \"markers\", \"name\": \"AUT\", \"text\": [\"3.1\"], \"x\": [3.1], \"y\": [\"AUT\"], \"type\": \"scatter\"}, {\"mode\": \"markers\", \"name\": \"BEL\", \"text\": [\"3.2\"], \"x\": [3.2], \"y\": [\"BEL\"], \"type\": \"scatter\"}, {\"mode\": \"markers\", \"name\": \"CAN\", \"text\": [\"0\"], \"x\": [0], \"y\": [\"CAN\"], \"type\": \"scatter\"}, {\"mode\": \"markers\", \"name\": \"CZE\", \"text\": [\"2.8\"], \"x\": [2.8], \"y\": [\"CZE\"], \"type\": \"scatter\"}, {\"mode\": \"markers\", \"name\": \"DNK\", \"text\": [\"3.1\"], \"x\": [3.1], \"y\": [\"DNK\"], \"type\": \"scatter\"}, {\"mode\": \"markers\", \"name\": \"FIN\", \"text\": [\"1.9\"], \"x\": [1.9], \"y\": [\"FIN\"], \"type\": \"scatter\"}, {\"mode\": \"markers\", \"name\": \"FRA\", \"text\": [\"3.7\"], \"x\": [3.7], \"y\": [\"FRA\"], \"type\": \"scatter\"}, {\"mode\": \"markers\", \"name\": \"DEU\", \"text\": [\"3.4\"], \"x\": [3.4], \"y\": [\"DEU\"], \"type\": \"scatter\"}, {\"mode\": \"markers\", \"name\": \"GRC\", \"text\": [\"4.2\"], \"x\": [4.2], \"y\": [\"GRC\"], \"type\": \"scatter\"}, {\"mode\": \"markers\", \"name\": \"HUN\", \"text\": [\"3.9\"], \"x\": [3.9], \"y\": [\"HUN\"], \"type\": \"scatter\"}, {\"mode\": \"markers\", \"name\": \"ISL\", \"text\": [\"0.7\"], \"x\": [0.7], \"y\": [\"ISL\"], \"type\": \"scatter\"}, {\"mode\": \"markers\", \"name\": \"IRL\", \"text\": [\"3.0\"], \"x\": [3.0], \"y\": [\"IRL\"], \"type\": \"scatter\"}, {\"mode\": \"markers\", \"name\": \"ITA\", \"text\": [\"2.8\"], \"x\": [2.8], \"y\": [\"ITA\"], \"type\": \"scatter\"}, {\"mode\": \"markers\", \"name\": \"JPN\", \"text\": [\"2.0\"], \"x\": [2.0], \"y\": [\"JPN\"], \"type\": \"scatter\"}, {\"mode\": \"markers\", \"name\": \"KOR\", \"text\": [\"2.8\"], \"x\": [2.8], \"y\": [\"KOR\"], \"type\": \"scatter\"}, {\"mode\": \"markers\", \"name\": \"LUX\", \"text\": [\"3.8\"], \"x\": [3.8], \"y\": [\"LUX\"], \"type\": \"scatter\"}, {\"mode\": \"markers\", \"name\": \"MEX\", \"text\": [\"12.1\"], \"x\": [12.1], \"y\": [\"MEX\"], \"type\": \"scatter\"}, {\"mode\": \"markers\", \"name\": \"NLD\", \"text\": [\"3.5\"], \"x\": [3.5], \"y\": [\"NLD\"], \"type\": \"scatter\"}, {\"mode\": \"markers\", \"name\": \"NZL\", \"text\": [\"0\"], \"x\": [0], \"y\": [\"NZL\"], \"type\": \"scatter\"}, {\"mode\": \"markers\", \"name\": \"NOR\", \"text\": [\"2.2\"], \"x\": [2.2], \"y\": [\"NOR\"], \"type\": \"scatter\"}, {\"mode\": \"markers\", \"name\": \"POL\", \"text\": [\"4.0\"], \"x\": [4.0], \"y\": [\"POL\"], \"type\": \"scatter\"}, {\"mode\": \"markers\", \"name\": \"PRT\", \"text\": [\"3.2\"], \"x\": [3.2], \"y\": [\"PRT\"], \"type\": \"scatter\"}, {\"mode\": \"markers\", \"name\": \"SVK\", \"text\": [\"5.4\"], \"x\": [5.4], \"y\": [\"SVK\"], \"type\": \"scatter\"}, {\"mode\": \"markers\", \"name\": \"ESP\", \"text\": [\"2.7\"], \"x\": [2.7], \"y\": [\"ESP\"], \"type\": \"scatter\"}, {\"mode\": \"markers\", \"name\": \"SWE\", \"text\": [\"2.5\"], \"x\": [2.5], \"y\": [\"SWE\"], \"type\": \"scatter\"}, {\"mode\": \"markers\", \"name\": \"CHE\", \"text\": [\"3.6\"], \"x\": [3.6], \"y\": [\"CHE\"], \"type\": \"scatter\"}, {\"mode\": \"markers\", \"name\": \"TUR\", \"text\": [\"10.0\"], \"x\": [10.0], \"y\": [\"TUR\"], \"type\": \"scatter\"}, {\"mode\": \"markers\", \"name\": \"GBR\", \"text\": [\"3.8\"], \"x\": [3.8], \"y\": [\"GBR\"], \"type\": \"scatter\"}, {\"mode\": \"markers\", \"name\": \"USA\", \"text\": [\"0\"], \"x\": [0], \"y\": [\"USA\"], \"type\": \"scatter\"}, {\"mode\": \"markers\", \"name\": \"BRA\", \"text\": [\"0\"], \"x\": [0], \"y\": [\"BRA\"], \"type\": \"scatter\"}, {\"mode\": \"markers\", \"name\": \"CHL\", \"text\": [\"0\"], \"x\": [0], \"y\": [\"CHL\"], \"type\": \"scatter\"}, {\"mode\": \"markers\", \"name\": \"CHN\", \"text\": [\"0\"], \"x\": [0], \"y\": [\"CHN\"], \"type\": \"scatter\"}, {\"mode\": \"markers\", \"name\": \"EST\", \"text\": [\"2.3\"], \"x\": [2.3], \"y\": [\"EST\"], \"type\": \"scatter\"}, {\"mode\": \"markers\", \"name\": \"IND\", \"text\": [\"0\"], \"x\": [0], \"y\": [\"IND\"], \"type\": \"scatter\"}, {\"mode\": \"markers\", \"name\": \"IDN\", \"text\": [\"0\"], \"x\": [0], \"y\": [\"IDN\"], \"type\": \"scatter\"}, {\"mode\": \"markers\", \"name\": \"ISR\", \"text\": [\"3.1\"], \"x\": [3.1], \"y\": [\"ISR\"], \"type\": \"scatter\"}, {\"mode\": \"markers\", \"name\": \"RUS\", \"text\": [\"6.0\"], \"x\": [6.0], \"y\": [\"RUS\"], \"type\": \"scatter\"}, {\"mode\": \"markers\", \"name\": \"SVN\", \"text\": [\"2.0\"], \"x\": [2.0], \"y\": [\"SVN\"], \"type\": \"scatter\"}, {\"mode\": \"markers\", \"name\": \"ZAF\", \"text\": [\"0\"], \"x\": [0], \"y\": [\"ZAF\"], \"type\": \"scatter\"}, {\"mode\": \"markers\", \"name\": \"COL\", \"text\": [\"0\"], \"x\": [0], \"y\": [\"COL\"], \"type\": \"scatter\"}, {\"mode\": \"markers\", \"name\": \"LVA\", \"text\": [\"3.7\"], \"x\": [3.7], \"y\": [\"LVA\"], \"type\": \"scatter\"}, {\"mode\": \"markers\", \"name\": \"LTU\", \"text\": [\"4.5\"], \"x\": [4.5], \"y\": [\"LTU\"], \"type\": \"scatter\"}, {\"mode\": \"markers\", \"name\": \"CRI\", \"text\": [\"0\"], \"x\": [0], \"y\": [\"CRI\"], \"type\": \"scatter\"}], \"name\": \"2016\"}]);}).then(function(){Plotly.animate('12660fa0-81e0-41c9-886d-58bf6724beb4');})\n",
       "    }\n",
       "        });</script>"
      ]
     },
     "metadata": {},
     "output_type": "display_data"
    }
   ],
   "source": [
    "firstyear = 1980\n",
    "years = list(range(firstyear, 2017))\n",
    "\n",
    "# make list of continents\n",
    "countries = []\n",
    "for country in data['LOCATION']:\n",
    "    if country not in countries:\n",
    "        countries.append(country)\n",
    "# make figure\n",
    "figure = {\n",
    "    'data': [],\n",
    "    'layout': {},\n",
    "    'frames': []\n",
    "}\n",
    "\n",
    "# fill in most of layout\n",
    "figure['layout']={'autosize': False, 'width':1000,'height':1000}\n",
    "figure['layout']['xaxis'] = {'title': 'Infant Mortality per 1000 Live Births'}\n",
    "figure['layout']['yaxis'] = {'title': 'Country','ticktext': countries}\n",
    "figure['layout']['hovermode'] = 'closest'\n",
    "figure['layout']['sliders'] = {\n",
    "    'args': [\n",
    "        'transition', {\n",
    "            'duration': 400,\n",
    "            'easing': 'cubic-in-out'\n",
    "        }\n",
    "    ],\n",
    "    'initialValue': str(firstyear),\n",
    "    'plotlycommand': 'animate',\n",
    "    'values': years,\n",
    "    'visible': True\n",
    "}\n",
    "figure['layout']['updatemenus'] = [\n",
    "    {\n",
    "        'buttons': [\n",
    "            {\n",
    "                'args': [None, {'frame': {'duration': 500, 'redraw': False},\n",
    "                         'fromcurrent': True, 'transition': {'duration': 300, 'easing': 'quadratic-in-out'}}],\n",
    "                'label': 'Play',\n",
    "                'method': 'animate'\n",
    "            },\n",
    "            {\n",
    "                'args': [[None], {'frame': {'duration': 0, 'redraw': False}, 'mode': 'immediate',\n",
    "                'transition': {'duration': 0}}],\n",
    "                'label': 'Pause',\n",
    "                'method': 'animate'\n",
    "            }\n",
    "        ],\n",
    "        'direction': 'left',\n",
    "        'pad': {'r': 10, 't': 87},\n",
    "        'showactive': False,\n",
    "        'type': 'buttons',\n",
    "        'x': 0.1,\n",
    "        'xanchor': 'right',\n",
    "        'y': 0,\n",
    "        'yanchor': 'top'\n",
    "    }\n",
    "]\n",
    "\n",
    "sliders_dict = {\n",
    "    'active': 0,\n",
    "    'yanchor': 'top',\n",
    "    'xanchor': 'left',\n",
    "    'currentvalue': {\n",
    "        'font': {'size': 20},\n",
    "        'prefix': 'Year:',\n",
    "        'visible': True,\n",
    "        'xanchor': 'right'\n",
    "    },\n",
    "    'transition': {'duration': 300, 'easing': 'cubic-in-out'},\n",
    "    'pad': {'b': 10, 't': 50},\n",
    "    'len': 0.9,\n",
    "    'x': 0.1,\n",
    "    'y': 0,\n",
    "    'steps': []\n",
    "}\n",
    "\n",
    "# make data\n",
    "# make frames\n",
    "for year in years:\n",
    "    frame = {'data': [], 'name': str(year)}\n",
    "    for country in countries:\n",
    "        dataset_by_year = data[data['TIME'] == int(year)]\n",
    "        dataset_by_year_and_cont = dataset_by_year[dataset_by_year['LOCATION'] == country]\n",
    "\n",
    "        if dataset_by_year_and_cont.empty:\n",
    "            data_dict = {\n",
    "                'x': [0],\n",
    "                'y': [country],\n",
    "                'mode': 'markers',\n",
    "                'text': [0],\n",
    "        #         'marker': {\n",
    "        #             'sizemode': 'area',\n",
    "        #             'sizeref': 200000,\n",
    "        #             'size': list(dataset_by_year_and_cont['pop'])\n",
    "        #         },\n",
    "                'name': country\n",
    "            }\n",
    "        else:\n",
    "            data_dict = {\n",
    "                'x': list(dataset_by_year_and_cont['Value']),\n",
    "                'y': list(dataset_by_year_and_cont['LOCATION']),\n",
    "                'mode': 'markers',\n",
    "                'text': list(dataset_by_year_and_cont['Value']),\n",
    "        #         'marker': {\n",
    "        #             'sizemode': 'area',\n",
    "        #             'sizeref': 200000,\n",
    "        #             'size': list(dataset_by_year_and_cont['pop'])\n",
    "        #         },\n",
    "                'name': country\n",
    "            }\n",
    "            \n",
    "        if year == firstyear: \n",
    "            figure['data'].append(data_dict)\n",
    "        frame['data'].append(data_dict)\n",
    "\n",
    "    figure['frames'].append(frame)\n",
    "    slider_step = {'args': [\n",
    "        [year],\n",
    "        {'frame': {'duration': 300, 'redraw': False},\n",
    "         'mode': 'immediate',\n",
    "       'transition': {'duration': 300}}\n",
    "     ],\n",
    "     'label': year,\n",
    "     'method': 'animate'}\n",
    "    sliders_dict['steps'].append(slider_step)\n",
    "\n",
    "    \n",
    "figure['layout']['sliders'] = [sliders_dict]\n",
    "# figure['data']\n",
    "\n",
    "iplot(figure)"
   ]
  }
 ],
 "metadata": {
  "kernelspec": {
   "display_name": "Python 3",
   "language": "python",
   "name": "python3"
  },
  "language_info": {
   "codemirror_mode": {
    "name": "ipython",
    "version": 3
   },
   "file_extension": ".py",
   "mimetype": "text/x-python",
   "name": "python",
   "nbconvert_exporter": "python",
   "pygments_lexer": "ipython3",
   "version": "3.7.2"
  }
 },
 "nbformat": 4,
 "nbformat_minor": 2
}
